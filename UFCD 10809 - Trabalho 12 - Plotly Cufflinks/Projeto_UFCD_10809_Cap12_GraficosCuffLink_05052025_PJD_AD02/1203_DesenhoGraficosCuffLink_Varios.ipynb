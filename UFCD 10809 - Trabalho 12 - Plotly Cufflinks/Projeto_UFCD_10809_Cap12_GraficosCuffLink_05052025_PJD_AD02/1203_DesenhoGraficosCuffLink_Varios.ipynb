{
 "cells": [
  {
   "cell_type": "markdown",
   "id": "4a941987",
   "metadata": {},
   "source": [
    "################################\n",
    "# Cell 01:\n",
    "################################\n",
    "\n",
    "<h1> Gráficos - Biblioteca \"Cufflinks\" </h1>\n",
    "\n",
    "\n",
    "\n",
    "<h1 style=\"background-color:orange;color:white;padding-top:10px;text-align:center;font-weight:bold;font-style:italic;font-size:2cm;padding-bottom:30px;\"> Gráficos - Biblioteca \"Cufflinks\"  </h1>\n",
    "\n",
    " Markdown\n",
    " SHIFT + ENTER\n"
   ]
  },
  {
   "cell_type": "markdown",
   "id": "0292d214",
   "metadata": {},
   "source": [
    "################################\n",
    "# Cell 02:\n",
    "################################\n",
    "\n",
    "<div style=\"margin-left:2%;\">\n",
    "<img style=\"float:left;margin:2px;height:150px;\" src=\"https://www.analyticssteps.com/backend/media/thumbnail/6350483/7807104_1578230927_time_analysis_tittle-banner%20(1).jpg\" width=\"32%\"/>\n",
    "<img style=\"float:left;margin:2px;height:150px;\" src=\"https://www.analyticssteps.com/backend/media/thumbnail/6350483/7807104_1578230927_time_analysis_tittle-banner%20(1).jpg\" width=\"32%\"/>\n",
    "<img style=\"float:left;margin:2px;height:150px;\" src=\"https://www.analyticssteps.com/backend/media/thumbnail/6350483/7807104_1578230927_time_analysis_tittle-banner%20(1).jpg\" width=\"32%\"/>\n",
    "</div>\n"
   ]
  },
  {
   "cell_type": "markdown",
   "id": "92b60a2b",
   "metadata": {},
   "source": [
    "################################\n",
    "# Cell 03:\n",
    "################################"
   ]
  },
  {
   "cell_type": "code",
   "execution_count": 1,
   "id": "1b9f0639",
   "metadata": {},
   "outputs": [
    {
     "data": {
      "text/html": [
       "        <script type=\"text/javascript\">\n",
       "        window.PlotlyConfig = {MathJaxConfig: 'local'};\n",
       "        if (window.MathJax && window.MathJax.Hub && window.MathJax.Hub.Config) {window.MathJax.Hub.Config({SVG: {font: \"STIX-Web\"}});}\n",
       "        </script>\n",
       "        <script type=\"module\">import \"https://cdn.plot.ly/plotly-3.0.1.min\"</script>\n",
       "        "
      ]
     },
     "metadata": {},
     "output_type": "display_data"
    }
   ],
   "source": [
    "# This will enable the use of Cufflinks with Plotly in offline mode.\n",
    "import cufflinks as cf\n",
    "cf.go_offline()\n"
   ]
  },
  {
   "cell_type": "markdown",
   "id": "015d31f1",
   "metadata": {},
   "source": [
    "################################\n",
    "# Cell 04:\n",
    "################################\n",
    "\n",
    "<h2>  Exemplo 01 - Line Plot </h2>\n",
    "\n",
    "\n",
    "<h2 style=\"background-color:orange;color:white;padding-top:10px;text-align:center;font-weight:bold;font-style:italic;font-size:1cm;padding-bottom:20px;\"> Exemplo 01 - Line Plot   </h2>\n",
    "\n",
    "\n",
    " Markdown\n",
    " SHIFT + ENTER"
   ]
  },
  {
   "cell_type": "markdown",
   "id": "4ff424ce",
   "metadata": {},
   "source": [
    "################################\n",
    "# Cell 05:\n",
    "################################\n"
   ]
  },
  {
   "cell_type": "code",
   "execution_count": 2,
   "id": "0d3f9b97",
   "metadata": {},
   "outputs": [
    {
     "data": {
      "application/vnd.plotly.v1+json": {
       "config": {
        "plotlyServerURL": "https://plot.ly"
       },
       "data": [
        {
         "hovertemplate": "Date=%{x}<br>AAPL.High=%{y}<extra></extra>",
         "legendgroup": "",
         "line": {
          "color": "#636efa",
          "dash": "solid"
         },
         "marker": {
          "symbol": "circle"
         },
         "mode": "lines",
         "name": "",
         "orientation": "v",
         "showlegend": false,
         "type": "scatter",
         "x": [
          "2015-02-17",
          "2015-02-18",
          "2015-02-19",
          "2015-02-20",
          "2015-02-23",
          "2015-02-24",
          "2015-02-25",
          "2015-02-26",
          "2015-02-27",
          "2015-03-02",
          "2015-03-03",
          "2015-03-04",
          "2015-03-05",
          "2015-03-06",
          "2015-03-09",
          "2015-03-10",
          "2015-03-11",
          "2015-03-12",
          "2015-03-13",
          "2015-03-16",
          "2015-03-17",
          "2015-03-18",
          "2015-03-19",
          "2015-03-20",
          "2015-03-23",
          "2015-03-24",
          "2015-03-25",
          "2015-03-26",
          "2015-03-27",
          "2015-03-30",
          "2015-03-31",
          "2015-04-01",
          "2015-04-02",
          "2015-04-06",
          "2015-04-07",
          "2015-04-08",
          "2015-04-09",
          "2015-04-10",
          "2015-04-13",
          "2015-04-14",
          "2015-04-15",
          "2015-04-16",
          "2015-04-17",
          "2015-04-20",
          "2015-04-21",
          "2015-04-22",
          "2015-04-23",
          "2015-04-24",
          "2015-04-27",
          "2015-04-28",
          "2015-04-29",
          "2015-04-30",
          "2015-05-01",
          "2015-05-04",
          "2015-05-05",
          "2015-05-06",
          "2015-05-07",
          "2015-05-08",
          "2015-05-11",
          "2015-05-12",
          "2015-05-13",
          "2015-05-14",
          "2015-05-15",
          "2015-05-18",
          "2015-05-19",
          "2015-05-20",
          "2015-05-21",
          "2015-05-22",
          "2015-05-26",
          "2015-05-27",
          "2015-05-28",
          "2015-05-29",
          "2015-06-01",
          "2015-06-02",
          "2015-06-03",
          "2015-06-04",
          "2015-06-05",
          "2015-06-08",
          "2015-06-09",
          "2015-06-10",
          "2015-06-11",
          "2015-06-12",
          "2015-06-15",
          "2015-06-16",
          "2015-06-17",
          "2015-06-18",
          "2015-06-19",
          "2015-06-22",
          "2015-06-23",
          "2015-06-24",
          "2015-06-25",
          "2015-06-26",
          "2015-06-29",
          "2015-06-30",
          "2015-07-01",
          "2015-07-02",
          "2015-07-06",
          "2015-07-07",
          "2015-07-08",
          "2015-07-09",
          "2015-07-10",
          "2015-07-13",
          "2015-07-14",
          "2015-07-15",
          "2015-07-16",
          "2015-07-17",
          "2015-07-20",
          "2015-07-21",
          "2015-07-22",
          "2015-07-23",
          "2015-07-24",
          "2015-07-27",
          "2015-07-28",
          "2015-07-29",
          "2015-07-30",
          "2015-07-31",
          "2015-08-03",
          "2015-08-04",
          "2015-08-05",
          "2015-08-06",
          "2015-08-07",
          "2015-08-10",
          "2015-08-11",
          "2015-08-12",
          "2015-08-13",
          "2015-08-14",
          "2015-08-17",
          "2015-08-18",
          "2015-08-19",
          "2015-08-20",
          "2015-08-21",
          "2015-08-24",
          "2015-08-25",
          "2015-08-26",
          "2015-08-27",
          "2015-08-28",
          "2015-08-31",
          "2015-09-01",
          "2015-09-02",
          "2015-09-03",
          "2015-09-04",
          "2015-09-08",
          "2015-09-09",
          "2015-09-10",
          "2015-09-11",
          "2015-09-14",
          "2015-09-15",
          "2015-09-16",
          "2015-09-17",
          "2015-09-18",
          "2015-09-21",
          "2015-09-22",
          "2015-09-23",
          "2015-09-24",
          "2015-09-25",
          "2015-09-28",
          "2015-09-29",
          "2015-09-30",
          "2015-10-01",
          "2015-10-02",
          "2015-10-05",
          "2015-10-06",
          "2015-10-07",
          "2015-10-08",
          "2015-10-09",
          "2015-10-12",
          "2015-10-13",
          "2015-10-14",
          "2015-10-15",
          "2015-10-16",
          "2015-10-19",
          "2015-10-20",
          "2015-10-21",
          "2015-10-22",
          "2015-10-23",
          "2015-10-26",
          "2015-10-27",
          "2015-10-28",
          "2015-10-29",
          "2015-10-30",
          "2015-11-02",
          "2015-11-03",
          "2015-11-04",
          "2015-11-05",
          "2015-11-06",
          "2015-11-09",
          "2015-11-10",
          "2015-11-11",
          "2015-11-12",
          "2015-11-13",
          "2015-11-16",
          "2015-11-17",
          "2015-11-18",
          "2015-11-19",
          "2015-11-20",
          "2015-11-23",
          "2015-11-24",
          "2015-11-25",
          "2015-11-27",
          "2015-11-30",
          "2015-12-01",
          "2015-12-02",
          "2015-12-03",
          "2015-12-04",
          "2015-12-07",
          "2015-12-08",
          "2015-12-09",
          "2015-12-10",
          "2015-12-11",
          "2015-12-14",
          "2015-12-15",
          "2015-12-16",
          "2015-12-17",
          "2015-12-18",
          "2015-12-21",
          "2015-12-22",
          "2015-12-23",
          "2015-12-24",
          "2015-12-28",
          "2015-12-29",
          "2015-12-30",
          "2015-12-31",
          "2016-01-04",
          "2016-01-05",
          "2016-01-06",
          "2016-01-07",
          "2016-01-08",
          "2016-01-11",
          "2016-01-12",
          "2016-01-13",
          "2016-01-14",
          "2016-01-15",
          "2016-01-19",
          "2016-01-20",
          "2016-01-21",
          "2016-01-22",
          "2016-01-25",
          "2016-01-26",
          "2016-01-27",
          "2016-01-28",
          "2016-01-29",
          "2016-02-01",
          "2016-02-02",
          "2016-02-03",
          "2016-02-04",
          "2016-02-05",
          "2016-02-08",
          "2016-02-09",
          "2016-02-10",
          "2016-02-11",
          "2016-02-12",
          "2016-02-16",
          "2016-02-17",
          "2016-02-18",
          "2016-02-19",
          "2016-02-22",
          "2016-02-23",
          "2016-02-24",
          "2016-02-25",
          "2016-02-26",
          "2016-02-29",
          "2016-03-01",
          "2016-03-02",
          "2016-03-03",
          "2016-03-04",
          "2016-03-07",
          "2016-03-08",
          "2016-03-09",
          "2016-03-10",
          "2016-03-11",
          "2016-03-14",
          "2016-03-15",
          "2016-03-16",
          "2016-03-17",
          "2016-03-18",
          "2016-03-21",
          "2016-03-22",
          "2016-03-23",
          "2016-03-24",
          "2016-03-28",
          "2016-03-29",
          "2016-03-30",
          "2016-03-31",
          "2016-04-01",
          "2016-04-04",
          "2016-04-05",
          "2016-04-06",
          "2016-04-07",
          "2016-04-08",
          "2016-04-11",
          "2016-04-12",
          "2016-04-13",
          "2016-04-14",
          "2016-04-15",
          "2016-04-18",
          "2016-04-19",
          "2016-04-20",
          "2016-04-21",
          "2016-04-22",
          "2016-04-25",
          "2016-04-26",
          "2016-04-27",
          "2016-04-28",
          "2016-04-29",
          "2016-05-02",
          "2016-05-03",
          "2016-05-04",
          "2016-05-05",
          "2016-05-06",
          "2016-05-09",
          "2016-05-10",
          "2016-05-11",
          "2016-05-12",
          "2016-05-13",
          "2016-05-16",
          "2016-05-17",
          "2016-05-18",
          "2016-05-19",
          "2016-05-20",
          "2016-05-23",
          "2016-05-24",
          "2016-05-25",
          "2016-05-26",
          "2016-05-27",
          "2016-05-31",
          "2016-06-01",
          "2016-06-02",
          "2016-06-03",
          "2016-06-06",
          "2016-06-07",
          "2016-06-08",
          "2016-06-09",
          "2016-06-10",
          "2016-06-13",
          "2016-06-14",
          "2016-06-15",
          "2016-06-16",
          "2016-06-17",
          "2016-06-20",
          "2016-06-21",
          "2016-06-22",
          "2016-06-23",
          "2016-06-24",
          "2016-06-27",
          "2016-06-28",
          "2016-06-29",
          "2016-06-30",
          "2016-07-01",
          "2016-07-05",
          "2016-07-06",
          "2016-07-07",
          "2016-07-08",
          "2016-07-11",
          "2016-07-12",
          "2016-07-13",
          "2016-07-14",
          "2016-07-15",
          "2016-07-18",
          "2016-07-19",
          "2016-07-20",
          "2016-07-21",
          "2016-07-22",
          "2016-07-25",
          "2016-07-26",
          "2016-07-27",
          "2016-07-28",
          "2016-07-29",
          "2016-08-01",
          "2016-08-02",
          "2016-08-03",
          "2016-08-04",
          "2016-08-05",
          "2016-08-08",
          "2016-08-09",
          "2016-08-10",
          "2016-08-11",
          "2016-08-12",
          "2016-08-15",
          "2016-08-16",
          "2016-08-17",
          "2016-08-18",
          "2016-08-19",
          "2016-08-22",
          "2016-08-23",
          "2016-08-24",
          "2016-08-25",
          "2016-08-26",
          "2016-08-29",
          "2016-08-30",
          "2016-08-31",
          "2016-09-01",
          "2016-09-02",
          "2016-09-06",
          "2016-09-07",
          "2016-09-08",
          "2016-09-09",
          "2016-09-12",
          "2016-09-13",
          "2016-09-14",
          "2016-09-15",
          "2016-09-16",
          "2016-09-19",
          "2016-09-20",
          "2016-09-21",
          "2016-09-22",
          "2016-09-23",
          "2016-09-26",
          "2016-09-27",
          "2016-09-28",
          "2016-09-29",
          "2016-09-30",
          "2016-10-03",
          "2016-10-04",
          "2016-10-05",
          "2016-10-06",
          "2016-10-07",
          "2016-10-10",
          "2016-10-11",
          "2016-10-12",
          "2016-10-13",
          "2016-10-14",
          "2016-10-17",
          "2016-10-18",
          "2016-10-19",
          "2016-10-20",
          "2016-10-21",
          "2016-10-24",
          "2016-10-25",
          "2016-10-26",
          "2016-10-27",
          "2016-10-28",
          "2016-10-31",
          "2016-11-01",
          "2016-11-02",
          "2016-11-03",
          "2016-11-04",
          "2016-11-07",
          "2016-11-08",
          "2016-11-09",
          "2016-11-10",
          "2016-11-11",
          "2016-11-14",
          "2016-11-15",
          "2016-11-16",
          "2016-11-17",
          "2016-11-18",
          "2016-11-21",
          "2016-11-22",
          "2016-11-23",
          "2016-11-25",
          "2016-11-28",
          "2016-11-29",
          "2016-11-30",
          "2016-12-01",
          "2016-12-02",
          "2016-12-05",
          "2016-12-06",
          "2016-12-07",
          "2016-12-08",
          "2016-12-09",
          "2016-12-12",
          "2016-12-13",
          "2016-12-14",
          "2016-12-15",
          "2016-12-16",
          "2016-12-19",
          "2016-12-20",
          "2016-12-21",
          "2016-12-22",
          "2016-12-23",
          "2016-12-27",
          "2016-12-28",
          "2016-12-29",
          "2016-12-30",
          "2017-01-03",
          "2017-01-04",
          "2017-01-05",
          "2017-01-06",
          "2017-01-09",
          "2017-01-10",
          "2017-01-11",
          "2017-01-12",
          "2017-01-13",
          "2017-01-17",
          "2017-01-18",
          "2017-01-19",
          "2017-01-20",
          "2017-01-23",
          "2017-01-24",
          "2017-01-25",
          "2017-01-26",
          "2017-01-27",
          "2017-01-30",
          "2017-01-31",
          "2017-02-01",
          "2017-02-02",
          "2017-02-03",
          "2017-02-06",
          "2017-02-07",
          "2017-02-08",
          "2017-02-09",
          "2017-02-10",
          "2017-02-13",
          "2017-02-14",
          "2017-02-15",
          "2017-02-16"
         ],
         "xaxis": "x",
         "y": {
          "bdata": "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",
          "dtype": "f8"
         },
         "yaxis": "y"
        }
       ],
       "layout": {
        "legend": {
         "tracegroupgap": 0
        },
        "template": {
         "data": {
          "bar": [
           {
            "error_x": {
             "color": "#2a3f5f"
            },
            "error_y": {
             "color": "#2a3f5f"
            },
            "marker": {
             "line": {
              "color": "#E5ECF6",
              "width": 0.5
             },
             "pattern": {
              "fillmode": "overlay",
              "size": 10,
              "solidity": 0.2
             }
            },
            "type": "bar"
           }
          ],
          "barpolar": [
           {
            "marker": {
             "line": {
              "color": "#E5ECF6",
              "width": 0.5
             },
             "pattern": {
              "fillmode": "overlay",
              "size": 10,
              "solidity": 0.2
             }
            },
            "type": "barpolar"
           }
          ],
          "carpet": [
           {
            "aaxis": {
             "endlinecolor": "#2a3f5f",
             "gridcolor": "white",
             "linecolor": "white",
             "minorgridcolor": "white",
             "startlinecolor": "#2a3f5f"
            },
            "baxis": {
             "endlinecolor": "#2a3f5f",
             "gridcolor": "white",
             "linecolor": "white",
             "minorgridcolor": "white",
             "startlinecolor": "#2a3f5f"
            },
            "type": "carpet"
           }
          ],
          "choropleth": [
           {
            "colorbar": {
             "outlinewidth": 0,
             "ticks": ""
            },
            "type": "choropleth"
           }
          ],
          "contour": [
           {
            "colorbar": {
             "outlinewidth": 0,
             "ticks": ""
            },
            "colorscale": [
             [
              0,
              "#0d0887"
             ],
             [
              0.1111111111111111,
              "#46039f"
             ],
             [
              0.2222222222222222,
              "#7201a8"
             ],
             [
              0.3333333333333333,
              "#9c179e"
             ],
             [
              0.4444444444444444,
              "#bd3786"
             ],
             [
              0.5555555555555556,
              "#d8576b"
             ],
             [
              0.6666666666666666,
              "#ed7953"
             ],
             [
              0.7777777777777778,
              "#fb9f3a"
             ],
             [
              0.8888888888888888,
              "#fdca26"
             ],
             [
              1,
              "#f0f921"
             ]
            ],
            "type": "contour"
           }
          ],
          "contourcarpet": [
           {
            "colorbar": {
             "outlinewidth": 0,
             "ticks": ""
            },
            "type": "contourcarpet"
           }
          ],
          "heatmap": [
           {
            "colorbar": {
             "outlinewidth": 0,
             "ticks": ""
            },
            "colorscale": [
             [
              0,
              "#0d0887"
             ],
             [
              0.1111111111111111,
              "#46039f"
             ],
             [
              0.2222222222222222,
              "#7201a8"
             ],
             [
              0.3333333333333333,
              "#9c179e"
             ],
             [
              0.4444444444444444,
              "#bd3786"
             ],
             [
              0.5555555555555556,
              "#d8576b"
             ],
             [
              0.6666666666666666,
              "#ed7953"
             ],
             [
              0.7777777777777778,
              "#fb9f3a"
             ],
             [
              0.8888888888888888,
              "#fdca26"
             ],
             [
              1,
              "#f0f921"
             ]
            ],
            "type": "heatmap"
           }
          ],
          "histogram": [
           {
            "marker": {
             "pattern": {
              "fillmode": "overlay",
              "size": 10,
              "solidity": 0.2
             }
            },
            "type": "histogram"
           }
          ],
          "histogram2d": [
           {
            "colorbar": {
             "outlinewidth": 0,
             "ticks": ""
            },
            "colorscale": [
             [
              0,
              "#0d0887"
             ],
             [
              0.1111111111111111,
              "#46039f"
             ],
             [
              0.2222222222222222,
              "#7201a8"
             ],
             [
              0.3333333333333333,
              "#9c179e"
             ],
             [
              0.4444444444444444,
              "#bd3786"
             ],
             [
              0.5555555555555556,
              "#d8576b"
             ],
             [
              0.6666666666666666,
              "#ed7953"
             ],
             [
              0.7777777777777778,
              "#fb9f3a"
             ],
             [
              0.8888888888888888,
              "#fdca26"
             ],
             [
              1,
              "#f0f921"
             ]
            ],
            "type": "histogram2d"
           }
          ],
          "histogram2dcontour": [
           {
            "colorbar": {
             "outlinewidth": 0,
             "ticks": ""
            },
            "colorscale": [
             [
              0,
              "#0d0887"
             ],
             [
              0.1111111111111111,
              "#46039f"
             ],
             [
              0.2222222222222222,
              "#7201a8"
             ],
             [
              0.3333333333333333,
              "#9c179e"
             ],
             [
              0.4444444444444444,
              "#bd3786"
             ],
             [
              0.5555555555555556,
              "#d8576b"
             ],
             [
              0.6666666666666666,
              "#ed7953"
             ],
             [
              0.7777777777777778,
              "#fb9f3a"
             ],
             [
              0.8888888888888888,
              "#fdca26"
             ],
             [
              1,
              "#f0f921"
             ]
            ],
            "type": "histogram2dcontour"
           }
          ],
          "mesh3d": [
           {
            "colorbar": {
             "outlinewidth": 0,
             "ticks": ""
            },
            "type": "mesh3d"
           }
          ],
          "parcoords": [
           {
            "line": {
             "colorbar": {
              "outlinewidth": 0,
              "ticks": ""
             }
            },
            "type": "parcoords"
           }
          ],
          "pie": [
           {
            "automargin": true,
            "type": "pie"
           }
          ],
          "scatter": [
           {
            "fillpattern": {
             "fillmode": "overlay",
             "size": 10,
             "solidity": 0.2
            },
            "type": "scatter"
           }
          ],
          "scatter3d": [
           {
            "line": {
             "colorbar": {
              "outlinewidth": 0,
              "ticks": ""
             }
            },
            "marker": {
             "colorbar": {
              "outlinewidth": 0,
              "ticks": ""
             }
            },
            "type": "scatter3d"
           }
          ],
          "scattercarpet": [
           {
            "marker": {
             "colorbar": {
              "outlinewidth": 0,
              "ticks": ""
             }
            },
            "type": "scattercarpet"
           }
          ],
          "scattergeo": [
           {
            "marker": {
             "colorbar": {
              "outlinewidth": 0,
              "ticks": ""
             }
            },
            "type": "scattergeo"
           }
          ],
          "scattergl": [
           {
            "marker": {
             "colorbar": {
              "outlinewidth": 0,
              "ticks": ""
             }
            },
            "type": "scattergl"
           }
          ],
          "scattermap": [
           {
            "marker": {
             "colorbar": {
              "outlinewidth": 0,
              "ticks": ""
             }
            },
            "type": "scattermap"
           }
          ],
          "scattermapbox": [
           {
            "marker": {
             "colorbar": {
              "outlinewidth": 0,
              "ticks": ""
             }
            },
            "type": "scattermapbox"
           }
          ],
          "scatterpolar": [
           {
            "marker": {
             "colorbar": {
              "outlinewidth": 0,
              "ticks": ""
             }
            },
            "type": "scatterpolar"
           }
          ],
          "scatterpolargl": [
           {
            "marker": {
             "colorbar": {
              "outlinewidth": 0,
              "ticks": ""
             }
            },
            "type": "scatterpolargl"
           }
          ],
          "scatterternary": [
           {
            "marker": {
             "colorbar": {
              "outlinewidth": 0,
              "ticks": ""
             }
            },
            "type": "scatterternary"
           }
          ],
          "surface": [
           {
            "colorbar": {
             "outlinewidth": 0,
             "ticks": ""
            },
            "colorscale": [
             [
              0,
              "#0d0887"
             ],
             [
              0.1111111111111111,
              "#46039f"
             ],
             [
              0.2222222222222222,
              "#7201a8"
             ],
             [
              0.3333333333333333,
              "#9c179e"
             ],
             [
              0.4444444444444444,
              "#bd3786"
             ],
             [
              0.5555555555555556,
              "#d8576b"
             ],
             [
              0.6666666666666666,
              "#ed7953"
             ],
             [
              0.7777777777777778,
              "#fb9f3a"
             ],
             [
              0.8888888888888888,
              "#fdca26"
             ],
             [
              1,
              "#f0f921"
             ]
            ],
            "type": "surface"
           }
          ],
          "table": [
           {
            "cells": {
             "fill": {
              "color": "#EBF0F8"
             },
             "line": {
              "color": "white"
             }
            },
            "header": {
             "fill": {
              "color": "#C8D4E3"
             },
             "line": {
              "color": "white"
             }
            },
            "type": "table"
           }
          ]
         },
         "layout": {
          "annotationdefaults": {
           "arrowcolor": "#2a3f5f",
           "arrowhead": 0,
           "arrowwidth": 1
          },
          "autotypenumbers": "strict",
          "coloraxis": {
           "colorbar": {
            "outlinewidth": 0,
            "ticks": ""
           }
          },
          "colorscale": {
           "diverging": [
            [
             0,
             "#8e0152"
            ],
            [
             0.1,
             "#c51b7d"
            ],
            [
             0.2,
             "#de77ae"
            ],
            [
             0.3,
             "#f1b6da"
            ],
            [
             0.4,
             "#fde0ef"
            ],
            [
             0.5,
             "#f7f7f7"
            ],
            [
             0.6,
             "#e6f5d0"
            ],
            [
             0.7,
             "#b8e186"
            ],
            [
             0.8,
             "#7fbc41"
            ],
            [
             0.9,
             "#4d9221"
            ],
            [
             1,
             "#276419"
            ]
           ],
           "sequential": [
            [
             0,
             "#0d0887"
            ],
            [
             0.1111111111111111,
             "#46039f"
            ],
            [
             0.2222222222222222,
             "#7201a8"
            ],
            [
             0.3333333333333333,
             "#9c179e"
            ],
            [
             0.4444444444444444,
             "#bd3786"
            ],
            [
             0.5555555555555556,
             "#d8576b"
            ],
            [
             0.6666666666666666,
             "#ed7953"
            ],
            [
             0.7777777777777778,
             "#fb9f3a"
            ],
            [
             0.8888888888888888,
             "#fdca26"
            ],
            [
             1,
             "#f0f921"
            ]
           ],
           "sequentialminus": [
            [
             0,
             "#0d0887"
            ],
            [
             0.1111111111111111,
             "#46039f"
            ],
            [
             0.2222222222222222,
             "#7201a8"
            ],
            [
             0.3333333333333333,
             "#9c179e"
            ],
            [
             0.4444444444444444,
             "#bd3786"
            ],
            [
             0.5555555555555556,
             "#d8576b"
            ],
            [
             0.6666666666666666,
             "#ed7953"
            ],
            [
             0.7777777777777778,
             "#fb9f3a"
            ],
            [
             0.8888888888888888,
             "#fdca26"
            ],
            [
             1,
             "#f0f921"
            ]
           ]
          },
          "colorway": [
           "#636efa",
           "#EF553B",
           "#00cc96",
           "#ab63fa",
           "#FFA15A",
           "#19d3f3",
           "#FF6692",
           "#B6E880",
           "#FF97FF",
           "#FECB52"
          ],
          "font": {
           "color": "#2a3f5f"
          },
          "geo": {
           "bgcolor": "white",
           "lakecolor": "white",
           "landcolor": "#E5ECF6",
           "showlakes": true,
           "showland": true,
           "subunitcolor": "white"
          },
          "hoverlabel": {
           "align": "left"
          },
          "hovermode": "closest",
          "mapbox": {
           "style": "light"
          },
          "paper_bgcolor": "white",
          "plot_bgcolor": "#E5ECF6",
          "polar": {
           "angularaxis": {
            "gridcolor": "white",
            "linecolor": "white",
            "ticks": ""
           },
           "bgcolor": "#E5ECF6",
           "radialaxis": {
            "gridcolor": "white",
            "linecolor": "white",
            "ticks": ""
           }
          },
          "scene": {
           "xaxis": {
            "backgroundcolor": "#E5ECF6",
            "gridcolor": "white",
            "gridwidth": 2,
            "linecolor": "white",
            "showbackground": true,
            "ticks": "",
            "zerolinecolor": "white"
           },
           "yaxis": {
            "backgroundcolor": "#E5ECF6",
            "gridcolor": "white",
            "gridwidth": 2,
            "linecolor": "white",
            "showbackground": true,
            "ticks": "",
            "zerolinecolor": "white"
           },
           "zaxis": {
            "backgroundcolor": "#E5ECF6",
            "gridcolor": "white",
            "gridwidth": 2,
            "linecolor": "white",
            "showbackground": true,
            "ticks": "",
            "zerolinecolor": "white"
           }
          },
          "shapedefaults": {
           "line": {
            "color": "#2a3f5f"
           }
          },
          "ternary": {
           "aaxis": {
            "gridcolor": "white",
            "linecolor": "white",
            "ticks": ""
           },
           "baxis": {
            "gridcolor": "white",
            "linecolor": "white",
            "ticks": ""
           },
           "bgcolor": "#E5ECF6",
           "caxis": {
            "gridcolor": "white",
            "linecolor": "white",
            "ticks": ""
           }
          },
          "title": {
           "x": 0.05
          },
          "xaxis": {
           "automargin": true,
           "gridcolor": "white",
           "linecolor": "white",
           "ticks": "",
           "title": {
            "standoff": 15
           },
           "zerolinecolor": "white",
           "zerolinewidth": 2
          },
          "yaxis": {
           "automargin": true,
           "gridcolor": "white",
           "linecolor": "white",
           "ticks": "",
           "title": {
            "standoff": 15
           },
           "zerolinecolor": "white",
           "zerolinewidth": 2
          }
         }
        },
        "title": {
         "text": "AAPL High Prices"
        },
        "xaxis": {
         "anchor": "y",
         "domain": [
          0,
          1
         ],
         "title": {
          "text": "Date"
         }
        },
        "yaxis": {
         "anchor": "x",
         "domain": [
          0,
          1
         ],
         "title": {
          "text": "AAPL.High"
         }
        }
       }
      },
      "text/html": [
       "<div>            <script src=\"https://cdnjs.cloudflare.com/ajax/libs/mathjax/2.7.5/MathJax.js?config=TeX-AMS-MML_SVG\"></script><script type=\"text/javascript\">if (window.MathJax && window.MathJax.Hub && window.MathJax.Hub.Config) {window.MathJax.Hub.Config({SVG: {font: \"STIX-Web\"}});}</script>                <script type=\"text/javascript\">window.PlotlyConfig = {MathJaxConfig: 'local'};</script>\n",
       "        <script charset=\"utf-8\" src=\"https://cdn.plot.ly/plotly-3.0.1.min.js\"></script>                <div id=\"48478bac-0651-4bc5-b202-af1c4fc94e81\" class=\"plotly-graph-div\" style=\"height:525px; width:100%;\"></div>            <script type=\"text/javascript\">                window.PLOTLYENV=window.PLOTLYENV || {};                                if (document.getElementById(\"48478bac-0651-4bc5-b202-af1c4fc94e81\")) {                    Plotly.newPlot(                        \"48478bac-0651-4bc5-b202-af1c4fc94e81\",                        [{\"hovertemplate\":\"Date=%{x}\\u003cbr\\u003eAAPL.High=%{y}\\u003cextra\\u003e\\u003c\\u002fextra\\u003e\",\"legendgroup\":\"\",\"line\":{\"color\":\"#636efa\",\"dash\":\"solid\"},\"marker\":{\"symbol\":\"circle\"},\"mode\":\"lines\",\"name\":\"\",\"orientation\":\"v\",\"showlegend\":false,\"x\":[\"2015-02-17\",\"2015-02-18\",\"2015-02-19\",\"2015-02-20\",\"2015-02-23\",\"2015-02-24\",\"2015-02-25\",\"2015-02-26\",\"2015-02-27\",\"2015-03-02\",\"2015-03-03\",\"2015-03-04\",\"2015-03-05\",\"2015-03-06\",\"2015-03-09\",\"2015-03-10\",\"2015-03-11\",\"2015-03-12\",\"2015-03-13\",\"2015-03-16\",\"2015-03-17\",\"2015-03-18\",\"2015-03-19\",\"2015-03-20\",\"2015-03-23\",\"2015-03-24\",\"2015-03-25\",\"2015-03-26\",\"2015-03-27\",\"2015-03-30\",\"2015-03-31\",\"2015-04-01\",\"2015-04-02\",\"2015-04-06\",\"2015-04-07\",\"2015-04-08\",\"2015-04-09\",\"2015-04-10\",\"2015-04-13\",\"2015-04-14\",\"2015-04-15\",\"2015-04-16\",\"2015-04-17\",\"2015-04-20\",\"2015-04-21\",\"2015-04-22\",\"2015-04-23\",\"2015-04-24\",\"2015-04-27\",\"2015-04-28\",\"2015-04-29\",\"2015-04-30\",\"2015-05-01\",\"2015-05-04\",\"2015-05-05\",\"2015-05-06\",\"2015-05-07\",\"2015-05-08\",\"2015-05-11\",\"2015-05-12\",\"2015-05-13\",\"2015-05-14\",\"2015-05-15\",\"2015-05-18\",\"2015-05-19\",\"2015-05-20\",\"2015-05-21\",\"2015-05-22\",\"2015-05-26\",\"2015-05-27\",\"2015-05-28\",\"2015-05-29\",\"2015-06-01\",\"2015-06-02\",\"2015-06-03\",\"2015-06-04\",\"2015-06-05\",\"2015-06-08\",\"2015-06-09\",\"2015-06-10\",\"2015-06-11\",\"2015-06-12\",\"2015-06-15\",\"2015-06-16\",\"2015-06-17\",\"2015-06-18\",\"2015-06-19\",\"2015-06-22\",\"2015-06-23\",\"2015-06-24\",\"2015-06-25\",\"2015-06-26\",\"2015-06-29\",\"2015-06-30\",\"2015-07-01\",\"2015-07-02\",\"2015-07-06\",\"2015-07-07\",\"2015-07-08\",\"2015-07-09\",\"2015-07-10\",\"2015-07-13\",\"2015-07-14\",\"2015-07-15\",\"2015-07-16\",\"2015-07-17\",\"2015-07-20\",\"2015-07-21\",\"2015-07-22\",\"2015-07-23\",\"2015-07-24\",\"2015-07-27\",\"2015-07-28\",\"2015-07-29\",\"2015-07-30\",\"2015-07-31\",\"2015-08-03\",\"2015-08-04\",\"2015-08-05\",\"2015-08-06\",\"2015-08-07\",\"2015-08-10\",\"2015-08-11\",\"2015-08-12\",\"2015-08-13\",\"2015-08-14\",\"2015-08-17\",\"2015-08-18\",\"2015-08-19\",\"2015-08-20\",\"2015-08-21\",\"2015-08-24\",\"2015-08-25\",\"2015-08-26\",\"2015-08-27\",\"2015-08-28\",\"2015-08-31\",\"2015-09-01\",\"2015-09-02\",\"2015-09-03\",\"2015-09-04\",\"2015-09-08\",\"2015-09-09\",\"2015-09-10\",\"2015-09-11\",\"2015-09-14\",\"2015-09-15\",\"2015-09-16\",\"2015-09-17\",\"2015-09-18\",\"2015-09-21\",\"2015-09-22\",\"2015-09-23\",\"2015-09-24\",\"2015-09-25\",\"2015-09-28\",\"2015-09-29\",\"2015-09-30\",\"2015-10-01\",\"2015-10-02\",\"2015-10-05\",\"2015-10-06\",\"2015-10-07\",\"2015-10-08\",\"2015-10-09\",\"2015-10-12\",\"2015-10-13\",\"2015-10-14\",\"2015-10-15\",\"2015-10-16\",\"2015-10-19\",\"2015-10-20\",\"2015-10-21\",\"2015-10-22\",\"2015-10-23\",\"2015-10-26\",\"2015-10-27\",\"2015-10-28\",\"2015-10-29\",\"2015-10-30\",\"2015-11-02\",\"2015-11-03\",\"2015-11-04\",\"2015-11-05\",\"2015-11-06\",\"2015-11-09\",\"2015-11-10\",\"2015-11-11\",\"2015-11-12\",\"2015-11-13\",\"2015-11-16\",\"2015-11-17\",\"2015-11-18\",\"2015-11-19\",\"2015-11-20\",\"2015-11-23\",\"2015-11-24\",\"2015-11-25\",\"2015-11-27\",\"2015-11-30\",\"2015-12-01\",\"2015-12-02\",\"2015-12-03\",\"2015-12-04\",\"2015-12-07\",\"2015-12-08\",\"2015-12-09\",\"2015-12-10\",\"2015-12-11\",\"2015-12-14\",\"2015-12-15\",\"2015-12-16\",\"2015-12-17\",\"2015-12-18\",\"2015-12-21\",\"2015-12-22\",\"2015-12-23\",\"2015-12-24\",\"2015-12-28\",\"2015-12-29\",\"2015-12-30\",\"2015-12-31\",\"2016-01-04\",\"2016-01-05\",\"2016-01-06\",\"2016-01-07\",\"2016-01-08\",\"2016-01-11\",\"2016-01-12\",\"2016-01-13\",\"2016-01-14\",\"2016-01-15\",\"2016-01-19\",\"2016-01-20\",\"2016-01-21\",\"2016-01-22\",\"2016-01-25\",\"2016-01-26\",\"2016-01-27\",\"2016-01-28\",\"2016-01-29\",\"2016-02-01\",\"2016-02-02\",\"2016-02-03\",\"2016-02-04\",\"2016-02-05\",\"2016-02-08\",\"2016-02-09\",\"2016-02-10\",\"2016-02-11\",\"2016-02-12\",\"2016-02-16\",\"2016-02-17\",\"2016-02-18\",\"2016-02-19\",\"2016-02-22\",\"2016-02-23\",\"2016-02-24\",\"2016-02-25\",\"2016-02-26\",\"2016-02-29\",\"2016-03-01\",\"2016-03-02\",\"2016-03-03\",\"2016-03-04\",\"2016-03-07\",\"2016-03-08\",\"2016-03-09\",\"2016-03-10\",\"2016-03-11\",\"2016-03-14\",\"2016-03-15\",\"2016-03-16\",\"2016-03-17\",\"2016-03-18\",\"2016-03-21\",\"2016-03-22\",\"2016-03-23\",\"2016-03-24\",\"2016-03-28\",\"2016-03-29\",\"2016-03-30\",\"2016-03-31\",\"2016-04-01\",\"2016-04-04\",\"2016-04-05\",\"2016-04-06\",\"2016-04-07\",\"2016-04-08\",\"2016-04-11\",\"2016-04-12\",\"2016-04-13\",\"2016-04-14\",\"2016-04-15\",\"2016-04-18\",\"2016-04-19\",\"2016-04-20\",\"2016-04-21\",\"2016-04-22\",\"2016-04-25\",\"2016-04-26\",\"2016-04-27\",\"2016-04-28\",\"2016-04-29\",\"2016-05-02\",\"2016-05-03\",\"2016-05-04\",\"2016-05-05\",\"2016-05-06\",\"2016-05-09\",\"2016-05-10\",\"2016-05-11\",\"2016-05-12\",\"2016-05-13\",\"2016-05-16\",\"2016-05-17\",\"2016-05-18\",\"2016-05-19\",\"2016-05-20\",\"2016-05-23\",\"2016-05-24\",\"2016-05-25\",\"2016-05-26\",\"2016-05-27\",\"2016-05-31\",\"2016-06-01\",\"2016-06-02\",\"2016-06-03\",\"2016-06-06\",\"2016-06-07\",\"2016-06-08\",\"2016-06-09\",\"2016-06-10\",\"2016-06-13\",\"2016-06-14\",\"2016-06-15\",\"2016-06-16\",\"2016-06-17\",\"2016-06-20\",\"2016-06-21\",\"2016-06-22\",\"2016-06-23\",\"2016-06-24\",\"2016-06-27\",\"2016-06-28\",\"2016-06-29\",\"2016-06-30\",\"2016-07-01\",\"2016-07-05\",\"2016-07-06\",\"2016-07-07\",\"2016-07-08\",\"2016-07-11\",\"2016-07-12\",\"2016-07-13\",\"2016-07-14\",\"2016-07-15\",\"2016-07-18\",\"2016-07-19\",\"2016-07-20\",\"2016-07-21\",\"2016-07-22\",\"2016-07-25\",\"2016-07-26\",\"2016-07-27\",\"2016-07-28\",\"2016-07-29\",\"2016-08-01\",\"2016-08-02\",\"2016-08-03\",\"2016-08-04\",\"2016-08-05\",\"2016-08-08\",\"2016-08-09\",\"2016-08-10\",\"2016-08-11\",\"2016-08-12\",\"2016-08-15\",\"2016-08-16\",\"2016-08-17\",\"2016-08-18\",\"2016-08-19\",\"2016-08-22\",\"2016-08-23\",\"2016-08-24\",\"2016-08-25\",\"2016-08-26\",\"2016-08-29\",\"2016-08-30\",\"2016-08-31\",\"2016-09-01\",\"2016-09-02\",\"2016-09-06\",\"2016-09-07\",\"2016-09-08\",\"2016-09-09\",\"2016-09-12\",\"2016-09-13\",\"2016-09-14\",\"2016-09-15\",\"2016-09-16\",\"2016-09-19\",\"2016-09-20\",\"2016-09-21\",\"2016-09-22\",\"2016-09-23\",\"2016-09-26\",\"2016-09-27\",\"2016-09-28\",\"2016-09-29\",\"2016-09-30\",\"2016-10-03\",\"2016-10-04\",\"2016-10-05\",\"2016-10-06\",\"2016-10-07\",\"2016-10-10\",\"2016-10-11\",\"2016-10-12\",\"2016-10-13\",\"2016-10-14\",\"2016-10-17\",\"2016-10-18\",\"2016-10-19\",\"2016-10-20\",\"2016-10-21\",\"2016-10-24\",\"2016-10-25\",\"2016-10-26\",\"2016-10-27\",\"2016-10-28\",\"2016-10-31\",\"2016-11-01\",\"2016-11-02\",\"2016-11-03\",\"2016-11-04\",\"2016-11-07\",\"2016-11-08\",\"2016-11-09\",\"2016-11-10\",\"2016-11-11\",\"2016-11-14\",\"2016-11-15\",\"2016-11-16\",\"2016-11-17\",\"2016-11-18\",\"2016-11-21\",\"2016-11-22\",\"2016-11-23\",\"2016-11-25\",\"2016-11-28\",\"2016-11-29\",\"2016-11-30\",\"2016-12-01\",\"2016-12-02\",\"2016-12-05\",\"2016-12-06\",\"2016-12-07\",\"2016-12-08\",\"2016-12-09\",\"2016-12-12\",\"2016-12-13\",\"2016-12-14\",\"2016-12-15\",\"2016-12-16\",\"2016-12-19\",\"2016-12-20\",\"2016-12-21\",\"2016-12-22\",\"2016-12-23\",\"2016-12-27\",\"2016-12-28\",\"2016-12-29\",\"2016-12-30\",\"2017-01-03\",\"2017-01-04\",\"2017-01-05\",\"2017-01-06\",\"2017-01-09\",\"2017-01-10\",\"2017-01-11\",\"2017-01-12\",\"2017-01-13\",\"2017-01-17\",\"2017-01-18\",\"2017-01-19\",\"2017-01-20\",\"2017-01-23\",\"2017-01-24\",\"2017-01-25\",\"2017-01-26\",\"2017-01-27\",\"2017-01-30\",\"2017-01-31\",\"2017-02-01\",\"2017-02-02\",\"2017-02-03\",\"2017-02-06\",\"2017-02-07\",\"2017-02-08\",\"2017-02-09\",\"2017-02-10\",\"2017-02-13\",\"2017-02-14\",\"2017-02-15\",\"2017-02-16\"],\"xaxis\":\"x\",\"y\":{\"dtype\":\"f8\",\"bdata\":\"Ieo+ACkcYEA1fXbA9RhgQDV9dsD1IGBAAAAAAAAwYEAAAAAAAKBgQOxsyD8zs2BA7GzIPzNzYEDfFcH\\u002f1ltgQLfvUX89UmBANX12wPVIYEBBuW3fozBgQGr67IDrMWBAAAAAAAAYYEDfFcH\\u002f1itgQLfvUX89MmBAlgUTfxTOX0ApQX+hRzFfQGoV\\u002faGZOV9AahX9oZlZX0AUkzfAzDxfQBSuR+F61F9AVWe1wB4lYEAAAAAAAChgQBSTN8DMDGBAluoCXmb2X0A1YmafRwFgQBSuR+F6tF9AAOXv3lE4X0AUkzfAzCxfQGoV\\u002faGZmV9Av0aSIFyfX0AAGxAhrkdfQNP02QHXY19AQblt36PgX0DfFcH\\u002f1gNgQGoV\\u002faGZmV9AVWe1wB6lX0BVTKWfcM1fQLfvUX89EmBAq7NaYI\\u002fSX0AA5e\\u002feUchfQJbqAl5mxl9AQZ5dvvWIX0DfFcH\\u002f1gNgQIrJG2BmBmBA3xXB\\u002f9YbYEBVTKWfcE1gQCHqPgApVGBAIeo+ACmkYEA1YmafR9FgQKuYSj\\u002fhcmBAIM8u33oUYEAh6j4AKURgQLfvUX89UmBAiskbYGYOYEAAAAAAALBfQFVntcAehV9AABsQIa7nX0DT9NkB1+NfQADl795RuF9ALQsm\\u002fijMX0CKyRtgZh5gQAw89x6uL2BAy4KJPwpXYEAh6j4AKVxgQL9GkiBcX2BAIeo+ACl0YEDLgok\\u002fCp9gQFVntcAenWBA9MMI4VGIYECKyRtgZn5gQIrJG2BmbmBAIM8u33psYEBVZ7XAHlVgQJYFE38UXmBAq7NaYI9SYECWBRN\\u002fFDZgQMudmWC4JmBAq7NaYI8CYECrmEo\\u002f4SpgQEkQroDCRWBAq7NaYI8KYEC\\u002fRpIgXM9fQJbqAl5m9l9AAOXv3lH4X0Bq+uyA6wlgQBSuR+F69F9AavrsgOsBYEC\\u002fYaJBCudfQHY25J+ZOWBAiskbYGYmYEC\\u002fRpIgXP9fQJYFE38Unl9AABsQIa6HX0AtCyb+KLxfQC0LJv4orF9A176AXriOX0BqFf2hmYlfQEGeXb71KF9A0\\u002fTZAdcDX0CW6gJeZvZeQEG5bd+jcF9AABsQIa6XX0BqFf2hmclfQLfvUX89EmBA3xXB\\u002f9YzYEDLgok\\u002fCp9gQFVMpZ9wnWBAAAAAAABgX0BVMZV+wsVfQL9GkiBcb19Av2GiQQrnXkCrzmqBPfpeQAAAAAAA4F5AFK5H4XqkXkBBnl2+9aheQBSuR+F6pF5AFJM3wMxsXUAtCyb+KFxdQAAAAAAAIF1AAAAAAAAQXUC\\u002fRpIgXP9dQOxRuB6Fi11Aq5hKP+HaXEBqFf2hmRldQNP02QHXE11AahX9oZlpXUAtCyb+KFxdQClBf6FHIV1AluoCXmaWXEBqFf2hmflbQOxsyD8zM1tAv2GiQQrHW0BBnl2+9XhbQL9GkiBcT1xA0\\u002fTZAddTXEBq+uyA66FcQADl795R+FtAVTGVfsIVXEBq+uyA6zFcQBSTN8DMnFtA0\\u002fTZAdcjXEApQX+hR4FcQGr67IDrUVxAVUyln3CNXEBBnl2+9ThdQGr67IDrIV1Aq7NaYI8iXUC\\u002fRpIgXB9dQOxsyD8zk1xAABsQIa7XXEDsUbgehYtcQJYFE38UrlxAAAAAAADgXEAtCyb+KCxdQBSuR+F6pFxAQblt36NgXECrs1pgj+JbQAAbECGuZ1tAQblt36PAW0AAGxAhrtdbQL9GkiBc71tAKUF\\u002foUfxW0AtCyb+KIxbQGr67IDrEVxAAAAAAAAwXEAUkzfAzBxcQClBf6FH4VtAluoCXmYGXEAAAAAAAABcQAAAAAAA8FtAq5hKP+GKXEBVZ7XAHuVcQAAAAAAA4FxA176AXrjOXUAA5e\\u002feUYhdQKuzWmCPIl1A7GzIPzPTXUAtCyb+KCxeQJYFE38UTl5Av2GiQQpXXkC\\u002fRpIgXN9eQBSuR+F69F5ALQsm\\u002fiisXkDT9NkB13NeQNP02QHXc15AFK5H4XqEXUCrmEo\\u002f4VpdQBSuR+F6NF1AFK5H4XrkXEC\\u002fRpIgXI9cQOxsyD8zw1xAv0aSIFxfXUAAAAAAAPBdQKuYSj\\u002fh+l1A176AXrjuXUCW6gJeZtZdQNe+gF64zl1Aq85qgT2aXUCrzmqBPdpdQNP02QHXs11Av2GiQQqHXUCrs1pgjzJdQAAAAAAA0F1Av2GiQQr3XUCW6gJeZqZdQC0LJv4obF1ALQsm\\u002fig8XUBBnl2+9dhcQOxRuB6FK1xA7GzIPzMzXEC\\u002fRpIgXP9bQAAAAAAAEFxAKUF\\u002foUdhW0AAGxAhrtdaQJYFE38U7lpAluoCXmY2W0AAAAAAAEBbQC0LJv4o7FpA7FG4HoVbW0AUkzfAzCxbQGr67IDrwVpAABsQIa5XWkCW6gJeZnZaQAAbECGul1lAAOXv3lEIWUC\\u002fYaJBCsdYQNP02QHXw1hALQsm\\u002figsWUAtCyb+KExZQNe+gF64HllAVUyln3BtWEBqFf2hmalYQC0LJv4ojFhAAOXv3lF4WEBVTKWfcF1ZQGr67IDrYVlAAOXv3lE4WUAA5e\\u002feUShYQClBf6FHoVdAVTGVfsJVWEBVTKWfcC1YQKuzWmCPAlhAVTGVfsI1WEBVZ7XAHlVYQKuYSj\\u002fhOlhAFJM3wMzsV0AtCyb+KPxXQJbqAl5mFlhAlgUTfxSuV0AAAAAAAKBXQJbqAl5mNlhAVUyln3CNWEBBnl2+9bhYQEG5bd+jMFhAahX9oZk5WEAAAAAAACBYQADl795RGFhAQblt36MwWEApQX+hR4FYQNe+gF64jlhAKUF\\u002foUcxWUBBnl2+9ThZQFVMpZ9wbVlAAAAAAADwWUBVZ7XAHrVZQEG5bd+jcFlAVWe1wB5lWUC\\u002fRpIgXI9ZQGr67IDrkVlAq85qgT26WUDsUbgehUtaQNP02QHXk1pAlgUTfxSeWkAAAAAAAKBaQGoV\\u002faGZ6VpAq7NaYI\\u002fSWkAUrkfhesRaQAAAAAAAkFpALQsm\\u002fiiMWkCrs1pgj\\u002fJaQKuYSj\\u002fhmltAahX9oZl5W0AAAAAAAIBbQC0LJv4oDFxA176AXriuW0DXvoBeuL5bQKuYSj\\u002fhmltAKUF\\u002foUdxW0C\\u002fYaJBCqdbQAAAAAAAoFtAVTGVfsIVXEBBnl2+9RhcQOxsyD8zE1xAFJM3wMw8W0AAAAAAAABbQFUxlX7CBVtA7FG4HoW7WkDXvoBeuJ5aQGoV\\u002faGZaVpA7GzIPzNTWkBVTKWfcK1YQADl795ReFhAlgUTfxSuV0BVZ7XAHoVXQL9GkiBc71dAahX9oZn5V0AUrkfheoRXQBSTN8DMXFdAKUF\\u002foUdxV0AUrkfhemRXQBSuR+F6ZFdAavrsgOsxV0CrmEo\\u002f4epWQEGeXb71mFdAFJM3wMysV0BVTKWfcM1XQEGeXb71qFdA7FG4HoXbV0AtCyb+KExYQFUxlX7ChVhAv0aSIFzvWEDXvoBeuC5ZQJYFE38UHllAahX9oZkZWUCrs1pgj+JYQFUxlX7CdVhAKUF\\u002foUeRWEBBnl2+9XhZQAAbECGu91hA0\\u002fTZAdfjWEC\\u002fRpIgXP9YQJbqAl5m1lhAABsQIa7HWEDXvoBeuJ5YQKvOaoE9mlhAAAAAAABwWEBqFf2hmSlYQBSuR+F6JFhAluoCXmYWWEBBnl2+9ThYQKuzWmCPElhAq85qgT2qV0DsbMg\\u002fM0NXQKvOaoE9aldA7GzIPzOjV0ApQX+hR\\u002fFXQJYFE38UHlhAahX9oZnZV0CrzmqBPepXQAAAAAAAIFhAQZ5dvvU4WEBqFf2hmWlYQBSTN8DMbFhAq5hKP+FqWEC\\u002fRpIgXL9YQOxsyD8z01hAAOXv3lEIWUAAAAAAAABZQFVMpZ9wHVlAAAAAAABAWUDsbMg\\u002fM9NYQFUxlX7CtVhAlgUTfxR+WECW6gJeZhZaQBSTN8DMHFpA7GzIPzMjWkBqFf2hmYlaQBSuR+F6hFpAVTGVfsJ1WkAAAAAAAIBaQGoV\\u002faGZ6VpAABsQIa4XW0AtCyb+KDxbQGoV\\u002faGZOVtA7FG4HoU7W0AtCyb+KBxbQKuzWmCPYltA176AXriOW0AAGxAhrldbQJbqAl5mZltALQsm\\u002fihsW0CW6gJeZkZbQBSuR+F6VFtAAAAAAAAwW0AA5e\\u002feUfhaQBSTN8DM\\u002fFpALQsm\\u002fijcWkAAAAAAAKBaQBSuR+F6pFpA7GzIPzOzWkAAAAAAAABbQOxsyD8zE1tAQblt36MwW0ApQX+hR9FaQJYFE38UblpAlgUTfxRuWkCrs1pgjzJbQGr67IDrQVxA176AXrjuXEAA5e\\u002feUQhdQOxRuB6FC11AABsQIa6HXEC\\u002fRpIgXH9cQC0LJv4ovFxAq7NaYI+yXEBBnl2+9VhcQOxRuB6FS1xAQZ5dvvWoXEDsbMg\\u002fM3NcQAAbECGuV1xA7GzIPzNDXEDT9NkB15NcQKvOaoE9alxAVTGVfsKVXEDT9NkB16NcQAAAAAAAMF1ALQsm\\u002fiisXUDXvoBeuH5dQC0LJv4oXF1Aq5hKP+GKXUBVMZV+wnVdQFVMpZ9wjV1AQblt36NwXUAA5e\\u002feUVhdQKvOaoE9Ol1Av0aSIFxvXUC\\u002fYaJBCpddQBSTN8DM7FxAv2GiQQr3XEBVTKWfcM1cQNe+gF64jlxAKUF\\u002foUdxXECW6gJeZhZcQFVMpZ9w3VtAAAAAAACQW0BBuW3fo6BbQJYFE38U7ltAFK5H4XrUW0BVMZV+wsVbQAAbECGuN1tA0\\u002fTZAdfzWkDsUbgehetaQNe+gF64jltAluoCXmaWW0Crs1pgj6JbQL9GkiBc\\u002f1tAq5hKP+EaXEBBuW3fo+BbQAAbECGu91tAlgUTfxQeXEBq+uyA6wFcQBSTN8DMDFxALQsm\\u002fii8W0BVMZV+woVbQGr67IDrgVtAv2GiQQqXW0AtCyb+KMxbQOxRuB6FG1xAFJM3wMysXEAAAAAAAMBcQKuYSj\\u002fh+lxAFJM3wMwMXUDXvoBeuC5dQAAAAAAAIF1AAOXv3lFYXUAAAAAAAGBdQGoV\\u002faGZWV1AQblt36MgXUApQX+hRyFdQOxsyD8zc11AKUF\\u002foUeBXUC\\u002fYaJBCkddQBSTN8DMTF1AVWe1wB4VXUBBuW3foyBdQL9hokEKN11Aq85qgT2KXUDsUbgehdtdQADl795R2F1A7FG4HoX7XUDsbMg\\u002fM9NdQAAbECGu511Av0aSIFwPXkAAAAAAACBeQFUxlX7CBV5AFJM3wMwcXkDT9NkB1zNeQJbqAl5mBl5AluoCXmaGXkAtCyb+KJxeQJbqAl5mll5AAOXv3lFoXkBBnl2+9VheQAw89x6uT2BAIM8u33osYECWBRN\\u002fFCZgQAAAAAAAUGBAq5hKP+GCYEDLgok\\u002fCodgQIrJG2BmjmBAlgUTfxSeYEC371F\\u002fPbpgQKuYSj\\u002fh4mBAQblt36MIYUAUkzfAzPxgQA==\"},\"yaxis\":\"y\",\"type\":\"scatter\"}],                        {\"template\":{\"data\":{\"histogram2dcontour\":[{\"type\":\"histogram2dcontour\",\"colorbar\":{\"outlinewidth\":0,\"ticks\":\"\"},\"colorscale\":[[0.0,\"#0d0887\"],[0.1111111111111111,\"#46039f\"],[0.2222222222222222,\"#7201a8\"],[0.3333333333333333,\"#9c179e\"],[0.4444444444444444,\"#bd3786\"],[0.5555555555555556,\"#d8576b\"],[0.6666666666666666,\"#ed7953\"],[0.7777777777777778,\"#fb9f3a\"],[0.8888888888888888,\"#fdca26\"],[1.0,\"#f0f921\"]]}],\"choropleth\":[{\"type\":\"choropleth\",\"colorbar\":{\"outlinewidth\":0,\"ticks\":\"\"}}],\"histogram2d\":[{\"type\":\"histogram2d\",\"colorbar\":{\"outlinewidth\":0,\"ticks\":\"\"},\"colorscale\":[[0.0,\"#0d0887\"],[0.1111111111111111,\"#46039f\"],[0.2222222222222222,\"#7201a8\"],[0.3333333333333333,\"#9c179e\"],[0.4444444444444444,\"#bd3786\"],[0.5555555555555556,\"#d8576b\"],[0.6666666666666666,\"#ed7953\"],[0.7777777777777778,\"#fb9f3a\"],[0.8888888888888888,\"#fdca26\"],[1.0,\"#f0f921\"]]}],\"heatmap\":[{\"type\":\"heatmap\",\"colorbar\":{\"outlinewidth\":0,\"ticks\":\"\"},\"colorscale\":[[0.0,\"#0d0887\"],[0.1111111111111111,\"#46039f\"],[0.2222222222222222,\"#7201a8\"],[0.3333333333333333,\"#9c179e\"],[0.4444444444444444,\"#bd3786\"],[0.5555555555555556,\"#d8576b\"],[0.6666666666666666,\"#ed7953\"],[0.7777777777777778,\"#fb9f3a\"],[0.8888888888888888,\"#fdca26\"],[1.0,\"#f0f921\"]]}],\"contourcarpet\":[{\"type\":\"contourcarpet\",\"colorbar\":{\"outlinewidth\":0,\"ticks\":\"\"}}],\"contour\":[{\"type\":\"contour\",\"colorbar\":{\"outlinewidth\":0,\"ticks\":\"\"},\"colorscale\":[[0.0,\"#0d0887\"],[0.1111111111111111,\"#46039f\"],[0.2222222222222222,\"#7201a8\"],[0.3333333333333333,\"#9c179e\"],[0.4444444444444444,\"#bd3786\"],[0.5555555555555556,\"#d8576b\"],[0.6666666666666666,\"#ed7953\"],[0.7777777777777778,\"#fb9f3a\"],[0.8888888888888888,\"#fdca26\"],[1.0,\"#f0f921\"]]}],\"surface\":[{\"type\":\"surface\",\"colorbar\":{\"outlinewidth\":0,\"ticks\":\"\"},\"colorscale\":[[0.0,\"#0d0887\"],[0.1111111111111111,\"#46039f\"],[0.2222222222222222,\"#7201a8\"],[0.3333333333333333,\"#9c179e\"],[0.4444444444444444,\"#bd3786\"],[0.5555555555555556,\"#d8576b\"],[0.6666666666666666,\"#ed7953\"],[0.7777777777777778,\"#fb9f3a\"],[0.8888888888888888,\"#fdca26\"],[1.0,\"#f0f921\"]]}],\"mesh3d\":[{\"type\":\"mesh3d\",\"colorbar\":{\"outlinewidth\":0,\"ticks\":\"\"}}],\"scatter\":[{\"fillpattern\":{\"fillmode\":\"overlay\",\"size\":10,\"solidity\":0.2},\"type\":\"scatter\"}],\"parcoords\":[{\"type\":\"parcoords\",\"line\":{\"colorbar\":{\"outlinewidth\":0,\"ticks\":\"\"}}}],\"scatterpolargl\":[{\"type\":\"scatterpolargl\",\"marker\":{\"colorbar\":{\"outlinewidth\":0,\"ticks\":\"\"}}}],\"bar\":[{\"error_x\":{\"color\":\"#2a3f5f\"},\"error_y\":{\"color\":\"#2a3f5f\"},\"marker\":{\"line\":{\"color\":\"#E5ECF6\",\"width\":0.5},\"pattern\":{\"fillmode\":\"overlay\",\"size\":10,\"solidity\":0.2}},\"type\":\"bar\"}],\"scattergeo\":[{\"type\":\"scattergeo\",\"marker\":{\"colorbar\":{\"outlinewidth\":0,\"ticks\":\"\"}}}],\"scatterpolar\":[{\"type\":\"scatterpolar\",\"marker\":{\"colorbar\":{\"outlinewidth\":0,\"ticks\":\"\"}}}],\"histogram\":[{\"marker\":{\"pattern\":{\"fillmode\":\"overlay\",\"size\":10,\"solidity\":0.2}},\"type\":\"histogram\"}],\"scattergl\":[{\"type\":\"scattergl\",\"marker\":{\"colorbar\":{\"outlinewidth\":0,\"ticks\":\"\"}}}],\"scatter3d\":[{\"type\":\"scatter3d\",\"line\":{\"colorbar\":{\"outlinewidth\":0,\"ticks\":\"\"}},\"marker\":{\"colorbar\":{\"outlinewidth\":0,\"ticks\":\"\"}}}],\"scattermap\":[{\"type\":\"scattermap\",\"marker\":{\"colorbar\":{\"outlinewidth\":0,\"ticks\":\"\"}}}],\"scattermapbox\":[{\"type\":\"scattermapbox\",\"marker\":{\"colorbar\":{\"outlinewidth\":0,\"ticks\":\"\"}}}],\"scatterternary\":[{\"type\":\"scatterternary\",\"marker\":{\"colorbar\":{\"outlinewidth\":0,\"ticks\":\"\"}}}],\"scattercarpet\":[{\"type\":\"scattercarpet\",\"marker\":{\"colorbar\":{\"outlinewidth\":0,\"ticks\":\"\"}}}],\"carpet\":[{\"aaxis\":{\"endlinecolor\":\"#2a3f5f\",\"gridcolor\":\"white\",\"linecolor\":\"white\",\"minorgridcolor\":\"white\",\"startlinecolor\":\"#2a3f5f\"},\"baxis\":{\"endlinecolor\":\"#2a3f5f\",\"gridcolor\":\"white\",\"linecolor\":\"white\",\"minorgridcolor\":\"white\",\"startlinecolor\":\"#2a3f5f\"},\"type\":\"carpet\"}],\"table\":[{\"cells\":{\"fill\":{\"color\":\"#EBF0F8\"},\"line\":{\"color\":\"white\"}},\"header\":{\"fill\":{\"color\":\"#C8D4E3\"},\"line\":{\"color\":\"white\"}},\"type\":\"table\"}],\"barpolar\":[{\"marker\":{\"line\":{\"color\":\"#E5ECF6\",\"width\":0.5},\"pattern\":{\"fillmode\":\"overlay\",\"size\":10,\"solidity\":0.2}},\"type\":\"barpolar\"}],\"pie\":[{\"automargin\":true,\"type\":\"pie\"}]},\"layout\":{\"autotypenumbers\":\"strict\",\"colorway\":[\"#636efa\",\"#EF553B\",\"#00cc96\",\"#ab63fa\",\"#FFA15A\",\"#19d3f3\",\"#FF6692\",\"#B6E880\",\"#FF97FF\",\"#FECB52\"],\"font\":{\"color\":\"#2a3f5f\"},\"hovermode\":\"closest\",\"hoverlabel\":{\"align\":\"left\"},\"paper_bgcolor\":\"white\",\"plot_bgcolor\":\"#E5ECF6\",\"polar\":{\"bgcolor\":\"#E5ECF6\",\"angularaxis\":{\"gridcolor\":\"white\",\"linecolor\":\"white\",\"ticks\":\"\"},\"radialaxis\":{\"gridcolor\":\"white\",\"linecolor\":\"white\",\"ticks\":\"\"}},\"ternary\":{\"bgcolor\":\"#E5ECF6\",\"aaxis\":{\"gridcolor\":\"white\",\"linecolor\":\"white\",\"ticks\":\"\"},\"baxis\":{\"gridcolor\":\"white\",\"linecolor\":\"white\",\"ticks\":\"\"},\"caxis\":{\"gridcolor\":\"white\",\"linecolor\":\"white\",\"ticks\":\"\"}},\"coloraxis\":{\"colorbar\":{\"outlinewidth\":0,\"ticks\":\"\"}},\"colorscale\":{\"sequential\":[[0.0,\"#0d0887\"],[0.1111111111111111,\"#46039f\"],[0.2222222222222222,\"#7201a8\"],[0.3333333333333333,\"#9c179e\"],[0.4444444444444444,\"#bd3786\"],[0.5555555555555556,\"#d8576b\"],[0.6666666666666666,\"#ed7953\"],[0.7777777777777778,\"#fb9f3a\"],[0.8888888888888888,\"#fdca26\"],[1.0,\"#f0f921\"]],\"sequentialminus\":[[0.0,\"#0d0887\"],[0.1111111111111111,\"#46039f\"],[0.2222222222222222,\"#7201a8\"],[0.3333333333333333,\"#9c179e\"],[0.4444444444444444,\"#bd3786\"],[0.5555555555555556,\"#d8576b\"],[0.6666666666666666,\"#ed7953\"],[0.7777777777777778,\"#fb9f3a\"],[0.8888888888888888,\"#fdca26\"],[1.0,\"#f0f921\"]],\"diverging\":[[0,\"#8e0152\"],[0.1,\"#c51b7d\"],[0.2,\"#de77ae\"],[0.3,\"#f1b6da\"],[0.4,\"#fde0ef\"],[0.5,\"#f7f7f7\"],[0.6,\"#e6f5d0\"],[0.7,\"#b8e186\"],[0.8,\"#7fbc41\"],[0.9,\"#4d9221\"],[1,\"#276419\"]]},\"xaxis\":{\"gridcolor\":\"white\",\"linecolor\":\"white\",\"ticks\":\"\",\"title\":{\"standoff\":15},\"zerolinecolor\":\"white\",\"automargin\":true,\"zerolinewidth\":2},\"yaxis\":{\"gridcolor\":\"white\",\"linecolor\":\"white\",\"ticks\":\"\",\"title\":{\"standoff\":15},\"zerolinecolor\":\"white\",\"automargin\":true,\"zerolinewidth\":2},\"scene\":{\"xaxis\":{\"backgroundcolor\":\"#E5ECF6\",\"gridcolor\":\"white\",\"linecolor\":\"white\",\"showbackground\":true,\"ticks\":\"\",\"zerolinecolor\":\"white\",\"gridwidth\":2},\"yaxis\":{\"backgroundcolor\":\"#E5ECF6\",\"gridcolor\":\"white\",\"linecolor\":\"white\",\"showbackground\":true,\"ticks\":\"\",\"zerolinecolor\":\"white\",\"gridwidth\":2},\"zaxis\":{\"backgroundcolor\":\"#E5ECF6\",\"gridcolor\":\"white\",\"linecolor\":\"white\",\"showbackground\":true,\"ticks\":\"\",\"zerolinecolor\":\"white\",\"gridwidth\":2}},\"shapedefaults\":{\"line\":{\"color\":\"#2a3f5f\"}},\"annotationdefaults\":{\"arrowcolor\":\"#2a3f5f\",\"arrowhead\":0,\"arrowwidth\":1},\"geo\":{\"bgcolor\":\"white\",\"landcolor\":\"#E5ECF6\",\"subunitcolor\":\"white\",\"showland\":true,\"showlakes\":true,\"lakecolor\":\"white\"},\"title\":{\"x\":0.05},\"mapbox\":{\"style\":\"light\"}}},\"xaxis\":{\"anchor\":\"y\",\"domain\":[0.0,1.0],\"title\":{\"text\":\"Date\"}},\"yaxis\":{\"anchor\":\"x\",\"domain\":[0.0,1.0],\"title\":{\"text\":\"AAPL.High\"}},\"legend\":{\"tracegroupgap\":0},\"title\":{\"text\":\"AAPL High Prices\"}},                        {\"responsive\": true}                    ).then(function(){\n",
       "                            \n",
       "var gd = document.getElementById('48478bac-0651-4bc5-b202-af1c4fc94e81');\n",
       "var x = new MutationObserver(function (mutations, observer) {{\n",
       "        var display = window.getComputedStyle(gd).display;\n",
       "        if (!display || display === 'none') {{\n",
       "            console.log([gd, 'removed!']);\n",
       "            Plotly.purge(gd);\n",
       "            observer.disconnect();\n",
       "        }}\n",
       "}});\n",
       "\n",
       "// Listen for the removal of the full notebook cells\n",
       "var notebookContainer = gd.closest('#notebook-container');\n",
       "if (notebookContainer) {{\n",
       "    x.observe(notebookContainer, {childList: true});\n",
       "}}\n",
       "\n",
       "// Listen for the clearing of the current output cell\n",
       "var outputEl = gd.closest('.output');\n",
       "if (outputEl) {{\n",
       "    x.observe(outputEl, {childList: true});\n",
       "}}\n",
       "\n",
       "                        })                };            </script>        </div>"
      ]
     },
     "metadata": {},
     "output_type": "display_data"
    }
   ],
   "source": [
    "# 01. Importar:\n",
    "#     Bibliotecas: matplotlib, numpy\n",
    "#     Módulos: pyplot\n",
    "import cufflinks as cf\n",
    "import pandas as pd\n",
    "import plotly.express as px\n",
    "\n",
    "# Load sample data\n",
    "df = pd.read_csv('https://raw.githubusercontent.com/plotly/datasets/master/finance-charts-apple.csv')\n",
    "fig = px.line(df, x='Date', y='AAPL.High', title='AAPL High Prices')\n",
    "fig.show()"
   ]
  },
  {
   "cell_type": "markdown",
   "id": "0b40c097",
   "metadata": {},
   "source": [
    "################################\n",
    "# Cell 06:\n",
    "################################\n",
    "\n",
    "<h2>  Exemplo 02 - Scatter Plot </h2>\n",
    "\n",
    "<h2 style=\"background-color:orange;color:white;padding-top:10px;text-align:center;font-weight:bold;font-style:italic;font-size:1cm;padding-bottom:20px;\"> Exemplo 02 - Scatter Plot   </h2>\n",
    "\n",
    " Markdown\n",
    " SHIFT + ENTER\n"
   ]
  },
  {
   "cell_type": "markdown",
   "id": "0f861fd7",
   "metadata": {},
   "source": [
    "################################\n",
    "# Cell 07:\n",
    "################################"
   ]
  },
  {
   "cell_type": "code",
   "execution_count": 3,
   "id": "f4ca7a5c",
   "metadata": {},
   "outputs": [
    {
     "data": {
      "application/vnd.plotly.v1+json": {
       "config": {
        "plotlyServerURL": "https://plot.ly"
       },
       "data": [
        {
         "hovertemplate": "Date=%{x}<br>AAPL.High=%{y}<extra></extra>",
         "legendgroup": "",
         "marker": {
          "color": "#636efa",
          "symbol": "circle"
         },
         "mode": "markers",
         "name": "",
         "orientation": "v",
         "showlegend": false,
         "type": "scatter",
         "x": [
          "2015-02-17",
          "2015-02-18",
          "2015-02-19",
          "2015-02-20",
          "2015-02-23",
          "2015-02-24",
          "2015-02-25",
          "2015-02-26",
          "2015-02-27",
          "2015-03-02",
          "2015-03-03",
          "2015-03-04",
          "2015-03-05",
          "2015-03-06",
          "2015-03-09",
          "2015-03-10",
          "2015-03-11",
          "2015-03-12",
          "2015-03-13",
          "2015-03-16",
          "2015-03-17",
          "2015-03-18",
          "2015-03-19",
          "2015-03-20",
          "2015-03-23",
          "2015-03-24",
          "2015-03-25",
          "2015-03-26",
          "2015-03-27",
          "2015-03-30",
          "2015-03-31",
          "2015-04-01",
          "2015-04-02",
          "2015-04-06",
          "2015-04-07",
          "2015-04-08",
          "2015-04-09",
          "2015-04-10",
          "2015-04-13",
          "2015-04-14",
          "2015-04-15",
          "2015-04-16",
          "2015-04-17",
          "2015-04-20",
          "2015-04-21",
          "2015-04-22",
          "2015-04-23",
          "2015-04-24",
          "2015-04-27",
          "2015-04-28",
          "2015-04-29",
          "2015-04-30",
          "2015-05-01",
          "2015-05-04",
          "2015-05-05",
          "2015-05-06",
          "2015-05-07",
          "2015-05-08",
          "2015-05-11",
          "2015-05-12",
          "2015-05-13",
          "2015-05-14",
          "2015-05-15",
          "2015-05-18",
          "2015-05-19",
          "2015-05-20",
          "2015-05-21",
          "2015-05-22",
          "2015-05-26",
          "2015-05-27",
          "2015-05-28",
          "2015-05-29",
          "2015-06-01",
          "2015-06-02",
          "2015-06-03",
          "2015-06-04",
          "2015-06-05",
          "2015-06-08",
          "2015-06-09",
          "2015-06-10",
          "2015-06-11",
          "2015-06-12",
          "2015-06-15",
          "2015-06-16",
          "2015-06-17",
          "2015-06-18",
          "2015-06-19",
          "2015-06-22",
          "2015-06-23",
          "2015-06-24",
          "2015-06-25",
          "2015-06-26",
          "2015-06-29",
          "2015-06-30",
          "2015-07-01",
          "2015-07-02",
          "2015-07-06",
          "2015-07-07",
          "2015-07-08",
          "2015-07-09",
          "2015-07-10",
          "2015-07-13",
          "2015-07-14",
          "2015-07-15",
          "2015-07-16",
          "2015-07-17",
          "2015-07-20",
          "2015-07-21",
          "2015-07-22",
          "2015-07-23",
          "2015-07-24",
          "2015-07-27",
          "2015-07-28",
          "2015-07-29",
          "2015-07-30",
          "2015-07-31",
          "2015-08-03",
          "2015-08-04",
          "2015-08-05",
          "2015-08-06",
          "2015-08-07",
          "2015-08-10",
          "2015-08-11",
          "2015-08-12",
          "2015-08-13",
          "2015-08-14",
          "2015-08-17",
          "2015-08-18",
          "2015-08-19",
          "2015-08-20",
          "2015-08-21",
          "2015-08-24",
          "2015-08-25",
          "2015-08-26",
          "2015-08-27",
          "2015-08-28",
          "2015-08-31",
          "2015-09-01",
          "2015-09-02",
          "2015-09-03",
          "2015-09-04",
          "2015-09-08",
          "2015-09-09",
          "2015-09-10",
          "2015-09-11",
          "2015-09-14",
          "2015-09-15",
          "2015-09-16",
          "2015-09-17",
          "2015-09-18",
          "2015-09-21",
          "2015-09-22",
          "2015-09-23",
          "2015-09-24",
          "2015-09-25",
          "2015-09-28",
          "2015-09-29",
          "2015-09-30",
          "2015-10-01",
          "2015-10-02",
          "2015-10-05",
          "2015-10-06",
          "2015-10-07",
          "2015-10-08",
          "2015-10-09",
          "2015-10-12",
          "2015-10-13",
          "2015-10-14",
          "2015-10-15",
          "2015-10-16",
          "2015-10-19",
          "2015-10-20",
          "2015-10-21",
          "2015-10-22",
          "2015-10-23",
          "2015-10-26",
          "2015-10-27",
          "2015-10-28",
          "2015-10-29",
          "2015-10-30",
          "2015-11-02",
          "2015-11-03",
          "2015-11-04",
          "2015-11-05",
          "2015-11-06",
          "2015-11-09",
          "2015-11-10",
          "2015-11-11",
          "2015-11-12",
          "2015-11-13",
          "2015-11-16",
          "2015-11-17",
          "2015-11-18",
          "2015-11-19",
          "2015-11-20",
          "2015-11-23",
          "2015-11-24",
          "2015-11-25",
          "2015-11-27",
          "2015-11-30",
          "2015-12-01",
          "2015-12-02",
          "2015-12-03",
          "2015-12-04",
          "2015-12-07",
          "2015-12-08",
          "2015-12-09",
          "2015-12-10",
          "2015-12-11",
          "2015-12-14",
          "2015-12-15",
          "2015-12-16",
          "2015-12-17",
          "2015-12-18",
          "2015-12-21",
          "2015-12-22",
          "2015-12-23",
          "2015-12-24",
          "2015-12-28",
          "2015-12-29",
          "2015-12-30",
          "2015-12-31",
          "2016-01-04",
          "2016-01-05",
          "2016-01-06",
          "2016-01-07",
          "2016-01-08",
          "2016-01-11",
          "2016-01-12",
          "2016-01-13",
          "2016-01-14",
          "2016-01-15",
          "2016-01-19",
          "2016-01-20",
          "2016-01-21",
          "2016-01-22",
          "2016-01-25",
          "2016-01-26",
          "2016-01-27",
          "2016-01-28",
          "2016-01-29",
          "2016-02-01",
          "2016-02-02",
          "2016-02-03",
          "2016-02-04",
          "2016-02-05",
          "2016-02-08",
          "2016-02-09",
          "2016-02-10",
          "2016-02-11",
          "2016-02-12",
          "2016-02-16",
          "2016-02-17",
          "2016-02-18",
          "2016-02-19",
          "2016-02-22",
          "2016-02-23",
          "2016-02-24",
          "2016-02-25",
          "2016-02-26",
          "2016-02-29",
          "2016-03-01",
          "2016-03-02",
          "2016-03-03",
          "2016-03-04",
          "2016-03-07",
          "2016-03-08",
          "2016-03-09",
          "2016-03-10",
          "2016-03-11",
          "2016-03-14",
          "2016-03-15",
          "2016-03-16",
          "2016-03-17",
          "2016-03-18",
          "2016-03-21",
          "2016-03-22",
          "2016-03-23",
          "2016-03-24",
          "2016-03-28",
          "2016-03-29",
          "2016-03-30",
          "2016-03-31",
          "2016-04-01",
          "2016-04-04",
          "2016-04-05",
          "2016-04-06",
          "2016-04-07",
          "2016-04-08",
          "2016-04-11",
          "2016-04-12",
          "2016-04-13",
          "2016-04-14",
          "2016-04-15",
          "2016-04-18",
          "2016-04-19",
          "2016-04-20",
          "2016-04-21",
          "2016-04-22",
          "2016-04-25",
          "2016-04-26",
          "2016-04-27",
          "2016-04-28",
          "2016-04-29",
          "2016-05-02",
          "2016-05-03",
          "2016-05-04",
          "2016-05-05",
          "2016-05-06",
          "2016-05-09",
          "2016-05-10",
          "2016-05-11",
          "2016-05-12",
          "2016-05-13",
          "2016-05-16",
          "2016-05-17",
          "2016-05-18",
          "2016-05-19",
          "2016-05-20",
          "2016-05-23",
          "2016-05-24",
          "2016-05-25",
          "2016-05-26",
          "2016-05-27",
          "2016-05-31",
          "2016-06-01",
          "2016-06-02",
          "2016-06-03",
          "2016-06-06",
          "2016-06-07",
          "2016-06-08",
          "2016-06-09",
          "2016-06-10",
          "2016-06-13",
          "2016-06-14",
          "2016-06-15",
          "2016-06-16",
          "2016-06-17",
          "2016-06-20",
          "2016-06-21",
          "2016-06-22",
          "2016-06-23",
          "2016-06-24",
          "2016-06-27",
          "2016-06-28",
          "2016-06-29",
          "2016-06-30",
          "2016-07-01",
          "2016-07-05",
          "2016-07-06",
          "2016-07-07",
          "2016-07-08",
          "2016-07-11",
          "2016-07-12",
          "2016-07-13",
          "2016-07-14",
          "2016-07-15",
          "2016-07-18",
          "2016-07-19",
          "2016-07-20",
          "2016-07-21",
          "2016-07-22",
          "2016-07-25",
          "2016-07-26",
          "2016-07-27",
          "2016-07-28",
          "2016-07-29",
          "2016-08-01",
          "2016-08-02",
          "2016-08-03",
          "2016-08-04",
          "2016-08-05",
          "2016-08-08",
          "2016-08-09",
          "2016-08-10",
          "2016-08-11",
          "2016-08-12",
          "2016-08-15",
          "2016-08-16",
          "2016-08-17",
          "2016-08-18",
          "2016-08-19",
          "2016-08-22",
          "2016-08-23",
          "2016-08-24",
          "2016-08-25",
          "2016-08-26",
          "2016-08-29",
          "2016-08-30",
          "2016-08-31",
          "2016-09-01",
          "2016-09-02",
          "2016-09-06",
          "2016-09-07",
          "2016-09-08",
          "2016-09-09",
          "2016-09-12",
          "2016-09-13",
          "2016-09-14",
          "2016-09-15",
          "2016-09-16",
          "2016-09-19",
          "2016-09-20",
          "2016-09-21",
          "2016-09-22",
          "2016-09-23",
          "2016-09-26",
          "2016-09-27",
          "2016-09-28",
          "2016-09-29",
          "2016-09-30",
          "2016-10-03",
          "2016-10-04",
          "2016-10-05",
          "2016-10-06",
          "2016-10-07",
          "2016-10-10",
          "2016-10-11",
          "2016-10-12",
          "2016-10-13",
          "2016-10-14",
          "2016-10-17",
          "2016-10-18",
          "2016-10-19",
          "2016-10-20",
          "2016-10-21",
          "2016-10-24",
          "2016-10-25",
          "2016-10-26",
          "2016-10-27",
          "2016-10-28",
          "2016-10-31",
          "2016-11-01",
          "2016-11-02",
          "2016-11-03",
          "2016-11-04",
          "2016-11-07",
          "2016-11-08",
          "2016-11-09",
          "2016-11-10",
          "2016-11-11",
          "2016-11-14",
          "2016-11-15",
          "2016-11-16",
          "2016-11-17",
          "2016-11-18",
          "2016-11-21",
          "2016-11-22",
          "2016-11-23",
          "2016-11-25",
          "2016-11-28",
          "2016-11-29",
          "2016-11-30",
          "2016-12-01",
          "2016-12-02",
          "2016-12-05",
          "2016-12-06",
          "2016-12-07",
          "2016-12-08",
          "2016-12-09",
          "2016-12-12",
          "2016-12-13",
          "2016-12-14",
          "2016-12-15",
          "2016-12-16",
          "2016-12-19",
          "2016-12-20",
          "2016-12-21",
          "2016-12-22",
          "2016-12-23",
          "2016-12-27",
          "2016-12-28",
          "2016-12-29",
          "2016-12-30",
          "2017-01-03",
          "2017-01-04",
          "2017-01-05",
          "2017-01-06",
          "2017-01-09",
          "2017-01-10",
          "2017-01-11",
          "2017-01-12",
          "2017-01-13",
          "2017-01-17",
          "2017-01-18",
          "2017-01-19",
          "2017-01-20",
          "2017-01-23",
          "2017-01-24",
          "2017-01-25",
          "2017-01-26",
          "2017-01-27",
          "2017-01-30",
          "2017-01-31",
          "2017-02-01",
          "2017-02-02",
          "2017-02-03",
          "2017-02-06",
          "2017-02-07",
          "2017-02-08",
          "2017-02-09",
          "2017-02-10",
          "2017-02-13",
          "2017-02-14",
          "2017-02-15",
          "2017-02-16"
         ],
         "xaxis": "x",
         "y": {
          "bdata": "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",
          "dtype": "f8"
         },
         "yaxis": "y"
        }
       ],
       "layout": {
        "legend": {
         "tracegroupgap": 0
        },
        "template": {
         "data": {
          "bar": [
           {
            "error_x": {
             "color": "#2a3f5f"
            },
            "error_y": {
             "color": "#2a3f5f"
            },
            "marker": {
             "line": {
              "color": "#E5ECF6",
              "width": 0.5
             },
             "pattern": {
              "fillmode": "overlay",
              "size": 10,
              "solidity": 0.2
             }
            },
            "type": "bar"
           }
          ],
          "barpolar": [
           {
            "marker": {
             "line": {
              "color": "#E5ECF6",
              "width": 0.5
             },
             "pattern": {
              "fillmode": "overlay",
              "size": 10,
              "solidity": 0.2
             }
            },
            "type": "barpolar"
           }
          ],
          "carpet": [
           {
            "aaxis": {
             "endlinecolor": "#2a3f5f",
             "gridcolor": "white",
             "linecolor": "white",
             "minorgridcolor": "white",
             "startlinecolor": "#2a3f5f"
            },
            "baxis": {
             "endlinecolor": "#2a3f5f",
             "gridcolor": "white",
             "linecolor": "white",
             "minorgridcolor": "white",
             "startlinecolor": "#2a3f5f"
            },
            "type": "carpet"
           }
          ],
          "choropleth": [
           {
            "colorbar": {
             "outlinewidth": 0,
             "ticks": ""
            },
            "type": "choropleth"
           }
          ],
          "contour": [
           {
            "colorbar": {
             "outlinewidth": 0,
             "ticks": ""
            },
            "colorscale": [
             [
              0,
              "#0d0887"
             ],
             [
              0.1111111111111111,
              "#46039f"
             ],
             [
              0.2222222222222222,
              "#7201a8"
             ],
             [
              0.3333333333333333,
              "#9c179e"
             ],
             [
              0.4444444444444444,
              "#bd3786"
             ],
             [
              0.5555555555555556,
              "#d8576b"
             ],
             [
              0.6666666666666666,
              "#ed7953"
             ],
             [
              0.7777777777777778,
              "#fb9f3a"
             ],
             [
              0.8888888888888888,
              "#fdca26"
             ],
             [
              1,
              "#f0f921"
             ]
            ],
            "type": "contour"
           }
          ],
          "contourcarpet": [
           {
            "colorbar": {
             "outlinewidth": 0,
             "ticks": ""
            },
            "type": "contourcarpet"
           }
          ],
          "heatmap": [
           {
            "colorbar": {
             "outlinewidth": 0,
             "ticks": ""
            },
            "colorscale": [
             [
              0,
              "#0d0887"
             ],
             [
              0.1111111111111111,
              "#46039f"
             ],
             [
              0.2222222222222222,
              "#7201a8"
             ],
             [
              0.3333333333333333,
              "#9c179e"
             ],
             [
              0.4444444444444444,
              "#bd3786"
             ],
             [
              0.5555555555555556,
              "#d8576b"
             ],
             [
              0.6666666666666666,
              "#ed7953"
             ],
             [
              0.7777777777777778,
              "#fb9f3a"
             ],
             [
              0.8888888888888888,
              "#fdca26"
             ],
             [
              1,
              "#f0f921"
             ]
            ],
            "type": "heatmap"
           }
          ],
          "histogram": [
           {
            "marker": {
             "pattern": {
              "fillmode": "overlay",
              "size": 10,
              "solidity": 0.2
             }
            },
            "type": "histogram"
           }
          ],
          "histogram2d": [
           {
            "colorbar": {
             "outlinewidth": 0,
             "ticks": ""
            },
            "colorscale": [
             [
              0,
              "#0d0887"
             ],
             [
              0.1111111111111111,
              "#46039f"
             ],
             [
              0.2222222222222222,
              "#7201a8"
             ],
             [
              0.3333333333333333,
              "#9c179e"
             ],
             [
              0.4444444444444444,
              "#bd3786"
             ],
             [
              0.5555555555555556,
              "#d8576b"
             ],
             [
              0.6666666666666666,
              "#ed7953"
             ],
             [
              0.7777777777777778,
              "#fb9f3a"
             ],
             [
              0.8888888888888888,
              "#fdca26"
             ],
             [
              1,
              "#f0f921"
             ]
            ],
            "type": "histogram2d"
           }
          ],
          "histogram2dcontour": [
           {
            "colorbar": {
             "outlinewidth": 0,
             "ticks": ""
            },
            "colorscale": [
             [
              0,
              "#0d0887"
             ],
             [
              0.1111111111111111,
              "#46039f"
             ],
             [
              0.2222222222222222,
              "#7201a8"
             ],
             [
              0.3333333333333333,
              "#9c179e"
             ],
             [
              0.4444444444444444,
              "#bd3786"
             ],
             [
              0.5555555555555556,
              "#d8576b"
             ],
             [
              0.6666666666666666,
              "#ed7953"
             ],
             [
              0.7777777777777778,
              "#fb9f3a"
             ],
             [
              0.8888888888888888,
              "#fdca26"
             ],
             [
              1,
              "#f0f921"
             ]
            ],
            "type": "histogram2dcontour"
           }
          ],
          "mesh3d": [
           {
            "colorbar": {
             "outlinewidth": 0,
             "ticks": ""
            },
            "type": "mesh3d"
           }
          ],
          "parcoords": [
           {
            "line": {
             "colorbar": {
              "outlinewidth": 0,
              "ticks": ""
             }
            },
            "type": "parcoords"
           }
          ],
          "pie": [
           {
            "automargin": true,
            "type": "pie"
           }
          ],
          "scatter": [
           {
            "fillpattern": {
             "fillmode": "overlay",
             "size": 10,
             "solidity": 0.2
            },
            "type": "scatter"
           }
          ],
          "scatter3d": [
           {
            "line": {
             "colorbar": {
              "outlinewidth": 0,
              "ticks": ""
             }
            },
            "marker": {
             "colorbar": {
              "outlinewidth": 0,
              "ticks": ""
             }
            },
            "type": "scatter3d"
           }
          ],
          "scattercarpet": [
           {
            "marker": {
             "colorbar": {
              "outlinewidth": 0,
              "ticks": ""
             }
            },
            "type": "scattercarpet"
           }
          ],
          "scattergeo": [
           {
            "marker": {
             "colorbar": {
              "outlinewidth": 0,
              "ticks": ""
             }
            },
            "type": "scattergeo"
           }
          ],
          "scattergl": [
           {
            "marker": {
             "colorbar": {
              "outlinewidth": 0,
              "ticks": ""
             }
            },
            "type": "scattergl"
           }
          ],
          "scattermap": [
           {
            "marker": {
             "colorbar": {
              "outlinewidth": 0,
              "ticks": ""
             }
            },
            "type": "scattermap"
           }
          ],
          "scattermapbox": [
           {
            "marker": {
             "colorbar": {
              "outlinewidth": 0,
              "ticks": ""
             }
            },
            "type": "scattermapbox"
           }
          ],
          "scatterpolar": [
           {
            "marker": {
             "colorbar": {
              "outlinewidth": 0,
              "ticks": ""
             }
            },
            "type": "scatterpolar"
           }
          ],
          "scatterpolargl": [
           {
            "marker": {
             "colorbar": {
              "outlinewidth": 0,
              "ticks": ""
             }
            },
            "type": "scatterpolargl"
           }
          ],
          "scatterternary": [
           {
            "marker": {
             "colorbar": {
              "outlinewidth": 0,
              "ticks": ""
             }
            },
            "type": "scatterternary"
           }
          ],
          "surface": [
           {
            "colorbar": {
             "outlinewidth": 0,
             "ticks": ""
            },
            "colorscale": [
             [
              0,
              "#0d0887"
             ],
             [
              0.1111111111111111,
              "#46039f"
             ],
             [
              0.2222222222222222,
              "#7201a8"
             ],
             [
              0.3333333333333333,
              "#9c179e"
             ],
             [
              0.4444444444444444,
              "#bd3786"
             ],
             [
              0.5555555555555556,
              "#d8576b"
             ],
             [
              0.6666666666666666,
              "#ed7953"
             ],
             [
              0.7777777777777778,
              "#fb9f3a"
             ],
             [
              0.8888888888888888,
              "#fdca26"
             ],
             [
              1,
              "#f0f921"
             ]
            ],
            "type": "surface"
           }
          ],
          "table": [
           {
            "cells": {
             "fill": {
              "color": "#EBF0F8"
             },
             "line": {
              "color": "white"
             }
            },
            "header": {
             "fill": {
              "color": "#C8D4E3"
             },
             "line": {
              "color": "white"
             }
            },
            "type": "table"
           }
          ]
         },
         "layout": {
          "annotationdefaults": {
           "arrowcolor": "#2a3f5f",
           "arrowhead": 0,
           "arrowwidth": 1
          },
          "autotypenumbers": "strict",
          "coloraxis": {
           "colorbar": {
            "outlinewidth": 0,
            "ticks": ""
           }
          },
          "colorscale": {
           "diverging": [
            [
             0,
             "#8e0152"
            ],
            [
             0.1,
             "#c51b7d"
            ],
            [
             0.2,
             "#de77ae"
            ],
            [
             0.3,
             "#f1b6da"
            ],
            [
             0.4,
             "#fde0ef"
            ],
            [
             0.5,
             "#f7f7f7"
            ],
            [
             0.6,
             "#e6f5d0"
            ],
            [
             0.7,
             "#b8e186"
            ],
            [
             0.8,
             "#7fbc41"
            ],
            [
             0.9,
             "#4d9221"
            ],
            [
             1,
             "#276419"
            ]
           ],
           "sequential": [
            [
             0,
             "#0d0887"
            ],
            [
             0.1111111111111111,
             "#46039f"
            ],
            [
             0.2222222222222222,
             "#7201a8"
            ],
            [
             0.3333333333333333,
             "#9c179e"
            ],
            [
             0.4444444444444444,
             "#bd3786"
            ],
            [
             0.5555555555555556,
             "#d8576b"
            ],
            [
             0.6666666666666666,
             "#ed7953"
            ],
            [
             0.7777777777777778,
             "#fb9f3a"
            ],
            [
             0.8888888888888888,
             "#fdca26"
            ],
            [
             1,
             "#f0f921"
            ]
           ],
           "sequentialminus": [
            [
             0,
             "#0d0887"
            ],
            [
             0.1111111111111111,
             "#46039f"
            ],
            [
             0.2222222222222222,
             "#7201a8"
            ],
            [
             0.3333333333333333,
             "#9c179e"
            ],
            [
             0.4444444444444444,
             "#bd3786"
            ],
            [
             0.5555555555555556,
             "#d8576b"
            ],
            [
             0.6666666666666666,
             "#ed7953"
            ],
            [
             0.7777777777777778,
             "#fb9f3a"
            ],
            [
             0.8888888888888888,
             "#fdca26"
            ],
            [
             1,
             "#f0f921"
            ]
           ]
          },
          "colorway": [
           "#636efa",
           "#EF553B",
           "#00cc96",
           "#ab63fa",
           "#FFA15A",
           "#19d3f3",
           "#FF6692",
           "#B6E880",
           "#FF97FF",
           "#FECB52"
          ],
          "font": {
           "color": "#2a3f5f"
          },
          "geo": {
           "bgcolor": "white",
           "lakecolor": "white",
           "landcolor": "#E5ECF6",
           "showlakes": true,
           "showland": true,
           "subunitcolor": "white"
          },
          "hoverlabel": {
           "align": "left"
          },
          "hovermode": "closest",
          "mapbox": {
           "style": "light"
          },
          "paper_bgcolor": "white",
          "plot_bgcolor": "#E5ECF6",
          "polar": {
           "angularaxis": {
            "gridcolor": "white",
            "linecolor": "white",
            "ticks": ""
           },
           "bgcolor": "#E5ECF6",
           "radialaxis": {
            "gridcolor": "white",
            "linecolor": "white",
            "ticks": ""
           }
          },
          "scene": {
           "xaxis": {
            "backgroundcolor": "#E5ECF6",
            "gridcolor": "white",
            "gridwidth": 2,
            "linecolor": "white",
            "showbackground": true,
            "ticks": "",
            "zerolinecolor": "white"
           },
           "yaxis": {
            "backgroundcolor": "#E5ECF6",
            "gridcolor": "white",
            "gridwidth": 2,
            "linecolor": "white",
            "showbackground": true,
            "ticks": "",
            "zerolinecolor": "white"
           },
           "zaxis": {
            "backgroundcolor": "#E5ECF6",
            "gridcolor": "white",
            "gridwidth": 2,
            "linecolor": "white",
            "showbackground": true,
            "ticks": "",
            "zerolinecolor": "white"
           }
          },
          "shapedefaults": {
           "line": {
            "color": "#2a3f5f"
           }
          },
          "ternary": {
           "aaxis": {
            "gridcolor": "white",
            "linecolor": "white",
            "ticks": ""
           },
           "baxis": {
            "gridcolor": "white",
            "linecolor": "white",
            "ticks": ""
           },
           "bgcolor": "#E5ECF6",
           "caxis": {
            "gridcolor": "white",
            "linecolor": "white",
            "ticks": ""
           }
          },
          "title": {
           "x": 0.05
          },
          "xaxis": {
           "automargin": true,
           "gridcolor": "white",
           "linecolor": "white",
           "ticks": "",
           "title": {
            "standoff": 15
           },
           "zerolinecolor": "white",
           "zerolinewidth": 2
          },
          "yaxis": {
           "automargin": true,
           "gridcolor": "white",
           "linecolor": "white",
           "ticks": "",
           "title": {
            "standoff": 15
           },
           "zerolinecolor": "white",
           "zerolinewidth": 2
          }
         }
        },
        "title": {
         "text": "AAPL High Prices"
        },
        "xaxis": {
         "anchor": "y",
         "domain": [
          0,
          1
         ],
         "title": {
          "text": "Date"
         }
        },
        "yaxis": {
         "anchor": "x",
         "domain": [
          0,
          1
         ],
         "title": {
          "text": "AAPL.High"
         }
        }
       }
      },
      "text/html": [
       "<div>            <script src=\"https://cdnjs.cloudflare.com/ajax/libs/mathjax/2.7.5/MathJax.js?config=TeX-AMS-MML_SVG\"></script><script type=\"text/javascript\">if (window.MathJax && window.MathJax.Hub && window.MathJax.Hub.Config) {window.MathJax.Hub.Config({SVG: {font: \"STIX-Web\"}});}</script>                <script type=\"text/javascript\">window.PlotlyConfig = {MathJaxConfig: 'local'};</script>\n",
       "        <script charset=\"utf-8\" src=\"https://cdn.plot.ly/plotly-3.0.1.min.js\"></script>                <div id=\"eb6d2c29-0e8c-4406-9782-da7c900fcd1a\" class=\"plotly-graph-div\" style=\"height:525px; width:100%;\"></div>            <script type=\"text/javascript\">                window.PLOTLYENV=window.PLOTLYENV || {};                                if (document.getElementById(\"eb6d2c29-0e8c-4406-9782-da7c900fcd1a\")) {                    Plotly.newPlot(                        \"eb6d2c29-0e8c-4406-9782-da7c900fcd1a\",                        [{\"hovertemplate\":\"Date=%{x}\\u003cbr\\u003eAAPL.High=%{y}\\u003cextra\\u003e\\u003c\\u002fextra\\u003e\",\"legendgroup\":\"\",\"marker\":{\"color\":\"#636efa\",\"symbol\":\"circle\"},\"mode\":\"markers\",\"name\":\"\",\"orientation\":\"v\",\"showlegend\":false,\"x\":[\"2015-02-17\",\"2015-02-18\",\"2015-02-19\",\"2015-02-20\",\"2015-02-23\",\"2015-02-24\",\"2015-02-25\",\"2015-02-26\",\"2015-02-27\",\"2015-03-02\",\"2015-03-03\",\"2015-03-04\",\"2015-03-05\",\"2015-03-06\",\"2015-03-09\",\"2015-03-10\",\"2015-03-11\",\"2015-03-12\",\"2015-03-13\",\"2015-03-16\",\"2015-03-17\",\"2015-03-18\",\"2015-03-19\",\"2015-03-20\",\"2015-03-23\",\"2015-03-24\",\"2015-03-25\",\"2015-03-26\",\"2015-03-27\",\"2015-03-30\",\"2015-03-31\",\"2015-04-01\",\"2015-04-02\",\"2015-04-06\",\"2015-04-07\",\"2015-04-08\",\"2015-04-09\",\"2015-04-10\",\"2015-04-13\",\"2015-04-14\",\"2015-04-15\",\"2015-04-16\",\"2015-04-17\",\"2015-04-20\",\"2015-04-21\",\"2015-04-22\",\"2015-04-23\",\"2015-04-24\",\"2015-04-27\",\"2015-04-28\",\"2015-04-29\",\"2015-04-30\",\"2015-05-01\",\"2015-05-04\",\"2015-05-05\",\"2015-05-06\",\"2015-05-07\",\"2015-05-08\",\"2015-05-11\",\"2015-05-12\",\"2015-05-13\",\"2015-05-14\",\"2015-05-15\",\"2015-05-18\",\"2015-05-19\",\"2015-05-20\",\"2015-05-21\",\"2015-05-22\",\"2015-05-26\",\"2015-05-27\",\"2015-05-28\",\"2015-05-29\",\"2015-06-01\",\"2015-06-02\",\"2015-06-03\",\"2015-06-04\",\"2015-06-05\",\"2015-06-08\",\"2015-06-09\",\"2015-06-10\",\"2015-06-11\",\"2015-06-12\",\"2015-06-15\",\"2015-06-16\",\"2015-06-17\",\"2015-06-18\",\"2015-06-19\",\"2015-06-22\",\"2015-06-23\",\"2015-06-24\",\"2015-06-25\",\"2015-06-26\",\"2015-06-29\",\"2015-06-30\",\"2015-07-01\",\"2015-07-02\",\"2015-07-06\",\"2015-07-07\",\"2015-07-08\",\"2015-07-09\",\"2015-07-10\",\"2015-07-13\",\"2015-07-14\",\"2015-07-15\",\"2015-07-16\",\"2015-07-17\",\"2015-07-20\",\"2015-07-21\",\"2015-07-22\",\"2015-07-23\",\"2015-07-24\",\"2015-07-27\",\"2015-07-28\",\"2015-07-29\",\"2015-07-30\",\"2015-07-31\",\"2015-08-03\",\"2015-08-04\",\"2015-08-05\",\"2015-08-06\",\"2015-08-07\",\"2015-08-10\",\"2015-08-11\",\"2015-08-12\",\"2015-08-13\",\"2015-08-14\",\"2015-08-17\",\"2015-08-18\",\"2015-08-19\",\"2015-08-20\",\"2015-08-21\",\"2015-08-24\",\"2015-08-25\",\"2015-08-26\",\"2015-08-27\",\"2015-08-28\",\"2015-08-31\",\"2015-09-01\",\"2015-09-02\",\"2015-09-03\",\"2015-09-04\",\"2015-09-08\",\"2015-09-09\",\"2015-09-10\",\"2015-09-11\",\"2015-09-14\",\"2015-09-15\",\"2015-09-16\",\"2015-09-17\",\"2015-09-18\",\"2015-09-21\",\"2015-09-22\",\"2015-09-23\",\"2015-09-24\",\"2015-09-25\",\"2015-09-28\",\"2015-09-29\",\"2015-09-30\",\"2015-10-01\",\"2015-10-02\",\"2015-10-05\",\"2015-10-06\",\"2015-10-07\",\"2015-10-08\",\"2015-10-09\",\"2015-10-12\",\"2015-10-13\",\"2015-10-14\",\"2015-10-15\",\"2015-10-16\",\"2015-10-19\",\"2015-10-20\",\"2015-10-21\",\"2015-10-22\",\"2015-10-23\",\"2015-10-26\",\"2015-10-27\",\"2015-10-28\",\"2015-10-29\",\"2015-10-30\",\"2015-11-02\",\"2015-11-03\",\"2015-11-04\",\"2015-11-05\",\"2015-11-06\",\"2015-11-09\",\"2015-11-10\",\"2015-11-11\",\"2015-11-12\",\"2015-11-13\",\"2015-11-16\",\"2015-11-17\",\"2015-11-18\",\"2015-11-19\",\"2015-11-20\",\"2015-11-23\",\"2015-11-24\",\"2015-11-25\",\"2015-11-27\",\"2015-11-30\",\"2015-12-01\",\"2015-12-02\",\"2015-12-03\",\"2015-12-04\",\"2015-12-07\",\"2015-12-08\",\"2015-12-09\",\"2015-12-10\",\"2015-12-11\",\"2015-12-14\",\"2015-12-15\",\"2015-12-16\",\"2015-12-17\",\"2015-12-18\",\"2015-12-21\",\"2015-12-22\",\"2015-12-23\",\"2015-12-24\",\"2015-12-28\",\"2015-12-29\",\"2015-12-30\",\"2015-12-31\",\"2016-01-04\",\"2016-01-05\",\"2016-01-06\",\"2016-01-07\",\"2016-01-08\",\"2016-01-11\",\"2016-01-12\",\"2016-01-13\",\"2016-01-14\",\"2016-01-15\",\"2016-01-19\",\"2016-01-20\",\"2016-01-21\",\"2016-01-22\",\"2016-01-25\",\"2016-01-26\",\"2016-01-27\",\"2016-01-28\",\"2016-01-29\",\"2016-02-01\",\"2016-02-02\",\"2016-02-03\",\"2016-02-04\",\"2016-02-05\",\"2016-02-08\",\"2016-02-09\",\"2016-02-10\",\"2016-02-11\",\"2016-02-12\",\"2016-02-16\",\"2016-02-17\",\"2016-02-18\",\"2016-02-19\",\"2016-02-22\",\"2016-02-23\",\"2016-02-24\",\"2016-02-25\",\"2016-02-26\",\"2016-02-29\",\"2016-03-01\",\"2016-03-02\",\"2016-03-03\",\"2016-03-04\",\"2016-03-07\",\"2016-03-08\",\"2016-03-09\",\"2016-03-10\",\"2016-03-11\",\"2016-03-14\",\"2016-03-15\",\"2016-03-16\",\"2016-03-17\",\"2016-03-18\",\"2016-03-21\",\"2016-03-22\",\"2016-03-23\",\"2016-03-24\",\"2016-03-28\",\"2016-03-29\",\"2016-03-30\",\"2016-03-31\",\"2016-04-01\",\"2016-04-04\",\"2016-04-05\",\"2016-04-06\",\"2016-04-07\",\"2016-04-08\",\"2016-04-11\",\"2016-04-12\",\"2016-04-13\",\"2016-04-14\",\"2016-04-15\",\"2016-04-18\",\"2016-04-19\",\"2016-04-20\",\"2016-04-21\",\"2016-04-22\",\"2016-04-25\",\"2016-04-26\",\"2016-04-27\",\"2016-04-28\",\"2016-04-29\",\"2016-05-02\",\"2016-05-03\",\"2016-05-04\",\"2016-05-05\",\"2016-05-06\",\"2016-05-09\",\"2016-05-10\",\"2016-05-11\",\"2016-05-12\",\"2016-05-13\",\"2016-05-16\",\"2016-05-17\",\"2016-05-18\",\"2016-05-19\",\"2016-05-20\",\"2016-05-23\",\"2016-05-24\",\"2016-05-25\",\"2016-05-26\",\"2016-05-27\",\"2016-05-31\",\"2016-06-01\",\"2016-06-02\",\"2016-06-03\",\"2016-06-06\",\"2016-06-07\",\"2016-06-08\",\"2016-06-09\",\"2016-06-10\",\"2016-06-13\",\"2016-06-14\",\"2016-06-15\",\"2016-06-16\",\"2016-06-17\",\"2016-06-20\",\"2016-06-21\",\"2016-06-22\",\"2016-06-23\",\"2016-06-24\",\"2016-06-27\",\"2016-06-28\",\"2016-06-29\",\"2016-06-30\",\"2016-07-01\",\"2016-07-05\",\"2016-07-06\",\"2016-07-07\",\"2016-07-08\",\"2016-07-11\",\"2016-07-12\",\"2016-07-13\",\"2016-07-14\",\"2016-07-15\",\"2016-07-18\",\"2016-07-19\",\"2016-07-20\",\"2016-07-21\",\"2016-07-22\",\"2016-07-25\",\"2016-07-26\",\"2016-07-27\",\"2016-07-28\",\"2016-07-29\",\"2016-08-01\",\"2016-08-02\",\"2016-08-03\",\"2016-08-04\",\"2016-08-05\",\"2016-08-08\",\"2016-08-09\",\"2016-08-10\",\"2016-08-11\",\"2016-08-12\",\"2016-08-15\",\"2016-08-16\",\"2016-08-17\",\"2016-08-18\",\"2016-08-19\",\"2016-08-22\",\"2016-08-23\",\"2016-08-24\",\"2016-08-25\",\"2016-08-26\",\"2016-08-29\",\"2016-08-30\",\"2016-08-31\",\"2016-09-01\",\"2016-09-02\",\"2016-09-06\",\"2016-09-07\",\"2016-09-08\",\"2016-09-09\",\"2016-09-12\",\"2016-09-13\",\"2016-09-14\",\"2016-09-15\",\"2016-09-16\",\"2016-09-19\",\"2016-09-20\",\"2016-09-21\",\"2016-09-22\",\"2016-09-23\",\"2016-09-26\",\"2016-09-27\",\"2016-09-28\",\"2016-09-29\",\"2016-09-30\",\"2016-10-03\",\"2016-10-04\",\"2016-10-05\",\"2016-10-06\",\"2016-10-07\",\"2016-10-10\",\"2016-10-11\",\"2016-10-12\",\"2016-10-13\",\"2016-10-14\",\"2016-10-17\",\"2016-10-18\",\"2016-10-19\",\"2016-10-20\",\"2016-10-21\",\"2016-10-24\",\"2016-10-25\",\"2016-10-26\",\"2016-10-27\",\"2016-10-28\",\"2016-10-31\",\"2016-11-01\",\"2016-11-02\",\"2016-11-03\",\"2016-11-04\",\"2016-11-07\",\"2016-11-08\",\"2016-11-09\",\"2016-11-10\",\"2016-11-11\",\"2016-11-14\",\"2016-11-15\",\"2016-11-16\",\"2016-11-17\",\"2016-11-18\",\"2016-11-21\",\"2016-11-22\",\"2016-11-23\",\"2016-11-25\",\"2016-11-28\",\"2016-11-29\",\"2016-11-30\",\"2016-12-01\",\"2016-12-02\",\"2016-12-05\",\"2016-12-06\",\"2016-12-07\",\"2016-12-08\",\"2016-12-09\",\"2016-12-12\",\"2016-12-13\",\"2016-12-14\",\"2016-12-15\",\"2016-12-16\",\"2016-12-19\",\"2016-12-20\",\"2016-12-21\",\"2016-12-22\",\"2016-12-23\",\"2016-12-27\",\"2016-12-28\",\"2016-12-29\",\"2016-12-30\",\"2017-01-03\",\"2017-01-04\",\"2017-01-05\",\"2017-01-06\",\"2017-01-09\",\"2017-01-10\",\"2017-01-11\",\"2017-01-12\",\"2017-01-13\",\"2017-01-17\",\"2017-01-18\",\"2017-01-19\",\"2017-01-20\",\"2017-01-23\",\"2017-01-24\",\"2017-01-25\",\"2017-01-26\",\"2017-01-27\",\"2017-01-30\",\"2017-01-31\",\"2017-02-01\",\"2017-02-02\",\"2017-02-03\",\"2017-02-06\",\"2017-02-07\",\"2017-02-08\",\"2017-02-09\",\"2017-02-10\",\"2017-02-13\",\"2017-02-14\",\"2017-02-15\",\"2017-02-16\"],\"xaxis\":\"x\",\"y\":{\"dtype\":\"f8\",\"bdata\":\"Ieo+ACkcYEA1fXbA9RhgQDV9dsD1IGBAAAAAAAAwYEAAAAAAAKBgQOxsyD8zs2BA7GzIPzNzYEDfFcH\\u002f1ltgQLfvUX89UmBANX12wPVIYEBBuW3fozBgQGr67IDrMWBAAAAAAAAYYEDfFcH\\u002f1itgQLfvUX89MmBAlgUTfxTOX0ApQX+hRzFfQGoV\\u002faGZOV9AahX9oZlZX0AUkzfAzDxfQBSuR+F61F9AVWe1wB4lYEAAAAAAAChgQBSTN8DMDGBAluoCXmb2X0A1YmafRwFgQBSuR+F6tF9AAOXv3lE4X0AUkzfAzCxfQGoV\\u002faGZmV9Av0aSIFyfX0AAGxAhrkdfQNP02QHXY19AQblt36PgX0DfFcH\\u002f1gNgQGoV\\u002faGZmV9AVWe1wB6lX0BVTKWfcM1fQLfvUX89EmBAq7NaYI\\u002fSX0AA5e\\u002feUchfQJbqAl5mxl9AQZ5dvvWIX0DfFcH\\u002f1gNgQIrJG2BmBmBA3xXB\\u002f9YbYEBVTKWfcE1gQCHqPgApVGBAIeo+ACmkYEA1YmafR9FgQKuYSj\\u002fhcmBAIM8u33oUYEAh6j4AKURgQLfvUX89UmBAiskbYGYOYEAAAAAAALBfQFVntcAehV9AABsQIa7nX0DT9NkB1+NfQADl795RuF9ALQsm\\u002fijMX0CKyRtgZh5gQAw89x6uL2BAy4KJPwpXYEAh6j4AKVxgQL9GkiBcX2BAIeo+ACl0YEDLgok\\u002fCp9gQFVntcAenWBA9MMI4VGIYECKyRtgZn5gQIrJG2BmbmBAIM8u33psYEBVZ7XAHlVgQJYFE38UXmBAq7NaYI9SYECWBRN\\u002fFDZgQMudmWC4JmBAq7NaYI8CYECrmEo\\u002f4SpgQEkQroDCRWBAq7NaYI8KYEC\\u002fRpIgXM9fQJbqAl5m9l9AAOXv3lH4X0Bq+uyA6wlgQBSuR+F69F9AavrsgOsBYEC\\u002fYaJBCudfQHY25J+ZOWBAiskbYGYmYEC\\u002fRpIgXP9fQJYFE38Unl9AABsQIa6HX0AtCyb+KLxfQC0LJv4orF9A176AXriOX0BqFf2hmYlfQEGeXb71KF9A0\\u002fTZAdcDX0CW6gJeZvZeQEG5bd+jcF9AABsQIa6XX0BqFf2hmclfQLfvUX89EmBA3xXB\\u002f9YzYEDLgok\\u002fCp9gQFVMpZ9wnWBAAAAAAABgX0BVMZV+wsVfQL9GkiBcb19Av2GiQQrnXkCrzmqBPfpeQAAAAAAA4F5AFK5H4XqkXkBBnl2+9aheQBSuR+F6pF5AFJM3wMxsXUAtCyb+KFxdQAAAAAAAIF1AAAAAAAAQXUC\\u002fRpIgXP9dQOxRuB6Fi11Aq5hKP+HaXEBqFf2hmRldQNP02QHXE11AahX9oZlpXUAtCyb+KFxdQClBf6FHIV1AluoCXmaWXEBqFf2hmflbQOxsyD8zM1tAv2GiQQrHW0BBnl2+9XhbQL9GkiBcT1xA0\\u002fTZAddTXEBq+uyA66FcQADl795R+FtAVTGVfsIVXEBq+uyA6zFcQBSTN8DMnFtA0\\u002fTZAdcjXEApQX+hR4FcQGr67IDrUVxAVUyln3CNXEBBnl2+9ThdQGr67IDrIV1Aq7NaYI8iXUC\\u002fRpIgXB9dQOxsyD8zk1xAABsQIa7XXEDsUbgehYtcQJYFE38UrlxAAAAAAADgXEAtCyb+KCxdQBSuR+F6pFxAQblt36NgXECrs1pgj+JbQAAbECGuZ1tAQblt36PAW0AAGxAhrtdbQL9GkiBc71tAKUF\\u002foUfxW0AtCyb+KIxbQGr67IDrEVxAAAAAAAAwXEAUkzfAzBxcQClBf6FH4VtAluoCXmYGXEAAAAAAAABcQAAAAAAA8FtAq5hKP+GKXEBVZ7XAHuVcQAAAAAAA4FxA176AXrjOXUAA5e\\u002feUYhdQKuzWmCPIl1A7GzIPzPTXUAtCyb+KCxeQJYFE38UTl5Av2GiQQpXXkC\\u002fRpIgXN9eQBSuR+F69F5ALQsm\\u002fiisXkDT9NkB13NeQNP02QHXc15AFK5H4XqEXUCrmEo\\u002f4VpdQBSuR+F6NF1AFK5H4XrkXEC\\u002fRpIgXI9cQOxsyD8zw1xAv0aSIFxfXUAAAAAAAPBdQKuYSj\\u002fh+l1A176AXrjuXUCW6gJeZtZdQNe+gF64zl1Aq85qgT2aXUCrzmqBPdpdQNP02QHXs11Av2GiQQqHXUCrs1pgjzJdQAAAAAAA0F1Av2GiQQr3XUCW6gJeZqZdQC0LJv4obF1ALQsm\\u002fig8XUBBnl2+9dhcQOxRuB6FK1xA7GzIPzMzXEC\\u002fRpIgXP9bQAAAAAAAEFxAKUF\\u002foUdhW0AAGxAhrtdaQJYFE38U7lpAluoCXmY2W0AAAAAAAEBbQC0LJv4o7FpA7FG4HoVbW0AUkzfAzCxbQGr67IDrwVpAABsQIa5XWkCW6gJeZnZaQAAbECGul1lAAOXv3lEIWUC\\u002fYaJBCsdYQNP02QHXw1hALQsm\\u002figsWUAtCyb+KExZQNe+gF64HllAVUyln3BtWEBqFf2hmalYQC0LJv4ojFhAAOXv3lF4WEBVTKWfcF1ZQGr67IDrYVlAAOXv3lE4WUAA5e\\u002feUShYQClBf6FHoVdAVTGVfsJVWEBVTKWfcC1YQKuzWmCPAlhAVTGVfsI1WEBVZ7XAHlVYQKuYSj\\u002fhOlhAFJM3wMzsV0AtCyb+KPxXQJbqAl5mFlhAlgUTfxSuV0AAAAAAAKBXQJbqAl5mNlhAVUyln3CNWEBBnl2+9bhYQEG5bd+jMFhAahX9oZk5WEAAAAAAACBYQADl795RGFhAQblt36MwWEApQX+hR4FYQNe+gF64jlhAKUF\\u002foUcxWUBBnl2+9ThZQFVMpZ9wbVlAAAAAAADwWUBVZ7XAHrVZQEG5bd+jcFlAVWe1wB5lWUC\\u002fRpIgXI9ZQGr67IDrkVlAq85qgT26WUDsUbgehUtaQNP02QHXk1pAlgUTfxSeWkAAAAAAAKBaQGoV\\u002faGZ6VpAq7NaYI\\u002fSWkAUrkfhesRaQAAAAAAAkFpALQsm\\u002fiiMWkCrs1pgj\\u002fJaQKuYSj\\u002fhmltAahX9oZl5W0AAAAAAAIBbQC0LJv4oDFxA176AXriuW0DXvoBeuL5bQKuYSj\\u002fhmltAKUF\\u002foUdxW0C\\u002fYaJBCqdbQAAAAAAAoFtAVTGVfsIVXEBBnl2+9RhcQOxsyD8zE1xAFJM3wMw8W0AAAAAAAABbQFUxlX7CBVtA7FG4HoW7WkDXvoBeuJ5aQGoV\\u002faGZaVpA7GzIPzNTWkBVTKWfcK1YQADl795ReFhAlgUTfxSuV0BVZ7XAHoVXQL9GkiBc71dAahX9oZn5V0AUrkfheoRXQBSTN8DMXFdAKUF\\u002foUdxV0AUrkfhemRXQBSuR+F6ZFdAavrsgOsxV0CrmEo\\u002f4epWQEGeXb71mFdAFJM3wMysV0BVTKWfcM1XQEGeXb71qFdA7FG4HoXbV0AtCyb+KExYQFUxlX7ChVhAv0aSIFzvWEDXvoBeuC5ZQJYFE38UHllAahX9oZkZWUCrs1pgj+JYQFUxlX7CdVhAKUF\\u002foUeRWEBBnl2+9XhZQAAbECGu91hA0\\u002fTZAdfjWEC\\u002fRpIgXP9YQJbqAl5m1lhAABsQIa7HWEDXvoBeuJ5YQKvOaoE9mlhAAAAAAABwWEBqFf2hmSlYQBSuR+F6JFhAluoCXmYWWEBBnl2+9ThYQKuzWmCPElhAq85qgT2qV0DsbMg\\u002fM0NXQKvOaoE9aldA7GzIPzOjV0ApQX+hR\\u002fFXQJYFE38UHlhAahX9oZnZV0CrzmqBPepXQAAAAAAAIFhAQZ5dvvU4WEBqFf2hmWlYQBSTN8DMbFhAq5hKP+FqWEC\\u002fRpIgXL9YQOxsyD8z01hAAOXv3lEIWUAAAAAAAABZQFVMpZ9wHVlAAAAAAABAWUDsbMg\\u002fM9NYQFUxlX7CtVhAlgUTfxR+WECW6gJeZhZaQBSTN8DMHFpA7GzIPzMjWkBqFf2hmYlaQBSuR+F6hFpAVTGVfsJ1WkAAAAAAAIBaQGoV\\u002faGZ6VpAABsQIa4XW0AtCyb+KDxbQGoV\\u002faGZOVtA7FG4HoU7W0AtCyb+KBxbQKuzWmCPYltA176AXriOW0AAGxAhrldbQJbqAl5mZltALQsm\\u002fihsW0CW6gJeZkZbQBSuR+F6VFtAAAAAAAAwW0AA5e\\u002feUfhaQBSTN8DM\\u002fFpALQsm\\u002fijcWkAAAAAAAKBaQBSuR+F6pFpA7GzIPzOzWkAAAAAAAABbQOxsyD8zE1tAQblt36MwW0ApQX+hR9FaQJYFE38UblpAlgUTfxRuWkCrs1pgjzJbQGr67IDrQVxA176AXrjuXEAA5e\\u002feUQhdQOxRuB6FC11AABsQIa6HXEC\\u002fRpIgXH9cQC0LJv4ovFxAq7NaYI+yXEBBnl2+9VhcQOxRuB6FS1xAQZ5dvvWoXEDsbMg\\u002fM3NcQAAbECGuV1xA7GzIPzNDXEDT9NkB15NcQKvOaoE9alxAVTGVfsKVXEDT9NkB16NcQAAAAAAAMF1ALQsm\\u002fiisXUDXvoBeuH5dQC0LJv4oXF1Aq5hKP+GKXUBVMZV+wnVdQFVMpZ9wjV1AQblt36NwXUAA5e\\u002feUVhdQKvOaoE9Ol1Av0aSIFxvXUC\\u002fYaJBCpddQBSTN8DM7FxAv2GiQQr3XEBVTKWfcM1cQNe+gF64jlxAKUF\\u002foUdxXECW6gJeZhZcQFVMpZ9w3VtAAAAAAACQW0BBuW3fo6BbQJYFE38U7ltAFK5H4XrUW0BVMZV+wsVbQAAbECGuN1tA0\\u002fTZAdfzWkDsUbgehetaQNe+gF64jltAluoCXmaWW0Crs1pgj6JbQL9GkiBc\\u002f1tAq5hKP+EaXEBBuW3fo+BbQAAbECGu91tAlgUTfxQeXEBq+uyA6wFcQBSTN8DMDFxALQsm\\u002fii8W0BVMZV+woVbQGr67IDrgVtAv2GiQQqXW0AtCyb+KMxbQOxRuB6FG1xAFJM3wMysXEAAAAAAAMBcQKuYSj\\u002fh+lxAFJM3wMwMXUDXvoBeuC5dQAAAAAAAIF1AAOXv3lFYXUAAAAAAAGBdQGoV\\u002faGZWV1AQblt36MgXUApQX+hRyFdQOxsyD8zc11AKUF\\u002foUeBXUC\\u002fYaJBCkddQBSTN8DMTF1AVWe1wB4VXUBBuW3foyBdQL9hokEKN11Aq85qgT2KXUDsUbgehdtdQADl795R2F1A7FG4HoX7XUDsbMg\\u002fM9NdQAAbECGu511Av0aSIFwPXkAAAAAAACBeQFUxlX7CBV5AFJM3wMwcXkDT9NkB1zNeQJbqAl5mBl5AluoCXmaGXkAtCyb+KJxeQJbqAl5mll5AAOXv3lFoXkBBnl2+9VheQAw89x6uT2BAIM8u33osYECWBRN\\u002fFCZgQAAAAAAAUGBAq5hKP+GCYEDLgok\\u002fCodgQIrJG2BmjmBAlgUTfxSeYEC371F\\u002fPbpgQKuYSj\\u002fh4mBAQblt36MIYUAUkzfAzPxgQA==\"},\"yaxis\":\"y\",\"type\":\"scatter\"}],                        {\"template\":{\"data\":{\"histogram2dcontour\":[{\"type\":\"histogram2dcontour\",\"colorbar\":{\"outlinewidth\":0,\"ticks\":\"\"},\"colorscale\":[[0.0,\"#0d0887\"],[0.1111111111111111,\"#46039f\"],[0.2222222222222222,\"#7201a8\"],[0.3333333333333333,\"#9c179e\"],[0.4444444444444444,\"#bd3786\"],[0.5555555555555556,\"#d8576b\"],[0.6666666666666666,\"#ed7953\"],[0.7777777777777778,\"#fb9f3a\"],[0.8888888888888888,\"#fdca26\"],[1.0,\"#f0f921\"]]}],\"choropleth\":[{\"type\":\"choropleth\",\"colorbar\":{\"outlinewidth\":0,\"ticks\":\"\"}}],\"histogram2d\":[{\"type\":\"histogram2d\",\"colorbar\":{\"outlinewidth\":0,\"ticks\":\"\"},\"colorscale\":[[0.0,\"#0d0887\"],[0.1111111111111111,\"#46039f\"],[0.2222222222222222,\"#7201a8\"],[0.3333333333333333,\"#9c179e\"],[0.4444444444444444,\"#bd3786\"],[0.5555555555555556,\"#d8576b\"],[0.6666666666666666,\"#ed7953\"],[0.7777777777777778,\"#fb9f3a\"],[0.8888888888888888,\"#fdca26\"],[1.0,\"#f0f921\"]]}],\"heatmap\":[{\"type\":\"heatmap\",\"colorbar\":{\"outlinewidth\":0,\"ticks\":\"\"},\"colorscale\":[[0.0,\"#0d0887\"],[0.1111111111111111,\"#46039f\"],[0.2222222222222222,\"#7201a8\"],[0.3333333333333333,\"#9c179e\"],[0.4444444444444444,\"#bd3786\"],[0.5555555555555556,\"#d8576b\"],[0.6666666666666666,\"#ed7953\"],[0.7777777777777778,\"#fb9f3a\"],[0.8888888888888888,\"#fdca26\"],[1.0,\"#f0f921\"]]}],\"contourcarpet\":[{\"type\":\"contourcarpet\",\"colorbar\":{\"outlinewidth\":0,\"ticks\":\"\"}}],\"contour\":[{\"type\":\"contour\",\"colorbar\":{\"outlinewidth\":0,\"ticks\":\"\"},\"colorscale\":[[0.0,\"#0d0887\"],[0.1111111111111111,\"#46039f\"],[0.2222222222222222,\"#7201a8\"],[0.3333333333333333,\"#9c179e\"],[0.4444444444444444,\"#bd3786\"],[0.5555555555555556,\"#d8576b\"],[0.6666666666666666,\"#ed7953\"],[0.7777777777777778,\"#fb9f3a\"],[0.8888888888888888,\"#fdca26\"],[1.0,\"#f0f921\"]]}],\"surface\":[{\"type\":\"surface\",\"colorbar\":{\"outlinewidth\":0,\"ticks\":\"\"},\"colorscale\":[[0.0,\"#0d0887\"],[0.1111111111111111,\"#46039f\"],[0.2222222222222222,\"#7201a8\"],[0.3333333333333333,\"#9c179e\"],[0.4444444444444444,\"#bd3786\"],[0.5555555555555556,\"#d8576b\"],[0.6666666666666666,\"#ed7953\"],[0.7777777777777778,\"#fb9f3a\"],[0.8888888888888888,\"#fdca26\"],[1.0,\"#f0f921\"]]}],\"mesh3d\":[{\"type\":\"mesh3d\",\"colorbar\":{\"outlinewidth\":0,\"ticks\":\"\"}}],\"scatter\":[{\"fillpattern\":{\"fillmode\":\"overlay\",\"size\":10,\"solidity\":0.2},\"type\":\"scatter\"}],\"parcoords\":[{\"type\":\"parcoords\",\"line\":{\"colorbar\":{\"outlinewidth\":0,\"ticks\":\"\"}}}],\"scatterpolargl\":[{\"type\":\"scatterpolargl\",\"marker\":{\"colorbar\":{\"outlinewidth\":0,\"ticks\":\"\"}}}],\"bar\":[{\"error_x\":{\"color\":\"#2a3f5f\"},\"error_y\":{\"color\":\"#2a3f5f\"},\"marker\":{\"line\":{\"color\":\"#E5ECF6\",\"width\":0.5},\"pattern\":{\"fillmode\":\"overlay\",\"size\":10,\"solidity\":0.2}},\"type\":\"bar\"}],\"scattergeo\":[{\"type\":\"scattergeo\",\"marker\":{\"colorbar\":{\"outlinewidth\":0,\"ticks\":\"\"}}}],\"scatterpolar\":[{\"type\":\"scatterpolar\",\"marker\":{\"colorbar\":{\"outlinewidth\":0,\"ticks\":\"\"}}}],\"histogram\":[{\"marker\":{\"pattern\":{\"fillmode\":\"overlay\",\"size\":10,\"solidity\":0.2}},\"type\":\"histogram\"}],\"scattergl\":[{\"type\":\"scattergl\",\"marker\":{\"colorbar\":{\"outlinewidth\":0,\"ticks\":\"\"}}}],\"scatter3d\":[{\"type\":\"scatter3d\",\"line\":{\"colorbar\":{\"outlinewidth\":0,\"ticks\":\"\"}},\"marker\":{\"colorbar\":{\"outlinewidth\":0,\"ticks\":\"\"}}}],\"scattermap\":[{\"type\":\"scattermap\",\"marker\":{\"colorbar\":{\"outlinewidth\":0,\"ticks\":\"\"}}}],\"scattermapbox\":[{\"type\":\"scattermapbox\",\"marker\":{\"colorbar\":{\"outlinewidth\":0,\"ticks\":\"\"}}}],\"scatterternary\":[{\"type\":\"scatterternary\",\"marker\":{\"colorbar\":{\"outlinewidth\":0,\"ticks\":\"\"}}}],\"scattercarpet\":[{\"type\":\"scattercarpet\",\"marker\":{\"colorbar\":{\"outlinewidth\":0,\"ticks\":\"\"}}}],\"carpet\":[{\"aaxis\":{\"endlinecolor\":\"#2a3f5f\",\"gridcolor\":\"white\",\"linecolor\":\"white\",\"minorgridcolor\":\"white\",\"startlinecolor\":\"#2a3f5f\"},\"baxis\":{\"endlinecolor\":\"#2a3f5f\",\"gridcolor\":\"white\",\"linecolor\":\"white\",\"minorgridcolor\":\"white\",\"startlinecolor\":\"#2a3f5f\"},\"type\":\"carpet\"}],\"table\":[{\"cells\":{\"fill\":{\"color\":\"#EBF0F8\"},\"line\":{\"color\":\"white\"}},\"header\":{\"fill\":{\"color\":\"#C8D4E3\"},\"line\":{\"color\":\"white\"}},\"type\":\"table\"}],\"barpolar\":[{\"marker\":{\"line\":{\"color\":\"#E5ECF6\",\"width\":0.5},\"pattern\":{\"fillmode\":\"overlay\",\"size\":10,\"solidity\":0.2}},\"type\":\"barpolar\"}],\"pie\":[{\"automargin\":true,\"type\":\"pie\"}]},\"layout\":{\"autotypenumbers\":\"strict\",\"colorway\":[\"#636efa\",\"#EF553B\",\"#00cc96\",\"#ab63fa\",\"#FFA15A\",\"#19d3f3\",\"#FF6692\",\"#B6E880\",\"#FF97FF\",\"#FECB52\"],\"font\":{\"color\":\"#2a3f5f\"},\"hovermode\":\"closest\",\"hoverlabel\":{\"align\":\"left\"},\"paper_bgcolor\":\"white\",\"plot_bgcolor\":\"#E5ECF6\",\"polar\":{\"bgcolor\":\"#E5ECF6\",\"angularaxis\":{\"gridcolor\":\"white\",\"linecolor\":\"white\",\"ticks\":\"\"},\"radialaxis\":{\"gridcolor\":\"white\",\"linecolor\":\"white\",\"ticks\":\"\"}},\"ternary\":{\"bgcolor\":\"#E5ECF6\",\"aaxis\":{\"gridcolor\":\"white\",\"linecolor\":\"white\",\"ticks\":\"\"},\"baxis\":{\"gridcolor\":\"white\",\"linecolor\":\"white\",\"ticks\":\"\"},\"caxis\":{\"gridcolor\":\"white\",\"linecolor\":\"white\",\"ticks\":\"\"}},\"coloraxis\":{\"colorbar\":{\"outlinewidth\":0,\"ticks\":\"\"}},\"colorscale\":{\"sequential\":[[0.0,\"#0d0887\"],[0.1111111111111111,\"#46039f\"],[0.2222222222222222,\"#7201a8\"],[0.3333333333333333,\"#9c179e\"],[0.4444444444444444,\"#bd3786\"],[0.5555555555555556,\"#d8576b\"],[0.6666666666666666,\"#ed7953\"],[0.7777777777777778,\"#fb9f3a\"],[0.8888888888888888,\"#fdca26\"],[1.0,\"#f0f921\"]],\"sequentialminus\":[[0.0,\"#0d0887\"],[0.1111111111111111,\"#46039f\"],[0.2222222222222222,\"#7201a8\"],[0.3333333333333333,\"#9c179e\"],[0.4444444444444444,\"#bd3786\"],[0.5555555555555556,\"#d8576b\"],[0.6666666666666666,\"#ed7953\"],[0.7777777777777778,\"#fb9f3a\"],[0.8888888888888888,\"#fdca26\"],[1.0,\"#f0f921\"]],\"diverging\":[[0,\"#8e0152\"],[0.1,\"#c51b7d\"],[0.2,\"#de77ae\"],[0.3,\"#f1b6da\"],[0.4,\"#fde0ef\"],[0.5,\"#f7f7f7\"],[0.6,\"#e6f5d0\"],[0.7,\"#b8e186\"],[0.8,\"#7fbc41\"],[0.9,\"#4d9221\"],[1,\"#276419\"]]},\"xaxis\":{\"gridcolor\":\"white\",\"linecolor\":\"white\",\"ticks\":\"\",\"title\":{\"standoff\":15},\"zerolinecolor\":\"white\",\"automargin\":true,\"zerolinewidth\":2},\"yaxis\":{\"gridcolor\":\"white\",\"linecolor\":\"white\",\"ticks\":\"\",\"title\":{\"standoff\":15},\"zerolinecolor\":\"white\",\"automargin\":true,\"zerolinewidth\":2},\"scene\":{\"xaxis\":{\"backgroundcolor\":\"#E5ECF6\",\"gridcolor\":\"white\",\"linecolor\":\"white\",\"showbackground\":true,\"ticks\":\"\",\"zerolinecolor\":\"white\",\"gridwidth\":2},\"yaxis\":{\"backgroundcolor\":\"#E5ECF6\",\"gridcolor\":\"white\",\"linecolor\":\"white\",\"showbackground\":true,\"ticks\":\"\",\"zerolinecolor\":\"white\",\"gridwidth\":2},\"zaxis\":{\"backgroundcolor\":\"#E5ECF6\",\"gridcolor\":\"white\",\"linecolor\":\"white\",\"showbackground\":true,\"ticks\":\"\",\"zerolinecolor\":\"white\",\"gridwidth\":2}},\"shapedefaults\":{\"line\":{\"color\":\"#2a3f5f\"}},\"annotationdefaults\":{\"arrowcolor\":\"#2a3f5f\",\"arrowhead\":0,\"arrowwidth\":1},\"geo\":{\"bgcolor\":\"white\",\"landcolor\":\"#E5ECF6\",\"subunitcolor\":\"white\",\"showland\":true,\"showlakes\":true,\"lakecolor\":\"white\"},\"title\":{\"x\":0.05},\"mapbox\":{\"style\":\"light\"}}},\"xaxis\":{\"anchor\":\"y\",\"domain\":[0.0,1.0],\"title\":{\"text\":\"Date\"}},\"yaxis\":{\"anchor\":\"x\",\"domain\":[0.0,1.0],\"title\":{\"text\":\"AAPL.High\"}},\"legend\":{\"tracegroupgap\":0},\"title\":{\"text\":\"AAPL High Prices\"}},                        {\"responsive\": true}                    ).then(function(){\n",
       "                            \n",
       "var gd = document.getElementById('eb6d2c29-0e8c-4406-9782-da7c900fcd1a');\n",
       "var x = new MutationObserver(function (mutations, observer) {{\n",
       "        var display = window.getComputedStyle(gd).display;\n",
       "        if (!display || display === 'none') {{\n",
       "            console.log([gd, 'removed!']);\n",
       "            Plotly.purge(gd);\n",
       "            observer.disconnect();\n",
       "        }}\n",
       "}});\n",
       "\n",
       "// Listen for the removal of the full notebook cells\n",
       "var notebookContainer = gd.closest('#notebook-container');\n",
       "if (notebookContainer) {{\n",
       "    x.observe(notebookContainer, {childList: true});\n",
       "}}\n",
       "\n",
       "// Listen for the clearing of the current output cell\n",
       "var outputEl = gd.closest('.output');\n",
       "if (outputEl) {{\n",
       "    x.observe(outputEl, {childList: true});\n",
       "}}\n",
       "\n",
       "                        })                };            </script>        </div>"
      ]
     },
     "metadata": {},
     "output_type": "display_data"
    }
   ],
   "source": [
    "# 01. Importar:\n",
    "#     Bibliotecas: matplotlib, numpy\n",
    "#     Módulos: pyplot\n",
    "import cufflinks as cf\n",
    "import pandas as pd\n",
    "import plotly.express as px\n",
    "\n",
    "# Load sample data\n",
    "df = pd.read_csv('https://raw.githubusercontent.com/plotly/datasets/master/finance-charts-apple.csv')\n",
    "\n",
    "# Create line plot with Cufflinks and Plotly\n",
    "fig = px.scatter(df, x='Date', y='AAPL.High', title='AAPL High Prices')\n",
    "fig.show()"
   ]
  },
  {
   "cell_type": "markdown",
   "id": "ef0266ce",
   "metadata": {},
   "source": [
    "################################\n",
    "# Cell 08:\n",
    "################################\n",
    "\n",
    "<h2>  Exemplo 03 - Bar Plot </h2>\n",
    "\n",
    "<h2 style=\"background-color:orange;color:white;padding-top:10px;text-align:center;font-weight:bold;font-style:italic;font-size:1cm;padding-bottom:20px;\"> Exemplo 03 - Bar Plot  </h2>\n",
    "\n",
    "\n",
    " Markdown\n",
    " SHIFT + ENTER\n"
   ]
  },
  {
   "cell_type": "markdown",
   "id": "802eeee4",
   "metadata": {},
   "source": [
    "################################\n",
    "# Cell 09:\n",
    "################################\n"
   ]
  },
  {
   "cell_type": "code",
   "execution_count": 4,
   "id": "08c7c013",
   "metadata": {},
   "outputs": [
    {
     "data": {
      "application/vnd.plotly.v1+json": {
       "config": {
        "plotlyServerURL": "https://plot.ly"
       },
       "data": [
        {
         "hovertemplate": "Date=%{x}<br>AAPL.High=%{y}<extra></extra>",
         "legendgroup": "",
         "marker": {
          "color": "rgb(76,114,176)",
          "pattern": {
           "shape": ""
          }
         },
         "name": "",
         "orientation": "v",
         "showlegend": false,
         "textposition": "auto",
         "type": "bar",
         "x": [
          "2015-02-17",
          "2015-02-18",
          "2015-02-19",
          "2015-02-20",
          "2015-02-23",
          "2015-02-24",
          "2015-02-25",
          "2015-02-26",
          "2015-02-27",
          "2015-03-02",
          "2015-03-03",
          "2015-03-04",
          "2015-03-05",
          "2015-03-06",
          "2015-03-09",
          "2015-03-10",
          "2015-03-11",
          "2015-03-12",
          "2015-03-13",
          "2015-03-16",
          "2015-03-17",
          "2015-03-18",
          "2015-03-19",
          "2015-03-20",
          "2015-03-23",
          "2015-03-24",
          "2015-03-25",
          "2015-03-26",
          "2015-03-27",
          "2015-03-30",
          "2015-03-31",
          "2015-04-01",
          "2015-04-02",
          "2015-04-06",
          "2015-04-07",
          "2015-04-08",
          "2015-04-09",
          "2015-04-10",
          "2015-04-13",
          "2015-04-14",
          "2015-04-15",
          "2015-04-16",
          "2015-04-17",
          "2015-04-20",
          "2015-04-21",
          "2015-04-22",
          "2015-04-23",
          "2015-04-24",
          "2015-04-27",
          "2015-04-28",
          "2015-04-29",
          "2015-04-30",
          "2015-05-01",
          "2015-05-04",
          "2015-05-05",
          "2015-05-06",
          "2015-05-07",
          "2015-05-08",
          "2015-05-11",
          "2015-05-12",
          "2015-05-13",
          "2015-05-14",
          "2015-05-15",
          "2015-05-18",
          "2015-05-19",
          "2015-05-20",
          "2015-05-21",
          "2015-05-22",
          "2015-05-26",
          "2015-05-27",
          "2015-05-28",
          "2015-05-29",
          "2015-06-01",
          "2015-06-02",
          "2015-06-03",
          "2015-06-04",
          "2015-06-05",
          "2015-06-08",
          "2015-06-09",
          "2015-06-10",
          "2015-06-11",
          "2015-06-12",
          "2015-06-15",
          "2015-06-16",
          "2015-06-17",
          "2015-06-18",
          "2015-06-19",
          "2015-06-22",
          "2015-06-23",
          "2015-06-24",
          "2015-06-25",
          "2015-06-26",
          "2015-06-29",
          "2015-06-30",
          "2015-07-01",
          "2015-07-02",
          "2015-07-06",
          "2015-07-07",
          "2015-07-08",
          "2015-07-09",
          "2015-07-10",
          "2015-07-13",
          "2015-07-14",
          "2015-07-15",
          "2015-07-16",
          "2015-07-17",
          "2015-07-20",
          "2015-07-21",
          "2015-07-22",
          "2015-07-23",
          "2015-07-24",
          "2015-07-27",
          "2015-07-28",
          "2015-07-29",
          "2015-07-30",
          "2015-07-31",
          "2015-08-03",
          "2015-08-04",
          "2015-08-05",
          "2015-08-06",
          "2015-08-07",
          "2015-08-10",
          "2015-08-11",
          "2015-08-12",
          "2015-08-13",
          "2015-08-14",
          "2015-08-17",
          "2015-08-18",
          "2015-08-19",
          "2015-08-20",
          "2015-08-21",
          "2015-08-24",
          "2015-08-25",
          "2015-08-26",
          "2015-08-27",
          "2015-08-28",
          "2015-08-31",
          "2015-09-01",
          "2015-09-02",
          "2015-09-03",
          "2015-09-04",
          "2015-09-08",
          "2015-09-09",
          "2015-09-10",
          "2015-09-11",
          "2015-09-14",
          "2015-09-15",
          "2015-09-16",
          "2015-09-17",
          "2015-09-18",
          "2015-09-21",
          "2015-09-22",
          "2015-09-23",
          "2015-09-24",
          "2015-09-25",
          "2015-09-28",
          "2015-09-29",
          "2015-09-30",
          "2015-10-01",
          "2015-10-02",
          "2015-10-05",
          "2015-10-06",
          "2015-10-07",
          "2015-10-08",
          "2015-10-09",
          "2015-10-12",
          "2015-10-13",
          "2015-10-14",
          "2015-10-15",
          "2015-10-16",
          "2015-10-19",
          "2015-10-20",
          "2015-10-21",
          "2015-10-22",
          "2015-10-23",
          "2015-10-26",
          "2015-10-27",
          "2015-10-28",
          "2015-10-29",
          "2015-10-30",
          "2015-11-02",
          "2015-11-03",
          "2015-11-04",
          "2015-11-05",
          "2015-11-06",
          "2015-11-09",
          "2015-11-10",
          "2015-11-11",
          "2015-11-12",
          "2015-11-13",
          "2015-11-16",
          "2015-11-17",
          "2015-11-18",
          "2015-11-19",
          "2015-11-20",
          "2015-11-23",
          "2015-11-24",
          "2015-11-25",
          "2015-11-27",
          "2015-11-30",
          "2015-12-01",
          "2015-12-02",
          "2015-12-03",
          "2015-12-04",
          "2015-12-07",
          "2015-12-08",
          "2015-12-09",
          "2015-12-10",
          "2015-12-11",
          "2015-12-14",
          "2015-12-15",
          "2015-12-16",
          "2015-12-17",
          "2015-12-18",
          "2015-12-21",
          "2015-12-22",
          "2015-12-23",
          "2015-12-24",
          "2015-12-28",
          "2015-12-29",
          "2015-12-30",
          "2015-12-31",
          "2016-01-04",
          "2016-01-05",
          "2016-01-06",
          "2016-01-07",
          "2016-01-08",
          "2016-01-11",
          "2016-01-12",
          "2016-01-13",
          "2016-01-14",
          "2016-01-15",
          "2016-01-19",
          "2016-01-20",
          "2016-01-21",
          "2016-01-22",
          "2016-01-25",
          "2016-01-26",
          "2016-01-27",
          "2016-01-28",
          "2016-01-29",
          "2016-02-01",
          "2016-02-02",
          "2016-02-03",
          "2016-02-04",
          "2016-02-05",
          "2016-02-08",
          "2016-02-09",
          "2016-02-10",
          "2016-02-11",
          "2016-02-12",
          "2016-02-16",
          "2016-02-17",
          "2016-02-18",
          "2016-02-19",
          "2016-02-22",
          "2016-02-23",
          "2016-02-24",
          "2016-02-25",
          "2016-02-26",
          "2016-02-29",
          "2016-03-01",
          "2016-03-02",
          "2016-03-03",
          "2016-03-04",
          "2016-03-07",
          "2016-03-08",
          "2016-03-09",
          "2016-03-10",
          "2016-03-11",
          "2016-03-14",
          "2016-03-15",
          "2016-03-16",
          "2016-03-17",
          "2016-03-18",
          "2016-03-21",
          "2016-03-22",
          "2016-03-23",
          "2016-03-24",
          "2016-03-28",
          "2016-03-29",
          "2016-03-30",
          "2016-03-31",
          "2016-04-01",
          "2016-04-04",
          "2016-04-05",
          "2016-04-06",
          "2016-04-07",
          "2016-04-08",
          "2016-04-11",
          "2016-04-12",
          "2016-04-13",
          "2016-04-14",
          "2016-04-15",
          "2016-04-18",
          "2016-04-19",
          "2016-04-20",
          "2016-04-21",
          "2016-04-22",
          "2016-04-25",
          "2016-04-26",
          "2016-04-27",
          "2016-04-28",
          "2016-04-29",
          "2016-05-02",
          "2016-05-03",
          "2016-05-04",
          "2016-05-05",
          "2016-05-06",
          "2016-05-09",
          "2016-05-10",
          "2016-05-11",
          "2016-05-12",
          "2016-05-13",
          "2016-05-16",
          "2016-05-17",
          "2016-05-18",
          "2016-05-19",
          "2016-05-20",
          "2016-05-23",
          "2016-05-24",
          "2016-05-25",
          "2016-05-26",
          "2016-05-27",
          "2016-05-31",
          "2016-06-01",
          "2016-06-02",
          "2016-06-03",
          "2016-06-06",
          "2016-06-07",
          "2016-06-08",
          "2016-06-09",
          "2016-06-10",
          "2016-06-13",
          "2016-06-14",
          "2016-06-15",
          "2016-06-16",
          "2016-06-17",
          "2016-06-20",
          "2016-06-21",
          "2016-06-22",
          "2016-06-23",
          "2016-06-24",
          "2016-06-27",
          "2016-06-28",
          "2016-06-29",
          "2016-06-30",
          "2016-07-01",
          "2016-07-05",
          "2016-07-06",
          "2016-07-07",
          "2016-07-08",
          "2016-07-11",
          "2016-07-12",
          "2016-07-13",
          "2016-07-14",
          "2016-07-15",
          "2016-07-18",
          "2016-07-19",
          "2016-07-20",
          "2016-07-21",
          "2016-07-22",
          "2016-07-25",
          "2016-07-26",
          "2016-07-27",
          "2016-07-28",
          "2016-07-29",
          "2016-08-01",
          "2016-08-02",
          "2016-08-03",
          "2016-08-04",
          "2016-08-05",
          "2016-08-08",
          "2016-08-09",
          "2016-08-10",
          "2016-08-11",
          "2016-08-12",
          "2016-08-15",
          "2016-08-16",
          "2016-08-17",
          "2016-08-18",
          "2016-08-19",
          "2016-08-22",
          "2016-08-23",
          "2016-08-24",
          "2016-08-25",
          "2016-08-26",
          "2016-08-29",
          "2016-08-30",
          "2016-08-31",
          "2016-09-01",
          "2016-09-02",
          "2016-09-06",
          "2016-09-07",
          "2016-09-08",
          "2016-09-09",
          "2016-09-12",
          "2016-09-13",
          "2016-09-14",
          "2016-09-15",
          "2016-09-16",
          "2016-09-19",
          "2016-09-20",
          "2016-09-21",
          "2016-09-22",
          "2016-09-23",
          "2016-09-26",
          "2016-09-27",
          "2016-09-28",
          "2016-09-29",
          "2016-09-30",
          "2016-10-03",
          "2016-10-04",
          "2016-10-05",
          "2016-10-06",
          "2016-10-07",
          "2016-10-10",
          "2016-10-11",
          "2016-10-12",
          "2016-10-13",
          "2016-10-14",
          "2016-10-17",
          "2016-10-18",
          "2016-10-19",
          "2016-10-20",
          "2016-10-21",
          "2016-10-24",
          "2016-10-25",
          "2016-10-26",
          "2016-10-27",
          "2016-10-28",
          "2016-10-31",
          "2016-11-01",
          "2016-11-02",
          "2016-11-03",
          "2016-11-04",
          "2016-11-07",
          "2016-11-08",
          "2016-11-09",
          "2016-11-10",
          "2016-11-11",
          "2016-11-14",
          "2016-11-15",
          "2016-11-16",
          "2016-11-17",
          "2016-11-18",
          "2016-11-21",
          "2016-11-22",
          "2016-11-23",
          "2016-11-25",
          "2016-11-28",
          "2016-11-29",
          "2016-11-30",
          "2016-12-01",
          "2016-12-02",
          "2016-12-05",
          "2016-12-06",
          "2016-12-07",
          "2016-12-08",
          "2016-12-09",
          "2016-12-12",
          "2016-12-13",
          "2016-12-14",
          "2016-12-15",
          "2016-12-16",
          "2016-12-19",
          "2016-12-20",
          "2016-12-21",
          "2016-12-22",
          "2016-12-23",
          "2016-12-27",
          "2016-12-28",
          "2016-12-29",
          "2016-12-30",
          "2017-01-03",
          "2017-01-04",
          "2017-01-05",
          "2017-01-06",
          "2017-01-09",
          "2017-01-10",
          "2017-01-11",
          "2017-01-12",
          "2017-01-13",
          "2017-01-17",
          "2017-01-18",
          "2017-01-19",
          "2017-01-20",
          "2017-01-23",
          "2017-01-24",
          "2017-01-25",
          "2017-01-26",
          "2017-01-27",
          "2017-01-30",
          "2017-01-31",
          "2017-02-01",
          "2017-02-02",
          "2017-02-03",
          "2017-02-06",
          "2017-02-07",
          "2017-02-08",
          "2017-02-09",
          "2017-02-10",
          "2017-02-13",
          "2017-02-14",
          "2017-02-15",
          "2017-02-16"
         ],
         "xaxis": "x",
         "y": {
          "bdata": "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",
          "dtype": "f8"
         },
         "yaxis": "y"
        }
       ],
       "layout": {
        "barmode": "relative",
        "legend": {
         "tracegroupgap": 0
        },
        "template": {
         "data": {
          "bar": [
           {
            "error_x": {
             "color": "rgb(36,36,36)"
            },
            "error_y": {
             "color": "rgb(36,36,36)"
            },
            "marker": {
             "line": {
              "color": "rgb(234,234,242)",
              "width": 0.5
             },
             "pattern": {
              "fillmode": "overlay",
              "size": 10,
              "solidity": 0.2
             }
            },
            "type": "bar"
           }
          ],
          "barpolar": [
           {
            "marker": {
             "line": {
              "color": "rgb(234,234,242)",
              "width": 0.5
             },
             "pattern": {
              "fillmode": "overlay",
              "size": 10,
              "solidity": 0.2
             }
            },
            "type": "barpolar"
           }
          ],
          "carpet": [
           {
            "aaxis": {
             "endlinecolor": "rgb(36,36,36)",
             "gridcolor": "white",
             "linecolor": "white",
             "minorgridcolor": "white",
             "startlinecolor": "rgb(36,36,36)"
            },
            "baxis": {
             "endlinecolor": "rgb(36,36,36)",
             "gridcolor": "white",
             "linecolor": "white",
             "minorgridcolor": "white",
             "startlinecolor": "rgb(36,36,36)"
            },
            "type": "carpet"
           }
          ],
          "choropleth": [
           {
            "colorbar": {
             "outlinewidth": 0,
             "tickcolor": "rgb(36,36,36)",
             "ticklen": 8,
             "ticks": "outside",
             "tickwidth": 2
            },
            "type": "choropleth"
           }
          ],
          "contour": [
           {
            "colorbar": {
             "outlinewidth": 0,
             "tickcolor": "rgb(36,36,36)",
             "ticklen": 8,
             "ticks": "outside",
             "tickwidth": 2
            },
            "colorscale": [
             [
              0,
              "rgb(2,4,25)"
             ],
             [
              0.06274509803921569,
              "rgb(24,15,41)"
             ],
             [
              0.12549019607843137,
              "rgb(47,23,57)"
             ],
             [
              0.18823529411764706,
              "rgb(71,28,72)"
             ],
             [
              0.25098039215686274,
              "rgb(97,30,82)"
             ],
             [
              0.3137254901960784,
              "rgb(123,30,89)"
             ],
             [
              0.3764705882352941,
              "rgb(150,27,91)"
             ],
             [
              0.4392156862745098,
              "rgb(177,22,88)"
             ],
             [
              0.5019607843137255,
              "rgb(203,26,79)"
             ],
             [
              0.5647058823529412,
              "rgb(223,47,67)"
             ],
             [
              0.6274509803921569,
              "rgb(236,76,61)"
             ],
             [
              0.6901960784313725,
              "rgb(242,107,73)"
             ],
             [
              0.7529411764705882,
              "rgb(244,135,95)"
             ],
             [
              0.8156862745098039,
              "rgb(245,162,122)"
             ],
             [
              0.8784313725490196,
              "rgb(246,188,153)"
             ],
             [
              0.9411764705882353,
              "rgb(247,212,187)"
             ],
             [
              1,
              "rgb(250,234,220)"
             ]
            ],
            "type": "contour"
           }
          ],
          "contourcarpet": [
           {
            "colorbar": {
             "outlinewidth": 0,
             "tickcolor": "rgb(36,36,36)",
             "ticklen": 8,
             "ticks": "outside",
             "tickwidth": 2
            },
            "type": "contourcarpet"
           }
          ],
          "heatmap": [
           {
            "colorbar": {
             "outlinewidth": 0,
             "tickcolor": "rgb(36,36,36)",
             "ticklen": 8,
             "ticks": "outside",
             "tickwidth": 2
            },
            "colorscale": [
             [
              0,
              "rgb(2,4,25)"
             ],
             [
              0.06274509803921569,
              "rgb(24,15,41)"
             ],
             [
              0.12549019607843137,
              "rgb(47,23,57)"
             ],
             [
              0.18823529411764706,
              "rgb(71,28,72)"
             ],
             [
              0.25098039215686274,
              "rgb(97,30,82)"
             ],
             [
              0.3137254901960784,
              "rgb(123,30,89)"
             ],
             [
              0.3764705882352941,
              "rgb(150,27,91)"
             ],
             [
              0.4392156862745098,
              "rgb(177,22,88)"
             ],
             [
              0.5019607843137255,
              "rgb(203,26,79)"
             ],
             [
              0.5647058823529412,
              "rgb(223,47,67)"
             ],
             [
              0.6274509803921569,
              "rgb(236,76,61)"
             ],
             [
              0.6901960784313725,
              "rgb(242,107,73)"
             ],
             [
              0.7529411764705882,
              "rgb(244,135,95)"
             ],
             [
              0.8156862745098039,
              "rgb(245,162,122)"
             ],
             [
              0.8784313725490196,
              "rgb(246,188,153)"
             ],
             [
              0.9411764705882353,
              "rgb(247,212,187)"
             ],
             [
              1,
              "rgb(250,234,220)"
             ]
            ],
            "type": "heatmap"
           }
          ],
          "histogram": [
           {
            "marker": {
             "pattern": {
              "fillmode": "overlay",
              "size": 10,
              "solidity": 0.2
             }
            },
            "type": "histogram"
           }
          ],
          "histogram2d": [
           {
            "colorbar": {
             "outlinewidth": 0,
             "tickcolor": "rgb(36,36,36)",
             "ticklen": 8,
             "ticks": "outside",
             "tickwidth": 2
            },
            "colorscale": [
             [
              0,
              "rgb(2,4,25)"
             ],
             [
              0.06274509803921569,
              "rgb(24,15,41)"
             ],
             [
              0.12549019607843137,
              "rgb(47,23,57)"
             ],
             [
              0.18823529411764706,
              "rgb(71,28,72)"
             ],
             [
              0.25098039215686274,
              "rgb(97,30,82)"
             ],
             [
              0.3137254901960784,
              "rgb(123,30,89)"
             ],
             [
              0.3764705882352941,
              "rgb(150,27,91)"
             ],
             [
              0.4392156862745098,
              "rgb(177,22,88)"
             ],
             [
              0.5019607843137255,
              "rgb(203,26,79)"
             ],
             [
              0.5647058823529412,
              "rgb(223,47,67)"
             ],
             [
              0.6274509803921569,
              "rgb(236,76,61)"
             ],
             [
              0.6901960784313725,
              "rgb(242,107,73)"
             ],
             [
              0.7529411764705882,
              "rgb(244,135,95)"
             ],
             [
              0.8156862745098039,
              "rgb(245,162,122)"
             ],
             [
              0.8784313725490196,
              "rgb(246,188,153)"
             ],
             [
              0.9411764705882353,
              "rgb(247,212,187)"
             ],
             [
              1,
              "rgb(250,234,220)"
             ]
            ],
            "type": "histogram2d"
           }
          ],
          "histogram2dcontour": [
           {
            "colorbar": {
             "outlinewidth": 0,
             "tickcolor": "rgb(36,36,36)",
             "ticklen": 8,
             "ticks": "outside",
             "tickwidth": 2
            },
            "colorscale": [
             [
              0,
              "rgb(2,4,25)"
             ],
             [
              0.06274509803921569,
              "rgb(24,15,41)"
             ],
             [
              0.12549019607843137,
              "rgb(47,23,57)"
             ],
             [
              0.18823529411764706,
              "rgb(71,28,72)"
             ],
             [
              0.25098039215686274,
              "rgb(97,30,82)"
             ],
             [
              0.3137254901960784,
              "rgb(123,30,89)"
             ],
             [
              0.3764705882352941,
              "rgb(150,27,91)"
             ],
             [
              0.4392156862745098,
              "rgb(177,22,88)"
             ],
             [
              0.5019607843137255,
              "rgb(203,26,79)"
             ],
             [
              0.5647058823529412,
              "rgb(223,47,67)"
             ],
             [
              0.6274509803921569,
              "rgb(236,76,61)"
             ],
             [
              0.6901960784313725,
              "rgb(242,107,73)"
             ],
             [
              0.7529411764705882,
              "rgb(244,135,95)"
             ],
             [
              0.8156862745098039,
              "rgb(245,162,122)"
             ],
             [
              0.8784313725490196,
              "rgb(246,188,153)"
             ],
             [
              0.9411764705882353,
              "rgb(247,212,187)"
             ],
             [
              1,
              "rgb(250,234,220)"
             ]
            ],
            "type": "histogram2dcontour"
           }
          ],
          "mesh3d": [
           {
            "colorbar": {
             "outlinewidth": 0,
             "tickcolor": "rgb(36,36,36)",
             "ticklen": 8,
             "ticks": "outside",
             "tickwidth": 2
            },
            "type": "mesh3d"
           }
          ],
          "parcoords": [
           {
            "line": {
             "colorbar": {
              "outlinewidth": 0,
              "tickcolor": "rgb(36,36,36)",
              "ticklen": 8,
              "ticks": "outside",
              "tickwidth": 2
             }
            },
            "type": "parcoords"
           }
          ],
          "pie": [
           {
            "automargin": true,
            "type": "pie"
           }
          ],
          "scatter": [
           {
            "fillpattern": {
             "fillmode": "overlay",
             "size": 10,
             "solidity": 0.2
            },
            "type": "scatter"
           }
          ],
          "scatter3d": [
           {
            "line": {
             "colorbar": {
              "outlinewidth": 0,
              "tickcolor": "rgb(36,36,36)",
              "ticklen": 8,
              "ticks": "outside",
              "tickwidth": 2
             }
            },
            "marker": {
             "colorbar": {
              "outlinewidth": 0,
              "tickcolor": "rgb(36,36,36)",
              "ticklen": 8,
              "ticks": "outside",
              "tickwidth": 2
             }
            },
            "type": "scatter3d"
           }
          ],
          "scattercarpet": [
           {
            "marker": {
             "colorbar": {
              "outlinewidth": 0,
              "tickcolor": "rgb(36,36,36)",
              "ticklen": 8,
              "ticks": "outside",
              "tickwidth": 2
             }
            },
            "type": "scattercarpet"
           }
          ],
          "scattergeo": [
           {
            "marker": {
             "colorbar": {
              "outlinewidth": 0,
              "tickcolor": "rgb(36,36,36)",
              "ticklen": 8,
              "ticks": "outside",
              "tickwidth": 2
             }
            },
            "type": "scattergeo"
           }
          ],
          "scattergl": [
           {
            "marker": {
             "colorbar": {
              "outlinewidth": 0,
              "tickcolor": "rgb(36,36,36)",
              "ticklen": 8,
              "ticks": "outside",
              "tickwidth": 2
             }
            },
            "type": "scattergl"
           }
          ],
          "scattermap": [
           {
            "marker": {
             "colorbar": {
              "outlinewidth": 0,
              "tickcolor": "rgb(36,36,36)",
              "ticklen": 8,
              "ticks": "outside",
              "tickwidth": 2
             }
            },
            "type": "scattermap"
           }
          ],
          "scattermapbox": [
           {
            "marker": {
             "colorbar": {
              "outlinewidth": 0,
              "tickcolor": "rgb(36,36,36)",
              "ticklen": 8,
              "ticks": "outside",
              "tickwidth": 2
             }
            },
            "type": "scattermapbox"
           }
          ],
          "scatterpolar": [
           {
            "marker": {
             "colorbar": {
              "outlinewidth": 0,
              "tickcolor": "rgb(36,36,36)",
              "ticklen": 8,
              "ticks": "outside",
              "tickwidth": 2
             }
            },
            "type": "scatterpolar"
           }
          ],
          "scatterpolargl": [
           {
            "marker": {
             "colorbar": {
              "outlinewidth": 0,
              "tickcolor": "rgb(36,36,36)",
              "ticklen": 8,
              "ticks": "outside",
              "tickwidth": 2
             }
            },
            "type": "scatterpolargl"
           }
          ],
          "scatterternary": [
           {
            "marker": {
             "colorbar": {
              "outlinewidth": 0,
              "tickcolor": "rgb(36,36,36)",
              "ticklen": 8,
              "ticks": "outside",
              "tickwidth": 2
             }
            },
            "type": "scatterternary"
           }
          ],
          "surface": [
           {
            "colorbar": {
             "outlinewidth": 0,
             "tickcolor": "rgb(36,36,36)",
             "ticklen": 8,
             "ticks": "outside",
             "tickwidth": 2
            },
            "colorscale": [
             [
              0,
              "rgb(2,4,25)"
             ],
             [
              0.06274509803921569,
              "rgb(24,15,41)"
             ],
             [
              0.12549019607843137,
              "rgb(47,23,57)"
             ],
             [
              0.18823529411764706,
              "rgb(71,28,72)"
             ],
             [
              0.25098039215686274,
              "rgb(97,30,82)"
             ],
             [
              0.3137254901960784,
              "rgb(123,30,89)"
             ],
             [
              0.3764705882352941,
              "rgb(150,27,91)"
             ],
             [
              0.4392156862745098,
              "rgb(177,22,88)"
             ],
             [
              0.5019607843137255,
              "rgb(203,26,79)"
             ],
             [
              0.5647058823529412,
              "rgb(223,47,67)"
             ],
             [
              0.6274509803921569,
              "rgb(236,76,61)"
             ],
             [
              0.6901960784313725,
              "rgb(242,107,73)"
             ],
             [
              0.7529411764705882,
              "rgb(244,135,95)"
             ],
             [
              0.8156862745098039,
              "rgb(245,162,122)"
             ],
             [
              0.8784313725490196,
              "rgb(246,188,153)"
             ],
             [
              0.9411764705882353,
              "rgb(247,212,187)"
             ],
             [
              1,
              "rgb(250,234,220)"
             ]
            ],
            "type": "surface"
           }
          ],
          "table": [
           {
            "cells": {
             "fill": {
              "color": "rgb(231,231,240)"
             },
             "line": {
              "color": "white"
             }
            },
            "header": {
             "fill": {
              "color": "rgb(183,183,191)"
             },
             "line": {
              "color": "white"
             }
            },
            "type": "table"
           }
          ]
         },
         "layout": {
          "annotationdefaults": {
           "arrowcolor": "rgb(67,103,167)"
          },
          "autotypenumbers": "strict",
          "coloraxis": {
           "colorbar": {
            "outlinewidth": 0,
            "tickcolor": "rgb(36,36,36)",
            "ticklen": 8,
            "ticks": "outside",
            "tickwidth": 2
           }
          },
          "colorscale": {
           "sequential": [
            [
             0,
             "rgb(2,4,25)"
            ],
            [
             0.06274509803921569,
             "rgb(24,15,41)"
            ],
            [
             0.12549019607843137,
             "rgb(47,23,57)"
            ],
            [
             0.18823529411764706,
             "rgb(71,28,72)"
            ],
            [
             0.25098039215686274,
             "rgb(97,30,82)"
            ],
            [
             0.3137254901960784,
             "rgb(123,30,89)"
            ],
            [
             0.3764705882352941,
             "rgb(150,27,91)"
            ],
            [
             0.4392156862745098,
             "rgb(177,22,88)"
            ],
            [
             0.5019607843137255,
             "rgb(203,26,79)"
            ],
            [
             0.5647058823529412,
             "rgb(223,47,67)"
            ],
            [
             0.6274509803921569,
             "rgb(236,76,61)"
            ],
            [
             0.6901960784313725,
             "rgb(242,107,73)"
            ],
            [
             0.7529411764705882,
             "rgb(244,135,95)"
            ],
            [
             0.8156862745098039,
             "rgb(245,162,122)"
            ],
            [
             0.8784313725490196,
             "rgb(246,188,153)"
            ],
            [
             0.9411764705882353,
             "rgb(247,212,187)"
            ],
            [
             1,
             "rgb(250,234,220)"
            ]
           ],
           "sequentialminus": [
            [
             0,
             "rgb(2,4,25)"
            ],
            [
             0.06274509803921569,
             "rgb(24,15,41)"
            ],
            [
             0.12549019607843137,
             "rgb(47,23,57)"
            ],
            [
             0.18823529411764706,
             "rgb(71,28,72)"
            ],
            [
             0.25098039215686274,
             "rgb(97,30,82)"
            ],
            [
             0.3137254901960784,
             "rgb(123,30,89)"
            ],
            [
             0.3764705882352941,
             "rgb(150,27,91)"
            ],
            [
             0.4392156862745098,
             "rgb(177,22,88)"
            ],
            [
             0.5019607843137255,
             "rgb(203,26,79)"
            ],
            [
             0.5647058823529412,
             "rgb(223,47,67)"
            ],
            [
             0.6274509803921569,
             "rgb(236,76,61)"
            ],
            [
             0.6901960784313725,
             "rgb(242,107,73)"
            ],
            [
             0.7529411764705882,
             "rgb(244,135,95)"
            ],
            [
             0.8156862745098039,
             "rgb(245,162,122)"
            ],
            [
             0.8784313725490196,
             "rgb(246,188,153)"
            ],
            [
             0.9411764705882353,
             "rgb(247,212,187)"
            ],
            [
             1,
             "rgb(250,234,220)"
            ]
           ]
          },
          "colorway": [
           "rgb(76,114,176)",
           "rgb(221,132,82)",
           "rgb(85,168,104)",
           "rgb(196,78,82)",
           "rgb(129,114,179)",
           "rgb(147,120,96)",
           "rgb(218,139,195)",
           "rgb(140,140,140)",
           "rgb(204,185,116)",
           "rgb(100,181,205)"
          ],
          "font": {
           "color": "rgb(36,36,36)"
          },
          "geo": {
           "bgcolor": "white",
           "lakecolor": "white",
           "landcolor": "rgb(234,234,242)",
           "showlakes": true,
           "showland": true,
           "subunitcolor": "white"
          },
          "hoverlabel": {
           "align": "left"
          },
          "hovermode": "closest",
          "paper_bgcolor": "white",
          "plot_bgcolor": "rgb(234,234,242)",
          "polar": {
           "angularaxis": {
            "gridcolor": "white",
            "linecolor": "white",
            "showgrid": true,
            "ticks": ""
           },
           "bgcolor": "rgb(234,234,242)",
           "radialaxis": {
            "gridcolor": "white",
            "linecolor": "white",
            "showgrid": true,
            "ticks": ""
           }
          },
          "scene": {
           "xaxis": {
            "backgroundcolor": "rgb(234,234,242)",
            "gridcolor": "white",
            "gridwidth": 2,
            "linecolor": "white",
            "showbackground": true,
            "showgrid": true,
            "ticks": "",
            "zerolinecolor": "white"
           },
           "yaxis": {
            "backgroundcolor": "rgb(234,234,242)",
            "gridcolor": "white",
            "gridwidth": 2,
            "linecolor": "white",
            "showbackground": true,
            "showgrid": true,
            "ticks": "",
            "zerolinecolor": "white"
           },
           "zaxis": {
            "backgroundcolor": "rgb(234,234,242)",
            "gridcolor": "white",
            "gridwidth": 2,
            "linecolor": "white",
            "showbackground": true,
            "showgrid": true,
            "ticks": "",
            "zerolinecolor": "white"
           }
          },
          "shapedefaults": {
           "fillcolor": "rgb(67,103,167)",
           "line": {
            "width": 0
           },
           "opacity": 0.5
          },
          "ternary": {
           "aaxis": {
            "gridcolor": "white",
            "linecolor": "white",
            "showgrid": true,
            "ticks": ""
           },
           "baxis": {
            "gridcolor": "white",
            "linecolor": "white",
            "showgrid": true,
            "ticks": ""
           },
           "bgcolor": "rgb(234,234,242)",
           "caxis": {
            "gridcolor": "white",
            "linecolor": "white",
            "showgrid": true,
            "ticks": ""
           }
          },
          "xaxis": {
           "automargin": true,
           "gridcolor": "white",
           "linecolor": "white",
           "showgrid": true,
           "ticks": "",
           "title": {
            "standoff": 15
           },
           "zerolinecolor": "white"
          },
          "yaxis": {
           "automargin": true,
           "gridcolor": "white",
           "linecolor": "white",
           "showgrid": true,
           "ticks": "",
           "title": {
            "standoff": 15
           },
           "zerolinecolor": "white"
          }
         }
        },
        "title": {
         "text": "AAPL High Prices"
        },
        "xaxis": {
         "anchor": "y",
         "domain": [
          0,
          1
         ],
         "title": {
          "text": "Date"
         }
        },
        "yaxis": {
         "anchor": "x",
         "domain": [
          0,
          1
         ],
         "title": {
          "text": "AAPL.High"
         }
        }
       }
      },
      "text/html": [
       "<div>            <script src=\"https://cdnjs.cloudflare.com/ajax/libs/mathjax/2.7.5/MathJax.js?config=TeX-AMS-MML_SVG\"></script><script type=\"text/javascript\">if (window.MathJax && window.MathJax.Hub && window.MathJax.Hub.Config) {window.MathJax.Hub.Config({SVG: {font: \"STIX-Web\"}});}</script>                <script type=\"text/javascript\">window.PlotlyConfig = {MathJaxConfig: 'local'};</script>\n",
       "        <script charset=\"utf-8\" src=\"https://cdn.plot.ly/plotly-3.0.1.min.js\"></script>                <div id=\"84969123-c1fc-4161-bb78-647daa9e798b\" class=\"plotly-graph-div\" style=\"height:525px; width:100%;\"></div>            <script type=\"text/javascript\">                window.PLOTLYENV=window.PLOTLYENV || {};                                if (document.getElementById(\"84969123-c1fc-4161-bb78-647daa9e798b\")) {                    Plotly.newPlot(                        \"84969123-c1fc-4161-bb78-647daa9e798b\",                        [{\"hovertemplate\":\"Date=%{x}\\u003cbr\\u003eAAPL.High=%{y}\\u003cextra\\u003e\\u003c\\u002fextra\\u003e\",\"legendgroup\":\"\",\"marker\":{\"color\":\"rgb(76,114,176)\",\"pattern\":{\"shape\":\"\"}},\"name\":\"\",\"orientation\":\"v\",\"showlegend\":false,\"textposition\":\"auto\",\"x\":[\"2015-02-17\",\"2015-02-18\",\"2015-02-19\",\"2015-02-20\",\"2015-02-23\",\"2015-02-24\",\"2015-02-25\",\"2015-02-26\",\"2015-02-27\",\"2015-03-02\",\"2015-03-03\",\"2015-03-04\",\"2015-03-05\",\"2015-03-06\",\"2015-03-09\",\"2015-03-10\",\"2015-03-11\",\"2015-03-12\",\"2015-03-13\",\"2015-03-16\",\"2015-03-17\",\"2015-03-18\",\"2015-03-19\",\"2015-03-20\",\"2015-03-23\",\"2015-03-24\",\"2015-03-25\",\"2015-03-26\",\"2015-03-27\",\"2015-03-30\",\"2015-03-31\",\"2015-04-01\",\"2015-04-02\",\"2015-04-06\",\"2015-04-07\",\"2015-04-08\",\"2015-04-09\",\"2015-04-10\",\"2015-04-13\",\"2015-04-14\",\"2015-04-15\",\"2015-04-16\",\"2015-04-17\",\"2015-04-20\",\"2015-04-21\",\"2015-04-22\",\"2015-04-23\",\"2015-04-24\",\"2015-04-27\",\"2015-04-28\",\"2015-04-29\",\"2015-04-30\",\"2015-05-01\",\"2015-05-04\",\"2015-05-05\",\"2015-05-06\",\"2015-05-07\",\"2015-05-08\",\"2015-05-11\",\"2015-05-12\",\"2015-05-13\",\"2015-05-14\",\"2015-05-15\",\"2015-05-18\",\"2015-05-19\",\"2015-05-20\",\"2015-05-21\",\"2015-05-22\",\"2015-05-26\",\"2015-05-27\",\"2015-05-28\",\"2015-05-29\",\"2015-06-01\",\"2015-06-02\",\"2015-06-03\",\"2015-06-04\",\"2015-06-05\",\"2015-06-08\",\"2015-06-09\",\"2015-06-10\",\"2015-06-11\",\"2015-06-12\",\"2015-06-15\",\"2015-06-16\",\"2015-06-17\",\"2015-06-18\",\"2015-06-19\",\"2015-06-22\",\"2015-06-23\",\"2015-06-24\",\"2015-06-25\",\"2015-06-26\",\"2015-06-29\",\"2015-06-30\",\"2015-07-01\",\"2015-07-02\",\"2015-07-06\",\"2015-07-07\",\"2015-07-08\",\"2015-07-09\",\"2015-07-10\",\"2015-07-13\",\"2015-07-14\",\"2015-07-15\",\"2015-07-16\",\"2015-07-17\",\"2015-07-20\",\"2015-07-21\",\"2015-07-22\",\"2015-07-23\",\"2015-07-24\",\"2015-07-27\",\"2015-07-28\",\"2015-07-29\",\"2015-07-30\",\"2015-07-31\",\"2015-08-03\",\"2015-08-04\",\"2015-08-05\",\"2015-08-06\",\"2015-08-07\",\"2015-08-10\",\"2015-08-11\",\"2015-08-12\",\"2015-08-13\",\"2015-08-14\",\"2015-08-17\",\"2015-08-18\",\"2015-08-19\",\"2015-08-20\",\"2015-08-21\",\"2015-08-24\",\"2015-08-25\",\"2015-08-26\",\"2015-08-27\",\"2015-08-28\",\"2015-08-31\",\"2015-09-01\",\"2015-09-02\",\"2015-09-03\",\"2015-09-04\",\"2015-09-08\",\"2015-09-09\",\"2015-09-10\",\"2015-09-11\",\"2015-09-14\",\"2015-09-15\",\"2015-09-16\",\"2015-09-17\",\"2015-09-18\",\"2015-09-21\",\"2015-09-22\",\"2015-09-23\",\"2015-09-24\",\"2015-09-25\",\"2015-09-28\",\"2015-09-29\",\"2015-09-30\",\"2015-10-01\",\"2015-10-02\",\"2015-10-05\",\"2015-10-06\",\"2015-10-07\",\"2015-10-08\",\"2015-10-09\",\"2015-10-12\",\"2015-10-13\",\"2015-10-14\",\"2015-10-15\",\"2015-10-16\",\"2015-10-19\",\"2015-10-20\",\"2015-10-21\",\"2015-10-22\",\"2015-10-23\",\"2015-10-26\",\"2015-10-27\",\"2015-10-28\",\"2015-10-29\",\"2015-10-30\",\"2015-11-02\",\"2015-11-03\",\"2015-11-04\",\"2015-11-05\",\"2015-11-06\",\"2015-11-09\",\"2015-11-10\",\"2015-11-11\",\"2015-11-12\",\"2015-11-13\",\"2015-11-16\",\"2015-11-17\",\"2015-11-18\",\"2015-11-19\",\"2015-11-20\",\"2015-11-23\",\"2015-11-24\",\"2015-11-25\",\"2015-11-27\",\"2015-11-30\",\"2015-12-01\",\"2015-12-02\",\"2015-12-03\",\"2015-12-04\",\"2015-12-07\",\"2015-12-08\",\"2015-12-09\",\"2015-12-10\",\"2015-12-11\",\"2015-12-14\",\"2015-12-15\",\"2015-12-16\",\"2015-12-17\",\"2015-12-18\",\"2015-12-21\",\"2015-12-22\",\"2015-12-23\",\"2015-12-24\",\"2015-12-28\",\"2015-12-29\",\"2015-12-30\",\"2015-12-31\",\"2016-01-04\",\"2016-01-05\",\"2016-01-06\",\"2016-01-07\",\"2016-01-08\",\"2016-01-11\",\"2016-01-12\",\"2016-01-13\",\"2016-01-14\",\"2016-01-15\",\"2016-01-19\",\"2016-01-20\",\"2016-01-21\",\"2016-01-22\",\"2016-01-25\",\"2016-01-26\",\"2016-01-27\",\"2016-01-28\",\"2016-01-29\",\"2016-02-01\",\"2016-02-02\",\"2016-02-03\",\"2016-02-04\",\"2016-02-05\",\"2016-02-08\",\"2016-02-09\",\"2016-02-10\",\"2016-02-11\",\"2016-02-12\",\"2016-02-16\",\"2016-02-17\",\"2016-02-18\",\"2016-02-19\",\"2016-02-22\",\"2016-02-23\",\"2016-02-24\",\"2016-02-25\",\"2016-02-26\",\"2016-02-29\",\"2016-03-01\",\"2016-03-02\",\"2016-03-03\",\"2016-03-04\",\"2016-03-07\",\"2016-03-08\",\"2016-03-09\",\"2016-03-10\",\"2016-03-11\",\"2016-03-14\",\"2016-03-15\",\"2016-03-16\",\"2016-03-17\",\"2016-03-18\",\"2016-03-21\",\"2016-03-22\",\"2016-03-23\",\"2016-03-24\",\"2016-03-28\",\"2016-03-29\",\"2016-03-30\",\"2016-03-31\",\"2016-04-01\",\"2016-04-04\",\"2016-04-05\",\"2016-04-06\",\"2016-04-07\",\"2016-04-08\",\"2016-04-11\",\"2016-04-12\",\"2016-04-13\",\"2016-04-14\",\"2016-04-15\",\"2016-04-18\",\"2016-04-19\",\"2016-04-20\",\"2016-04-21\",\"2016-04-22\",\"2016-04-25\",\"2016-04-26\",\"2016-04-27\",\"2016-04-28\",\"2016-04-29\",\"2016-05-02\",\"2016-05-03\",\"2016-05-04\",\"2016-05-05\",\"2016-05-06\",\"2016-05-09\",\"2016-05-10\",\"2016-05-11\",\"2016-05-12\",\"2016-05-13\",\"2016-05-16\",\"2016-05-17\",\"2016-05-18\",\"2016-05-19\",\"2016-05-20\",\"2016-05-23\",\"2016-05-24\",\"2016-05-25\",\"2016-05-26\",\"2016-05-27\",\"2016-05-31\",\"2016-06-01\",\"2016-06-02\",\"2016-06-03\",\"2016-06-06\",\"2016-06-07\",\"2016-06-08\",\"2016-06-09\",\"2016-06-10\",\"2016-06-13\",\"2016-06-14\",\"2016-06-15\",\"2016-06-16\",\"2016-06-17\",\"2016-06-20\",\"2016-06-21\",\"2016-06-22\",\"2016-06-23\",\"2016-06-24\",\"2016-06-27\",\"2016-06-28\",\"2016-06-29\",\"2016-06-30\",\"2016-07-01\",\"2016-07-05\",\"2016-07-06\",\"2016-07-07\",\"2016-07-08\",\"2016-07-11\",\"2016-07-12\",\"2016-07-13\",\"2016-07-14\",\"2016-07-15\",\"2016-07-18\",\"2016-07-19\",\"2016-07-20\",\"2016-07-21\",\"2016-07-22\",\"2016-07-25\",\"2016-07-26\",\"2016-07-27\",\"2016-07-28\",\"2016-07-29\",\"2016-08-01\",\"2016-08-02\",\"2016-08-03\",\"2016-08-04\",\"2016-08-05\",\"2016-08-08\",\"2016-08-09\",\"2016-08-10\",\"2016-08-11\",\"2016-08-12\",\"2016-08-15\",\"2016-08-16\",\"2016-08-17\",\"2016-08-18\",\"2016-08-19\",\"2016-08-22\",\"2016-08-23\",\"2016-08-24\",\"2016-08-25\",\"2016-08-26\",\"2016-08-29\",\"2016-08-30\",\"2016-08-31\",\"2016-09-01\",\"2016-09-02\",\"2016-09-06\",\"2016-09-07\",\"2016-09-08\",\"2016-09-09\",\"2016-09-12\",\"2016-09-13\",\"2016-09-14\",\"2016-09-15\",\"2016-09-16\",\"2016-09-19\",\"2016-09-20\",\"2016-09-21\",\"2016-09-22\",\"2016-09-23\",\"2016-09-26\",\"2016-09-27\",\"2016-09-28\",\"2016-09-29\",\"2016-09-30\",\"2016-10-03\",\"2016-10-04\",\"2016-10-05\",\"2016-10-06\",\"2016-10-07\",\"2016-10-10\",\"2016-10-11\",\"2016-10-12\",\"2016-10-13\",\"2016-10-14\",\"2016-10-17\",\"2016-10-18\",\"2016-10-19\",\"2016-10-20\",\"2016-10-21\",\"2016-10-24\",\"2016-10-25\",\"2016-10-26\",\"2016-10-27\",\"2016-10-28\",\"2016-10-31\",\"2016-11-01\",\"2016-11-02\",\"2016-11-03\",\"2016-11-04\",\"2016-11-07\",\"2016-11-08\",\"2016-11-09\",\"2016-11-10\",\"2016-11-11\",\"2016-11-14\",\"2016-11-15\",\"2016-11-16\",\"2016-11-17\",\"2016-11-18\",\"2016-11-21\",\"2016-11-22\",\"2016-11-23\",\"2016-11-25\",\"2016-11-28\",\"2016-11-29\",\"2016-11-30\",\"2016-12-01\",\"2016-12-02\",\"2016-12-05\",\"2016-12-06\",\"2016-12-07\",\"2016-12-08\",\"2016-12-09\",\"2016-12-12\",\"2016-12-13\",\"2016-12-14\",\"2016-12-15\",\"2016-12-16\",\"2016-12-19\",\"2016-12-20\",\"2016-12-21\",\"2016-12-22\",\"2016-12-23\",\"2016-12-27\",\"2016-12-28\",\"2016-12-29\",\"2016-12-30\",\"2017-01-03\",\"2017-01-04\",\"2017-01-05\",\"2017-01-06\",\"2017-01-09\",\"2017-01-10\",\"2017-01-11\",\"2017-01-12\",\"2017-01-13\",\"2017-01-17\",\"2017-01-18\",\"2017-01-19\",\"2017-01-20\",\"2017-01-23\",\"2017-01-24\",\"2017-01-25\",\"2017-01-26\",\"2017-01-27\",\"2017-01-30\",\"2017-01-31\",\"2017-02-01\",\"2017-02-02\",\"2017-02-03\",\"2017-02-06\",\"2017-02-07\",\"2017-02-08\",\"2017-02-09\",\"2017-02-10\",\"2017-02-13\",\"2017-02-14\",\"2017-02-15\",\"2017-02-16\"],\"xaxis\":\"x\",\"y\":{\"dtype\":\"f8\",\"bdata\":\"Ieo+ACkcYEA1fXbA9RhgQDV9dsD1IGBAAAAAAAAwYEAAAAAAAKBgQOxsyD8zs2BA7GzIPzNzYEDfFcH\\u002f1ltgQLfvUX89UmBANX12wPVIYEBBuW3fozBgQGr67IDrMWBAAAAAAAAYYEDfFcH\\u002f1itgQLfvUX89MmBAlgUTfxTOX0ApQX+hRzFfQGoV\\u002faGZOV9AahX9oZlZX0AUkzfAzDxfQBSuR+F61F9AVWe1wB4lYEAAAAAAAChgQBSTN8DMDGBAluoCXmb2X0A1YmafRwFgQBSuR+F6tF9AAOXv3lE4X0AUkzfAzCxfQGoV\\u002faGZmV9Av0aSIFyfX0AAGxAhrkdfQNP02QHXY19AQblt36PgX0DfFcH\\u002f1gNgQGoV\\u002faGZmV9AVWe1wB6lX0BVTKWfcM1fQLfvUX89EmBAq7NaYI\\u002fSX0AA5e\\u002feUchfQJbqAl5mxl9AQZ5dvvWIX0DfFcH\\u002f1gNgQIrJG2BmBmBA3xXB\\u002f9YbYEBVTKWfcE1gQCHqPgApVGBAIeo+ACmkYEA1YmafR9FgQKuYSj\\u002fhcmBAIM8u33oUYEAh6j4AKURgQLfvUX89UmBAiskbYGYOYEAAAAAAALBfQFVntcAehV9AABsQIa7nX0DT9NkB1+NfQADl795RuF9ALQsm\\u002fijMX0CKyRtgZh5gQAw89x6uL2BAy4KJPwpXYEAh6j4AKVxgQL9GkiBcX2BAIeo+ACl0YEDLgok\\u002fCp9gQFVntcAenWBA9MMI4VGIYECKyRtgZn5gQIrJG2BmbmBAIM8u33psYEBVZ7XAHlVgQJYFE38UXmBAq7NaYI9SYECWBRN\\u002fFDZgQMudmWC4JmBAq7NaYI8CYECrmEo\\u002f4SpgQEkQroDCRWBAq7NaYI8KYEC\\u002fRpIgXM9fQJbqAl5m9l9AAOXv3lH4X0Bq+uyA6wlgQBSuR+F69F9AavrsgOsBYEC\\u002fYaJBCudfQHY25J+ZOWBAiskbYGYmYEC\\u002fRpIgXP9fQJYFE38Unl9AABsQIa6HX0AtCyb+KLxfQC0LJv4orF9A176AXriOX0BqFf2hmYlfQEGeXb71KF9A0\\u002fTZAdcDX0CW6gJeZvZeQEG5bd+jcF9AABsQIa6XX0BqFf2hmclfQLfvUX89EmBA3xXB\\u002f9YzYEDLgok\\u002fCp9gQFVMpZ9wnWBAAAAAAABgX0BVMZV+wsVfQL9GkiBcb19Av2GiQQrnXkCrzmqBPfpeQAAAAAAA4F5AFK5H4XqkXkBBnl2+9aheQBSuR+F6pF5AFJM3wMxsXUAtCyb+KFxdQAAAAAAAIF1AAAAAAAAQXUC\\u002fRpIgXP9dQOxRuB6Fi11Aq5hKP+HaXEBqFf2hmRldQNP02QHXE11AahX9oZlpXUAtCyb+KFxdQClBf6FHIV1AluoCXmaWXEBqFf2hmflbQOxsyD8zM1tAv2GiQQrHW0BBnl2+9XhbQL9GkiBcT1xA0\\u002fTZAddTXEBq+uyA66FcQADl795R+FtAVTGVfsIVXEBq+uyA6zFcQBSTN8DMnFtA0\\u002fTZAdcjXEApQX+hR4FcQGr67IDrUVxAVUyln3CNXEBBnl2+9ThdQGr67IDrIV1Aq7NaYI8iXUC\\u002fRpIgXB9dQOxsyD8zk1xAABsQIa7XXEDsUbgehYtcQJYFE38UrlxAAAAAAADgXEAtCyb+KCxdQBSuR+F6pFxAQblt36NgXECrs1pgj+JbQAAbECGuZ1tAQblt36PAW0AAGxAhrtdbQL9GkiBc71tAKUF\\u002foUfxW0AtCyb+KIxbQGr67IDrEVxAAAAAAAAwXEAUkzfAzBxcQClBf6FH4VtAluoCXmYGXEAAAAAAAABcQAAAAAAA8FtAq5hKP+GKXEBVZ7XAHuVcQAAAAAAA4FxA176AXrjOXUAA5e\\u002feUYhdQKuzWmCPIl1A7GzIPzPTXUAtCyb+KCxeQJYFE38UTl5Av2GiQQpXXkC\\u002fRpIgXN9eQBSuR+F69F5ALQsm\\u002fiisXkDT9NkB13NeQNP02QHXc15AFK5H4XqEXUCrmEo\\u002f4VpdQBSuR+F6NF1AFK5H4XrkXEC\\u002fRpIgXI9cQOxsyD8zw1xAv0aSIFxfXUAAAAAAAPBdQKuYSj\\u002fh+l1A176AXrjuXUCW6gJeZtZdQNe+gF64zl1Aq85qgT2aXUCrzmqBPdpdQNP02QHXs11Av2GiQQqHXUCrs1pgjzJdQAAAAAAA0F1Av2GiQQr3XUCW6gJeZqZdQC0LJv4obF1ALQsm\\u002fig8XUBBnl2+9dhcQOxRuB6FK1xA7GzIPzMzXEC\\u002fRpIgXP9bQAAAAAAAEFxAKUF\\u002foUdhW0AAGxAhrtdaQJYFE38U7lpAluoCXmY2W0AAAAAAAEBbQC0LJv4o7FpA7FG4HoVbW0AUkzfAzCxbQGr67IDrwVpAABsQIa5XWkCW6gJeZnZaQAAbECGul1lAAOXv3lEIWUC\\u002fYaJBCsdYQNP02QHXw1hALQsm\\u002figsWUAtCyb+KExZQNe+gF64HllAVUyln3BtWEBqFf2hmalYQC0LJv4ojFhAAOXv3lF4WEBVTKWfcF1ZQGr67IDrYVlAAOXv3lE4WUAA5e\\u002feUShYQClBf6FHoVdAVTGVfsJVWEBVTKWfcC1YQKuzWmCPAlhAVTGVfsI1WEBVZ7XAHlVYQKuYSj\\u002fhOlhAFJM3wMzsV0AtCyb+KPxXQJbqAl5mFlhAlgUTfxSuV0AAAAAAAKBXQJbqAl5mNlhAVUyln3CNWEBBnl2+9bhYQEG5bd+jMFhAahX9oZk5WEAAAAAAACBYQADl795RGFhAQblt36MwWEApQX+hR4FYQNe+gF64jlhAKUF\\u002foUcxWUBBnl2+9ThZQFVMpZ9wbVlAAAAAAADwWUBVZ7XAHrVZQEG5bd+jcFlAVWe1wB5lWUC\\u002fRpIgXI9ZQGr67IDrkVlAq85qgT26WUDsUbgehUtaQNP02QHXk1pAlgUTfxSeWkAAAAAAAKBaQGoV\\u002faGZ6VpAq7NaYI\\u002fSWkAUrkfhesRaQAAAAAAAkFpALQsm\\u002fiiMWkCrs1pgj\\u002fJaQKuYSj\\u002fhmltAahX9oZl5W0AAAAAAAIBbQC0LJv4oDFxA176AXriuW0DXvoBeuL5bQKuYSj\\u002fhmltAKUF\\u002foUdxW0C\\u002fYaJBCqdbQAAAAAAAoFtAVTGVfsIVXEBBnl2+9RhcQOxsyD8zE1xAFJM3wMw8W0AAAAAAAABbQFUxlX7CBVtA7FG4HoW7WkDXvoBeuJ5aQGoV\\u002faGZaVpA7GzIPzNTWkBVTKWfcK1YQADl795ReFhAlgUTfxSuV0BVZ7XAHoVXQL9GkiBc71dAahX9oZn5V0AUrkfheoRXQBSTN8DMXFdAKUF\\u002foUdxV0AUrkfhemRXQBSuR+F6ZFdAavrsgOsxV0CrmEo\\u002f4epWQEGeXb71mFdAFJM3wMysV0BVTKWfcM1XQEGeXb71qFdA7FG4HoXbV0AtCyb+KExYQFUxlX7ChVhAv0aSIFzvWEDXvoBeuC5ZQJYFE38UHllAahX9oZkZWUCrs1pgj+JYQFUxlX7CdVhAKUF\\u002foUeRWEBBnl2+9XhZQAAbECGu91hA0\\u002fTZAdfjWEC\\u002fRpIgXP9YQJbqAl5m1lhAABsQIa7HWEDXvoBeuJ5YQKvOaoE9mlhAAAAAAABwWEBqFf2hmSlYQBSuR+F6JFhAluoCXmYWWEBBnl2+9ThYQKuzWmCPElhAq85qgT2qV0DsbMg\\u002fM0NXQKvOaoE9aldA7GzIPzOjV0ApQX+hR\\u002fFXQJYFE38UHlhAahX9oZnZV0CrzmqBPepXQAAAAAAAIFhAQZ5dvvU4WEBqFf2hmWlYQBSTN8DMbFhAq5hKP+FqWEC\\u002fRpIgXL9YQOxsyD8z01hAAOXv3lEIWUAAAAAAAABZQFVMpZ9wHVlAAAAAAABAWUDsbMg\\u002fM9NYQFUxlX7CtVhAlgUTfxR+WECW6gJeZhZaQBSTN8DMHFpA7GzIPzMjWkBqFf2hmYlaQBSuR+F6hFpAVTGVfsJ1WkAAAAAAAIBaQGoV\\u002faGZ6VpAABsQIa4XW0AtCyb+KDxbQGoV\\u002faGZOVtA7FG4HoU7W0AtCyb+KBxbQKuzWmCPYltA176AXriOW0AAGxAhrldbQJbqAl5mZltALQsm\\u002fihsW0CW6gJeZkZbQBSuR+F6VFtAAAAAAAAwW0AA5e\\u002feUfhaQBSTN8DM\\u002fFpALQsm\\u002fijcWkAAAAAAAKBaQBSuR+F6pFpA7GzIPzOzWkAAAAAAAABbQOxsyD8zE1tAQblt36MwW0ApQX+hR9FaQJYFE38UblpAlgUTfxRuWkCrs1pgjzJbQGr67IDrQVxA176AXrjuXEAA5e\\u002feUQhdQOxRuB6FC11AABsQIa6HXEC\\u002fRpIgXH9cQC0LJv4ovFxAq7NaYI+yXEBBnl2+9VhcQOxRuB6FS1xAQZ5dvvWoXEDsbMg\\u002fM3NcQAAbECGuV1xA7GzIPzNDXEDT9NkB15NcQKvOaoE9alxAVTGVfsKVXEDT9NkB16NcQAAAAAAAMF1ALQsm\\u002fiisXUDXvoBeuH5dQC0LJv4oXF1Aq5hKP+GKXUBVMZV+wnVdQFVMpZ9wjV1AQblt36NwXUAA5e\\u002feUVhdQKvOaoE9Ol1Av0aSIFxvXUC\\u002fYaJBCpddQBSTN8DM7FxAv2GiQQr3XEBVTKWfcM1cQNe+gF64jlxAKUF\\u002foUdxXECW6gJeZhZcQFVMpZ9w3VtAAAAAAACQW0BBuW3fo6BbQJYFE38U7ltAFK5H4XrUW0BVMZV+wsVbQAAbECGuN1tA0\\u002fTZAdfzWkDsUbgehetaQNe+gF64jltAluoCXmaWW0Crs1pgj6JbQL9GkiBc\\u002f1tAq5hKP+EaXEBBuW3fo+BbQAAbECGu91tAlgUTfxQeXEBq+uyA6wFcQBSTN8DMDFxALQsm\\u002fii8W0BVMZV+woVbQGr67IDrgVtAv2GiQQqXW0AtCyb+KMxbQOxRuB6FG1xAFJM3wMysXEAAAAAAAMBcQKuYSj\\u002fh+lxAFJM3wMwMXUDXvoBeuC5dQAAAAAAAIF1AAOXv3lFYXUAAAAAAAGBdQGoV\\u002faGZWV1AQblt36MgXUApQX+hRyFdQOxsyD8zc11AKUF\\u002foUeBXUC\\u002fYaJBCkddQBSTN8DMTF1AVWe1wB4VXUBBuW3foyBdQL9hokEKN11Aq85qgT2KXUDsUbgehdtdQADl795R2F1A7FG4HoX7XUDsbMg\\u002fM9NdQAAbECGu511Av0aSIFwPXkAAAAAAACBeQFUxlX7CBV5AFJM3wMwcXkDT9NkB1zNeQJbqAl5mBl5AluoCXmaGXkAtCyb+KJxeQJbqAl5mll5AAOXv3lFoXkBBnl2+9VheQAw89x6uT2BAIM8u33osYECWBRN\\u002fFCZgQAAAAAAAUGBAq5hKP+GCYEDLgok\\u002fCodgQIrJG2BmjmBAlgUTfxSeYEC371F\\u002fPbpgQKuYSj\\u002fh4mBAQblt36MIYUAUkzfAzPxgQA==\"},\"yaxis\":\"y\",\"type\":\"bar\"}],                        {\"template\":{\"data\":{\"barpolar\":[{\"marker\":{\"line\":{\"color\":\"rgb(234,234,242)\",\"width\":0.5},\"pattern\":{\"fillmode\":\"overlay\",\"size\":10,\"solidity\":0.2}},\"type\":\"barpolar\"}],\"bar\":[{\"error_x\":{\"color\":\"rgb(36,36,36)\"},\"error_y\":{\"color\":\"rgb(36,36,36)\"},\"marker\":{\"line\":{\"color\":\"rgb(234,234,242)\",\"width\":0.5},\"pattern\":{\"fillmode\":\"overlay\",\"size\":10,\"solidity\":0.2}},\"type\":\"bar\"}],\"carpet\":[{\"aaxis\":{\"endlinecolor\":\"rgb(36,36,36)\",\"gridcolor\":\"white\",\"linecolor\":\"white\",\"minorgridcolor\":\"white\",\"startlinecolor\":\"rgb(36,36,36)\"},\"baxis\":{\"endlinecolor\":\"rgb(36,36,36)\",\"gridcolor\":\"white\",\"linecolor\":\"white\",\"minorgridcolor\":\"white\",\"startlinecolor\":\"rgb(36,36,36)\"},\"type\":\"carpet\"}],\"choropleth\":[{\"colorbar\":{\"outlinewidth\":0,\"tickcolor\":\"rgb(36,36,36)\",\"ticklen\":8,\"ticks\":\"outside\",\"tickwidth\":2},\"type\":\"choropleth\"}],\"contourcarpet\":[{\"colorbar\":{\"outlinewidth\":0,\"tickcolor\":\"rgb(36,36,36)\",\"ticklen\":8,\"ticks\":\"outside\",\"tickwidth\":2},\"type\":\"contourcarpet\"}],\"contour\":[{\"colorbar\":{\"outlinewidth\":0,\"tickcolor\":\"rgb(36,36,36)\",\"ticklen\":8,\"ticks\":\"outside\",\"tickwidth\":2},\"colorscale\":[[0.0,\"rgb(2,4,25)\"],[0.06274509803921569,\"rgb(24,15,41)\"],[0.12549019607843137,\"rgb(47,23,57)\"],[0.18823529411764706,\"rgb(71,28,72)\"],[0.25098039215686274,\"rgb(97,30,82)\"],[0.3137254901960784,\"rgb(123,30,89)\"],[0.3764705882352941,\"rgb(150,27,91)\"],[0.4392156862745098,\"rgb(177,22,88)\"],[0.5019607843137255,\"rgb(203,26,79)\"],[0.5647058823529412,\"rgb(223,47,67)\"],[0.6274509803921569,\"rgb(236,76,61)\"],[0.6901960784313725,\"rgb(242,107,73)\"],[0.7529411764705882,\"rgb(244,135,95)\"],[0.8156862745098039,\"rgb(245,162,122)\"],[0.8784313725490196,\"rgb(246,188,153)\"],[0.9411764705882353,\"rgb(247,212,187)\"],[1.0,\"rgb(250,234,220)\"]],\"type\":\"contour\"}],\"heatmap\":[{\"colorbar\":{\"outlinewidth\":0,\"tickcolor\":\"rgb(36,36,36)\",\"ticklen\":8,\"ticks\":\"outside\",\"tickwidth\":2},\"colorscale\":[[0.0,\"rgb(2,4,25)\"],[0.06274509803921569,\"rgb(24,15,41)\"],[0.12549019607843137,\"rgb(47,23,57)\"],[0.18823529411764706,\"rgb(71,28,72)\"],[0.25098039215686274,\"rgb(97,30,82)\"],[0.3137254901960784,\"rgb(123,30,89)\"],[0.3764705882352941,\"rgb(150,27,91)\"],[0.4392156862745098,\"rgb(177,22,88)\"],[0.5019607843137255,\"rgb(203,26,79)\"],[0.5647058823529412,\"rgb(223,47,67)\"],[0.6274509803921569,\"rgb(236,76,61)\"],[0.6901960784313725,\"rgb(242,107,73)\"],[0.7529411764705882,\"rgb(244,135,95)\"],[0.8156862745098039,\"rgb(245,162,122)\"],[0.8784313725490196,\"rgb(246,188,153)\"],[0.9411764705882353,\"rgb(247,212,187)\"],[1.0,\"rgb(250,234,220)\"]],\"type\":\"heatmap\"}],\"histogram2dcontour\":[{\"colorbar\":{\"outlinewidth\":0,\"tickcolor\":\"rgb(36,36,36)\",\"ticklen\":8,\"ticks\":\"outside\",\"tickwidth\":2},\"colorscale\":[[0.0,\"rgb(2,4,25)\"],[0.06274509803921569,\"rgb(24,15,41)\"],[0.12549019607843137,\"rgb(47,23,57)\"],[0.18823529411764706,\"rgb(71,28,72)\"],[0.25098039215686274,\"rgb(97,30,82)\"],[0.3137254901960784,\"rgb(123,30,89)\"],[0.3764705882352941,\"rgb(150,27,91)\"],[0.4392156862745098,\"rgb(177,22,88)\"],[0.5019607843137255,\"rgb(203,26,79)\"],[0.5647058823529412,\"rgb(223,47,67)\"],[0.6274509803921569,\"rgb(236,76,61)\"],[0.6901960784313725,\"rgb(242,107,73)\"],[0.7529411764705882,\"rgb(244,135,95)\"],[0.8156862745098039,\"rgb(245,162,122)\"],[0.8784313725490196,\"rgb(246,188,153)\"],[0.9411764705882353,\"rgb(247,212,187)\"],[1.0,\"rgb(250,234,220)\"]],\"type\":\"histogram2dcontour\"}],\"histogram2d\":[{\"colorbar\":{\"outlinewidth\":0,\"tickcolor\":\"rgb(36,36,36)\",\"ticklen\":8,\"ticks\":\"outside\",\"tickwidth\":2},\"colorscale\":[[0.0,\"rgb(2,4,25)\"],[0.06274509803921569,\"rgb(24,15,41)\"],[0.12549019607843137,\"rgb(47,23,57)\"],[0.18823529411764706,\"rgb(71,28,72)\"],[0.25098039215686274,\"rgb(97,30,82)\"],[0.3137254901960784,\"rgb(123,30,89)\"],[0.3764705882352941,\"rgb(150,27,91)\"],[0.4392156862745098,\"rgb(177,22,88)\"],[0.5019607843137255,\"rgb(203,26,79)\"],[0.5647058823529412,\"rgb(223,47,67)\"],[0.6274509803921569,\"rgb(236,76,61)\"],[0.6901960784313725,\"rgb(242,107,73)\"],[0.7529411764705882,\"rgb(244,135,95)\"],[0.8156862745098039,\"rgb(245,162,122)\"],[0.8784313725490196,\"rgb(246,188,153)\"],[0.9411764705882353,\"rgb(247,212,187)\"],[1.0,\"rgb(250,234,220)\"]],\"type\":\"histogram2d\"}],\"histogram\":[{\"marker\":{\"pattern\":{\"fillmode\":\"overlay\",\"size\":10,\"solidity\":0.2}},\"type\":\"histogram\"}],\"mesh3d\":[{\"colorbar\":{\"outlinewidth\":0,\"tickcolor\":\"rgb(36,36,36)\",\"ticklen\":8,\"ticks\":\"outside\",\"tickwidth\":2},\"type\":\"mesh3d\"}],\"parcoords\":[{\"line\":{\"colorbar\":{\"outlinewidth\":0,\"tickcolor\":\"rgb(36,36,36)\",\"ticklen\":8,\"ticks\":\"outside\",\"tickwidth\":2}},\"type\":\"parcoords\"}],\"pie\":[{\"automargin\":true,\"type\":\"pie\"}],\"scatter3d\":[{\"line\":{\"colorbar\":{\"outlinewidth\":0,\"tickcolor\":\"rgb(36,36,36)\",\"ticklen\":8,\"ticks\":\"outside\",\"tickwidth\":2}},\"marker\":{\"colorbar\":{\"outlinewidth\":0,\"tickcolor\":\"rgb(36,36,36)\",\"ticklen\":8,\"ticks\":\"outside\",\"tickwidth\":2}},\"type\":\"scatter3d\"}],\"scattercarpet\":[{\"marker\":{\"colorbar\":{\"outlinewidth\":0,\"tickcolor\":\"rgb(36,36,36)\",\"ticklen\":8,\"ticks\":\"outside\",\"tickwidth\":2}},\"type\":\"scattercarpet\"}],\"scattergeo\":[{\"marker\":{\"colorbar\":{\"outlinewidth\":0,\"tickcolor\":\"rgb(36,36,36)\",\"ticklen\":8,\"ticks\":\"outside\",\"tickwidth\":2}},\"type\":\"scattergeo\"}],\"scattergl\":[{\"marker\":{\"colorbar\":{\"outlinewidth\":0,\"tickcolor\":\"rgb(36,36,36)\",\"ticklen\":8,\"ticks\":\"outside\",\"tickwidth\":2}},\"type\":\"scattergl\"}],\"scattermapbox\":[{\"marker\":{\"colorbar\":{\"outlinewidth\":0,\"tickcolor\":\"rgb(36,36,36)\",\"ticklen\":8,\"ticks\":\"outside\",\"tickwidth\":2}},\"type\":\"scattermapbox\"}],\"scattermap\":[{\"marker\":{\"colorbar\":{\"outlinewidth\":0,\"tickcolor\":\"rgb(36,36,36)\",\"ticklen\":8,\"ticks\":\"outside\",\"tickwidth\":2}},\"type\":\"scattermap\"}],\"scatterpolargl\":[{\"marker\":{\"colorbar\":{\"outlinewidth\":0,\"tickcolor\":\"rgb(36,36,36)\",\"ticklen\":8,\"ticks\":\"outside\",\"tickwidth\":2}},\"type\":\"scatterpolargl\"}],\"scatterpolar\":[{\"marker\":{\"colorbar\":{\"outlinewidth\":0,\"tickcolor\":\"rgb(36,36,36)\",\"ticklen\":8,\"ticks\":\"outside\",\"tickwidth\":2}},\"type\":\"scatterpolar\"}],\"scatter\":[{\"fillpattern\":{\"fillmode\":\"overlay\",\"size\":10,\"solidity\":0.2},\"type\":\"scatter\"}],\"scatterternary\":[{\"marker\":{\"colorbar\":{\"outlinewidth\":0,\"tickcolor\":\"rgb(36,36,36)\",\"ticklen\":8,\"ticks\":\"outside\",\"tickwidth\":2}},\"type\":\"scatterternary\"}],\"surface\":[{\"colorbar\":{\"outlinewidth\":0,\"tickcolor\":\"rgb(36,36,36)\",\"ticklen\":8,\"ticks\":\"outside\",\"tickwidth\":2},\"colorscale\":[[0.0,\"rgb(2,4,25)\"],[0.06274509803921569,\"rgb(24,15,41)\"],[0.12549019607843137,\"rgb(47,23,57)\"],[0.18823529411764706,\"rgb(71,28,72)\"],[0.25098039215686274,\"rgb(97,30,82)\"],[0.3137254901960784,\"rgb(123,30,89)\"],[0.3764705882352941,\"rgb(150,27,91)\"],[0.4392156862745098,\"rgb(177,22,88)\"],[0.5019607843137255,\"rgb(203,26,79)\"],[0.5647058823529412,\"rgb(223,47,67)\"],[0.6274509803921569,\"rgb(236,76,61)\"],[0.6901960784313725,\"rgb(242,107,73)\"],[0.7529411764705882,\"rgb(244,135,95)\"],[0.8156862745098039,\"rgb(245,162,122)\"],[0.8784313725490196,\"rgb(246,188,153)\"],[0.9411764705882353,\"rgb(247,212,187)\"],[1.0,\"rgb(250,234,220)\"]],\"type\":\"surface\"}],\"table\":[{\"cells\":{\"fill\":{\"color\":\"rgb(231,231,240)\"},\"line\":{\"color\":\"white\"}},\"header\":{\"fill\":{\"color\":\"rgb(183,183,191)\"},\"line\":{\"color\":\"white\"}},\"type\":\"table\"}]},\"layout\":{\"annotationdefaults\":{\"arrowcolor\":\"rgb(67,103,167)\"},\"autotypenumbers\":\"strict\",\"coloraxis\":{\"colorbar\":{\"outlinewidth\":0,\"tickcolor\":\"rgb(36,36,36)\",\"ticklen\":8,\"ticks\":\"outside\",\"tickwidth\":2}},\"colorscale\":{\"sequential\":[[0.0,\"rgb(2,4,25)\"],[0.06274509803921569,\"rgb(24,15,41)\"],[0.12549019607843137,\"rgb(47,23,57)\"],[0.18823529411764706,\"rgb(71,28,72)\"],[0.25098039215686274,\"rgb(97,30,82)\"],[0.3137254901960784,\"rgb(123,30,89)\"],[0.3764705882352941,\"rgb(150,27,91)\"],[0.4392156862745098,\"rgb(177,22,88)\"],[0.5019607843137255,\"rgb(203,26,79)\"],[0.5647058823529412,\"rgb(223,47,67)\"],[0.6274509803921569,\"rgb(236,76,61)\"],[0.6901960784313725,\"rgb(242,107,73)\"],[0.7529411764705882,\"rgb(244,135,95)\"],[0.8156862745098039,\"rgb(245,162,122)\"],[0.8784313725490196,\"rgb(246,188,153)\"],[0.9411764705882353,\"rgb(247,212,187)\"],[1.0,\"rgb(250,234,220)\"]],\"sequentialminus\":[[0.0,\"rgb(2,4,25)\"],[0.06274509803921569,\"rgb(24,15,41)\"],[0.12549019607843137,\"rgb(47,23,57)\"],[0.18823529411764706,\"rgb(71,28,72)\"],[0.25098039215686274,\"rgb(97,30,82)\"],[0.3137254901960784,\"rgb(123,30,89)\"],[0.3764705882352941,\"rgb(150,27,91)\"],[0.4392156862745098,\"rgb(177,22,88)\"],[0.5019607843137255,\"rgb(203,26,79)\"],[0.5647058823529412,\"rgb(223,47,67)\"],[0.6274509803921569,\"rgb(236,76,61)\"],[0.6901960784313725,\"rgb(242,107,73)\"],[0.7529411764705882,\"rgb(244,135,95)\"],[0.8156862745098039,\"rgb(245,162,122)\"],[0.8784313725490196,\"rgb(246,188,153)\"],[0.9411764705882353,\"rgb(247,212,187)\"],[1.0,\"rgb(250,234,220)\"]]},\"colorway\":[\"rgb(76,114,176)\",\"rgb(221,132,82)\",\"rgb(85,168,104)\",\"rgb(196,78,82)\",\"rgb(129,114,179)\",\"rgb(147,120,96)\",\"rgb(218,139,195)\",\"rgb(140,140,140)\",\"rgb(204,185,116)\",\"rgb(100,181,205)\"],\"font\":{\"color\":\"rgb(36,36,36)\"},\"geo\":{\"bgcolor\":\"white\",\"lakecolor\":\"white\",\"landcolor\":\"rgb(234,234,242)\",\"showlakes\":true,\"showland\":true,\"subunitcolor\":\"white\"},\"hoverlabel\":{\"align\":\"left\"},\"hovermode\":\"closest\",\"paper_bgcolor\":\"white\",\"plot_bgcolor\":\"rgb(234,234,242)\",\"polar\":{\"angularaxis\":{\"gridcolor\":\"white\",\"linecolor\":\"white\",\"showgrid\":true,\"ticks\":\"\"},\"bgcolor\":\"rgb(234,234,242)\",\"radialaxis\":{\"gridcolor\":\"white\",\"linecolor\":\"white\",\"showgrid\":true,\"ticks\":\"\"}},\"scene\":{\"xaxis\":{\"backgroundcolor\":\"rgb(234,234,242)\",\"gridcolor\":\"white\",\"gridwidth\":2,\"linecolor\":\"white\",\"showbackground\":true,\"showgrid\":true,\"ticks\":\"\",\"zerolinecolor\":\"white\"},\"yaxis\":{\"backgroundcolor\":\"rgb(234,234,242)\",\"gridcolor\":\"white\",\"gridwidth\":2,\"linecolor\":\"white\",\"showbackground\":true,\"showgrid\":true,\"ticks\":\"\",\"zerolinecolor\":\"white\"},\"zaxis\":{\"backgroundcolor\":\"rgb(234,234,242)\",\"gridcolor\":\"white\",\"gridwidth\":2,\"linecolor\":\"white\",\"showbackground\":true,\"showgrid\":true,\"ticks\":\"\",\"zerolinecolor\":\"white\"}},\"shapedefaults\":{\"fillcolor\":\"rgb(67,103,167)\",\"line\":{\"width\":0},\"opacity\":0.5},\"ternary\":{\"aaxis\":{\"gridcolor\":\"white\",\"linecolor\":\"white\",\"showgrid\":true,\"ticks\":\"\"},\"baxis\":{\"gridcolor\":\"white\",\"linecolor\":\"white\",\"showgrid\":true,\"ticks\":\"\"},\"bgcolor\":\"rgb(234,234,242)\",\"caxis\":{\"gridcolor\":\"white\",\"linecolor\":\"white\",\"showgrid\":true,\"ticks\":\"\"}},\"xaxis\":{\"automargin\":true,\"gridcolor\":\"white\",\"linecolor\":\"white\",\"showgrid\":true,\"ticks\":\"\",\"title\":{\"standoff\":15},\"zerolinecolor\":\"white\"},\"yaxis\":{\"automargin\":true,\"gridcolor\":\"white\",\"linecolor\":\"white\",\"showgrid\":true,\"ticks\":\"\",\"title\":{\"standoff\":15},\"zerolinecolor\":\"white\"}}},\"xaxis\":{\"anchor\":\"y\",\"domain\":[0.0,1.0],\"title\":{\"text\":\"Date\"}},\"yaxis\":{\"anchor\":\"x\",\"domain\":[0.0,1.0],\"title\":{\"text\":\"AAPL.High\"}},\"legend\":{\"tracegroupgap\":0},\"title\":{\"text\":\"AAPL High Prices\"},\"barmode\":\"relative\"},                        {\"responsive\": true}                    ).then(function(){\n",
       "                            \n",
       "var gd = document.getElementById('84969123-c1fc-4161-bb78-647daa9e798b');\n",
       "var x = new MutationObserver(function (mutations, observer) {{\n",
       "        var display = window.getComputedStyle(gd).display;\n",
       "        if (!display || display === 'none') {{\n",
       "            console.log([gd, 'removed!']);\n",
       "            Plotly.purge(gd);\n",
       "            observer.disconnect();\n",
       "        }}\n",
       "}});\n",
       "\n",
       "// Listen for the removal of the full notebook cells\n",
       "var notebookContainer = gd.closest('#notebook-container');\n",
       "if (notebookContainer) {{\n",
       "    x.observe(notebookContainer, {childList: true});\n",
       "}}\n",
       "\n",
       "// Listen for the clearing of the current output cell\n",
       "var outputEl = gd.closest('.output');\n",
       "if (outputEl) {{\n",
       "    x.observe(outputEl, {childList: true});\n",
       "}}\n",
       "\n",
       "                        })                };            </script>        </div>"
      ]
     },
     "metadata": {},
     "output_type": "display_data"
    }
   ],
   "source": [
    "# 01. Importar:\n",
    "#     Bibliotecas: matplotlib, numpy\n",
    "#     Módulos: pyplot\n",
    "import cufflinks as cf\n",
    "import pandas as pd\n",
    "import plotly.express as px\n",
    "\n",
    "# Load sample data\n",
    "df = pd.read_csv('https://raw.githubusercontent.com/plotly/datasets/master/finance-charts-apple.csv')\n",
    "\n",
    "# Create line plot with Cufflinks and Plotly\n",
    "fig = px.bar(df, x='Date', y='AAPL.High', title='AAPL High Prices' ,template='seaborn')\n",
    "fig.show()\n"
   ]
  },
  {
   "cell_type": "markdown",
   "id": "8c0dad82",
   "metadata": {},
   "source": [
    "\n",
    "**************************"
   ]
  },
  {
   "cell_type": "markdown",
   "id": "5edafb2d",
   "metadata": {},
   "source": [
    "https://plotly.com/python/templates/\n",
    "import plotly.io as pio\n",
    "pio.templates\n",
    "Templates configuration\n",
    "-----------------------\n",
    "    Default template: 'plotly'\n",
    "    Available templates:\n",
    "        ['ggplot2', 'seaborn', 'simple_white', 'plotly',\n",
    "         'plotly_white', 'plotly_dark', 'presentation', 'xgridoff',\n",
    "         'ygridoff', 'gridon', 'none']\n",
    "\n"
   ]
  },
  {
   "cell_type": "markdown",
   "id": "895ead57",
   "metadata": {},
   "source": [
    "################################\n",
    "# Cell 10:\n",
    "################################\n",
    "\n",
    "<h2>  Exemplo 04 - Candlestick </h2>\n",
    "\n",
    "\n",
    "<h2 style=\"background-color:orange;color:white;padding-top:10px;text-align:center;font-weight:bold;font-style:italic;font-size:1cm;padding-bottom:20px;\"> Exemplo 04 - Candlestick   </h2>"
   ]
  },
  {
   "cell_type": "markdown",
   "id": "cdc71ff9",
   "metadata": {},
   "source": [
    "\n",
    "################################\n",
    "# Cell 11:\n",
    "################################"
   ]
  },
  {
   "cell_type": "code",
   "execution_count": 5,
   "id": "ebbe3361",
   "metadata": {},
   "outputs": [
    {
     "data": {
      "application/vnd.plotly.v1+json": {
       "config": {
        "plotlyServerURL": "https://plot.ly"
       },
       "data": [
        {
         "close": {
          "bdata": "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",
          "dtype": "f8"
         },
         "high": {
          "bdata": "Ieo+ACkcYEA1fXbA9RhgQDV9dsD1IGBAAAAAAAAwYEAAAAAAAKBgQOxsyD8zs2BA7GzIPzNzYEDfFcH/1ltgQLfvUX89UmBANX12wPVIYEBBuW3fozBgQGr67IDrMWBAAAAAAAAYYEDfFcH/1itgQLfvUX89MmBAlgUTfxTOX0ApQX+hRzFfQGoV/aGZOV9AahX9oZlZX0AUkzfAzDxfQBSuR+F61F9AVWe1wB4lYEAAAAAAAChgQBSTN8DMDGBAluoCXmb2X0A1YmafRwFgQBSuR+F6tF9AAOXv3lE4X0AUkzfAzCxfQGoV/aGZmV9Av0aSIFyfX0AAGxAhrkdfQNP02QHXY19AQblt36PgX0DfFcH/1gNgQGoV/aGZmV9AVWe1wB6lX0BVTKWfcM1fQLfvUX89EmBAq7NaYI/SX0AA5e/eUchfQJbqAl5mxl9AQZ5dvvWIX0DfFcH/1gNgQIrJG2BmBmBA3xXB/9YbYEBVTKWfcE1gQCHqPgApVGBAIeo+ACmkYEA1YmafR9FgQKuYSj/hcmBAIM8u33oUYEAh6j4AKURgQLfvUX89UmBAiskbYGYOYEAAAAAAALBfQFVntcAehV9AABsQIa7nX0DT9NkB1+NfQADl795RuF9ALQsm/ijMX0CKyRtgZh5gQAw89x6uL2BAy4KJPwpXYEAh6j4AKVxgQL9GkiBcX2BAIeo+ACl0YEDLgok/Cp9gQFVntcAenWBA9MMI4VGIYECKyRtgZn5gQIrJG2BmbmBAIM8u33psYEBVZ7XAHlVgQJYFE38UXmBAq7NaYI9SYECWBRN/FDZgQMudmWC4JmBAq7NaYI8CYECrmEo/4SpgQEkQroDCRWBAq7NaYI8KYEC/RpIgXM9fQJbqAl5m9l9AAOXv3lH4X0Bq+uyA6wlgQBSuR+F69F9AavrsgOsBYEC/YaJBCudfQHY25J+ZOWBAiskbYGYmYEC/RpIgXP9fQJYFE38Unl9AABsQIa6HX0AtCyb+KLxfQC0LJv4orF9A176AXriOX0BqFf2hmYlfQEGeXb71KF9A0/TZAdcDX0CW6gJeZvZeQEG5bd+jcF9AABsQIa6XX0BqFf2hmclfQLfvUX89EmBA3xXB/9YzYEDLgok/Cp9gQFVMpZ9wnWBAAAAAAABgX0BVMZV+wsVfQL9GkiBcb19Av2GiQQrnXkCrzmqBPfpeQAAAAAAA4F5AFK5H4XqkXkBBnl2+9aheQBSuR+F6pF5AFJM3wMxsXUAtCyb+KFxdQAAAAAAAIF1AAAAAAAAQXUC/RpIgXP9dQOxRuB6Fi11Aq5hKP+HaXEBqFf2hmRldQNP02QHXE11AahX9oZlpXUAtCyb+KFxdQClBf6FHIV1AluoCXmaWXEBqFf2hmflbQOxsyD8zM1tAv2GiQQrHW0BBnl2+9XhbQL9GkiBcT1xA0/TZAddTXEBq+uyA66FcQADl795R+FtAVTGVfsIVXEBq+uyA6zFcQBSTN8DMnFtA0/TZAdcjXEApQX+hR4FcQGr67IDrUVxAVUyln3CNXEBBnl2+9ThdQGr67IDrIV1Aq7NaYI8iXUC/RpIgXB9dQOxsyD8zk1xAABsQIa7XXEDsUbgehYtcQJYFE38UrlxAAAAAAADgXEAtCyb+KCxdQBSuR+F6pFxAQblt36NgXECrs1pgj+JbQAAbECGuZ1tAQblt36PAW0AAGxAhrtdbQL9GkiBc71tAKUF/oUfxW0AtCyb+KIxbQGr67IDrEVxAAAAAAAAwXEAUkzfAzBxcQClBf6FH4VtAluoCXmYGXEAAAAAAAABcQAAAAAAA8FtAq5hKP+GKXEBVZ7XAHuVcQAAAAAAA4FxA176AXrjOXUAA5e/eUYhdQKuzWmCPIl1A7GzIPzPTXUAtCyb+KCxeQJYFE38UTl5Av2GiQQpXXkC/RpIgXN9eQBSuR+F69F5ALQsm/iisXkDT9NkB13NeQNP02QHXc15AFK5H4XqEXUCrmEo/4VpdQBSuR+F6NF1AFK5H4XrkXEC/RpIgXI9cQOxsyD8zw1xAv0aSIFxfXUAAAAAAAPBdQKuYSj/h+l1A176AXrjuXUCW6gJeZtZdQNe+gF64zl1Aq85qgT2aXUCrzmqBPdpdQNP02QHXs11Av2GiQQqHXUCrs1pgjzJdQAAAAAAA0F1Av2GiQQr3XUCW6gJeZqZdQC0LJv4obF1ALQsm/ig8XUBBnl2+9dhcQOxRuB6FK1xA7GzIPzMzXEC/RpIgXP9bQAAAAAAAEFxAKUF/oUdhW0AAGxAhrtdaQJYFE38U7lpAluoCXmY2W0AAAAAAAEBbQC0LJv4o7FpA7FG4HoVbW0AUkzfAzCxbQGr67IDrwVpAABsQIa5XWkCW6gJeZnZaQAAbECGul1lAAOXv3lEIWUC/YaJBCsdYQNP02QHXw1hALQsm/igsWUAtCyb+KExZQNe+gF64HllAVUyln3BtWEBqFf2hmalYQC0LJv4ojFhAAOXv3lF4WEBVTKWfcF1ZQGr67IDrYVlAAOXv3lE4WUAA5e/eUShYQClBf6FHoVdAVTGVfsJVWEBVTKWfcC1YQKuzWmCPAlhAVTGVfsI1WEBVZ7XAHlVYQKuYSj/hOlhAFJM3wMzsV0AtCyb+KPxXQJbqAl5mFlhAlgUTfxSuV0AAAAAAAKBXQJbqAl5mNlhAVUyln3CNWEBBnl2+9bhYQEG5bd+jMFhAahX9oZk5WEAAAAAAACBYQADl795RGFhAQblt36MwWEApQX+hR4FYQNe+gF64jlhAKUF/oUcxWUBBnl2+9ThZQFVMpZ9wbVlAAAAAAADwWUBVZ7XAHrVZQEG5bd+jcFlAVWe1wB5lWUC/RpIgXI9ZQGr67IDrkVlAq85qgT26WUDsUbgehUtaQNP02QHXk1pAlgUTfxSeWkAAAAAAAKBaQGoV/aGZ6VpAq7NaYI/SWkAUrkfhesRaQAAAAAAAkFpALQsm/iiMWkCrs1pgj/JaQKuYSj/hmltAahX9oZl5W0AAAAAAAIBbQC0LJv4oDFxA176AXriuW0DXvoBeuL5bQKuYSj/hmltAKUF/oUdxW0C/YaJBCqdbQAAAAAAAoFtAVTGVfsIVXEBBnl2+9RhcQOxsyD8zE1xAFJM3wMw8W0AAAAAAAABbQFUxlX7CBVtA7FG4HoW7WkDXvoBeuJ5aQGoV/aGZaVpA7GzIPzNTWkBVTKWfcK1YQADl795ReFhAlgUTfxSuV0BVZ7XAHoVXQL9GkiBc71dAahX9oZn5V0AUrkfheoRXQBSTN8DMXFdAKUF/oUdxV0AUrkfhemRXQBSuR+F6ZFdAavrsgOsxV0CrmEo/4epWQEGeXb71mFdAFJM3wMysV0BVTKWfcM1XQEGeXb71qFdA7FG4HoXbV0AtCyb+KExYQFUxlX7ChVhAv0aSIFzvWEDXvoBeuC5ZQJYFE38UHllAahX9oZkZWUCrs1pgj+JYQFUxlX7CdVhAKUF/oUeRWEBBnl2+9XhZQAAbECGu91hA0/TZAdfjWEC/RpIgXP9YQJbqAl5m1lhAABsQIa7HWEDXvoBeuJ5YQKvOaoE9mlhAAAAAAABwWEBqFf2hmSlYQBSuR+F6JFhAluoCXmYWWEBBnl2+9ThYQKuzWmCPElhAq85qgT2qV0DsbMg/M0NXQKvOaoE9aldA7GzIPzOjV0ApQX+hR/FXQJYFE38UHlhAahX9oZnZV0CrzmqBPepXQAAAAAAAIFhAQZ5dvvU4WEBqFf2hmWlYQBSTN8DMbFhAq5hKP+FqWEC/RpIgXL9YQOxsyD8z01hAAOXv3lEIWUAAAAAAAABZQFVMpZ9wHVlAAAAAAABAWUDsbMg/M9NYQFUxlX7CtVhAlgUTfxR+WECW6gJeZhZaQBSTN8DMHFpA7GzIPzMjWkBqFf2hmYlaQBSuR+F6hFpAVTGVfsJ1WkAAAAAAAIBaQGoV/aGZ6VpAABsQIa4XW0AtCyb+KDxbQGoV/aGZOVtA7FG4HoU7W0AtCyb+KBxbQKuzWmCPYltA176AXriOW0AAGxAhrldbQJbqAl5mZltALQsm/ihsW0CW6gJeZkZbQBSuR+F6VFtAAAAAAAAwW0AA5e/eUfhaQBSTN8DM/FpALQsm/ijcWkAAAAAAAKBaQBSuR+F6pFpA7GzIPzOzWkAAAAAAAABbQOxsyD8zE1tAQblt36MwW0ApQX+hR9FaQJYFE38UblpAlgUTfxRuWkCrs1pgjzJbQGr67IDrQVxA176AXrjuXEAA5e/eUQhdQOxRuB6FC11AABsQIa6HXEC/RpIgXH9cQC0LJv4ovFxAq7NaYI+yXEBBnl2+9VhcQOxRuB6FS1xAQZ5dvvWoXEDsbMg/M3NcQAAbECGuV1xA7GzIPzNDXEDT9NkB15NcQKvOaoE9alxAVTGVfsKVXEDT9NkB16NcQAAAAAAAMF1ALQsm/iisXUDXvoBeuH5dQC0LJv4oXF1Aq5hKP+GKXUBVMZV+wnVdQFVMpZ9wjV1AQblt36NwXUAA5e/eUVhdQKvOaoE9Ol1Av0aSIFxvXUC/YaJBCpddQBSTN8DM7FxAv2GiQQr3XEBVTKWfcM1cQNe+gF64jlxAKUF/oUdxXECW6gJeZhZcQFVMpZ9w3VtAAAAAAACQW0BBuW3fo6BbQJYFE38U7ltAFK5H4XrUW0BVMZV+wsVbQAAbECGuN1tA0/TZAdfzWkDsUbgehetaQNe+gF64jltAluoCXmaWW0Crs1pgj6JbQL9GkiBc/1tAq5hKP+EaXEBBuW3fo+BbQAAbECGu91tAlgUTfxQeXEBq+uyA6wFcQBSTN8DMDFxALQsm/ii8W0BVMZV+woVbQGr67IDrgVtAv2GiQQqXW0AtCyb+KMxbQOxRuB6FG1xAFJM3wMysXEAAAAAAAMBcQKuYSj/h+lxAFJM3wMwMXUDXvoBeuC5dQAAAAAAAIF1AAOXv3lFYXUAAAAAAAGBdQGoV/aGZWV1AQblt36MgXUApQX+hRyFdQOxsyD8zc11AKUF/oUeBXUC/YaJBCkddQBSTN8DMTF1AVWe1wB4VXUBBuW3foyBdQL9hokEKN11Aq85qgT2KXUDsUbgehdtdQADl795R2F1A7FG4HoX7XUDsbMg/M9NdQAAbECGu511Av0aSIFwPXkAAAAAAACBeQFUxlX7CBV5AFJM3wMwcXkDT9NkB1zNeQJbqAl5mBl5AluoCXmaGXkAtCyb+KJxeQJbqAl5mll5AAOXv3lFoXkBBnl2+9VheQAw89x6uT2BAIM8u33osYECWBRN/FCZgQAAAAAAAUGBAq5hKP+GCYEDLgok/CodgQIrJG2BmjmBAlgUTfxSeYEC371F/PbpgQKuYSj/h4mBAQblt36MIYUAUkzfAzPxgQA==",
          "dtype": "f8"
         },
         "low": {
          "bdata": "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",
          "dtype": "f8"
         },
         "open": {
          "bdata": "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",
          "dtype": "f8"
         },
         "type": "candlestick",
         "x": [
          "2015-02-17",
          "2015-02-18",
          "2015-02-19",
          "2015-02-20",
          "2015-02-23",
          "2015-02-24",
          "2015-02-25",
          "2015-02-26",
          "2015-02-27",
          "2015-03-02",
          "2015-03-03",
          "2015-03-04",
          "2015-03-05",
          "2015-03-06",
          "2015-03-09",
          "2015-03-10",
          "2015-03-11",
          "2015-03-12",
          "2015-03-13",
          "2015-03-16",
          "2015-03-17",
          "2015-03-18",
          "2015-03-19",
          "2015-03-20",
          "2015-03-23",
          "2015-03-24",
          "2015-03-25",
          "2015-03-26",
          "2015-03-27",
          "2015-03-30",
          "2015-03-31",
          "2015-04-01",
          "2015-04-02",
          "2015-04-06",
          "2015-04-07",
          "2015-04-08",
          "2015-04-09",
          "2015-04-10",
          "2015-04-13",
          "2015-04-14",
          "2015-04-15",
          "2015-04-16",
          "2015-04-17",
          "2015-04-20",
          "2015-04-21",
          "2015-04-22",
          "2015-04-23",
          "2015-04-24",
          "2015-04-27",
          "2015-04-28",
          "2015-04-29",
          "2015-04-30",
          "2015-05-01",
          "2015-05-04",
          "2015-05-05",
          "2015-05-06",
          "2015-05-07",
          "2015-05-08",
          "2015-05-11",
          "2015-05-12",
          "2015-05-13",
          "2015-05-14",
          "2015-05-15",
          "2015-05-18",
          "2015-05-19",
          "2015-05-20",
          "2015-05-21",
          "2015-05-22",
          "2015-05-26",
          "2015-05-27",
          "2015-05-28",
          "2015-05-29",
          "2015-06-01",
          "2015-06-02",
          "2015-06-03",
          "2015-06-04",
          "2015-06-05",
          "2015-06-08",
          "2015-06-09",
          "2015-06-10",
          "2015-06-11",
          "2015-06-12",
          "2015-06-15",
          "2015-06-16",
          "2015-06-17",
          "2015-06-18",
          "2015-06-19",
          "2015-06-22",
          "2015-06-23",
          "2015-06-24",
          "2015-06-25",
          "2015-06-26",
          "2015-06-29",
          "2015-06-30",
          "2015-07-01",
          "2015-07-02",
          "2015-07-06",
          "2015-07-07",
          "2015-07-08",
          "2015-07-09",
          "2015-07-10",
          "2015-07-13",
          "2015-07-14",
          "2015-07-15",
          "2015-07-16",
          "2015-07-17",
          "2015-07-20",
          "2015-07-21",
          "2015-07-22",
          "2015-07-23",
          "2015-07-24",
          "2015-07-27",
          "2015-07-28",
          "2015-07-29",
          "2015-07-30",
          "2015-07-31",
          "2015-08-03",
          "2015-08-04",
          "2015-08-05",
          "2015-08-06",
          "2015-08-07",
          "2015-08-10",
          "2015-08-11",
          "2015-08-12",
          "2015-08-13",
          "2015-08-14",
          "2015-08-17",
          "2015-08-18",
          "2015-08-19",
          "2015-08-20",
          "2015-08-21",
          "2015-08-24",
          "2015-08-25",
          "2015-08-26",
          "2015-08-27",
          "2015-08-28",
          "2015-08-31",
          "2015-09-01",
          "2015-09-02",
          "2015-09-03",
          "2015-09-04",
          "2015-09-08",
          "2015-09-09",
          "2015-09-10",
          "2015-09-11",
          "2015-09-14",
          "2015-09-15",
          "2015-09-16",
          "2015-09-17",
          "2015-09-18",
          "2015-09-21",
          "2015-09-22",
          "2015-09-23",
          "2015-09-24",
          "2015-09-25",
          "2015-09-28",
          "2015-09-29",
          "2015-09-30",
          "2015-10-01",
          "2015-10-02",
          "2015-10-05",
          "2015-10-06",
          "2015-10-07",
          "2015-10-08",
          "2015-10-09",
          "2015-10-12",
          "2015-10-13",
          "2015-10-14",
          "2015-10-15",
          "2015-10-16",
          "2015-10-19",
          "2015-10-20",
          "2015-10-21",
          "2015-10-22",
          "2015-10-23",
          "2015-10-26",
          "2015-10-27",
          "2015-10-28",
          "2015-10-29",
          "2015-10-30",
          "2015-11-02",
          "2015-11-03",
          "2015-11-04",
          "2015-11-05",
          "2015-11-06",
          "2015-11-09",
          "2015-11-10",
          "2015-11-11",
          "2015-11-12",
          "2015-11-13",
          "2015-11-16",
          "2015-11-17",
          "2015-11-18",
          "2015-11-19",
          "2015-11-20",
          "2015-11-23",
          "2015-11-24",
          "2015-11-25",
          "2015-11-27",
          "2015-11-30",
          "2015-12-01",
          "2015-12-02",
          "2015-12-03",
          "2015-12-04",
          "2015-12-07",
          "2015-12-08",
          "2015-12-09",
          "2015-12-10",
          "2015-12-11",
          "2015-12-14",
          "2015-12-15",
          "2015-12-16",
          "2015-12-17",
          "2015-12-18",
          "2015-12-21",
          "2015-12-22",
          "2015-12-23",
          "2015-12-24",
          "2015-12-28",
          "2015-12-29",
          "2015-12-30",
          "2015-12-31",
          "2016-01-04",
          "2016-01-05",
          "2016-01-06",
          "2016-01-07",
          "2016-01-08",
          "2016-01-11",
          "2016-01-12",
          "2016-01-13",
          "2016-01-14",
          "2016-01-15",
          "2016-01-19",
          "2016-01-20",
          "2016-01-21",
          "2016-01-22",
          "2016-01-25",
          "2016-01-26",
          "2016-01-27",
          "2016-01-28",
          "2016-01-29",
          "2016-02-01",
          "2016-02-02",
          "2016-02-03",
          "2016-02-04",
          "2016-02-05",
          "2016-02-08",
          "2016-02-09",
          "2016-02-10",
          "2016-02-11",
          "2016-02-12",
          "2016-02-16",
          "2016-02-17",
          "2016-02-18",
          "2016-02-19",
          "2016-02-22",
          "2016-02-23",
          "2016-02-24",
          "2016-02-25",
          "2016-02-26",
          "2016-02-29",
          "2016-03-01",
          "2016-03-02",
          "2016-03-03",
          "2016-03-04",
          "2016-03-07",
          "2016-03-08",
          "2016-03-09",
          "2016-03-10",
          "2016-03-11",
          "2016-03-14",
          "2016-03-15",
          "2016-03-16",
          "2016-03-17",
          "2016-03-18",
          "2016-03-21",
          "2016-03-22",
          "2016-03-23",
          "2016-03-24",
          "2016-03-28",
          "2016-03-29",
          "2016-03-30",
          "2016-03-31",
          "2016-04-01",
          "2016-04-04",
          "2016-04-05",
          "2016-04-06",
          "2016-04-07",
          "2016-04-08",
          "2016-04-11",
          "2016-04-12",
          "2016-04-13",
          "2016-04-14",
          "2016-04-15",
          "2016-04-18",
          "2016-04-19",
          "2016-04-20",
          "2016-04-21",
          "2016-04-22",
          "2016-04-25",
          "2016-04-26",
          "2016-04-27",
          "2016-04-28",
          "2016-04-29",
          "2016-05-02",
          "2016-05-03",
          "2016-05-04",
          "2016-05-05",
          "2016-05-06",
          "2016-05-09",
          "2016-05-10",
          "2016-05-11",
          "2016-05-12",
          "2016-05-13",
          "2016-05-16",
          "2016-05-17",
          "2016-05-18",
          "2016-05-19",
          "2016-05-20",
          "2016-05-23",
          "2016-05-24",
          "2016-05-25",
          "2016-05-26",
          "2016-05-27",
          "2016-05-31",
          "2016-06-01",
          "2016-06-02",
          "2016-06-03",
          "2016-06-06",
          "2016-06-07",
          "2016-06-08",
          "2016-06-09",
          "2016-06-10",
          "2016-06-13",
          "2016-06-14",
          "2016-06-15",
          "2016-06-16",
          "2016-06-17",
          "2016-06-20",
          "2016-06-21",
          "2016-06-22",
          "2016-06-23",
          "2016-06-24",
          "2016-06-27",
          "2016-06-28",
          "2016-06-29",
          "2016-06-30",
          "2016-07-01",
          "2016-07-05",
          "2016-07-06",
          "2016-07-07",
          "2016-07-08",
          "2016-07-11",
          "2016-07-12",
          "2016-07-13",
          "2016-07-14",
          "2016-07-15",
          "2016-07-18",
          "2016-07-19",
          "2016-07-20",
          "2016-07-21",
          "2016-07-22",
          "2016-07-25",
          "2016-07-26",
          "2016-07-27",
          "2016-07-28",
          "2016-07-29",
          "2016-08-01",
          "2016-08-02",
          "2016-08-03",
          "2016-08-04",
          "2016-08-05",
          "2016-08-08",
          "2016-08-09",
          "2016-08-10",
          "2016-08-11",
          "2016-08-12",
          "2016-08-15",
          "2016-08-16",
          "2016-08-17",
          "2016-08-18",
          "2016-08-19",
          "2016-08-22",
          "2016-08-23",
          "2016-08-24",
          "2016-08-25",
          "2016-08-26",
          "2016-08-29",
          "2016-08-30",
          "2016-08-31",
          "2016-09-01",
          "2016-09-02",
          "2016-09-06",
          "2016-09-07",
          "2016-09-08",
          "2016-09-09",
          "2016-09-12",
          "2016-09-13",
          "2016-09-14",
          "2016-09-15",
          "2016-09-16",
          "2016-09-19",
          "2016-09-20",
          "2016-09-21",
          "2016-09-22",
          "2016-09-23",
          "2016-09-26",
          "2016-09-27",
          "2016-09-28",
          "2016-09-29",
          "2016-09-30",
          "2016-10-03",
          "2016-10-04",
          "2016-10-05",
          "2016-10-06",
          "2016-10-07",
          "2016-10-10",
          "2016-10-11",
          "2016-10-12",
          "2016-10-13",
          "2016-10-14",
          "2016-10-17",
          "2016-10-18",
          "2016-10-19",
          "2016-10-20",
          "2016-10-21",
          "2016-10-24",
          "2016-10-25",
          "2016-10-26",
          "2016-10-27",
          "2016-10-28",
          "2016-10-31",
          "2016-11-01",
          "2016-11-02",
          "2016-11-03",
          "2016-11-04",
          "2016-11-07",
          "2016-11-08",
          "2016-11-09",
          "2016-11-10",
          "2016-11-11",
          "2016-11-14",
          "2016-11-15",
          "2016-11-16",
          "2016-11-17",
          "2016-11-18",
          "2016-11-21",
          "2016-11-22",
          "2016-11-23",
          "2016-11-25",
          "2016-11-28",
          "2016-11-29",
          "2016-11-30",
          "2016-12-01",
          "2016-12-02",
          "2016-12-05",
          "2016-12-06",
          "2016-12-07",
          "2016-12-08",
          "2016-12-09",
          "2016-12-12",
          "2016-12-13",
          "2016-12-14",
          "2016-12-15",
          "2016-12-16",
          "2016-12-19",
          "2016-12-20",
          "2016-12-21",
          "2016-12-22",
          "2016-12-23",
          "2016-12-27",
          "2016-12-28",
          "2016-12-29",
          "2016-12-30",
          "2017-01-03",
          "2017-01-04",
          "2017-01-05",
          "2017-01-06",
          "2017-01-09",
          "2017-01-10",
          "2017-01-11",
          "2017-01-12",
          "2017-01-13",
          "2017-01-17",
          "2017-01-18",
          "2017-01-19",
          "2017-01-20",
          "2017-01-23",
          "2017-01-24",
          "2017-01-25",
          "2017-01-26",
          "2017-01-27",
          "2017-01-30",
          "2017-01-31",
          "2017-02-01",
          "2017-02-02",
          "2017-02-03",
          "2017-02-06",
          "2017-02-07",
          "2017-02-08",
          "2017-02-09",
          "2017-02-10",
          "2017-02-13",
          "2017-02-14",
          "2017-02-15",
          "2017-02-16"
         ]
        }
       ],
       "layout": {
        "template": {
         "data": {
          "bar": [
           {
            "error_x": {
             "color": "#2a3f5f"
            },
            "error_y": {
             "color": "#2a3f5f"
            },
            "marker": {
             "line": {
              "color": "#E5ECF6",
              "width": 0.5
             },
             "pattern": {
              "fillmode": "overlay",
              "size": 10,
              "solidity": 0.2
             }
            },
            "type": "bar"
           }
          ],
          "barpolar": [
           {
            "marker": {
             "line": {
              "color": "#E5ECF6",
              "width": 0.5
             },
             "pattern": {
              "fillmode": "overlay",
              "size": 10,
              "solidity": 0.2
             }
            },
            "type": "barpolar"
           }
          ],
          "carpet": [
           {
            "aaxis": {
             "endlinecolor": "#2a3f5f",
             "gridcolor": "white",
             "linecolor": "white",
             "minorgridcolor": "white",
             "startlinecolor": "#2a3f5f"
            },
            "baxis": {
             "endlinecolor": "#2a3f5f",
             "gridcolor": "white",
             "linecolor": "white",
             "minorgridcolor": "white",
             "startlinecolor": "#2a3f5f"
            },
            "type": "carpet"
           }
          ],
          "choropleth": [
           {
            "colorbar": {
             "outlinewidth": 0,
             "ticks": ""
            },
            "type": "choropleth"
           }
          ],
          "contour": [
           {
            "colorbar": {
             "outlinewidth": 0,
             "ticks": ""
            },
            "colorscale": [
             [
              0,
              "#0d0887"
             ],
             [
              0.1111111111111111,
              "#46039f"
             ],
             [
              0.2222222222222222,
              "#7201a8"
             ],
             [
              0.3333333333333333,
              "#9c179e"
             ],
             [
              0.4444444444444444,
              "#bd3786"
             ],
             [
              0.5555555555555556,
              "#d8576b"
             ],
             [
              0.6666666666666666,
              "#ed7953"
             ],
             [
              0.7777777777777778,
              "#fb9f3a"
             ],
             [
              0.8888888888888888,
              "#fdca26"
             ],
             [
              1,
              "#f0f921"
             ]
            ],
            "type": "contour"
           }
          ],
          "contourcarpet": [
           {
            "colorbar": {
             "outlinewidth": 0,
             "ticks": ""
            },
            "type": "contourcarpet"
           }
          ],
          "heatmap": [
           {
            "colorbar": {
             "outlinewidth": 0,
             "ticks": ""
            },
            "colorscale": [
             [
              0,
              "#0d0887"
             ],
             [
              0.1111111111111111,
              "#46039f"
             ],
             [
              0.2222222222222222,
              "#7201a8"
             ],
             [
              0.3333333333333333,
              "#9c179e"
             ],
             [
              0.4444444444444444,
              "#bd3786"
             ],
             [
              0.5555555555555556,
              "#d8576b"
             ],
             [
              0.6666666666666666,
              "#ed7953"
             ],
             [
              0.7777777777777778,
              "#fb9f3a"
             ],
             [
              0.8888888888888888,
              "#fdca26"
             ],
             [
              1,
              "#f0f921"
             ]
            ],
            "type": "heatmap"
           }
          ],
          "histogram": [
           {
            "marker": {
             "pattern": {
              "fillmode": "overlay",
              "size": 10,
              "solidity": 0.2
             }
            },
            "type": "histogram"
           }
          ],
          "histogram2d": [
           {
            "colorbar": {
             "outlinewidth": 0,
             "ticks": ""
            },
            "colorscale": [
             [
              0,
              "#0d0887"
             ],
             [
              0.1111111111111111,
              "#46039f"
             ],
             [
              0.2222222222222222,
              "#7201a8"
             ],
             [
              0.3333333333333333,
              "#9c179e"
             ],
             [
              0.4444444444444444,
              "#bd3786"
             ],
             [
              0.5555555555555556,
              "#d8576b"
             ],
             [
              0.6666666666666666,
              "#ed7953"
             ],
             [
              0.7777777777777778,
              "#fb9f3a"
             ],
             [
              0.8888888888888888,
              "#fdca26"
             ],
             [
              1,
              "#f0f921"
             ]
            ],
            "type": "histogram2d"
           }
          ],
          "histogram2dcontour": [
           {
            "colorbar": {
             "outlinewidth": 0,
             "ticks": ""
            },
            "colorscale": [
             [
              0,
              "#0d0887"
             ],
             [
              0.1111111111111111,
              "#46039f"
             ],
             [
              0.2222222222222222,
              "#7201a8"
             ],
             [
              0.3333333333333333,
              "#9c179e"
             ],
             [
              0.4444444444444444,
              "#bd3786"
             ],
             [
              0.5555555555555556,
              "#d8576b"
             ],
             [
              0.6666666666666666,
              "#ed7953"
             ],
             [
              0.7777777777777778,
              "#fb9f3a"
             ],
             [
              0.8888888888888888,
              "#fdca26"
             ],
             [
              1,
              "#f0f921"
             ]
            ],
            "type": "histogram2dcontour"
           }
          ],
          "mesh3d": [
           {
            "colorbar": {
             "outlinewidth": 0,
             "ticks": ""
            },
            "type": "mesh3d"
           }
          ],
          "parcoords": [
           {
            "line": {
             "colorbar": {
              "outlinewidth": 0,
              "ticks": ""
             }
            },
            "type": "parcoords"
           }
          ],
          "pie": [
           {
            "automargin": true,
            "type": "pie"
           }
          ],
          "scatter": [
           {
            "fillpattern": {
             "fillmode": "overlay",
             "size": 10,
             "solidity": 0.2
            },
            "type": "scatter"
           }
          ],
          "scatter3d": [
           {
            "line": {
             "colorbar": {
              "outlinewidth": 0,
              "ticks": ""
             }
            },
            "marker": {
             "colorbar": {
              "outlinewidth": 0,
              "ticks": ""
             }
            },
            "type": "scatter3d"
           }
          ],
          "scattercarpet": [
           {
            "marker": {
             "colorbar": {
              "outlinewidth": 0,
              "ticks": ""
             }
            },
            "type": "scattercarpet"
           }
          ],
          "scattergeo": [
           {
            "marker": {
             "colorbar": {
              "outlinewidth": 0,
              "ticks": ""
             }
            },
            "type": "scattergeo"
           }
          ],
          "scattergl": [
           {
            "marker": {
             "colorbar": {
              "outlinewidth": 0,
              "ticks": ""
             }
            },
            "type": "scattergl"
           }
          ],
          "scattermap": [
           {
            "marker": {
             "colorbar": {
              "outlinewidth": 0,
              "ticks": ""
             }
            },
            "type": "scattermap"
           }
          ],
          "scattermapbox": [
           {
            "marker": {
             "colorbar": {
              "outlinewidth": 0,
              "ticks": ""
             }
            },
            "type": "scattermapbox"
           }
          ],
          "scatterpolar": [
           {
            "marker": {
             "colorbar": {
              "outlinewidth": 0,
              "ticks": ""
             }
            },
            "type": "scatterpolar"
           }
          ],
          "scatterpolargl": [
           {
            "marker": {
             "colorbar": {
              "outlinewidth": 0,
              "ticks": ""
             }
            },
            "type": "scatterpolargl"
           }
          ],
          "scatterternary": [
           {
            "marker": {
             "colorbar": {
              "outlinewidth": 0,
              "ticks": ""
             }
            },
            "type": "scatterternary"
           }
          ],
          "surface": [
           {
            "colorbar": {
             "outlinewidth": 0,
             "ticks": ""
            },
            "colorscale": [
             [
              0,
              "#0d0887"
             ],
             [
              0.1111111111111111,
              "#46039f"
             ],
             [
              0.2222222222222222,
              "#7201a8"
             ],
             [
              0.3333333333333333,
              "#9c179e"
             ],
             [
              0.4444444444444444,
              "#bd3786"
             ],
             [
              0.5555555555555556,
              "#d8576b"
             ],
             [
              0.6666666666666666,
              "#ed7953"
             ],
             [
              0.7777777777777778,
              "#fb9f3a"
             ],
             [
              0.8888888888888888,
              "#fdca26"
             ],
             [
              1,
              "#f0f921"
             ]
            ],
            "type": "surface"
           }
          ],
          "table": [
           {
            "cells": {
             "fill": {
              "color": "#EBF0F8"
             },
             "line": {
              "color": "white"
             }
            },
            "header": {
             "fill": {
              "color": "#C8D4E3"
             },
             "line": {
              "color": "white"
             }
            },
            "type": "table"
           }
          ]
         },
         "layout": {
          "annotationdefaults": {
           "arrowcolor": "#2a3f5f",
           "arrowhead": 0,
           "arrowwidth": 1
          },
          "autotypenumbers": "strict",
          "coloraxis": {
           "colorbar": {
            "outlinewidth": 0,
            "ticks": ""
           }
          },
          "colorscale": {
           "diverging": [
            [
             0,
             "#8e0152"
            ],
            [
             0.1,
             "#c51b7d"
            ],
            [
             0.2,
             "#de77ae"
            ],
            [
             0.3,
             "#f1b6da"
            ],
            [
             0.4,
             "#fde0ef"
            ],
            [
             0.5,
             "#f7f7f7"
            ],
            [
             0.6,
             "#e6f5d0"
            ],
            [
             0.7,
             "#b8e186"
            ],
            [
             0.8,
             "#7fbc41"
            ],
            [
             0.9,
             "#4d9221"
            ],
            [
             1,
             "#276419"
            ]
           ],
           "sequential": [
            [
             0,
             "#0d0887"
            ],
            [
             0.1111111111111111,
             "#46039f"
            ],
            [
             0.2222222222222222,
             "#7201a8"
            ],
            [
             0.3333333333333333,
             "#9c179e"
            ],
            [
             0.4444444444444444,
             "#bd3786"
            ],
            [
             0.5555555555555556,
             "#d8576b"
            ],
            [
             0.6666666666666666,
             "#ed7953"
            ],
            [
             0.7777777777777778,
             "#fb9f3a"
            ],
            [
             0.8888888888888888,
             "#fdca26"
            ],
            [
             1,
             "#f0f921"
            ]
           ],
           "sequentialminus": [
            [
             0,
             "#0d0887"
            ],
            [
             0.1111111111111111,
             "#46039f"
            ],
            [
             0.2222222222222222,
             "#7201a8"
            ],
            [
             0.3333333333333333,
             "#9c179e"
            ],
            [
             0.4444444444444444,
             "#bd3786"
            ],
            [
             0.5555555555555556,
             "#d8576b"
            ],
            [
             0.6666666666666666,
             "#ed7953"
            ],
            [
             0.7777777777777778,
             "#fb9f3a"
            ],
            [
             0.8888888888888888,
             "#fdca26"
            ],
            [
             1,
             "#f0f921"
            ]
           ]
          },
          "colorway": [
           "#636efa",
           "#EF553B",
           "#00cc96",
           "#ab63fa",
           "#FFA15A",
           "#19d3f3",
           "#FF6692",
           "#B6E880",
           "#FF97FF",
           "#FECB52"
          ],
          "font": {
           "color": "#2a3f5f"
          },
          "geo": {
           "bgcolor": "white",
           "lakecolor": "white",
           "landcolor": "#E5ECF6",
           "showlakes": true,
           "showland": true,
           "subunitcolor": "white"
          },
          "hoverlabel": {
           "align": "left"
          },
          "hovermode": "closest",
          "mapbox": {
           "style": "light"
          },
          "paper_bgcolor": "white",
          "plot_bgcolor": "#E5ECF6",
          "polar": {
           "angularaxis": {
            "gridcolor": "white",
            "linecolor": "white",
            "ticks": ""
           },
           "bgcolor": "#E5ECF6",
           "radialaxis": {
            "gridcolor": "white",
            "linecolor": "white",
            "ticks": ""
           }
          },
          "scene": {
           "xaxis": {
            "backgroundcolor": "#E5ECF6",
            "gridcolor": "white",
            "gridwidth": 2,
            "linecolor": "white",
            "showbackground": true,
            "ticks": "",
            "zerolinecolor": "white"
           },
           "yaxis": {
            "backgroundcolor": "#E5ECF6",
            "gridcolor": "white",
            "gridwidth": 2,
            "linecolor": "white",
            "showbackground": true,
            "ticks": "",
            "zerolinecolor": "white"
           },
           "zaxis": {
            "backgroundcolor": "#E5ECF6",
            "gridcolor": "white",
            "gridwidth": 2,
            "linecolor": "white",
            "showbackground": true,
            "ticks": "",
            "zerolinecolor": "white"
           }
          },
          "shapedefaults": {
           "line": {
            "color": "#2a3f5f"
           }
          },
          "ternary": {
           "aaxis": {
            "gridcolor": "white",
            "linecolor": "white",
            "ticks": ""
           },
           "baxis": {
            "gridcolor": "white",
            "linecolor": "white",
            "ticks": ""
           },
           "bgcolor": "#E5ECF6",
           "caxis": {
            "gridcolor": "white",
            "linecolor": "white",
            "ticks": ""
           }
          },
          "title": {
           "x": 0.05
          },
          "xaxis": {
           "automargin": true,
           "gridcolor": "white",
           "linecolor": "white",
           "ticks": "",
           "title": {
            "standoff": 15
           },
           "zerolinecolor": "white",
           "zerolinewidth": 2
          },
          "yaxis": {
           "automargin": true,
           "gridcolor": "white",
           "linecolor": "white",
           "ticks": "",
           "title": {
            "standoff": 15
           },
           "zerolinecolor": "white",
           "zerolinewidth": 2
          }
         }
        }
       }
      },
      "text/html": [
       "<div>            <script src=\"https://cdnjs.cloudflare.com/ajax/libs/mathjax/2.7.5/MathJax.js?config=TeX-AMS-MML_SVG\"></script><script type=\"text/javascript\">if (window.MathJax && window.MathJax.Hub && window.MathJax.Hub.Config) {window.MathJax.Hub.Config({SVG: {font: \"STIX-Web\"}});}</script>                <script type=\"text/javascript\">window.PlotlyConfig = {MathJaxConfig: 'local'};</script>\n",
       "        <script charset=\"utf-8\" src=\"https://cdn.plot.ly/plotly-3.0.1.min.js\"></script>                <div id=\"6aa48f3d-b873-480f-91bb-cc60df98e017\" class=\"plotly-graph-div\" style=\"height:525px; width:100%;\"></div>            <script type=\"text/javascript\">                window.PLOTLYENV=window.PLOTLYENV || {};                                if (document.getElementById(\"6aa48f3d-b873-480f-91bb-cc60df98e017\")) {                    Plotly.newPlot(                        \"6aa48f3d-b873-480f-91bb-cc60df98e017\",                        [{\"close\":{\"dtype\":\"f8\",\"bdata\":\"VWe1wB71X0DLgok\\u002fChdgQIrJG2BmDmBAAAAAAAAwYEAAAAAAAKBgQFVMpZ9whWBANWJmn0cZYEBVTKWfcE1gQMudmWC4DmBAq5hKP+EiYEDgMNEghStgQDViZp9HEWBAq85qgT2aX0CW6gJeZqZfQEGeXb71yF9AQblt36MgX0C\\u002fRpIgXI9eQBSTN8DMHF9AVTGVfsLlXkAUkzfAzDxfQKuzWmCPwl9Ay4KJPwoPYEAAAAAAAOBfQGoV\\u002faGZeV9AVUyln3DNX0AtCyb+KKxfQADl795R2F5Av0aSIFwPX0AAAAAAANBeQAAbECGul19A7FG4HoUbX0AAAAAAABBfQBSuR+F6VF9AluoCXmbWX0BBuW3fo4BfQJbqAl5mZl9A0\\u002fTZAdejX0CW6gJeZsZfQJbqAl5mtl9A7GzIPzOTX0Bq+uyA67FfQKuYSj\\u002fhil9AAAAAAAAwX0CW6gJeZuZfQKvOaoE9ul9A3xXB\\u002f9YTYEBVTKWfcDVgQDV9dsD1SGBAFJM3wMyUYEBq+uyA61FgQCDPLt96FGBAahX9oZlJX0CKyRtgZh5gQIrJG2BmFmBA7GzIPzNzX0BBuW3fo0BfQEG5bd+jUF9AABsQIa7nX0AUrkfhepRfQAAbECGud19AQblt36OAX0CKyRtgZh5gQEG5bd+jGGBAlgUTfxRGYEC371F\\u002fPUJgQGr67IDrQWBAIM8u33psYEA1YmafR5FgQN8Vwf\\u002fWM2BANWJmn0eBYEA1fXbA9XhgQDV9dsD1SGBANWJmn0dRYEDLnZlguD5gQN8Vwf\\u002fWQ2BA4DDRIIUrYEAUkzfAzBRgQOxsyD8z819Aq5hKP+HaX0Ah6j4AKRxgQKuYSj\\u002fhEmBAq5hKP+HKX0CrmEo\\u002f4bpfQJbqAl5m5l9A7GzIPzPTX0AA5e\\u002feUfhfQJbqAl5mpl9Av2GiQQrnX0Bq+uyA68FfQOAw0SCFA2BAAAAAAADgX0AAAAAAALBfQGr67IDrIV9A7FG4HoVbX0CW6gJeZqZfQC0LJv4onF9AAAAAAACAX0AtCyb+KGxfQBSuR+F6pF5AFK5H4XoEXkBq+uyA69FeQKvOaoE9al9Av2GiQQpnX0AUrkfherRfQPTDCOFREGBA3xXB\\u002f9YzYEC371F\\u002fPYJgQAAAAAAAWGBAlgUTfxROX0CrzmqBPUpfQAAAAAAAIF9AKUF\\u002foUexXkAA5e\\u002feUdheQL9GkiBcv15AABsQIa6XXkDsbMg\\u002fM1NeQC0LJv4onF1AQZ5dvvWoXEBqFf2hmdlcQADl795RyFxAKUF\\u002foUfhXECWBRN\\u002fFO5dQL9GkiBcX1xAv0aSIFzPXEBqFf2hmclcQFVMpZ9w\\u002fVxAq85qgT1KXUAAAAAAACBdQEG5bd+jwFxAahX9oZkpXEBBuW3fo3BaQAAbECGux1lAv0aSIFzvWUAtCyb+KGxbQKuYSj\\u002fhOlxAq7NaYI9SXEBBuW3fozBcQJYFE38U7lpAVTGVfsIVXEAAGxAhrpdbQClBf6FHUVtA0\\u002fTZAdcTXEBqFf2hmYlbQBSuR+F6JFxAVUyln3CNXEDT9NkB19NcQGr67IDrEV1Aq85qgT0aXUCrmEo\\u002f4XpcQBSTN8DMXFxAVUyln3DNXEBqFf2hmVlcQBSuR+F6lFxAAAAAAADAXEBVTKWfcK1cQC0LJv4oHFxA0\\u002fTZAddDW0DsbMg\\u002fM5NbQFVntcAeZVtAAOXv3lGYW0Bq+uyA67FbQNP02QHX01tAavrsgOuxW0AAAAAAAGBbQAAbECGuB1xAluoCXmbmW0Crs1pgj\\u002fJbQFVMpZ9wjVtAv2GiQQr3W0Crs1pgj8JbQNe+gF647ltAKUF\\u002foUdxXEBBuW3fo3BcQAAAAAAA4FxAVWe1wB7FXUBq+uyA69FcQOxsyD8zo1xAKUF\\u002foUfRXUBq+uyA6yFeQAAAAAAA4F1A7FG4HoVLXkAUrkfheqReQAAAAAAAgF5Aq5hKP+E6XkDT9NkB10NeQBSuR+F6JF5AKUF\\u002foUcxXUC\\u002fYaJBCgddQJYFE38U7lxAVTGVfsIVXEDsUbgehYtcQC0LJv4obFxAq7NaYI9SXUBq+uyA67FdQOxsyD8z011AAAAAAABwXUAA5e\\u002feUbhdQGr67IDrgV1A0\\u002fTZAddzXUDsbMg\\u002fM5NdQFUxlX7CVV1AavrsgOsRXUAUkzfAzMxcQGr67IDrwV1AavrsgOuRXUDXvoBeuI5dQAAbECGu51xAq5hKP+EKXUDsUbgehUtcQNe+gF64HlxAv0aSIFyfW0BVMZV+wtVbQNe+gF64PltAavrsgOuBWkBVZ7XAHtVaQNe+gF64zlpAv2GiQQonW0Bq+uyA6wFbQBSuR+F6tFpAv0aSIFwvW0AUrkfhetRaQEG5bd+jUFpAluoCXmZWWkBVTKWfcK1ZQBSTN8DMLFlAFJM3wMwcWEBVTKWfcD1YQGr67IDroVhAVUyln3D9WEBBnl2+9VhYQClBf6FH4VhAAOXv3lFIWECrzmqBPSpYQKuzWmCPMlhA7GzIPzMTWECrmEo\\u002f4VpZQC0LJv4o3FhAv0aSIFz\\u002fWECrmEo\\u002f4VpXQFUxlX7ChVdAVTGVfsJVWEDsUbgehRtYQNe+gF64nldAluoCXmYWWECW6gJeZiZYQClBf6FHgVdAQblt36PAV0C\\u002fRpIgXL9XQClBf6FHkVdAFJM3wMxsV0C\\u002fRpIgXH9XQEGeXb71KFhAABsQIa6HWEBBuW3foxBYQKuzWmCPAlhAAOXv3lE4WEAtCyb+KKxXQJbqAl5mBlhAQblt36MwWECrzmqBPTpYQC0LJv4oLFhAavrsgOshWUAAAAAAADBZQAAAAAAAYFlAQblt36PAWUAAGxAhrndZQGr67IDrQVlAABsQIa5HWUCrmEo\\u002f4UpZQEG5bd+jkFlAKUF\\u002foUehWUBVZ7XAHiVaQJYFE38UflpA7GzIPzNzWkCrmEo\\u002f4XpaQKvOaoE9elpAlgUTfxSuWkAA5e\\u002feUYhaQKuYSj\\u002fhalpALQsm\\u002fihMWkDsUbgehetaQNP02QHXY1tAv0aSIFw\\u002fW0C\\u002fRpIgXH9bQAAbECGux1tA0\\u002fTZAddzW0BVTKWfcL1bQKuzWmCPIltAq85qgT0qW0ApQX+hR0FbQC0LJv4onFtAq7NaYI8CXECW6gJeZgZcQJbqAl5mdltA176AXrjeWkCrzmqBPbpaQADl795RyFpAlgUTfxR+WkDsUbgehWtaQFVntcAeRVpAluoCXmYWWkAUrkfhenRYQFVntcAetVdAv0aSIFxvV0BBnl2+9WhXQOxRuB6Fy1dALQsm\\u002fiiMV0C\\u002fRpIgXE9XQJYFE38ULldAq7NaYI8yV0CrmEo\\u002f4VpXQEG5bd+jIFdAVTGVfsKVVkApQX+hR6FWQADl795ReFdAv0aSIFxfV0DT9NkB16NXQBSTN8DMjFdAlgUTfxTOV0DsUbgehRtYQGoV\\u002faGZeVhAABsQIa7nWECrzmqBPRpZQJbqAl5mFllAv2GiQQr3WEBVTKWfcJ1YQJYFE38UblhAq5hKP+F6WEAA5e\\u002feUahYQGr67IDrwVhALQsm\\u002fii8WEBqFf2hmelYQFVntcAetVhAVTGVfsJVWEBVTKWfcF1YQEGeXb71SFhA7GzIPzNjWEBVZ7XAHtVXQJbqAl5mxldAq85qgT36V0DsbMg\\u002fM+NXQJbqAl5mBlhAahX9oZlZV0Crs1pgjwJXQFUxlX7CZVdAahX9oZmZV0CW6gJeZuZXQEGeXb71+FdAv0aSIFy\\u002fV0Bq+uyA6+FXQC0LJv4o\\u002fFdA7FG4HoUrWEDXvoBeuD5YQKuYSj\\u002fhWlhAABsQIa43WECrs1pgj7JYQGr67IDrsVhAVWe1wB71WEAAGxAhrvdYQFVMpZ9w\\u002fVhA7FG4HoXbWECrzmqBPapYQFUxlX7CVVhAq5hKP+EqWEAUkzfAzLxZQFUxlX7CFVpAVUyln3ANWkDsbMg\\u002fM4NaQNe+gF64HlpAq7NaYI9yWkAAGxAhrndaQNe+gF643lpAABsQIa4XW0DT9NkB1zNbQAAAAAAAAFtA7FG4HoX7WkDsUbgehQtbQNe+gF64XltAAOXv3lFYW0CWBRN\\u002fFE5bQFVntcAeRVtAv2GiQQpXW0BBuW3foyBbQJbqAl5mNltAavrsgOsBW0AUrkfheuRaQC0LJv4ovFpAFK5H4Xq0WkAAAAAAAIBaQJbqAl5mhlpA176AXriuWkDXvoBeuO5aQBSTN8DM7FpAv2GiQQoXW0ApQX+hR2FaQADl795RyFlALQsm\\u002fihcWkAUkzfAzPxaQClBf6FH8VtAFK5H4XrkXECrmEo\\u002f4bpcQFVntcAeZVxAFK5H4XpkXEDsbMg\\u002fM2NcQAAbECGup1xAVUyln3AtXEAA5e\\u002feUThcQFUxlX7CRVxAFJM3wMx8XEDsUbgehQtcQOxsyD8zQ1xAKUF\\u002foUchXEAAAAAAAEBcQOxsyD8zQ1xAQZ5dvvV4XEDT9NkB14NcQOxsyD8zA11A7GzIPzMTXUBVMZV+wlVdQNe+gF64Pl1AAOXv3lFoXUDsbMg\\u002fM2NdQJYFE38UXl1AABsQIa5HXUDT9NkB10NdQJbqAl5mJl1AahX9oZlpXUAAAAAAAJBdQFUxlX7C5VxA176AXrieXECWBRN\\u002fFG5cQKuzWmCPYlxAv0aSIFzfW0BVMZV+wuVbQFVntcAedVtAVTGVfsI1W0CrzmqBPZpbQNP02QHXw1tAAOXv3lG4W0Crs1pgj\\u002fJaQOxRuB6FG1tAVUyln3BtWkC\\u002fYaJBCsdaQL9GkiBcf1tAFJM3wMx8W0DT9NkB14NbQNe+gF647ltA7GzIPzPzW0DXvoBeuM5bQKuzWmCP8ltAFK5H4XrkW0BVTKWfcN1bQClBf6FHoVtAv0aSIFxfW0BqFf2hmXlbQL9hokEKR1tAFJM3wMx8W0Bq+uyA68FbQAAbECGuB1xAFJM3wMx8XEDsbMg\\u002fM1NcQC0LJv4ozFxALQsm\\u002fijMXEAUrkfhevRcQJYFE38U\\u002flxAQZ5dvvUoXUAUkzfAzDxdQNP02QHXQ11Aq7NaYI8SXUApQX+hRyFdQEG5bd+jUF1AQblt36MwXUDXvoBeuC5dQBSuR+F69FxAahX9oZkJXUApQX+hRwFdQL9hokEKJ11Aq85qgT16XUC\\u002fRpIgXL9dQL9hokEKx11AAAAAAADwXUAAAAAAANBdQKuzWmCPwl1AAAAAAAAAXkC\\u002fRpIgXP9dQGr67IDr8V1AAAAAAAAAXkBVZ7XAHgVeQJYFE38U\\u002fl1AAOXv3lF4XkAtCyb+KHxeQBSTN8DMfF5AAOXv3lFoXkCW6gJeZlZeQAAAAAAAGGBANX12wPUQYECrs1pgjyJgQDViZp9HSWBANX12wPVwYEA1YmafR4FgQFVMpZ9wjWBA3xXB\\u002f9aDYEA1YmafR6lgQEG5bd+j4GBA9MMI4VHwYEDsbMg\\u002fM+tgQA==\"},\"high\":{\"dtype\":\"f8\",\"bdata\":\"Ieo+ACkcYEA1fXbA9RhgQDV9dsD1IGBAAAAAAAAwYEAAAAAAAKBgQOxsyD8zs2BA7GzIPzNzYEDfFcH\\u002f1ltgQLfvUX89UmBANX12wPVIYEBBuW3fozBgQGr67IDrMWBAAAAAAAAYYEDfFcH\\u002f1itgQLfvUX89MmBAlgUTfxTOX0ApQX+hRzFfQGoV\\u002faGZOV9AahX9oZlZX0AUkzfAzDxfQBSuR+F61F9AVWe1wB4lYEAAAAAAAChgQBSTN8DMDGBAluoCXmb2X0A1YmafRwFgQBSuR+F6tF9AAOXv3lE4X0AUkzfAzCxfQGoV\\u002faGZmV9Av0aSIFyfX0AAGxAhrkdfQNP02QHXY19AQblt36PgX0DfFcH\\u002f1gNgQGoV\\u002faGZmV9AVWe1wB6lX0BVTKWfcM1fQLfvUX89EmBAq7NaYI\\u002fSX0AA5e\\u002feUchfQJbqAl5mxl9AQZ5dvvWIX0DfFcH\\u002f1gNgQIrJG2BmBmBA3xXB\\u002f9YbYEBVTKWfcE1gQCHqPgApVGBAIeo+ACmkYEA1YmafR9FgQKuYSj\\u002fhcmBAIM8u33oUYEAh6j4AKURgQLfvUX89UmBAiskbYGYOYEAAAAAAALBfQFVntcAehV9AABsQIa7nX0DT9NkB1+NfQADl795RuF9ALQsm\\u002fijMX0CKyRtgZh5gQAw89x6uL2BAy4KJPwpXYEAh6j4AKVxgQL9GkiBcX2BAIeo+ACl0YEDLgok\\u002fCp9gQFVntcAenWBA9MMI4VGIYECKyRtgZn5gQIrJG2BmbmBAIM8u33psYEBVZ7XAHlVgQJYFE38UXmBAq7NaYI9SYECWBRN\\u002fFDZgQMudmWC4JmBAq7NaYI8CYECrmEo\\u002f4SpgQEkQroDCRWBAq7NaYI8KYEC\\u002fRpIgXM9fQJbqAl5m9l9AAOXv3lH4X0Bq+uyA6wlgQBSuR+F69F9AavrsgOsBYEC\\u002fYaJBCudfQHY25J+ZOWBAiskbYGYmYEC\\u002fRpIgXP9fQJYFE38Unl9AABsQIa6HX0AtCyb+KLxfQC0LJv4orF9A176AXriOX0BqFf2hmYlfQEGeXb71KF9A0\\u002fTZAdcDX0CW6gJeZvZeQEG5bd+jcF9AABsQIa6XX0BqFf2hmclfQLfvUX89EmBA3xXB\\u002f9YzYEDLgok\\u002fCp9gQFVMpZ9wnWBAAAAAAABgX0BVMZV+wsVfQL9GkiBcb19Av2GiQQrnXkCrzmqBPfpeQAAAAAAA4F5AFK5H4XqkXkBBnl2+9aheQBSuR+F6pF5AFJM3wMxsXUAtCyb+KFxdQAAAAAAAIF1AAAAAAAAQXUC\\u002fRpIgXP9dQOxRuB6Fi11Aq5hKP+HaXEBqFf2hmRldQNP02QHXE11AahX9oZlpXUAtCyb+KFxdQClBf6FHIV1AluoCXmaWXEBqFf2hmflbQOxsyD8zM1tAv2GiQQrHW0BBnl2+9XhbQL9GkiBcT1xA0\\u002fTZAddTXEBq+uyA66FcQADl795R+FtAVTGVfsIVXEBq+uyA6zFcQBSTN8DMnFtA0\\u002fTZAdcjXEApQX+hR4FcQGr67IDrUVxAVUyln3CNXEBBnl2+9ThdQGr67IDrIV1Aq7NaYI8iXUC\\u002fRpIgXB9dQOxsyD8zk1xAABsQIa7XXEDsUbgehYtcQJYFE38UrlxAAAAAAADgXEAtCyb+KCxdQBSuR+F6pFxAQblt36NgXECrs1pgj+JbQAAbECGuZ1tAQblt36PAW0AAGxAhrtdbQL9GkiBc71tAKUF\\u002foUfxW0AtCyb+KIxbQGr67IDrEVxAAAAAAAAwXEAUkzfAzBxcQClBf6FH4VtAluoCXmYGXEAAAAAAAABcQAAAAAAA8FtAq5hKP+GKXEBVZ7XAHuVcQAAAAAAA4FxA176AXrjOXUAA5e\\u002feUYhdQKuzWmCPIl1A7GzIPzPTXUAtCyb+KCxeQJYFE38UTl5Av2GiQQpXXkC\\u002fRpIgXN9eQBSuR+F69F5ALQsm\\u002fiisXkDT9NkB13NeQNP02QHXc15AFK5H4XqEXUCrmEo\\u002f4VpdQBSuR+F6NF1AFK5H4XrkXEC\\u002fRpIgXI9cQOxsyD8zw1xAv0aSIFxfXUAAAAAAAPBdQKuYSj\\u002fh+l1A176AXrjuXUCW6gJeZtZdQNe+gF64zl1Aq85qgT2aXUCrzmqBPdpdQNP02QHXs11Av2GiQQqHXUCrs1pgjzJdQAAAAAAA0F1Av2GiQQr3XUCW6gJeZqZdQC0LJv4obF1ALQsm\\u002fig8XUBBnl2+9dhcQOxRuB6FK1xA7GzIPzMzXEC\\u002fRpIgXP9bQAAAAAAAEFxAKUF\\u002foUdhW0AAGxAhrtdaQJYFE38U7lpAluoCXmY2W0AAAAAAAEBbQC0LJv4o7FpA7FG4HoVbW0AUkzfAzCxbQGr67IDrwVpAABsQIa5XWkCW6gJeZnZaQAAbECGul1lAAOXv3lEIWUC\\u002fYaJBCsdYQNP02QHXw1hALQsm\\u002figsWUAtCyb+KExZQNe+gF64HllAVUyln3BtWEBqFf2hmalYQC0LJv4ojFhAAOXv3lF4WEBVTKWfcF1ZQGr67IDrYVlAAOXv3lE4WUAA5e\\u002feUShYQClBf6FHoVdAVTGVfsJVWEBVTKWfcC1YQKuzWmCPAlhAVTGVfsI1WEBVZ7XAHlVYQKuYSj\\u002fhOlhAFJM3wMzsV0AtCyb+KPxXQJbqAl5mFlhAlgUTfxSuV0AAAAAAAKBXQJbqAl5mNlhAVUyln3CNWEBBnl2+9bhYQEG5bd+jMFhAahX9oZk5WEAAAAAAACBYQADl795RGFhAQblt36MwWEApQX+hR4FYQNe+gF64jlhAKUF\\u002foUcxWUBBnl2+9ThZQFVMpZ9wbVlAAAAAAADwWUBVZ7XAHrVZQEG5bd+jcFlAVWe1wB5lWUC\\u002fRpIgXI9ZQGr67IDrkVlAq85qgT26WUDsUbgehUtaQNP02QHXk1pAlgUTfxSeWkAAAAAAAKBaQGoV\\u002faGZ6VpAq7NaYI\\u002fSWkAUrkfhesRaQAAAAAAAkFpALQsm\\u002fiiMWkCrs1pgj\\u002fJaQKuYSj\\u002fhmltAahX9oZl5W0AAAAAAAIBbQC0LJv4oDFxA176AXriuW0DXvoBeuL5bQKuYSj\\u002fhmltAKUF\\u002foUdxW0C\\u002fYaJBCqdbQAAAAAAAoFtAVTGVfsIVXEBBnl2+9RhcQOxsyD8zE1xAFJM3wMw8W0AAAAAAAABbQFUxlX7CBVtA7FG4HoW7WkDXvoBeuJ5aQGoV\\u002faGZaVpA7GzIPzNTWkBVTKWfcK1YQADl795ReFhAlgUTfxSuV0BVZ7XAHoVXQL9GkiBc71dAahX9oZn5V0AUrkfheoRXQBSTN8DMXFdAKUF\\u002foUdxV0AUrkfhemRXQBSuR+F6ZFdAavrsgOsxV0CrmEo\\u002f4epWQEGeXb71mFdAFJM3wMysV0BVTKWfcM1XQEGeXb71qFdA7FG4HoXbV0AtCyb+KExYQFUxlX7ChVhAv0aSIFzvWEDXvoBeuC5ZQJYFE38UHllAahX9oZkZWUCrs1pgj+JYQFUxlX7CdVhAKUF\\u002foUeRWEBBnl2+9XhZQAAbECGu91hA0\\u002fTZAdfjWEC\\u002fRpIgXP9YQJbqAl5m1lhAABsQIa7HWEDXvoBeuJ5YQKvOaoE9mlhAAAAAAABwWEBqFf2hmSlYQBSuR+F6JFhAluoCXmYWWEBBnl2+9ThYQKuzWmCPElhAq85qgT2qV0DsbMg\\u002fM0NXQKvOaoE9aldA7GzIPzOjV0ApQX+hR\\u002fFXQJYFE38UHlhAahX9oZnZV0CrzmqBPepXQAAAAAAAIFhAQZ5dvvU4WEBqFf2hmWlYQBSTN8DMbFhAq5hKP+FqWEC\\u002fRpIgXL9YQOxsyD8z01hAAOXv3lEIWUAAAAAAAABZQFVMpZ9wHVlAAAAAAABAWUDsbMg\\u002fM9NYQFUxlX7CtVhAlgUTfxR+WECW6gJeZhZaQBSTN8DMHFpA7GzIPzMjWkBqFf2hmYlaQBSuR+F6hFpAVTGVfsJ1WkAAAAAAAIBaQGoV\\u002faGZ6VpAABsQIa4XW0AtCyb+KDxbQGoV\\u002faGZOVtA7FG4HoU7W0AtCyb+KBxbQKuzWmCPYltA176AXriOW0AAGxAhrldbQJbqAl5mZltALQsm\\u002fihsW0CW6gJeZkZbQBSuR+F6VFtAAAAAAAAwW0AA5e\\u002feUfhaQBSTN8DM\\u002fFpALQsm\\u002fijcWkAAAAAAAKBaQBSuR+F6pFpA7GzIPzOzWkAAAAAAAABbQOxsyD8zE1tAQblt36MwW0ApQX+hR9FaQJYFE38UblpAlgUTfxRuWkCrs1pgjzJbQGr67IDrQVxA176AXrjuXEAA5e\\u002feUQhdQOxRuB6FC11AABsQIa6HXEC\\u002fRpIgXH9cQC0LJv4ovFxAq7NaYI+yXEBBnl2+9VhcQOxRuB6FS1xAQZ5dvvWoXEDsbMg\\u002fM3NcQAAbECGuV1xA7GzIPzNDXEDT9NkB15NcQKvOaoE9alxAVTGVfsKVXEDT9NkB16NcQAAAAAAAMF1ALQsm\\u002fiisXUDXvoBeuH5dQC0LJv4oXF1Aq5hKP+GKXUBVMZV+wnVdQFVMpZ9wjV1AQblt36NwXUAA5e\\u002feUVhdQKvOaoE9Ol1Av0aSIFxvXUC\\u002fYaJBCpddQBSTN8DM7FxAv2GiQQr3XEBVTKWfcM1cQNe+gF64jlxAKUF\\u002foUdxXECW6gJeZhZcQFVMpZ9w3VtAAAAAAACQW0BBuW3fo6BbQJYFE38U7ltAFK5H4XrUW0BVMZV+wsVbQAAbECGuN1tA0\\u002fTZAdfzWkDsUbgehetaQNe+gF64jltAluoCXmaWW0Crs1pgj6JbQL9GkiBc\\u002f1tAq5hKP+EaXEBBuW3fo+BbQAAbECGu91tAlgUTfxQeXEBq+uyA6wFcQBSTN8DMDFxALQsm\\u002fii8W0BVMZV+woVbQGr67IDrgVtAv2GiQQqXW0AtCyb+KMxbQOxRuB6FG1xAFJM3wMysXEAAAAAAAMBcQKuYSj\\u002fh+lxAFJM3wMwMXUDXvoBeuC5dQAAAAAAAIF1AAOXv3lFYXUAAAAAAAGBdQGoV\\u002faGZWV1AQblt36MgXUApQX+hRyFdQOxsyD8zc11AKUF\\u002foUeBXUC\\u002fYaJBCkddQBSTN8DMTF1AVWe1wB4VXUBBuW3foyBdQL9hokEKN11Aq85qgT2KXUDsUbgehdtdQADl795R2F1A7FG4HoX7XUDsbMg\\u002fM9NdQAAbECGu511Av0aSIFwPXkAAAAAAACBeQFUxlX7CBV5AFJM3wMwcXkDT9NkB1zNeQJbqAl5mBl5AluoCXmaGXkAtCyb+KJxeQJbqAl5mll5AAOXv3lFoXkBBnl2+9VheQAw89x6uT2BAIM8u33osYECWBRN\\u002fFCZgQAAAAAAAUGBAq5hKP+GCYEDLgok\\u002fCodgQIrJG2BmjmBAlgUTfxSeYEC371F\\u002fPbpgQKuYSj\\u002fh4mBAQblt36MIYUAUkzfAzPxgQA==\"},\"low\":{\"dtype\":\"f8\",\"bdata\":\"q5hKP+G6X0AUkzfAzNxfQKuzWmCPCmBAdjbkn5kBYEBVZ7XAHjVgQFVMpZ9wZWBAFJM3wMwEYEC\\u002fYaJBCqdfQAw89x6uB2BAdjbkn5kJYECrmEo\\u002f4QJgQLfvUX89CmBAQblt36NwX0BBuW3fo5BfQNP02QHXQ19A7GzIPzPzXkC\\u002fYaJBCodeQADl795RaF5AVWe1wB6lXkAAGxAhrrdeQGoV\\u002faGZaV9AABsQIa6XX0BqFf2hmdlfQKvOaoE9Sl9AKUF\\u002foUehX0DT9NkB16NfQADl795R2F5AluoCXmamXkCrzmqBPbpeQAAAAAAAAF9Av2GiQQoXX0CW6gJeZsZeQC0LJv4oDF9AVWe1wB4VX0DXvoBeuH5fQJYFE38UPl9Aq85qgT0qX0BBuW3fo1BfQL9hokEKp19Aq85qgT16X0BBuW3fo4BfQL9hokEKh19AVUyln3AdX0CrmEo\\u002f4UpfQKuYSj\\u002fhql9AFK5H4XqUX0Agzy7fegRgQL9GkiBcJ2BAFJM3wMxkYEC371F\\u002fPTJgQHY25J+ZCWBAVWe1wB4lX0DsbMg\\u002fM1NfQPTDCOFRCGBAavrsgOtxX0C\\u002fYaJBCtdeQClBf6FHAV9Av2GiQQqHX0AA5e\\u002feUWhfQBSuR+F6NF9AABsQIa53X0CrzmqBPcpfQMudmWC4BmBA4DDRIIULYEAgzy7fejRgQKuYSj\\u002fhKmBAq7NaYI86YEAUkzfAzGxgQN8Vwf\\u002fWI2BAdjbkn5lBYEDsbMg\\u002fM2NgQBSTN8DMPGBAdjbkn5lBYEC371F\\u002fPSpgQBSTN8DMPGBAVWe1wB4dYEDgMNEghQtgQFVntcAetV9AABsQIa5nX0CW6gJeZvZfQL9GkiBcD2BAv2GiQQrHX0BVTKWfcG1fQAAbECGul19Av0aSIFyvX0CWBRN\\u002fFM5fQGoV\\u002faGZmV9AVWe1wB7FX0AA5e\\u002feUbhfQAAbECGux19AAAAAAADgX0BBuW3fo6BfQNe+gF64Hl9Av2GiQQo3X0C\\u002fRpIgXH9fQClBf6FHcV9AluoCXmY2X0ApQX+hR\\u002fFeQKuzWmCPol5AlgUTfxTOXUBVTKWfcE1eQBSuR+F6FF9Aq7NaYI9CX0BVZ7XAHmVfQJbqAl5m1l9AavrsgOsJYECKyRtgZlZgQLfvUX89SmBAv0aSIFx\\u002fXkDT9NkB10NfQGoV\\u002faGZ+V5AABsQIa6HXkDsbMg\\u002fM6NeQClBf6FHkV5AVUyln3BtXkCrzmqBPTpeQClBf6FHYV1AAAAAAABQXECW6gJeZgZcQAAbECGuh1xAAAAAAACgXEBq+uyA6yFdQFVntcAeVVxAAOXv3lFoW0Crs1pgj6JcQEG5bd+jgFxAAAAAAADgXEBBuW3fowBdQOxRuB6Fq1xAAOXv3lHoW0BqFf2hmWlaQAAAAAAAAFdAAAAAAADgWUDsbMg\\u002fM0NaQClBf6FHgVtAq7NaYI\\u002fiW0AAAAAAAABcQL9hokEK11pAAOXv3lFIW0Crs1pgj4JbQEG5bd+jIFtAFK5H4XqUW0ApQX+hR3FbQGoV\\u002faGZeVtAQblt36PwW0C\\u002fYaJBCrdcQKuYSj\\u002fhmlxALQsm\\u002fijcXECWBRN\\u002fFG5cQAAbECGu91tAq85qgT1qXEApQX+hRyFcQOxsyD8zU1xAABsQIa4XXEApQX+hR4FcQC0LJv4oHFxAv2GiQQr3WkDXvoBeuC5bQNP02QHX01pA7GzIPzPjWkAUrkfhekRbQClBf6FHcVtAq85qgT1aW0BVTKWfcA1bQL9GkiBcX1tALQsm\\u002fijcW0DsUbgehatbQNP02QHXY1tAv0aSIFyfW0Bq+uyA66FbQL9hokEKh1tAFK5H4Xq0W0AUkzfAzGxcQJbqAl5mhlxAVWe1wB4VXUCrmEo\\u002f4bpcQL9GkiBcf1xA0\\u002fTZAdcDXUApQX+hR5FdQBSTN8DM3F1Av2GiQQrnXUAUkzfAzCxeQAAbECGuZ15A7FG4HoULXkAAGxAhrideQOxsyD8zA15A0\\u002fTZAdcDXUBVTKWfcM1cQGoV\\u002faGZ6VxAKUF\\u002foUcRXEAAAAAAAMBbQBSuR+F6VFxAAAAAAADgXEBBuW3fozBdQJbqAl5mtl1AVTGVfsJVXUAAGxAhrkddQKuYSj\\u002fhel1AluoCXmZmXUAAAAAAAHBdQL9hokEKN11AVWe1wB4FXUCWBRN\\u002fFI5cQL9hokEKx1xA0\\u002fTZAddzXUC\\u002fYaJBCjddQFVntcAexVxAQblt36PgXECW6gJeZjZcQKuzWmCPcltAluoCXmaWW0DsbMg\\u002fMzNbQNe+gF64PltA0\\u002fTZAddzWkAUrkfhemRaQBSTN8DMnFpAFJM3wMzMWkAUkzfAzPxaQOxRuB6Fi1pAv2GiQQq3WkDsUbgehctaQBSuR+F6NFpAAAAAAACAWUCrzmqBPZpZQAAbECGu91hA7FG4HoUbWEBBuW3fozBYQFUxlX7CVVhAVTGVfsK1WEDsbMg\\u002fM1NYQL9GkiBc71dAv2GiQQrXV0AAAAAAAOBXQKuYSj\\u002fhWldALQsm\\u002fii8V0AAGxAhrpdYQFVMpZ9wzVhAFK5H4XqEWEBVMZV+wlVXQEGeXb71GFdAluoCXmaWV0BqFf2hmdlXQGr67IDrkVdAVWe1wB6FV0AtCyb+KMxXQC0LJv4obFdAq7NaYI9CV0DsUbgehXtXQJbqAl5mhldAVTGVfsIlV0BBuW3fo0BXQL9hokEKp1dAahX9oZkJWEBVMZV+wgVYQOxsyD8z81dAq5hKP+H6V0DsbMg\\u002fM6NXQBSuR+F6VFdAAAAAAADQV0BVZ7XAHiVYQGoV\\u002faGZKVhAq5hKP+FaWEBBnl2+9ehYQBSTN8DMHFlAABsQIa5XWUBVTKWfcD1ZQGoV\\u002faGZGVlAKUF\\u002foUcRWUBqFf2hmQlZQAAAAAAAYFlAavrsgOtxWUCW6gJeZvZZQFUxlX7CJVpAVUyln3A9WkAtCyb+KExaQEGeXb71SFpAVUyln3BNWkBqFf2hmXlaQEGeXb71OFpA0\\u002fTZAddDWkAA5e\\u002feUThaQJbqAl5mJltAAOXv3lE4W0AUkzfAzAxbQClBf6FHkVtAq5hKP+FaW0AUkzfAzExbQAAbECGuB1tAq5hKP+EKW0BVZ7XAHjVbQKvOaoE9KltA7GzIPzOzW0BVZ7XAHtVbQNe+gF64bltALQsm\\u002fii8WkDXvoBeuI5aQNP02QHXg1pAKUF\\u002foUdhWkAAGxAhridaQEG5bd+jIFpAq85qgT36WUDsUbgehetXQAAAAAAAkFdAQblt36MgV0BqFf2hmRlXQOxRuB6Fa1dAFK5H4Xp0V0DsUbgehStXQJbqAl5m9lZAVTGVfsIlV0C\\u002fYaJBCgdXQFVMpZ9wHVdAlgUTfxReVkAAAAAAAIBWQGoV\\u002faGZ6VZAQblt36NAV0BBnl2+9XhXQBSuR+F6ZFdAKUF\\u002foUehV0CrmEo\\u002f4epXQFUxlX7CNVhAv2GiQQqHWEBBnl2+9ahYQAAAAAAA0FhAFK5H4Xq0WEBVZ7XAHpVYQADl795RKFhAFJM3wMxcWEDsbMg\\u002fM2NYQFVMpZ9wvVhA7FG4HoWrWEBVTKWfcJ1YQNe+gF64nlhAluoCXmZGWEAAAAAAADBYQGr67IDrQVhAFK5H4XoEWEDsbMg\\u002fM9NXQGr67IDrwVdA7FG4HoWrV0CW6gJeZtZXQAAAAAAA0FdAahX9oZkpV0AAAAAAAOBWQEGeXb71CFdAAOXv3lFoV0DsbMg\\u002fM5NXQFVntcAe1VdAVUyln3CdV0AAGxAhrpdXQAAbECGu51dA7GzIPzMDWEDXvoBeuC5YQAAbECGuR1hAVTGVfsI1WEAUrkfhelRYQAAAAAAAoFhAluoCXmamWEBVMZV+wtVYQL9GkiBc71hAAOXv3lHIWEDT9NkB15NYQKuYSj\\u002fhOlhAq5hKP+EaWEAAAAAAALBZQBSuR+F6tFlA7FG4HoXrWUCrzmqBPRpaQAAAAAAAAFpAKUF\\u002foUcxWkBq+uyA61FaQOxRuB6Fi1pAq85qgT3KWkBBuW3fowBbQEG5bd+j8FpAluoCXmb2WkBq+uyA6\\u002fFaQFVntcAeBVtAVUyln3BNW0BVMZV+whVbQClBf6FHQVtAv2GiQQoXW0CW6gJeZvZaQGr67IDrIVtA7FG4HoXrWkDsUbgehataQNP02QHXk1pAq7NaYI+SWkAAAAAAAGBaQEGeXb71aFpAABsQIa5nWkAUrkfherRaQEG5bd+j4FpAFK5H4XrEWkC\\u002fRpIgXE9aQADl795RyFlAavrsgOuhWUC\\u002fRpIgXM9aQJbqAl5mJltAv0aSIFxfXECrs1pgj4JcQAAAAAAAUFxAQblt36MgXEAtCyb+KBxcQAAAAAAAgFxA7GzIPzPjW0DsbMg\\u002fM+NbQFUxlX7CFVxA7FG4HoVbXEDsbMg\\u002fM\\u002fNbQOxsyD8z81tAavrsgOsRXEAA5e\\u002feUShcQC0LJv4oLFxAAOXv3lFIXEBBuW3fo2BcQJYFE38UrlxAFJM3wMwMXUAAAAAAADBdQJYFE38U7lxAAOXv3lFIXUBq+uyA6zFdQBSTN8DMXF1A7GzIPzNzXEBVZ7XAHhVdQGr67IDrEV1AAAAAAABAXUDT9NkB11NdQNP02QHXU1xAluoCXmaGXEAUkzfAzFxcQBSTN8DMTFxAavrsgOuhW0DXvoBeuM5bQOxsyD8zY1tAv2GiQQoHW0BVTKWfcF1bQBSTN8DMbFtA7GzIPzMDW0BVZ7XAHnVaQOxsyD8zo1pAVWe1wB4FWkCrzmqBPYpaQJbqAl5mplpAVWe1wB41W0CrzmqBPWpbQEG5bd+jgFtAahX9oZnZW0BVZ7XAHpVbQBSTN8DMvFtAQZ5dvvXYW0AUrkfheoRbQClBf6FHkVtAavrsgOtBW0CW6gJeZjZbQAAAAAAAEFtALQsm\\u002fihMW0CrzmqBPUpbQJbqAl5mpltA0\\u002fTZAdcTXEC\\u002fRpIgXB9cQAAAAAAAcFxA176AXri+XEDXvoBeuM5cQGoV\\u002faGZ6VxAAAAAAADwXEDsUbgehStdQGr67IDrMV1AQZ5dvvXoXEBVMZV+wuVcQL9GkiBcH11AFJM3wMwMXUBqFf2hmRldQOxRuB6F21xAQblt36OwXEAAAAAAAPBcQNP02QHX81xAlgUTfxQeXUAtCyb+KHxdQOxsyD8zk11AluoCXmamXUBVTKWfcI1dQNP02QHXs11AlgUTfxSOXUBVTKWfcO1dQAAbECGu111A176AXrjuXUApQX+hR\\u002fFdQAAAAAAA4F1AavrsgOsRXkCW6gJeZmZeQJbqAl5mZl5Aq85qgT0qXkAAGxAhrideQEG5bd+jwF9AavrsgOvxX0BVZ7XAHgVgQBSTN8DMHGBAiskbYGZOYEDLgok\\u002fCmdgQN8Vwf\\u002fWY2BAdjbkn5mBYEAAAAAAAJhgQAAAAAAAqGBA3xXB\\u002f9bTYECrmEo\\u002f4dpgQA==\"},\"open\":{\"dtype\":\"f8\",\"bdata\":\"v0aSIFzfX0AA5e\\u002feUehfQL9GkiBcD2BA3xXB\\u002f9YTYEBBuW3fo0BgQJYFE38UnmBAavrsgOtxYEA1YmafRxlgQAAAAAAAQGBAAAAAAAAoYEDLnZlguB5gQOxsyD8zI2BAq7NaYI8SYEAUkzfAzAxgQFVMpZ9w\\u002fV9Aq85qgT2aX0AAAAAAADBfQNP02QHXk15AahX9oZkZX0AA5e\\u002feUfheQGoV\\u002faGZeV9AAAAAAADAX0AAAAAAABhgQAAAAAAACGBAABsQIa7HX0DXvoBeuM5fQKuzWmCPol9AQblt36OwXkAUrkfheiRfQOxsyD8zA19AVTGVfsKFX0AUrkfhejRfQGr67IDrQV9AlgUTfxQeX0BBnl2+9ehfQJbqAl5mdl9AluoCXmZ2X0AUkzfAzHxfQN8Vwf\\u002fWC2BAAAAAAADAX0CrzmqBPZpfQGr67IDrkV9A7GzIPzNjX0AUrkfhemRfQOxsyD8zA2BAv0aSIFy\\u002fX0B2NuSfmQlgQAw89x6uT2BAavrsgOuJYEDLnZlguM5gQFVntcAeRWBAIM8u33oUYECW6gJeZoZfQAAAAAAAMGBAFJM3wMwEYEDT9NkB16NfQClBf6FHMV9A7FG4HoWrX0BBnl2+9dhfQJbqAl5mZl9AahX9oZmJX0CrzmqBPdpfQLfvUX89ImBAIeo+ACkMYECWBRN\\u002fFFZgQAAAAAAAQGBAt+9Rfz1CYEDsbMg\\u002fM3NgQOxsyD8zk2BAq5hKP+FKYEDgMNEghXtgQL9GkiBcZ2BANX12wPVIYEDgMNEghTtgQFVntcAeVWBAq7NaYI8yYEAAAAAAADBgQBSTN8DMHGBAFJM3wMysX0CrmEo\\u002f4fpfQEkQroDCJWBAlgUTfxQGYECW6gJeZoZfQGr67IDrwV9AlgUTfxTuX0DXvoBeuM5fQFVMpZ9w7V9Av0aSIFzfX0DXvoBeuN5fQFVMpZ9wzV9A4DDRIIUbYECrmEo\\u002f4epfQFVMpZ9wXV9AFK5H4XpkX0BqFf2hmblfQOxRuB6Fm19ALQsm\\u002fig8X0BBnl2+9XhfQNe+gF64Hl9AluoCXmb2XkAtCyb+KHxeQGr67IDrQV9Aq7NaYI+CX0CWBRN\\u002fFG5fQL9GkiBc719Aq7NaYI8iYEDLgok\\u002fCl9gQOxsyD8zm2BAv0aSIFx\\u002fXkAUkzfAzIxfQBSuR+F6VF9AVTGVfsLFXkAA5e\\u002feUdheQGoV\\u002faGZyV5AFK5H4XqUXkCW6gJeZqZeQAAAAAAAYF5Aq5hKP+FaXUAUkzfAzDxcQJYFE38U\\u002flxAVWe1wB6lXEBq+uyA6yFdQNP02QHXc11AavrsgOshXECrs1pgjwJdQBSuR+F6lFxAq7NaYI8CXUDsUbgehRtdQJbqAl5mBl1AVWe1wB6FXEDsUbgehZtbQAAbECGut1dAv2GiQQrHW0BVMZV+wsVaQNe+gF64DlxAq5hKP+EKXEBq+uyA6wFcQGoV\\u002faGZiVtA176AXriOW0C\\u002fRpIgXB9cQJYFE38UPltAAAAAAADwW0BBuW3fo3BcQClBf6FHkVtAq7NaYI\\u002fyW0BVZ7XAHiVdQOxRuB6F+1xAAAAAAAAQXUCrzmqBPepcQFVMpZ9wDVxAq5hKP+FqXEAA5e\\u002feUVhcQADl795RaFxAAAAAAABQXEAtCyb+KBxdQJbqAl5mdlxAVWe1wB41XECrmEo\\u002f4YpbQBSuR+F6RFtAQblt36MAW0AA5e\\u002feUXhbQADl795RqFtAv0aSIFzvW0AtCyb+KIxbQAAAAAAAgFtA176AXrguXEAUrkfherRbQKuzWmCP0ltA7FG4HoW7W0Bq+uyA6\\u002fFbQOxsyD8zs1tAVTGVfsLVW0AAAAAAAIBcQFVntcAelVxAFJM3wMwsXUBVZ7XAHoVdQGoV\\u002faGZ2VxA7FG4HoU7XUAUkzfAzKxdQL9GkiBcP15A7GzIPzMzXkCrs1pgjzJeQADl795RyF5AluoCXmZ2XkC\\u002fYaJBCkdeQFVMpZ9wPV5AahX9oZk5XUAAGxAhrhddQEG5bd+jEF1AFJM3wMzMXEAA5e\\u002feUdhbQKuYSj\\u002fhulxAQblt36PwXEBBnl2+9WhdQBSTN8DMzF1AKUF\\u002foUfRXUBVZ7XAHlVdQFVMpZ9wzV1Aq7NaYI+SXUC\\u002fRpIgXH9dQAAAAAAAsF1AVTGVfsJVXUDsbMg\\u002fMyNdQKuzWmCP0lxA176AXri+XUApQX+hR2FdQEGeXb71aF1Aq7NaYI8CXUAtCyb+KMxcQOxRuB6FC1xALQsm\\u002fij8W0AUrkfhesRbQClBf6FHAVxAq85qgT06W0Bq+uyA69FaQGoV\\u002faGZ2VpAKUF\\u002foUfRWkAAAAAAAEBbQFUxlX7C5VpAVUyln3C9WkBVZ7XAHiVbQEG5bd+jwFpAv2GiQQqnWUAAAAAAAHBaQNP02QHXI1lA7FG4HoWrWEDsbMg\\u002fM6NYQJYFE38UvlhA7GzIPzMjWUAUrkfhehRZQFVMpZ9wfVhAFJM3wMwMWECrzmqBPZpYQJbqAl5mxldA0\\u002fTZAddDWEAA5e\\u002feUahYQClBf6FHYVlA7FG4HoX7WECrs1pgjwJYQKuzWmCPcldAq7NaYI+yV0CWBRN\\u002fFB5YQKuYSj\\u002fh2ldAAAAAAADAV0C\\u002fYaJBCvdXQClBf6FHIVhAAOXv3lFIV0Crs1pgj5JXQKuYSj\\u002fh+ldAq7NaYI9yV0AtCyb+KIxXQClBf6FHwVdAq5hKP+EqWEBVMZV+wrVYQAAAAAAAAFhA0\\u002fTZAdcTWEBqFf2hmRlYQNe+gF64fldA7GzIPzMDWEAUkzfAzExYQL9hokEKN1hAahX9oZlpWEBBuW3foyBZQFVntcAeJVlAABsQIa6XWUBBnl2+9ZhZQGr67IDrMVlA0\\u002fTZAddTWUCrzmqBPVpZQL9GkiBcj1lAq85qgT16WUBVTKWfcP1ZQL9hokEKJ1pAKUF\\u002foUdhWkBVMZV+wpVaQOxRuB6Fe1pAAAAAAABQWkDXvoBeuJ5aQJYFE38UXlpAAAAAAACAWkBBnl2+9ThaQGoV\\u002faGZKVtAlgUTfxRuW0Bq+uyA6zFbQKuYSj\\u002fhmltAQblt36NgW0DXvoBeuI5bQBSTN8DMfFtAq85qgT06W0CWBRN\\u002fFD5bQFUxlX7CVVtA7GzIPzOzW0AAGxAhrudbQL9hokEKB1xAQZ5dvvU4W0AA5e\\u002feUfhaQEGeXb71qFpA7FG4HoW7WkBBuW3fo0BaQAAAAAAAQFpAq85qgT36WUAAAAAAAABYQL9hokEKZ1hAv0aSIFx\\u002fV0CWBRN\\u002fFH5XQBSTN8DMjFdAFJM3wMzMV0AAAAAAAIBXQAAbECGuV1dAAAAAAABAV0BVZ7XAHlVXQNe+gF64XldAlgUTfxQuV0AAAAAAAIBWQEGeXb71GFdA7GzIPzOjV0CrzmqBPYpXQEGeXb71qFdAQZ5dvvWoV0AAGxAhrvdXQJYFE38UTlhAq5hKP+GqWEDsUbgehetYQC0LJv4o3FhAluoCXmbmWEApQX+hR8FYQJbqAl5mZlhAq7NaYI9yWEC\\u002fRpIgXH9YQAAAAAAA0FhAKUF\\u002foUfBWEAAAAAAAKBYQGr67IDroVhALQsm\\u002fiisWEAUrkfhelRYQBSuR+F6dFhAFJM3wMwcWEAAGxAhridYQAAAAAAAAFhALQsm\\u002fii8V0AAAAAAABBYQC0LJv4o\\u002fFdAq85qgT06V0AAAAAAAEBXQGoV\\u002faGZOVdAlgUTfxR+V0AtCyb+KJxXQL9GkiBc31dAQZ5dvvXYV0CW6gJeZqZXQBSTN8DM7FdAv0aSIFwfWEAAAAAAADBYQKuYSj\\u002fhSlhAq85qgT1aWEBBnl2+9VhYQKuYSj\\u002fhulhAFJM3wMysWEDT9NkB1+NYQAAAAAAAAFlAVWe1wB71WEBBuW3fo9BYQAAAAAAAkFhAFK5H4Xo0WEApQX+hRxFaQFVntcAetVlALQsm\\u002figMWkCrzmqBPRpaQOxsyD8zg1pA0\\u002fTZAdczWkBVZ7XAHmVaQClBf6FHkVpAKUF\\u002foUfhWkDXvoBeuA5bQFVMpZ9wLVtAKUF\\u002foUchW0Bq+uyA6\\u002fFaQEGeXb71CFtAAOXv3lFoW0CW6gJeZkZbQNe+gF64TltAKUF\\u002foUcxW0C\\u002fYaJBCjdbQFUxlX7CJVtAFK5H4XokW0BBnl2+9dhaQKvOaoE92lpAABsQIa6nWkDsbMg\\u002fM3NaQKvOaoE9alpAQZ5dvvWIWkAUkzfAzOxaQGoV\\u002faGZ+VpAVWe1wB71WkAAAAAAANBaQEGeXb71KFpAahX9oZmpWUBBuW3fo+BaQNe+gF64LltAv2GiQQp3XEAAGxAhrsdcQC0LJv4ozFxA7GzIPzNDXECW6gJeZnZcQJbqAl5mllxAq5hKP+GaXEBBnl2+9ehbQAAAAAAAQFxALQsm\\u002fihsXECrzmqBPUpcQFVMpZ9wHVxAVUyln3AtXEDT9NkB10NcQGoV\\u002faGZWVxAFJM3wMxsXEDT9NkB15NcQClBf6FHwVxAFJM3wMxsXUCW6gJeZlZdQKuzWmCPMl1AAOXv3lF4XUBVZ7XAHlVdQOxRuB6Fi11AAAAAAABQXUC\\u002fYaJBCjddQNP02QHXM11AluoCXmZGXUAUkzfAzHxdQNP02QHXk1xAQZ5dvvXYXEAAGxAhrndcQGoV\\u002faGZaVxAVUyln3BdXEBqFf2hmdlbQNe+gF64vltAavrsgOshW0BVZ7XAHoVbQNP02QHXk1tAAOXv3lF4W0BVMZV+wsVbQAAbECGux1pAVUyln3DtWkAUrkfheqRaQBSTN8DMrFpA0\\u002fTZAddzW0CWBRN\\u002fFG5bQAAbECGuh1tAFJM3wMz8W0C\\u002fYaJBCtdbQADl795RyFtA7FG4HoXbW0Bq+uyA67FbQJbqAl5m5ltAABsQIa6XW0CrmEo\\u002f4UpbQAAAAAAAgFtAAAAAAABgW0BBuW3fo1BbQL9hokEKt1tA0\\u002fTZAdcTXECrs1pgj1JcQFUxlX7CdVxAq7NaYI\\u002fCXEAA5e\\u002feUdhcQJYFE38UHl1A7GzIPzPzXEC\\u002fRpIgXC9dQOxsyD8zM11AluoCXmYWXUBVMZV+wuVcQClBf6FHIV1AKUF\\u002foUdhXUAUkzfAzBxdQGoV\\u002faGZKV1A7GzIPzPzXECW6gJeZvZcQKuYSj\\u002fh+lxAavrsgOsxXUAUkzfAzHxdQClBf6FHsV1Av0aSIFyvXUBqFf2hmbldQL9hokEKx11AVTGVfsKVXUAAAAAAAABeQGoV\\u002faGZ2V1AFJM3wMwcXkAAAAAAAABeQOxsyD8z411Aq5hKP+EaXkCrmEo\\u002f4WpeQEGeXb71iF5A7FG4HoU7XkBqFf2hmUleQGr67IDrwV9A176AXrj+X0Bq+uyA6wlgQCHqPgApJGBANWJmn0dRYEDsbMg\\u002fM2tgQBSTN8DMdGBAy52ZYLiOYECrs1pgj6JgQMuCiT8Kr2BAQblt36PwYEBVTKWfcPVgQA==\"},\"x\":[\"2015-02-17\",\"2015-02-18\",\"2015-02-19\",\"2015-02-20\",\"2015-02-23\",\"2015-02-24\",\"2015-02-25\",\"2015-02-26\",\"2015-02-27\",\"2015-03-02\",\"2015-03-03\",\"2015-03-04\",\"2015-03-05\",\"2015-03-06\",\"2015-03-09\",\"2015-03-10\",\"2015-03-11\",\"2015-03-12\",\"2015-03-13\",\"2015-03-16\",\"2015-03-17\",\"2015-03-18\",\"2015-03-19\",\"2015-03-20\",\"2015-03-23\",\"2015-03-24\",\"2015-03-25\",\"2015-03-26\",\"2015-03-27\",\"2015-03-30\",\"2015-03-31\",\"2015-04-01\",\"2015-04-02\",\"2015-04-06\",\"2015-04-07\",\"2015-04-08\",\"2015-04-09\",\"2015-04-10\",\"2015-04-13\",\"2015-04-14\",\"2015-04-15\",\"2015-04-16\",\"2015-04-17\",\"2015-04-20\",\"2015-04-21\",\"2015-04-22\",\"2015-04-23\",\"2015-04-24\",\"2015-04-27\",\"2015-04-28\",\"2015-04-29\",\"2015-04-30\",\"2015-05-01\",\"2015-05-04\",\"2015-05-05\",\"2015-05-06\",\"2015-05-07\",\"2015-05-08\",\"2015-05-11\",\"2015-05-12\",\"2015-05-13\",\"2015-05-14\",\"2015-05-15\",\"2015-05-18\",\"2015-05-19\",\"2015-05-20\",\"2015-05-21\",\"2015-05-22\",\"2015-05-26\",\"2015-05-27\",\"2015-05-28\",\"2015-05-29\",\"2015-06-01\",\"2015-06-02\",\"2015-06-03\",\"2015-06-04\",\"2015-06-05\",\"2015-06-08\",\"2015-06-09\",\"2015-06-10\",\"2015-06-11\",\"2015-06-12\",\"2015-06-15\",\"2015-06-16\",\"2015-06-17\",\"2015-06-18\",\"2015-06-19\",\"2015-06-22\",\"2015-06-23\",\"2015-06-24\",\"2015-06-25\",\"2015-06-26\",\"2015-06-29\",\"2015-06-30\",\"2015-07-01\",\"2015-07-02\",\"2015-07-06\",\"2015-07-07\",\"2015-07-08\",\"2015-07-09\",\"2015-07-10\",\"2015-07-13\",\"2015-07-14\",\"2015-07-15\",\"2015-07-16\",\"2015-07-17\",\"2015-07-20\",\"2015-07-21\",\"2015-07-22\",\"2015-07-23\",\"2015-07-24\",\"2015-07-27\",\"2015-07-28\",\"2015-07-29\",\"2015-07-30\",\"2015-07-31\",\"2015-08-03\",\"2015-08-04\",\"2015-08-05\",\"2015-08-06\",\"2015-08-07\",\"2015-08-10\",\"2015-08-11\",\"2015-08-12\",\"2015-08-13\",\"2015-08-14\",\"2015-08-17\",\"2015-08-18\",\"2015-08-19\",\"2015-08-20\",\"2015-08-21\",\"2015-08-24\",\"2015-08-25\",\"2015-08-26\",\"2015-08-27\",\"2015-08-28\",\"2015-08-31\",\"2015-09-01\",\"2015-09-02\",\"2015-09-03\",\"2015-09-04\",\"2015-09-08\",\"2015-09-09\",\"2015-09-10\",\"2015-09-11\",\"2015-09-14\",\"2015-09-15\",\"2015-09-16\",\"2015-09-17\",\"2015-09-18\",\"2015-09-21\",\"2015-09-22\",\"2015-09-23\",\"2015-09-24\",\"2015-09-25\",\"2015-09-28\",\"2015-09-29\",\"2015-09-30\",\"2015-10-01\",\"2015-10-02\",\"2015-10-05\",\"2015-10-06\",\"2015-10-07\",\"2015-10-08\",\"2015-10-09\",\"2015-10-12\",\"2015-10-13\",\"2015-10-14\",\"2015-10-15\",\"2015-10-16\",\"2015-10-19\",\"2015-10-20\",\"2015-10-21\",\"2015-10-22\",\"2015-10-23\",\"2015-10-26\",\"2015-10-27\",\"2015-10-28\",\"2015-10-29\",\"2015-10-30\",\"2015-11-02\",\"2015-11-03\",\"2015-11-04\",\"2015-11-05\",\"2015-11-06\",\"2015-11-09\",\"2015-11-10\",\"2015-11-11\",\"2015-11-12\",\"2015-11-13\",\"2015-11-16\",\"2015-11-17\",\"2015-11-18\",\"2015-11-19\",\"2015-11-20\",\"2015-11-23\",\"2015-11-24\",\"2015-11-25\",\"2015-11-27\",\"2015-11-30\",\"2015-12-01\",\"2015-12-02\",\"2015-12-03\",\"2015-12-04\",\"2015-12-07\",\"2015-12-08\",\"2015-12-09\",\"2015-12-10\",\"2015-12-11\",\"2015-12-14\",\"2015-12-15\",\"2015-12-16\",\"2015-12-17\",\"2015-12-18\",\"2015-12-21\",\"2015-12-22\",\"2015-12-23\",\"2015-12-24\",\"2015-12-28\",\"2015-12-29\",\"2015-12-30\",\"2015-12-31\",\"2016-01-04\",\"2016-01-05\",\"2016-01-06\",\"2016-01-07\",\"2016-01-08\",\"2016-01-11\",\"2016-01-12\",\"2016-01-13\",\"2016-01-14\",\"2016-01-15\",\"2016-01-19\",\"2016-01-20\",\"2016-01-21\",\"2016-01-22\",\"2016-01-25\",\"2016-01-26\",\"2016-01-27\",\"2016-01-28\",\"2016-01-29\",\"2016-02-01\",\"2016-02-02\",\"2016-02-03\",\"2016-02-04\",\"2016-02-05\",\"2016-02-08\",\"2016-02-09\",\"2016-02-10\",\"2016-02-11\",\"2016-02-12\",\"2016-02-16\",\"2016-02-17\",\"2016-02-18\",\"2016-02-19\",\"2016-02-22\",\"2016-02-23\",\"2016-02-24\",\"2016-02-25\",\"2016-02-26\",\"2016-02-29\",\"2016-03-01\",\"2016-03-02\",\"2016-03-03\",\"2016-03-04\",\"2016-03-07\",\"2016-03-08\",\"2016-03-09\",\"2016-03-10\",\"2016-03-11\",\"2016-03-14\",\"2016-03-15\",\"2016-03-16\",\"2016-03-17\",\"2016-03-18\",\"2016-03-21\",\"2016-03-22\",\"2016-03-23\",\"2016-03-24\",\"2016-03-28\",\"2016-03-29\",\"2016-03-30\",\"2016-03-31\",\"2016-04-01\",\"2016-04-04\",\"2016-04-05\",\"2016-04-06\",\"2016-04-07\",\"2016-04-08\",\"2016-04-11\",\"2016-04-12\",\"2016-04-13\",\"2016-04-14\",\"2016-04-15\",\"2016-04-18\",\"2016-04-19\",\"2016-04-20\",\"2016-04-21\",\"2016-04-22\",\"2016-04-25\",\"2016-04-26\",\"2016-04-27\",\"2016-04-28\",\"2016-04-29\",\"2016-05-02\",\"2016-05-03\",\"2016-05-04\",\"2016-05-05\",\"2016-05-06\",\"2016-05-09\",\"2016-05-10\",\"2016-05-11\",\"2016-05-12\",\"2016-05-13\",\"2016-05-16\",\"2016-05-17\",\"2016-05-18\",\"2016-05-19\",\"2016-05-20\",\"2016-05-23\",\"2016-05-24\",\"2016-05-25\",\"2016-05-26\",\"2016-05-27\",\"2016-05-31\",\"2016-06-01\",\"2016-06-02\",\"2016-06-03\",\"2016-06-06\",\"2016-06-07\",\"2016-06-08\",\"2016-06-09\",\"2016-06-10\",\"2016-06-13\",\"2016-06-14\",\"2016-06-15\",\"2016-06-16\",\"2016-06-17\",\"2016-06-20\",\"2016-06-21\",\"2016-06-22\",\"2016-06-23\",\"2016-06-24\",\"2016-06-27\",\"2016-06-28\",\"2016-06-29\",\"2016-06-30\",\"2016-07-01\",\"2016-07-05\",\"2016-07-06\",\"2016-07-07\",\"2016-07-08\",\"2016-07-11\",\"2016-07-12\",\"2016-07-13\",\"2016-07-14\",\"2016-07-15\",\"2016-07-18\",\"2016-07-19\",\"2016-07-20\",\"2016-07-21\",\"2016-07-22\",\"2016-07-25\",\"2016-07-26\",\"2016-07-27\",\"2016-07-28\",\"2016-07-29\",\"2016-08-01\",\"2016-08-02\",\"2016-08-03\",\"2016-08-04\",\"2016-08-05\",\"2016-08-08\",\"2016-08-09\",\"2016-08-10\",\"2016-08-11\",\"2016-08-12\",\"2016-08-15\",\"2016-08-16\",\"2016-08-17\",\"2016-08-18\",\"2016-08-19\",\"2016-08-22\",\"2016-08-23\",\"2016-08-24\",\"2016-08-25\",\"2016-08-26\",\"2016-08-29\",\"2016-08-30\",\"2016-08-31\",\"2016-09-01\",\"2016-09-02\",\"2016-09-06\",\"2016-09-07\",\"2016-09-08\",\"2016-09-09\",\"2016-09-12\",\"2016-09-13\",\"2016-09-14\",\"2016-09-15\",\"2016-09-16\",\"2016-09-19\",\"2016-09-20\",\"2016-09-21\",\"2016-09-22\",\"2016-09-23\",\"2016-09-26\",\"2016-09-27\",\"2016-09-28\",\"2016-09-29\",\"2016-09-30\",\"2016-10-03\",\"2016-10-04\",\"2016-10-05\",\"2016-10-06\",\"2016-10-07\",\"2016-10-10\",\"2016-10-11\",\"2016-10-12\",\"2016-10-13\",\"2016-10-14\",\"2016-10-17\",\"2016-10-18\",\"2016-10-19\",\"2016-10-20\",\"2016-10-21\",\"2016-10-24\",\"2016-10-25\",\"2016-10-26\",\"2016-10-27\",\"2016-10-28\",\"2016-10-31\",\"2016-11-01\",\"2016-11-02\",\"2016-11-03\",\"2016-11-04\",\"2016-11-07\",\"2016-11-08\",\"2016-11-09\",\"2016-11-10\",\"2016-11-11\",\"2016-11-14\",\"2016-11-15\",\"2016-11-16\",\"2016-11-17\",\"2016-11-18\",\"2016-11-21\",\"2016-11-22\",\"2016-11-23\",\"2016-11-25\",\"2016-11-28\",\"2016-11-29\",\"2016-11-30\",\"2016-12-01\",\"2016-12-02\",\"2016-12-05\",\"2016-12-06\",\"2016-12-07\",\"2016-12-08\",\"2016-12-09\",\"2016-12-12\",\"2016-12-13\",\"2016-12-14\",\"2016-12-15\",\"2016-12-16\",\"2016-12-19\",\"2016-12-20\",\"2016-12-21\",\"2016-12-22\",\"2016-12-23\",\"2016-12-27\",\"2016-12-28\",\"2016-12-29\",\"2016-12-30\",\"2017-01-03\",\"2017-01-04\",\"2017-01-05\",\"2017-01-06\",\"2017-01-09\",\"2017-01-10\",\"2017-01-11\",\"2017-01-12\",\"2017-01-13\",\"2017-01-17\",\"2017-01-18\",\"2017-01-19\",\"2017-01-20\",\"2017-01-23\",\"2017-01-24\",\"2017-01-25\",\"2017-01-26\",\"2017-01-27\",\"2017-01-30\",\"2017-01-31\",\"2017-02-01\",\"2017-02-02\",\"2017-02-03\",\"2017-02-06\",\"2017-02-07\",\"2017-02-08\",\"2017-02-09\",\"2017-02-10\",\"2017-02-13\",\"2017-02-14\",\"2017-02-15\",\"2017-02-16\"],\"type\":\"candlestick\"}],                        {\"template\":{\"data\":{\"histogram2dcontour\":[{\"type\":\"histogram2dcontour\",\"colorbar\":{\"outlinewidth\":0,\"ticks\":\"\"},\"colorscale\":[[0.0,\"#0d0887\"],[0.1111111111111111,\"#46039f\"],[0.2222222222222222,\"#7201a8\"],[0.3333333333333333,\"#9c179e\"],[0.4444444444444444,\"#bd3786\"],[0.5555555555555556,\"#d8576b\"],[0.6666666666666666,\"#ed7953\"],[0.7777777777777778,\"#fb9f3a\"],[0.8888888888888888,\"#fdca26\"],[1.0,\"#f0f921\"]]}],\"choropleth\":[{\"type\":\"choropleth\",\"colorbar\":{\"outlinewidth\":0,\"ticks\":\"\"}}],\"histogram2d\":[{\"type\":\"histogram2d\",\"colorbar\":{\"outlinewidth\":0,\"ticks\":\"\"},\"colorscale\":[[0.0,\"#0d0887\"],[0.1111111111111111,\"#46039f\"],[0.2222222222222222,\"#7201a8\"],[0.3333333333333333,\"#9c179e\"],[0.4444444444444444,\"#bd3786\"],[0.5555555555555556,\"#d8576b\"],[0.6666666666666666,\"#ed7953\"],[0.7777777777777778,\"#fb9f3a\"],[0.8888888888888888,\"#fdca26\"],[1.0,\"#f0f921\"]]}],\"heatmap\":[{\"type\":\"heatmap\",\"colorbar\":{\"outlinewidth\":0,\"ticks\":\"\"},\"colorscale\":[[0.0,\"#0d0887\"],[0.1111111111111111,\"#46039f\"],[0.2222222222222222,\"#7201a8\"],[0.3333333333333333,\"#9c179e\"],[0.4444444444444444,\"#bd3786\"],[0.5555555555555556,\"#d8576b\"],[0.6666666666666666,\"#ed7953\"],[0.7777777777777778,\"#fb9f3a\"],[0.8888888888888888,\"#fdca26\"],[1.0,\"#f0f921\"]]}],\"contourcarpet\":[{\"type\":\"contourcarpet\",\"colorbar\":{\"outlinewidth\":0,\"ticks\":\"\"}}],\"contour\":[{\"type\":\"contour\",\"colorbar\":{\"outlinewidth\":0,\"ticks\":\"\"},\"colorscale\":[[0.0,\"#0d0887\"],[0.1111111111111111,\"#46039f\"],[0.2222222222222222,\"#7201a8\"],[0.3333333333333333,\"#9c179e\"],[0.4444444444444444,\"#bd3786\"],[0.5555555555555556,\"#d8576b\"],[0.6666666666666666,\"#ed7953\"],[0.7777777777777778,\"#fb9f3a\"],[0.8888888888888888,\"#fdca26\"],[1.0,\"#f0f921\"]]}],\"surface\":[{\"type\":\"surface\",\"colorbar\":{\"outlinewidth\":0,\"ticks\":\"\"},\"colorscale\":[[0.0,\"#0d0887\"],[0.1111111111111111,\"#46039f\"],[0.2222222222222222,\"#7201a8\"],[0.3333333333333333,\"#9c179e\"],[0.4444444444444444,\"#bd3786\"],[0.5555555555555556,\"#d8576b\"],[0.6666666666666666,\"#ed7953\"],[0.7777777777777778,\"#fb9f3a\"],[0.8888888888888888,\"#fdca26\"],[1.0,\"#f0f921\"]]}],\"mesh3d\":[{\"type\":\"mesh3d\",\"colorbar\":{\"outlinewidth\":0,\"ticks\":\"\"}}],\"scatter\":[{\"fillpattern\":{\"fillmode\":\"overlay\",\"size\":10,\"solidity\":0.2},\"type\":\"scatter\"}],\"parcoords\":[{\"type\":\"parcoords\",\"line\":{\"colorbar\":{\"outlinewidth\":0,\"ticks\":\"\"}}}],\"scatterpolargl\":[{\"type\":\"scatterpolargl\",\"marker\":{\"colorbar\":{\"outlinewidth\":0,\"ticks\":\"\"}}}],\"bar\":[{\"error_x\":{\"color\":\"#2a3f5f\"},\"error_y\":{\"color\":\"#2a3f5f\"},\"marker\":{\"line\":{\"color\":\"#E5ECF6\",\"width\":0.5},\"pattern\":{\"fillmode\":\"overlay\",\"size\":10,\"solidity\":0.2}},\"type\":\"bar\"}],\"scattergeo\":[{\"type\":\"scattergeo\",\"marker\":{\"colorbar\":{\"outlinewidth\":0,\"ticks\":\"\"}}}],\"scatterpolar\":[{\"type\":\"scatterpolar\",\"marker\":{\"colorbar\":{\"outlinewidth\":0,\"ticks\":\"\"}}}],\"histogram\":[{\"marker\":{\"pattern\":{\"fillmode\":\"overlay\",\"size\":10,\"solidity\":0.2}},\"type\":\"histogram\"}],\"scattergl\":[{\"type\":\"scattergl\",\"marker\":{\"colorbar\":{\"outlinewidth\":0,\"ticks\":\"\"}}}],\"scatter3d\":[{\"type\":\"scatter3d\",\"line\":{\"colorbar\":{\"outlinewidth\":0,\"ticks\":\"\"}},\"marker\":{\"colorbar\":{\"outlinewidth\":0,\"ticks\":\"\"}}}],\"scattermap\":[{\"type\":\"scattermap\",\"marker\":{\"colorbar\":{\"outlinewidth\":0,\"ticks\":\"\"}}}],\"scattermapbox\":[{\"type\":\"scattermapbox\",\"marker\":{\"colorbar\":{\"outlinewidth\":0,\"ticks\":\"\"}}}],\"scatterternary\":[{\"type\":\"scatterternary\",\"marker\":{\"colorbar\":{\"outlinewidth\":0,\"ticks\":\"\"}}}],\"scattercarpet\":[{\"type\":\"scattercarpet\",\"marker\":{\"colorbar\":{\"outlinewidth\":0,\"ticks\":\"\"}}}],\"carpet\":[{\"aaxis\":{\"endlinecolor\":\"#2a3f5f\",\"gridcolor\":\"white\",\"linecolor\":\"white\",\"minorgridcolor\":\"white\",\"startlinecolor\":\"#2a3f5f\"},\"baxis\":{\"endlinecolor\":\"#2a3f5f\",\"gridcolor\":\"white\",\"linecolor\":\"white\",\"minorgridcolor\":\"white\",\"startlinecolor\":\"#2a3f5f\"},\"type\":\"carpet\"}],\"table\":[{\"cells\":{\"fill\":{\"color\":\"#EBF0F8\"},\"line\":{\"color\":\"white\"}},\"header\":{\"fill\":{\"color\":\"#C8D4E3\"},\"line\":{\"color\":\"white\"}},\"type\":\"table\"}],\"barpolar\":[{\"marker\":{\"line\":{\"color\":\"#E5ECF6\",\"width\":0.5},\"pattern\":{\"fillmode\":\"overlay\",\"size\":10,\"solidity\":0.2}},\"type\":\"barpolar\"}],\"pie\":[{\"automargin\":true,\"type\":\"pie\"}]},\"layout\":{\"autotypenumbers\":\"strict\",\"colorway\":[\"#636efa\",\"#EF553B\",\"#00cc96\",\"#ab63fa\",\"#FFA15A\",\"#19d3f3\",\"#FF6692\",\"#B6E880\",\"#FF97FF\",\"#FECB52\"],\"font\":{\"color\":\"#2a3f5f\"},\"hovermode\":\"closest\",\"hoverlabel\":{\"align\":\"left\"},\"paper_bgcolor\":\"white\",\"plot_bgcolor\":\"#E5ECF6\",\"polar\":{\"bgcolor\":\"#E5ECF6\",\"angularaxis\":{\"gridcolor\":\"white\",\"linecolor\":\"white\",\"ticks\":\"\"},\"radialaxis\":{\"gridcolor\":\"white\",\"linecolor\":\"white\",\"ticks\":\"\"}},\"ternary\":{\"bgcolor\":\"#E5ECF6\",\"aaxis\":{\"gridcolor\":\"white\",\"linecolor\":\"white\",\"ticks\":\"\"},\"baxis\":{\"gridcolor\":\"white\",\"linecolor\":\"white\",\"ticks\":\"\"},\"caxis\":{\"gridcolor\":\"white\",\"linecolor\":\"white\",\"ticks\":\"\"}},\"coloraxis\":{\"colorbar\":{\"outlinewidth\":0,\"ticks\":\"\"}},\"colorscale\":{\"sequential\":[[0.0,\"#0d0887\"],[0.1111111111111111,\"#46039f\"],[0.2222222222222222,\"#7201a8\"],[0.3333333333333333,\"#9c179e\"],[0.4444444444444444,\"#bd3786\"],[0.5555555555555556,\"#d8576b\"],[0.6666666666666666,\"#ed7953\"],[0.7777777777777778,\"#fb9f3a\"],[0.8888888888888888,\"#fdca26\"],[1.0,\"#f0f921\"]],\"sequentialminus\":[[0.0,\"#0d0887\"],[0.1111111111111111,\"#46039f\"],[0.2222222222222222,\"#7201a8\"],[0.3333333333333333,\"#9c179e\"],[0.4444444444444444,\"#bd3786\"],[0.5555555555555556,\"#d8576b\"],[0.6666666666666666,\"#ed7953\"],[0.7777777777777778,\"#fb9f3a\"],[0.8888888888888888,\"#fdca26\"],[1.0,\"#f0f921\"]],\"diverging\":[[0,\"#8e0152\"],[0.1,\"#c51b7d\"],[0.2,\"#de77ae\"],[0.3,\"#f1b6da\"],[0.4,\"#fde0ef\"],[0.5,\"#f7f7f7\"],[0.6,\"#e6f5d0\"],[0.7,\"#b8e186\"],[0.8,\"#7fbc41\"],[0.9,\"#4d9221\"],[1,\"#276419\"]]},\"xaxis\":{\"gridcolor\":\"white\",\"linecolor\":\"white\",\"ticks\":\"\",\"title\":{\"standoff\":15},\"zerolinecolor\":\"white\",\"automargin\":true,\"zerolinewidth\":2},\"yaxis\":{\"gridcolor\":\"white\",\"linecolor\":\"white\",\"ticks\":\"\",\"title\":{\"standoff\":15},\"zerolinecolor\":\"white\",\"automargin\":true,\"zerolinewidth\":2},\"scene\":{\"xaxis\":{\"backgroundcolor\":\"#E5ECF6\",\"gridcolor\":\"white\",\"linecolor\":\"white\",\"showbackground\":true,\"ticks\":\"\",\"zerolinecolor\":\"white\",\"gridwidth\":2},\"yaxis\":{\"backgroundcolor\":\"#E5ECF6\",\"gridcolor\":\"white\",\"linecolor\":\"white\",\"showbackground\":true,\"ticks\":\"\",\"zerolinecolor\":\"white\",\"gridwidth\":2},\"zaxis\":{\"backgroundcolor\":\"#E5ECF6\",\"gridcolor\":\"white\",\"linecolor\":\"white\",\"showbackground\":true,\"ticks\":\"\",\"zerolinecolor\":\"white\",\"gridwidth\":2}},\"shapedefaults\":{\"line\":{\"color\":\"#2a3f5f\"}},\"annotationdefaults\":{\"arrowcolor\":\"#2a3f5f\",\"arrowhead\":0,\"arrowwidth\":1},\"geo\":{\"bgcolor\":\"white\",\"landcolor\":\"#E5ECF6\",\"subunitcolor\":\"white\",\"showland\":true,\"showlakes\":true,\"lakecolor\":\"white\"},\"title\":{\"x\":0.05},\"mapbox\":{\"style\":\"light\"}}}},                        {\"responsive\": true}                    ).then(function(){\n",
       "                            \n",
       "var gd = document.getElementById('6aa48f3d-b873-480f-91bb-cc60df98e017');\n",
       "var x = new MutationObserver(function (mutations, observer) {{\n",
       "        var display = window.getComputedStyle(gd).display;\n",
       "        if (!display || display === 'none') {{\n",
       "            console.log([gd, 'removed!']);\n",
       "            Plotly.purge(gd);\n",
       "            observer.disconnect();\n",
       "        }}\n",
       "}});\n",
       "\n",
       "// Listen for the removal of the full notebook cells\n",
       "var notebookContainer = gd.closest('#notebook-container');\n",
       "if (notebookContainer) {{\n",
       "    x.observe(notebookContainer, {childList: true});\n",
       "}}\n",
       "\n",
       "// Listen for the clearing of the current output cell\n",
       "var outputEl = gd.closest('.output');\n",
       "if (outputEl) {{\n",
       "    x.observe(outputEl, {childList: true});\n",
       "}}\n",
       "\n",
       "                        })                };            </script>        </div>"
      ]
     },
     "metadata": {},
     "output_type": "display_data"
    }
   ],
   "source": [
    "#https://plotly.com/python/candlestick-charts/\n",
    "\n",
    "import plotly.graph_objects as go\n",
    "\n",
    "import pandas as pd\n",
    "from datetime import datetime\n",
    "\n",
    "df = pd.read_csv('https://raw.githubusercontent.com/plotly/datasets/master/finance-charts-apple.csv')\n",
    "\n",
    "fig = go.Figure(data=[go.Candlestick(x=df['Date'],\n",
    "                open=df['AAPL.Open'],\n",
    "                high=df['AAPL.High'],\n",
    "                low=df['AAPL.Low'],\n",
    "                close=df['AAPL.Close'])])\n",
    "\n",
    "fig.show()"
   ]
  },
  {
   "cell_type": "markdown",
   "id": "c4806ab8",
   "metadata": {},
   "source": [
    "################################\n",
    "# Cell 12:\n",
    "################################\n",
    "\n",
    "<h2>  Exemplo 05 - Box Plot and Area Plot </h2>\n",
    "\n",
    "<h2 style=\"background-color:orange;color:white;padding-top:10px;text-align:center;font-weight:bold;font-style:italic;font-size:1cm;padding-bottom:20px;\"> Exemplo 05 - Box Plot and Area Plot </h2>\n",
    "\n",
    "\n",
    " Markdown\n",
    " SHIFT + ENTER\n"
   ]
  },
  {
   "cell_type": "markdown",
   "id": "e98f2e6e",
   "metadata": {},
   "source": [
    "################################\n",
    "# Cell 13:\n",
    "################################"
   ]
  },
  {
   "cell_type": "code",
   "execution_count": 6,
   "id": "ef4bf84e",
   "metadata": {},
   "outputs": [
    {
     "data": {
      "application/vnd.plotly.v1+json": {
       "config": {
        "plotlyServerURL": "https://plot.ly"
       },
       "data": [
        {
         "alignmentgroup": "True",
         "hovertemplate": "Date=%{x}<br>AAPL.High=%{y}<extra></extra>",
         "legendgroup": "",
         "marker": {
          "color": "#636efa"
         },
         "name": "",
         "notched": false,
         "offsetgroup": "",
         "orientation": "v",
         "showlegend": false,
         "type": "box",
         "x": [
          "2015-02-17",
          "2015-02-18",
          "2015-02-19",
          "2015-02-20",
          "2015-02-23",
          "2015-02-24",
          "2015-02-25",
          "2015-02-26",
          "2015-02-27",
          "2015-03-02",
          "2015-03-03",
          "2015-03-04",
          "2015-03-05",
          "2015-03-06",
          "2015-03-09",
          "2015-03-10",
          "2015-03-11",
          "2015-03-12",
          "2015-03-13",
          "2015-03-16",
          "2015-03-17",
          "2015-03-18",
          "2015-03-19",
          "2015-03-20",
          "2015-03-23",
          "2015-03-24",
          "2015-03-25",
          "2015-03-26",
          "2015-03-27",
          "2015-03-30",
          "2015-03-31",
          "2015-04-01",
          "2015-04-02",
          "2015-04-06",
          "2015-04-07",
          "2015-04-08",
          "2015-04-09",
          "2015-04-10",
          "2015-04-13",
          "2015-04-14",
          "2015-04-15",
          "2015-04-16",
          "2015-04-17",
          "2015-04-20",
          "2015-04-21",
          "2015-04-22",
          "2015-04-23",
          "2015-04-24",
          "2015-04-27",
          "2015-04-28",
          "2015-04-29",
          "2015-04-30",
          "2015-05-01",
          "2015-05-04",
          "2015-05-05",
          "2015-05-06",
          "2015-05-07",
          "2015-05-08",
          "2015-05-11",
          "2015-05-12",
          "2015-05-13",
          "2015-05-14",
          "2015-05-15",
          "2015-05-18",
          "2015-05-19",
          "2015-05-20",
          "2015-05-21",
          "2015-05-22",
          "2015-05-26",
          "2015-05-27",
          "2015-05-28",
          "2015-05-29",
          "2015-06-01",
          "2015-06-02",
          "2015-06-03",
          "2015-06-04",
          "2015-06-05",
          "2015-06-08",
          "2015-06-09",
          "2015-06-10",
          "2015-06-11",
          "2015-06-12",
          "2015-06-15",
          "2015-06-16",
          "2015-06-17",
          "2015-06-18",
          "2015-06-19",
          "2015-06-22",
          "2015-06-23",
          "2015-06-24",
          "2015-06-25",
          "2015-06-26",
          "2015-06-29",
          "2015-06-30",
          "2015-07-01",
          "2015-07-02",
          "2015-07-06",
          "2015-07-07",
          "2015-07-08",
          "2015-07-09",
          "2015-07-10",
          "2015-07-13",
          "2015-07-14",
          "2015-07-15",
          "2015-07-16",
          "2015-07-17",
          "2015-07-20",
          "2015-07-21",
          "2015-07-22",
          "2015-07-23",
          "2015-07-24",
          "2015-07-27",
          "2015-07-28",
          "2015-07-29",
          "2015-07-30",
          "2015-07-31",
          "2015-08-03",
          "2015-08-04",
          "2015-08-05",
          "2015-08-06",
          "2015-08-07",
          "2015-08-10",
          "2015-08-11",
          "2015-08-12",
          "2015-08-13",
          "2015-08-14",
          "2015-08-17",
          "2015-08-18",
          "2015-08-19",
          "2015-08-20",
          "2015-08-21",
          "2015-08-24",
          "2015-08-25",
          "2015-08-26",
          "2015-08-27",
          "2015-08-28",
          "2015-08-31",
          "2015-09-01",
          "2015-09-02",
          "2015-09-03",
          "2015-09-04",
          "2015-09-08",
          "2015-09-09",
          "2015-09-10",
          "2015-09-11",
          "2015-09-14",
          "2015-09-15",
          "2015-09-16",
          "2015-09-17",
          "2015-09-18",
          "2015-09-21",
          "2015-09-22",
          "2015-09-23",
          "2015-09-24",
          "2015-09-25",
          "2015-09-28",
          "2015-09-29",
          "2015-09-30",
          "2015-10-01",
          "2015-10-02",
          "2015-10-05",
          "2015-10-06",
          "2015-10-07",
          "2015-10-08",
          "2015-10-09",
          "2015-10-12",
          "2015-10-13",
          "2015-10-14",
          "2015-10-15",
          "2015-10-16",
          "2015-10-19",
          "2015-10-20",
          "2015-10-21",
          "2015-10-22",
          "2015-10-23",
          "2015-10-26",
          "2015-10-27",
          "2015-10-28",
          "2015-10-29",
          "2015-10-30",
          "2015-11-02",
          "2015-11-03",
          "2015-11-04",
          "2015-11-05",
          "2015-11-06",
          "2015-11-09",
          "2015-11-10",
          "2015-11-11",
          "2015-11-12",
          "2015-11-13",
          "2015-11-16",
          "2015-11-17",
          "2015-11-18",
          "2015-11-19",
          "2015-11-20",
          "2015-11-23",
          "2015-11-24",
          "2015-11-25",
          "2015-11-27",
          "2015-11-30",
          "2015-12-01",
          "2015-12-02",
          "2015-12-03",
          "2015-12-04",
          "2015-12-07",
          "2015-12-08",
          "2015-12-09",
          "2015-12-10",
          "2015-12-11",
          "2015-12-14",
          "2015-12-15",
          "2015-12-16",
          "2015-12-17",
          "2015-12-18",
          "2015-12-21",
          "2015-12-22",
          "2015-12-23",
          "2015-12-24",
          "2015-12-28",
          "2015-12-29",
          "2015-12-30",
          "2015-12-31",
          "2016-01-04",
          "2016-01-05",
          "2016-01-06",
          "2016-01-07",
          "2016-01-08",
          "2016-01-11",
          "2016-01-12",
          "2016-01-13",
          "2016-01-14",
          "2016-01-15",
          "2016-01-19",
          "2016-01-20",
          "2016-01-21",
          "2016-01-22",
          "2016-01-25",
          "2016-01-26",
          "2016-01-27",
          "2016-01-28",
          "2016-01-29",
          "2016-02-01",
          "2016-02-02",
          "2016-02-03",
          "2016-02-04",
          "2016-02-05",
          "2016-02-08",
          "2016-02-09",
          "2016-02-10",
          "2016-02-11",
          "2016-02-12",
          "2016-02-16",
          "2016-02-17",
          "2016-02-18",
          "2016-02-19",
          "2016-02-22",
          "2016-02-23",
          "2016-02-24",
          "2016-02-25",
          "2016-02-26",
          "2016-02-29",
          "2016-03-01",
          "2016-03-02",
          "2016-03-03",
          "2016-03-04",
          "2016-03-07",
          "2016-03-08",
          "2016-03-09",
          "2016-03-10",
          "2016-03-11",
          "2016-03-14",
          "2016-03-15",
          "2016-03-16",
          "2016-03-17",
          "2016-03-18",
          "2016-03-21",
          "2016-03-22",
          "2016-03-23",
          "2016-03-24",
          "2016-03-28",
          "2016-03-29",
          "2016-03-30",
          "2016-03-31",
          "2016-04-01",
          "2016-04-04",
          "2016-04-05",
          "2016-04-06",
          "2016-04-07",
          "2016-04-08",
          "2016-04-11",
          "2016-04-12",
          "2016-04-13",
          "2016-04-14",
          "2016-04-15",
          "2016-04-18",
          "2016-04-19",
          "2016-04-20",
          "2016-04-21",
          "2016-04-22",
          "2016-04-25",
          "2016-04-26",
          "2016-04-27",
          "2016-04-28",
          "2016-04-29",
          "2016-05-02",
          "2016-05-03",
          "2016-05-04",
          "2016-05-05",
          "2016-05-06",
          "2016-05-09",
          "2016-05-10",
          "2016-05-11",
          "2016-05-12",
          "2016-05-13",
          "2016-05-16",
          "2016-05-17",
          "2016-05-18",
          "2016-05-19",
          "2016-05-20",
          "2016-05-23",
          "2016-05-24",
          "2016-05-25",
          "2016-05-26",
          "2016-05-27",
          "2016-05-31",
          "2016-06-01",
          "2016-06-02",
          "2016-06-03",
          "2016-06-06",
          "2016-06-07",
          "2016-06-08",
          "2016-06-09",
          "2016-06-10",
          "2016-06-13",
          "2016-06-14",
          "2016-06-15",
          "2016-06-16",
          "2016-06-17",
          "2016-06-20",
          "2016-06-21",
          "2016-06-22",
          "2016-06-23",
          "2016-06-24",
          "2016-06-27",
          "2016-06-28",
          "2016-06-29",
          "2016-06-30",
          "2016-07-01",
          "2016-07-05",
          "2016-07-06",
          "2016-07-07",
          "2016-07-08",
          "2016-07-11",
          "2016-07-12",
          "2016-07-13",
          "2016-07-14",
          "2016-07-15",
          "2016-07-18",
          "2016-07-19",
          "2016-07-20",
          "2016-07-21",
          "2016-07-22",
          "2016-07-25",
          "2016-07-26",
          "2016-07-27",
          "2016-07-28",
          "2016-07-29",
          "2016-08-01",
          "2016-08-02",
          "2016-08-03",
          "2016-08-04",
          "2016-08-05",
          "2016-08-08",
          "2016-08-09",
          "2016-08-10",
          "2016-08-11",
          "2016-08-12",
          "2016-08-15",
          "2016-08-16",
          "2016-08-17",
          "2016-08-18",
          "2016-08-19",
          "2016-08-22",
          "2016-08-23",
          "2016-08-24",
          "2016-08-25",
          "2016-08-26",
          "2016-08-29",
          "2016-08-30",
          "2016-08-31",
          "2016-09-01",
          "2016-09-02",
          "2016-09-06",
          "2016-09-07",
          "2016-09-08",
          "2016-09-09",
          "2016-09-12",
          "2016-09-13",
          "2016-09-14",
          "2016-09-15",
          "2016-09-16",
          "2016-09-19",
          "2016-09-20",
          "2016-09-21",
          "2016-09-22",
          "2016-09-23",
          "2016-09-26",
          "2016-09-27",
          "2016-09-28",
          "2016-09-29",
          "2016-09-30",
          "2016-10-03",
          "2016-10-04",
          "2016-10-05",
          "2016-10-06",
          "2016-10-07",
          "2016-10-10",
          "2016-10-11",
          "2016-10-12",
          "2016-10-13",
          "2016-10-14",
          "2016-10-17",
          "2016-10-18",
          "2016-10-19",
          "2016-10-20",
          "2016-10-21",
          "2016-10-24",
          "2016-10-25",
          "2016-10-26",
          "2016-10-27",
          "2016-10-28",
          "2016-10-31",
          "2016-11-01",
          "2016-11-02",
          "2016-11-03",
          "2016-11-04",
          "2016-11-07",
          "2016-11-08",
          "2016-11-09",
          "2016-11-10",
          "2016-11-11",
          "2016-11-14",
          "2016-11-15",
          "2016-11-16",
          "2016-11-17",
          "2016-11-18",
          "2016-11-21",
          "2016-11-22",
          "2016-11-23",
          "2016-11-25",
          "2016-11-28",
          "2016-11-29",
          "2016-11-30",
          "2016-12-01",
          "2016-12-02",
          "2016-12-05",
          "2016-12-06",
          "2016-12-07",
          "2016-12-08",
          "2016-12-09",
          "2016-12-12",
          "2016-12-13",
          "2016-12-14",
          "2016-12-15",
          "2016-12-16",
          "2016-12-19",
          "2016-12-20",
          "2016-12-21",
          "2016-12-22",
          "2016-12-23",
          "2016-12-27",
          "2016-12-28",
          "2016-12-29",
          "2016-12-30",
          "2017-01-03",
          "2017-01-04",
          "2017-01-05",
          "2017-01-06",
          "2017-01-09",
          "2017-01-10",
          "2017-01-11",
          "2017-01-12",
          "2017-01-13",
          "2017-01-17",
          "2017-01-18",
          "2017-01-19",
          "2017-01-20",
          "2017-01-23",
          "2017-01-24",
          "2017-01-25",
          "2017-01-26",
          "2017-01-27",
          "2017-01-30",
          "2017-01-31",
          "2017-02-01",
          "2017-02-02",
          "2017-02-03",
          "2017-02-06",
          "2017-02-07",
          "2017-02-08",
          "2017-02-09",
          "2017-02-10",
          "2017-02-13",
          "2017-02-14",
          "2017-02-15",
          "2017-02-16"
         ],
         "x0": " ",
         "xaxis": "x",
         "y": {
          "bdata": "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",
          "dtype": "f8"
         },
         "y0": " ",
         "yaxis": "y"
        }
       ],
       "layout": {
        "boxmode": "group",
        "legend": {
         "tracegroupgap": 0
        },
        "template": {
         "data": {
          "bar": [
           {
            "error_x": {
             "color": "#f2f5fa"
            },
            "error_y": {
             "color": "#f2f5fa"
            },
            "marker": {
             "line": {
              "color": "rgb(17,17,17)",
              "width": 0.5
             },
             "pattern": {
              "fillmode": "overlay",
              "size": 10,
              "solidity": 0.2
             }
            },
            "type": "bar"
           }
          ],
          "barpolar": [
           {
            "marker": {
             "line": {
              "color": "rgb(17,17,17)",
              "width": 0.5
             },
             "pattern": {
              "fillmode": "overlay",
              "size": 10,
              "solidity": 0.2
             }
            },
            "type": "barpolar"
           }
          ],
          "carpet": [
           {
            "aaxis": {
             "endlinecolor": "#A2B1C6",
             "gridcolor": "#506784",
             "linecolor": "#506784",
             "minorgridcolor": "#506784",
             "startlinecolor": "#A2B1C6"
            },
            "baxis": {
             "endlinecolor": "#A2B1C6",
             "gridcolor": "#506784",
             "linecolor": "#506784",
             "minorgridcolor": "#506784",
             "startlinecolor": "#A2B1C6"
            },
            "type": "carpet"
           }
          ],
          "choropleth": [
           {
            "colorbar": {
             "outlinewidth": 0,
             "ticks": ""
            },
            "type": "choropleth"
           }
          ],
          "contour": [
           {
            "colorbar": {
             "outlinewidth": 0,
             "ticks": ""
            },
            "colorscale": [
             [
              0,
              "#0d0887"
             ],
             [
              0.1111111111111111,
              "#46039f"
             ],
             [
              0.2222222222222222,
              "#7201a8"
             ],
             [
              0.3333333333333333,
              "#9c179e"
             ],
             [
              0.4444444444444444,
              "#bd3786"
             ],
             [
              0.5555555555555556,
              "#d8576b"
             ],
             [
              0.6666666666666666,
              "#ed7953"
             ],
             [
              0.7777777777777778,
              "#fb9f3a"
             ],
             [
              0.8888888888888888,
              "#fdca26"
             ],
             [
              1,
              "#f0f921"
             ]
            ],
            "type": "contour"
           }
          ],
          "contourcarpet": [
           {
            "colorbar": {
             "outlinewidth": 0,
             "ticks": ""
            },
            "type": "contourcarpet"
           }
          ],
          "heatmap": [
           {
            "colorbar": {
             "outlinewidth": 0,
             "ticks": ""
            },
            "colorscale": [
             [
              0,
              "#0d0887"
             ],
             [
              0.1111111111111111,
              "#46039f"
             ],
             [
              0.2222222222222222,
              "#7201a8"
             ],
             [
              0.3333333333333333,
              "#9c179e"
             ],
             [
              0.4444444444444444,
              "#bd3786"
             ],
             [
              0.5555555555555556,
              "#d8576b"
             ],
             [
              0.6666666666666666,
              "#ed7953"
             ],
             [
              0.7777777777777778,
              "#fb9f3a"
             ],
             [
              0.8888888888888888,
              "#fdca26"
             ],
             [
              1,
              "#f0f921"
             ]
            ],
            "type": "heatmap"
           }
          ],
          "histogram": [
           {
            "marker": {
             "pattern": {
              "fillmode": "overlay",
              "size": 10,
              "solidity": 0.2
             }
            },
            "type": "histogram"
           }
          ],
          "histogram2d": [
           {
            "colorbar": {
             "outlinewidth": 0,
             "ticks": ""
            },
            "colorscale": [
             [
              0,
              "#0d0887"
             ],
             [
              0.1111111111111111,
              "#46039f"
             ],
             [
              0.2222222222222222,
              "#7201a8"
             ],
             [
              0.3333333333333333,
              "#9c179e"
             ],
             [
              0.4444444444444444,
              "#bd3786"
             ],
             [
              0.5555555555555556,
              "#d8576b"
             ],
             [
              0.6666666666666666,
              "#ed7953"
             ],
             [
              0.7777777777777778,
              "#fb9f3a"
             ],
             [
              0.8888888888888888,
              "#fdca26"
             ],
             [
              1,
              "#f0f921"
             ]
            ],
            "type": "histogram2d"
           }
          ],
          "histogram2dcontour": [
           {
            "colorbar": {
             "outlinewidth": 0,
             "ticks": ""
            },
            "colorscale": [
             [
              0,
              "#0d0887"
             ],
             [
              0.1111111111111111,
              "#46039f"
             ],
             [
              0.2222222222222222,
              "#7201a8"
             ],
             [
              0.3333333333333333,
              "#9c179e"
             ],
             [
              0.4444444444444444,
              "#bd3786"
             ],
             [
              0.5555555555555556,
              "#d8576b"
             ],
             [
              0.6666666666666666,
              "#ed7953"
             ],
             [
              0.7777777777777778,
              "#fb9f3a"
             ],
             [
              0.8888888888888888,
              "#fdca26"
             ],
             [
              1,
              "#f0f921"
             ]
            ],
            "type": "histogram2dcontour"
           }
          ],
          "mesh3d": [
           {
            "colorbar": {
             "outlinewidth": 0,
             "ticks": ""
            },
            "type": "mesh3d"
           }
          ],
          "parcoords": [
           {
            "line": {
             "colorbar": {
              "outlinewidth": 0,
              "ticks": ""
             }
            },
            "type": "parcoords"
           }
          ],
          "pie": [
           {
            "automargin": true,
            "type": "pie"
           }
          ],
          "scatter": [
           {
            "marker": {
             "line": {
              "color": "#283442"
             }
            },
            "type": "scatter"
           }
          ],
          "scatter3d": [
           {
            "line": {
             "colorbar": {
              "outlinewidth": 0,
              "ticks": ""
             }
            },
            "marker": {
             "colorbar": {
              "outlinewidth": 0,
              "ticks": ""
             }
            },
            "type": "scatter3d"
           }
          ],
          "scattercarpet": [
           {
            "marker": {
             "colorbar": {
              "outlinewidth": 0,
              "ticks": ""
             }
            },
            "type": "scattercarpet"
           }
          ],
          "scattergeo": [
           {
            "marker": {
             "colorbar": {
              "outlinewidth": 0,
              "ticks": ""
             }
            },
            "type": "scattergeo"
           }
          ],
          "scattergl": [
           {
            "marker": {
             "line": {
              "color": "#283442"
             }
            },
            "type": "scattergl"
           }
          ],
          "scattermap": [
           {
            "marker": {
             "colorbar": {
              "outlinewidth": 0,
              "ticks": ""
             }
            },
            "type": "scattermap"
           }
          ],
          "scattermapbox": [
           {
            "marker": {
             "colorbar": {
              "outlinewidth": 0,
              "ticks": ""
             }
            },
            "type": "scattermapbox"
           }
          ],
          "scatterpolar": [
           {
            "marker": {
             "colorbar": {
              "outlinewidth": 0,
              "ticks": ""
             }
            },
            "type": "scatterpolar"
           }
          ],
          "scatterpolargl": [
           {
            "marker": {
             "colorbar": {
              "outlinewidth": 0,
              "ticks": ""
             }
            },
            "type": "scatterpolargl"
           }
          ],
          "scatterternary": [
           {
            "marker": {
             "colorbar": {
              "outlinewidth": 0,
              "ticks": ""
             }
            },
            "type": "scatterternary"
           }
          ],
          "surface": [
           {
            "colorbar": {
             "outlinewidth": 0,
             "ticks": ""
            },
            "colorscale": [
             [
              0,
              "#0d0887"
             ],
             [
              0.1111111111111111,
              "#46039f"
             ],
             [
              0.2222222222222222,
              "#7201a8"
             ],
             [
              0.3333333333333333,
              "#9c179e"
             ],
             [
              0.4444444444444444,
              "#bd3786"
             ],
             [
              0.5555555555555556,
              "#d8576b"
             ],
             [
              0.6666666666666666,
              "#ed7953"
             ],
             [
              0.7777777777777778,
              "#fb9f3a"
             ],
             [
              0.8888888888888888,
              "#fdca26"
             ],
             [
              1,
              "#f0f921"
             ]
            ],
            "type": "surface"
           }
          ],
          "table": [
           {
            "cells": {
             "fill": {
              "color": "#506784"
             },
             "line": {
              "color": "rgb(17,17,17)"
             }
            },
            "header": {
             "fill": {
              "color": "#2a3f5f"
             },
             "line": {
              "color": "rgb(17,17,17)"
             }
            },
            "type": "table"
           }
          ]
         },
         "layout": {
          "annotationdefaults": {
           "arrowcolor": "#f2f5fa",
           "arrowhead": 0,
           "arrowwidth": 1
          },
          "autotypenumbers": "strict",
          "coloraxis": {
           "colorbar": {
            "outlinewidth": 0,
            "ticks": ""
           }
          },
          "colorscale": {
           "diverging": [
            [
             0,
             "#8e0152"
            ],
            [
             0.1,
             "#c51b7d"
            ],
            [
             0.2,
             "#de77ae"
            ],
            [
             0.3,
             "#f1b6da"
            ],
            [
             0.4,
             "#fde0ef"
            ],
            [
             0.5,
             "#f7f7f7"
            ],
            [
             0.6,
             "#e6f5d0"
            ],
            [
             0.7,
             "#b8e186"
            ],
            [
             0.8,
             "#7fbc41"
            ],
            [
             0.9,
             "#4d9221"
            ],
            [
             1,
             "#276419"
            ]
           ],
           "sequential": [
            [
             0,
             "#0d0887"
            ],
            [
             0.1111111111111111,
             "#46039f"
            ],
            [
             0.2222222222222222,
             "#7201a8"
            ],
            [
             0.3333333333333333,
             "#9c179e"
            ],
            [
             0.4444444444444444,
             "#bd3786"
            ],
            [
             0.5555555555555556,
             "#d8576b"
            ],
            [
             0.6666666666666666,
             "#ed7953"
            ],
            [
             0.7777777777777778,
             "#fb9f3a"
            ],
            [
             0.8888888888888888,
             "#fdca26"
            ],
            [
             1,
             "#f0f921"
            ]
           ],
           "sequentialminus": [
            [
             0,
             "#0d0887"
            ],
            [
             0.1111111111111111,
             "#46039f"
            ],
            [
             0.2222222222222222,
             "#7201a8"
            ],
            [
             0.3333333333333333,
             "#9c179e"
            ],
            [
             0.4444444444444444,
             "#bd3786"
            ],
            [
             0.5555555555555556,
             "#d8576b"
            ],
            [
             0.6666666666666666,
             "#ed7953"
            ],
            [
             0.7777777777777778,
             "#fb9f3a"
            ],
            [
             0.8888888888888888,
             "#fdca26"
            ],
            [
             1,
             "#f0f921"
            ]
           ]
          },
          "colorway": [
           "#636efa",
           "#EF553B",
           "#00cc96",
           "#ab63fa",
           "#FFA15A",
           "#19d3f3",
           "#FF6692",
           "#B6E880",
           "#FF97FF",
           "#FECB52"
          ],
          "font": {
           "color": "#f2f5fa"
          },
          "geo": {
           "bgcolor": "rgb(17,17,17)",
           "lakecolor": "rgb(17,17,17)",
           "landcolor": "rgb(17,17,17)",
           "showlakes": true,
           "showland": true,
           "subunitcolor": "#506784"
          },
          "hoverlabel": {
           "align": "left"
          },
          "hovermode": "closest",
          "mapbox": {
           "style": "dark"
          },
          "paper_bgcolor": "rgb(17,17,17)",
          "plot_bgcolor": "rgb(17,17,17)",
          "polar": {
           "angularaxis": {
            "gridcolor": "#506784",
            "linecolor": "#506784",
            "ticks": ""
           },
           "bgcolor": "rgb(17,17,17)",
           "radialaxis": {
            "gridcolor": "#506784",
            "linecolor": "#506784",
            "ticks": ""
           }
          },
          "scene": {
           "xaxis": {
            "backgroundcolor": "rgb(17,17,17)",
            "gridcolor": "#506784",
            "gridwidth": 2,
            "linecolor": "#506784",
            "showbackground": true,
            "ticks": "",
            "zerolinecolor": "#C8D4E3"
           },
           "yaxis": {
            "backgroundcolor": "rgb(17,17,17)",
            "gridcolor": "#506784",
            "gridwidth": 2,
            "linecolor": "#506784",
            "showbackground": true,
            "ticks": "",
            "zerolinecolor": "#C8D4E3"
           },
           "zaxis": {
            "backgroundcolor": "rgb(17,17,17)",
            "gridcolor": "#506784",
            "gridwidth": 2,
            "linecolor": "#506784",
            "showbackground": true,
            "ticks": "",
            "zerolinecolor": "#C8D4E3"
           }
          },
          "shapedefaults": {
           "line": {
            "color": "#f2f5fa"
           }
          },
          "sliderdefaults": {
           "bgcolor": "#C8D4E3",
           "bordercolor": "rgb(17,17,17)",
           "borderwidth": 1,
           "tickwidth": 0
          },
          "ternary": {
           "aaxis": {
            "gridcolor": "#506784",
            "linecolor": "#506784",
            "ticks": ""
           },
           "baxis": {
            "gridcolor": "#506784",
            "linecolor": "#506784",
            "ticks": ""
           },
           "bgcolor": "rgb(17,17,17)",
           "caxis": {
            "gridcolor": "#506784",
            "linecolor": "#506784",
            "ticks": ""
           }
          },
          "title": {
           "x": 0.05
          },
          "updatemenudefaults": {
           "bgcolor": "#506784",
           "borderwidth": 0
          },
          "xaxis": {
           "automargin": true,
           "gridcolor": "#283442",
           "linecolor": "#506784",
           "ticks": "",
           "title": {
            "standoff": 15
           },
           "zerolinecolor": "#283442",
           "zerolinewidth": 2
          },
          "yaxis": {
           "automargin": true,
           "gridcolor": "#283442",
           "linecolor": "#506784",
           "ticks": "",
           "title": {
            "standoff": 15
           },
           "zerolinecolor": "#283442",
           "zerolinewidth": 2
          }
         }
        },
        "title": {
         "text": "AAPL High Prices"
        },
        "xaxis": {
         "anchor": "y",
         "domain": [
          0,
          1
         ],
         "title": {
          "text": "Date"
         }
        },
        "yaxis": {
         "anchor": "x",
         "domain": [
          0,
          1
         ],
         "title": {
          "text": "AAPL.High"
         }
        }
       }
      },
      "text/html": [
       "<div>            <script src=\"https://cdnjs.cloudflare.com/ajax/libs/mathjax/2.7.5/MathJax.js?config=TeX-AMS-MML_SVG\"></script><script type=\"text/javascript\">if (window.MathJax && window.MathJax.Hub && window.MathJax.Hub.Config) {window.MathJax.Hub.Config({SVG: {font: \"STIX-Web\"}});}</script>                <script type=\"text/javascript\">window.PlotlyConfig = {MathJaxConfig: 'local'};</script>\n",
       "        <script charset=\"utf-8\" src=\"https://cdn.plot.ly/plotly-3.0.1.min.js\"></script>                <div id=\"48efa194-c492-4408-b21e-4b9ac57c845b\" class=\"plotly-graph-div\" style=\"height:525px; width:100%;\"></div>            <script type=\"text/javascript\">                window.PLOTLYENV=window.PLOTLYENV || {};                                if (document.getElementById(\"48efa194-c492-4408-b21e-4b9ac57c845b\")) {                    Plotly.newPlot(                        \"48efa194-c492-4408-b21e-4b9ac57c845b\",                        [{\"alignmentgroup\":\"True\",\"hovertemplate\":\"Date=%{x}\\u003cbr\\u003eAAPL.High=%{y}\\u003cextra\\u003e\\u003c\\u002fextra\\u003e\",\"legendgroup\":\"\",\"marker\":{\"color\":\"#636efa\"},\"name\":\"\",\"notched\":false,\"offsetgroup\":\"\",\"orientation\":\"v\",\"showlegend\":false,\"x\":[\"2015-02-17\",\"2015-02-18\",\"2015-02-19\",\"2015-02-20\",\"2015-02-23\",\"2015-02-24\",\"2015-02-25\",\"2015-02-26\",\"2015-02-27\",\"2015-03-02\",\"2015-03-03\",\"2015-03-04\",\"2015-03-05\",\"2015-03-06\",\"2015-03-09\",\"2015-03-10\",\"2015-03-11\",\"2015-03-12\",\"2015-03-13\",\"2015-03-16\",\"2015-03-17\",\"2015-03-18\",\"2015-03-19\",\"2015-03-20\",\"2015-03-23\",\"2015-03-24\",\"2015-03-25\",\"2015-03-26\",\"2015-03-27\",\"2015-03-30\",\"2015-03-31\",\"2015-04-01\",\"2015-04-02\",\"2015-04-06\",\"2015-04-07\",\"2015-04-08\",\"2015-04-09\",\"2015-04-10\",\"2015-04-13\",\"2015-04-14\",\"2015-04-15\",\"2015-04-16\",\"2015-04-17\",\"2015-04-20\",\"2015-04-21\",\"2015-04-22\",\"2015-04-23\",\"2015-04-24\",\"2015-04-27\",\"2015-04-28\",\"2015-04-29\",\"2015-04-30\",\"2015-05-01\",\"2015-05-04\",\"2015-05-05\",\"2015-05-06\",\"2015-05-07\",\"2015-05-08\",\"2015-05-11\",\"2015-05-12\",\"2015-05-13\",\"2015-05-14\",\"2015-05-15\",\"2015-05-18\",\"2015-05-19\",\"2015-05-20\",\"2015-05-21\",\"2015-05-22\",\"2015-05-26\",\"2015-05-27\",\"2015-05-28\",\"2015-05-29\",\"2015-06-01\",\"2015-06-02\",\"2015-06-03\",\"2015-06-04\",\"2015-06-05\",\"2015-06-08\",\"2015-06-09\",\"2015-06-10\",\"2015-06-11\",\"2015-06-12\",\"2015-06-15\",\"2015-06-16\",\"2015-06-17\",\"2015-06-18\",\"2015-06-19\",\"2015-06-22\",\"2015-06-23\",\"2015-06-24\",\"2015-06-25\",\"2015-06-26\",\"2015-06-29\",\"2015-06-30\",\"2015-07-01\",\"2015-07-02\",\"2015-07-06\",\"2015-07-07\",\"2015-07-08\",\"2015-07-09\",\"2015-07-10\",\"2015-07-13\",\"2015-07-14\",\"2015-07-15\",\"2015-07-16\",\"2015-07-17\",\"2015-07-20\",\"2015-07-21\",\"2015-07-22\",\"2015-07-23\",\"2015-07-24\",\"2015-07-27\",\"2015-07-28\",\"2015-07-29\",\"2015-07-30\",\"2015-07-31\",\"2015-08-03\",\"2015-08-04\",\"2015-08-05\",\"2015-08-06\",\"2015-08-07\",\"2015-08-10\",\"2015-08-11\",\"2015-08-12\",\"2015-08-13\",\"2015-08-14\",\"2015-08-17\",\"2015-08-18\",\"2015-08-19\",\"2015-08-20\",\"2015-08-21\",\"2015-08-24\",\"2015-08-25\",\"2015-08-26\",\"2015-08-27\",\"2015-08-28\",\"2015-08-31\",\"2015-09-01\",\"2015-09-02\",\"2015-09-03\",\"2015-09-04\",\"2015-09-08\",\"2015-09-09\",\"2015-09-10\",\"2015-09-11\",\"2015-09-14\",\"2015-09-15\",\"2015-09-16\",\"2015-09-17\",\"2015-09-18\",\"2015-09-21\",\"2015-09-22\",\"2015-09-23\",\"2015-09-24\",\"2015-09-25\",\"2015-09-28\",\"2015-09-29\",\"2015-09-30\",\"2015-10-01\",\"2015-10-02\",\"2015-10-05\",\"2015-10-06\",\"2015-10-07\",\"2015-10-08\",\"2015-10-09\",\"2015-10-12\",\"2015-10-13\",\"2015-10-14\",\"2015-10-15\",\"2015-10-16\",\"2015-10-19\",\"2015-10-20\",\"2015-10-21\",\"2015-10-22\",\"2015-10-23\",\"2015-10-26\",\"2015-10-27\",\"2015-10-28\",\"2015-10-29\",\"2015-10-30\",\"2015-11-02\",\"2015-11-03\",\"2015-11-04\",\"2015-11-05\",\"2015-11-06\",\"2015-11-09\",\"2015-11-10\",\"2015-11-11\",\"2015-11-12\",\"2015-11-13\",\"2015-11-16\",\"2015-11-17\",\"2015-11-18\",\"2015-11-19\",\"2015-11-20\",\"2015-11-23\",\"2015-11-24\",\"2015-11-25\",\"2015-11-27\",\"2015-11-30\",\"2015-12-01\",\"2015-12-02\",\"2015-12-03\",\"2015-12-04\",\"2015-12-07\",\"2015-12-08\",\"2015-12-09\",\"2015-12-10\",\"2015-12-11\",\"2015-12-14\",\"2015-12-15\",\"2015-12-16\",\"2015-12-17\",\"2015-12-18\",\"2015-12-21\",\"2015-12-22\",\"2015-12-23\",\"2015-12-24\",\"2015-12-28\",\"2015-12-29\",\"2015-12-30\",\"2015-12-31\",\"2016-01-04\",\"2016-01-05\",\"2016-01-06\",\"2016-01-07\",\"2016-01-08\",\"2016-01-11\",\"2016-01-12\",\"2016-01-13\",\"2016-01-14\",\"2016-01-15\",\"2016-01-19\",\"2016-01-20\",\"2016-01-21\",\"2016-01-22\",\"2016-01-25\",\"2016-01-26\",\"2016-01-27\",\"2016-01-28\",\"2016-01-29\",\"2016-02-01\",\"2016-02-02\",\"2016-02-03\",\"2016-02-04\",\"2016-02-05\",\"2016-02-08\",\"2016-02-09\",\"2016-02-10\",\"2016-02-11\",\"2016-02-12\",\"2016-02-16\",\"2016-02-17\",\"2016-02-18\",\"2016-02-19\",\"2016-02-22\",\"2016-02-23\",\"2016-02-24\",\"2016-02-25\",\"2016-02-26\",\"2016-02-29\",\"2016-03-01\",\"2016-03-02\",\"2016-03-03\",\"2016-03-04\",\"2016-03-07\",\"2016-03-08\",\"2016-03-09\",\"2016-03-10\",\"2016-03-11\",\"2016-03-14\",\"2016-03-15\",\"2016-03-16\",\"2016-03-17\",\"2016-03-18\",\"2016-03-21\",\"2016-03-22\",\"2016-03-23\",\"2016-03-24\",\"2016-03-28\",\"2016-03-29\",\"2016-03-30\",\"2016-03-31\",\"2016-04-01\",\"2016-04-04\",\"2016-04-05\",\"2016-04-06\",\"2016-04-07\",\"2016-04-08\",\"2016-04-11\",\"2016-04-12\",\"2016-04-13\",\"2016-04-14\",\"2016-04-15\",\"2016-04-18\",\"2016-04-19\",\"2016-04-20\",\"2016-04-21\",\"2016-04-22\",\"2016-04-25\",\"2016-04-26\",\"2016-04-27\",\"2016-04-28\",\"2016-04-29\",\"2016-05-02\",\"2016-05-03\",\"2016-05-04\",\"2016-05-05\",\"2016-05-06\",\"2016-05-09\",\"2016-05-10\",\"2016-05-11\",\"2016-05-12\",\"2016-05-13\",\"2016-05-16\",\"2016-05-17\",\"2016-05-18\",\"2016-05-19\",\"2016-05-20\",\"2016-05-23\",\"2016-05-24\",\"2016-05-25\",\"2016-05-26\",\"2016-05-27\",\"2016-05-31\",\"2016-06-01\",\"2016-06-02\",\"2016-06-03\",\"2016-06-06\",\"2016-06-07\",\"2016-06-08\",\"2016-06-09\",\"2016-06-10\",\"2016-06-13\",\"2016-06-14\",\"2016-06-15\",\"2016-06-16\",\"2016-06-17\",\"2016-06-20\",\"2016-06-21\",\"2016-06-22\",\"2016-06-23\",\"2016-06-24\",\"2016-06-27\",\"2016-06-28\",\"2016-06-29\",\"2016-06-30\",\"2016-07-01\",\"2016-07-05\",\"2016-07-06\",\"2016-07-07\",\"2016-07-08\",\"2016-07-11\",\"2016-07-12\",\"2016-07-13\",\"2016-07-14\",\"2016-07-15\",\"2016-07-18\",\"2016-07-19\",\"2016-07-20\",\"2016-07-21\",\"2016-07-22\",\"2016-07-25\",\"2016-07-26\",\"2016-07-27\",\"2016-07-28\",\"2016-07-29\",\"2016-08-01\",\"2016-08-02\",\"2016-08-03\",\"2016-08-04\",\"2016-08-05\",\"2016-08-08\",\"2016-08-09\",\"2016-08-10\",\"2016-08-11\",\"2016-08-12\",\"2016-08-15\",\"2016-08-16\",\"2016-08-17\",\"2016-08-18\",\"2016-08-19\",\"2016-08-22\",\"2016-08-23\",\"2016-08-24\",\"2016-08-25\",\"2016-08-26\",\"2016-08-29\",\"2016-08-30\",\"2016-08-31\",\"2016-09-01\",\"2016-09-02\",\"2016-09-06\",\"2016-09-07\",\"2016-09-08\",\"2016-09-09\",\"2016-09-12\",\"2016-09-13\",\"2016-09-14\",\"2016-09-15\",\"2016-09-16\",\"2016-09-19\",\"2016-09-20\",\"2016-09-21\",\"2016-09-22\",\"2016-09-23\",\"2016-09-26\",\"2016-09-27\",\"2016-09-28\",\"2016-09-29\",\"2016-09-30\",\"2016-10-03\",\"2016-10-04\",\"2016-10-05\",\"2016-10-06\",\"2016-10-07\",\"2016-10-10\",\"2016-10-11\",\"2016-10-12\",\"2016-10-13\",\"2016-10-14\",\"2016-10-17\",\"2016-10-18\",\"2016-10-19\",\"2016-10-20\",\"2016-10-21\",\"2016-10-24\",\"2016-10-25\",\"2016-10-26\",\"2016-10-27\",\"2016-10-28\",\"2016-10-31\",\"2016-11-01\",\"2016-11-02\",\"2016-11-03\",\"2016-11-04\",\"2016-11-07\",\"2016-11-08\",\"2016-11-09\",\"2016-11-10\",\"2016-11-11\",\"2016-11-14\",\"2016-11-15\",\"2016-11-16\",\"2016-11-17\",\"2016-11-18\",\"2016-11-21\",\"2016-11-22\",\"2016-11-23\",\"2016-11-25\",\"2016-11-28\",\"2016-11-29\",\"2016-11-30\",\"2016-12-01\",\"2016-12-02\",\"2016-12-05\",\"2016-12-06\",\"2016-12-07\",\"2016-12-08\",\"2016-12-09\",\"2016-12-12\",\"2016-12-13\",\"2016-12-14\",\"2016-12-15\",\"2016-12-16\",\"2016-12-19\",\"2016-12-20\",\"2016-12-21\",\"2016-12-22\",\"2016-12-23\",\"2016-12-27\",\"2016-12-28\",\"2016-12-29\",\"2016-12-30\",\"2017-01-03\",\"2017-01-04\",\"2017-01-05\",\"2017-01-06\",\"2017-01-09\",\"2017-01-10\",\"2017-01-11\",\"2017-01-12\",\"2017-01-13\",\"2017-01-17\",\"2017-01-18\",\"2017-01-19\",\"2017-01-20\",\"2017-01-23\",\"2017-01-24\",\"2017-01-25\",\"2017-01-26\",\"2017-01-27\",\"2017-01-30\",\"2017-01-31\",\"2017-02-01\",\"2017-02-02\",\"2017-02-03\",\"2017-02-06\",\"2017-02-07\",\"2017-02-08\",\"2017-02-09\",\"2017-02-10\",\"2017-02-13\",\"2017-02-14\",\"2017-02-15\",\"2017-02-16\"],\"x0\":\" \",\"xaxis\":\"x\",\"y\":{\"dtype\":\"f8\",\"bdata\":\"Ieo+ACkcYEA1fXbA9RhgQDV9dsD1IGBAAAAAAAAwYEAAAAAAAKBgQOxsyD8zs2BA7GzIPzNzYEDfFcH\\u002f1ltgQLfvUX89UmBANX12wPVIYEBBuW3fozBgQGr67IDrMWBAAAAAAAAYYEDfFcH\\u002f1itgQLfvUX89MmBAlgUTfxTOX0ApQX+hRzFfQGoV\\u002faGZOV9AahX9oZlZX0AUkzfAzDxfQBSuR+F61F9AVWe1wB4lYEAAAAAAAChgQBSTN8DMDGBAluoCXmb2X0A1YmafRwFgQBSuR+F6tF9AAOXv3lE4X0AUkzfAzCxfQGoV\\u002faGZmV9Av0aSIFyfX0AAGxAhrkdfQNP02QHXY19AQblt36PgX0DfFcH\\u002f1gNgQGoV\\u002faGZmV9AVWe1wB6lX0BVTKWfcM1fQLfvUX89EmBAq7NaYI\\u002fSX0AA5e\\u002feUchfQJbqAl5mxl9AQZ5dvvWIX0DfFcH\\u002f1gNgQIrJG2BmBmBA3xXB\\u002f9YbYEBVTKWfcE1gQCHqPgApVGBAIeo+ACmkYEA1YmafR9FgQKuYSj\\u002fhcmBAIM8u33oUYEAh6j4AKURgQLfvUX89UmBAiskbYGYOYEAAAAAAALBfQFVntcAehV9AABsQIa7nX0DT9NkB1+NfQADl795RuF9ALQsm\\u002fijMX0CKyRtgZh5gQAw89x6uL2BAy4KJPwpXYEAh6j4AKVxgQL9GkiBcX2BAIeo+ACl0YEDLgok\\u002fCp9gQFVntcAenWBA9MMI4VGIYECKyRtgZn5gQIrJG2BmbmBAIM8u33psYEBVZ7XAHlVgQJYFE38UXmBAq7NaYI9SYECWBRN\\u002fFDZgQMudmWC4JmBAq7NaYI8CYECrmEo\\u002f4SpgQEkQroDCRWBAq7NaYI8KYEC\\u002fRpIgXM9fQJbqAl5m9l9AAOXv3lH4X0Bq+uyA6wlgQBSuR+F69F9AavrsgOsBYEC\\u002fYaJBCudfQHY25J+ZOWBAiskbYGYmYEC\\u002fRpIgXP9fQJYFE38Unl9AABsQIa6HX0AtCyb+KLxfQC0LJv4orF9A176AXriOX0BqFf2hmYlfQEGeXb71KF9A0\\u002fTZAdcDX0CW6gJeZvZeQEG5bd+jcF9AABsQIa6XX0BqFf2hmclfQLfvUX89EmBA3xXB\\u002f9YzYEDLgok\\u002fCp9gQFVMpZ9wnWBAAAAAAABgX0BVMZV+wsVfQL9GkiBcb19Av2GiQQrnXkCrzmqBPfpeQAAAAAAA4F5AFK5H4XqkXkBBnl2+9aheQBSuR+F6pF5AFJM3wMxsXUAtCyb+KFxdQAAAAAAAIF1AAAAAAAAQXUC\\u002fRpIgXP9dQOxRuB6Fi11Aq5hKP+HaXEBqFf2hmRldQNP02QHXE11AahX9oZlpXUAtCyb+KFxdQClBf6FHIV1AluoCXmaWXEBqFf2hmflbQOxsyD8zM1tAv2GiQQrHW0BBnl2+9XhbQL9GkiBcT1xA0\\u002fTZAddTXEBq+uyA66FcQADl795R+FtAVTGVfsIVXEBq+uyA6zFcQBSTN8DMnFtA0\\u002fTZAdcjXEApQX+hR4FcQGr67IDrUVxAVUyln3CNXEBBnl2+9ThdQGr67IDrIV1Aq7NaYI8iXUC\\u002fRpIgXB9dQOxsyD8zk1xAABsQIa7XXEDsUbgehYtcQJYFE38UrlxAAAAAAADgXEAtCyb+KCxdQBSuR+F6pFxAQblt36NgXECrs1pgj+JbQAAbECGuZ1tAQblt36PAW0AAGxAhrtdbQL9GkiBc71tAKUF\\u002foUfxW0AtCyb+KIxbQGr67IDrEVxAAAAAAAAwXEAUkzfAzBxcQClBf6FH4VtAluoCXmYGXEAAAAAAAABcQAAAAAAA8FtAq5hKP+GKXEBVZ7XAHuVcQAAAAAAA4FxA176AXrjOXUAA5e\\u002feUYhdQKuzWmCPIl1A7GzIPzPTXUAtCyb+KCxeQJYFE38UTl5Av2GiQQpXXkC\\u002fRpIgXN9eQBSuR+F69F5ALQsm\\u002fiisXkDT9NkB13NeQNP02QHXc15AFK5H4XqEXUCrmEo\\u002f4VpdQBSuR+F6NF1AFK5H4XrkXEC\\u002fRpIgXI9cQOxsyD8zw1xAv0aSIFxfXUAAAAAAAPBdQKuYSj\\u002fh+l1A176AXrjuXUCW6gJeZtZdQNe+gF64zl1Aq85qgT2aXUCrzmqBPdpdQNP02QHXs11Av2GiQQqHXUCrs1pgjzJdQAAAAAAA0F1Av2GiQQr3XUCW6gJeZqZdQC0LJv4obF1ALQsm\\u002fig8XUBBnl2+9dhcQOxRuB6FK1xA7GzIPzMzXEC\\u002fRpIgXP9bQAAAAAAAEFxAKUF\\u002foUdhW0AAGxAhrtdaQJYFE38U7lpAluoCXmY2W0AAAAAAAEBbQC0LJv4o7FpA7FG4HoVbW0AUkzfAzCxbQGr67IDrwVpAABsQIa5XWkCW6gJeZnZaQAAbECGul1lAAOXv3lEIWUC\\u002fYaJBCsdYQNP02QHXw1hALQsm\\u002figsWUAtCyb+KExZQNe+gF64HllAVUyln3BtWEBqFf2hmalYQC0LJv4ojFhAAOXv3lF4WEBVTKWfcF1ZQGr67IDrYVlAAOXv3lE4WUAA5e\\u002feUShYQClBf6FHoVdAVTGVfsJVWEBVTKWfcC1YQKuzWmCPAlhAVTGVfsI1WEBVZ7XAHlVYQKuYSj\\u002fhOlhAFJM3wMzsV0AtCyb+KPxXQJbqAl5mFlhAlgUTfxSuV0AAAAAAAKBXQJbqAl5mNlhAVUyln3CNWEBBnl2+9bhYQEG5bd+jMFhAahX9oZk5WEAAAAAAACBYQADl795RGFhAQblt36MwWEApQX+hR4FYQNe+gF64jlhAKUF\\u002foUcxWUBBnl2+9ThZQFVMpZ9wbVlAAAAAAADwWUBVZ7XAHrVZQEG5bd+jcFlAVWe1wB5lWUC\\u002fRpIgXI9ZQGr67IDrkVlAq85qgT26WUDsUbgehUtaQNP02QHXk1pAlgUTfxSeWkAAAAAAAKBaQGoV\\u002faGZ6VpAq7NaYI\\u002fSWkAUrkfhesRaQAAAAAAAkFpALQsm\\u002fiiMWkCrs1pgj\\u002fJaQKuYSj\\u002fhmltAahX9oZl5W0AAAAAAAIBbQC0LJv4oDFxA176AXriuW0DXvoBeuL5bQKuYSj\\u002fhmltAKUF\\u002foUdxW0C\\u002fYaJBCqdbQAAAAAAAoFtAVTGVfsIVXEBBnl2+9RhcQOxsyD8zE1xAFJM3wMw8W0AAAAAAAABbQFUxlX7CBVtA7FG4HoW7WkDXvoBeuJ5aQGoV\\u002faGZaVpA7GzIPzNTWkBVTKWfcK1YQADl795ReFhAlgUTfxSuV0BVZ7XAHoVXQL9GkiBc71dAahX9oZn5V0AUrkfheoRXQBSTN8DMXFdAKUF\\u002foUdxV0AUrkfhemRXQBSuR+F6ZFdAavrsgOsxV0CrmEo\\u002f4epWQEGeXb71mFdAFJM3wMysV0BVTKWfcM1XQEGeXb71qFdA7FG4HoXbV0AtCyb+KExYQFUxlX7ChVhAv0aSIFzvWEDXvoBeuC5ZQJYFE38UHllAahX9oZkZWUCrs1pgj+JYQFUxlX7CdVhAKUF\\u002foUeRWEBBnl2+9XhZQAAbECGu91hA0\\u002fTZAdfjWEC\\u002fRpIgXP9YQJbqAl5m1lhAABsQIa7HWEDXvoBeuJ5YQKvOaoE9mlhAAAAAAABwWEBqFf2hmSlYQBSuR+F6JFhAluoCXmYWWEBBnl2+9ThYQKuzWmCPElhAq85qgT2qV0DsbMg\\u002fM0NXQKvOaoE9aldA7GzIPzOjV0ApQX+hR\\u002fFXQJYFE38UHlhAahX9oZnZV0CrzmqBPepXQAAAAAAAIFhAQZ5dvvU4WEBqFf2hmWlYQBSTN8DMbFhAq5hKP+FqWEC\\u002fRpIgXL9YQOxsyD8z01hAAOXv3lEIWUAAAAAAAABZQFVMpZ9wHVlAAAAAAABAWUDsbMg\\u002fM9NYQFUxlX7CtVhAlgUTfxR+WECW6gJeZhZaQBSTN8DMHFpA7GzIPzMjWkBqFf2hmYlaQBSuR+F6hFpAVTGVfsJ1WkAAAAAAAIBaQGoV\\u002faGZ6VpAABsQIa4XW0AtCyb+KDxbQGoV\\u002faGZOVtA7FG4HoU7W0AtCyb+KBxbQKuzWmCPYltA176AXriOW0AAGxAhrldbQJbqAl5mZltALQsm\\u002fihsW0CW6gJeZkZbQBSuR+F6VFtAAAAAAAAwW0AA5e\\u002feUfhaQBSTN8DM\\u002fFpALQsm\\u002fijcWkAAAAAAAKBaQBSuR+F6pFpA7GzIPzOzWkAAAAAAAABbQOxsyD8zE1tAQblt36MwW0ApQX+hR9FaQJYFE38UblpAlgUTfxRuWkCrs1pgjzJbQGr67IDrQVxA176AXrjuXEAA5e\\u002feUQhdQOxRuB6FC11AABsQIa6HXEC\\u002fRpIgXH9cQC0LJv4ovFxAq7NaYI+yXEBBnl2+9VhcQOxRuB6FS1xAQZ5dvvWoXEDsbMg\\u002fM3NcQAAbECGuV1xA7GzIPzNDXEDT9NkB15NcQKvOaoE9alxAVTGVfsKVXEDT9NkB16NcQAAAAAAAMF1ALQsm\\u002fiisXUDXvoBeuH5dQC0LJv4oXF1Aq5hKP+GKXUBVMZV+wnVdQFVMpZ9wjV1AQblt36NwXUAA5e\\u002feUVhdQKvOaoE9Ol1Av0aSIFxvXUC\\u002fYaJBCpddQBSTN8DM7FxAv2GiQQr3XEBVTKWfcM1cQNe+gF64jlxAKUF\\u002foUdxXECW6gJeZhZcQFVMpZ9w3VtAAAAAAACQW0BBuW3fo6BbQJYFE38U7ltAFK5H4XrUW0BVMZV+wsVbQAAbECGuN1tA0\\u002fTZAdfzWkDsUbgehetaQNe+gF64jltAluoCXmaWW0Crs1pgj6JbQL9GkiBc\\u002f1tAq5hKP+EaXEBBuW3fo+BbQAAbECGu91tAlgUTfxQeXEBq+uyA6wFcQBSTN8DMDFxALQsm\\u002fii8W0BVMZV+woVbQGr67IDrgVtAv2GiQQqXW0AtCyb+KMxbQOxRuB6FG1xAFJM3wMysXEAAAAAAAMBcQKuYSj\\u002fh+lxAFJM3wMwMXUDXvoBeuC5dQAAAAAAAIF1AAOXv3lFYXUAAAAAAAGBdQGoV\\u002faGZWV1AQblt36MgXUApQX+hRyFdQOxsyD8zc11AKUF\\u002foUeBXUC\\u002fYaJBCkddQBSTN8DMTF1AVWe1wB4VXUBBuW3foyBdQL9hokEKN11Aq85qgT2KXUDsUbgehdtdQADl795R2F1A7FG4HoX7XUDsbMg\\u002fM9NdQAAbECGu511Av0aSIFwPXkAAAAAAACBeQFUxlX7CBV5AFJM3wMwcXkDT9NkB1zNeQJbqAl5mBl5AluoCXmaGXkAtCyb+KJxeQJbqAl5mll5AAOXv3lFoXkBBnl2+9VheQAw89x6uT2BAIM8u33osYECWBRN\\u002fFCZgQAAAAAAAUGBAq5hKP+GCYEDLgok\\u002fCodgQIrJG2BmjmBAlgUTfxSeYEC371F\\u002fPbpgQKuYSj\\u002fh4mBAQblt36MIYUAUkzfAzPxgQA==\"},\"y0\":\" \",\"yaxis\":\"y\",\"type\":\"box\"}],                        {\"template\":{\"data\":{\"barpolar\":[{\"marker\":{\"line\":{\"color\":\"rgb(17,17,17)\",\"width\":0.5},\"pattern\":{\"fillmode\":\"overlay\",\"size\":10,\"solidity\":0.2}},\"type\":\"barpolar\"}],\"bar\":[{\"error_x\":{\"color\":\"#f2f5fa\"},\"error_y\":{\"color\":\"#f2f5fa\"},\"marker\":{\"line\":{\"color\":\"rgb(17,17,17)\",\"width\":0.5},\"pattern\":{\"fillmode\":\"overlay\",\"size\":10,\"solidity\":0.2}},\"type\":\"bar\"}],\"carpet\":[{\"aaxis\":{\"endlinecolor\":\"#A2B1C6\",\"gridcolor\":\"#506784\",\"linecolor\":\"#506784\",\"minorgridcolor\":\"#506784\",\"startlinecolor\":\"#A2B1C6\"},\"baxis\":{\"endlinecolor\":\"#A2B1C6\",\"gridcolor\":\"#506784\",\"linecolor\":\"#506784\",\"minorgridcolor\":\"#506784\",\"startlinecolor\":\"#A2B1C6\"},\"type\":\"carpet\"}],\"choropleth\":[{\"colorbar\":{\"outlinewidth\":0,\"ticks\":\"\"},\"type\":\"choropleth\"}],\"contourcarpet\":[{\"colorbar\":{\"outlinewidth\":0,\"ticks\":\"\"},\"type\":\"contourcarpet\"}],\"contour\":[{\"colorbar\":{\"outlinewidth\":0,\"ticks\":\"\"},\"colorscale\":[[0.0,\"#0d0887\"],[0.1111111111111111,\"#46039f\"],[0.2222222222222222,\"#7201a8\"],[0.3333333333333333,\"#9c179e\"],[0.4444444444444444,\"#bd3786\"],[0.5555555555555556,\"#d8576b\"],[0.6666666666666666,\"#ed7953\"],[0.7777777777777778,\"#fb9f3a\"],[0.8888888888888888,\"#fdca26\"],[1.0,\"#f0f921\"]],\"type\":\"contour\"}],\"heatmap\":[{\"colorbar\":{\"outlinewidth\":0,\"ticks\":\"\"},\"colorscale\":[[0.0,\"#0d0887\"],[0.1111111111111111,\"#46039f\"],[0.2222222222222222,\"#7201a8\"],[0.3333333333333333,\"#9c179e\"],[0.4444444444444444,\"#bd3786\"],[0.5555555555555556,\"#d8576b\"],[0.6666666666666666,\"#ed7953\"],[0.7777777777777778,\"#fb9f3a\"],[0.8888888888888888,\"#fdca26\"],[1.0,\"#f0f921\"]],\"type\":\"heatmap\"}],\"histogram2dcontour\":[{\"colorbar\":{\"outlinewidth\":0,\"ticks\":\"\"},\"colorscale\":[[0.0,\"#0d0887\"],[0.1111111111111111,\"#46039f\"],[0.2222222222222222,\"#7201a8\"],[0.3333333333333333,\"#9c179e\"],[0.4444444444444444,\"#bd3786\"],[0.5555555555555556,\"#d8576b\"],[0.6666666666666666,\"#ed7953\"],[0.7777777777777778,\"#fb9f3a\"],[0.8888888888888888,\"#fdca26\"],[1.0,\"#f0f921\"]],\"type\":\"histogram2dcontour\"}],\"histogram2d\":[{\"colorbar\":{\"outlinewidth\":0,\"ticks\":\"\"},\"colorscale\":[[0.0,\"#0d0887\"],[0.1111111111111111,\"#46039f\"],[0.2222222222222222,\"#7201a8\"],[0.3333333333333333,\"#9c179e\"],[0.4444444444444444,\"#bd3786\"],[0.5555555555555556,\"#d8576b\"],[0.6666666666666666,\"#ed7953\"],[0.7777777777777778,\"#fb9f3a\"],[0.8888888888888888,\"#fdca26\"],[1.0,\"#f0f921\"]],\"type\":\"histogram2d\"}],\"histogram\":[{\"marker\":{\"pattern\":{\"fillmode\":\"overlay\",\"size\":10,\"solidity\":0.2}},\"type\":\"histogram\"}],\"mesh3d\":[{\"colorbar\":{\"outlinewidth\":0,\"ticks\":\"\"},\"type\":\"mesh3d\"}],\"parcoords\":[{\"line\":{\"colorbar\":{\"outlinewidth\":0,\"ticks\":\"\"}},\"type\":\"parcoords\"}],\"pie\":[{\"automargin\":true,\"type\":\"pie\"}],\"scatter3d\":[{\"line\":{\"colorbar\":{\"outlinewidth\":0,\"ticks\":\"\"}},\"marker\":{\"colorbar\":{\"outlinewidth\":0,\"ticks\":\"\"}},\"type\":\"scatter3d\"}],\"scattercarpet\":[{\"marker\":{\"colorbar\":{\"outlinewidth\":0,\"ticks\":\"\"}},\"type\":\"scattercarpet\"}],\"scattergeo\":[{\"marker\":{\"colorbar\":{\"outlinewidth\":0,\"ticks\":\"\"}},\"type\":\"scattergeo\"}],\"scattergl\":[{\"marker\":{\"line\":{\"color\":\"#283442\"}},\"type\":\"scattergl\"}],\"scattermapbox\":[{\"marker\":{\"colorbar\":{\"outlinewidth\":0,\"ticks\":\"\"}},\"type\":\"scattermapbox\"}],\"scattermap\":[{\"marker\":{\"colorbar\":{\"outlinewidth\":0,\"ticks\":\"\"}},\"type\":\"scattermap\"}],\"scatterpolargl\":[{\"marker\":{\"colorbar\":{\"outlinewidth\":0,\"ticks\":\"\"}},\"type\":\"scatterpolargl\"}],\"scatterpolar\":[{\"marker\":{\"colorbar\":{\"outlinewidth\":0,\"ticks\":\"\"}},\"type\":\"scatterpolar\"}],\"scatter\":[{\"marker\":{\"line\":{\"color\":\"#283442\"}},\"type\":\"scatter\"}],\"scatterternary\":[{\"marker\":{\"colorbar\":{\"outlinewidth\":0,\"ticks\":\"\"}},\"type\":\"scatterternary\"}],\"surface\":[{\"colorbar\":{\"outlinewidth\":0,\"ticks\":\"\"},\"colorscale\":[[0.0,\"#0d0887\"],[0.1111111111111111,\"#46039f\"],[0.2222222222222222,\"#7201a8\"],[0.3333333333333333,\"#9c179e\"],[0.4444444444444444,\"#bd3786\"],[0.5555555555555556,\"#d8576b\"],[0.6666666666666666,\"#ed7953\"],[0.7777777777777778,\"#fb9f3a\"],[0.8888888888888888,\"#fdca26\"],[1.0,\"#f0f921\"]],\"type\":\"surface\"}],\"table\":[{\"cells\":{\"fill\":{\"color\":\"#506784\"},\"line\":{\"color\":\"rgb(17,17,17)\"}},\"header\":{\"fill\":{\"color\":\"#2a3f5f\"},\"line\":{\"color\":\"rgb(17,17,17)\"}},\"type\":\"table\"}]},\"layout\":{\"annotationdefaults\":{\"arrowcolor\":\"#f2f5fa\",\"arrowhead\":0,\"arrowwidth\":1},\"autotypenumbers\":\"strict\",\"coloraxis\":{\"colorbar\":{\"outlinewidth\":0,\"ticks\":\"\"}},\"colorscale\":{\"diverging\":[[0,\"#8e0152\"],[0.1,\"#c51b7d\"],[0.2,\"#de77ae\"],[0.3,\"#f1b6da\"],[0.4,\"#fde0ef\"],[0.5,\"#f7f7f7\"],[0.6,\"#e6f5d0\"],[0.7,\"#b8e186\"],[0.8,\"#7fbc41\"],[0.9,\"#4d9221\"],[1,\"#276419\"]],\"sequential\":[[0.0,\"#0d0887\"],[0.1111111111111111,\"#46039f\"],[0.2222222222222222,\"#7201a8\"],[0.3333333333333333,\"#9c179e\"],[0.4444444444444444,\"#bd3786\"],[0.5555555555555556,\"#d8576b\"],[0.6666666666666666,\"#ed7953\"],[0.7777777777777778,\"#fb9f3a\"],[0.8888888888888888,\"#fdca26\"],[1.0,\"#f0f921\"]],\"sequentialminus\":[[0.0,\"#0d0887\"],[0.1111111111111111,\"#46039f\"],[0.2222222222222222,\"#7201a8\"],[0.3333333333333333,\"#9c179e\"],[0.4444444444444444,\"#bd3786\"],[0.5555555555555556,\"#d8576b\"],[0.6666666666666666,\"#ed7953\"],[0.7777777777777778,\"#fb9f3a\"],[0.8888888888888888,\"#fdca26\"],[1.0,\"#f0f921\"]]},\"colorway\":[\"#636efa\",\"#EF553B\",\"#00cc96\",\"#ab63fa\",\"#FFA15A\",\"#19d3f3\",\"#FF6692\",\"#B6E880\",\"#FF97FF\",\"#FECB52\"],\"font\":{\"color\":\"#f2f5fa\"},\"geo\":{\"bgcolor\":\"rgb(17,17,17)\",\"lakecolor\":\"rgb(17,17,17)\",\"landcolor\":\"rgb(17,17,17)\",\"showlakes\":true,\"showland\":true,\"subunitcolor\":\"#506784\"},\"hoverlabel\":{\"align\":\"left\"},\"hovermode\":\"closest\",\"mapbox\":{\"style\":\"dark\"},\"paper_bgcolor\":\"rgb(17,17,17)\",\"plot_bgcolor\":\"rgb(17,17,17)\",\"polar\":{\"angularaxis\":{\"gridcolor\":\"#506784\",\"linecolor\":\"#506784\",\"ticks\":\"\"},\"bgcolor\":\"rgb(17,17,17)\",\"radialaxis\":{\"gridcolor\":\"#506784\",\"linecolor\":\"#506784\",\"ticks\":\"\"}},\"scene\":{\"xaxis\":{\"backgroundcolor\":\"rgb(17,17,17)\",\"gridcolor\":\"#506784\",\"gridwidth\":2,\"linecolor\":\"#506784\",\"showbackground\":true,\"ticks\":\"\",\"zerolinecolor\":\"#C8D4E3\"},\"yaxis\":{\"backgroundcolor\":\"rgb(17,17,17)\",\"gridcolor\":\"#506784\",\"gridwidth\":2,\"linecolor\":\"#506784\",\"showbackground\":true,\"ticks\":\"\",\"zerolinecolor\":\"#C8D4E3\"},\"zaxis\":{\"backgroundcolor\":\"rgb(17,17,17)\",\"gridcolor\":\"#506784\",\"gridwidth\":2,\"linecolor\":\"#506784\",\"showbackground\":true,\"ticks\":\"\",\"zerolinecolor\":\"#C8D4E3\"}},\"shapedefaults\":{\"line\":{\"color\":\"#f2f5fa\"}},\"sliderdefaults\":{\"bgcolor\":\"#C8D4E3\",\"bordercolor\":\"rgb(17,17,17)\",\"borderwidth\":1,\"tickwidth\":0},\"ternary\":{\"aaxis\":{\"gridcolor\":\"#506784\",\"linecolor\":\"#506784\",\"ticks\":\"\"},\"baxis\":{\"gridcolor\":\"#506784\",\"linecolor\":\"#506784\",\"ticks\":\"\"},\"bgcolor\":\"rgb(17,17,17)\",\"caxis\":{\"gridcolor\":\"#506784\",\"linecolor\":\"#506784\",\"ticks\":\"\"}},\"title\":{\"x\":0.05},\"updatemenudefaults\":{\"bgcolor\":\"#506784\",\"borderwidth\":0},\"xaxis\":{\"automargin\":true,\"gridcolor\":\"#283442\",\"linecolor\":\"#506784\",\"ticks\":\"\",\"title\":{\"standoff\":15},\"zerolinecolor\":\"#283442\",\"zerolinewidth\":2},\"yaxis\":{\"automargin\":true,\"gridcolor\":\"#283442\",\"linecolor\":\"#506784\",\"ticks\":\"\",\"title\":{\"standoff\":15},\"zerolinecolor\":\"#283442\",\"zerolinewidth\":2}}},\"xaxis\":{\"anchor\":\"y\",\"domain\":[0.0,1.0],\"title\":{\"text\":\"Date\"}},\"yaxis\":{\"anchor\":\"x\",\"domain\":[0.0,1.0],\"title\":{\"text\":\"AAPL.High\"}},\"legend\":{\"tracegroupgap\":0},\"title\":{\"text\":\"AAPL High Prices\"},\"boxmode\":\"group\"},                        {\"responsive\": true}                    ).then(function(){\n",
       "                            \n",
       "var gd = document.getElementById('48efa194-c492-4408-b21e-4b9ac57c845b');\n",
       "var x = new MutationObserver(function (mutations, observer) {{\n",
       "        var display = window.getComputedStyle(gd).display;\n",
       "        if (!display || display === 'none') {{\n",
       "            console.log([gd, 'removed!']);\n",
       "            Plotly.purge(gd);\n",
       "            observer.disconnect();\n",
       "        }}\n",
       "}});\n",
       "\n",
       "// Listen for the removal of the full notebook cells\n",
       "var notebookContainer = gd.closest('#notebook-container');\n",
       "if (notebookContainer) {{\n",
       "    x.observe(notebookContainer, {childList: true});\n",
       "}}\n",
       "\n",
       "// Listen for the clearing of the current output cell\n",
       "var outputEl = gd.closest('.output');\n",
       "if (outputEl) {{\n",
       "    x.observe(outputEl, {childList: true});\n",
       "}}\n",
       "\n",
       "                        })                };            </script>        </div>"
      ]
     },
     "metadata": {},
     "output_type": "display_data"
    }
   ],
   "source": [
    "# 01. Importar:\n",
    "#     Bibliotecas: matplotlib, numpy\n",
    "#     Módulos: pyplot\n",
    "import cufflinks as cf\n",
    "import plotly.offline as pyo\n",
    "import plotly.graph_objs as go\n",
    "import pandas as pd\n",
    "import plotly.express as px\n",
    "\n",
    "# Load sample data\n",
    "df = pd.read_csv('https://raw.githubusercontent.com/plotly/datasets/master/finance-charts-apple.csv')\n",
    "\n",
    "# Create line plot with Cufflinks and Plotly\n",
    "fig = px.box(df, x='Date', y='AAPL.High', title='AAPL High Prices' , template='plotly_dark')\n",
    "fig.show()\n"
   ]
  },
  {
   "cell_type": "markdown",
   "id": "d3157dac",
   "metadata": {},
   "source": [
    "#############################################\n",
    "# Templates\n",
    "#############################################\n",
    "https://plotly.com/python/templates/\n",
    "https://plotly.com/python/styling-plotly-express/\n",
    "Templates configuration\n",
    "-----------------------\n",
    "    Default template: 'plotly'\n",
    "    Available templates:\n",
    "        ['ggplot2', 'seaborn', 'simple_white', 'plotly',\n",
    "         'plotly_white', 'plotly_dark', 'presentation', 'xgridoff',\n",
    "         'ygridoff', 'gridon', 'none']\n"
   ]
  },
  {
   "cell_type": "markdown",
   "id": "54d840fc",
   "metadata": {},
   "source": [
    "################################\n",
    "# Cell 14:\n",
    "################################\n",
    "\n",
    "<h2>  Exemplo 06 - Box Plot and Area Plot  </h2>\n",
    "\n",
    "\n",
    "<h2 style=\"background-color:orange;color:white;padding-top:10px;text-align:center;font-weight:bold;font-style:italic;font-size:1cm;padding-bottom:20px;\"> Exemplo 05 - Box Plot and Area Plot    </h2>"
   ]
  },
  {
   "cell_type": "markdown",
   "id": "8ac80ca6",
   "metadata": {},
   "source": [
    "################################\n",
    "# Cell 15:\n",
    "################################\n"
   ]
  },
  {
   "cell_type": "code",
   "execution_count": 10,
   "id": "7d76791a",
   "metadata": {},
   "outputs": [
    {
     "data": {
      "application/vnd.plotly.v1+json": {
       "config": {
        "plotlyServerURL": "https://plot.ly"
       },
       "data": [
        {
         "alignmentgroup": "True",
         "hovertemplate": "Date=%{x}<br>AAPL.High=%{y}<extra></extra>",
         "legendgroup": "",
         "marker": {
          "color": "yellow"
         },
         "name": "",
         "notched": false,
         "offsetgroup": "",
         "orientation": "v",
         "showlegend": false,
         "type": "box",
         "x": [
          "2015-02-17",
          "2015-02-18",
          "2015-02-19",
          "2015-02-20",
          "2015-02-23",
          "2015-02-24",
          "2015-02-25",
          "2015-02-26",
          "2015-02-27",
          "2015-03-02",
          "2015-03-03",
          "2015-03-04",
          "2015-03-05",
          "2015-03-06",
          "2015-03-09",
          "2015-03-10",
          "2015-03-11",
          "2015-03-12",
          "2015-03-13",
          "2015-03-16",
          "2015-03-17",
          "2015-03-18",
          "2015-03-19",
          "2015-03-20",
          "2015-03-23",
          "2015-03-24",
          "2015-03-25",
          "2015-03-26",
          "2015-03-27",
          "2015-03-30",
          "2015-03-31",
          "2015-04-01",
          "2015-04-02",
          "2015-04-06",
          "2015-04-07",
          "2015-04-08",
          "2015-04-09",
          "2015-04-10",
          "2015-04-13",
          "2015-04-14",
          "2015-04-15",
          "2015-04-16",
          "2015-04-17",
          "2015-04-20",
          "2015-04-21",
          "2015-04-22",
          "2015-04-23",
          "2015-04-24",
          "2015-04-27",
          "2015-04-28",
          "2015-04-29",
          "2015-04-30",
          "2015-05-01",
          "2015-05-04",
          "2015-05-05",
          "2015-05-06",
          "2015-05-07",
          "2015-05-08",
          "2015-05-11",
          "2015-05-12",
          "2015-05-13",
          "2015-05-14",
          "2015-05-15",
          "2015-05-18",
          "2015-05-19",
          "2015-05-20",
          "2015-05-21",
          "2015-05-22",
          "2015-05-26",
          "2015-05-27",
          "2015-05-28",
          "2015-05-29",
          "2015-06-01",
          "2015-06-02",
          "2015-06-03",
          "2015-06-04",
          "2015-06-05",
          "2015-06-08",
          "2015-06-09",
          "2015-06-10",
          "2015-06-11",
          "2015-06-12",
          "2015-06-15",
          "2015-06-16",
          "2015-06-17",
          "2015-06-18",
          "2015-06-19",
          "2015-06-22",
          "2015-06-23",
          "2015-06-24",
          "2015-06-25",
          "2015-06-26",
          "2015-06-29",
          "2015-06-30",
          "2015-07-01",
          "2015-07-02",
          "2015-07-06",
          "2015-07-07",
          "2015-07-08",
          "2015-07-09",
          "2015-07-10",
          "2015-07-13",
          "2015-07-14",
          "2015-07-15",
          "2015-07-16",
          "2015-07-17",
          "2015-07-20",
          "2015-07-21",
          "2015-07-22",
          "2015-07-23",
          "2015-07-24",
          "2015-07-27",
          "2015-07-28",
          "2015-07-29",
          "2015-07-30",
          "2015-07-31",
          "2015-08-03",
          "2015-08-04",
          "2015-08-05",
          "2015-08-06",
          "2015-08-07",
          "2015-08-10",
          "2015-08-11",
          "2015-08-12",
          "2015-08-13",
          "2015-08-14",
          "2015-08-17",
          "2015-08-18",
          "2015-08-19",
          "2015-08-20",
          "2015-08-21",
          "2015-08-24",
          "2015-08-25",
          "2015-08-26",
          "2015-08-27",
          "2015-08-28",
          "2015-08-31",
          "2015-09-01",
          "2015-09-02",
          "2015-09-03",
          "2015-09-04",
          "2015-09-08",
          "2015-09-09",
          "2015-09-10",
          "2015-09-11",
          "2015-09-14",
          "2015-09-15",
          "2015-09-16",
          "2015-09-17",
          "2015-09-18",
          "2015-09-21",
          "2015-09-22",
          "2015-09-23",
          "2015-09-24",
          "2015-09-25",
          "2015-09-28",
          "2015-09-29",
          "2015-09-30",
          "2015-10-01",
          "2015-10-02",
          "2015-10-05",
          "2015-10-06",
          "2015-10-07",
          "2015-10-08",
          "2015-10-09",
          "2015-10-12",
          "2015-10-13",
          "2015-10-14",
          "2015-10-15",
          "2015-10-16",
          "2015-10-19",
          "2015-10-20",
          "2015-10-21",
          "2015-10-22",
          "2015-10-23",
          "2015-10-26",
          "2015-10-27",
          "2015-10-28",
          "2015-10-29",
          "2015-10-30",
          "2015-11-02",
          "2015-11-03",
          "2015-11-04",
          "2015-11-05",
          "2015-11-06",
          "2015-11-09",
          "2015-11-10",
          "2015-11-11",
          "2015-11-12",
          "2015-11-13",
          "2015-11-16",
          "2015-11-17",
          "2015-11-18",
          "2015-11-19",
          "2015-11-20",
          "2015-11-23",
          "2015-11-24",
          "2015-11-25",
          "2015-11-27",
          "2015-11-30",
          "2015-12-01",
          "2015-12-02",
          "2015-12-03",
          "2015-12-04",
          "2015-12-07",
          "2015-12-08",
          "2015-12-09",
          "2015-12-10",
          "2015-12-11",
          "2015-12-14",
          "2015-12-15",
          "2015-12-16",
          "2015-12-17",
          "2015-12-18",
          "2015-12-21",
          "2015-12-22",
          "2015-12-23",
          "2015-12-24",
          "2015-12-28",
          "2015-12-29",
          "2015-12-30",
          "2015-12-31",
          "2016-01-04",
          "2016-01-05",
          "2016-01-06",
          "2016-01-07",
          "2016-01-08",
          "2016-01-11",
          "2016-01-12",
          "2016-01-13",
          "2016-01-14",
          "2016-01-15",
          "2016-01-19",
          "2016-01-20",
          "2016-01-21",
          "2016-01-22",
          "2016-01-25",
          "2016-01-26",
          "2016-01-27",
          "2016-01-28",
          "2016-01-29",
          "2016-02-01",
          "2016-02-02",
          "2016-02-03",
          "2016-02-04",
          "2016-02-05",
          "2016-02-08",
          "2016-02-09",
          "2016-02-10",
          "2016-02-11",
          "2016-02-12",
          "2016-02-16",
          "2016-02-17",
          "2016-02-18",
          "2016-02-19",
          "2016-02-22",
          "2016-02-23",
          "2016-02-24",
          "2016-02-25",
          "2016-02-26",
          "2016-02-29",
          "2016-03-01",
          "2016-03-02",
          "2016-03-03",
          "2016-03-04",
          "2016-03-07",
          "2016-03-08",
          "2016-03-09",
          "2016-03-10",
          "2016-03-11",
          "2016-03-14",
          "2016-03-15",
          "2016-03-16",
          "2016-03-17",
          "2016-03-18",
          "2016-03-21",
          "2016-03-22",
          "2016-03-23",
          "2016-03-24",
          "2016-03-28",
          "2016-03-29",
          "2016-03-30",
          "2016-03-31",
          "2016-04-01",
          "2016-04-04",
          "2016-04-05",
          "2016-04-06",
          "2016-04-07",
          "2016-04-08",
          "2016-04-11",
          "2016-04-12",
          "2016-04-13",
          "2016-04-14",
          "2016-04-15",
          "2016-04-18",
          "2016-04-19",
          "2016-04-20",
          "2016-04-21",
          "2016-04-22",
          "2016-04-25",
          "2016-04-26",
          "2016-04-27",
          "2016-04-28",
          "2016-04-29",
          "2016-05-02",
          "2016-05-03",
          "2016-05-04",
          "2016-05-05",
          "2016-05-06",
          "2016-05-09",
          "2016-05-10",
          "2016-05-11",
          "2016-05-12",
          "2016-05-13",
          "2016-05-16",
          "2016-05-17",
          "2016-05-18",
          "2016-05-19",
          "2016-05-20",
          "2016-05-23",
          "2016-05-24",
          "2016-05-25",
          "2016-05-26",
          "2016-05-27",
          "2016-05-31",
          "2016-06-01",
          "2016-06-02",
          "2016-06-03",
          "2016-06-06",
          "2016-06-07",
          "2016-06-08",
          "2016-06-09",
          "2016-06-10",
          "2016-06-13",
          "2016-06-14",
          "2016-06-15",
          "2016-06-16",
          "2016-06-17",
          "2016-06-20",
          "2016-06-21",
          "2016-06-22",
          "2016-06-23",
          "2016-06-24",
          "2016-06-27",
          "2016-06-28",
          "2016-06-29",
          "2016-06-30",
          "2016-07-01",
          "2016-07-05",
          "2016-07-06",
          "2016-07-07",
          "2016-07-08",
          "2016-07-11",
          "2016-07-12",
          "2016-07-13",
          "2016-07-14",
          "2016-07-15",
          "2016-07-18",
          "2016-07-19",
          "2016-07-20",
          "2016-07-21",
          "2016-07-22",
          "2016-07-25",
          "2016-07-26",
          "2016-07-27",
          "2016-07-28",
          "2016-07-29",
          "2016-08-01",
          "2016-08-02",
          "2016-08-03",
          "2016-08-04",
          "2016-08-05",
          "2016-08-08",
          "2016-08-09",
          "2016-08-10",
          "2016-08-11",
          "2016-08-12",
          "2016-08-15",
          "2016-08-16",
          "2016-08-17",
          "2016-08-18",
          "2016-08-19",
          "2016-08-22",
          "2016-08-23",
          "2016-08-24",
          "2016-08-25",
          "2016-08-26",
          "2016-08-29",
          "2016-08-30",
          "2016-08-31",
          "2016-09-01",
          "2016-09-02",
          "2016-09-06",
          "2016-09-07",
          "2016-09-08",
          "2016-09-09",
          "2016-09-12",
          "2016-09-13",
          "2016-09-14",
          "2016-09-15",
          "2016-09-16",
          "2016-09-19",
          "2016-09-20",
          "2016-09-21",
          "2016-09-22",
          "2016-09-23",
          "2016-09-26",
          "2016-09-27",
          "2016-09-28",
          "2016-09-29",
          "2016-09-30",
          "2016-10-03",
          "2016-10-04",
          "2016-10-05",
          "2016-10-06",
          "2016-10-07",
          "2016-10-10",
          "2016-10-11",
          "2016-10-12",
          "2016-10-13",
          "2016-10-14",
          "2016-10-17",
          "2016-10-18",
          "2016-10-19",
          "2016-10-20",
          "2016-10-21",
          "2016-10-24",
          "2016-10-25",
          "2016-10-26",
          "2016-10-27",
          "2016-10-28",
          "2016-10-31",
          "2016-11-01",
          "2016-11-02",
          "2016-11-03",
          "2016-11-04",
          "2016-11-07",
          "2016-11-08",
          "2016-11-09",
          "2016-11-10",
          "2016-11-11",
          "2016-11-14",
          "2016-11-15",
          "2016-11-16",
          "2016-11-17",
          "2016-11-18",
          "2016-11-21",
          "2016-11-22",
          "2016-11-23",
          "2016-11-25",
          "2016-11-28",
          "2016-11-29",
          "2016-11-30",
          "2016-12-01",
          "2016-12-02",
          "2016-12-05",
          "2016-12-06",
          "2016-12-07",
          "2016-12-08",
          "2016-12-09",
          "2016-12-12",
          "2016-12-13",
          "2016-12-14",
          "2016-12-15",
          "2016-12-16",
          "2016-12-19",
          "2016-12-20",
          "2016-12-21",
          "2016-12-22",
          "2016-12-23",
          "2016-12-27",
          "2016-12-28",
          "2016-12-29",
          "2016-12-30",
          "2017-01-03",
          "2017-01-04",
          "2017-01-05",
          "2017-01-06",
          "2017-01-09",
          "2017-01-10",
          "2017-01-11",
          "2017-01-12",
          "2017-01-13",
          "2017-01-17",
          "2017-01-18",
          "2017-01-19",
          "2017-01-20",
          "2017-01-23",
          "2017-01-24",
          "2017-01-25",
          "2017-01-26",
          "2017-01-27",
          "2017-01-30",
          "2017-01-31",
          "2017-02-01",
          "2017-02-02",
          "2017-02-03",
          "2017-02-06",
          "2017-02-07",
          "2017-02-08",
          "2017-02-09",
          "2017-02-10",
          "2017-02-13",
          "2017-02-14",
          "2017-02-15",
          "2017-02-16"
         ],
         "x0": " ",
         "xaxis": "x",
         "y": {
          "bdata": "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",
          "dtype": "f8"
         },
         "y0": " ",
         "yaxis": "y"
        }
       ],
       "layout": {
        "boxmode": "group",
        "legend": {
         "tracegroupgap": 0
        },
        "template": {
         "data": {
          "bar": [
           {
            "error_x": {
             "color": "#f2f5fa"
            },
            "error_y": {
             "color": "#f2f5fa"
            },
            "marker": {
             "line": {
              "color": "rgb(17,17,17)",
              "width": 0.5
             },
             "pattern": {
              "fillmode": "overlay",
              "size": 10,
              "solidity": 0.2
             }
            },
            "type": "bar"
           }
          ],
          "barpolar": [
           {
            "marker": {
             "line": {
              "color": "rgb(17,17,17)",
              "width": 0.5
             },
             "pattern": {
              "fillmode": "overlay",
              "size": 10,
              "solidity": 0.2
             }
            },
            "type": "barpolar"
           }
          ],
          "carpet": [
           {
            "aaxis": {
             "endlinecolor": "#A2B1C6",
             "gridcolor": "#506784",
             "linecolor": "#506784",
             "minorgridcolor": "#506784",
             "startlinecolor": "#A2B1C6"
            },
            "baxis": {
             "endlinecolor": "#A2B1C6",
             "gridcolor": "#506784",
             "linecolor": "#506784",
             "minorgridcolor": "#506784",
             "startlinecolor": "#A2B1C6"
            },
            "type": "carpet"
           }
          ],
          "choropleth": [
           {
            "colorbar": {
             "outlinewidth": 0,
             "ticks": ""
            },
            "type": "choropleth"
           }
          ],
          "contour": [
           {
            "colorbar": {
             "outlinewidth": 0,
             "ticks": ""
            },
            "colorscale": [
             [
              0,
              "#0d0887"
             ],
             [
              0.1111111111111111,
              "#46039f"
             ],
             [
              0.2222222222222222,
              "#7201a8"
             ],
             [
              0.3333333333333333,
              "#9c179e"
             ],
             [
              0.4444444444444444,
              "#bd3786"
             ],
             [
              0.5555555555555556,
              "#d8576b"
             ],
             [
              0.6666666666666666,
              "#ed7953"
             ],
             [
              0.7777777777777778,
              "#fb9f3a"
             ],
             [
              0.8888888888888888,
              "#fdca26"
             ],
             [
              1,
              "#f0f921"
             ]
            ],
            "type": "contour"
           }
          ],
          "contourcarpet": [
           {
            "colorbar": {
             "outlinewidth": 0,
             "ticks": ""
            },
            "type": "contourcarpet"
           }
          ],
          "heatmap": [
           {
            "colorbar": {
             "outlinewidth": 0,
             "ticks": ""
            },
            "colorscale": [
             [
              0,
              "#0d0887"
             ],
             [
              0.1111111111111111,
              "#46039f"
             ],
             [
              0.2222222222222222,
              "#7201a8"
             ],
             [
              0.3333333333333333,
              "#9c179e"
             ],
             [
              0.4444444444444444,
              "#bd3786"
             ],
             [
              0.5555555555555556,
              "#d8576b"
             ],
             [
              0.6666666666666666,
              "#ed7953"
             ],
             [
              0.7777777777777778,
              "#fb9f3a"
             ],
             [
              0.8888888888888888,
              "#fdca26"
             ],
             [
              1,
              "#f0f921"
             ]
            ],
            "type": "heatmap"
           }
          ],
          "histogram": [
           {
            "marker": {
             "pattern": {
              "fillmode": "overlay",
              "size": 10,
              "solidity": 0.2
             }
            },
            "type": "histogram"
           }
          ],
          "histogram2d": [
           {
            "colorbar": {
             "outlinewidth": 0,
             "ticks": ""
            },
            "colorscale": [
             [
              0,
              "#0d0887"
             ],
             [
              0.1111111111111111,
              "#46039f"
             ],
             [
              0.2222222222222222,
              "#7201a8"
             ],
             [
              0.3333333333333333,
              "#9c179e"
             ],
             [
              0.4444444444444444,
              "#bd3786"
             ],
             [
              0.5555555555555556,
              "#d8576b"
             ],
             [
              0.6666666666666666,
              "#ed7953"
             ],
             [
              0.7777777777777778,
              "#fb9f3a"
             ],
             [
              0.8888888888888888,
              "#fdca26"
             ],
             [
              1,
              "#f0f921"
             ]
            ],
            "type": "histogram2d"
           }
          ],
          "histogram2dcontour": [
           {
            "colorbar": {
             "outlinewidth": 0,
             "ticks": ""
            },
            "colorscale": [
             [
              0,
              "#0d0887"
             ],
             [
              0.1111111111111111,
              "#46039f"
             ],
             [
              0.2222222222222222,
              "#7201a8"
             ],
             [
              0.3333333333333333,
              "#9c179e"
             ],
             [
              0.4444444444444444,
              "#bd3786"
             ],
             [
              0.5555555555555556,
              "#d8576b"
             ],
             [
              0.6666666666666666,
              "#ed7953"
             ],
             [
              0.7777777777777778,
              "#fb9f3a"
             ],
             [
              0.8888888888888888,
              "#fdca26"
             ],
             [
              1,
              "#f0f921"
             ]
            ],
            "type": "histogram2dcontour"
           }
          ],
          "mesh3d": [
           {
            "colorbar": {
             "outlinewidth": 0,
             "ticks": ""
            },
            "type": "mesh3d"
           }
          ],
          "parcoords": [
           {
            "line": {
             "colorbar": {
              "outlinewidth": 0,
              "ticks": ""
             }
            },
            "type": "parcoords"
           }
          ],
          "pie": [
           {
            "automargin": true,
            "type": "pie"
           }
          ],
          "scatter": [
           {
            "marker": {
             "line": {
              "color": "#283442"
             }
            },
            "type": "scatter"
           }
          ],
          "scatter3d": [
           {
            "line": {
             "colorbar": {
              "outlinewidth": 0,
              "ticks": ""
             }
            },
            "marker": {
             "colorbar": {
              "outlinewidth": 0,
              "ticks": ""
             }
            },
            "type": "scatter3d"
           }
          ],
          "scattercarpet": [
           {
            "marker": {
             "colorbar": {
              "outlinewidth": 0,
              "ticks": ""
             }
            },
            "type": "scattercarpet"
           }
          ],
          "scattergeo": [
           {
            "marker": {
             "colorbar": {
              "outlinewidth": 0,
              "ticks": ""
             }
            },
            "type": "scattergeo"
           }
          ],
          "scattergl": [
           {
            "marker": {
             "line": {
              "color": "#283442"
             }
            },
            "type": "scattergl"
           }
          ],
          "scattermap": [
           {
            "marker": {
             "colorbar": {
              "outlinewidth": 0,
              "ticks": ""
             }
            },
            "type": "scattermap"
           }
          ],
          "scattermapbox": [
           {
            "marker": {
             "colorbar": {
              "outlinewidth": 0,
              "ticks": ""
             }
            },
            "type": "scattermapbox"
           }
          ],
          "scatterpolar": [
           {
            "marker": {
             "colorbar": {
              "outlinewidth": 0,
              "ticks": ""
             }
            },
            "type": "scatterpolar"
           }
          ],
          "scatterpolargl": [
           {
            "marker": {
             "colorbar": {
              "outlinewidth": 0,
              "ticks": ""
             }
            },
            "type": "scatterpolargl"
           }
          ],
          "scatterternary": [
           {
            "marker": {
             "colorbar": {
              "outlinewidth": 0,
              "ticks": ""
             }
            },
            "type": "scatterternary"
           }
          ],
          "surface": [
           {
            "colorbar": {
             "outlinewidth": 0,
             "ticks": ""
            },
            "colorscale": [
             [
              0,
              "#0d0887"
             ],
             [
              0.1111111111111111,
              "#46039f"
             ],
             [
              0.2222222222222222,
              "#7201a8"
             ],
             [
              0.3333333333333333,
              "#9c179e"
             ],
             [
              0.4444444444444444,
              "#bd3786"
             ],
             [
              0.5555555555555556,
              "#d8576b"
             ],
             [
              0.6666666666666666,
              "#ed7953"
             ],
             [
              0.7777777777777778,
              "#fb9f3a"
             ],
             [
              0.8888888888888888,
              "#fdca26"
             ],
             [
              1,
              "#f0f921"
             ]
            ],
            "type": "surface"
           }
          ],
          "table": [
           {
            "cells": {
             "fill": {
              "color": "#506784"
             },
             "line": {
              "color": "rgb(17,17,17)"
             }
            },
            "header": {
             "fill": {
              "color": "#2a3f5f"
             },
             "line": {
              "color": "rgb(17,17,17)"
             }
            },
            "type": "table"
           }
          ]
         },
         "layout": {
          "annotationdefaults": {
           "arrowcolor": "#f2f5fa",
           "arrowhead": 0,
           "arrowwidth": 1
          },
          "autotypenumbers": "strict",
          "coloraxis": {
           "colorbar": {
            "outlinewidth": 0,
            "ticks": ""
           }
          },
          "colorscale": {
           "diverging": [
            [
             0,
             "#8e0152"
            ],
            [
             0.1,
             "#c51b7d"
            ],
            [
             0.2,
             "#de77ae"
            ],
            [
             0.3,
             "#f1b6da"
            ],
            [
             0.4,
             "#fde0ef"
            ],
            [
             0.5,
             "#f7f7f7"
            ],
            [
             0.6,
             "#e6f5d0"
            ],
            [
             0.7,
             "#b8e186"
            ],
            [
             0.8,
             "#7fbc41"
            ],
            [
             0.9,
             "#4d9221"
            ],
            [
             1,
             "#276419"
            ]
           ],
           "sequential": [
            [
             0,
             "#0d0887"
            ],
            [
             0.1111111111111111,
             "#46039f"
            ],
            [
             0.2222222222222222,
             "#7201a8"
            ],
            [
             0.3333333333333333,
             "#9c179e"
            ],
            [
             0.4444444444444444,
             "#bd3786"
            ],
            [
             0.5555555555555556,
             "#d8576b"
            ],
            [
             0.6666666666666666,
             "#ed7953"
            ],
            [
             0.7777777777777778,
             "#fb9f3a"
            ],
            [
             0.8888888888888888,
             "#fdca26"
            ],
            [
             1,
             "#f0f921"
            ]
           ],
           "sequentialminus": [
            [
             0,
             "#0d0887"
            ],
            [
             0.1111111111111111,
             "#46039f"
            ],
            [
             0.2222222222222222,
             "#7201a8"
            ],
            [
             0.3333333333333333,
             "#9c179e"
            ],
            [
             0.4444444444444444,
             "#bd3786"
            ],
            [
             0.5555555555555556,
             "#d8576b"
            ],
            [
             0.6666666666666666,
             "#ed7953"
            ],
            [
             0.7777777777777778,
             "#fb9f3a"
            ],
            [
             0.8888888888888888,
             "#fdca26"
            ],
            [
             1,
             "#f0f921"
            ]
           ]
          },
          "colorway": [
           "#636efa",
           "#EF553B",
           "#00cc96",
           "#ab63fa",
           "#FFA15A",
           "#19d3f3",
           "#FF6692",
           "#B6E880",
           "#FF97FF",
           "#FECB52"
          ],
          "font": {
           "color": "#f2f5fa"
          },
          "geo": {
           "bgcolor": "rgb(17,17,17)",
           "lakecolor": "rgb(17,17,17)",
           "landcolor": "rgb(17,17,17)",
           "showlakes": true,
           "showland": true,
           "subunitcolor": "#506784"
          },
          "hoverlabel": {
           "align": "left"
          },
          "hovermode": "closest",
          "mapbox": {
           "style": "dark"
          },
          "paper_bgcolor": "rgb(17,17,17)",
          "plot_bgcolor": "rgb(17,17,17)",
          "polar": {
           "angularaxis": {
            "gridcolor": "#506784",
            "linecolor": "#506784",
            "ticks": ""
           },
           "bgcolor": "rgb(17,17,17)",
           "radialaxis": {
            "gridcolor": "#506784",
            "linecolor": "#506784",
            "ticks": ""
           }
          },
          "scene": {
           "xaxis": {
            "backgroundcolor": "rgb(17,17,17)",
            "gridcolor": "#506784",
            "gridwidth": 2,
            "linecolor": "#506784",
            "showbackground": true,
            "ticks": "",
            "zerolinecolor": "#C8D4E3"
           },
           "yaxis": {
            "backgroundcolor": "rgb(17,17,17)",
            "gridcolor": "#506784",
            "gridwidth": 2,
            "linecolor": "#506784",
            "showbackground": true,
            "ticks": "",
            "zerolinecolor": "#C8D4E3"
           },
           "zaxis": {
            "backgroundcolor": "rgb(17,17,17)",
            "gridcolor": "#506784",
            "gridwidth": 2,
            "linecolor": "#506784",
            "showbackground": true,
            "ticks": "",
            "zerolinecolor": "#C8D4E3"
           }
          },
          "shapedefaults": {
           "line": {
            "color": "#f2f5fa"
           }
          },
          "sliderdefaults": {
           "bgcolor": "#C8D4E3",
           "bordercolor": "rgb(17,17,17)",
           "borderwidth": 1,
           "tickwidth": 0
          },
          "ternary": {
           "aaxis": {
            "gridcolor": "#506784",
            "linecolor": "#506784",
            "ticks": ""
           },
           "baxis": {
            "gridcolor": "#506784",
            "linecolor": "#506784",
            "ticks": ""
           },
           "bgcolor": "rgb(17,17,17)",
           "caxis": {
            "gridcolor": "#506784",
            "linecolor": "#506784",
            "ticks": ""
           }
          },
          "title": {
           "x": 0.05
          },
          "updatemenudefaults": {
           "bgcolor": "#506784",
           "borderwidth": 0
          },
          "xaxis": {
           "automargin": true,
           "gridcolor": "#283442",
           "linecolor": "#506784",
           "ticks": "",
           "title": {
            "standoff": 15
           },
           "zerolinecolor": "#283442",
           "zerolinewidth": 2
          },
          "yaxis": {
           "automargin": true,
           "gridcolor": "#283442",
           "linecolor": "#506784",
           "ticks": "",
           "title": {
            "standoff": 15
           },
           "zerolinecolor": "#283442",
           "zerolinewidth": 2
          }
         }
        },
        "title": {
         "text": "AAPL High Prices"
        },
        "xaxis": {
         "anchor": "y",
         "domain": [
          0,
          1
         ],
         "title": {
          "text": "Date"
         }
        },
        "yaxis": {
         "anchor": "x",
         "domain": [
          0,
          1
         ],
         "title": {
          "text": "AAPL.High"
         }
        }
       }
      }
     },
     "metadata": {},
     "output_type": "display_data"
    }
   ],
   "source": [
    "# 01. Importar:\n",
    "#     Bibliotecas: matplotlib, numpy\n",
    "#     Módulos: pyplot\n",
    "import cufflinks as cf\n",
    "import plotly.offline as pyo\n",
    "import plotly.graph_objs as go\n",
    "import pandas as pd\n",
    "import plotly.express as px\n",
    "\n",
    "# Load sample data\n",
    "df = pd.read_csv('https://raw.githubusercontent.com/plotly/datasets/master/finance-charts-apple.csv')\n",
    "\n",
    "# Create line plot with Cufflinks and Plotly\n",
    "fig = px.box(df, x='Date', y='AAPL.High', title='AAPL High Prices' , color_discrete_sequence = ['yellow', 'cyan', 'white', 'orange'], template='plotly_dark')\n",
    "fig.show()\n"
   ]
  },
  {
   "cell_type": "markdown",
   "id": "9c0dd3ac",
   "metadata": {},
   "source": [
    "################################\n",
    "# Cell 16:\n",
    "################################\n",
    "\n",
    "<h2>  Exemplo 07 - Box Plot and Area Plot II </h2>\n",
    "\n",
    "<h2 style=\"background-color:orange;color:white;padding-top:10px;text-align:center;font-weight:bold;font-style:italic;font-size:1cm;padding-bottom:20px;\"> Exemplo 07 - Box Plot and Area Plot II  </h2>\n",
    "\n",
    "\n",
    " Markdown\n",
    " SHIFT + ENTER"
   ]
  },
  {
   "cell_type": "markdown",
   "id": "0774fef1",
   "metadata": {},
   "source": [
    "################################\n",
    "# Cell 17:\n",
    "################################"
   ]
  },
  {
   "cell_type": "code",
   "execution_count": 8,
   "id": "262f233d",
   "metadata": {},
   "outputs": [
    {
     "data": {
      "application/vnd.plotly.v1+json": {
       "config": {
        "plotlyServerURL": "https://plot.ly"
       },
       "data": [
        {
         "fillpattern": {
          "shape": ""
         },
         "hovertemplate": "Date=%{x}<br>AAPL.High=%{y}<extra></extra>",
         "legendgroup": "",
         "line": {
          "color": "#636efa"
         },
         "marker": {
          "symbol": "circle"
         },
         "mode": "lines",
         "name": "",
         "orientation": "v",
         "showlegend": false,
         "stackgroup": "1",
         "type": "scatter",
         "x": [
          "2015-02-17",
          "2015-02-18",
          "2015-02-19",
          "2015-02-20",
          "2015-02-23",
          "2015-02-24",
          "2015-02-25",
          "2015-02-26",
          "2015-02-27",
          "2015-03-02",
          "2015-03-03",
          "2015-03-04",
          "2015-03-05",
          "2015-03-06",
          "2015-03-09",
          "2015-03-10",
          "2015-03-11",
          "2015-03-12",
          "2015-03-13",
          "2015-03-16",
          "2015-03-17",
          "2015-03-18",
          "2015-03-19",
          "2015-03-20",
          "2015-03-23",
          "2015-03-24",
          "2015-03-25",
          "2015-03-26",
          "2015-03-27",
          "2015-03-30",
          "2015-03-31",
          "2015-04-01",
          "2015-04-02",
          "2015-04-06",
          "2015-04-07",
          "2015-04-08",
          "2015-04-09",
          "2015-04-10",
          "2015-04-13",
          "2015-04-14",
          "2015-04-15",
          "2015-04-16",
          "2015-04-17",
          "2015-04-20",
          "2015-04-21",
          "2015-04-22",
          "2015-04-23",
          "2015-04-24",
          "2015-04-27",
          "2015-04-28",
          "2015-04-29",
          "2015-04-30",
          "2015-05-01",
          "2015-05-04",
          "2015-05-05",
          "2015-05-06",
          "2015-05-07",
          "2015-05-08",
          "2015-05-11",
          "2015-05-12",
          "2015-05-13",
          "2015-05-14",
          "2015-05-15",
          "2015-05-18",
          "2015-05-19",
          "2015-05-20",
          "2015-05-21",
          "2015-05-22",
          "2015-05-26",
          "2015-05-27",
          "2015-05-28",
          "2015-05-29",
          "2015-06-01",
          "2015-06-02",
          "2015-06-03",
          "2015-06-04",
          "2015-06-05",
          "2015-06-08",
          "2015-06-09",
          "2015-06-10",
          "2015-06-11",
          "2015-06-12",
          "2015-06-15",
          "2015-06-16",
          "2015-06-17",
          "2015-06-18",
          "2015-06-19",
          "2015-06-22",
          "2015-06-23",
          "2015-06-24",
          "2015-06-25",
          "2015-06-26",
          "2015-06-29",
          "2015-06-30",
          "2015-07-01",
          "2015-07-02",
          "2015-07-06",
          "2015-07-07",
          "2015-07-08",
          "2015-07-09",
          "2015-07-10",
          "2015-07-13",
          "2015-07-14",
          "2015-07-15",
          "2015-07-16",
          "2015-07-17",
          "2015-07-20",
          "2015-07-21",
          "2015-07-22",
          "2015-07-23",
          "2015-07-24",
          "2015-07-27",
          "2015-07-28",
          "2015-07-29",
          "2015-07-30",
          "2015-07-31",
          "2015-08-03",
          "2015-08-04",
          "2015-08-05",
          "2015-08-06",
          "2015-08-07",
          "2015-08-10",
          "2015-08-11",
          "2015-08-12",
          "2015-08-13",
          "2015-08-14",
          "2015-08-17",
          "2015-08-18",
          "2015-08-19",
          "2015-08-20",
          "2015-08-21",
          "2015-08-24",
          "2015-08-25",
          "2015-08-26",
          "2015-08-27",
          "2015-08-28",
          "2015-08-31",
          "2015-09-01",
          "2015-09-02",
          "2015-09-03",
          "2015-09-04",
          "2015-09-08",
          "2015-09-09",
          "2015-09-10",
          "2015-09-11",
          "2015-09-14",
          "2015-09-15",
          "2015-09-16",
          "2015-09-17",
          "2015-09-18",
          "2015-09-21",
          "2015-09-22",
          "2015-09-23",
          "2015-09-24",
          "2015-09-25",
          "2015-09-28",
          "2015-09-29",
          "2015-09-30",
          "2015-10-01",
          "2015-10-02",
          "2015-10-05",
          "2015-10-06",
          "2015-10-07",
          "2015-10-08",
          "2015-10-09",
          "2015-10-12",
          "2015-10-13",
          "2015-10-14",
          "2015-10-15",
          "2015-10-16",
          "2015-10-19",
          "2015-10-20",
          "2015-10-21",
          "2015-10-22",
          "2015-10-23",
          "2015-10-26",
          "2015-10-27",
          "2015-10-28",
          "2015-10-29",
          "2015-10-30",
          "2015-11-02",
          "2015-11-03",
          "2015-11-04",
          "2015-11-05",
          "2015-11-06",
          "2015-11-09",
          "2015-11-10",
          "2015-11-11",
          "2015-11-12",
          "2015-11-13",
          "2015-11-16",
          "2015-11-17",
          "2015-11-18",
          "2015-11-19",
          "2015-11-20",
          "2015-11-23",
          "2015-11-24",
          "2015-11-25",
          "2015-11-27",
          "2015-11-30",
          "2015-12-01",
          "2015-12-02",
          "2015-12-03",
          "2015-12-04",
          "2015-12-07",
          "2015-12-08",
          "2015-12-09",
          "2015-12-10",
          "2015-12-11",
          "2015-12-14",
          "2015-12-15",
          "2015-12-16",
          "2015-12-17",
          "2015-12-18",
          "2015-12-21",
          "2015-12-22",
          "2015-12-23",
          "2015-12-24",
          "2015-12-28",
          "2015-12-29",
          "2015-12-30",
          "2015-12-31",
          "2016-01-04",
          "2016-01-05",
          "2016-01-06",
          "2016-01-07",
          "2016-01-08",
          "2016-01-11",
          "2016-01-12",
          "2016-01-13",
          "2016-01-14",
          "2016-01-15",
          "2016-01-19",
          "2016-01-20",
          "2016-01-21",
          "2016-01-22",
          "2016-01-25",
          "2016-01-26",
          "2016-01-27",
          "2016-01-28",
          "2016-01-29",
          "2016-02-01",
          "2016-02-02",
          "2016-02-03",
          "2016-02-04",
          "2016-02-05",
          "2016-02-08",
          "2016-02-09",
          "2016-02-10",
          "2016-02-11",
          "2016-02-12",
          "2016-02-16",
          "2016-02-17",
          "2016-02-18",
          "2016-02-19",
          "2016-02-22",
          "2016-02-23",
          "2016-02-24",
          "2016-02-25",
          "2016-02-26",
          "2016-02-29",
          "2016-03-01",
          "2016-03-02",
          "2016-03-03",
          "2016-03-04",
          "2016-03-07",
          "2016-03-08",
          "2016-03-09",
          "2016-03-10",
          "2016-03-11",
          "2016-03-14",
          "2016-03-15",
          "2016-03-16",
          "2016-03-17",
          "2016-03-18",
          "2016-03-21",
          "2016-03-22",
          "2016-03-23",
          "2016-03-24",
          "2016-03-28",
          "2016-03-29",
          "2016-03-30",
          "2016-03-31",
          "2016-04-01",
          "2016-04-04",
          "2016-04-05",
          "2016-04-06",
          "2016-04-07",
          "2016-04-08",
          "2016-04-11",
          "2016-04-12",
          "2016-04-13",
          "2016-04-14",
          "2016-04-15",
          "2016-04-18",
          "2016-04-19",
          "2016-04-20",
          "2016-04-21",
          "2016-04-22",
          "2016-04-25",
          "2016-04-26",
          "2016-04-27",
          "2016-04-28",
          "2016-04-29",
          "2016-05-02",
          "2016-05-03",
          "2016-05-04",
          "2016-05-05",
          "2016-05-06",
          "2016-05-09",
          "2016-05-10",
          "2016-05-11",
          "2016-05-12",
          "2016-05-13",
          "2016-05-16",
          "2016-05-17",
          "2016-05-18",
          "2016-05-19",
          "2016-05-20",
          "2016-05-23",
          "2016-05-24",
          "2016-05-25",
          "2016-05-26",
          "2016-05-27",
          "2016-05-31",
          "2016-06-01",
          "2016-06-02",
          "2016-06-03",
          "2016-06-06",
          "2016-06-07",
          "2016-06-08",
          "2016-06-09",
          "2016-06-10",
          "2016-06-13",
          "2016-06-14",
          "2016-06-15",
          "2016-06-16",
          "2016-06-17",
          "2016-06-20",
          "2016-06-21",
          "2016-06-22",
          "2016-06-23",
          "2016-06-24",
          "2016-06-27",
          "2016-06-28",
          "2016-06-29",
          "2016-06-30",
          "2016-07-01",
          "2016-07-05",
          "2016-07-06",
          "2016-07-07",
          "2016-07-08",
          "2016-07-11",
          "2016-07-12",
          "2016-07-13",
          "2016-07-14",
          "2016-07-15",
          "2016-07-18",
          "2016-07-19",
          "2016-07-20",
          "2016-07-21",
          "2016-07-22",
          "2016-07-25",
          "2016-07-26",
          "2016-07-27",
          "2016-07-28",
          "2016-07-29",
          "2016-08-01",
          "2016-08-02",
          "2016-08-03",
          "2016-08-04",
          "2016-08-05",
          "2016-08-08",
          "2016-08-09",
          "2016-08-10",
          "2016-08-11",
          "2016-08-12",
          "2016-08-15",
          "2016-08-16",
          "2016-08-17",
          "2016-08-18",
          "2016-08-19",
          "2016-08-22",
          "2016-08-23",
          "2016-08-24",
          "2016-08-25",
          "2016-08-26",
          "2016-08-29",
          "2016-08-30",
          "2016-08-31",
          "2016-09-01",
          "2016-09-02",
          "2016-09-06",
          "2016-09-07",
          "2016-09-08",
          "2016-09-09",
          "2016-09-12",
          "2016-09-13",
          "2016-09-14",
          "2016-09-15",
          "2016-09-16",
          "2016-09-19",
          "2016-09-20",
          "2016-09-21",
          "2016-09-22",
          "2016-09-23",
          "2016-09-26",
          "2016-09-27",
          "2016-09-28",
          "2016-09-29",
          "2016-09-30",
          "2016-10-03",
          "2016-10-04",
          "2016-10-05",
          "2016-10-06",
          "2016-10-07",
          "2016-10-10",
          "2016-10-11",
          "2016-10-12",
          "2016-10-13",
          "2016-10-14",
          "2016-10-17",
          "2016-10-18",
          "2016-10-19",
          "2016-10-20",
          "2016-10-21",
          "2016-10-24",
          "2016-10-25",
          "2016-10-26",
          "2016-10-27",
          "2016-10-28",
          "2016-10-31",
          "2016-11-01",
          "2016-11-02",
          "2016-11-03",
          "2016-11-04",
          "2016-11-07",
          "2016-11-08",
          "2016-11-09",
          "2016-11-10",
          "2016-11-11",
          "2016-11-14",
          "2016-11-15",
          "2016-11-16",
          "2016-11-17",
          "2016-11-18",
          "2016-11-21",
          "2016-11-22",
          "2016-11-23",
          "2016-11-25",
          "2016-11-28",
          "2016-11-29",
          "2016-11-30",
          "2016-12-01",
          "2016-12-02",
          "2016-12-05",
          "2016-12-06",
          "2016-12-07",
          "2016-12-08",
          "2016-12-09",
          "2016-12-12",
          "2016-12-13",
          "2016-12-14",
          "2016-12-15",
          "2016-12-16",
          "2016-12-19",
          "2016-12-20",
          "2016-12-21",
          "2016-12-22",
          "2016-12-23",
          "2016-12-27",
          "2016-12-28",
          "2016-12-29",
          "2016-12-30",
          "2017-01-03",
          "2017-01-04",
          "2017-01-05",
          "2017-01-06",
          "2017-01-09",
          "2017-01-10",
          "2017-01-11",
          "2017-01-12",
          "2017-01-13",
          "2017-01-17",
          "2017-01-18",
          "2017-01-19",
          "2017-01-20",
          "2017-01-23",
          "2017-01-24",
          "2017-01-25",
          "2017-01-26",
          "2017-01-27",
          "2017-01-30",
          "2017-01-31",
          "2017-02-01",
          "2017-02-02",
          "2017-02-03",
          "2017-02-06",
          "2017-02-07",
          "2017-02-08",
          "2017-02-09",
          "2017-02-10",
          "2017-02-13",
          "2017-02-14",
          "2017-02-15",
          "2017-02-16"
         ],
         "xaxis": "x",
         "y": {
          "bdata": "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",
          "dtype": "f8"
         },
         "yaxis": "y"
        }
       ],
       "layout": {
        "legend": {
         "tracegroupgap": 0
        },
        "template": {
         "data": {
          "bar": [
           {
            "error_x": {
             "color": "#f2f5fa"
            },
            "error_y": {
             "color": "#f2f5fa"
            },
            "marker": {
             "line": {
              "color": "rgb(17,17,17)",
              "width": 0.5
             },
             "pattern": {
              "fillmode": "overlay",
              "size": 10,
              "solidity": 0.2
             }
            },
            "type": "bar"
           }
          ],
          "barpolar": [
           {
            "marker": {
             "line": {
              "color": "rgb(17,17,17)",
              "width": 0.5
             },
             "pattern": {
              "fillmode": "overlay",
              "size": 10,
              "solidity": 0.2
             }
            },
            "type": "barpolar"
           }
          ],
          "carpet": [
           {
            "aaxis": {
             "endlinecolor": "#A2B1C6",
             "gridcolor": "#506784",
             "linecolor": "#506784",
             "minorgridcolor": "#506784",
             "startlinecolor": "#A2B1C6"
            },
            "baxis": {
             "endlinecolor": "#A2B1C6",
             "gridcolor": "#506784",
             "linecolor": "#506784",
             "minorgridcolor": "#506784",
             "startlinecolor": "#A2B1C6"
            },
            "type": "carpet"
           }
          ],
          "choropleth": [
           {
            "colorbar": {
             "outlinewidth": 0,
             "ticks": ""
            },
            "type": "choropleth"
           }
          ],
          "contour": [
           {
            "colorbar": {
             "outlinewidth": 0,
             "ticks": ""
            },
            "colorscale": [
             [
              0,
              "#0d0887"
             ],
             [
              0.1111111111111111,
              "#46039f"
             ],
             [
              0.2222222222222222,
              "#7201a8"
             ],
             [
              0.3333333333333333,
              "#9c179e"
             ],
             [
              0.4444444444444444,
              "#bd3786"
             ],
             [
              0.5555555555555556,
              "#d8576b"
             ],
             [
              0.6666666666666666,
              "#ed7953"
             ],
             [
              0.7777777777777778,
              "#fb9f3a"
             ],
             [
              0.8888888888888888,
              "#fdca26"
             ],
             [
              1,
              "#f0f921"
             ]
            ],
            "type": "contour"
           }
          ],
          "contourcarpet": [
           {
            "colorbar": {
             "outlinewidth": 0,
             "ticks": ""
            },
            "type": "contourcarpet"
           }
          ],
          "heatmap": [
           {
            "colorbar": {
             "outlinewidth": 0,
             "ticks": ""
            },
            "colorscale": [
             [
              0,
              "#0d0887"
             ],
             [
              0.1111111111111111,
              "#46039f"
             ],
             [
              0.2222222222222222,
              "#7201a8"
             ],
             [
              0.3333333333333333,
              "#9c179e"
             ],
             [
              0.4444444444444444,
              "#bd3786"
             ],
             [
              0.5555555555555556,
              "#d8576b"
             ],
             [
              0.6666666666666666,
              "#ed7953"
             ],
             [
              0.7777777777777778,
              "#fb9f3a"
             ],
             [
              0.8888888888888888,
              "#fdca26"
             ],
             [
              1,
              "#f0f921"
             ]
            ],
            "type": "heatmap"
           }
          ],
          "histogram": [
           {
            "marker": {
             "pattern": {
              "fillmode": "overlay",
              "size": 10,
              "solidity": 0.2
             }
            },
            "type": "histogram"
           }
          ],
          "histogram2d": [
           {
            "colorbar": {
             "outlinewidth": 0,
             "ticks": ""
            },
            "colorscale": [
             [
              0,
              "#0d0887"
             ],
             [
              0.1111111111111111,
              "#46039f"
             ],
             [
              0.2222222222222222,
              "#7201a8"
             ],
             [
              0.3333333333333333,
              "#9c179e"
             ],
             [
              0.4444444444444444,
              "#bd3786"
             ],
             [
              0.5555555555555556,
              "#d8576b"
             ],
             [
              0.6666666666666666,
              "#ed7953"
             ],
             [
              0.7777777777777778,
              "#fb9f3a"
             ],
             [
              0.8888888888888888,
              "#fdca26"
             ],
             [
              1,
              "#f0f921"
             ]
            ],
            "type": "histogram2d"
           }
          ],
          "histogram2dcontour": [
           {
            "colorbar": {
             "outlinewidth": 0,
             "ticks": ""
            },
            "colorscale": [
             [
              0,
              "#0d0887"
             ],
             [
              0.1111111111111111,
              "#46039f"
             ],
             [
              0.2222222222222222,
              "#7201a8"
             ],
             [
              0.3333333333333333,
              "#9c179e"
             ],
             [
              0.4444444444444444,
              "#bd3786"
             ],
             [
              0.5555555555555556,
              "#d8576b"
             ],
             [
              0.6666666666666666,
              "#ed7953"
             ],
             [
              0.7777777777777778,
              "#fb9f3a"
             ],
             [
              0.8888888888888888,
              "#fdca26"
             ],
             [
              1,
              "#f0f921"
             ]
            ],
            "type": "histogram2dcontour"
           }
          ],
          "mesh3d": [
           {
            "colorbar": {
             "outlinewidth": 0,
             "ticks": ""
            },
            "type": "mesh3d"
           }
          ],
          "parcoords": [
           {
            "line": {
             "colorbar": {
              "outlinewidth": 0,
              "ticks": ""
             }
            },
            "type": "parcoords"
           }
          ],
          "pie": [
           {
            "automargin": true,
            "type": "pie"
           }
          ],
          "scatter": [
           {
            "marker": {
             "line": {
              "color": "#283442"
             }
            },
            "type": "scatter"
           }
          ],
          "scatter3d": [
           {
            "line": {
             "colorbar": {
              "outlinewidth": 0,
              "ticks": ""
             }
            },
            "marker": {
             "colorbar": {
              "outlinewidth": 0,
              "ticks": ""
             }
            },
            "type": "scatter3d"
           }
          ],
          "scattercarpet": [
           {
            "marker": {
             "colorbar": {
              "outlinewidth": 0,
              "ticks": ""
             }
            },
            "type": "scattercarpet"
           }
          ],
          "scattergeo": [
           {
            "marker": {
             "colorbar": {
              "outlinewidth": 0,
              "ticks": ""
             }
            },
            "type": "scattergeo"
           }
          ],
          "scattergl": [
           {
            "marker": {
             "line": {
              "color": "#283442"
             }
            },
            "type": "scattergl"
           }
          ],
          "scattermap": [
           {
            "marker": {
             "colorbar": {
              "outlinewidth": 0,
              "ticks": ""
             }
            },
            "type": "scattermap"
           }
          ],
          "scattermapbox": [
           {
            "marker": {
             "colorbar": {
              "outlinewidth": 0,
              "ticks": ""
             }
            },
            "type": "scattermapbox"
           }
          ],
          "scatterpolar": [
           {
            "marker": {
             "colorbar": {
              "outlinewidth": 0,
              "ticks": ""
             }
            },
            "type": "scatterpolar"
           }
          ],
          "scatterpolargl": [
           {
            "marker": {
             "colorbar": {
              "outlinewidth": 0,
              "ticks": ""
             }
            },
            "type": "scatterpolargl"
           }
          ],
          "scatterternary": [
           {
            "marker": {
             "colorbar": {
              "outlinewidth": 0,
              "ticks": ""
             }
            },
            "type": "scatterternary"
           }
          ],
          "surface": [
           {
            "colorbar": {
             "outlinewidth": 0,
             "ticks": ""
            },
            "colorscale": [
             [
              0,
              "#0d0887"
             ],
             [
              0.1111111111111111,
              "#46039f"
             ],
             [
              0.2222222222222222,
              "#7201a8"
             ],
             [
              0.3333333333333333,
              "#9c179e"
             ],
             [
              0.4444444444444444,
              "#bd3786"
             ],
             [
              0.5555555555555556,
              "#d8576b"
             ],
             [
              0.6666666666666666,
              "#ed7953"
             ],
             [
              0.7777777777777778,
              "#fb9f3a"
             ],
             [
              0.8888888888888888,
              "#fdca26"
             ],
             [
              1,
              "#f0f921"
             ]
            ],
            "type": "surface"
           }
          ],
          "table": [
           {
            "cells": {
             "fill": {
              "color": "#506784"
             },
             "line": {
              "color": "rgb(17,17,17)"
             }
            },
            "header": {
             "fill": {
              "color": "#2a3f5f"
             },
             "line": {
              "color": "rgb(17,17,17)"
             }
            },
            "type": "table"
           }
          ]
         },
         "layout": {
          "annotationdefaults": {
           "arrowcolor": "#f2f5fa",
           "arrowhead": 0,
           "arrowwidth": 1
          },
          "autotypenumbers": "strict",
          "coloraxis": {
           "colorbar": {
            "outlinewidth": 0,
            "ticks": ""
           }
          },
          "colorscale": {
           "diverging": [
            [
             0,
             "#8e0152"
            ],
            [
             0.1,
             "#c51b7d"
            ],
            [
             0.2,
             "#de77ae"
            ],
            [
             0.3,
             "#f1b6da"
            ],
            [
             0.4,
             "#fde0ef"
            ],
            [
             0.5,
             "#f7f7f7"
            ],
            [
             0.6,
             "#e6f5d0"
            ],
            [
             0.7,
             "#b8e186"
            ],
            [
             0.8,
             "#7fbc41"
            ],
            [
             0.9,
             "#4d9221"
            ],
            [
             1,
             "#276419"
            ]
           ],
           "sequential": [
            [
             0,
             "#0d0887"
            ],
            [
             0.1111111111111111,
             "#46039f"
            ],
            [
             0.2222222222222222,
             "#7201a8"
            ],
            [
             0.3333333333333333,
             "#9c179e"
            ],
            [
             0.4444444444444444,
             "#bd3786"
            ],
            [
             0.5555555555555556,
             "#d8576b"
            ],
            [
             0.6666666666666666,
             "#ed7953"
            ],
            [
             0.7777777777777778,
             "#fb9f3a"
            ],
            [
             0.8888888888888888,
             "#fdca26"
            ],
            [
             1,
             "#f0f921"
            ]
           ],
           "sequentialminus": [
            [
             0,
             "#0d0887"
            ],
            [
             0.1111111111111111,
             "#46039f"
            ],
            [
             0.2222222222222222,
             "#7201a8"
            ],
            [
             0.3333333333333333,
             "#9c179e"
            ],
            [
             0.4444444444444444,
             "#bd3786"
            ],
            [
             0.5555555555555556,
             "#d8576b"
            ],
            [
             0.6666666666666666,
             "#ed7953"
            ],
            [
             0.7777777777777778,
             "#fb9f3a"
            ],
            [
             0.8888888888888888,
             "#fdca26"
            ],
            [
             1,
             "#f0f921"
            ]
           ]
          },
          "colorway": [
           "#636efa",
           "#EF553B",
           "#00cc96",
           "#ab63fa",
           "#FFA15A",
           "#19d3f3",
           "#FF6692",
           "#B6E880",
           "#FF97FF",
           "#FECB52"
          ],
          "font": {
           "color": "#f2f5fa"
          },
          "geo": {
           "bgcolor": "rgb(17,17,17)",
           "lakecolor": "rgb(17,17,17)",
           "landcolor": "rgb(17,17,17)",
           "showlakes": true,
           "showland": true,
           "subunitcolor": "#506784"
          },
          "hoverlabel": {
           "align": "left"
          },
          "hovermode": "closest",
          "mapbox": {
           "style": "dark"
          },
          "paper_bgcolor": "rgb(17,17,17)",
          "plot_bgcolor": "rgb(17,17,17)",
          "polar": {
           "angularaxis": {
            "gridcolor": "#506784",
            "linecolor": "#506784",
            "ticks": ""
           },
           "bgcolor": "rgb(17,17,17)",
           "radialaxis": {
            "gridcolor": "#506784",
            "linecolor": "#506784",
            "ticks": ""
           }
          },
          "scene": {
           "xaxis": {
            "backgroundcolor": "rgb(17,17,17)",
            "gridcolor": "#506784",
            "gridwidth": 2,
            "linecolor": "#506784",
            "showbackground": true,
            "ticks": "",
            "zerolinecolor": "#C8D4E3"
           },
           "yaxis": {
            "backgroundcolor": "rgb(17,17,17)",
            "gridcolor": "#506784",
            "gridwidth": 2,
            "linecolor": "#506784",
            "showbackground": true,
            "ticks": "",
            "zerolinecolor": "#C8D4E3"
           },
           "zaxis": {
            "backgroundcolor": "rgb(17,17,17)",
            "gridcolor": "#506784",
            "gridwidth": 2,
            "linecolor": "#506784",
            "showbackground": true,
            "ticks": "",
            "zerolinecolor": "#C8D4E3"
           }
          },
          "shapedefaults": {
           "line": {
            "color": "#f2f5fa"
           }
          },
          "sliderdefaults": {
           "bgcolor": "#C8D4E3",
           "bordercolor": "rgb(17,17,17)",
           "borderwidth": 1,
           "tickwidth": 0
          },
          "ternary": {
           "aaxis": {
            "gridcolor": "#506784",
            "linecolor": "#506784",
            "ticks": ""
           },
           "baxis": {
            "gridcolor": "#506784",
            "linecolor": "#506784",
            "ticks": ""
           },
           "bgcolor": "rgb(17,17,17)",
           "caxis": {
            "gridcolor": "#506784",
            "linecolor": "#506784",
            "ticks": ""
           }
          },
          "title": {
           "x": 0.05
          },
          "updatemenudefaults": {
           "bgcolor": "#506784",
           "borderwidth": 0
          },
          "xaxis": {
           "automargin": true,
           "gridcolor": "#283442",
           "linecolor": "#506784",
           "ticks": "",
           "title": {
            "standoff": 15
           },
           "zerolinecolor": "#283442",
           "zerolinewidth": 2
          },
          "yaxis": {
           "automargin": true,
           "gridcolor": "#283442",
           "linecolor": "#506784",
           "ticks": "",
           "title": {
            "standoff": 15
           },
           "zerolinecolor": "#283442",
           "zerolinewidth": 2
          }
         }
        },
        "title": {
         "text": "AAPL High Prices"
        },
        "xaxis": {
         "anchor": "y",
         "domain": [
          0,
          1
         ],
         "title": {
          "text": "Date"
         }
        },
        "yaxis": {
         "anchor": "x",
         "domain": [
          0,
          1
         ],
         "title": {
          "text": "AAPL.High"
         }
        }
       }
      },
      "text/html": [
       "<div>            <script src=\"https://cdnjs.cloudflare.com/ajax/libs/mathjax/2.7.5/MathJax.js?config=TeX-AMS-MML_SVG\"></script><script type=\"text/javascript\">if (window.MathJax && window.MathJax.Hub && window.MathJax.Hub.Config) {window.MathJax.Hub.Config({SVG: {font: \"STIX-Web\"}});}</script>                <script type=\"text/javascript\">window.PlotlyConfig = {MathJaxConfig: 'local'};</script>\n",
       "        <script charset=\"utf-8\" src=\"https://cdn.plot.ly/plotly-3.0.1.min.js\"></script>                <div id=\"0983e2af-e4d3-42a6-a9d9-5c5a77f7d24f\" class=\"plotly-graph-div\" style=\"height:525px; width:100%;\"></div>            <script type=\"text/javascript\">                window.PLOTLYENV=window.PLOTLYENV || {};                                if (document.getElementById(\"0983e2af-e4d3-42a6-a9d9-5c5a77f7d24f\")) {                    Plotly.newPlot(                        \"0983e2af-e4d3-42a6-a9d9-5c5a77f7d24f\",                        [{\"fillpattern\":{\"shape\":\"\"},\"hovertemplate\":\"Date=%{x}\\u003cbr\\u003eAAPL.High=%{y}\\u003cextra\\u003e\\u003c\\u002fextra\\u003e\",\"legendgroup\":\"\",\"line\":{\"color\":\"#636efa\"},\"marker\":{\"symbol\":\"circle\"},\"mode\":\"lines\",\"name\":\"\",\"orientation\":\"v\",\"showlegend\":false,\"stackgroup\":\"1\",\"x\":[\"2015-02-17\",\"2015-02-18\",\"2015-02-19\",\"2015-02-20\",\"2015-02-23\",\"2015-02-24\",\"2015-02-25\",\"2015-02-26\",\"2015-02-27\",\"2015-03-02\",\"2015-03-03\",\"2015-03-04\",\"2015-03-05\",\"2015-03-06\",\"2015-03-09\",\"2015-03-10\",\"2015-03-11\",\"2015-03-12\",\"2015-03-13\",\"2015-03-16\",\"2015-03-17\",\"2015-03-18\",\"2015-03-19\",\"2015-03-20\",\"2015-03-23\",\"2015-03-24\",\"2015-03-25\",\"2015-03-26\",\"2015-03-27\",\"2015-03-30\",\"2015-03-31\",\"2015-04-01\",\"2015-04-02\",\"2015-04-06\",\"2015-04-07\",\"2015-04-08\",\"2015-04-09\",\"2015-04-10\",\"2015-04-13\",\"2015-04-14\",\"2015-04-15\",\"2015-04-16\",\"2015-04-17\",\"2015-04-20\",\"2015-04-21\",\"2015-04-22\",\"2015-04-23\",\"2015-04-24\",\"2015-04-27\",\"2015-04-28\",\"2015-04-29\",\"2015-04-30\",\"2015-05-01\",\"2015-05-04\",\"2015-05-05\",\"2015-05-06\",\"2015-05-07\",\"2015-05-08\",\"2015-05-11\",\"2015-05-12\",\"2015-05-13\",\"2015-05-14\",\"2015-05-15\",\"2015-05-18\",\"2015-05-19\",\"2015-05-20\",\"2015-05-21\",\"2015-05-22\",\"2015-05-26\",\"2015-05-27\",\"2015-05-28\",\"2015-05-29\",\"2015-06-01\",\"2015-06-02\",\"2015-06-03\",\"2015-06-04\",\"2015-06-05\",\"2015-06-08\",\"2015-06-09\",\"2015-06-10\",\"2015-06-11\",\"2015-06-12\",\"2015-06-15\",\"2015-06-16\",\"2015-06-17\",\"2015-06-18\",\"2015-06-19\",\"2015-06-22\",\"2015-06-23\",\"2015-06-24\",\"2015-06-25\",\"2015-06-26\",\"2015-06-29\",\"2015-06-30\",\"2015-07-01\",\"2015-07-02\",\"2015-07-06\",\"2015-07-07\",\"2015-07-08\",\"2015-07-09\",\"2015-07-10\",\"2015-07-13\",\"2015-07-14\",\"2015-07-15\",\"2015-07-16\",\"2015-07-17\",\"2015-07-20\",\"2015-07-21\",\"2015-07-22\",\"2015-07-23\",\"2015-07-24\",\"2015-07-27\",\"2015-07-28\",\"2015-07-29\",\"2015-07-30\",\"2015-07-31\",\"2015-08-03\",\"2015-08-04\",\"2015-08-05\",\"2015-08-06\",\"2015-08-07\",\"2015-08-10\",\"2015-08-11\",\"2015-08-12\",\"2015-08-13\",\"2015-08-14\",\"2015-08-17\",\"2015-08-18\",\"2015-08-19\",\"2015-08-20\",\"2015-08-21\",\"2015-08-24\",\"2015-08-25\",\"2015-08-26\",\"2015-08-27\",\"2015-08-28\",\"2015-08-31\",\"2015-09-01\",\"2015-09-02\",\"2015-09-03\",\"2015-09-04\",\"2015-09-08\",\"2015-09-09\",\"2015-09-10\",\"2015-09-11\",\"2015-09-14\",\"2015-09-15\",\"2015-09-16\",\"2015-09-17\",\"2015-09-18\",\"2015-09-21\",\"2015-09-22\",\"2015-09-23\",\"2015-09-24\",\"2015-09-25\",\"2015-09-28\",\"2015-09-29\",\"2015-09-30\",\"2015-10-01\",\"2015-10-02\",\"2015-10-05\",\"2015-10-06\",\"2015-10-07\",\"2015-10-08\",\"2015-10-09\",\"2015-10-12\",\"2015-10-13\",\"2015-10-14\",\"2015-10-15\",\"2015-10-16\",\"2015-10-19\",\"2015-10-20\",\"2015-10-21\",\"2015-10-22\",\"2015-10-23\",\"2015-10-26\",\"2015-10-27\",\"2015-10-28\",\"2015-10-29\",\"2015-10-30\",\"2015-11-02\",\"2015-11-03\",\"2015-11-04\",\"2015-11-05\",\"2015-11-06\",\"2015-11-09\",\"2015-11-10\",\"2015-11-11\",\"2015-11-12\",\"2015-11-13\",\"2015-11-16\",\"2015-11-17\",\"2015-11-18\",\"2015-11-19\",\"2015-11-20\",\"2015-11-23\",\"2015-11-24\",\"2015-11-25\",\"2015-11-27\",\"2015-11-30\",\"2015-12-01\",\"2015-12-02\",\"2015-12-03\",\"2015-12-04\",\"2015-12-07\",\"2015-12-08\",\"2015-12-09\",\"2015-12-10\",\"2015-12-11\",\"2015-12-14\",\"2015-12-15\",\"2015-12-16\",\"2015-12-17\",\"2015-12-18\",\"2015-12-21\",\"2015-12-22\",\"2015-12-23\",\"2015-12-24\",\"2015-12-28\",\"2015-12-29\",\"2015-12-30\",\"2015-12-31\",\"2016-01-04\",\"2016-01-05\",\"2016-01-06\",\"2016-01-07\",\"2016-01-08\",\"2016-01-11\",\"2016-01-12\",\"2016-01-13\",\"2016-01-14\",\"2016-01-15\",\"2016-01-19\",\"2016-01-20\",\"2016-01-21\",\"2016-01-22\",\"2016-01-25\",\"2016-01-26\",\"2016-01-27\",\"2016-01-28\",\"2016-01-29\",\"2016-02-01\",\"2016-02-02\",\"2016-02-03\",\"2016-02-04\",\"2016-02-05\",\"2016-02-08\",\"2016-02-09\",\"2016-02-10\",\"2016-02-11\",\"2016-02-12\",\"2016-02-16\",\"2016-02-17\",\"2016-02-18\",\"2016-02-19\",\"2016-02-22\",\"2016-02-23\",\"2016-02-24\",\"2016-02-25\",\"2016-02-26\",\"2016-02-29\",\"2016-03-01\",\"2016-03-02\",\"2016-03-03\",\"2016-03-04\",\"2016-03-07\",\"2016-03-08\",\"2016-03-09\",\"2016-03-10\",\"2016-03-11\",\"2016-03-14\",\"2016-03-15\",\"2016-03-16\",\"2016-03-17\",\"2016-03-18\",\"2016-03-21\",\"2016-03-22\",\"2016-03-23\",\"2016-03-24\",\"2016-03-28\",\"2016-03-29\",\"2016-03-30\",\"2016-03-31\",\"2016-04-01\",\"2016-04-04\",\"2016-04-05\",\"2016-04-06\",\"2016-04-07\",\"2016-04-08\",\"2016-04-11\",\"2016-04-12\",\"2016-04-13\",\"2016-04-14\",\"2016-04-15\",\"2016-04-18\",\"2016-04-19\",\"2016-04-20\",\"2016-04-21\",\"2016-04-22\",\"2016-04-25\",\"2016-04-26\",\"2016-04-27\",\"2016-04-28\",\"2016-04-29\",\"2016-05-02\",\"2016-05-03\",\"2016-05-04\",\"2016-05-05\",\"2016-05-06\",\"2016-05-09\",\"2016-05-10\",\"2016-05-11\",\"2016-05-12\",\"2016-05-13\",\"2016-05-16\",\"2016-05-17\",\"2016-05-18\",\"2016-05-19\",\"2016-05-20\",\"2016-05-23\",\"2016-05-24\",\"2016-05-25\",\"2016-05-26\",\"2016-05-27\",\"2016-05-31\",\"2016-06-01\",\"2016-06-02\",\"2016-06-03\",\"2016-06-06\",\"2016-06-07\",\"2016-06-08\",\"2016-06-09\",\"2016-06-10\",\"2016-06-13\",\"2016-06-14\",\"2016-06-15\",\"2016-06-16\",\"2016-06-17\",\"2016-06-20\",\"2016-06-21\",\"2016-06-22\",\"2016-06-23\",\"2016-06-24\",\"2016-06-27\",\"2016-06-28\",\"2016-06-29\",\"2016-06-30\",\"2016-07-01\",\"2016-07-05\",\"2016-07-06\",\"2016-07-07\",\"2016-07-08\",\"2016-07-11\",\"2016-07-12\",\"2016-07-13\",\"2016-07-14\",\"2016-07-15\",\"2016-07-18\",\"2016-07-19\",\"2016-07-20\",\"2016-07-21\",\"2016-07-22\",\"2016-07-25\",\"2016-07-26\",\"2016-07-27\",\"2016-07-28\",\"2016-07-29\",\"2016-08-01\",\"2016-08-02\",\"2016-08-03\",\"2016-08-04\",\"2016-08-05\",\"2016-08-08\",\"2016-08-09\",\"2016-08-10\",\"2016-08-11\",\"2016-08-12\",\"2016-08-15\",\"2016-08-16\",\"2016-08-17\",\"2016-08-18\",\"2016-08-19\",\"2016-08-22\",\"2016-08-23\",\"2016-08-24\",\"2016-08-25\",\"2016-08-26\",\"2016-08-29\",\"2016-08-30\",\"2016-08-31\",\"2016-09-01\",\"2016-09-02\",\"2016-09-06\",\"2016-09-07\",\"2016-09-08\",\"2016-09-09\",\"2016-09-12\",\"2016-09-13\",\"2016-09-14\",\"2016-09-15\",\"2016-09-16\",\"2016-09-19\",\"2016-09-20\",\"2016-09-21\",\"2016-09-22\",\"2016-09-23\",\"2016-09-26\",\"2016-09-27\",\"2016-09-28\",\"2016-09-29\",\"2016-09-30\",\"2016-10-03\",\"2016-10-04\",\"2016-10-05\",\"2016-10-06\",\"2016-10-07\",\"2016-10-10\",\"2016-10-11\",\"2016-10-12\",\"2016-10-13\",\"2016-10-14\",\"2016-10-17\",\"2016-10-18\",\"2016-10-19\",\"2016-10-20\",\"2016-10-21\",\"2016-10-24\",\"2016-10-25\",\"2016-10-26\",\"2016-10-27\",\"2016-10-28\",\"2016-10-31\",\"2016-11-01\",\"2016-11-02\",\"2016-11-03\",\"2016-11-04\",\"2016-11-07\",\"2016-11-08\",\"2016-11-09\",\"2016-11-10\",\"2016-11-11\",\"2016-11-14\",\"2016-11-15\",\"2016-11-16\",\"2016-11-17\",\"2016-11-18\",\"2016-11-21\",\"2016-11-22\",\"2016-11-23\",\"2016-11-25\",\"2016-11-28\",\"2016-11-29\",\"2016-11-30\",\"2016-12-01\",\"2016-12-02\",\"2016-12-05\",\"2016-12-06\",\"2016-12-07\",\"2016-12-08\",\"2016-12-09\",\"2016-12-12\",\"2016-12-13\",\"2016-12-14\",\"2016-12-15\",\"2016-12-16\",\"2016-12-19\",\"2016-12-20\",\"2016-12-21\",\"2016-12-22\",\"2016-12-23\",\"2016-12-27\",\"2016-12-28\",\"2016-12-29\",\"2016-12-30\",\"2017-01-03\",\"2017-01-04\",\"2017-01-05\",\"2017-01-06\",\"2017-01-09\",\"2017-01-10\",\"2017-01-11\",\"2017-01-12\",\"2017-01-13\",\"2017-01-17\",\"2017-01-18\",\"2017-01-19\",\"2017-01-20\",\"2017-01-23\",\"2017-01-24\",\"2017-01-25\",\"2017-01-26\",\"2017-01-27\",\"2017-01-30\",\"2017-01-31\",\"2017-02-01\",\"2017-02-02\",\"2017-02-03\",\"2017-02-06\",\"2017-02-07\",\"2017-02-08\",\"2017-02-09\",\"2017-02-10\",\"2017-02-13\",\"2017-02-14\",\"2017-02-15\",\"2017-02-16\"],\"xaxis\":\"x\",\"y\":{\"dtype\":\"f8\",\"bdata\":\"Ieo+ACkcYEA1fXbA9RhgQDV9dsD1IGBAAAAAAAAwYEAAAAAAAKBgQOxsyD8zs2BA7GzIPzNzYEDfFcH\\u002f1ltgQLfvUX89UmBANX12wPVIYEBBuW3fozBgQGr67IDrMWBAAAAAAAAYYEDfFcH\\u002f1itgQLfvUX89MmBAlgUTfxTOX0ApQX+hRzFfQGoV\\u002faGZOV9AahX9oZlZX0AUkzfAzDxfQBSuR+F61F9AVWe1wB4lYEAAAAAAAChgQBSTN8DMDGBAluoCXmb2X0A1YmafRwFgQBSuR+F6tF9AAOXv3lE4X0AUkzfAzCxfQGoV\\u002faGZmV9Av0aSIFyfX0AAGxAhrkdfQNP02QHXY19AQblt36PgX0DfFcH\\u002f1gNgQGoV\\u002faGZmV9AVWe1wB6lX0BVTKWfcM1fQLfvUX89EmBAq7NaYI\\u002fSX0AA5e\\u002feUchfQJbqAl5mxl9AQZ5dvvWIX0DfFcH\\u002f1gNgQIrJG2BmBmBA3xXB\\u002f9YbYEBVTKWfcE1gQCHqPgApVGBAIeo+ACmkYEA1YmafR9FgQKuYSj\\u002fhcmBAIM8u33oUYEAh6j4AKURgQLfvUX89UmBAiskbYGYOYEAAAAAAALBfQFVntcAehV9AABsQIa7nX0DT9NkB1+NfQADl795RuF9ALQsm\\u002fijMX0CKyRtgZh5gQAw89x6uL2BAy4KJPwpXYEAh6j4AKVxgQL9GkiBcX2BAIeo+ACl0YEDLgok\\u002fCp9gQFVntcAenWBA9MMI4VGIYECKyRtgZn5gQIrJG2BmbmBAIM8u33psYEBVZ7XAHlVgQJYFE38UXmBAq7NaYI9SYECWBRN\\u002fFDZgQMudmWC4JmBAq7NaYI8CYECrmEo\\u002f4SpgQEkQroDCRWBAq7NaYI8KYEC\\u002fRpIgXM9fQJbqAl5m9l9AAOXv3lH4X0Bq+uyA6wlgQBSuR+F69F9AavrsgOsBYEC\\u002fYaJBCudfQHY25J+ZOWBAiskbYGYmYEC\\u002fRpIgXP9fQJYFE38Unl9AABsQIa6HX0AtCyb+KLxfQC0LJv4orF9A176AXriOX0BqFf2hmYlfQEGeXb71KF9A0\\u002fTZAdcDX0CW6gJeZvZeQEG5bd+jcF9AABsQIa6XX0BqFf2hmclfQLfvUX89EmBA3xXB\\u002f9YzYEDLgok\\u002fCp9gQFVMpZ9wnWBAAAAAAABgX0BVMZV+wsVfQL9GkiBcb19Av2GiQQrnXkCrzmqBPfpeQAAAAAAA4F5AFK5H4XqkXkBBnl2+9aheQBSuR+F6pF5AFJM3wMxsXUAtCyb+KFxdQAAAAAAAIF1AAAAAAAAQXUC\\u002fRpIgXP9dQOxRuB6Fi11Aq5hKP+HaXEBqFf2hmRldQNP02QHXE11AahX9oZlpXUAtCyb+KFxdQClBf6FHIV1AluoCXmaWXEBqFf2hmflbQOxsyD8zM1tAv2GiQQrHW0BBnl2+9XhbQL9GkiBcT1xA0\\u002fTZAddTXEBq+uyA66FcQADl795R+FtAVTGVfsIVXEBq+uyA6zFcQBSTN8DMnFtA0\\u002fTZAdcjXEApQX+hR4FcQGr67IDrUVxAVUyln3CNXEBBnl2+9ThdQGr67IDrIV1Aq7NaYI8iXUC\\u002fRpIgXB9dQOxsyD8zk1xAABsQIa7XXEDsUbgehYtcQJYFE38UrlxAAAAAAADgXEAtCyb+KCxdQBSuR+F6pFxAQblt36NgXECrs1pgj+JbQAAbECGuZ1tAQblt36PAW0AAGxAhrtdbQL9GkiBc71tAKUF\\u002foUfxW0AtCyb+KIxbQGr67IDrEVxAAAAAAAAwXEAUkzfAzBxcQClBf6FH4VtAluoCXmYGXEAAAAAAAABcQAAAAAAA8FtAq5hKP+GKXEBVZ7XAHuVcQAAAAAAA4FxA176AXrjOXUAA5e\\u002feUYhdQKuzWmCPIl1A7GzIPzPTXUAtCyb+KCxeQJYFE38UTl5Av2GiQQpXXkC\\u002fRpIgXN9eQBSuR+F69F5ALQsm\\u002fiisXkDT9NkB13NeQNP02QHXc15AFK5H4XqEXUCrmEo\\u002f4VpdQBSuR+F6NF1AFK5H4XrkXEC\\u002fRpIgXI9cQOxsyD8zw1xAv0aSIFxfXUAAAAAAAPBdQKuYSj\\u002fh+l1A176AXrjuXUCW6gJeZtZdQNe+gF64zl1Aq85qgT2aXUCrzmqBPdpdQNP02QHXs11Av2GiQQqHXUCrs1pgjzJdQAAAAAAA0F1Av2GiQQr3XUCW6gJeZqZdQC0LJv4obF1ALQsm\\u002fig8XUBBnl2+9dhcQOxRuB6FK1xA7GzIPzMzXEC\\u002fRpIgXP9bQAAAAAAAEFxAKUF\\u002foUdhW0AAGxAhrtdaQJYFE38U7lpAluoCXmY2W0AAAAAAAEBbQC0LJv4o7FpA7FG4HoVbW0AUkzfAzCxbQGr67IDrwVpAABsQIa5XWkCW6gJeZnZaQAAbECGul1lAAOXv3lEIWUC\\u002fYaJBCsdYQNP02QHXw1hALQsm\\u002figsWUAtCyb+KExZQNe+gF64HllAVUyln3BtWEBqFf2hmalYQC0LJv4ojFhAAOXv3lF4WEBVTKWfcF1ZQGr67IDrYVlAAOXv3lE4WUAA5e\\u002feUShYQClBf6FHoVdAVTGVfsJVWEBVTKWfcC1YQKuzWmCPAlhAVTGVfsI1WEBVZ7XAHlVYQKuYSj\\u002fhOlhAFJM3wMzsV0AtCyb+KPxXQJbqAl5mFlhAlgUTfxSuV0AAAAAAAKBXQJbqAl5mNlhAVUyln3CNWEBBnl2+9bhYQEG5bd+jMFhAahX9oZk5WEAAAAAAACBYQADl795RGFhAQblt36MwWEApQX+hR4FYQNe+gF64jlhAKUF\\u002foUcxWUBBnl2+9ThZQFVMpZ9wbVlAAAAAAADwWUBVZ7XAHrVZQEG5bd+jcFlAVWe1wB5lWUC\\u002fRpIgXI9ZQGr67IDrkVlAq85qgT26WUDsUbgehUtaQNP02QHXk1pAlgUTfxSeWkAAAAAAAKBaQGoV\\u002faGZ6VpAq7NaYI\\u002fSWkAUrkfhesRaQAAAAAAAkFpALQsm\\u002fiiMWkCrs1pgj\\u002fJaQKuYSj\\u002fhmltAahX9oZl5W0AAAAAAAIBbQC0LJv4oDFxA176AXriuW0DXvoBeuL5bQKuYSj\\u002fhmltAKUF\\u002foUdxW0C\\u002fYaJBCqdbQAAAAAAAoFtAVTGVfsIVXEBBnl2+9RhcQOxsyD8zE1xAFJM3wMw8W0AAAAAAAABbQFUxlX7CBVtA7FG4HoW7WkDXvoBeuJ5aQGoV\\u002faGZaVpA7GzIPzNTWkBVTKWfcK1YQADl795ReFhAlgUTfxSuV0BVZ7XAHoVXQL9GkiBc71dAahX9oZn5V0AUrkfheoRXQBSTN8DMXFdAKUF\\u002foUdxV0AUrkfhemRXQBSuR+F6ZFdAavrsgOsxV0CrmEo\\u002f4epWQEGeXb71mFdAFJM3wMysV0BVTKWfcM1XQEGeXb71qFdA7FG4HoXbV0AtCyb+KExYQFUxlX7ChVhAv0aSIFzvWEDXvoBeuC5ZQJYFE38UHllAahX9oZkZWUCrs1pgj+JYQFUxlX7CdVhAKUF\\u002foUeRWEBBnl2+9XhZQAAbECGu91hA0\\u002fTZAdfjWEC\\u002fRpIgXP9YQJbqAl5m1lhAABsQIa7HWEDXvoBeuJ5YQKvOaoE9mlhAAAAAAABwWEBqFf2hmSlYQBSuR+F6JFhAluoCXmYWWEBBnl2+9ThYQKuzWmCPElhAq85qgT2qV0DsbMg\\u002fM0NXQKvOaoE9aldA7GzIPzOjV0ApQX+hR\\u002fFXQJYFE38UHlhAahX9oZnZV0CrzmqBPepXQAAAAAAAIFhAQZ5dvvU4WEBqFf2hmWlYQBSTN8DMbFhAq5hKP+FqWEC\\u002fRpIgXL9YQOxsyD8z01hAAOXv3lEIWUAAAAAAAABZQFVMpZ9wHVlAAAAAAABAWUDsbMg\\u002fM9NYQFUxlX7CtVhAlgUTfxR+WECW6gJeZhZaQBSTN8DMHFpA7GzIPzMjWkBqFf2hmYlaQBSuR+F6hFpAVTGVfsJ1WkAAAAAAAIBaQGoV\\u002faGZ6VpAABsQIa4XW0AtCyb+KDxbQGoV\\u002faGZOVtA7FG4HoU7W0AtCyb+KBxbQKuzWmCPYltA176AXriOW0AAGxAhrldbQJbqAl5mZltALQsm\\u002fihsW0CW6gJeZkZbQBSuR+F6VFtAAAAAAAAwW0AA5e\\u002feUfhaQBSTN8DM\\u002fFpALQsm\\u002fijcWkAAAAAAAKBaQBSuR+F6pFpA7GzIPzOzWkAAAAAAAABbQOxsyD8zE1tAQblt36MwW0ApQX+hR9FaQJYFE38UblpAlgUTfxRuWkCrs1pgjzJbQGr67IDrQVxA176AXrjuXEAA5e\\u002feUQhdQOxRuB6FC11AABsQIa6HXEC\\u002fRpIgXH9cQC0LJv4ovFxAq7NaYI+yXEBBnl2+9VhcQOxRuB6FS1xAQZ5dvvWoXEDsbMg\\u002fM3NcQAAbECGuV1xA7GzIPzNDXEDT9NkB15NcQKvOaoE9alxAVTGVfsKVXEDT9NkB16NcQAAAAAAAMF1ALQsm\\u002fiisXUDXvoBeuH5dQC0LJv4oXF1Aq5hKP+GKXUBVMZV+wnVdQFVMpZ9wjV1AQblt36NwXUAA5e\\u002feUVhdQKvOaoE9Ol1Av0aSIFxvXUC\\u002fYaJBCpddQBSTN8DM7FxAv2GiQQr3XEBVTKWfcM1cQNe+gF64jlxAKUF\\u002foUdxXECW6gJeZhZcQFVMpZ9w3VtAAAAAAACQW0BBuW3fo6BbQJYFE38U7ltAFK5H4XrUW0BVMZV+wsVbQAAbECGuN1tA0\\u002fTZAdfzWkDsUbgehetaQNe+gF64jltAluoCXmaWW0Crs1pgj6JbQL9GkiBc\\u002f1tAq5hKP+EaXEBBuW3fo+BbQAAbECGu91tAlgUTfxQeXEBq+uyA6wFcQBSTN8DMDFxALQsm\\u002fii8W0BVMZV+woVbQGr67IDrgVtAv2GiQQqXW0AtCyb+KMxbQOxRuB6FG1xAFJM3wMysXEAAAAAAAMBcQKuYSj\\u002fh+lxAFJM3wMwMXUDXvoBeuC5dQAAAAAAAIF1AAOXv3lFYXUAAAAAAAGBdQGoV\\u002faGZWV1AQblt36MgXUApQX+hRyFdQOxsyD8zc11AKUF\\u002foUeBXUC\\u002fYaJBCkddQBSTN8DMTF1AVWe1wB4VXUBBuW3foyBdQL9hokEKN11Aq85qgT2KXUDsUbgehdtdQADl795R2F1A7FG4HoX7XUDsbMg\\u002fM9NdQAAbECGu511Av0aSIFwPXkAAAAAAACBeQFUxlX7CBV5AFJM3wMwcXkDT9NkB1zNeQJbqAl5mBl5AluoCXmaGXkAtCyb+KJxeQJbqAl5mll5AAOXv3lFoXkBBnl2+9VheQAw89x6uT2BAIM8u33osYECWBRN\\u002fFCZgQAAAAAAAUGBAq5hKP+GCYEDLgok\\u002fCodgQIrJG2BmjmBAlgUTfxSeYEC371F\\u002fPbpgQKuYSj\\u002fh4mBAQblt36MIYUAUkzfAzPxgQA==\"},\"yaxis\":\"y\",\"type\":\"scatter\"}],                        {\"template\":{\"data\":{\"barpolar\":[{\"marker\":{\"line\":{\"color\":\"rgb(17,17,17)\",\"width\":0.5},\"pattern\":{\"fillmode\":\"overlay\",\"size\":10,\"solidity\":0.2}},\"type\":\"barpolar\"}],\"bar\":[{\"error_x\":{\"color\":\"#f2f5fa\"},\"error_y\":{\"color\":\"#f2f5fa\"},\"marker\":{\"line\":{\"color\":\"rgb(17,17,17)\",\"width\":0.5},\"pattern\":{\"fillmode\":\"overlay\",\"size\":10,\"solidity\":0.2}},\"type\":\"bar\"}],\"carpet\":[{\"aaxis\":{\"endlinecolor\":\"#A2B1C6\",\"gridcolor\":\"#506784\",\"linecolor\":\"#506784\",\"minorgridcolor\":\"#506784\",\"startlinecolor\":\"#A2B1C6\"},\"baxis\":{\"endlinecolor\":\"#A2B1C6\",\"gridcolor\":\"#506784\",\"linecolor\":\"#506784\",\"minorgridcolor\":\"#506784\",\"startlinecolor\":\"#A2B1C6\"},\"type\":\"carpet\"}],\"choropleth\":[{\"colorbar\":{\"outlinewidth\":0,\"ticks\":\"\"},\"type\":\"choropleth\"}],\"contourcarpet\":[{\"colorbar\":{\"outlinewidth\":0,\"ticks\":\"\"},\"type\":\"contourcarpet\"}],\"contour\":[{\"colorbar\":{\"outlinewidth\":0,\"ticks\":\"\"},\"colorscale\":[[0.0,\"#0d0887\"],[0.1111111111111111,\"#46039f\"],[0.2222222222222222,\"#7201a8\"],[0.3333333333333333,\"#9c179e\"],[0.4444444444444444,\"#bd3786\"],[0.5555555555555556,\"#d8576b\"],[0.6666666666666666,\"#ed7953\"],[0.7777777777777778,\"#fb9f3a\"],[0.8888888888888888,\"#fdca26\"],[1.0,\"#f0f921\"]],\"type\":\"contour\"}],\"heatmap\":[{\"colorbar\":{\"outlinewidth\":0,\"ticks\":\"\"},\"colorscale\":[[0.0,\"#0d0887\"],[0.1111111111111111,\"#46039f\"],[0.2222222222222222,\"#7201a8\"],[0.3333333333333333,\"#9c179e\"],[0.4444444444444444,\"#bd3786\"],[0.5555555555555556,\"#d8576b\"],[0.6666666666666666,\"#ed7953\"],[0.7777777777777778,\"#fb9f3a\"],[0.8888888888888888,\"#fdca26\"],[1.0,\"#f0f921\"]],\"type\":\"heatmap\"}],\"histogram2dcontour\":[{\"colorbar\":{\"outlinewidth\":0,\"ticks\":\"\"},\"colorscale\":[[0.0,\"#0d0887\"],[0.1111111111111111,\"#46039f\"],[0.2222222222222222,\"#7201a8\"],[0.3333333333333333,\"#9c179e\"],[0.4444444444444444,\"#bd3786\"],[0.5555555555555556,\"#d8576b\"],[0.6666666666666666,\"#ed7953\"],[0.7777777777777778,\"#fb9f3a\"],[0.8888888888888888,\"#fdca26\"],[1.0,\"#f0f921\"]],\"type\":\"histogram2dcontour\"}],\"histogram2d\":[{\"colorbar\":{\"outlinewidth\":0,\"ticks\":\"\"},\"colorscale\":[[0.0,\"#0d0887\"],[0.1111111111111111,\"#46039f\"],[0.2222222222222222,\"#7201a8\"],[0.3333333333333333,\"#9c179e\"],[0.4444444444444444,\"#bd3786\"],[0.5555555555555556,\"#d8576b\"],[0.6666666666666666,\"#ed7953\"],[0.7777777777777778,\"#fb9f3a\"],[0.8888888888888888,\"#fdca26\"],[1.0,\"#f0f921\"]],\"type\":\"histogram2d\"}],\"histogram\":[{\"marker\":{\"pattern\":{\"fillmode\":\"overlay\",\"size\":10,\"solidity\":0.2}},\"type\":\"histogram\"}],\"mesh3d\":[{\"colorbar\":{\"outlinewidth\":0,\"ticks\":\"\"},\"type\":\"mesh3d\"}],\"parcoords\":[{\"line\":{\"colorbar\":{\"outlinewidth\":0,\"ticks\":\"\"}},\"type\":\"parcoords\"}],\"pie\":[{\"automargin\":true,\"type\":\"pie\"}],\"scatter3d\":[{\"line\":{\"colorbar\":{\"outlinewidth\":0,\"ticks\":\"\"}},\"marker\":{\"colorbar\":{\"outlinewidth\":0,\"ticks\":\"\"}},\"type\":\"scatter3d\"}],\"scattercarpet\":[{\"marker\":{\"colorbar\":{\"outlinewidth\":0,\"ticks\":\"\"}},\"type\":\"scattercarpet\"}],\"scattergeo\":[{\"marker\":{\"colorbar\":{\"outlinewidth\":0,\"ticks\":\"\"}},\"type\":\"scattergeo\"}],\"scattergl\":[{\"marker\":{\"line\":{\"color\":\"#283442\"}},\"type\":\"scattergl\"}],\"scattermapbox\":[{\"marker\":{\"colorbar\":{\"outlinewidth\":0,\"ticks\":\"\"}},\"type\":\"scattermapbox\"}],\"scattermap\":[{\"marker\":{\"colorbar\":{\"outlinewidth\":0,\"ticks\":\"\"}},\"type\":\"scattermap\"}],\"scatterpolargl\":[{\"marker\":{\"colorbar\":{\"outlinewidth\":0,\"ticks\":\"\"}},\"type\":\"scatterpolargl\"}],\"scatterpolar\":[{\"marker\":{\"colorbar\":{\"outlinewidth\":0,\"ticks\":\"\"}},\"type\":\"scatterpolar\"}],\"scatter\":[{\"marker\":{\"line\":{\"color\":\"#283442\"}},\"type\":\"scatter\"}],\"scatterternary\":[{\"marker\":{\"colorbar\":{\"outlinewidth\":0,\"ticks\":\"\"}},\"type\":\"scatterternary\"}],\"surface\":[{\"colorbar\":{\"outlinewidth\":0,\"ticks\":\"\"},\"colorscale\":[[0.0,\"#0d0887\"],[0.1111111111111111,\"#46039f\"],[0.2222222222222222,\"#7201a8\"],[0.3333333333333333,\"#9c179e\"],[0.4444444444444444,\"#bd3786\"],[0.5555555555555556,\"#d8576b\"],[0.6666666666666666,\"#ed7953\"],[0.7777777777777778,\"#fb9f3a\"],[0.8888888888888888,\"#fdca26\"],[1.0,\"#f0f921\"]],\"type\":\"surface\"}],\"table\":[{\"cells\":{\"fill\":{\"color\":\"#506784\"},\"line\":{\"color\":\"rgb(17,17,17)\"}},\"header\":{\"fill\":{\"color\":\"#2a3f5f\"},\"line\":{\"color\":\"rgb(17,17,17)\"}},\"type\":\"table\"}]},\"layout\":{\"annotationdefaults\":{\"arrowcolor\":\"#f2f5fa\",\"arrowhead\":0,\"arrowwidth\":1},\"autotypenumbers\":\"strict\",\"coloraxis\":{\"colorbar\":{\"outlinewidth\":0,\"ticks\":\"\"}},\"colorscale\":{\"diverging\":[[0,\"#8e0152\"],[0.1,\"#c51b7d\"],[0.2,\"#de77ae\"],[0.3,\"#f1b6da\"],[0.4,\"#fde0ef\"],[0.5,\"#f7f7f7\"],[0.6,\"#e6f5d0\"],[0.7,\"#b8e186\"],[0.8,\"#7fbc41\"],[0.9,\"#4d9221\"],[1,\"#276419\"]],\"sequential\":[[0.0,\"#0d0887\"],[0.1111111111111111,\"#46039f\"],[0.2222222222222222,\"#7201a8\"],[0.3333333333333333,\"#9c179e\"],[0.4444444444444444,\"#bd3786\"],[0.5555555555555556,\"#d8576b\"],[0.6666666666666666,\"#ed7953\"],[0.7777777777777778,\"#fb9f3a\"],[0.8888888888888888,\"#fdca26\"],[1.0,\"#f0f921\"]],\"sequentialminus\":[[0.0,\"#0d0887\"],[0.1111111111111111,\"#46039f\"],[0.2222222222222222,\"#7201a8\"],[0.3333333333333333,\"#9c179e\"],[0.4444444444444444,\"#bd3786\"],[0.5555555555555556,\"#d8576b\"],[0.6666666666666666,\"#ed7953\"],[0.7777777777777778,\"#fb9f3a\"],[0.8888888888888888,\"#fdca26\"],[1.0,\"#f0f921\"]]},\"colorway\":[\"#636efa\",\"#EF553B\",\"#00cc96\",\"#ab63fa\",\"#FFA15A\",\"#19d3f3\",\"#FF6692\",\"#B6E880\",\"#FF97FF\",\"#FECB52\"],\"font\":{\"color\":\"#f2f5fa\"},\"geo\":{\"bgcolor\":\"rgb(17,17,17)\",\"lakecolor\":\"rgb(17,17,17)\",\"landcolor\":\"rgb(17,17,17)\",\"showlakes\":true,\"showland\":true,\"subunitcolor\":\"#506784\"},\"hoverlabel\":{\"align\":\"left\"},\"hovermode\":\"closest\",\"mapbox\":{\"style\":\"dark\"},\"paper_bgcolor\":\"rgb(17,17,17)\",\"plot_bgcolor\":\"rgb(17,17,17)\",\"polar\":{\"angularaxis\":{\"gridcolor\":\"#506784\",\"linecolor\":\"#506784\",\"ticks\":\"\"},\"bgcolor\":\"rgb(17,17,17)\",\"radialaxis\":{\"gridcolor\":\"#506784\",\"linecolor\":\"#506784\",\"ticks\":\"\"}},\"scene\":{\"xaxis\":{\"backgroundcolor\":\"rgb(17,17,17)\",\"gridcolor\":\"#506784\",\"gridwidth\":2,\"linecolor\":\"#506784\",\"showbackground\":true,\"ticks\":\"\",\"zerolinecolor\":\"#C8D4E3\"},\"yaxis\":{\"backgroundcolor\":\"rgb(17,17,17)\",\"gridcolor\":\"#506784\",\"gridwidth\":2,\"linecolor\":\"#506784\",\"showbackground\":true,\"ticks\":\"\",\"zerolinecolor\":\"#C8D4E3\"},\"zaxis\":{\"backgroundcolor\":\"rgb(17,17,17)\",\"gridcolor\":\"#506784\",\"gridwidth\":2,\"linecolor\":\"#506784\",\"showbackground\":true,\"ticks\":\"\",\"zerolinecolor\":\"#C8D4E3\"}},\"shapedefaults\":{\"line\":{\"color\":\"#f2f5fa\"}},\"sliderdefaults\":{\"bgcolor\":\"#C8D4E3\",\"bordercolor\":\"rgb(17,17,17)\",\"borderwidth\":1,\"tickwidth\":0},\"ternary\":{\"aaxis\":{\"gridcolor\":\"#506784\",\"linecolor\":\"#506784\",\"ticks\":\"\"},\"baxis\":{\"gridcolor\":\"#506784\",\"linecolor\":\"#506784\",\"ticks\":\"\"},\"bgcolor\":\"rgb(17,17,17)\",\"caxis\":{\"gridcolor\":\"#506784\",\"linecolor\":\"#506784\",\"ticks\":\"\"}},\"title\":{\"x\":0.05},\"updatemenudefaults\":{\"bgcolor\":\"#506784\",\"borderwidth\":0},\"xaxis\":{\"automargin\":true,\"gridcolor\":\"#283442\",\"linecolor\":\"#506784\",\"ticks\":\"\",\"title\":{\"standoff\":15},\"zerolinecolor\":\"#283442\",\"zerolinewidth\":2},\"yaxis\":{\"automargin\":true,\"gridcolor\":\"#283442\",\"linecolor\":\"#506784\",\"ticks\":\"\",\"title\":{\"standoff\":15},\"zerolinecolor\":\"#283442\",\"zerolinewidth\":2}}},\"xaxis\":{\"anchor\":\"y\",\"domain\":[0.0,1.0],\"title\":{\"text\":\"Date\"}},\"yaxis\":{\"anchor\":\"x\",\"domain\":[0.0,1.0],\"title\":{\"text\":\"AAPL.High\"}},\"legend\":{\"tracegroupgap\":0},\"title\":{\"text\":\"AAPL High Prices\"}},                        {\"responsive\": true}                    ).then(function(){\n",
       "                            \n",
       "var gd = document.getElementById('0983e2af-e4d3-42a6-a9d9-5c5a77f7d24f');\n",
       "var x = new MutationObserver(function (mutations, observer) {{\n",
       "        var display = window.getComputedStyle(gd).display;\n",
       "        if (!display || display === 'none') {{\n",
       "            console.log([gd, 'removed!']);\n",
       "            Plotly.purge(gd);\n",
       "            observer.disconnect();\n",
       "        }}\n",
       "}});\n",
       "\n",
       "// Listen for the removal of the full notebook cells\n",
       "var notebookContainer = gd.closest('#notebook-container');\n",
       "if (notebookContainer) {{\n",
       "    x.observe(notebookContainer, {childList: true});\n",
       "}}\n",
       "\n",
       "// Listen for the clearing of the current output cell\n",
       "var outputEl = gd.closest('.output');\n",
       "if (outputEl) {{\n",
       "    x.observe(outputEl, {childList: true});\n",
       "}}\n",
       "\n",
       "                        })                };            </script>        </div>"
      ]
     },
     "metadata": {},
     "output_type": "display_data"
    }
   ],
   "source": [
    "# 01. Importar:\n",
    "#     Bibliotecas: matplotlib, numpy\n",
    "#     Módulos: pyplot\n",
    "import cufflinks as cf\n",
    "import pandas as pd\n",
    "import plotly.express as px\n",
    "\n",
    "# Load sample data\n",
    "df = pd.read_csv('https://raw.githubusercontent.com/plotly/datasets/master/finance-charts-apple.csv')\n",
    "\n",
    "# Create line plot with Cufflinks and Plotly\n",
    "fig = px.area(df, x='Date', y='AAPL.High', title='AAPL High Prices' , template='plotly_dark')\n",
    "fig.show()"
   ]
  },
  {
   "cell_type": "markdown",
   "id": "ed037c93",
   "metadata": {},
   "source": [
    "################################\n",
    "# Cell 18:\n",
    "################################\n",
    "\n",
    "<h2>  Exemplo 08 - Box Plot and Area Plot III </h2>\n",
    "\n",
    "<h2 style=\"background-color:orange;color:white;padding-top:10px;text-align:center;font-weight:bold;font-style:italic;font-size:1cm;padding-bottom:20px;\"> Exemplo 08 - Box Plot and Area Plot III  </h2>\n",
    "\n",
    "\n",
    " Markdown\n",
    " SHIFT + ENTER"
   ]
  },
  {
   "cell_type": "markdown",
   "id": "e9b55c51",
   "metadata": {},
   "source": [
    "\n",
    "################################\n",
    "# Cell 19:\n",
    "################################\n"
   ]
  },
  {
   "cell_type": "code",
   "execution_count": 9,
   "id": "df741db6",
   "metadata": {},
   "outputs": [
    {
     "data": {
      "application/vnd.plotly.v1+json": {
       "config": {
        "plotlyServerURL": "https://plot.ly"
       },
       "data": [
        {
         "fillpattern": {
          "shape": ""
         },
         "hovertemplate": "variable=y1<br>x=%{x}<br>value=%{y}<extra></extra>",
         "legendgroup": "y1",
         "line": {
          "color": "#636efa"
         },
         "marker": {
          "symbol": "circle"
         },
         "mode": "lines",
         "name": "y1",
         "orientation": "v",
         "showlegend": true,
         "stackgroup": "1",
         "type": "scatter",
         "x": {
          "bdata": "AQIDBAU=",
          "dtype": "i1"
         },
         "xaxis": "x",
         "y": {
          "bdata": "AgQBBQM=",
          "dtype": "i1"
         },
         "yaxis": "y"
        },
        {
         "fillpattern": {
          "shape": ""
         },
         "hovertemplate": "variable=y2<br>x=%{x}<br>value=%{y}<extra></extra>",
         "legendgroup": "y2",
         "line": {
          "color": "#EF553B"
         },
         "marker": {
          "symbol": "circle"
         },
         "mode": "lines",
         "name": "y2",
         "orientation": "v",
         "showlegend": true,
         "stackgroup": "1",
         "type": "scatter",
         "x": {
          "bdata": "AQIDBAU=",
          "dtype": "i1"
         },
         "xaxis": "x",
         "y": {
          "bdata": "AQMCBAI=",
          "dtype": "i1"
         },
         "yaxis": "y"
        }
       ],
       "layout": {
        "legend": {
         "title": {
          "text": "variable"
         },
         "tracegroupgap": 0
        },
        "template": {
         "data": {
          "bar": [
           {
            "error_x": {
             "color": "#f2f5fa"
            },
            "error_y": {
             "color": "#f2f5fa"
            },
            "marker": {
             "line": {
              "color": "rgb(17,17,17)",
              "width": 0.5
             },
             "pattern": {
              "fillmode": "overlay",
              "size": 10,
              "solidity": 0.2
             }
            },
            "type": "bar"
           }
          ],
          "barpolar": [
           {
            "marker": {
             "line": {
              "color": "rgb(17,17,17)",
              "width": 0.5
             },
             "pattern": {
              "fillmode": "overlay",
              "size": 10,
              "solidity": 0.2
             }
            },
            "type": "barpolar"
           }
          ],
          "carpet": [
           {
            "aaxis": {
             "endlinecolor": "#A2B1C6",
             "gridcolor": "#506784",
             "linecolor": "#506784",
             "minorgridcolor": "#506784",
             "startlinecolor": "#A2B1C6"
            },
            "baxis": {
             "endlinecolor": "#A2B1C6",
             "gridcolor": "#506784",
             "linecolor": "#506784",
             "minorgridcolor": "#506784",
             "startlinecolor": "#A2B1C6"
            },
            "type": "carpet"
           }
          ],
          "choropleth": [
           {
            "colorbar": {
             "outlinewidth": 0,
             "ticks": ""
            },
            "type": "choropleth"
           }
          ],
          "contour": [
           {
            "colorbar": {
             "outlinewidth": 0,
             "ticks": ""
            },
            "colorscale": [
             [
              0,
              "#0d0887"
             ],
             [
              0.1111111111111111,
              "#46039f"
             ],
             [
              0.2222222222222222,
              "#7201a8"
             ],
             [
              0.3333333333333333,
              "#9c179e"
             ],
             [
              0.4444444444444444,
              "#bd3786"
             ],
             [
              0.5555555555555556,
              "#d8576b"
             ],
             [
              0.6666666666666666,
              "#ed7953"
             ],
             [
              0.7777777777777778,
              "#fb9f3a"
             ],
             [
              0.8888888888888888,
              "#fdca26"
             ],
             [
              1,
              "#f0f921"
             ]
            ],
            "type": "contour"
           }
          ],
          "contourcarpet": [
           {
            "colorbar": {
             "outlinewidth": 0,
             "ticks": ""
            },
            "type": "contourcarpet"
           }
          ],
          "heatmap": [
           {
            "colorbar": {
             "outlinewidth": 0,
             "ticks": ""
            },
            "colorscale": [
             [
              0,
              "#0d0887"
             ],
             [
              0.1111111111111111,
              "#46039f"
             ],
             [
              0.2222222222222222,
              "#7201a8"
             ],
             [
              0.3333333333333333,
              "#9c179e"
             ],
             [
              0.4444444444444444,
              "#bd3786"
             ],
             [
              0.5555555555555556,
              "#d8576b"
             ],
             [
              0.6666666666666666,
              "#ed7953"
             ],
             [
              0.7777777777777778,
              "#fb9f3a"
             ],
             [
              0.8888888888888888,
              "#fdca26"
             ],
             [
              1,
              "#f0f921"
             ]
            ],
            "type": "heatmap"
           }
          ],
          "histogram": [
           {
            "marker": {
             "pattern": {
              "fillmode": "overlay",
              "size": 10,
              "solidity": 0.2
             }
            },
            "type": "histogram"
           }
          ],
          "histogram2d": [
           {
            "colorbar": {
             "outlinewidth": 0,
             "ticks": ""
            },
            "colorscale": [
             [
              0,
              "#0d0887"
             ],
             [
              0.1111111111111111,
              "#46039f"
             ],
             [
              0.2222222222222222,
              "#7201a8"
             ],
             [
              0.3333333333333333,
              "#9c179e"
             ],
             [
              0.4444444444444444,
              "#bd3786"
             ],
             [
              0.5555555555555556,
              "#d8576b"
             ],
             [
              0.6666666666666666,
              "#ed7953"
             ],
             [
              0.7777777777777778,
              "#fb9f3a"
             ],
             [
              0.8888888888888888,
              "#fdca26"
             ],
             [
              1,
              "#f0f921"
             ]
            ],
            "type": "histogram2d"
           }
          ],
          "histogram2dcontour": [
           {
            "colorbar": {
             "outlinewidth": 0,
             "ticks": ""
            },
            "colorscale": [
             [
              0,
              "#0d0887"
             ],
             [
              0.1111111111111111,
              "#46039f"
             ],
             [
              0.2222222222222222,
              "#7201a8"
             ],
             [
              0.3333333333333333,
              "#9c179e"
             ],
             [
              0.4444444444444444,
              "#bd3786"
             ],
             [
              0.5555555555555556,
              "#d8576b"
             ],
             [
              0.6666666666666666,
              "#ed7953"
             ],
             [
              0.7777777777777778,
              "#fb9f3a"
             ],
             [
              0.8888888888888888,
              "#fdca26"
             ],
             [
              1,
              "#f0f921"
             ]
            ],
            "type": "histogram2dcontour"
           }
          ],
          "mesh3d": [
           {
            "colorbar": {
             "outlinewidth": 0,
             "ticks": ""
            },
            "type": "mesh3d"
           }
          ],
          "parcoords": [
           {
            "line": {
             "colorbar": {
              "outlinewidth": 0,
              "ticks": ""
             }
            },
            "type": "parcoords"
           }
          ],
          "pie": [
           {
            "automargin": true,
            "type": "pie"
           }
          ],
          "scatter": [
           {
            "marker": {
             "line": {
              "color": "#283442"
             }
            },
            "type": "scatter"
           }
          ],
          "scatter3d": [
           {
            "line": {
             "colorbar": {
              "outlinewidth": 0,
              "ticks": ""
             }
            },
            "marker": {
             "colorbar": {
              "outlinewidth": 0,
              "ticks": ""
             }
            },
            "type": "scatter3d"
           }
          ],
          "scattercarpet": [
           {
            "marker": {
             "colorbar": {
              "outlinewidth": 0,
              "ticks": ""
             }
            },
            "type": "scattercarpet"
           }
          ],
          "scattergeo": [
           {
            "marker": {
             "colorbar": {
              "outlinewidth": 0,
              "ticks": ""
             }
            },
            "type": "scattergeo"
           }
          ],
          "scattergl": [
           {
            "marker": {
             "line": {
              "color": "#283442"
             }
            },
            "type": "scattergl"
           }
          ],
          "scattermap": [
           {
            "marker": {
             "colorbar": {
              "outlinewidth": 0,
              "ticks": ""
             }
            },
            "type": "scattermap"
           }
          ],
          "scattermapbox": [
           {
            "marker": {
             "colorbar": {
              "outlinewidth": 0,
              "ticks": ""
             }
            },
            "type": "scattermapbox"
           }
          ],
          "scatterpolar": [
           {
            "marker": {
             "colorbar": {
              "outlinewidth": 0,
              "ticks": ""
             }
            },
            "type": "scatterpolar"
           }
          ],
          "scatterpolargl": [
           {
            "marker": {
             "colorbar": {
              "outlinewidth": 0,
              "ticks": ""
             }
            },
            "type": "scatterpolargl"
           }
          ],
          "scatterternary": [
           {
            "marker": {
             "colorbar": {
              "outlinewidth": 0,
              "ticks": ""
             }
            },
            "type": "scatterternary"
           }
          ],
          "surface": [
           {
            "colorbar": {
             "outlinewidth": 0,
             "ticks": ""
            },
            "colorscale": [
             [
              0,
              "#0d0887"
             ],
             [
              0.1111111111111111,
              "#46039f"
             ],
             [
              0.2222222222222222,
              "#7201a8"
             ],
             [
              0.3333333333333333,
              "#9c179e"
             ],
             [
              0.4444444444444444,
              "#bd3786"
             ],
             [
              0.5555555555555556,
              "#d8576b"
             ],
             [
              0.6666666666666666,
              "#ed7953"
             ],
             [
              0.7777777777777778,
              "#fb9f3a"
             ],
             [
              0.8888888888888888,
              "#fdca26"
             ],
             [
              1,
              "#f0f921"
             ]
            ],
            "type": "surface"
           }
          ],
          "table": [
           {
            "cells": {
             "fill": {
              "color": "#506784"
             },
             "line": {
              "color": "rgb(17,17,17)"
             }
            },
            "header": {
             "fill": {
              "color": "#2a3f5f"
             },
             "line": {
              "color": "rgb(17,17,17)"
             }
            },
            "type": "table"
           }
          ]
         },
         "layout": {
          "annotationdefaults": {
           "arrowcolor": "#f2f5fa",
           "arrowhead": 0,
           "arrowwidth": 1
          },
          "autotypenumbers": "strict",
          "coloraxis": {
           "colorbar": {
            "outlinewidth": 0,
            "ticks": ""
           }
          },
          "colorscale": {
           "diverging": [
            [
             0,
             "#8e0152"
            ],
            [
             0.1,
             "#c51b7d"
            ],
            [
             0.2,
             "#de77ae"
            ],
            [
             0.3,
             "#f1b6da"
            ],
            [
             0.4,
             "#fde0ef"
            ],
            [
             0.5,
             "#f7f7f7"
            ],
            [
             0.6,
             "#e6f5d0"
            ],
            [
             0.7,
             "#b8e186"
            ],
            [
             0.8,
             "#7fbc41"
            ],
            [
             0.9,
             "#4d9221"
            ],
            [
             1,
             "#276419"
            ]
           ],
           "sequential": [
            [
             0,
             "#0d0887"
            ],
            [
             0.1111111111111111,
             "#46039f"
            ],
            [
             0.2222222222222222,
             "#7201a8"
            ],
            [
             0.3333333333333333,
             "#9c179e"
            ],
            [
             0.4444444444444444,
             "#bd3786"
            ],
            [
             0.5555555555555556,
             "#d8576b"
            ],
            [
             0.6666666666666666,
             "#ed7953"
            ],
            [
             0.7777777777777778,
             "#fb9f3a"
            ],
            [
             0.8888888888888888,
             "#fdca26"
            ],
            [
             1,
             "#f0f921"
            ]
           ],
           "sequentialminus": [
            [
             0,
             "#0d0887"
            ],
            [
             0.1111111111111111,
             "#46039f"
            ],
            [
             0.2222222222222222,
             "#7201a8"
            ],
            [
             0.3333333333333333,
             "#9c179e"
            ],
            [
             0.4444444444444444,
             "#bd3786"
            ],
            [
             0.5555555555555556,
             "#d8576b"
            ],
            [
             0.6666666666666666,
             "#ed7953"
            ],
            [
             0.7777777777777778,
             "#fb9f3a"
            ],
            [
             0.8888888888888888,
             "#fdca26"
            ],
            [
             1,
             "#f0f921"
            ]
           ]
          },
          "colorway": [
           "#636efa",
           "#EF553B",
           "#00cc96",
           "#ab63fa",
           "#FFA15A",
           "#19d3f3",
           "#FF6692",
           "#B6E880",
           "#FF97FF",
           "#FECB52"
          ],
          "font": {
           "color": "#f2f5fa"
          },
          "geo": {
           "bgcolor": "rgb(17,17,17)",
           "lakecolor": "rgb(17,17,17)",
           "landcolor": "rgb(17,17,17)",
           "showlakes": true,
           "showland": true,
           "subunitcolor": "#506784"
          },
          "hoverlabel": {
           "align": "left"
          },
          "hovermode": "closest",
          "mapbox": {
           "style": "dark"
          },
          "paper_bgcolor": "rgb(17,17,17)",
          "plot_bgcolor": "rgb(17,17,17)",
          "polar": {
           "angularaxis": {
            "gridcolor": "#506784",
            "linecolor": "#506784",
            "ticks": ""
           },
           "bgcolor": "rgb(17,17,17)",
           "radialaxis": {
            "gridcolor": "#506784",
            "linecolor": "#506784",
            "ticks": ""
           }
          },
          "scene": {
           "xaxis": {
            "backgroundcolor": "rgb(17,17,17)",
            "gridcolor": "#506784",
            "gridwidth": 2,
            "linecolor": "#506784",
            "showbackground": true,
            "ticks": "",
            "zerolinecolor": "#C8D4E3"
           },
           "yaxis": {
            "backgroundcolor": "rgb(17,17,17)",
            "gridcolor": "#506784",
            "gridwidth": 2,
            "linecolor": "#506784",
            "showbackground": true,
            "ticks": "",
            "zerolinecolor": "#C8D4E3"
           },
           "zaxis": {
            "backgroundcolor": "rgb(17,17,17)",
            "gridcolor": "#506784",
            "gridwidth": 2,
            "linecolor": "#506784",
            "showbackground": true,
            "ticks": "",
            "zerolinecolor": "#C8D4E3"
           }
          },
          "shapedefaults": {
           "line": {
            "color": "#f2f5fa"
           }
          },
          "sliderdefaults": {
           "bgcolor": "#C8D4E3",
           "bordercolor": "rgb(17,17,17)",
           "borderwidth": 1,
           "tickwidth": 0
          },
          "ternary": {
           "aaxis": {
            "gridcolor": "#506784",
            "linecolor": "#506784",
            "ticks": ""
           },
           "baxis": {
            "gridcolor": "#506784",
            "linecolor": "#506784",
            "ticks": ""
           },
           "bgcolor": "rgb(17,17,17)",
           "caxis": {
            "gridcolor": "#506784",
            "linecolor": "#506784",
            "ticks": ""
           }
          },
          "title": {
           "x": 0.05
          },
          "updatemenudefaults": {
           "bgcolor": "#506784",
           "borderwidth": 0
          },
          "xaxis": {
           "automargin": true,
           "gridcolor": "#283442",
           "linecolor": "#506784",
           "ticks": "",
           "title": {
            "standoff": 15
           },
           "zerolinecolor": "#283442",
           "zerolinewidth": 2
          },
          "yaxis": {
           "automargin": true,
           "gridcolor": "#283442",
           "linecolor": "#506784",
           "ticks": "",
           "title": {
            "standoff": 15
           },
           "zerolinecolor": "#283442",
           "zerolinewidth": 2
          }
         }
        },
        "title": {
         "text": "Area Plot"
        },
        "xaxis": {
         "anchor": "y",
         "domain": [
          0,
          1
         ],
         "title": {
          "text": "x"
         }
        },
        "yaxis": {
         "anchor": "x",
         "domain": [
          0,
          1
         ],
         "title": {
          "text": "value"
         }
        }
       }
      },
      "text/html": [
       "<div>            <script src=\"https://cdnjs.cloudflare.com/ajax/libs/mathjax/2.7.5/MathJax.js?config=TeX-AMS-MML_SVG\"></script><script type=\"text/javascript\">if (window.MathJax && window.MathJax.Hub && window.MathJax.Hub.Config) {window.MathJax.Hub.Config({SVG: {font: \"STIX-Web\"}});}</script>                <script type=\"text/javascript\">window.PlotlyConfig = {MathJaxConfig: 'local'};</script>\n",
       "        <script charset=\"utf-8\" src=\"https://cdn.plot.ly/plotly-3.0.1.min.js\"></script>                <div id=\"c2fe37a3-e028-43a0-94f0-9dc053cbf7a1\" class=\"plotly-graph-div\" style=\"height:525px; width:100%;\"></div>            <script type=\"text/javascript\">                window.PLOTLYENV=window.PLOTLYENV || {};                                if (document.getElementById(\"c2fe37a3-e028-43a0-94f0-9dc053cbf7a1\")) {                    Plotly.newPlot(                        \"c2fe37a3-e028-43a0-94f0-9dc053cbf7a1\",                        [{\"fillpattern\":{\"shape\":\"\"},\"hovertemplate\":\"variable=y1\\u003cbr\\u003ex=%{x}\\u003cbr\\u003evalue=%{y}\\u003cextra\\u003e\\u003c\\u002fextra\\u003e\",\"legendgroup\":\"y1\",\"line\":{\"color\":\"#636efa\"},\"marker\":{\"symbol\":\"circle\"},\"mode\":\"lines\",\"name\":\"y1\",\"orientation\":\"v\",\"showlegend\":true,\"stackgroup\":\"1\",\"x\":{\"dtype\":\"i1\",\"bdata\":\"AQIDBAU=\"},\"xaxis\":\"x\",\"y\":{\"dtype\":\"i1\",\"bdata\":\"AgQBBQM=\"},\"yaxis\":\"y\",\"type\":\"scatter\"},{\"fillpattern\":{\"shape\":\"\"},\"hovertemplate\":\"variable=y2\\u003cbr\\u003ex=%{x}\\u003cbr\\u003evalue=%{y}\\u003cextra\\u003e\\u003c\\u002fextra\\u003e\",\"legendgroup\":\"y2\",\"line\":{\"color\":\"#EF553B\"},\"marker\":{\"symbol\":\"circle\"},\"mode\":\"lines\",\"name\":\"y2\",\"orientation\":\"v\",\"showlegend\":true,\"stackgroup\":\"1\",\"x\":{\"dtype\":\"i1\",\"bdata\":\"AQIDBAU=\"},\"xaxis\":\"x\",\"y\":{\"dtype\":\"i1\",\"bdata\":\"AQMCBAI=\"},\"yaxis\":\"y\",\"type\":\"scatter\"}],                        {\"template\":{\"data\":{\"barpolar\":[{\"marker\":{\"line\":{\"color\":\"rgb(17,17,17)\",\"width\":0.5},\"pattern\":{\"fillmode\":\"overlay\",\"size\":10,\"solidity\":0.2}},\"type\":\"barpolar\"}],\"bar\":[{\"error_x\":{\"color\":\"#f2f5fa\"},\"error_y\":{\"color\":\"#f2f5fa\"},\"marker\":{\"line\":{\"color\":\"rgb(17,17,17)\",\"width\":0.5},\"pattern\":{\"fillmode\":\"overlay\",\"size\":10,\"solidity\":0.2}},\"type\":\"bar\"}],\"carpet\":[{\"aaxis\":{\"endlinecolor\":\"#A2B1C6\",\"gridcolor\":\"#506784\",\"linecolor\":\"#506784\",\"minorgridcolor\":\"#506784\",\"startlinecolor\":\"#A2B1C6\"},\"baxis\":{\"endlinecolor\":\"#A2B1C6\",\"gridcolor\":\"#506784\",\"linecolor\":\"#506784\",\"minorgridcolor\":\"#506784\",\"startlinecolor\":\"#A2B1C6\"},\"type\":\"carpet\"}],\"choropleth\":[{\"colorbar\":{\"outlinewidth\":0,\"ticks\":\"\"},\"type\":\"choropleth\"}],\"contourcarpet\":[{\"colorbar\":{\"outlinewidth\":0,\"ticks\":\"\"},\"type\":\"contourcarpet\"}],\"contour\":[{\"colorbar\":{\"outlinewidth\":0,\"ticks\":\"\"},\"colorscale\":[[0.0,\"#0d0887\"],[0.1111111111111111,\"#46039f\"],[0.2222222222222222,\"#7201a8\"],[0.3333333333333333,\"#9c179e\"],[0.4444444444444444,\"#bd3786\"],[0.5555555555555556,\"#d8576b\"],[0.6666666666666666,\"#ed7953\"],[0.7777777777777778,\"#fb9f3a\"],[0.8888888888888888,\"#fdca26\"],[1.0,\"#f0f921\"]],\"type\":\"contour\"}],\"heatmap\":[{\"colorbar\":{\"outlinewidth\":0,\"ticks\":\"\"},\"colorscale\":[[0.0,\"#0d0887\"],[0.1111111111111111,\"#46039f\"],[0.2222222222222222,\"#7201a8\"],[0.3333333333333333,\"#9c179e\"],[0.4444444444444444,\"#bd3786\"],[0.5555555555555556,\"#d8576b\"],[0.6666666666666666,\"#ed7953\"],[0.7777777777777778,\"#fb9f3a\"],[0.8888888888888888,\"#fdca26\"],[1.0,\"#f0f921\"]],\"type\":\"heatmap\"}],\"histogram2dcontour\":[{\"colorbar\":{\"outlinewidth\":0,\"ticks\":\"\"},\"colorscale\":[[0.0,\"#0d0887\"],[0.1111111111111111,\"#46039f\"],[0.2222222222222222,\"#7201a8\"],[0.3333333333333333,\"#9c179e\"],[0.4444444444444444,\"#bd3786\"],[0.5555555555555556,\"#d8576b\"],[0.6666666666666666,\"#ed7953\"],[0.7777777777777778,\"#fb9f3a\"],[0.8888888888888888,\"#fdca26\"],[1.0,\"#f0f921\"]],\"type\":\"histogram2dcontour\"}],\"histogram2d\":[{\"colorbar\":{\"outlinewidth\":0,\"ticks\":\"\"},\"colorscale\":[[0.0,\"#0d0887\"],[0.1111111111111111,\"#46039f\"],[0.2222222222222222,\"#7201a8\"],[0.3333333333333333,\"#9c179e\"],[0.4444444444444444,\"#bd3786\"],[0.5555555555555556,\"#d8576b\"],[0.6666666666666666,\"#ed7953\"],[0.7777777777777778,\"#fb9f3a\"],[0.8888888888888888,\"#fdca26\"],[1.0,\"#f0f921\"]],\"type\":\"histogram2d\"}],\"histogram\":[{\"marker\":{\"pattern\":{\"fillmode\":\"overlay\",\"size\":10,\"solidity\":0.2}},\"type\":\"histogram\"}],\"mesh3d\":[{\"colorbar\":{\"outlinewidth\":0,\"ticks\":\"\"},\"type\":\"mesh3d\"}],\"parcoords\":[{\"line\":{\"colorbar\":{\"outlinewidth\":0,\"ticks\":\"\"}},\"type\":\"parcoords\"}],\"pie\":[{\"automargin\":true,\"type\":\"pie\"}],\"scatter3d\":[{\"line\":{\"colorbar\":{\"outlinewidth\":0,\"ticks\":\"\"}},\"marker\":{\"colorbar\":{\"outlinewidth\":0,\"ticks\":\"\"}},\"type\":\"scatter3d\"}],\"scattercarpet\":[{\"marker\":{\"colorbar\":{\"outlinewidth\":0,\"ticks\":\"\"}},\"type\":\"scattercarpet\"}],\"scattergeo\":[{\"marker\":{\"colorbar\":{\"outlinewidth\":0,\"ticks\":\"\"}},\"type\":\"scattergeo\"}],\"scattergl\":[{\"marker\":{\"line\":{\"color\":\"#283442\"}},\"type\":\"scattergl\"}],\"scattermapbox\":[{\"marker\":{\"colorbar\":{\"outlinewidth\":0,\"ticks\":\"\"}},\"type\":\"scattermapbox\"}],\"scattermap\":[{\"marker\":{\"colorbar\":{\"outlinewidth\":0,\"ticks\":\"\"}},\"type\":\"scattermap\"}],\"scatterpolargl\":[{\"marker\":{\"colorbar\":{\"outlinewidth\":0,\"ticks\":\"\"}},\"type\":\"scatterpolargl\"}],\"scatterpolar\":[{\"marker\":{\"colorbar\":{\"outlinewidth\":0,\"ticks\":\"\"}},\"type\":\"scatterpolar\"}],\"scatter\":[{\"marker\":{\"line\":{\"color\":\"#283442\"}},\"type\":\"scatter\"}],\"scatterternary\":[{\"marker\":{\"colorbar\":{\"outlinewidth\":0,\"ticks\":\"\"}},\"type\":\"scatterternary\"}],\"surface\":[{\"colorbar\":{\"outlinewidth\":0,\"ticks\":\"\"},\"colorscale\":[[0.0,\"#0d0887\"],[0.1111111111111111,\"#46039f\"],[0.2222222222222222,\"#7201a8\"],[0.3333333333333333,\"#9c179e\"],[0.4444444444444444,\"#bd3786\"],[0.5555555555555556,\"#d8576b\"],[0.6666666666666666,\"#ed7953\"],[0.7777777777777778,\"#fb9f3a\"],[0.8888888888888888,\"#fdca26\"],[1.0,\"#f0f921\"]],\"type\":\"surface\"}],\"table\":[{\"cells\":{\"fill\":{\"color\":\"#506784\"},\"line\":{\"color\":\"rgb(17,17,17)\"}},\"header\":{\"fill\":{\"color\":\"#2a3f5f\"},\"line\":{\"color\":\"rgb(17,17,17)\"}},\"type\":\"table\"}]},\"layout\":{\"annotationdefaults\":{\"arrowcolor\":\"#f2f5fa\",\"arrowhead\":0,\"arrowwidth\":1},\"autotypenumbers\":\"strict\",\"coloraxis\":{\"colorbar\":{\"outlinewidth\":0,\"ticks\":\"\"}},\"colorscale\":{\"diverging\":[[0,\"#8e0152\"],[0.1,\"#c51b7d\"],[0.2,\"#de77ae\"],[0.3,\"#f1b6da\"],[0.4,\"#fde0ef\"],[0.5,\"#f7f7f7\"],[0.6,\"#e6f5d0\"],[0.7,\"#b8e186\"],[0.8,\"#7fbc41\"],[0.9,\"#4d9221\"],[1,\"#276419\"]],\"sequential\":[[0.0,\"#0d0887\"],[0.1111111111111111,\"#46039f\"],[0.2222222222222222,\"#7201a8\"],[0.3333333333333333,\"#9c179e\"],[0.4444444444444444,\"#bd3786\"],[0.5555555555555556,\"#d8576b\"],[0.6666666666666666,\"#ed7953\"],[0.7777777777777778,\"#fb9f3a\"],[0.8888888888888888,\"#fdca26\"],[1.0,\"#f0f921\"]],\"sequentialminus\":[[0.0,\"#0d0887\"],[0.1111111111111111,\"#46039f\"],[0.2222222222222222,\"#7201a8\"],[0.3333333333333333,\"#9c179e\"],[0.4444444444444444,\"#bd3786\"],[0.5555555555555556,\"#d8576b\"],[0.6666666666666666,\"#ed7953\"],[0.7777777777777778,\"#fb9f3a\"],[0.8888888888888888,\"#fdca26\"],[1.0,\"#f0f921\"]]},\"colorway\":[\"#636efa\",\"#EF553B\",\"#00cc96\",\"#ab63fa\",\"#FFA15A\",\"#19d3f3\",\"#FF6692\",\"#B6E880\",\"#FF97FF\",\"#FECB52\"],\"font\":{\"color\":\"#f2f5fa\"},\"geo\":{\"bgcolor\":\"rgb(17,17,17)\",\"lakecolor\":\"rgb(17,17,17)\",\"landcolor\":\"rgb(17,17,17)\",\"showlakes\":true,\"showland\":true,\"subunitcolor\":\"#506784\"},\"hoverlabel\":{\"align\":\"left\"},\"hovermode\":\"closest\",\"mapbox\":{\"style\":\"dark\"},\"paper_bgcolor\":\"rgb(17,17,17)\",\"plot_bgcolor\":\"rgb(17,17,17)\",\"polar\":{\"angularaxis\":{\"gridcolor\":\"#506784\",\"linecolor\":\"#506784\",\"ticks\":\"\"},\"bgcolor\":\"rgb(17,17,17)\",\"radialaxis\":{\"gridcolor\":\"#506784\",\"linecolor\":\"#506784\",\"ticks\":\"\"}},\"scene\":{\"xaxis\":{\"backgroundcolor\":\"rgb(17,17,17)\",\"gridcolor\":\"#506784\",\"gridwidth\":2,\"linecolor\":\"#506784\",\"showbackground\":true,\"ticks\":\"\",\"zerolinecolor\":\"#C8D4E3\"},\"yaxis\":{\"backgroundcolor\":\"rgb(17,17,17)\",\"gridcolor\":\"#506784\",\"gridwidth\":2,\"linecolor\":\"#506784\",\"showbackground\":true,\"ticks\":\"\",\"zerolinecolor\":\"#C8D4E3\"},\"zaxis\":{\"backgroundcolor\":\"rgb(17,17,17)\",\"gridcolor\":\"#506784\",\"gridwidth\":2,\"linecolor\":\"#506784\",\"showbackground\":true,\"ticks\":\"\",\"zerolinecolor\":\"#C8D4E3\"}},\"shapedefaults\":{\"line\":{\"color\":\"#f2f5fa\"}},\"sliderdefaults\":{\"bgcolor\":\"#C8D4E3\",\"bordercolor\":\"rgb(17,17,17)\",\"borderwidth\":1,\"tickwidth\":0},\"ternary\":{\"aaxis\":{\"gridcolor\":\"#506784\",\"linecolor\":\"#506784\",\"ticks\":\"\"},\"baxis\":{\"gridcolor\":\"#506784\",\"linecolor\":\"#506784\",\"ticks\":\"\"},\"bgcolor\":\"rgb(17,17,17)\",\"caxis\":{\"gridcolor\":\"#506784\",\"linecolor\":\"#506784\",\"ticks\":\"\"}},\"title\":{\"x\":0.05},\"updatemenudefaults\":{\"bgcolor\":\"#506784\",\"borderwidth\":0},\"xaxis\":{\"automargin\":true,\"gridcolor\":\"#283442\",\"linecolor\":\"#506784\",\"ticks\":\"\",\"title\":{\"standoff\":15},\"zerolinecolor\":\"#283442\",\"zerolinewidth\":2},\"yaxis\":{\"automargin\":true,\"gridcolor\":\"#283442\",\"linecolor\":\"#506784\",\"ticks\":\"\",\"title\":{\"standoff\":15},\"zerolinecolor\":\"#283442\",\"zerolinewidth\":2}}},\"xaxis\":{\"anchor\":\"y\",\"domain\":[0.0,1.0],\"title\":{\"text\":\"x\"}},\"yaxis\":{\"anchor\":\"x\",\"domain\":[0.0,1.0],\"title\":{\"text\":\"value\"}},\"legend\":{\"title\":{\"text\":\"variable\"},\"tracegroupgap\":0},\"title\":{\"text\":\"Area Plot\"}},                        {\"responsive\": true}                    ).then(function(){\n",
       "                            \n",
       "var gd = document.getElementById('c2fe37a3-e028-43a0-94f0-9dc053cbf7a1');\n",
       "var x = new MutationObserver(function (mutations, observer) {{\n",
       "        var display = window.getComputedStyle(gd).display;\n",
       "        if (!display || display === 'none') {{\n",
       "            console.log([gd, 'removed!']);\n",
       "            Plotly.purge(gd);\n",
       "            observer.disconnect();\n",
       "        }}\n",
       "}});\n",
       "\n",
       "// Listen for the removal of the full notebook cells\n",
       "var notebookContainer = gd.closest('#notebook-container');\n",
       "if (notebookContainer) {{\n",
       "    x.observe(notebookContainer, {childList: true});\n",
       "}}\n",
       "\n",
       "// Listen for the clearing of the current output cell\n",
       "var outputEl = gd.closest('.output');\n",
       "if (outputEl) {{\n",
       "    x.observe(outputEl, {childList: true});\n",
       "}}\n",
       "\n",
       "                        })                };            </script>        </div>"
      ]
     },
     "metadata": {},
     "output_type": "display_data"
    }
   ],
   "source": [
    "# 01. Importar:\n",
    "#     Bibliotecas: matplotlib, numpy\n",
    "#     Módulos: pyplot\n",
    "import plotly.express as px\n",
    "import pandas as pd\n",
    "\n",
    "# Create sample data\n",
    "data = pd.DataFrame({\n",
    "    'x': [1, 2, 3, 4, 5],\n",
    "    'y1': [2, 4, 1, 5, 3],\n",
    "    'y2': [1, 3, 2, 4, 2]\n",
    "})\n",
    "\n",
    "# Create area plot\n",
    "fig = px.area(data, x='x', y=['y1', 'y2'], title='Area Plot' ,template='plotly_dark')\n",
    "\n",
    "# Show plot\n",
    "fig.show()"
   ]
  },
  {
   "cell_type": "markdown",
   "id": "650a9620",
   "metadata": {},
   "source": [
    "################################\n",
    "# Cell 20:\n",
    "################################\n",
    "\n",
    "<h2>  Exemplo 09 - Templates Themes </h2>\n",
    "\n",
    "<h2 style=\"background-color:orange;color:white;padding-top:10px;text-align:center;font-weight:bold;font-style:italic;font-size:1cm;padding-bottom:20px;\">  Exemplo 09 - Templates Themes   </h2>\n",
    "\n",
    "\n",
    " Markdown\n",
    " SHIFT + ENTER"
   ]
  },
  {
   "cell_type": "markdown",
   "id": "fc1ec50f",
   "metadata": {},
   "source": [
    "################################\n",
    "# Cell 21:\n",
    "################################\n"
   ]
  },
  {
   "cell_type": "code",
   "execution_count": 10,
   "id": "7ff1144b",
   "metadata": {},
   "outputs": [
    {
     "data": {
      "application/vnd.plotly.v1+json": {
       "config": {
        "plotlyServerURL": "https://plot.ly"
       },
       "data": [
        {
         "type": "surface",
         "z": {
          "bdata": "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",
          "dtype": "f8",
          "shape": "25, 25"
         }
        }
       ],
       "layout": {
        "height": 500,
        "template": {
         "data": {
          "bar": [
           {
            "error_x": {
             "color": "#2a3f5f"
            },
            "error_y": {
             "color": "#2a3f5f"
            },
            "marker": {
             "line": {
              "color": "#E5ECF6",
              "width": 0.5
             },
             "pattern": {
              "fillmode": "overlay",
              "size": 10,
              "solidity": 0.2
             }
            },
            "type": "bar"
           }
          ],
          "barpolar": [
           {
            "marker": {
             "line": {
              "color": "#E5ECF6",
              "width": 0.5
             },
             "pattern": {
              "fillmode": "overlay",
              "size": 10,
              "solidity": 0.2
             }
            },
            "type": "barpolar"
           }
          ],
          "carpet": [
           {
            "aaxis": {
             "endlinecolor": "#2a3f5f",
             "gridcolor": "white",
             "linecolor": "white",
             "minorgridcolor": "white",
             "startlinecolor": "#2a3f5f"
            },
            "baxis": {
             "endlinecolor": "#2a3f5f",
             "gridcolor": "white",
             "linecolor": "white",
             "minorgridcolor": "white",
             "startlinecolor": "#2a3f5f"
            },
            "type": "carpet"
           }
          ],
          "choropleth": [
           {
            "colorbar": {
             "outlinewidth": 0,
             "ticks": ""
            },
            "type": "choropleth"
           }
          ],
          "contour": [
           {
            "colorbar": {
             "outlinewidth": 0,
             "ticks": ""
            },
            "colorscale": [
             [
              0,
              "#0d0887"
             ],
             [
              0.1111111111111111,
              "#46039f"
             ],
             [
              0.2222222222222222,
              "#7201a8"
             ],
             [
              0.3333333333333333,
              "#9c179e"
             ],
             [
              0.4444444444444444,
              "#bd3786"
             ],
             [
              0.5555555555555556,
              "#d8576b"
             ],
             [
              0.6666666666666666,
              "#ed7953"
             ],
             [
              0.7777777777777778,
              "#fb9f3a"
             ],
             [
              0.8888888888888888,
              "#fdca26"
             ],
             [
              1,
              "#f0f921"
             ]
            ],
            "type": "contour"
           }
          ],
          "contourcarpet": [
           {
            "colorbar": {
             "outlinewidth": 0,
             "ticks": ""
            },
            "type": "contourcarpet"
           }
          ],
          "heatmap": [
           {
            "colorbar": {
             "outlinewidth": 0,
             "ticks": ""
            },
            "colorscale": [
             [
              0,
              "#0d0887"
             ],
             [
              0.1111111111111111,
              "#46039f"
             ],
             [
              0.2222222222222222,
              "#7201a8"
             ],
             [
              0.3333333333333333,
              "#9c179e"
             ],
             [
              0.4444444444444444,
              "#bd3786"
             ],
             [
              0.5555555555555556,
              "#d8576b"
             ],
             [
              0.6666666666666666,
              "#ed7953"
             ],
             [
              0.7777777777777778,
              "#fb9f3a"
             ],
             [
              0.8888888888888888,
              "#fdca26"
             ],
             [
              1,
              "#f0f921"
             ]
            ],
            "type": "heatmap"
           }
          ],
          "histogram": [
           {
            "marker": {
             "pattern": {
              "fillmode": "overlay",
              "size": 10,
              "solidity": 0.2
             }
            },
            "type": "histogram"
           }
          ],
          "histogram2d": [
           {
            "colorbar": {
             "outlinewidth": 0,
             "ticks": ""
            },
            "colorscale": [
             [
              0,
              "#0d0887"
             ],
             [
              0.1111111111111111,
              "#46039f"
             ],
             [
              0.2222222222222222,
              "#7201a8"
             ],
             [
              0.3333333333333333,
              "#9c179e"
             ],
             [
              0.4444444444444444,
              "#bd3786"
             ],
             [
              0.5555555555555556,
              "#d8576b"
             ],
             [
              0.6666666666666666,
              "#ed7953"
             ],
             [
              0.7777777777777778,
              "#fb9f3a"
             ],
             [
              0.8888888888888888,
              "#fdca26"
             ],
             [
              1,
              "#f0f921"
             ]
            ],
            "type": "histogram2d"
           }
          ],
          "histogram2dcontour": [
           {
            "colorbar": {
             "outlinewidth": 0,
             "ticks": ""
            },
            "colorscale": [
             [
              0,
              "#0d0887"
             ],
             [
              0.1111111111111111,
              "#46039f"
             ],
             [
              0.2222222222222222,
              "#7201a8"
             ],
             [
              0.3333333333333333,
              "#9c179e"
             ],
             [
              0.4444444444444444,
              "#bd3786"
             ],
             [
              0.5555555555555556,
              "#d8576b"
             ],
             [
              0.6666666666666666,
              "#ed7953"
             ],
             [
              0.7777777777777778,
              "#fb9f3a"
             ],
             [
              0.8888888888888888,
              "#fdca26"
             ],
             [
              1,
              "#f0f921"
             ]
            ],
            "type": "histogram2dcontour"
           }
          ],
          "mesh3d": [
           {
            "colorbar": {
             "outlinewidth": 0,
             "ticks": ""
            },
            "type": "mesh3d"
           }
          ],
          "parcoords": [
           {
            "line": {
             "colorbar": {
              "outlinewidth": 0,
              "ticks": ""
             }
            },
            "type": "parcoords"
           }
          ],
          "pie": [
           {
            "automargin": true,
            "type": "pie"
           }
          ],
          "scatter": [
           {
            "fillpattern": {
             "fillmode": "overlay",
             "size": 10,
             "solidity": 0.2
            },
            "type": "scatter"
           }
          ],
          "scatter3d": [
           {
            "line": {
             "colorbar": {
              "outlinewidth": 0,
              "ticks": ""
             }
            },
            "marker": {
             "colorbar": {
              "outlinewidth": 0,
              "ticks": ""
             }
            },
            "type": "scatter3d"
           }
          ],
          "scattercarpet": [
           {
            "marker": {
             "colorbar": {
              "outlinewidth": 0,
              "ticks": ""
             }
            },
            "type": "scattercarpet"
           }
          ],
          "scattergeo": [
           {
            "marker": {
             "colorbar": {
              "outlinewidth": 0,
              "ticks": ""
             }
            },
            "type": "scattergeo"
           }
          ],
          "scattergl": [
           {
            "marker": {
             "colorbar": {
              "outlinewidth": 0,
              "ticks": ""
             }
            },
            "type": "scattergl"
           }
          ],
          "scattermap": [
           {
            "marker": {
             "colorbar": {
              "outlinewidth": 0,
              "ticks": ""
             }
            },
            "type": "scattermap"
           }
          ],
          "scattermapbox": [
           {
            "marker": {
             "colorbar": {
              "outlinewidth": 0,
              "ticks": ""
             }
            },
            "type": "scattermapbox"
           }
          ],
          "scatterpolar": [
           {
            "marker": {
             "colorbar": {
              "outlinewidth": 0,
              "ticks": ""
             }
            },
            "type": "scatterpolar"
           }
          ],
          "scatterpolargl": [
           {
            "marker": {
             "colorbar": {
              "outlinewidth": 0,
              "ticks": ""
             }
            },
            "type": "scatterpolargl"
           }
          ],
          "scatterternary": [
           {
            "marker": {
             "colorbar": {
              "outlinewidth": 0,
              "ticks": ""
             }
            },
            "type": "scatterternary"
           }
          ],
          "surface": [
           {
            "colorbar": {
             "outlinewidth": 0,
             "ticks": ""
            },
            "colorscale": [
             [
              0,
              "#0d0887"
             ],
             [
              0.1111111111111111,
              "#46039f"
             ],
             [
              0.2222222222222222,
              "#7201a8"
             ],
             [
              0.3333333333333333,
              "#9c179e"
             ],
             [
              0.4444444444444444,
              "#bd3786"
             ],
             [
              0.5555555555555556,
              "#d8576b"
             ],
             [
              0.6666666666666666,
              "#ed7953"
             ],
             [
              0.7777777777777778,
              "#fb9f3a"
             ],
             [
              0.8888888888888888,
              "#fdca26"
             ],
             [
              1,
              "#f0f921"
             ]
            ],
            "type": "surface"
           }
          ],
          "table": [
           {
            "cells": {
             "fill": {
              "color": "#EBF0F8"
             },
             "line": {
              "color": "white"
             }
            },
            "header": {
             "fill": {
              "color": "#C8D4E3"
             },
             "line": {
              "color": "white"
             }
            },
            "type": "table"
           }
          ]
         },
         "layout": {
          "annotationdefaults": {
           "arrowcolor": "#2a3f5f",
           "arrowhead": 0,
           "arrowwidth": 1
          },
          "autotypenumbers": "strict",
          "coloraxis": {
           "colorbar": {
            "outlinewidth": 0,
            "ticks": ""
           }
          },
          "colorscale": {
           "diverging": [
            [
             0,
             "#8e0152"
            ],
            [
             0.1,
             "#c51b7d"
            ],
            [
             0.2,
             "#de77ae"
            ],
            [
             0.3,
             "#f1b6da"
            ],
            [
             0.4,
             "#fde0ef"
            ],
            [
             0.5,
             "#f7f7f7"
            ],
            [
             0.6,
             "#e6f5d0"
            ],
            [
             0.7,
             "#b8e186"
            ],
            [
             0.8,
             "#7fbc41"
            ],
            [
             0.9,
             "#4d9221"
            ],
            [
             1,
             "#276419"
            ]
           ],
           "sequential": [
            [
             0,
             "#0d0887"
            ],
            [
             0.1111111111111111,
             "#46039f"
            ],
            [
             0.2222222222222222,
             "#7201a8"
            ],
            [
             0.3333333333333333,
             "#9c179e"
            ],
            [
             0.4444444444444444,
             "#bd3786"
            ],
            [
             0.5555555555555556,
             "#d8576b"
            ],
            [
             0.6666666666666666,
             "#ed7953"
            ],
            [
             0.7777777777777778,
             "#fb9f3a"
            ],
            [
             0.8888888888888888,
             "#fdca26"
            ],
            [
             1,
             "#f0f921"
            ]
           ],
           "sequentialminus": [
            [
             0,
             "#0d0887"
            ],
            [
             0.1111111111111111,
             "#46039f"
            ],
            [
             0.2222222222222222,
             "#7201a8"
            ],
            [
             0.3333333333333333,
             "#9c179e"
            ],
            [
             0.4444444444444444,
             "#bd3786"
            ],
            [
             0.5555555555555556,
             "#d8576b"
            ],
            [
             0.6666666666666666,
             "#ed7953"
            ],
            [
             0.7777777777777778,
             "#fb9f3a"
            ],
            [
             0.8888888888888888,
             "#fdca26"
            ],
            [
             1,
             "#f0f921"
            ]
           ]
          },
          "colorway": [
           "#636efa",
           "#EF553B",
           "#00cc96",
           "#ab63fa",
           "#FFA15A",
           "#19d3f3",
           "#FF6692",
           "#B6E880",
           "#FF97FF",
           "#FECB52"
          ],
          "font": {
           "color": "#2a3f5f"
          },
          "geo": {
           "bgcolor": "white",
           "lakecolor": "white",
           "landcolor": "#E5ECF6",
           "showlakes": true,
           "showland": true,
           "subunitcolor": "white"
          },
          "hoverlabel": {
           "align": "left"
          },
          "hovermode": "closest",
          "mapbox": {
           "style": "light"
          },
          "paper_bgcolor": "white",
          "plot_bgcolor": "#E5ECF6",
          "polar": {
           "angularaxis": {
            "gridcolor": "white",
            "linecolor": "white",
            "ticks": ""
           },
           "bgcolor": "#E5ECF6",
           "radialaxis": {
            "gridcolor": "white",
            "linecolor": "white",
            "ticks": ""
           }
          },
          "scene": {
           "xaxis": {
            "backgroundcolor": "#E5ECF6",
            "gridcolor": "white",
            "gridwidth": 2,
            "linecolor": "white",
            "showbackground": true,
            "ticks": "",
            "zerolinecolor": "white"
           },
           "yaxis": {
            "backgroundcolor": "#E5ECF6",
            "gridcolor": "white",
            "gridwidth": 2,
            "linecolor": "white",
            "showbackground": true,
            "ticks": "",
            "zerolinecolor": "white"
           },
           "zaxis": {
            "backgroundcolor": "#E5ECF6",
            "gridcolor": "white",
            "gridwidth": 2,
            "linecolor": "white",
            "showbackground": true,
            "ticks": "",
            "zerolinecolor": "white"
           }
          },
          "shapedefaults": {
           "line": {
            "color": "#2a3f5f"
           }
          },
          "ternary": {
           "aaxis": {
            "gridcolor": "white",
            "linecolor": "white",
            "ticks": ""
           },
           "baxis": {
            "gridcolor": "white",
            "linecolor": "white",
            "ticks": ""
           },
           "bgcolor": "#E5ECF6",
           "caxis": {
            "gridcolor": "white",
            "linecolor": "white",
            "ticks": ""
           }
          },
          "title": {
           "x": 0.05
          },
          "xaxis": {
           "automargin": true,
           "gridcolor": "white",
           "linecolor": "white",
           "ticks": "",
           "title": {
            "standoff": 15
           },
           "zerolinecolor": "white",
           "zerolinewidth": 2
          },
          "yaxis": {
           "automargin": true,
           "gridcolor": "white",
           "linecolor": "white",
           "ticks": "",
           "title": {
            "standoff": 15
           },
           "zerolinecolor": "white",
           "zerolinewidth": 2
          }
         }
        },
        "title": {
         "text": "Mt Bruno Elevation: 'plotly' theme"
        },
        "width": 500
       }
      },
      "text/html": [
       "<div>            <script src=\"https://cdnjs.cloudflare.com/ajax/libs/mathjax/2.7.5/MathJax.js?config=TeX-AMS-MML_SVG\"></script><script type=\"text/javascript\">if (window.MathJax && window.MathJax.Hub && window.MathJax.Hub.Config) {window.MathJax.Hub.Config({SVG: {font: \"STIX-Web\"}});}</script>                <script type=\"text/javascript\">window.PlotlyConfig = {MathJaxConfig: 'local'};</script>\n",
       "        <script charset=\"utf-8\" src=\"https://cdn.plot.ly/plotly-3.0.1.min.js\"></script>                <div id=\"8308b2a5-265b-4e19-9a23-5b30e7b4fb4f\" class=\"plotly-graph-div\" style=\"height:500px; width:500px;\"></div>            <script type=\"text/javascript\">                window.PLOTLYENV=window.PLOTLYENV || {};                                if (document.getElementById(\"8308b2a5-265b-4e19-9a23-5b30e7b4fb4f\")) {                    Plotly.newPlot(                        \"8308b2a5-265b-4e19-9a23-5b30e7b4fb4f\",                        [{\"z\":{\"dtype\":\"f8\",\"bdata\":\"AAAAAAAAAABlqmBUUs87QKw5QDBHz0hALPGAsinFVEBDrWnecSpdQGiR7Xw\\u002fTWBA7C+7Jw\\u002fXYkCcoiO5\\u002fIVrQE0VjErqhGNAoyO5\\u002fIeUYkDJdr6fGnlpQAU0ETY8wWlAih9j7lrKWkCLbOf7qRdRQPtcbcX+qkZAM9yAzw\\u002f7SEAjMqzijeQ1QNhkjXqIBjFAlLw6x4B8J0CMLQQ5KIEtQL1SliGOVStAIy4AjdK1FkBy3CkdrH8KQNxJRPgXgfI\\u002fcVRuopbmwr8AAAAAAADwP0c9RKM7uDtAdc3km21GSEA2donqrU1QQCEHJcy00VdAAG+BBMU\\u002fXUA+6Nms+rxgQKUsQxzrCmNA2c73U+P9YkB24JwRpQNkQInS3uALcWZAFvvL7slzYkACmggbnkxlQOqVsgxxdF5Angd3Z+1KSkABamrZWotAQDFCeLRxNENAMqzijcwfRkDMXUvIB2VRQGCUoL\\u002fQExBA7x6g+3JmCEAUPfAxWFEIQFJgAUwZ+AdAU0Kwql6+B0D4cTRHVv7\\u002fPwAAAAAAAABABTQRNjxtPkDMlxdgH71AQMGQ1a2eZ0ZAG55eKcs8T0A9D+7O2ltTQAu1pnnHDVpAs3vysFCvWUBkXdxGAyBhQCBj7lpCQmdAqmBUUidqa0DufD81XrhmQIqw4emVOl5AHVpkO9\\u002flYUBkIxCv65lUQLH5uDZUPEhAQNmUK7ytUkBrmnecogtOQOzAOSNKSxxANQ2K5gFcGEDY8PRKWSYaQFT83xEVqhpAChFwCFU6HUDfiVkvhvIWQPKxu0BJAQ1AAAAAAAAACECm0HmNXaowQHlYqDXNGz5Asmg6Oxn8Q0DP91PjpQ9GQESjO4idyU1AJvxSP29kU0CF61G4HrlaQCQofoy50WRAryXkg57nZUBeukkMAilnQHEbDeAtUGNArfpcbcXCVEBXlX1XBE9PQDyInSl0Kk9AnZ0MjpJHTkAu4jsx6\\u002fVLQJzhBnx+WC5Asp\\u002fFUiR\\u002fIEDsaYe\\u002fJldCQDMbZJKR905AlGqfjsdENEBkdavnpCVRQOS9amXCP0dAycwFLo81zj8AAAAAAAAQQI4fKo2YoSFAC0YldQJaMkB+jLlrCVEhQPW52or9lTtAh8Q9lj5QSEClg\\u002fV\\u002fDhdOQMxdS8gH1VZAP1dbsb82YkBxGw3gLQRdQH6MuWsJkVpAZoNMMnIsUUCTV+cYkI1KQKbVkLjH9kJAbZBJRs76R0DtKqT8pLZHQJCIKZFETVFAmRJJ9DJ6RkCk5NU5Biw9QF\\u002fv\\u002fniv6jFADJOpglFBMEBWKxN+qU8tQBhDOdGuQjFAxf6ye\\u002fI4P0BA9nr3x1tHQAAAAAAAABRAmE2AYfmDGkCk\\u002fKTap9MkQGCrBIvD0ThAglZgyOoWOkAMAiuHFik+QMhBCTNtJ0pAuvdwyXEtUEBZaVIKuhNTQFsIclDCKFVAlrIMcazbWEAYYB+dukJPQCMVxhaCaEdAC2MLQQ7iS0BYqDXNO5pUQApoImx4iGFAO8eA7PVQVECY+nlTkTpMQHmvWpnwaz5AfSJPkq5JMUDZl2w82JogQPM5d7te2gdAFqHYCpqWBUAZxt0gWosXQNl6hnDMEhVAAAAAAAAAGEDl0CLb+dY1QHRBfcucjhpAVFInoIn4MkCnXOFdLnJAQCXpmsk3k0VAoP1IERluT0CfPCzUmipaQHo2qz5XR2BAPE7RkVy2XEDQ1VbsL79aQC3saYe\\u002f8k5AHuG04EXHS0CrlQm\\u002f1LNVQJLoZRTLUVZAEOm3rwObXkBL6gQ0Ef5eQBKlvcEXRltAba0vEtqaWEDQDyOER2dTQG1zY3rCPkBA8KKvIM1YLUCWsgxxrHsdQMQXmqkYAKM\\u002frQoe8AqO5D8AAAAAAAAcQADGM2joq0pAajANw0fMOkB0QX3LnI4aQPQyiuWWxiVAak3zjlM0MUDzqzlAMBdMQJfFxObj7FNAw9MrZRm2VkDByqFFtpFYQCeDo+TVN1RASZ2AJsKyUkCpaoKo++JSQJyiI7n8W1JACObo8XuHUkCBBMWPMQtRQK0XQznRHkdA3IDPDyP4Q0BWmpSCbjc\\u002fQPd14JwRcUJArBxaZDsDREDWxW00gFtdQJzc71AUaClAghspWySt+z8AAAAAAAAAAAAAAAAAACBANKK0N\\u002fiqOUD6J7hYUYdPQIenV8oyJDZAbef7qfESMUAziuWWVt9EQEnXTL7ZIk5AesISDyhbVEAj2\\u002fl+apxcQLHh6ZWylFlAfPKwUGtyWUBEi2zn+8FbQF8pyxDHzl1AjLlrCfmEXECL\\u002fWX35KFbQAYSFD\\u002fGmE1AqvHSTWI8RUD20akrn0UtQP8DrFW7xhtAguLHmLvGG0A57pQO1r87QAAAAAAAAAAAAAAAAAAAAABRRuA4vjC4P3BWCqJqy7M\\u002fAAAAAAAAIkCBlUOLbKcpQEWBPpEnTVFAkpGzsKdhR0AgKSLDKu4rQMSUSKKX8UBASx+6oL7pTkAL73IR3y9VQCuHFtnOR15ArfpcbcUoYkDr4jYawCVjQP7UeOkmmWlA097gC5N9bEDLEMe6uIltQARWDi2yi2xAeekmMQjWU0DXUdUEUe85QP8DrFW7xhtA\\u002fwOsVbvGG0CC4seYu8YbQJOq7Sb4Nh5AAAAAAAAAAAAAAAAAAAAAAAAAAAAAAAAAAAAAAAAAAAAAAAAAAAAkQAAAAAAAAAAAinYVUn4qUUAhsHJokYVNQKAy\\u002fn3GrUBAxHx5Afa5R0Bt5\\u002fup8epMQOIBZVOuulNAKVyPwvX0WkBn1edqKwBlQBQ\\u002fxty1XmBA1lbsL7uRakD1udqK\\u002fblkQFmGONbFR2pAwTkjSnulZkCfq63YX7hnQNcS8kHPKmFAB84ZUdopVUCjy5vDtVohQNKNsKiI0xtAGvm84qnvIEAAAAAAAAAAAAAAAAAAAAAAAAAAAAAAAAAAAAAAAAAAAAAAAAAAACZAAAAAAAAAAAAhyEEJM8tXQB\\u002fXhopxAlRACcTr+gXzTUAmAWpq2cpDQLL0oQvqI0lATRB1H4DoT0DQ8jy4OydUQICCixU1mFBAbcX+snvYaEC+MJkqGItuQH3Qs1n1Y3JADeAtkKCFcEBFR3L5Dw1mQIDxDBr6G05ABoGVQ4taU0BSRIZVvJVKQKlqgqj7FExAzt+EQgTMG0Bh\\u002fDTuzR8eQCy7YHDNPQ5AAAAAAAAAAAAAAAAAAAAAAAAAAAAAAAAAAAAAAAAAKEAAAAAAAAAAAP32deCc32BAQBNhw9NLYEBoke18PzdYQBppqbwd7VJAZhTLLa1uTUCLcf4mFJpMQBXGFoIcmEtA1XjpJjGIU0AkKH6MuSNbQFUwKqkTTGNAseHplbLyc0Aydy0hH053QJzEILByN3FA1QloImxIYEAAOsyXF3hLQPPlBdhHfzlAIhyz7EkYIEDNBS6PNSsgQMIxy54EdhRAAJATJoy2FkAAAAAAAAAAAAAAAAAAAAAAAAAAAAAAAAAAAAAAAAAqQAAAAAAAAAAArJDyk2oLSEC94xQdydFhQGB2Tx4WjGFABTQRNjxXY0BHcvkP6ftVQHU8ZqAyDk1Aur2kMVprSkA9J71vfMlQQHSYLy\\u002fA6lRApb3BFya7XUBxGw3gLcJiQPs6cM6ID3FAI0p7gy9SdUBoke18P9VtQGZmZmZmxmdABTQRNjw5XUDJk6RrJt9WQCsYldQJCCxA\\u002fZ\\u002fDfHklRUDCMcueBHYUQAAAAAAAAAAAAAAAAAAAAAAAAAAAAAAAAAAAAAAAACxAAAAAAAAAAACpE9BE2BhLQOcdp+hITGJADVTGv8\\u002feWEDmdFlMbAxYQA3gLZCgvFlAV5V9VwQJU0C\\u002ffR04Z+RMQEymCkYlhUdAU9DtJY0XUEBhTzv8NQ9VQD7o2az6VmRAKVyPwvVUXkB+HThnRKVqQMHKoUW2h3RAyjLEsS7XcUCu2F92T71xQK5H4XoUmmpAIbByaJGRZECU3je+9hJXQAvvchHf+RxAeekmMQis8j8AAAAAAAAAAAAAAAAAAAAAAAAAAAAALkAAAAAAAAAAAGXjwRa7rRtAXdxGA3hlaEDXEvJBz5BgQMx\\u002fSL9952BAMUJ4tHF2VkDsaYe\\u002fJl1WQNHLKJZbJk5A+grSjEUrSUDt0\\u002fGYgZZDQOI7MevFiE1A7PoFu2GhUkDWc9L7xjtVQD0s1JrmY2dA7lpCPuj9XkCMuWsJ+exZQGQ730+NH2BAdQKaCBukZEAmUwWjkjZvQD1hiQeU2VdAxT2WPnQBJEDAWyBB8SMDQAAAAAAAAAAAAAAAAAAAAAAAAAAAAAAwQAAAAAAAAAAAaTo7GRy9NUDNO07RkcheQCQofoy5F2ZAvw6cM6LIY0DsUbgehSdhQABvgQTFU1pAbcX+snuoVUDCo40j1o5KQIv9ZffkCT1AHSCYo8dnPkDKbJBJRoZDQH3Qs1n1nUhAOnr83qajT0Dl0CLb+dpbQD\\u002fG3LWETFlAmrFoOjsBREBj7lpCPuxNQAIOoUrNoFJAVWr2QCsQMUCcMGE0K3sDQChjfJi9TAJAH7Xm39fVN78AAAAAAAAAAAAAAAAAADFAAAAAAAAAAAAAAAAAAAAAANkIxOv6BU9A9bnaiv0JYUDvOEVHcjlpQEp7gy9MBGVAvjCZKhjNV0DcKR2s\\u002f3NNQFw9J71veEdAH0sfuqCiSECTxmgdVY1CQMaFAyFZ+DFAR1UTRN3vPkADste7P7JAQFXZd0XwA0ZAmBdgH53SS0AOMsnIWY5TQEImGTkL2yxAZY7lXfXoI0C9cr1tphIfQAWjkjoBDSpAl8rbEU67NUC2FJD2P0ABQBNUnoplBOE\\u002fAAAAAAAAMkAAAAAAAAAAAAAAAAAAAAAAPDHrxVDoU0DDZKpgVHZhQNNNYhBYpWVA5BQdyeUbaEDaG3xhMotoQFfsL7snFWJAbVZ9rraiWkDF5uPaUJVMQPEuF\\u002fGdlERAqtTsgVYQQEDYgXNGlLYrQC7FVWXf1SVA+KqVCb8kKEBuaTUk7mE2QOPHmLuWuDhA6KBLOPQ2G0CjyFpDqc0QQADjGTT0dzBAtcNfkzVqL0As8YCyKftAQHHMsieBTR5Aj93LnoD9qL8AAAAAAAAzQAAAAAAAAAAAAAAAAAAAAADD0ytlGaJAQPFL\\u002fbypxExAE2HD0yvnZEAFxY8xd49oQMx\\u002fSL99WWhAINJvXwfGZkC4rwPnjOxdQLq9pDFaQVJA7YFWYMguSECr56T3jd9AQOm3rwPnPDpAQYLix5hbMEAZ5ZmXwz4bQHRBfcucjhpA9x+ZDp2OGkAa+bziqe8gQLX7VYDvxhhAGof6Xdi6DEBpjNZR1YQOQA7d7A+UMyFAjq89syTgFEAAAAAAAAAAAAAAAAAAADRAAAAAAAAAAAAAAAAAAAAAAMh71cqExz1AhnKiXYV8S0DdJAaBlRliQKs+V1ux72lAl\\u002f+QfvuqZEAeFmpN82xlQMx\\u002fSL993WVAzH9Iv30RWUC693DJcbtOQHgoCvSJGElAIlSp2QMVOkA7\\u002fDVZoy4xQBr5vOKp7yBAdEF9y5yOGkBsXWqEflYZQGxdaoR+VhlAZKw2\\u002f6+qFkALfhtivBYRQAAAAAAAAAAAAAAAAAAAAAAAAAAAAAAAAAAAAAAAAAAAAAAAAAAANUAAAAAAAAAAAAAAAAAAAAAAYhBYObRoP0CIhVrTvJdgQF+YTBWMMmdA07zjFB11XkCYTBWMSixnQLfRAN4CFWRAU5YhjnUJXUCQoPgx5oZdQNqs+lxtuWFAAz4\\u002fjBBkUEAWhzO\\u002fmmtIQN3qOel9IzdA\\u002freSHRshMkCLcf4mFJIkQOGaO\\u002fpfHhhAChNGs7ItGECpwMk2cMcWQJq2f2Wl6Q1AMQxYchUrD0AAAAAAAAAAAAAAAAAAAAAAAAAAAAAAAAAAAAAAAAA2QAAAAAAAAAAAAAAAAAAAAAAsms5OBpczQLRZ9bnaJkVAZTbIJCMRWEASFD\\u002fG3GNnQIxK6gQ0dWZAY3\\u002fZPXmsa0Cfq63YX0hjQOlILv8hxWFA4zYawFuSYkCM+E7MestQQNXsgVZgWERAOsyXF2DfQ0C1T8djBho6QIBlpUkp+CxAxcn9DkVRIUAxDFhyFSsPQHmRCfg1kgxAMQxYchUrD0AxDFhyFSsPQDEMWHIVKw9AnBVRE30+8T8AAAAAAAAAAAAAAAAAADdATKW7xaUlVD+46jpUUxIIQBAEyNCxoxdAuCOcFrzAQED+ZffkYRVaQLByaJHtBmNAPE7RkVzGaED0\\u002fdR46fpnQJM6AU2El2xAb\\u002fCFyVQDZUDtnjws1AhiQI9TdCSXr1tA7DTSUnnTTEBv05\\u002f9SFFFQKX3ja896ztANbVsrS\\u002fSLkD6er5muRwgQAzIXu\\u002f+OA9ABfhu88YJD0CimLwBZn4PQG1Zvi7Dvw9A4MjyZO2lvz+sjbETXuIPQNFB8ilbf8e\\u002fAAAAAAAAOEAAAAAAAAAAACu9NhsrgRZAJuXuc3y0HkB4uYjvxJRPQPLqHAOy\\u002f0ZAajANw0fkU0DLoUW282lsQHL5D+m3fWlAklz+Q\\u002fqRZUCbVZ+rrSRmQCZTBaOSjmFACKwcWmT\\u002fXkCgGi\\u002fdJJZbQG5MT1jiR1BAd9Zuu9AoQUAs1JrmHYc4QE6Zm29EHyNAe6Lrwg+uCkBbzqW4qlwWQBFuMqoM8xVAlPqytFOjF0BPrimQ2XkXQDRlpx\\u002fUVRdAE7cKYqCLDEA=\",\"shape\":\"25, 25\"},\"type\":\"surface\"}],                        {\"height\":500,\"title\":{\"text\":\"Mt Bruno Elevation: 'plotly' theme\"},\"width\":500,\"template\":{\"data\":{\"histogram2dcontour\":[{\"type\":\"histogram2dcontour\",\"colorbar\":{\"outlinewidth\":0,\"ticks\":\"\"},\"colorscale\":[[0.0,\"#0d0887\"],[0.1111111111111111,\"#46039f\"],[0.2222222222222222,\"#7201a8\"],[0.3333333333333333,\"#9c179e\"],[0.4444444444444444,\"#bd3786\"],[0.5555555555555556,\"#d8576b\"],[0.6666666666666666,\"#ed7953\"],[0.7777777777777778,\"#fb9f3a\"],[0.8888888888888888,\"#fdca26\"],[1.0,\"#f0f921\"]]}],\"choropleth\":[{\"type\":\"choropleth\",\"colorbar\":{\"outlinewidth\":0,\"ticks\":\"\"}}],\"histogram2d\":[{\"type\":\"histogram2d\",\"colorbar\":{\"outlinewidth\":0,\"ticks\":\"\"},\"colorscale\":[[0.0,\"#0d0887\"],[0.1111111111111111,\"#46039f\"],[0.2222222222222222,\"#7201a8\"],[0.3333333333333333,\"#9c179e\"],[0.4444444444444444,\"#bd3786\"],[0.5555555555555556,\"#d8576b\"],[0.6666666666666666,\"#ed7953\"],[0.7777777777777778,\"#fb9f3a\"],[0.8888888888888888,\"#fdca26\"],[1.0,\"#f0f921\"]]}],\"heatmap\":[{\"type\":\"heatmap\",\"colorbar\":{\"outlinewidth\":0,\"ticks\":\"\"},\"colorscale\":[[0.0,\"#0d0887\"],[0.1111111111111111,\"#46039f\"],[0.2222222222222222,\"#7201a8\"],[0.3333333333333333,\"#9c179e\"],[0.4444444444444444,\"#bd3786\"],[0.5555555555555556,\"#d8576b\"],[0.6666666666666666,\"#ed7953\"],[0.7777777777777778,\"#fb9f3a\"],[0.8888888888888888,\"#fdca26\"],[1.0,\"#f0f921\"]]}],\"contourcarpet\":[{\"type\":\"contourcarpet\",\"colorbar\":{\"outlinewidth\":0,\"ticks\":\"\"}}],\"contour\":[{\"type\":\"contour\",\"colorbar\":{\"outlinewidth\":0,\"ticks\":\"\"},\"colorscale\":[[0.0,\"#0d0887\"],[0.1111111111111111,\"#46039f\"],[0.2222222222222222,\"#7201a8\"],[0.3333333333333333,\"#9c179e\"],[0.4444444444444444,\"#bd3786\"],[0.5555555555555556,\"#d8576b\"],[0.6666666666666666,\"#ed7953\"],[0.7777777777777778,\"#fb9f3a\"],[0.8888888888888888,\"#fdca26\"],[1.0,\"#f0f921\"]]}],\"surface\":[{\"type\":\"surface\",\"colorbar\":{\"outlinewidth\":0,\"ticks\":\"\"},\"colorscale\":[[0.0,\"#0d0887\"],[0.1111111111111111,\"#46039f\"],[0.2222222222222222,\"#7201a8\"],[0.3333333333333333,\"#9c179e\"],[0.4444444444444444,\"#bd3786\"],[0.5555555555555556,\"#d8576b\"],[0.6666666666666666,\"#ed7953\"],[0.7777777777777778,\"#fb9f3a\"],[0.8888888888888888,\"#fdca26\"],[1.0,\"#f0f921\"]]}],\"mesh3d\":[{\"type\":\"mesh3d\",\"colorbar\":{\"outlinewidth\":0,\"ticks\":\"\"}}],\"scatter\":[{\"fillpattern\":{\"fillmode\":\"overlay\",\"size\":10,\"solidity\":0.2},\"type\":\"scatter\"}],\"parcoords\":[{\"type\":\"parcoords\",\"line\":{\"colorbar\":{\"outlinewidth\":0,\"ticks\":\"\"}}}],\"scatterpolargl\":[{\"type\":\"scatterpolargl\",\"marker\":{\"colorbar\":{\"outlinewidth\":0,\"ticks\":\"\"}}}],\"bar\":[{\"error_x\":{\"color\":\"#2a3f5f\"},\"error_y\":{\"color\":\"#2a3f5f\"},\"marker\":{\"line\":{\"color\":\"#E5ECF6\",\"width\":0.5},\"pattern\":{\"fillmode\":\"overlay\",\"size\":10,\"solidity\":0.2}},\"type\":\"bar\"}],\"scattergeo\":[{\"type\":\"scattergeo\",\"marker\":{\"colorbar\":{\"outlinewidth\":0,\"ticks\":\"\"}}}],\"scatterpolar\":[{\"type\":\"scatterpolar\",\"marker\":{\"colorbar\":{\"outlinewidth\":0,\"ticks\":\"\"}}}],\"histogram\":[{\"marker\":{\"pattern\":{\"fillmode\":\"overlay\",\"size\":10,\"solidity\":0.2}},\"type\":\"histogram\"}],\"scattergl\":[{\"type\":\"scattergl\",\"marker\":{\"colorbar\":{\"outlinewidth\":0,\"ticks\":\"\"}}}],\"scatter3d\":[{\"type\":\"scatter3d\",\"line\":{\"colorbar\":{\"outlinewidth\":0,\"ticks\":\"\"}},\"marker\":{\"colorbar\":{\"outlinewidth\":0,\"ticks\":\"\"}}}],\"scattermap\":[{\"type\":\"scattermap\",\"marker\":{\"colorbar\":{\"outlinewidth\":0,\"ticks\":\"\"}}}],\"scattermapbox\":[{\"type\":\"scattermapbox\",\"marker\":{\"colorbar\":{\"outlinewidth\":0,\"ticks\":\"\"}}}],\"scatterternary\":[{\"type\":\"scatterternary\",\"marker\":{\"colorbar\":{\"outlinewidth\":0,\"ticks\":\"\"}}}],\"scattercarpet\":[{\"type\":\"scattercarpet\",\"marker\":{\"colorbar\":{\"outlinewidth\":0,\"ticks\":\"\"}}}],\"carpet\":[{\"aaxis\":{\"endlinecolor\":\"#2a3f5f\",\"gridcolor\":\"white\",\"linecolor\":\"white\",\"minorgridcolor\":\"white\",\"startlinecolor\":\"#2a3f5f\"},\"baxis\":{\"endlinecolor\":\"#2a3f5f\",\"gridcolor\":\"white\",\"linecolor\":\"white\",\"minorgridcolor\":\"white\",\"startlinecolor\":\"#2a3f5f\"},\"type\":\"carpet\"}],\"table\":[{\"cells\":{\"fill\":{\"color\":\"#EBF0F8\"},\"line\":{\"color\":\"white\"}},\"header\":{\"fill\":{\"color\":\"#C8D4E3\"},\"line\":{\"color\":\"white\"}},\"type\":\"table\"}],\"barpolar\":[{\"marker\":{\"line\":{\"color\":\"#E5ECF6\",\"width\":0.5},\"pattern\":{\"fillmode\":\"overlay\",\"size\":10,\"solidity\":0.2}},\"type\":\"barpolar\"}],\"pie\":[{\"automargin\":true,\"type\":\"pie\"}]},\"layout\":{\"autotypenumbers\":\"strict\",\"colorway\":[\"#636efa\",\"#EF553B\",\"#00cc96\",\"#ab63fa\",\"#FFA15A\",\"#19d3f3\",\"#FF6692\",\"#B6E880\",\"#FF97FF\",\"#FECB52\"],\"font\":{\"color\":\"#2a3f5f\"},\"hovermode\":\"closest\",\"hoverlabel\":{\"align\":\"left\"},\"paper_bgcolor\":\"white\",\"plot_bgcolor\":\"#E5ECF6\",\"polar\":{\"bgcolor\":\"#E5ECF6\",\"angularaxis\":{\"gridcolor\":\"white\",\"linecolor\":\"white\",\"ticks\":\"\"},\"radialaxis\":{\"gridcolor\":\"white\",\"linecolor\":\"white\",\"ticks\":\"\"}},\"ternary\":{\"bgcolor\":\"#E5ECF6\",\"aaxis\":{\"gridcolor\":\"white\",\"linecolor\":\"white\",\"ticks\":\"\"},\"baxis\":{\"gridcolor\":\"white\",\"linecolor\":\"white\",\"ticks\":\"\"},\"caxis\":{\"gridcolor\":\"white\",\"linecolor\":\"white\",\"ticks\":\"\"}},\"coloraxis\":{\"colorbar\":{\"outlinewidth\":0,\"ticks\":\"\"}},\"colorscale\":{\"sequential\":[[0.0,\"#0d0887\"],[0.1111111111111111,\"#46039f\"],[0.2222222222222222,\"#7201a8\"],[0.3333333333333333,\"#9c179e\"],[0.4444444444444444,\"#bd3786\"],[0.5555555555555556,\"#d8576b\"],[0.6666666666666666,\"#ed7953\"],[0.7777777777777778,\"#fb9f3a\"],[0.8888888888888888,\"#fdca26\"],[1.0,\"#f0f921\"]],\"sequentialminus\":[[0.0,\"#0d0887\"],[0.1111111111111111,\"#46039f\"],[0.2222222222222222,\"#7201a8\"],[0.3333333333333333,\"#9c179e\"],[0.4444444444444444,\"#bd3786\"],[0.5555555555555556,\"#d8576b\"],[0.6666666666666666,\"#ed7953\"],[0.7777777777777778,\"#fb9f3a\"],[0.8888888888888888,\"#fdca26\"],[1.0,\"#f0f921\"]],\"diverging\":[[0,\"#8e0152\"],[0.1,\"#c51b7d\"],[0.2,\"#de77ae\"],[0.3,\"#f1b6da\"],[0.4,\"#fde0ef\"],[0.5,\"#f7f7f7\"],[0.6,\"#e6f5d0\"],[0.7,\"#b8e186\"],[0.8,\"#7fbc41\"],[0.9,\"#4d9221\"],[1,\"#276419\"]]},\"xaxis\":{\"gridcolor\":\"white\",\"linecolor\":\"white\",\"ticks\":\"\",\"title\":{\"standoff\":15},\"zerolinecolor\":\"white\",\"automargin\":true,\"zerolinewidth\":2},\"yaxis\":{\"gridcolor\":\"white\",\"linecolor\":\"white\",\"ticks\":\"\",\"title\":{\"standoff\":15},\"zerolinecolor\":\"white\",\"automargin\":true,\"zerolinewidth\":2},\"scene\":{\"xaxis\":{\"backgroundcolor\":\"#E5ECF6\",\"gridcolor\":\"white\",\"linecolor\":\"white\",\"showbackground\":true,\"ticks\":\"\",\"zerolinecolor\":\"white\",\"gridwidth\":2},\"yaxis\":{\"backgroundcolor\":\"#E5ECF6\",\"gridcolor\":\"white\",\"linecolor\":\"white\",\"showbackground\":true,\"ticks\":\"\",\"zerolinecolor\":\"white\",\"gridwidth\":2},\"zaxis\":{\"backgroundcolor\":\"#E5ECF6\",\"gridcolor\":\"white\",\"linecolor\":\"white\",\"showbackground\":true,\"ticks\":\"\",\"zerolinecolor\":\"white\",\"gridwidth\":2}},\"shapedefaults\":{\"line\":{\"color\":\"#2a3f5f\"}},\"annotationdefaults\":{\"arrowcolor\":\"#2a3f5f\",\"arrowhead\":0,\"arrowwidth\":1},\"geo\":{\"bgcolor\":\"white\",\"landcolor\":\"#E5ECF6\",\"subunitcolor\":\"white\",\"showland\":true,\"showlakes\":true,\"lakecolor\":\"white\"},\"title\":{\"x\":0.05},\"mapbox\":{\"style\":\"light\"}}}},                        {\"responsive\": true}                    ).then(function(){\n",
       "                            \n",
       "var gd = document.getElementById('8308b2a5-265b-4e19-9a23-5b30e7b4fb4f');\n",
       "var x = new MutationObserver(function (mutations, observer) {{\n",
       "        var display = window.getComputedStyle(gd).display;\n",
       "        if (!display || display === 'none') {{\n",
       "            console.log([gd, 'removed!']);\n",
       "            Plotly.purge(gd);\n",
       "            observer.disconnect();\n",
       "        }}\n",
       "}});\n",
       "\n",
       "// Listen for the removal of the full notebook cells\n",
       "var notebookContainer = gd.closest('#notebook-container');\n",
       "if (notebookContainer) {{\n",
       "    x.observe(notebookContainer, {childList: true});\n",
       "}}\n",
       "\n",
       "// Listen for the clearing of the current output cell\n",
       "var outputEl = gd.closest('.output');\n",
       "if (outputEl) {{\n",
       "    x.observe(outputEl, {childList: true});\n",
       "}}\n",
       "\n",
       "                        })                };            </script>        </div>"
      ]
     },
     "metadata": {},
     "output_type": "display_data"
    },
    {
     "data": {
      "application/vnd.plotly.v1+json": {
       "config": {
        "plotlyServerURL": "https://plot.ly"
       },
       "data": [
        {
         "type": "surface",
         "z": {
          "bdata": "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",
          "dtype": "f8",
          "shape": "25, 25"
         }
        }
       ],
       "layout": {
        "height": 500,
        "template": {
         "data": {
          "bar": [
           {
            "error_x": {
             "color": "#2a3f5f"
            },
            "error_y": {
             "color": "#2a3f5f"
            },
            "marker": {
             "line": {
              "color": "white",
              "width": 0.5
             },
             "pattern": {
              "fillmode": "overlay",
              "size": 10,
              "solidity": 0.2
             }
            },
            "type": "bar"
           }
          ],
          "barpolar": [
           {
            "marker": {
             "line": {
              "color": "white",
              "width": 0.5
             },
             "pattern": {
              "fillmode": "overlay",
              "size": 10,
              "solidity": 0.2
             }
            },
            "type": "barpolar"
           }
          ],
          "carpet": [
           {
            "aaxis": {
             "endlinecolor": "#2a3f5f",
             "gridcolor": "#C8D4E3",
             "linecolor": "#C8D4E3",
             "minorgridcolor": "#C8D4E3",
             "startlinecolor": "#2a3f5f"
            },
            "baxis": {
             "endlinecolor": "#2a3f5f",
             "gridcolor": "#C8D4E3",
             "linecolor": "#C8D4E3",
             "minorgridcolor": "#C8D4E3",
             "startlinecolor": "#2a3f5f"
            },
            "type": "carpet"
           }
          ],
          "choropleth": [
           {
            "colorbar": {
             "outlinewidth": 0,
             "ticks": ""
            },
            "type": "choropleth"
           }
          ],
          "contour": [
           {
            "colorbar": {
             "outlinewidth": 0,
             "ticks": ""
            },
            "colorscale": [
             [
              0,
              "#0d0887"
             ],
             [
              0.1111111111111111,
              "#46039f"
             ],
             [
              0.2222222222222222,
              "#7201a8"
             ],
             [
              0.3333333333333333,
              "#9c179e"
             ],
             [
              0.4444444444444444,
              "#bd3786"
             ],
             [
              0.5555555555555556,
              "#d8576b"
             ],
             [
              0.6666666666666666,
              "#ed7953"
             ],
             [
              0.7777777777777778,
              "#fb9f3a"
             ],
             [
              0.8888888888888888,
              "#fdca26"
             ],
             [
              1,
              "#f0f921"
             ]
            ],
            "type": "contour"
           }
          ],
          "contourcarpet": [
           {
            "colorbar": {
             "outlinewidth": 0,
             "ticks": ""
            },
            "type": "contourcarpet"
           }
          ],
          "heatmap": [
           {
            "colorbar": {
             "outlinewidth": 0,
             "ticks": ""
            },
            "colorscale": [
             [
              0,
              "#0d0887"
             ],
             [
              0.1111111111111111,
              "#46039f"
             ],
             [
              0.2222222222222222,
              "#7201a8"
             ],
             [
              0.3333333333333333,
              "#9c179e"
             ],
             [
              0.4444444444444444,
              "#bd3786"
             ],
             [
              0.5555555555555556,
              "#d8576b"
             ],
             [
              0.6666666666666666,
              "#ed7953"
             ],
             [
              0.7777777777777778,
              "#fb9f3a"
             ],
             [
              0.8888888888888888,
              "#fdca26"
             ],
             [
              1,
              "#f0f921"
             ]
            ],
            "type": "heatmap"
           }
          ],
          "histogram": [
           {
            "marker": {
             "pattern": {
              "fillmode": "overlay",
              "size": 10,
              "solidity": 0.2
             }
            },
            "type": "histogram"
           }
          ],
          "histogram2d": [
           {
            "colorbar": {
             "outlinewidth": 0,
             "ticks": ""
            },
            "colorscale": [
             [
              0,
              "#0d0887"
             ],
             [
              0.1111111111111111,
              "#46039f"
             ],
             [
              0.2222222222222222,
              "#7201a8"
             ],
             [
              0.3333333333333333,
              "#9c179e"
             ],
             [
              0.4444444444444444,
              "#bd3786"
             ],
             [
              0.5555555555555556,
              "#d8576b"
             ],
             [
              0.6666666666666666,
              "#ed7953"
             ],
             [
              0.7777777777777778,
              "#fb9f3a"
             ],
             [
              0.8888888888888888,
              "#fdca26"
             ],
             [
              1,
              "#f0f921"
             ]
            ],
            "type": "histogram2d"
           }
          ],
          "histogram2dcontour": [
           {
            "colorbar": {
             "outlinewidth": 0,
             "ticks": ""
            },
            "colorscale": [
             [
              0,
              "#0d0887"
             ],
             [
              0.1111111111111111,
              "#46039f"
             ],
             [
              0.2222222222222222,
              "#7201a8"
             ],
             [
              0.3333333333333333,
              "#9c179e"
             ],
             [
              0.4444444444444444,
              "#bd3786"
             ],
             [
              0.5555555555555556,
              "#d8576b"
             ],
             [
              0.6666666666666666,
              "#ed7953"
             ],
             [
              0.7777777777777778,
              "#fb9f3a"
             ],
             [
              0.8888888888888888,
              "#fdca26"
             ],
             [
              1,
              "#f0f921"
             ]
            ],
            "type": "histogram2dcontour"
           }
          ],
          "mesh3d": [
           {
            "colorbar": {
             "outlinewidth": 0,
             "ticks": ""
            },
            "type": "mesh3d"
           }
          ],
          "parcoords": [
           {
            "line": {
             "colorbar": {
              "outlinewidth": 0,
              "ticks": ""
             }
            },
            "type": "parcoords"
           }
          ],
          "pie": [
           {
            "automargin": true,
            "type": "pie"
           }
          ],
          "scatter": [
           {
            "fillpattern": {
             "fillmode": "overlay",
             "size": 10,
             "solidity": 0.2
            },
            "type": "scatter"
           }
          ],
          "scatter3d": [
           {
            "line": {
             "colorbar": {
              "outlinewidth": 0,
              "ticks": ""
             }
            },
            "marker": {
             "colorbar": {
              "outlinewidth": 0,
              "ticks": ""
             }
            },
            "type": "scatter3d"
           }
          ],
          "scattercarpet": [
           {
            "marker": {
             "colorbar": {
              "outlinewidth": 0,
              "ticks": ""
             }
            },
            "type": "scattercarpet"
           }
          ],
          "scattergeo": [
           {
            "marker": {
             "colorbar": {
              "outlinewidth": 0,
              "ticks": ""
             }
            },
            "type": "scattergeo"
           }
          ],
          "scattergl": [
           {
            "marker": {
             "colorbar": {
              "outlinewidth": 0,
              "ticks": ""
             }
            },
            "type": "scattergl"
           }
          ],
          "scattermap": [
           {
            "marker": {
             "colorbar": {
              "outlinewidth": 0,
              "ticks": ""
             }
            },
            "type": "scattermap"
           }
          ],
          "scattermapbox": [
           {
            "marker": {
             "colorbar": {
              "outlinewidth": 0,
              "ticks": ""
             }
            },
            "type": "scattermapbox"
           }
          ],
          "scatterpolar": [
           {
            "marker": {
             "colorbar": {
              "outlinewidth": 0,
              "ticks": ""
             }
            },
            "type": "scatterpolar"
           }
          ],
          "scatterpolargl": [
           {
            "marker": {
             "colorbar": {
              "outlinewidth": 0,
              "ticks": ""
             }
            },
            "type": "scatterpolargl"
           }
          ],
          "scatterternary": [
           {
            "marker": {
             "colorbar": {
              "outlinewidth": 0,
              "ticks": ""
             }
            },
            "type": "scatterternary"
           }
          ],
          "surface": [
           {
            "colorbar": {
             "outlinewidth": 0,
             "ticks": ""
            },
            "colorscale": [
             [
              0,
              "#0d0887"
             ],
             [
              0.1111111111111111,
              "#46039f"
             ],
             [
              0.2222222222222222,
              "#7201a8"
             ],
             [
              0.3333333333333333,
              "#9c179e"
             ],
             [
              0.4444444444444444,
              "#bd3786"
             ],
             [
              0.5555555555555556,
              "#d8576b"
             ],
             [
              0.6666666666666666,
              "#ed7953"
             ],
             [
              0.7777777777777778,
              "#fb9f3a"
             ],
             [
              0.8888888888888888,
              "#fdca26"
             ],
             [
              1,
              "#f0f921"
             ]
            ],
            "type": "surface"
           }
          ],
          "table": [
           {
            "cells": {
             "fill": {
              "color": "#EBF0F8"
             },
             "line": {
              "color": "white"
             }
            },
            "header": {
             "fill": {
              "color": "#C8D4E3"
             },
             "line": {
              "color": "white"
             }
            },
            "type": "table"
           }
          ]
         },
         "layout": {
          "annotationdefaults": {
           "arrowcolor": "#2a3f5f",
           "arrowhead": 0,
           "arrowwidth": 1
          },
          "autotypenumbers": "strict",
          "coloraxis": {
           "colorbar": {
            "outlinewidth": 0,
            "ticks": ""
           }
          },
          "colorscale": {
           "diverging": [
            [
             0,
             "#8e0152"
            ],
            [
             0.1,
             "#c51b7d"
            ],
            [
             0.2,
             "#de77ae"
            ],
            [
             0.3,
             "#f1b6da"
            ],
            [
             0.4,
             "#fde0ef"
            ],
            [
             0.5,
             "#f7f7f7"
            ],
            [
             0.6,
             "#e6f5d0"
            ],
            [
             0.7,
             "#b8e186"
            ],
            [
             0.8,
             "#7fbc41"
            ],
            [
             0.9,
             "#4d9221"
            ],
            [
             1,
             "#276419"
            ]
           ],
           "sequential": [
            [
             0,
             "#0d0887"
            ],
            [
             0.1111111111111111,
             "#46039f"
            ],
            [
             0.2222222222222222,
             "#7201a8"
            ],
            [
             0.3333333333333333,
             "#9c179e"
            ],
            [
             0.4444444444444444,
             "#bd3786"
            ],
            [
             0.5555555555555556,
             "#d8576b"
            ],
            [
             0.6666666666666666,
             "#ed7953"
            ],
            [
             0.7777777777777778,
             "#fb9f3a"
            ],
            [
             0.8888888888888888,
             "#fdca26"
            ],
            [
             1,
             "#f0f921"
            ]
           ],
           "sequentialminus": [
            [
             0,
             "#0d0887"
            ],
            [
             0.1111111111111111,
             "#46039f"
            ],
            [
             0.2222222222222222,
             "#7201a8"
            ],
            [
             0.3333333333333333,
             "#9c179e"
            ],
            [
             0.4444444444444444,
             "#bd3786"
            ],
            [
             0.5555555555555556,
             "#d8576b"
            ],
            [
             0.6666666666666666,
             "#ed7953"
            ],
            [
             0.7777777777777778,
             "#fb9f3a"
            ],
            [
             0.8888888888888888,
             "#fdca26"
            ],
            [
             1,
             "#f0f921"
            ]
           ]
          },
          "colorway": [
           "#636efa",
           "#EF553B",
           "#00cc96",
           "#ab63fa",
           "#FFA15A",
           "#19d3f3",
           "#FF6692",
           "#B6E880",
           "#FF97FF",
           "#FECB52"
          ],
          "font": {
           "color": "#2a3f5f"
          },
          "geo": {
           "bgcolor": "white",
           "lakecolor": "white",
           "landcolor": "white",
           "showlakes": true,
           "showland": true,
           "subunitcolor": "#C8D4E3"
          },
          "hoverlabel": {
           "align": "left"
          },
          "hovermode": "closest",
          "mapbox": {
           "style": "light"
          },
          "paper_bgcolor": "white",
          "plot_bgcolor": "white",
          "polar": {
           "angularaxis": {
            "gridcolor": "#EBF0F8",
            "linecolor": "#EBF0F8",
            "ticks": ""
           },
           "bgcolor": "white",
           "radialaxis": {
            "gridcolor": "#EBF0F8",
            "linecolor": "#EBF0F8",
            "ticks": ""
           }
          },
          "scene": {
           "xaxis": {
            "backgroundcolor": "white",
            "gridcolor": "#DFE8F3",
            "gridwidth": 2,
            "linecolor": "#EBF0F8",
            "showbackground": true,
            "ticks": "",
            "zerolinecolor": "#EBF0F8"
           },
           "yaxis": {
            "backgroundcolor": "white",
            "gridcolor": "#DFE8F3",
            "gridwidth": 2,
            "linecolor": "#EBF0F8",
            "showbackground": true,
            "ticks": "",
            "zerolinecolor": "#EBF0F8"
           },
           "zaxis": {
            "backgroundcolor": "white",
            "gridcolor": "#DFE8F3",
            "gridwidth": 2,
            "linecolor": "#EBF0F8",
            "showbackground": true,
            "ticks": "",
            "zerolinecolor": "#EBF0F8"
           }
          },
          "shapedefaults": {
           "line": {
            "color": "#2a3f5f"
           }
          },
          "ternary": {
           "aaxis": {
            "gridcolor": "#DFE8F3",
            "linecolor": "#A2B1C6",
            "ticks": ""
           },
           "baxis": {
            "gridcolor": "#DFE8F3",
            "linecolor": "#A2B1C6",
            "ticks": ""
           },
           "bgcolor": "white",
           "caxis": {
            "gridcolor": "#DFE8F3",
            "linecolor": "#A2B1C6",
            "ticks": ""
           }
          },
          "title": {
           "x": 0.05
          },
          "xaxis": {
           "automargin": true,
           "gridcolor": "#EBF0F8",
           "linecolor": "#EBF0F8",
           "ticks": "",
           "title": {
            "standoff": 15
           },
           "zerolinecolor": "#EBF0F8",
           "zerolinewidth": 2
          },
          "yaxis": {
           "automargin": true,
           "gridcolor": "#EBF0F8",
           "linecolor": "#EBF0F8",
           "ticks": "",
           "title": {
            "standoff": 15
           },
           "zerolinecolor": "#EBF0F8",
           "zerolinewidth": 2
          }
         }
        },
        "title": {
         "text": "Mt Bruno Elevation: 'plotly_white' theme"
        },
        "width": 500
       }
      },
      "text/html": [
       "<div>            <script src=\"https://cdnjs.cloudflare.com/ajax/libs/mathjax/2.7.5/MathJax.js?config=TeX-AMS-MML_SVG\"></script><script type=\"text/javascript\">if (window.MathJax && window.MathJax.Hub && window.MathJax.Hub.Config) {window.MathJax.Hub.Config({SVG: {font: \"STIX-Web\"}});}</script>                <script type=\"text/javascript\">window.PlotlyConfig = {MathJaxConfig: 'local'};</script>\n",
       "        <script charset=\"utf-8\" src=\"https://cdn.plot.ly/plotly-3.0.1.min.js\"></script>                <div id=\"3a61d57f-2cb9-4588-81db-a29016b52be1\" class=\"plotly-graph-div\" style=\"height:500px; width:500px;\"></div>            <script type=\"text/javascript\">                window.PLOTLYENV=window.PLOTLYENV || {};                                if (document.getElementById(\"3a61d57f-2cb9-4588-81db-a29016b52be1\")) {                    Plotly.newPlot(                        \"3a61d57f-2cb9-4588-81db-a29016b52be1\",                        [{\"z\":{\"dtype\":\"f8\",\"bdata\":\"AAAAAAAAAABlqmBUUs87QKw5QDBHz0hALPGAsinFVEBDrWnecSpdQGiR7Xw\\u002fTWBA7C+7Jw\\u002fXYkCcoiO5\\u002fIVrQE0VjErqhGNAoyO5\\u002fIeUYkDJdr6fGnlpQAU0ETY8wWlAih9j7lrKWkCLbOf7qRdRQPtcbcX+qkZAM9yAzw\\u002f7SEAjMqzijeQ1QNhkjXqIBjFAlLw6x4B8J0CMLQQ5KIEtQL1SliGOVStAIy4AjdK1FkBy3CkdrH8KQNxJRPgXgfI\\u002fcVRuopbmwr8AAAAAAADwP0c9RKM7uDtAdc3km21GSEA2donqrU1QQCEHJcy00VdAAG+BBMU\\u002fXUA+6Nms+rxgQKUsQxzrCmNA2c73U+P9YkB24JwRpQNkQInS3uALcWZAFvvL7slzYkACmggbnkxlQOqVsgxxdF5Angd3Z+1KSkABamrZWotAQDFCeLRxNENAMqzijcwfRkDMXUvIB2VRQGCUoL\\u002fQExBA7x6g+3JmCEAUPfAxWFEIQFJgAUwZ+AdAU0Kwql6+B0D4cTRHVv7\\u002fPwAAAAAAAABABTQRNjxtPkDMlxdgH71AQMGQ1a2eZ0ZAG55eKcs8T0A9D+7O2ltTQAu1pnnHDVpAs3vysFCvWUBkXdxGAyBhQCBj7lpCQmdAqmBUUidqa0DufD81XrhmQIqw4emVOl5AHVpkO9\\u002flYUBkIxCv65lUQLH5uDZUPEhAQNmUK7ytUkBrmnecogtOQOzAOSNKSxxANQ2K5gFcGEDY8PRKWSYaQFT83xEVqhpAChFwCFU6HUDfiVkvhvIWQPKxu0BJAQ1AAAAAAAAACECm0HmNXaowQHlYqDXNGz5Asmg6Oxn8Q0DP91PjpQ9GQESjO4idyU1AJvxSP29kU0CF61G4HrlaQCQofoy50WRAryXkg57nZUBeukkMAilnQHEbDeAtUGNArfpcbcXCVEBXlX1XBE9PQDyInSl0Kk9AnZ0MjpJHTkAu4jsx6\\u002fVLQJzhBnx+WC5Asp\\u002fFUiR\\u002fIEDsaYe\\u002fJldCQDMbZJKR905AlGqfjsdENEBkdavnpCVRQOS9amXCP0dAycwFLo81zj8AAAAAAAAQQI4fKo2YoSFAC0YldQJaMkB+jLlrCVEhQPW52or9lTtAh8Q9lj5QSEClg\\u002fV\\u002fDhdOQMxdS8gH1VZAP1dbsb82YkBxGw3gLQRdQH6MuWsJkVpAZoNMMnIsUUCTV+cYkI1KQKbVkLjH9kJAbZBJRs76R0DtKqT8pLZHQJCIKZFETVFAmRJJ9DJ6RkCk5NU5Biw9QF\\u002fv\\u002fniv6jFADJOpglFBMEBWKxN+qU8tQBhDOdGuQjFAxf6ye\\u002fI4P0BA9nr3x1tHQAAAAAAAABRAmE2AYfmDGkCk\\u002fKTap9MkQGCrBIvD0ThAglZgyOoWOkAMAiuHFik+QMhBCTNtJ0pAuvdwyXEtUEBZaVIKuhNTQFsIclDCKFVAlrIMcazbWEAYYB+dukJPQCMVxhaCaEdAC2MLQQ7iS0BYqDXNO5pUQApoImx4iGFAO8eA7PVQVECY+nlTkTpMQHmvWpnwaz5AfSJPkq5JMUDZl2w82JogQPM5d7te2gdAFqHYCpqWBUAZxt0gWosXQNl6hnDMEhVAAAAAAAAAGEDl0CLb+dY1QHRBfcucjhpAVFInoIn4MkCnXOFdLnJAQCXpmsk3k0VAoP1IERluT0CfPCzUmipaQHo2qz5XR2BAPE7RkVy2XEDQ1VbsL79aQC3saYe\\u002f8k5AHuG04EXHS0CrlQm\\u002f1LNVQJLoZRTLUVZAEOm3rwObXkBL6gQ0Ef5eQBKlvcEXRltAba0vEtqaWEDQDyOER2dTQG1zY3rCPkBA8KKvIM1YLUCWsgxxrHsdQMQXmqkYAKM\\u002frQoe8AqO5D8AAAAAAAAcQADGM2joq0pAajANw0fMOkB0QX3LnI4aQPQyiuWWxiVAak3zjlM0MUDzqzlAMBdMQJfFxObj7FNAw9MrZRm2VkDByqFFtpFYQCeDo+TVN1RASZ2AJsKyUkCpaoKo++JSQJyiI7n8W1JACObo8XuHUkCBBMWPMQtRQK0XQznRHkdA3IDPDyP4Q0BWmpSCbjc\\u002fQPd14JwRcUJArBxaZDsDREDWxW00gFtdQJzc71AUaClAghspWySt+z8AAAAAAAAAAAAAAAAAACBANKK0N\\u002fiqOUD6J7hYUYdPQIenV8oyJDZAbef7qfESMUAziuWWVt9EQEnXTL7ZIk5AesISDyhbVEAj2\\u002fl+apxcQLHh6ZWylFlAfPKwUGtyWUBEi2zn+8FbQF8pyxDHzl1AjLlrCfmEXECL\\u002fWX35KFbQAYSFD\\u002fGmE1AqvHSTWI8RUD20akrn0UtQP8DrFW7xhtAguLHmLvGG0A57pQO1r87QAAAAAAAAAAAAAAAAAAAAABRRuA4vjC4P3BWCqJqy7M\\u002fAAAAAAAAIkCBlUOLbKcpQEWBPpEnTVFAkpGzsKdhR0AgKSLDKu4rQMSUSKKX8UBASx+6oL7pTkAL73IR3y9VQCuHFtnOR15ArfpcbcUoYkDr4jYawCVjQP7UeOkmmWlA097gC5N9bEDLEMe6uIltQARWDi2yi2xAeekmMQjWU0DXUdUEUe85QP8DrFW7xhtA\\u002fwOsVbvGG0CC4seYu8YbQJOq7Sb4Nh5AAAAAAAAAAAAAAAAAAAAAAAAAAAAAAAAAAAAAAAAAAAAAAAAAAAAkQAAAAAAAAAAAinYVUn4qUUAhsHJokYVNQKAy\\u002fn3GrUBAxHx5Afa5R0Bt5\\u002fup8epMQOIBZVOuulNAKVyPwvX0WkBn1edqKwBlQBQ\\u002fxty1XmBA1lbsL7uRakD1udqK\\u002fblkQFmGONbFR2pAwTkjSnulZkCfq63YX7hnQNcS8kHPKmFAB84ZUdopVUCjy5vDtVohQNKNsKiI0xtAGvm84qnvIEAAAAAAAAAAAAAAAAAAAAAAAAAAAAAAAAAAAAAAAAAAAAAAAAAAACZAAAAAAAAAAAAhyEEJM8tXQB\\u002fXhopxAlRACcTr+gXzTUAmAWpq2cpDQLL0oQvqI0lATRB1H4DoT0DQ8jy4OydUQICCixU1mFBAbcX+snvYaEC+MJkqGItuQH3Qs1n1Y3JADeAtkKCFcEBFR3L5Dw1mQIDxDBr6G05ABoGVQ4taU0BSRIZVvJVKQKlqgqj7FExAzt+EQgTMG0Bh\\u002fDTuzR8eQCy7YHDNPQ5AAAAAAAAAAAAAAAAAAAAAAAAAAAAAAAAAAAAAAAAAKEAAAAAAAAAAAP32deCc32BAQBNhw9NLYEBoke18PzdYQBppqbwd7VJAZhTLLa1uTUCLcf4mFJpMQBXGFoIcmEtA1XjpJjGIU0AkKH6MuSNbQFUwKqkTTGNAseHplbLyc0Aydy0hH053QJzEILByN3FA1QloImxIYEAAOsyXF3hLQPPlBdhHfzlAIhyz7EkYIEDNBS6PNSsgQMIxy54EdhRAAJATJoy2FkAAAAAAAAAAAAAAAAAAAAAAAAAAAAAAAAAAAAAAAAAqQAAAAAAAAAAArJDyk2oLSEC94xQdydFhQGB2Tx4WjGFABTQRNjxXY0BHcvkP6ftVQHU8ZqAyDk1Aur2kMVprSkA9J71vfMlQQHSYLy\\u002fA6lRApb3BFya7XUBxGw3gLcJiQPs6cM6ID3FAI0p7gy9SdUBoke18P9VtQGZmZmZmxmdABTQRNjw5XUDJk6RrJt9WQCsYldQJCCxA\\u002fZ\\u002fDfHklRUDCMcueBHYUQAAAAAAAAAAAAAAAAAAAAAAAAAAAAAAAAAAAAAAAACxAAAAAAAAAAACpE9BE2BhLQOcdp+hITGJADVTGv8\\u002feWEDmdFlMbAxYQA3gLZCgvFlAV5V9VwQJU0C\\u002ffR04Z+RMQEymCkYlhUdAU9DtJY0XUEBhTzv8NQ9VQD7o2az6VmRAKVyPwvVUXkB+HThnRKVqQMHKoUW2h3RAyjLEsS7XcUCu2F92T71xQK5H4XoUmmpAIbByaJGRZECU3je+9hJXQAvvchHf+RxAeekmMQis8j8AAAAAAAAAAAAAAAAAAAAAAAAAAAAALkAAAAAAAAAAAGXjwRa7rRtAXdxGA3hlaEDXEvJBz5BgQMx\\u002fSL9952BAMUJ4tHF2VkDsaYe\\u002fJl1WQNHLKJZbJk5A+grSjEUrSUDt0\\u002fGYgZZDQOI7MevFiE1A7PoFu2GhUkDWc9L7xjtVQD0s1JrmY2dA7lpCPuj9XkCMuWsJ+exZQGQ730+NH2BAdQKaCBukZEAmUwWjkjZvQD1hiQeU2VdAxT2WPnQBJEDAWyBB8SMDQAAAAAAAAAAAAAAAAAAAAAAAAAAAAAAwQAAAAAAAAAAAaTo7GRy9NUDNO07RkcheQCQofoy5F2ZAvw6cM6LIY0DsUbgehSdhQABvgQTFU1pAbcX+snuoVUDCo40j1o5KQIv9ZffkCT1AHSCYo8dnPkDKbJBJRoZDQH3Qs1n1nUhAOnr83qajT0Dl0CLb+dpbQD\\u002fG3LWETFlAmrFoOjsBREBj7lpCPuxNQAIOoUrNoFJAVWr2QCsQMUCcMGE0K3sDQChjfJi9TAJAH7Xm39fVN78AAAAAAAAAAAAAAAAAADFAAAAAAAAAAAAAAAAAAAAAANkIxOv6BU9A9bnaiv0JYUDvOEVHcjlpQEp7gy9MBGVAvjCZKhjNV0DcKR2s\\u002f3NNQFw9J71veEdAH0sfuqCiSECTxmgdVY1CQMaFAyFZ+DFAR1UTRN3vPkADste7P7JAQFXZd0XwA0ZAmBdgH53SS0AOMsnIWY5TQEImGTkL2yxAZY7lXfXoI0C9cr1tphIfQAWjkjoBDSpAl8rbEU67NUC2FJD2P0ABQBNUnoplBOE\\u002fAAAAAAAAMkAAAAAAAAAAAAAAAAAAAAAAPDHrxVDoU0DDZKpgVHZhQNNNYhBYpWVA5BQdyeUbaEDaG3xhMotoQFfsL7snFWJAbVZ9rraiWkDF5uPaUJVMQPEuF\\u002fGdlERAqtTsgVYQQEDYgXNGlLYrQC7FVWXf1SVA+KqVCb8kKEBuaTUk7mE2QOPHmLuWuDhA6KBLOPQ2G0CjyFpDqc0QQADjGTT0dzBAtcNfkzVqL0As8YCyKftAQHHMsieBTR5Aj93LnoD9qL8AAAAAAAAzQAAAAAAAAAAAAAAAAAAAAADD0ytlGaJAQPFL\\u002fbypxExAE2HD0yvnZEAFxY8xd49oQMx\\u002fSL99WWhAINJvXwfGZkC4rwPnjOxdQLq9pDFaQVJA7YFWYMguSECr56T3jd9AQOm3rwPnPDpAQYLix5hbMEAZ5ZmXwz4bQHRBfcucjhpA9x+ZDp2OGkAa+bziqe8gQLX7VYDvxhhAGof6Xdi6DEBpjNZR1YQOQA7d7A+UMyFAjq89syTgFEAAAAAAAAAAAAAAAAAAADRAAAAAAAAAAAAAAAAAAAAAAMh71cqExz1AhnKiXYV8S0DdJAaBlRliQKs+V1ux72lAl\\u002f+QfvuqZEAeFmpN82xlQMx\\u002fSL993WVAzH9Iv30RWUC693DJcbtOQHgoCvSJGElAIlSp2QMVOkA7\\u002fDVZoy4xQBr5vOKp7yBAdEF9y5yOGkBsXWqEflYZQGxdaoR+VhlAZKw2\\u002f6+qFkALfhtivBYRQAAAAAAAAAAAAAAAAAAAAAAAAAAAAAAAAAAAAAAAAAAAAAAAAAAANUAAAAAAAAAAAAAAAAAAAAAAYhBYObRoP0CIhVrTvJdgQF+YTBWMMmdA07zjFB11XkCYTBWMSixnQLfRAN4CFWRAU5YhjnUJXUCQoPgx5oZdQNqs+lxtuWFAAz4\\u002fjBBkUEAWhzO\\u002fmmtIQN3qOel9IzdA\\u002freSHRshMkCLcf4mFJIkQOGaO\\u002fpfHhhAChNGs7ItGECpwMk2cMcWQJq2f2Wl6Q1AMQxYchUrD0AAAAAAAAAAAAAAAAAAAAAAAAAAAAAAAAAAAAAAAAA2QAAAAAAAAAAAAAAAAAAAAAAsms5OBpczQLRZ9bnaJkVAZTbIJCMRWEASFD\\u002fG3GNnQIxK6gQ0dWZAY3\\u002fZPXmsa0Cfq63YX0hjQOlILv8hxWFA4zYawFuSYkCM+E7MestQQNXsgVZgWERAOsyXF2DfQ0C1T8djBho6QIBlpUkp+CxAxcn9DkVRIUAxDFhyFSsPQHmRCfg1kgxAMQxYchUrD0AxDFhyFSsPQDEMWHIVKw9AnBVRE30+8T8AAAAAAAAAAAAAAAAAADdATKW7xaUlVD+46jpUUxIIQBAEyNCxoxdAuCOcFrzAQED+ZffkYRVaQLByaJHtBmNAPE7RkVzGaED0\\u002fdR46fpnQJM6AU2El2xAb\\u002fCFyVQDZUDtnjws1AhiQI9TdCSXr1tA7DTSUnnTTEBv05\\u002f9SFFFQKX3ja896ztANbVsrS\\u002fSLkD6er5muRwgQAzIXu\\u002f+OA9ABfhu88YJD0CimLwBZn4PQG1Zvi7Dvw9A4MjyZO2lvz+sjbETXuIPQNFB8ilbf8e\\u002fAAAAAAAAOEAAAAAAAAAAACu9NhsrgRZAJuXuc3y0HkB4uYjvxJRPQPLqHAOy\\u002f0ZAajANw0fkU0DLoUW282lsQHL5D+m3fWlAklz+Q\\u002fqRZUCbVZ+rrSRmQCZTBaOSjmFACKwcWmT\\u002fXkCgGi\\u002fdJJZbQG5MT1jiR1BAd9Zuu9AoQUAs1JrmHYc4QE6Zm29EHyNAe6Lrwg+uCkBbzqW4qlwWQBFuMqoM8xVAlPqytFOjF0BPrimQ2XkXQDRlpx\\u002fUVRdAE7cKYqCLDEA=\",\"shape\":\"25, 25\"},\"type\":\"surface\"}],                        {\"height\":500,\"title\":{\"text\":\"Mt Bruno Elevation: 'plotly_white' theme\"},\"width\":500,\"template\":{\"data\":{\"barpolar\":[{\"marker\":{\"line\":{\"color\":\"white\",\"width\":0.5},\"pattern\":{\"fillmode\":\"overlay\",\"size\":10,\"solidity\":0.2}},\"type\":\"barpolar\"}],\"bar\":[{\"error_x\":{\"color\":\"#2a3f5f\"},\"error_y\":{\"color\":\"#2a3f5f\"},\"marker\":{\"line\":{\"color\":\"white\",\"width\":0.5},\"pattern\":{\"fillmode\":\"overlay\",\"size\":10,\"solidity\":0.2}},\"type\":\"bar\"}],\"carpet\":[{\"aaxis\":{\"endlinecolor\":\"#2a3f5f\",\"gridcolor\":\"#C8D4E3\",\"linecolor\":\"#C8D4E3\",\"minorgridcolor\":\"#C8D4E3\",\"startlinecolor\":\"#2a3f5f\"},\"baxis\":{\"endlinecolor\":\"#2a3f5f\",\"gridcolor\":\"#C8D4E3\",\"linecolor\":\"#C8D4E3\",\"minorgridcolor\":\"#C8D4E3\",\"startlinecolor\":\"#2a3f5f\"},\"type\":\"carpet\"}],\"choropleth\":[{\"colorbar\":{\"outlinewidth\":0,\"ticks\":\"\"},\"type\":\"choropleth\"}],\"contourcarpet\":[{\"colorbar\":{\"outlinewidth\":0,\"ticks\":\"\"},\"type\":\"contourcarpet\"}],\"contour\":[{\"colorbar\":{\"outlinewidth\":0,\"ticks\":\"\"},\"colorscale\":[[0.0,\"#0d0887\"],[0.1111111111111111,\"#46039f\"],[0.2222222222222222,\"#7201a8\"],[0.3333333333333333,\"#9c179e\"],[0.4444444444444444,\"#bd3786\"],[0.5555555555555556,\"#d8576b\"],[0.6666666666666666,\"#ed7953\"],[0.7777777777777778,\"#fb9f3a\"],[0.8888888888888888,\"#fdca26\"],[1.0,\"#f0f921\"]],\"type\":\"contour\"}],\"heatmap\":[{\"colorbar\":{\"outlinewidth\":0,\"ticks\":\"\"},\"colorscale\":[[0.0,\"#0d0887\"],[0.1111111111111111,\"#46039f\"],[0.2222222222222222,\"#7201a8\"],[0.3333333333333333,\"#9c179e\"],[0.4444444444444444,\"#bd3786\"],[0.5555555555555556,\"#d8576b\"],[0.6666666666666666,\"#ed7953\"],[0.7777777777777778,\"#fb9f3a\"],[0.8888888888888888,\"#fdca26\"],[1.0,\"#f0f921\"]],\"type\":\"heatmap\"}],\"histogram2dcontour\":[{\"colorbar\":{\"outlinewidth\":0,\"ticks\":\"\"},\"colorscale\":[[0.0,\"#0d0887\"],[0.1111111111111111,\"#46039f\"],[0.2222222222222222,\"#7201a8\"],[0.3333333333333333,\"#9c179e\"],[0.4444444444444444,\"#bd3786\"],[0.5555555555555556,\"#d8576b\"],[0.6666666666666666,\"#ed7953\"],[0.7777777777777778,\"#fb9f3a\"],[0.8888888888888888,\"#fdca26\"],[1.0,\"#f0f921\"]],\"type\":\"histogram2dcontour\"}],\"histogram2d\":[{\"colorbar\":{\"outlinewidth\":0,\"ticks\":\"\"},\"colorscale\":[[0.0,\"#0d0887\"],[0.1111111111111111,\"#46039f\"],[0.2222222222222222,\"#7201a8\"],[0.3333333333333333,\"#9c179e\"],[0.4444444444444444,\"#bd3786\"],[0.5555555555555556,\"#d8576b\"],[0.6666666666666666,\"#ed7953\"],[0.7777777777777778,\"#fb9f3a\"],[0.8888888888888888,\"#fdca26\"],[1.0,\"#f0f921\"]],\"type\":\"histogram2d\"}],\"histogram\":[{\"marker\":{\"pattern\":{\"fillmode\":\"overlay\",\"size\":10,\"solidity\":0.2}},\"type\":\"histogram\"}],\"mesh3d\":[{\"colorbar\":{\"outlinewidth\":0,\"ticks\":\"\"},\"type\":\"mesh3d\"}],\"parcoords\":[{\"line\":{\"colorbar\":{\"outlinewidth\":0,\"ticks\":\"\"}},\"type\":\"parcoords\"}],\"pie\":[{\"automargin\":true,\"type\":\"pie\"}],\"scatter3d\":[{\"line\":{\"colorbar\":{\"outlinewidth\":0,\"ticks\":\"\"}},\"marker\":{\"colorbar\":{\"outlinewidth\":0,\"ticks\":\"\"}},\"type\":\"scatter3d\"}],\"scattercarpet\":[{\"marker\":{\"colorbar\":{\"outlinewidth\":0,\"ticks\":\"\"}},\"type\":\"scattercarpet\"}],\"scattergeo\":[{\"marker\":{\"colorbar\":{\"outlinewidth\":0,\"ticks\":\"\"}},\"type\":\"scattergeo\"}],\"scattergl\":[{\"marker\":{\"colorbar\":{\"outlinewidth\":0,\"ticks\":\"\"}},\"type\":\"scattergl\"}],\"scattermapbox\":[{\"marker\":{\"colorbar\":{\"outlinewidth\":0,\"ticks\":\"\"}},\"type\":\"scattermapbox\"}],\"scattermap\":[{\"marker\":{\"colorbar\":{\"outlinewidth\":0,\"ticks\":\"\"}},\"type\":\"scattermap\"}],\"scatterpolargl\":[{\"marker\":{\"colorbar\":{\"outlinewidth\":0,\"ticks\":\"\"}},\"type\":\"scatterpolargl\"}],\"scatterpolar\":[{\"marker\":{\"colorbar\":{\"outlinewidth\":0,\"ticks\":\"\"}},\"type\":\"scatterpolar\"}],\"scatter\":[{\"fillpattern\":{\"fillmode\":\"overlay\",\"size\":10,\"solidity\":0.2},\"type\":\"scatter\"}],\"scatterternary\":[{\"marker\":{\"colorbar\":{\"outlinewidth\":0,\"ticks\":\"\"}},\"type\":\"scatterternary\"}],\"surface\":[{\"colorbar\":{\"outlinewidth\":0,\"ticks\":\"\"},\"colorscale\":[[0.0,\"#0d0887\"],[0.1111111111111111,\"#46039f\"],[0.2222222222222222,\"#7201a8\"],[0.3333333333333333,\"#9c179e\"],[0.4444444444444444,\"#bd3786\"],[0.5555555555555556,\"#d8576b\"],[0.6666666666666666,\"#ed7953\"],[0.7777777777777778,\"#fb9f3a\"],[0.8888888888888888,\"#fdca26\"],[1.0,\"#f0f921\"]],\"type\":\"surface\"}],\"table\":[{\"cells\":{\"fill\":{\"color\":\"#EBF0F8\"},\"line\":{\"color\":\"white\"}},\"header\":{\"fill\":{\"color\":\"#C8D4E3\"},\"line\":{\"color\":\"white\"}},\"type\":\"table\"}]},\"layout\":{\"annotationdefaults\":{\"arrowcolor\":\"#2a3f5f\",\"arrowhead\":0,\"arrowwidth\":1},\"autotypenumbers\":\"strict\",\"coloraxis\":{\"colorbar\":{\"outlinewidth\":0,\"ticks\":\"\"}},\"colorscale\":{\"diverging\":[[0,\"#8e0152\"],[0.1,\"#c51b7d\"],[0.2,\"#de77ae\"],[0.3,\"#f1b6da\"],[0.4,\"#fde0ef\"],[0.5,\"#f7f7f7\"],[0.6,\"#e6f5d0\"],[0.7,\"#b8e186\"],[0.8,\"#7fbc41\"],[0.9,\"#4d9221\"],[1,\"#276419\"]],\"sequential\":[[0.0,\"#0d0887\"],[0.1111111111111111,\"#46039f\"],[0.2222222222222222,\"#7201a8\"],[0.3333333333333333,\"#9c179e\"],[0.4444444444444444,\"#bd3786\"],[0.5555555555555556,\"#d8576b\"],[0.6666666666666666,\"#ed7953\"],[0.7777777777777778,\"#fb9f3a\"],[0.8888888888888888,\"#fdca26\"],[1.0,\"#f0f921\"]],\"sequentialminus\":[[0.0,\"#0d0887\"],[0.1111111111111111,\"#46039f\"],[0.2222222222222222,\"#7201a8\"],[0.3333333333333333,\"#9c179e\"],[0.4444444444444444,\"#bd3786\"],[0.5555555555555556,\"#d8576b\"],[0.6666666666666666,\"#ed7953\"],[0.7777777777777778,\"#fb9f3a\"],[0.8888888888888888,\"#fdca26\"],[1.0,\"#f0f921\"]]},\"colorway\":[\"#636efa\",\"#EF553B\",\"#00cc96\",\"#ab63fa\",\"#FFA15A\",\"#19d3f3\",\"#FF6692\",\"#B6E880\",\"#FF97FF\",\"#FECB52\"],\"font\":{\"color\":\"#2a3f5f\"},\"geo\":{\"bgcolor\":\"white\",\"lakecolor\":\"white\",\"landcolor\":\"white\",\"showlakes\":true,\"showland\":true,\"subunitcolor\":\"#C8D4E3\"},\"hoverlabel\":{\"align\":\"left\"},\"hovermode\":\"closest\",\"mapbox\":{\"style\":\"light\"},\"paper_bgcolor\":\"white\",\"plot_bgcolor\":\"white\",\"polar\":{\"angularaxis\":{\"gridcolor\":\"#EBF0F8\",\"linecolor\":\"#EBF0F8\",\"ticks\":\"\"},\"bgcolor\":\"white\",\"radialaxis\":{\"gridcolor\":\"#EBF0F8\",\"linecolor\":\"#EBF0F8\",\"ticks\":\"\"}},\"scene\":{\"xaxis\":{\"backgroundcolor\":\"white\",\"gridcolor\":\"#DFE8F3\",\"gridwidth\":2,\"linecolor\":\"#EBF0F8\",\"showbackground\":true,\"ticks\":\"\",\"zerolinecolor\":\"#EBF0F8\"},\"yaxis\":{\"backgroundcolor\":\"white\",\"gridcolor\":\"#DFE8F3\",\"gridwidth\":2,\"linecolor\":\"#EBF0F8\",\"showbackground\":true,\"ticks\":\"\",\"zerolinecolor\":\"#EBF0F8\"},\"zaxis\":{\"backgroundcolor\":\"white\",\"gridcolor\":\"#DFE8F3\",\"gridwidth\":2,\"linecolor\":\"#EBF0F8\",\"showbackground\":true,\"ticks\":\"\",\"zerolinecolor\":\"#EBF0F8\"}},\"shapedefaults\":{\"line\":{\"color\":\"#2a3f5f\"}},\"ternary\":{\"aaxis\":{\"gridcolor\":\"#DFE8F3\",\"linecolor\":\"#A2B1C6\",\"ticks\":\"\"},\"baxis\":{\"gridcolor\":\"#DFE8F3\",\"linecolor\":\"#A2B1C6\",\"ticks\":\"\"},\"bgcolor\":\"white\",\"caxis\":{\"gridcolor\":\"#DFE8F3\",\"linecolor\":\"#A2B1C6\",\"ticks\":\"\"}},\"title\":{\"x\":0.05},\"xaxis\":{\"automargin\":true,\"gridcolor\":\"#EBF0F8\",\"linecolor\":\"#EBF0F8\",\"ticks\":\"\",\"title\":{\"standoff\":15},\"zerolinecolor\":\"#EBF0F8\",\"zerolinewidth\":2},\"yaxis\":{\"automargin\":true,\"gridcolor\":\"#EBF0F8\",\"linecolor\":\"#EBF0F8\",\"ticks\":\"\",\"title\":{\"standoff\":15},\"zerolinecolor\":\"#EBF0F8\",\"zerolinewidth\":2}}}},                        {\"responsive\": true}                    ).then(function(){\n",
       "                            \n",
       "var gd = document.getElementById('3a61d57f-2cb9-4588-81db-a29016b52be1');\n",
       "var x = new MutationObserver(function (mutations, observer) {{\n",
       "        var display = window.getComputedStyle(gd).display;\n",
       "        if (!display || display === 'none') {{\n",
       "            console.log([gd, 'removed!']);\n",
       "            Plotly.purge(gd);\n",
       "            observer.disconnect();\n",
       "        }}\n",
       "}});\n",
       "\n",
       "// Listen for the removal of the full notebook cells\n",
       "var notebookContainer = gd.closest('#notebook-container');\n",
       "if (notebookContainer) {{\n",
       "    x.observe(notebookContainer, {childList: true});\n",
       "}}\n",
       "\n",
       "// Listen for the clearing of the current output cell\n",
       "var outputEl = gd.closest('.output');\n",
       "if (outputEl) {{\n",
       "    x.observe(outputEl, {childList: true});\n",
       "}}\n",
       "\n",
       "                        })                };            </script>        </div>"
      ]
     },
     "metadata": {},
     "output_type": "display_data"
    },
    {
     "data": {
      "application/vnd.plotly.v1+json": {
       "config": {
        "plotlyServerURL": "https://plot.ly"
       },
       "data": [
        {
         "type": "surface",
         "z": {
          "bdata": "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",
          "dtype": "f8",
          "shape": "25, 25"
         }
        }
       ],
       "layout": {
        "height": 500,
        "template": {
         "data": {
          "bar": [
           {
            "error_x": {
             "color": "#f2f5fa"
            },
            "error_y": {
             "color": "#f2f5fa"
            },
            "marker": {
             "line": {
              "color": "rgb(17,17,17)",
              "width": 0.5
             },
             "pattern": {
              "fillmode": "overlay",
              "size": 10,
              "solidity": 0.2
             }
            },
            "type": "bar"
           }
          ],
          "barpolar": [
           {
            "marker": {
             "line": {
              "color": "rgb(17,17,17)",
              "width": 0.5
             },
             "pattern": {
              "fillmode": "overlay",
              "size": 10,
              "solidity": 0.2
             }
            },
            "type": "barpolar"
           }
          ],
          "carpet": [
           {
            "aaxis": {
             "endlinecolor": "#A2B1C6",
             "gridcolor": "#506784",
             "linecolor": "#506784",
             "minorgridcolor": "#506784",
             "startlinecolor": "#A2B1C6"
            },
            "baxis": {
             "endlinecolor": "#A2B1C6",
             "gridcolor": "#506784",
             "linecolor": "#506784",
             "minorgridcolor": "#506784",
             "startlinecolor": "#A2B1C6"
            },
            "type": "carpet"
           }
          ],
          "choropleth": [
           {
            "colorbar": {
             "outlinewidth": 0,
             "ticks": ""
            },
            "type": "choropleth"
           }
          ],
          "contour": [
           {
            "colorbar": {
             "outlinewidth": 0,
             "ticks": ""
            },
            "colorscale": [
             [
              0,
              "#0d0887"
             ],
             [
              0.1111111111111111,
              "#46039f"
             ],
             [
              0.2222222222222222,
              "#7201a8"
             ],
             [
              0.3333333333333333,
              "#9c179e"
             ],
             [
              0.4444444444444444,
              "#bd3786"
             ],
             [
              0.5555555555555556,
              "#d8576b"
             ],
             [
              0.6666666666666666,
              "#ed7953"
             ],
             [
              0.7777777777777778,
              "#fb9f3a"
             ],
             [
              0.8888888888888888,
              "#fdca26"
             ],
             [
              1,
              "#f0f921"
             ]
            ],
            "type": "contour"
           }
          ],
          "contourcarpet": [
           {
            "colorbar": {
             "outlinewidth": 0,
             "ticks": ""
            },
            "type": "contourcarpet"
           }
          ],
          "heatmap": [
           {
            "colorbar": {
             "outlinewidth": 0,
             "ticks": ""
            },
            "colorscale": [
             [
              0,
              "#0d0887"
             ],
             [
              0.1111111111111111,
              "#46039f"
             ],
             [
              0.2222222222222222,
              "#7201a8"
             ],
             [
              0.3333333333333333,
              "#9c179e"
             ],
             [
              0.4444444444444444,
              "#bd3786"
             ],
             [
              0.5555555555555556,
              "#d8576b"
             ],
             [
              0.6666666666666666,
              "#ed7953"
             ],
             [
              0.7777777777777778,
              "#fb9f3a"
             ],
             [
              0.8888888888888888,
              "#fdca26"
             ],
             [
              1,
              "#f0f921"
             ]
            ],
            "type": "heatmap"
           }
          ],
          "histogram": [
           {
            "marker": {
             "pattern": {
              "fillmode": "overlay",
              "size": 10,
              "solidity": 0.2
             }
            },
            "type": "histogram"
           }
          ],
          "histogram2d": [
           {
            "colorbar": {
             "outlinewidth": 0,
             "ticks": ""
            },
            "colorscale": [
             [
              0,
              "#0d0887"
             ],
             [
              0.1111111111111111,
              "#46039f"
             ],
             [
              0.2222222222222222,
              "#7201a8"
             ],
             [
              0.3333333333333333,
              "#9c179e"
             ],
             [
              0.4444444444444444,
              "#bd3786"
             ],
             [
              0.5555555555555556,
              "#d8576b"
             ],
             [
              0.6666666666666666,
              "#ed7953"
             ],
             [
              0.7777777777777778,
              "#fb9f3a"
             ],
             [
              0.8888888888888888,
              "#fdca26"
             ],
             [
              1,
              "#f0f921"
             ]
            ],
            "type": "histogram2d"
           }
          ],
          "histogram2dcontour": [
           {
            "colorbar": {
             "outlinewidth": 0,
             "ticks": ""
            },
            "colorscale": [
             [
              0,
              "#0d0887"
             ],
             [
              0.1111111111111111,
              "#46039f"
             ],
             [
              0.2222222222222222,
              "#7201a8"
             ],
             [
              0.3333333333333333,
              "#9c179e"
             ],
             [
              0.4444444444444444,
              "#bd3786"
             ],
             [
              0.5555555555555556,
              "#d8576b"
             ],
             [
              0.6666666666666666,
              "#ed7953"
             ],
             [
              0.7777777777777778,
              "#fb9f3a"
             ],
             [
              0.8888888888888888,
              "#fdca26"
             ],
             [
              1,
              "#f0f921"
             ]
            ],
            "type": "histogram2dcontour"
           }
          ],
          "mesh3d": [
           {
            "colorbar": {
             "outlinewidth": 0,
             "ticks": ""
            },
            "type": "mesh3d"
           }
          ],
          "parcoords": [
           {
            "line": {
             "colorbar": {
              "outlinewidth": 0,
              "ticks": ""
             }
            },
            "type": "parcoords"
           }
          ],
          "pie": [
           {
            "automargin": true,
            "type": "pie"
           }
          ],
          "scatter": [
           {
            "marker": {
             "line": {
              "color": "#283442"
             }
            },
            "type": "scatter"
           }
          ],
          "scatter3d": [
           {
            "line": {
             "colorbar": {
              "outlinewidth": 0,
              "ticks": ""
             }
            },
            "marker": {
             "colorbar": {
              "outlinewidth": 0,
              "ticks": ""
             }
            },
            "type": "scatter3d"
           }
          ],
          "scattercarpet": [
           {
            "marker": {
             "colorbar": {
              "outlinewidth": 0,
              "ticks": ""
             }
            },
            "type": "scattercarpet"
           }
          ],
          "scattergeo": [
           {
            "marker": {
             "colorbar": {
              "outlinewidth": 0,
              "ticks": ""
             }
            },
            "type": "scattergeo"
           }
          ],
          "scattergl": [
           {
            "marker": {
             "line": {
              "color": "#283442"
             }
            },
            "type": "scattergl"
           }
          ],
          "scattermap": [
           {
            "marker": {
             "colorbar": {
              "outlinewidth": 0,
              "ticks": ""
             }
            },
            "type": "scattermap"
           }
          ],
          "scattermapbox": [
           {
            "marker": {
             "colorbar": {
              "outlinewidth": 0,
              "ticks": ""
             }
            },
            "type": "scattermapbox"
           }
          ],
          "scatterpolar": [
           {
            "marker": {
             "colorbar": {
              "outlinewidth": 0,
              "ticks": ""
             }
            },
            "type": "scatterpolar"
           }
          ],
          "scatterpolargl": [
           {
            "marker": {
             "colorbar": {
              "outlinewidth": 0,
              "ticks": ""
             }
            },
            "type": "scatterpolargl"
           }
          ],
          "scatterternary": [
           {
            "marker": {
             "colorbar": {
              "outlinewidth": 0,
              "ticks": ""
             }
            },
            "type": "scatterternary"
           }
          ],
          "surface": [
           {
            "colorbar": {
             "outlinewidth": 0,
             "ticks": ""
            },
            "colorscale": [
             [
              0,
              "#0d0887"
             ],
             [
              0.1111111111111111,
              "#46039f"
             ],
             [
              0.2222222222222222,
              "#7201a8"
             ],
             [
              0.3333333333333333,
              "#9c179e"
             ],
             [
              0.4444444444444444,
              "#bd3786"
             ],
             [
              0.5555555555555556,
              "#d8576b"
             ],
             [
              0.6666666666666666,
              "#ed7953"
             ],
             [
              0.7777777777777778,
              "#fb9f3a"
             ],
             [
              0.8888888888888888,
              "#fdca26"
             ],
             [
              1,
              "#f0f921"
             ]
            ],
            "type": "surface"
           }
          ],
          "table": [
           {
            "cells": {
             "fill": {
              "color": "#506784"
             },
             "line": {
              "color": "rgb(17,17,17)"
             }
            },
            "header": {
             "fill": {
              "color": "#2a3f5f"
             },
             "line": {
              "color": "rgb(17,17,17)"
             }
            },
            "type": "table"
           }
          ]
         },
         "layout": {
          "annotationdefaults": {
           "arrowcolor": "#f2f5fa",
           "arrowhead": 0,
           "arrowwidth": 1
          },
          "autotypenumbers": "strict",
          "coloraxis": {
           "colorbar": {
            "outlinewidth": 0,
            "ticks": ""
           }
          },
          "colorscale": {
           "diverging": [
            [
             0,
             "#8e0152"
            ],
            [
             0.1,
             "#c51b7d"
            ],
            [
             0.2,
             "#de77ae"
            ],
            [
             0.3,
             "#f1b6da"
            ],
            [
             0.4,
             "#fde0ef"
            ],
            [
             0.5,
             "#f7f7f7"
            ],
            [
             0.6,
             "#e6f5d0"
            ],
            [
             0.7,
             "#b8e186"
            ],
            [
             0.8,
             "#7fbc41"
            ],
            [
             0.9,
             "#4d9221"
            ],
            [
             1,
             "#276419"
            ]
           ],
           "sequential": [
            [
             0,
             "#0d0887"
            ],
            [
             0.1111111111111111,
             "#46039f"
            ],
            [
             0.2222222222222222,
             "#7201a8"
            ],
            [
             0.3333333333333333,
             "#9c179e"
            ],
            [
             0.4444444444444444,
             "#bd3786"
            ],
            [
             0.5555555555555556,
             "#d8576b"
            ],
            [
             0.6666666666666666,
             "#ed7953"
            ],
            [
             0.7777777777777778,
             "#fb9f3a"
            ],
            [
             0.8888888888888888,
             "#fdca26"
            ],
            [
             1,
             "#f0f921"
            ]
           ],
           "sequentialminus": [
            [
             0,
             "#0d0887"
            ],
            [
             0.1111111111111111,
             "#46039f"
            ],
            [
             0.2222222222222222,
             "#7201a8"
            ],
            [
             0.3333333333333333,
             "#9c179e"
            ],
            [
             0.4444444444444444,
             "#bd3786"
            ],
            [
             0.5555555555555556,
             "#d8576b"
            ],
            [
             0.6666666666666666,
             "#ed7953"
            ],
            [
             0.7777777777777778,
             "#fb9f3a"
            ],
            [
             0.8888888888888888,
             "#fdca26"
            ],
            [
             1,
             "#f0f921"
            ]
           ]
          },
          "colorway": [
           "#636efa",
           "#EF553B",
           "#00cc96",
           "#ab63fa",
           "#FFA15A",
           "#19d3f3",
           "#FF6692",
           "#B6E880",
           "#FF97FF",
           "#FECB52"
          ],
          "font": {
           "color": "#f2f5fa"
          },
          "geo": {
           "bgcolor": "rgb(17,17,17)",
           "lakecolor": "rgb(17,17,17)",
           "landcolor": "rgb(17,17,17)",
           "showlakes": true,
           "showland": true,
           "subunitcolor": "#506784"
          },
          "hoverlabel": {
           "align": "left"
          },
          "hovermode": "closest",
          "mapbox": {
           "style": "dark"
          },
          "paper_bgcolor": "rgb(17,17,17)",
          "plot_bgcolor": "rgb(17,17,17)",
          "polar": {
           "angularaxis": {
            "gridcolor": "#506784",
            "linecolor": "#506784",
            "ticks": ""
           },
           "bgcolor": "rgb(17,17,17)",
           "radialaxis": {
            "gridcolor": "#506784",
            "linecolor": "#506784",
            "ticks": ""
           }
          },
          "scene": {
           "xaxis": {
            "backgroundcolor": "rgb(17,17,17)",
            "gridcolor": "#506784",
            "gridwidth": 2,
            "linecolor": "#506784",
            "showbackground": true,
            "ticks": "",
            "zerolinecolor": "#C8D4E3"
           },
           "yaxis": {
            "backgroundcolor": "rgb(17,17,17)",
            "gridcolor": "#506784",
            "gridwidth": 2,
            "linecolor": "#506784",
            "showbackground": true,
            "ticks": "",
            "zerolinecolor": "#C8D4E3"
           },
           "zaxis": {
            "backgroundcolor": "rgb(17,17,17)",
            "gridcolor": "#506784",
            "gridwidth": 2,
            "linecolor": "#506784",
            "showbackground": true,
            "ticks": "",
            "zerolinecolor": "#C8D4E3"
           }
          },
          "shapedefaults": {
           "line": {
            "color": "#f2f5fa"
           }
          },
          "sliderdefaults": {
           "bgcolor": "#C8D4E3",
           "bordercolor": "rgb(17,17,17)",
           "borderwidth": 1,
           "tickwidth": 0
          },
          "ternary": {
           "aaxis": {
            "gridcolor": "#506784",
            "linecolor": "#506784",
            "ticks": ""
           },
           "baxis": {
            "gridcolor": "#506784",
            "linecolor": "#506784",
            "ticks": ""
           },
           "bgcolor": "rgb(17,17,17)",
           "caxis": {
            "gridcolor": "#506784",
            "linecolor": "#506784",
            "ticks": ""
           }
          },
          "title": {
           "x": 0.05
          },
          "updatemenudefaults": {
           "bgcolor": "#506784",
           "borderwidth": 0
          },
          "xaxis": {
           "automargin": true,
           "gridcolor": "#283442",
           "linecolor": "#506784",
           "ticks": "",
           "title": {
            "standoff": 15
           },
           "zerolinecolor": "#283442",
           "zerolinewidth": 2
          },
          "yaxis": {
           "automargin": true,
           "gridcolor": "#283442",
           "linecolor": "#506784",
           "ticks": "",
           "title": {
            "standoff": 15
           },
           "zerolinecolor": "#283442",
           "zerolinewidth": 2
          }
         }
        },
        "title": {
         "text": "Mt Bruno Elevation: 'plotly_dark' theme"
        },
        "width": 500
       }
      },
      "text/html": [
       "<div>            <script src=\"https://cdnjs.cloudflare.com/ajax/libs/mathjax/2.7.5/MathJax.js?config=TeX-AMS-MML_SVG\"></script><script type=\"text/javascript\">if (window.MathJax && window.MathJax.Hub && window.MathJax.Hub.Config) {window.MathJax.Hub.Config({SVG: {font: \"STIX-Web\"}});}</script>                <script type=\"text/javascript\">window.PlotlyConfig = {MathJaxConfig: 'local'};</script>\n",
       "        <script charset=\"utf-8\" src=\"https://cdn.plot.ly/plotly-3.0.1.min.js\"></script>                <div id=\"3151a34f-cef8-4883-b176-aab72e1e9dfa\" class=\"plotly-graph-div\" style=\"height:500px; width:500px;\"></div>            <script type=\"text/javascript\">                window.PLOTLYENV=window.PLOTLYENV || {};                                if (document.getElementById(\"3151a34f-cef8-4883-b176-aab72e1e9dfa\")) {                    Plotly.newPlot(                        \"3151a34f-cef8-4883-b176-aab72e1e9dfa\",                        [{\"z\":{\"dtype\":\"f8\",\"bdata\":\"AAAAAAAAAABlqmBUUs87QKw5QDBHz0hALPGAsinFVEBDrWnecSpdQGiR7Xw\\u002fTWBA7C+7Jw\\u002fXYkCcoiO5\\u002fIVrQE0VjErqhGNAoyO5\\u002fIeUYkDJdr6fGnlpQAU0ETY8wWlAih9j7lrKWkCLbOf7qRdRQPtcbcX+qkZAM9yAzw\\u002f7SEAjMqzijeQ1QNhkjXqIBjFAlLw6x4B8J0CMLQQ5KIEtQL1SliGOVStAIy4AjdK1FkBy3CkdrH8KQNxJRPgXgfI\\u002fcVRuopbmwr8AAAAAAADwP0c9RKM7uDtAdc3km21GSEA2donqrU1QQCEHJcy00VdAAG+BBMU\\u002fXUA+6Nms+rxgQKUsQxzrCmNA2c73U+P9YkB24JwRpQNkQInS3uALcWZAFvvL7slzYkACmggbnkxlQOqVsgxxdF5Angd3Z+1KSkABamrZWotAQDFCeLRxNENAMqzijcwfRkDMXUvIB2VRQGCUoL\\u002fQExBA7x6g+3JmCEAUPfAxWFEIQFJgAUwZ+AdAU0Kwql6+B0D4cTRHVv7\\u002fPwAAAAAAAABABTQRNjxtPkDMlxdgH71AQMGQ1a2eZ0ZAG55eKcs8T0A9D+7O2ltTQAu1pnnHDVpAs3vysFCvWUBkXdxGAyBhQCBj7lpCQmdAqmBUUidqa0DufD81XrhmQIqw4emVOl5AHVpkO9\\u002flYUBkIxCv65lUQLH5uDZUPEhAQNmUK7ytUkBrmnecogtOQOzAOSNKSxxANQ2K5gFcGEDY8PRKWSYaQFT83xEVqhpAChFwCFU6HUDfiVkvhvIWQPKxu0BJAQ1AAAAAAAAACECm0HmNXaowQHlYqDXNGz5Asmg6Oxn8Q0DP91PjpQ9GQESjO4idyU1AJvxSP29kU0CF61G4HrlaQCQofoy50WRAryXkg57nZUBeukkMAilnQHEbDeAtUGNArfpcbcXCVEBXlX1XBE9PQDyInSl0Kk9AnZ0MjpJHTkAu4jsx6\\u002fVLQJzhBnx+WC5Asp\\u002fFUiR\\u002fIEDsaYe\\u002fJldCQDMbZJKR905AlGqfjsdENEBkdavnpCVRQOS9amXCP0dAycwFLo81zj8AAAAAAAAQQI4fKo2YoSFAC0YldQJaMkB+jLlrCVEhQPW52or9lTtAh8Q9lj5QSEClg\\u002fV\\u002fDhdOQMxdS8gH1VZAP1dbsb82YkBxGw3gLQRdQH6MuWsJkVpAZoNMMnIsUUCTV+cYkI1KQKbVkLjH9kJAbZBJRs76R0DtKqT8pLZHQJCIKZFETVFAmRJJ9DJ6RkCk5NU5Biw9QF\\u002fv\\u002fniv6jFADJOpglFBMEBWKxN+qU8tQBhDOdGuQjFAxf6ye\\u002fI4P0BA9nr3x1tHQAAAAAAAABRAmE2AYfmDGkCk\\u002fKTap9MkQGCrBIvD0ThAglZgyOoWOkAMAiuHFik+QMhBCTNtJ0pAuvdwyXEtUEBZaVIKuhNTQFsIclDCKFVAlrIMcazbWEAYYB+dukJPQCMVxhaCaEdAC2MLQQ7iS0BYqDXNO5pUQApoImx4iGFAO8eA7PVQVECY+nlTkTpMQHmvWpnwaz5AfSJPkq5JMUDZl2w82JogQPM5d7te2gdAFqHYCpqWBUAZxt0gWosXQNl6hnDMEhVAAAAAAAAAGEDl0CLb+dY1QHRBfcucjhpAVFInoIn4MkCnXOFdLnJAQCXpmsk3k0VAoP1IERluT0CfPCzUmipaQHo2qz5XR2BAPE7RkVy2XEDQ1VbsL79aQC3saYe\\u002f8k5AHuG04EXHS0CrlQm\\u002f1LNVQJLoZRTLUVZAEOm3rwObXkBL6gQ0Ef5eQBKlvcEXRltAba0vEtqaWEDQDyOER2dTQG1zY3rCPkBA8KKvIM1YLUCWsgxxrHsdQMQXmqkYAKM\\u002frQoe8AqO5D8AAAAAAAAcQADGM2joq0pAajANw0fMOkB0QX3LnI4aQPQyiuWWxiVAak3zjlM0MUDzqzlAMBdMQJfFxObj7FNAw9MrZRm2VkDByqFFtpFYQCeDo+TVN1RASZ2AJsKyUkCpaoKo++JSQJyiI7n8W1JACObo8XuHUkCBBMWPMQtRQK0XQznRHkdA3IDPDyP4Q0BWmpSCbjc\\u002fQPd14JwRcUJArBxaZDsDREDWxW00gFtdQJzc71AUaClAghspWySt+z8AAAAAAAAAAAAAAAAAACBANKK0N\\u002fiqOUD6J7hYUYdPQIenV8oyJDZAbef7qfESMUAziuWWVt9EQEnXTL7ZIk5AesISDyhbVEAj2\\u002fl+apxcQLHh6ZWylFlAfPKwUGtyWUBEi2zn+8FbQF8pyxDHzl1AjLlrCfmEXECL\\u002fWX35KFbQAYSFD\\u002fGmE1AqvHSTWI8RUD20akrn0UtQP8DrFW7xhtAguLHmLvGG0A57pQO1r87QAAAAAAAAAAAAAAAAAAAAABRRuA4vjC4P3BWCqJqy7M\\u002fAAAAAAAAIkCBlUOLbKcpQEWBPpEnTVFAkpGzsKdhR0AgKSLDKu4rQMSUSKKX8UBASx+6oL7pTkAL73IR3y9VQCuHFtnOR15ArfpcbcUoYkDr4jYawCVjQP7UeOkmmWlA097gC5N9bEDLEMe6uIltQARWDi2yi2xAeekmMQjWU0DXUdUEUe85QP8DrFW7xhtA\\u002fwOsVbvGG0CC4seYu8YbQJOq7Sb4Nh5AAAAAAAAAAAAAAAAAAAAAAAAAAAAAAAAAAAAAAAAAAAAAAAAAAAAkQAAAAAAAAAAAinYVUn4qUUAhsHJokYVNQKAy\\u002fn3GrUBAxHx5Afa5R0Bt5\\u002fup8epMQOIBZVOuulNAKVyPwvX0WkBn1edqKwBlQBQ\\u002fxty1XmBA1lbsL7uRakD1udqK\\u002fblkQFmGONbFR2pAwTkjSnulZkCfq63YX7hnQNcS8kHPKmFAB84ZUdopVUCjy5vDtVohQNKNsKiI0xtAGvm84qnvIEAAAAAAAAAAAAAAAAAAAAAAAAAAAAAAAAAAAAAAAAAAAAAAAAAAACZAAAAAAAAAAAAhyEEJM8tXQB\\u002fXhopxAlRACcTr+gXzTUAmAWpq2cpDQLL0oQvqI0lATRB1H4DoT0DQ8jy4OydUQICCixU1mFBAbcX+snvYaEC+MJkqGItuQH3Qs1n1Y3JADeAtkKCFcEBFR3L5Dw1mQIDxDBr6G05ABoGVQ4taU0BSRIZVvJVKQKlqgqj7FExAzt+EQgTMG0Bh\\u002fDTuzR8eQCy7YHDNPQ5AAAAAAAAAAAAAAAAAAAAAAAAAAAAAAAAAAAAAAAAAKEAAAAAAAAAAAP32deCc32BAQBNhw9NLYEBoke18PzdYQBppqbwd7VJAZhTLLa1uTUCLcf4mFJpMQBXGFoIcmEtA1XjpJjGIU0AkKH6MuSNbQFUwKqkTTGNAseHplbLyc0Aydy0hH053QJzEILByN3FA1QloImxIYEAAOsyXF3hLQPPlBdhHfzlAIhyz7EkYIEDNBS6PNSsgQMIxy54EdhRAAJATJoy2FkAAAAAAAAAAAAAAAAAAAAAAAAAAAAAAAAAAAAAAAAAqQAAAAAAAAAAArJDyk2oLSEC94xQdydFhQGB2Tx4WjGFABTQRNjxXY0BHcvkP6ftVQHU8ZqAyDk1Aur2kMVprSkA9J71vfMlQQHSYLy\\u002fA6lRApb3BFya7XUBxGw3gLcJiQPs6cM6ID3FAI0p7gy9SdUBoke18P9VtQGZmZmZmxmdABTQRNjw5XUDJk6RrJt9WQCsYldQJCCxA\\u002fZ\\u002fDfHklRUDCMcueBHYUQAAAAAAAAAAAAAAAAAAAAAAAAAAAAAAAAAAAAAAAACxAAAAAAAAAAACpE9BE2BhLQOcdp+hITGJADVTGv8\\u002feWEDmdFlMbAxYQA3gLZCgvFlAV5V9VwQJU0C\\u002ffR04Z+RMQEymCkYlhUdAU9DtJY0XUEBhTzv8NQ9VQD7o2az6VmRAKVyPwvVUXkB+HThnRKVqQMHKoUW2h3RAyjLEsS7XcUCu2F92T71xQK5H4XoUmmpAIbByaJGRZECU3je+9hJXQAvvchHf+RxAeekmMQis8j8AAAAAAAAAAAAAAAAAAAAAAAAAAAAALkAAAAAAAAAAAGXjwRa7rRtAXdxGA3hlaEDXEvJBz5BgQMx\\u002fSL9952BAMUJ4tHF2VkDsaYe\\u002fJl1WQNHLKJZbJk5A+grSjEUrSUDt0\\u002fGYgZZDQOI7MevFiE1A7PoFu2GhUkDWc9L7xjtVQD0s1JrmY2dA7lpCPuj9XkCMuWsJ+exZQGQ730+NH2BAdQKaCBukZEAmUwWjkjZvQD1hiQeU2VdAxT2WPnQBJEDAWyBB8SMDQAAAAAAAAAAAAAAAAAAAAAAAAAAAAAAwQAAAAAAAAAAAaTo7GRy9NUDNO07RkcheQCQofoy5F2ZAvw6cM6LIY0DsUbgehSdhQABvgQTFU1pAbcX+snuoVUDCo40j1o5KQIv9ZffkCT1AHSCYo8dnPkDKbJBJRoZDQH3Qs1n1nUhAOnr83qajT0Dl0CLb+dpbQD\\u002fG3LWETFlAmrFoOjsBREBj7lpCPuxNQAIOoUrNoFJAVWr2QCsQMUCcMGE0K3sDQChjfJi9TAJAH7Xm39fVN78AAAAAAAAAAAAAAAAAADFAAAAAAAAAAAAAAAAAAAAAANkIxOv6BU9A9bnaiv0JYUDvOEVHcjlpQEp7gy9MBGVAvjCZKhjNV0DcKR2s\\u002f3NNQFw9J71veEdAH0sfuqCiSECTxmgdVY1CQMaFAyFZ+DFAR1UTRN3vPkADste7P7JAQFXZd0XwA0ZAmBdgH53SS0AOMsnIWY5TQEImGTkL2yxAZY7lXfXoI0C9cr1tphIfQAWjkjoBDSpAl8rbEU67NUC2FJD2P0ABQBNUnoplBOE\\u002fAAAAAAAAMkAAAAAAAAAAAAAAAAAAAAAAPDHrxVDoU0DDZKpgVHZhQNNNYhBYpWVA5BQdyeUbaEDaG3xhMotoQFfsL7snFWJAbVZ9rraiWkDF5uPaUJVMQPEuF\\u002fGdlERAqtTsgVYQQEDYgXNGlLYrQC7FVWXf1SVA+KqVCb8kKEBuaTUk7mE2QOPHmLuWuDhA6KBLOPQ2G0CjyFpDqc0QQADjGTT0dzBAtcNfkzVqL0As8YCyKftAQHHMsieBTR5Aj93LnoD9qL8AAAAAAAAzQAAAAAAAAAAAAAAAAAAAAADD0ytlGaJAQPFL\\u002fbypxExAE2HD0yvnZEAFxY8xd49oQMx\\u002fSL99WWhAINJvXwfGZkC4rwPnjOxdQLq9pDFaQVJA7YFWYMguSECr56T3jd9AQOm3rwPnPDpAQYLix5hbMEAZ5ZmXwz4bQHRBfcucjhpA9x+ZDp2OGkAa+bziqe8gQLX7VYDvxhhAGof6Xdi6DEBpjNZR1YQOQA7d7A+UMyFAjq89syTgFEAAAAAAAAAAAAAAAAAAADRAAAAAAAAAAAAAAAAAAAAAAMh71cqExz1AhnKiXYV8S0DdJAaBlRliQKs+V1ux72lAl\\u002f+QfvuqZEAeFmpN82xlQMx\\u002fSL993WVAzH9Iv30RWUC693DJcbtOQHgoCvSJGElAIlSp2QMVOkA7\\u002fDVZoy4xQBr5vOKp7yBAdEF9y5yOGkBsXWqEflYZQGxdaoR+VhlAZKw2\\u002f6+qFkALfhtivBYRQAAAAAAAAAAAAAAAAAAAAAAAAAAAAAAAAAAAAAAAAAAAAAAAAAAANUAAAAAAAAAAAAAAAAAAAAAAYhBYObRoP0CIhVrTvJdgQF+YTBWMMmdA07zjFB11XkCYTBWMSixnQLfRAN4CFWRAU5YhjnUJXUCQoPgx5oZdQNqs+lxtuWFAAz4\\u002fjBBkUEAWhzO\\u002fmmtIQN3qOel9IzdA\\u002freSHRshMkCLcf4mFJIkQOGaO\\u002fpfHhhAChNGs7ItGECpwMk2cMcWQJq2f2Wl6Q1AMQxYchUrD0AAAAAAAAAAAAAAAAAAAAAAAAAAAAAAAAAAAAAAAAA2QAAAAAAAAAAAAAAAAAAAAAAsms5OBpczQLRZ9bnaJkVAZTbIJCMRWEASFD\\u002fG3GNnQIxK6gQ0dWZAY3\\u002fZPXmsa0Cfq63YX0hjQOlILv8hxWFA4zYawFuSYkCM+E7MestQQNXsgVZgWERAOsyXF2DfQ0C1T8djBho6QIBlpUkp+CxAxcn9DkVRIUAxDFhyFSsPQHmRCfg1kgxAMQxYchUrD0AxDFhyFSsPQDEMWHIVKw9AnBVRE30+8T8AAAAAAAAAAAAAAAAAADdATKW7xaUlVD+46jpUUxIIQBAEyNCxoxdAuCOcFrzAQED+ZffkYRVaQLByaJHtBmNAPE7RkVzGaED0\\u002fdR46fpnQJM6AU2El2xAb\\u002fCFyVQDZUDtnjws1AhiQI9TdCSXr1tA7DTSUnnTTEBv05\\u002f9SFFFQKX3ja896ztANbVsrS\\u002fSLkD6er5muRwgQAzIXu\\u002f+OA9ABfhu88YJD0CimLwBZn4PQG1Zvi7Dvw9A4MjyZO2lvz+sjbETXuIPQNFB8ilbf8e\\u002fAAAAAAAAOEAAAAAAAAAAACu9NhsrgRZAJuXuc3y0HkB4uYjvxJRPQPLqHAOy\\u002f0ZAajANw0fkU0DLoUW282lsQHL5D+m3fWlAklz+Q\\u002fqRZUCbVZ+rrSRmQCZTBaOSjmFACKwcWmT\\u002fXkCgGi\\u002fdJJZbQG5MT1jiR1BAd9Zuu9AoQUAs1JrmHYc4QE6Zm29EHyNAe6Lrwg+uCkBbzqW4qlwWQBFuMqoM8xVAlPqytFOjF0BPrimQ2XkXQDRlpx\\u002fUVRdAE7cKYqCLDEA=\",\"shape\":\"25, 25\"},\"type\":\"surface\"}],                        {\"height\":500,\"title\":{\"text\":\"Mt Bruno Elevation: 'plotly_dark' theme\"},\"width\":500,\"template\":{\"data\":{\"barpolar\":[{\"marker\":{\"line\":{\"color\":\"rgb(17,17,17)\",\"width\":0.5},\"pattern\":{\"fillmode\":\"overlay\",\"size\":10,\"solidity\":0.2}},\"type\":\"barpolar\"}],\"bar\":[{\"error_x\":{\"color\":\"#f2f5fa\"},\"error_y\":{\"color\":\"#f2f5fa\"},\"marker\":{\"line\":{\"color\":\"rgb(17,17,17)\",\"width\":0.5},\"pattern\":{\"fillmode\":\"overlay\",\"size\":10,\"solidity\":0.2}},\"type\":\"bar\"}],\"carpet\":[{\"aaxis\":{\"endlinecolor\":\"#A2B1C6\",\"gridcolor\":\"#506784\",\"linecolor\":\"#506784\",\"minorgridcolor\":\"#506784\",\"startlinecolor\":\"#A2B1C6\"},\"baxis\":{\"endlinecolor\":\"#A2B1C6\",\"gridcolor\":\"#506784\",\"linecolor\":\"#506784\",\"minorgridcolor\":\"#506784\",\"startlinecolor\":\"#A2B1C6\"},\"type\":\"carpet\"}],\"choropleth\":[{\"colorbar\":{\"outlinewidth\":0,\"ticks\":\"\"},\"type\":\"choropleth\"}],\"contourcarpet\":[{\"colorbar\":{\"outlinewidth\":0,\"ticks\":\"\"},\"type\":\"contourcarpet\"}],\"contour\":[{\"colorbar\":{\"outlinewidth\":0,\"ticks\":\"\"},\"colorscale\":[[0.0,\"#0d0887\"],[0.1111111111111111,\"#46039f\"],[0.2222222222222222,\"#7201a8\"],[0.3333333333333333,\"#9c179e\"],[0.4444444444444444,\"#bd3786\"],[0.5555555555555556,\"#d8576b\"],[0.6666666666666666,\"#ed7953\"],[0.7777777777777778,\"#fb9f3a\"],[0.8888888888888888,\"#fdca26\"],[1.0,\"#f0f921\"]],\"type\":\"contour\"}],\"heatmap\":[{\"colorbar\":{\"outlinewidth\":0,\"ticks\":\"\"},\"colorscale\":[[0.0,\"#0d0887\"],[0.1111111111111111,\"#46039f\"],[0.2222222222222222,\"#7201a8\"],[0.3333333333333333,\"#9c179e\"],[0.4444444444444444,\"#bd3786\"],[0.5555555555555556,\"#d8576b\"],[0.6666666666666666,\"#ed7953\"],[0.7777777777777778,\"#fb9f3a\"],[0.8888888888888888,\"#fdca26\"],[1.0,\"#f0f921\"]],\"type\":\"heatmap\"}],\"histogram2dcontour\":[{\"colorbar\":{\"outlinewidth\":0,\"ticks\":\"\"},\"colorscale\":[[0.0,\"#0d0887\"],[0.1111111111111111,\"#46039f\"],[0.2222222222222222,\"#7201a8\"],[0.3333333333333333,\"#9c179e\"],[0.4444444444444444,\"#bd3786\"],[0.5555555555555556,\"#d8576b\"],[0.6666666666666666,\"#ed7953\"],[0.7777777777777778,\"#fb9f3a\"],[0.8888888888888888,\"#fdca26\"],[1.0,\"#f0f921\"]],\"type\":\"histogram2dcontour\"}],\"histogram2d\":[{\"colorbar\":{\"outlinewidth\":0,\"ticks\":\"\"},\"colorscale\":[[0.0,\"#0d0887\"],[0.1111111111111111,\"#46039f\"],[0.2222222222222222,\"#7201a8\"],[0.3333333333333333,\"#9c179e\"],[0.4444444444444444,\"#bd3786\"],[0.5555555555555556,\"#d8576b\"],[0.6666666666666666,\"#ed7953\"],[0.7777777777777778,\"#fb9f3a\"],[0.8888888888888888,\"#fdca26\"],[1.0,\"#f0f921\"]],\"type\":\"histogram2d\"}],\"histogram\":[{\"marker\":{\"pattern\":{\"fillmode\":\"overlay\",\"size\":10,\"solidity\":0.2}},\"type\":\"histogram\"}],\"mesh3d\":[{\"colorbar\":{\"outlinewidth\":0,\"ticks\":\"\"},\"type\":\"mesh3d\"}],\"parcoords\":[{\"line\":{\"colorbar\":{\"outlinewidth\":0,\"ticks\":\"\"}},\"type\":\"parcoords\"}],\"pie\":[{\"automargin\":true,\"type\":\"pie\"}],\"scatter3d\":[{\"line\":{\"colorbar\":{\"outlinewidth\":0,\"ticks\":\"\"}},\"marker\":{\"colorbar\":{\"outlinewidth\":0,\"ticks\":\"\"}},\"type\":\"scatter3d\"}],\"scattercarpet\":[{\"marker\":{\"colorbar\":{\"outlinewidth\":0,\"ticks\":\"\"}},\"type\":\"scattercarpet\"}],\"scattergeo\":[{\"marker\":{\"colorbar\":{\"outlinewidth\":0,\"ticks\":\"\"}},\"type\":\"scattergeo\"}],\"scattergl\":[{\"marker\":{\"line\":{\"color\":\"#283442\"}},\"type\":\"scattergl\"}],\"scattermapbox\":[{\"marker\":{\"colorbar\":{\"outlinewidth\":0,\"ticks\":\"\"}},\"type\":\"scattermapbox\"}],\"scattermap\":[{\"marker\":{\"colorbar\":{\"outlinewidth\":0,\"ticks\":\"\"}},\"type\":\"scattermap\"}],\"scatterpolargl\":[{\"marker\":{\"colorbar\":{\"outlinewidth\":0,\"ticks\":\"\"}},\"type\":\"scatterpolargl\"}],\"scatterpolar\":[{\"marker\":{\"colorbar\":{\"outlinewidth\":0,\"ticks\":\"\"}},\"type\":\"scatterpolar\"}],\"scatter\":[{\"marker\":{\"line\":{\"color\":\"#283442\"}},\"type\":\"scatter\"}],\"scatterternary\":[{\"marker\":{\"colorbar\":{\"outlinewidth\":0,\"ticks\":\"\"}},\"type\":\"scatterternary\"}],\"surface\":[{\"colorbar\":{\"outlinewidth\":0,\"ticks\":\"\"},\"colorscale\":[[0.0,\"#0d0887\"],[0.1111111111111111,\"#46039f\"],[0.2222222222222222,\"#7201a8\"],[0.3333333333333333,\"#9c179e\"],[0.4444444444444444,\"#bd3786\"],[0.5555555555555556,\"#d8576b\"],[0.6666666666666666,\"#ed7953\"],[0.7777777777777778,\"#fb9f3a\"],[0.8888888888888888,\"#fdca26\"],[1.0,\"#f0f921\"]],\"type\":\"surface\"}],\"table\":[{\"cells\":{\"fill\":{\"color\":\"#506784\"},\"line\":{\"color\":\"rgb(17,17,17)\"}},\"header\":{\"fill\":{\"color\":\"#2a3f5f\"},\"line\":{\"color\":\"rgb(17,17,17)\"}},\"type\":\"table\"}]},\"layout\":{\"annotationdefaults\":{\"arrowcolor\":\"#f2f5fa\",\"arrowhead\":0,\"arrowwidth\":1},\"autotypenumbers\":\"strict\",\"coloraxis\":{\"colorbar\":{\"outlinewidth\":0,\"ticks\":\"\"}},\"colorscale\":{\"diverging\":[[0,\"#8e0152\"],[0.1,\"#c51b7d\"],[0.2,\"#de77ae\"],[0.3,\"#f1b6da\"],[0.4,\"#fde0ef\"],[0.5,\"#f7f7f7\"],[0.6,\"#e6f5d0\"],[0.7,\"#b8e186\"],[0.8,\"#7fbc41\"],[0.9,\"#4d9221\"],[1,\"#276419\"]],\"sequential\":[[0.0,\"#0d0887\"],[0.1111111111111111,\"#46039f\"],[0.2222222222222222,\"#7201a8\"],[0.3333333333333333,\"#9c179e\"],[0.4444444444444444,\"#bd3786\"],[0.5555555555555556,\"#d8576b\"],[0.6666666666666666,\"#ed7953\"],[0.7777777777777778,\"#fb9f3a\"],[0.8888888888888888,\"#fdca26\"],[1.0,\"#f0f921\"]],\"sequentialminus\":[[0.0,\"#0d0887\"],[0.1111111111111111,\"#46039f\"],[0.2222222222222222,\"#7201a8\"],[0.3333333333333333,\"#9c179e\"],[0.4444444444444444,\"#bd3786\"],[0.5555555555555556,\"#d8576b\"],[0.6666666666666666,\"#ed7953\"],[0.7777777777777778,\"#fb9f3a\"],[0.8888888888888888,\"#fdca26\"],[1.0,\"#f0f921\"]]},\"colorway\":[\"#636efa\",\"#EF553B\",\"#00cc96\",\"#ab63fa\",\"#FFA15A\",\"#19d3f3\",\"#FF6692\",\"#B6E880\",\"#FF97FF\",\"#FECB52\"],\"font\":{\"color\":\"#f2f5fa\"},\"geo\":{\"bgcolor\":\"rgb(17,17,17)\",\"lakecolor\":\"rgb(17,17,17)\",\"landcolor\":\"rgb(17,17,17)\",\"showlakes\":true,\"showland\":true,\"subunitcolor\":\"#506784\"},\"hoverlabel\":{\"align\":\"left\"},\"hovermode\":\"closest\",\"mapbox\":{\"style\":\"dark\"},\"paper_bgcolor\":\"rgb(17,17,17)\",\"plot_bgcolor\":\"rgb(17,17,17)\",\"polar\":{\"angularaxis\":{\"gridcolor\":\"#506784\",\"linecolor\":\"#506784\",\"ticks\":\"\"},\"bgcolor\":\"rgb(17,17,17)\",\"radialaxis\":{\"gridcolor\":\"#506784\",\"linecolor\":\"#506784\",\"ticks\":\"\"}},\"scene\":{\"xaxis\":{\"backgroundcolor\":\"rgb(17,17,17)\",\"gridcolor\":\"#506784\",\"gridwidth\":2,\"linecolor\":\"#506784\",\"showbackground\":true,\"ticks\":\"\",\"zerolinecolor\":\"#C8D4E3\"},\"yaxis\":{\"backgroundcolor\":\"rgb(17,17,17)\",\"gridcolor\":\"#506784\",\"gridwidth\":2,\"linecolor\":\"#506784\",\"showbackground\":true,\"ticks\":\"\",\"zerolinecolor\":\"#C8D4E3\"},\"zaxis\":{\"backgroundcolor\":\"rgb(17,17,17)\",\"gridcolor\":\"#506784\",\"gridwidth\":2,\"linecolor\":\"#506784\",\"showbackground\":true,\"ticks\":\"\",\"zerolinecolor\":\"#C8D4E3\"}},\"shapedefaults\":{\"line\":{\"color\":\"#f2f5fa\"}},\"sliderdefaults\":{\"bgcolor\":\"#C8D4E3\",\"bordercolor\":\"rgb(17,17,17)\",\"borderwidth\":1,\"tickwidth\":0},\"ternary\":{\"aaxis\":{\"gridcolor\":\"#506784\",\"linecolor\":\"#506784\",\"ticks\":\"\"},\"baxis\":{\"gridcolor\":\"#506784\",\"linecolor\":\"#506784\",\"ticks\":\"\"},\"bgcolor\":\"rgb(17,17,17)\",\"caxis\":{\"gridcolor\":\"#506784\",\"linecolor\":\"#506784\",\"ticks\":\"\"}},\"title\":{\"x\":0.05},\"updatemenudefaults\":{\"bgcolor\":\"#506784\",\"borderwidth\":0},\"xaxis\":{\"automargin\":true,\"gridcolor\":\"#283442\",\"linecolor\":\"#506784\",\"ticks\":\"\",\"title\":{\"standoff\":15},\"zerolinecolor\":\"#283442\",\"zerolinewidth\":2},\"yaxis\":{\"automargin\":true,\"gridcolor\":\"#283442\",\"linecolor\":\"#506784\",\"ticks\":\"\",\"title\":{\"standoff\":15},\"zerolinecolor\":\"#283442\",\"zerolinewidth\":2}}}},                        {\"responsive\": true}                    ).then(function(){\n",
       "                            \n",
       "var gd = document.getElementById('3151a34f-cef8-4883-b176-aab72e1e9dfa');\n",
       "var x = new MutationObserver(function (mutations, observer) {{\n",
       "        var display = window.getComputedStyle(gd).display;\n",
       "        if (!display || display === 'none') {{\n",
       "            console.log([gd, 'removed!']);\n",
       "            Plotly.purge(gd);\n",
       "            observer.disconnect();\n",
       "        }}\n",
       "}});\n",
       "\n",
       "// Listen for the removal of the full notebook cells\n",
       "var notebookContainer = gd.closest('#notebook-container');\n",
       "if (notebookContainer) {{\n",
       "    x.observe(notebookContainer, {childList: true});\n",
       "}}\n",
       "\n",
       "// Listen for the clearing of the current output cell\n",
       "var outputEl = gd.closest('.output');\n",
       "if (outputEl) {{\n",
       "    x.observe(outputEl, {childList: true});\n",
       "}}\n",
       "\n",
       "                        })                };            </script>        </div>"
      ]
     },
     "metadata": {},
     "output_type": "display_data"
    },
    {
     "data": {
      "application/vnd.plotly.v1+json": {
       "config": {
        "plotlyServerURL": "https://plot.ly"
       },
       "data": [
        {
         "type": "surface",
         "z": {
          "bdata": "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",
          "dtype": "f8",
          "shape": "25, 25"
         }
        }
       ],
       "layout": {
        "height": 500,
        "template": {
         "data": {
          "bar": [
           {
            "error_x": {
             "color": "rgb(51,51,51)"
            },
            "error_y": {
             "color": "rgb(51,51,51)"
            },
            "marker": {
             "line": {
              "color": "rgb(237,237,237)",
              "width": 0.5
             },
             "pattern": {
              "fillmode": "overlay",
              "size": 10,
              "solidity": 0.2
             }
            },
            "type": "bar"
           }
          ],
          "barpolar": [
           {
            "marker": {
             "line": {
              "color": "rgb(237,237,237)",
              "width": 0.5
             },
             "pattern": {
              "fillmode": "overlay",
              "size": 10,
              "solidity": 0.2
             }
            },
            "type": "barpolar"
           }
          ],
          "carpet": [
           {
            "aaxis": {
             "endlinecolor": "rgb(51,51,51)",
             "gridcolor": "white",
             "linecolor": "white",
             "minorgridcolor": "white",
             "startlinecolor": "rgb(51,51,51)"
            },
            "baxis": {
             "endlinecolor": "rgb(51,51,51)",
             "gridcolor": "white",
             "linecolor": "white",
             "minorgridcolor": "white",
             "startlinecolor": "rgb(51,51,51)"
            },
            "type": "carpet"
           }
          ],
          "choropleth": [
           {
            "colorbar": {
             "outlinewidth": 0,
             "tickcolor": "rgb(237,237,237)",
             "ticklen": 6,
             "ticks": "inside"
            },
            "type": "choropleth"
           }
          ],
          "contour": [
           {
            "colorbar": {
             "outlinewidth": 0,
             "tickcolor": "rgb(237,237,237)",
             "ticklen": 6,
             "ticks": "inside"
            },
            "colorscale": [
             [
              0,
              "rgb(20,44,66)"
             ],
             [
              1,
              "rgb(90,179,244)"
             ]
            ],
            "type": "contour"
           }
          ],
          "contourcarpet": [
           {
            "colorbar": {
             "outlinewidth": 0,
             "tickcolor": "rgb(237,237,237)",
             "ticklen": 6,
             "ticks": "inside"
            },
            "type": "contourcarpet"
           }
          ],
          "heatmap": [
           {
            "colorbar": {
             "outlinewidth": 0,
             "tickcolor": "rgb(237,237,237)",
             "ticklen": 6,
             "ticks": "inside"
            },
            "colorscale": [
             [
              0,
              "rgb(20,44,66)"
             ],
             [
              1,
              "rgb(90,179,244)"
             ]
            ],
            "type": "heatmap"
           }
          ],
          "histogram": [
           {
            "marker": {
             "pattern": {
              "fillmode": "overlay",
              "size": 10,
              "solidity": 0.2
             }
            },
            "type": "histogram"
           }
          ],
          "histogram2d": [
           {
            "colorbar": {
             "outlinewidth": 0,
             "tickcolor": "rgb(237,237,237)",
             "ticklen": 6,
             "ticks": "inside"
            },
            "colorscale": [
             [
              0,
              "rgb(20,44,66)"
             ],
             [
              1,
              "rgb(90,179,244)"
             ]
            ],
            "type": "histogram2d"
           }
          ],
          "histogram2dcontour": [
           {
            "colorbar": {
             "outlinewidth": 0,
             "tickcolor": "rgb(237,237,237)",
             "ticklen": 6,
             "ticks": "inside"
            },
            "colorscale": [
             [
              0,
              "rgb(20,44,66)"
             ],
             [
              1,
              "rgb(90,179,244)"
             ]
            ],
            "type": "histogram2dcontour"
           }
          ],
          "mesh3d": [
           {
            "colorbar": {
             "outlinewidth": 0,
             "tickcolor": "rgb(237,237,237)",
             "ticklen": 6,
             "ticks": "inside"
            },
            "type": "mesh3d"
           }
          ],
          "parcoords": [
           {
            "line": {
             "colorbar": {
              "outlinewidth": 0,
              "tickcolor": "rgb(237,237,237)",
              "ticklen": 6,
              "ticks": "inside"
             }
            },
            "type": "parcoords"
           }
          ],
          "pie": [
           {
            "automargin": true,
            "type": "pie"
           }
          ],
          "scatter": [
           {
            "fillpattern": {
             "fillmode": "overlay",
             "size": 10,
             "solidity": 0.2
            },
            "type": "scatter"
           }
          ],
          "scatter3d": [
           {
            "line": {
             "colorbar": {
              "outlinewidth": 0,
              "tickcolor": "rgb(237,237,237)",
              "ticklen": 6,
              "ticks": "inside"
             }
            },
            "marker": {
             "colorbar": {
              "outlinewidth": 0,
              "tickcolor": "rgb(237,237,237)",
              "ticklen": 6,
              "ticks": "inside"
             }
            },
            "type": "scatter3d"
           }
          ],
          "scattercarpet": [
           {
            "marker": {
             "colorbar": {
              "outlinewidth": 0,
              "tickcolor": "rgb(237,237,237)",
              "ticklen": 6,
              "ticks": "inside"
             }
            },
            "type": "scattercarpet"
           }
          ],
          "scattergeo": [
           {
            "marker": {
             "colorbar": {
              "outlinewidth": 0,
              "tickcolor": "rgb(237,237,237)",
              "ticklen": 6,
              "ticks": "inside"
             }
            },
            "type": "scattergeo"
           }
          ],
          "scattergl": [
           {
            "marker": {
             "colorbar": {
              "outlinewidth": 0,
              "tickcolor": "rgb(237,237,237)",
              "ticklen": 6,
              "ticks": "inside"
             }
            },
            "type": "scattergl"
           }
          ],
          "scattermap": [
           {
            "marker": {
             "colorbar": {
              "outlinewidth": 0,
              "tickcolor": "rgb(237,237,237)",
              "ticklen": 6,
              "ticks": "inside"
             }
            },
            "type": "scattermap"
           }
          ],
          "scattermapbox": [
           {
            "marker": {
             "colorbar": {
              "outlinewidth": 0,
              "tickcolor": "rgb(237,237,237)",
              "ticklen": 6,
              "ticks": "inside"
             }
            },
            "type": "scattermapbox"
           }
          ],
          "scatterpolar": [
           {
            "marker": {
             "colorbar": {
              "outlinewidth": 0,
              "tickcolor": "rgb(237,237,237)",
              "ticklen": 6,
              "ticks": "inside"
             }
            },
            "type": "scatterpolar"
           }
          ],
          "scatterpolargl": [
           {
            "marker": {
             "colorbar": {
              "outlinewidth": 0,
              "tickcolor": "rgb(237,237,237)",
              "ticklen": 6,
              "ticks": "inside"
             }
            },
            "type": "scatterpolargl"
           }
          ],
          "scatterternary": [
           {
            "marker": {
             "colorbar": {
              "outlinewidth": 0,
              "tickcolor": "rgb(237,237,237)",
              "ticklen": 6,
              "ticks": "inside"
             }
            },
            "type": "scatterternary"
           }
          ],
          "surface": [
           {
            "colorbar": {
             "outlinewidth": 0,
             "tickcolor": "rgb(237,237,237)",
             "ticklen": 6,
             "ticks": "inside"
            },
            "colorscale": [
             [
              0,
              "rgb(20,44,66)"
             ],
             [
              1,
              "rgb(90,179,244)"
             ]
            ],
            "type": "surface"
           }
          ],
          "table": [
           {
            "cells": {
             "fill": {
              "color": "rgb(237,237,237)"
             },
             "line": {
              "color": "white"
             }
            },
            "header": {
             "fill": {
              "color": "rgb(217,217,217)"
             },
             "line": {
              "color": "white"
             }
            },
            "type": "table"
           }
          ]
         },
         "layout": {
          "annotationdefaults": {
           "arrowhead": 0,
           "arrowwidth": 1
          },
          "autotypenumbers": "strict",
          "coloraxis": {
           "colorbar": {
            "outlinewidth": 0,
            "tickcolor": "rgb(237,237,237)",
            "ticklen": 6,
            "ticks": "inside"
           }
          },
          "colorscale": {
           "sequential": [
            [
             0,
             "rgb(20,44,66)"
            ],
            [
             1,
             "rgb(90,179,244)"
            ]
           ],
           "sequentialminus": [
            [
             0,
             "rgb(20,44,66)"
            ],
            [
             1,
             "rgb(90,179,244)"
            ]
           ]
          },
          "colorway": [
           "#F8766D",
           "#A3A500",
           "#00BF7D",
           "#00B0F6",
           "#E76BF3"
          ],
          "font": {
           "color": "rgb(51,51,51)"
          },
          "geo": {
           "bgcolor": "white",
           "lakecolor": "white",
           "landcolor": "rgb(237,237,237)",
           "showlakes": true,
           "showland": true,
           "subunitcolor": "white"
          },
          "hoverlabel": {
           "align": "left"
          },
          "hovermode": "closest",
          "paper_bgcolor": "white",
          "plot_bgcolor": "rgb(237,237,237)",
          "polar": {
           "angularaxis": {
            "gridcolor": "white",
            "linecolor": "white",
            "showgrid": true,
            "tickcolor": "rgb(51,51,51)",
            "ticks": "outside"
           },
           "bgcolor": "rgb(237,237,237)",
           "radialaxis": {
            "gridcolor": "white",
            "linecolor": "white",
            "showgrid": true,
            "tickcolor": "rgb(51,51,51)",
            "ticks": "outside"
           }
          },
          "scene": {
           "xaxis": {
            "backgroundcolor": "rgb(237,237,237)",
            "gridcolor": "white",
            "gridwidth": 2,
            "linecolor": "white",
            "showbackground": true,
            "showgrid": true,
            "tickcolor": "rgb(51,51,51)",
            "ticks": "outside",
            "zerolinecolor": "white"
           },
           "yaxis": {
            "backgroundcolor": "rgb(237,237,237)",
            "gridcolor": "white",
            "gridwidth": 2,
            "linecolor": "white",
            "showbackground": true,
            "showgrid": true,
            "tickcolor": "rgb(51,51,51)",
            "ticks": "outside",
            "zerolinecolor": "white"
           },
           "zaxis": {
            "backgroundcolor": "rgb(237,237,237)",
            "gridcolor": "white",
            "gridwidth": 2,
            "linecolor": "white",
            "showbackground": true,
            "showgrid": true,
            "tickcolor": "rgb(51,51,51)",
            "ticks": "outside",
            "zerolinecolor": "white"
           }
          },
          "shapedefaults": {
           "fillcolor": "black",
           "line": {
            "width": 0
           },
           "opacity": 0.3
          },
          "ternary": {
           "aaxis": {
            "gridcolor": "white",
            "linecolor": "white",
            "showgrid": true,
            "tickcolor": "rgb(51,51,51)",
            "ticks": "outside"
           },
           "baxis": {
            "gridcolor": "white",
            "linecolor": "white",
            "showgrid": true,
            "tickcolor": "rgb(51,51,51)",
            "ticks": "outside"
           },
           "bgcolor": "rgb(237,237,237)",
           "caxis": {
            "gridcolor": "white",
            "linecolor": "white",
            "showgrid": true,
            "tickcolor": "rgb(51,51,51)",
            "ticks": "outside"
           }
          },
          "xaxis": {
           "automargin": true,
           "gridcolor": "white",
           "linecolor": "white",
           "showgrid": true,
           "tickcolor": "rgb(51,51,51)",
           "ticks": "outside",
           "title": {
            "standoff": 15
           },
           "zerolinecolor": "white"
          },
          "yaxis": {
           "automargin": true,
           "gridcolor": "white",
           "linecolor": "white",
           "showgrid": true,
           "tickcolor": "rgb(51,51,51)",
           "ticks": "outside",
           "title": {
            "standoff": 15
           },
           "zerolinecolor": "white"
          }
         }
        },
        "title": {
         "text": "Mt Bruno Elevation: 'ggplot2' theme"
        },
        "width": 500
       }
      },
      "text/html": [
       "<div>            <script src=\"https://cdnjs.cloudflare.com/ajax/libs/mathjax/2.7.5/MathJax.js?config=TeX-AMS-MML_SVG\"></script><script type=\"text/javascript\">if (window.MathJax && window.MathJax.Hub && window.MathJax.Hub.Config) {window.MathJax.Hub.Config({SVG: {font: \"STIX-Web\"}});}</script>                <script type=\"text/javascript\">window.PlotlyConfig = {MathJaxConfig: 'local'};</script>\n",
       "        <script charset=\"utf-8\" src=\"https://cdn.plot.ly/plotly-3.0.1.min.js\"></script>                <div id=\"27554664-1662-49f6-ba05-50fde90ef28e\" class=\"plotly-graph-div\" style=\"height:500px; width:500px;\"></div>            <script type=\"text/javascript\">                window.PLOTLYENV=window.PLOTLYENV || {};                                if (document.getElementById(\"27554664-1662-49f6-ba05-50fde90ef28e\")) {                    Plotly.newPlot(                        \"27554664-1662-49f6-ba05-50fde90ef28e\",                        [{\"z\":{\"dtype\":\"f8\",\"bdata\":\"AAAAAAAAAABlqmBUUs87QKw5QDBHz0hALPGAsinFVEBDrWnecSpdQGiR7Xw\\u002fTWBA7C+7Jw\\u002fXYkCcoiO5\\u002fIVrQE0VjErqhGNAoyO5\\u002fIeUYkDJdr6fGnlpQAU0ETY8wWlAih9j7lrKWkCLbOf7qRdRQPtcbcX+qkZAM9yAzw\\u002f7SEAjMqzijeQ1QNhkjXqIBjFAlLw6x4B8J0CMLQQ5KIEtQL1SliGOVStAIy4AjdK1FkBy3CkdrH8KQNxJRPgXgfI\\u002fcVRuopbmwr8AAAAAAADwP0c9RKM7uDtAdc3km21GSEA2donqrU1QQCEHJcy00VdAAG+BBMU\\u002fXUA+6Nms+rxgQKUsQxzrCmNA2c73U+P9YkB24JwRpQNkQInS3uALcWZAFvvL7slzYkACmggbnkxlQOqVsgxxdF5Angd3Z+1KSkABamrZWotAQDFCeLRxNENAMqzijcwfRkDMXUvIB2VRQGCUoL\\u002fQExBA7x6g+3JmCEAUPfAxWFEIQFJgAUwZ+AdAU0Kwql6+B0D4cTRHVv7\\u002fPwAAAAAAAABABTQRNjxtPkDMlxdgH71AQMGQ1a2eZ0ZAG55eKcs8T0A9D+7O2ltTQAu1pnnHDVpAs3vysFCvWUBkXdxGAyBhQCBj7lpCQmdAqmBUUidqa0DufD81XrhmQIqw4emVOl5AHVpkO9\\u002flYUBkIxCv65lUQLH5uDZUPEhAQNmUK7ytUkBrmnecogtOQOzAOSNKSxxANQ2K5gFcGEDY8PRKWSYaQFT83xEVqhpAChFwCFU6HUDfiVkvhvIWQPKxu0BJAQ1AAAAAAAAACECm0HmNXaowQHlYqDXNGz5Asmg6Oxn8Q0DP91PjpQ9GQESjO4idyU1AJvxSP29kU0CF61G4HrlaQCQofoy50WRAryXkg57nZUBeukkMAilnQHEbDeAtUGNArfpcbcXCVEBXlX1XBE9PQDyInSl0Kk9AnZ0MjpJHTkAu4jsx6\\u002fVLQJzhBnx+WC5Asp\\u002fFUiR\\u002fIEDsaYe\\u002fJldCQDMbZJKR905AlGqfjsdENEBkdavnpCVRQOS9amXCP0dAycwFLo81zj8AAAAAAAAQQI4fKo2YoSFAC0YldQJaMkB+jLlrCVEhQPW52or9lTtAh8Q9lj5QSEClg\\u002fV\\u002fDhdOQMxdS8gH1VZAP1dbsb82YkBxGw3gLQRdQH6MuWsJkVpAZoNMMnIsUUCTV+cYkI1KQKbVkLjH9kJAbZBJRs76R0DtKqT8pLZHQJCIKZFETVFAmRJJ9DJ6RkCk5NU5Biw9QF\\u002fv\\u002fniv6jFADJOpglFBMEBWKxN+qU8tQBhDOdGuQjFAxf6ye\\u002fI4P0BA9nr3x1tHQAAAAAAAABRAmE2AYfmDGkCk\\u002fKTap9MkQGCrBIvD0ThAglZgyOoWOkAMAiuHFik+QMhBCTNtJ0pAuvdwyXEtUEBZaVIKuhNTQFsIclDCKFVAlrIMcazbWEAYYB+dukJPQCMVxhaCaEdAC2MLQQ7iS0BYqDXNO5pUQApoImx4iGFAO8eA7PVQVECY+nlTkTpMQHmvWpnwaz5AfSJPkq5JMUDZl2w82JogQPM5d7te2gdAFqHYCpqWBUAZxt0gWosXQNl6hnDMEhVAAAAAAAAAGEDl0CLb+dY1QHRBfcucjhpAVFInoIn4MkCnXOFdLnJAQCXpmsk3k0VAoP1IERluT0CfPCzUmipaQHo2qz5XR2BAPE7RkVy2XEDQ1VbsL79aQC3saYe\\u002f8k5AHuG04EXHS0CrlQm\\u002f1LNVQJLoZRTLUVZAEOm3rwObXkBL6gQ0Ef5eQBKlvcEXRltAba0vEtqaWEDQDyOER2dTQG1zY3rCPkBA8KKvIM1YLUCWsgxxrHsdQMQXmqkYAKM\\u002frQoe8AqO5D8AAAAAAAAcQADGM2joq0pAajANw0fMOkB0QX3LnI4aQPQyiuWWxiVAak3zjlM0MUDzqzlAMBdMQJfFxObj7FNAw9MrZRm2VkDByqFFtpFYQCeDo+TVN1RASZ2AJsKyUkCpaoKo++JSQJyiI7n8W1JACObo8XuHUkCBBMWPMQtRQK0XQznRHkdA3IDPDyP4Q0BWmpSCbjc\\u002fQPd14JwRcUJArBxaZDsDREDWxW00gFtdQJzc71AUaClAghspWySt+z8AAAAAAAAAAAAAAAAAACBANKK0N\\u002fiqOUD6J7hYUYdPQIenV8oyJDZAbef7qfESMUAziuWWVt9EQEnXTL7ZIk5AesISDyhbVEAj2\\u002fl+apxcQLHh6ZWylFlAfPKwUGtyWUBEi2zn+8FbQF8pyxDHzl1AjLlrCfmEXECL\\u002fWX35KFbQAYSFD\\u002fGmE1AqvHSTWI8RUD20akrn0UtQP8DrFW7xhtAguLHmLvGG0A57pQO1r87QAAAAAAAAAAAAAAAAAAAAABRRuA4vjC4P3BWCqJqy7M\\u002fAAAAAAAAIkCBlUOLbKcpQEWBPpEnTVFAkpGzsKdhR0AgKSLDKu4rQMSUSKKX8UBASx+6oL7pTkAL73IR3y9VQCuHFtnOR15ArfpcbcUoYkDr4jYawCVjQP7UeOkmmWlA097gC5N9bEDLEMe6uIltQARWDi2yi2xAeekmMQjWU0DXUdUEUe85QP8DrFW7xhtA\\u002fwOsVbvGG0CC4seYu8YbQJOq7Sb4Nh5AAAAAAAAAAAAAAAAAAAAAAAAAAAAAAAAAAAAAAAAAAAAAAAAAAAAkQAAAAAAAAAAAinYVUn4qUUAhsHJokYVNQKAy\\u002fn3GrUBAxHx5Afa5R0Bt5\\u002fup8epMQOIBZVOuulNAKVyPwvX0WkBn1edqKwBlQBQ\\u002fxty1XmBA1lbsL7uRakD1udqK\\u002fblkQFmGONbFR2pAwTkjSnulZkCfq63YX7hnQNcS8kHPKmFAB84ZUdopVUCjy5vDtVohQNKNsKiI0xtAGvm84qnvIEAAAAAAAAAAAAAAAAAAAAAAAAAAAAAAAAAAAAAAAAAAAAAAAAAAACZAAAAAAAAAAAAhyEEJM8tXQB\\u002fXhopxAlRACcTr+gXzTUAmAWpq2cpDQLL0oQvqI0lATRB1H4DoT0DQ8jy4OydUQICCixU1mFBAbcX+snvYaEC+MJkqGItuQH3Qs1n1Y3JADeAtkKCFcEBFR3L5Dw1mQIDxDBr6G05ABoGVQ4taU0BSRIZVvJVKQKlqgqj7FExAzt+EQgTMG0Bh\\u002fDTuzR8eQCy7YHDNPQ5AAAAAAAAAAAAAAAAAAAAAAAAAAAAAAAAAAAAAAAAAKEAAAAAAAAAAAP32deCc32BAQBNhw9NLYEBoke18PzdYQBppqbwd7VJAZhTLLa1uTUCLcf4mFJpMQBXGFoIcmEtA1XjpJjGIU0AkKH6MuSNbQFUwKqkTTGNAseHplbLyc0Aydy0hH053QJzEILByN3FA1QloImxIYEAAOsyXF3hLQPPlBdhHfzlAIhyz7EkYIEDNBS6PNSsgQMIxy54EdhRAAJATJoy2FkAAAAAAAAAAAAAAAAAAAAAAAAAAAAAAAAAAAAAAAAAqQAAAAAAAAAAArJDyk2oLSEC94xQdydFhQGB2Tx4WjGFABTQRNjxXY0BHcvkP6ftVQHU8ZqAyDk1Aur2kMVprSkA9J71vfMlQQHSYLy\\u002fA6lRApb3BFya7XUBxGw3gLcJiQPs6cM6ID3FAI0p7gy9SdUBoke18P9VtQGZmZmZmxmdABTQRNjw5XUDJk6RrJt9WQCsYldQJCCxA\\u002fZ\\u002fDfHklRUDCMcueBHYUQAAAAAAAAAAAAAAAAAAAAAAAAAAAAAAAAAAAAAAAACxAAAAAAAAAAACpE9BE2BhLQOcdp+hITGJADVTGv8\\u002feWEDmdFlMbAxYQA3gLZCgvFlAV5V9VwQJU0C\\u002ffR04Z+RMQEymCkYlhUdAU9DtJY0XUEBhTzv8NQ9VQD7o2az6VmRAKVyPwvVUXkB+HThnRKVqQMHKoUW2h3RAyjLEsS7XcUCu2F92T71xQK5H4XoUmmpAIbByaJGRZECU3je+9hJXQAvvchHf+RxAeekmMQis8j8AAAAAAAAAAAAAAAAAAAAAAAAAAAAALkAAAAAAAAAAAGXjwRa7rRtAXdxGA3hlaEDXEvJBz5BgQMx\\u002fSL9952BAMUJ4tHF2VkDsaYe\\u002fJl1WQNHLKJZbJk5A+grSjEUrSUDt0\\u002fGYgZZDQOI7MevFiE1A7PoFu2GhUkDWc9L7xjtVQD0s1JrmY2dA7lpCPuj9XkCMuWsJ+exZQGQ730+NH2BAdQKaCBukZEAmUwWjkjZvQD1hiQeU2VdAxT2WPnQBJEDAWyBB8SMDQAAAAAAAAAAAAAAAAAAAAAAAAAAAAAAwQAAAAAAAAAAAaTo7GRy9NUDNO07RkcheQCQofoy5F2ZAvw6cM6LIY0DsUbgehSdhQABvgQTFU1pAbcX+snuoVUDCo40j1o5KQIv9ZffkCT1AHSCYo8dnPkDKbJBJRoZDQH3Qs1n1nUhAOnr83qajT0Dl0CLb+dpbQD\\u002fG3LWETFlAmrFoOjsBREBj7lpCPuxNQAIOoUrNoFJAVWr2QCsQMUCcMGE0K3sDQChjfJi9TAJAH7Xm39fVN78AAAAAAAAAAAAAAAAAADFAAAAAAAAAAAAAAAAAAAAAANkIxOv6BU9A9bnaiv0JYUDvOEVHcjlpQEp7gy9MBGVAvjCZKhjNV0DcKR2s\\u002f3NNQFw9J71veEdAH0sfuqCiSECTxmgdVY1CQMaFAyFZ+DFAR1UTRN3vPkADste7P7JAQFXZd0XwA0ZAmBdgH53SS0AOMsnIWY5TQEImGTkL2yxAZY7lXfXoI0C9cr1tphIfQAWjkjoBDSpAl8rbEU67NUC2FJD2P0ABQBNUnoplBOE\\u002fAAAAAAAAMkAAAAAAAAAAAAAAAAAAAAAAPDHrxVDoU0DDZKpgVHZhQNNNYhBYpWVA5BQdyeUbaEDaG3xhMotoQFfsL7snFWJAbVZ9rraiWkDF5uPaUJVMQPEuF\\u002fGdlERAqtTsgVYQQEDYgXNGlLYrQC7FVWXf1SVA+KqVCb8kKEBuaTUk7mE2QOPHmLuWuDhA6KBLOPQ2G0CjyFpDqc0QQADjGTT0dzBAtcNfkzVqL0As8YCyKftAQHHMsieBTR5Aj93LnoD9qL8AAAAAAAAzQAAAAAAAAAAAAAAAAAAAAADD0ytlGaJAQPFL\\u002fbypxExAE2HD0yvnZEAFxY8xd49oQMx\\u002fSL99WWhAINJvXwfGZkC4rwPnjOxdQLq9pDFaQVJA7YFWYMguSECr56T3jd9AQOm3rwPnPDpAQYLix5hbMEAZ5ZmXwz4bQHRBfcucjhpA9x+ZDp2OGkAa+bziqe8gQLX7VYDvxhhAGof6Xdi6DEBpjNZR1YQOQA7d7A+UMyFAjq89syTgFEAAAAAAAAAAAAAAAAAAADRAAAAAAAAAAAAAAAAAAAAAAMh71cqExz1AhnKiXYV8S0DdJAaBlRliQKs+V1ux72lAl\\u002f+QfvuqZEAeFmpN82xlQMx\\u002fSL993WVAzH9Iv30RWUC693DJcbtOQHgoCvSJGElAIlSp2QMVOkA7\\u002fDVZoy4xQBr5vOKp7yBAdEF9y5yOGkBsXWqEflYZQGxdaoR+VhlAZKw2\\u002f6+qFkALfhtivBYRQAAAAAAAAAAAAAAAAAAAAAAAAAAAAAAAAAAAAAAAAAAAAAAAAAAANUAAAAAAAAAAAAAAAAAAAAAAYhBYObRoP0CIhVrTvJdgQF+YTBWMMmdA07zjFB11XkCYTBWMSixnQLfRAN4CFWRAU5YhjnUJXUCQoPgx5oZdQNqs+lxtuWFAAz4\\u002fjBBkUEAWhzO\\u002fmmtIQN3qOel9IzdA\\u002freSHRshMkCLcf4mFJIkQOGaO\\u002fpfHhhAChNGs7ItGECpwMk2cMcWQJq2f2Wl6Q1AMQxYchUrD0AAAAAAAAAAAAAAAAAAAAAAAAAAAAAAAAAAAAAAAAA2QAAAAAAAAAAAAAAAAAAAAAAsms5OBpczQLRZ9bnaJkVAZTbIJCMRWEASFD\\u002fG3GNnQIxK6gQ0dWZAY3\\u002fZPXmsa0Cfq63YX0hjQOlILv8hxWFA4zYawFuSYkCM+E7MestQQNXsgVZgWERAOsyXF2DfQ0C1T8djBho6QIBlpUkp+CxAxcn9DkVRIUAxDFhyFSsPQHmRCfg1kgxAMQxYchUrD0AxDFhyFSsPQDEMWHIVKw9AnBVRE30+8T8AAAAAAAAAAAAAAAAAADdATKW7xaUlVD+46jpUUxIIQBAEyNCxoxdAuCOcFrzAQED+ZffkYRVaQLByaJHtBmNAPE7RkVzGaED0\\u002fdR46fpnQJM6AU2El2xAb\\u002fCFyVQDZUDtnjws1AhiQI9TdCSXr1tA7DTSUnnTTEBv05\\u002f9SFFFQKX3ja896ztANbVsrS\\u002fSLkD6er5muRwgQAzIXu\\u002f+OA9ABfhu88YJD0CimLwBZn4PQG1Zvi7Dvw9A4MjyZO2lvz+sjbETXuIPQNFB8ilbf8e\\u002fAAAAAAAAOEAAAAAAAAAAACu9NhsrgRZAJuXuc3y0HkB4uYjvxJRPQPLqHAOy\\u002f0ZAajANw0fkU0DLoUW282lsQHL5D+m3fWlAklz+Q\\u002fqRZUCbVZ+rrSRmQCZTBaOSjmFACKwcWmT\\u002fXkCgGi\\u002fdJJZbQG5MT1jiR1BAd9Zuu9AoQUAs1JrmHYc4QE6Zm29EHyNAe6Lrwg+uCkBbzqW4qlwWQBFuMqoM8xVAlPqytFOjF0BPrimQ2XkXQDRlpx\\u002fUVRdAE7cKYqCLDEA=\",\"shape\":\"25, 25\"},\"type\":\"surface\"}],                        {\"height\":500,\"title\":{\"text\":\"Mt Bruno Elevation: 'ggplot2' theme\"},\"width\":500,\"template\":{\"data\":{\"barpolar\":[{\"marker\":{\"line\":{\"color\":\"rgb(237,237,237)\",\"width\":0.5},\"pattern\":{\"fillmode\":\"overlay\",\"size\":10,\"solidity\":0.2}},\"type\":\"barpolar\"}],\"bar\":[{\"error_x\":{\"color\":\"rgb(51,51,51)\"},\"error_y\":{\"color\":\"rgb(51,51,51)\"},\"marker\":{\"line\":{\"color\":\"rgb(237,237,237)\",\"width\":0.5},\"pattern\":{\"fillmode\":\"overlay\",\"size\":10,\"solidity\":0.2}},\"type\":\"bar\"}],\"carpet\":[{\"aaxis\":{\"endlinecolor\":\"rgb(51,51,51)\",\"gridcolor\":\"white\",\"linecolor\":\"white\",\"minorgridcolor\":\"white\",\"startlinecolor\":\"rgb(51,51,51)\"},\"baxis\":{\"endlinecolor\":\"rgb(51,51,51)\",\"gridcolor\":\"white\",\"linecolor\":\"white\",\"minorgridcolor\":\"white\",\"startlinecolor\":\"rgb(51,51,51)\"},\"type\":\"carpet\"}],\"choropleth\":[{\"colorbar\":{\"outlinewidth\":0,\"tickcolor\":\"rgb(237,237,237)\",\"ticklen\":6,\"ticks\":\"inside\"},\"type\":\"choropleth\"}],\"contourcarpet\":[{\"colorbar\":{\"outlinewidth\":0,\"tickcolor\":\"rgb(237,237,237)\",\"ticklen\":6,\"ticks\":\"inside\"},\"type\":\"contourcarpet\"}],\"contour\":[{\"colorbar\":{\"outlinewidth\":0,\"tickcolor\":\"rgb(237,237,237)\",\"ticklen\":6,\"ticks\":\"inside\"},\"colorscale\":[[0,\"rgb(20,44,66)\"],[1,\"rgb(90,179,244)\"]],\"type\":\"contour\"}],\"heatmap\":[{\"colorbar\":{\"outlinewidth\":0,\"tickcolor\":\"rgb(237,237,237)\",\"ticklen\":6,\"ticks\":\"inside\"},\"colorscale\":[[0,\"rgb(20,44,66)\"],[1,\"rgb(90,179,244)\"]],\"type\":\"heatmap\"}],\"histogram2dcontour\":[{\"colorbar\":{\"outlinewidth\":0,\"tickcolor\":\"rgb(237,237,237)\",\"ticklen\":6,\"ticks\":\"inside\"},\"colorscale\":[[0,\"rgb(20,44,66)\"],[1,\"rgb(90,179,244)\"]],\"type\":\"histogram2dcontour\"}],\"histogram2d\":[{\"colorbar\":{\"outlinewidth\":0,\"tickcolor\":\"rgb(237,237,237)\",\"ticklen\":6,\"ticks\":\"inside\"},\"colorscale\":[[0,\"rgb(20,44,66)\"],[1,\"rgb(90,179,244)\"]],\"type\":\"histogram2d\"}],\"histogram\":[{\"marker\":{\"pattern\":{\"fillmode\":\"overlay\",\"size\":10,\"solidity\":0.2}},\"type\":\"histogram\"}],\"mesh3d\":[{\"colorbar\":{\"outlinewidth\":0,\"tickcolor\":\"rgb(237,237,237)\",\"ticklen\":6,\"ticks\":\"inside\"},\"type\":\"mesh3d\"}],\"parcoords\":[{\"line\":{\"colorbar\":{\"outlinewidth\":0,\"tickcolor\":\"rgb(237,237,237)\",\"ticklen\":6,\"ticks\":\"inside\"}},\"type\":\"parcoords\"}],\"pie\":[{\"automargin\":true,\"type\":\"pie\"}],\"scatter3d\":[{\"line\":{\"colorbar\":{\"outlinewidth\":0,\"tickcolor\":\"rgb(237,237,237)\",\"ticklen\":6,\"ticks\":\"inside\"}},\"marker\":{\"colorbar\":{\"outlinewidth\":0,\"tickcolor\":\"rgb(237,237,237)\",\"ticklen\":6,\"ticks\":\"inside\"}},\"type\":\"scatter3d\"}],\"scattercarpet\":[{\"marker\":{\"colorbar\":{\"outlinewidth\":0,\"tickcolor\":\"rgb(237,237,237)\",\"ticklen\":6,\"ticks\":\"inside\"}},\"type\":\"scattercarpet\"}],\"scattergeo\":[{\"marker\":{\"colorbar\":{\"outlinewidth\":0,\"tickcolor\":\"rgb(237,237,237)\",\"ticklen\":6,\"ticks\":\"inside\"}},\"type\":\"scattergeo\"}],\"scattergl\":[{\"marker\":{\"colorbar\":{\"outlinewidth\":0,\"tickcolor\":\"rgb(237,237,237)\",\"ticklen\":6,\"ticks\":\"inside\"}},\"type\":\"scattergl\"}],\"scattermapbox\":[{\"marker\":{\"colorbar\":{\"outlinewidth\":0,\"tickcolor\":\"rgb(237,237,237)\",\"ticklen\":6,\"ticks\":\"inside\"}},\"type\":\"scattermapbox\"}],\"scattermap\":[{\"marker\":{\"colorbar\":{\"outlinewidth\":0,\"tickcolor\":\"rgb(237,237,237)\",\"ticklen\":6,\"ticks\":\"inside\"}},\"type\":\"scattermap\"}],\"scatterpolargl\":[{\"marker\":{\"colorbar\":{\"outlinewidth\":0,\"tickcolor\":\"rgb(237,237,237)\",\"ticklen\":6,\"ticks\":\"inside\"}},\"type\":\"scatterpolargl\"}],\"scatterpolar\":[{\"marker\":{\"colorbar\":{\"outlinewidth\":0,\"tickcolor\":\"rgb(237,237,237)\",\"ticklen\":6,\"ticks\":\"inside\"}},\"type\":\"scatterpolar\"}],\"scatter\":[{\"fillpattern\":{\"fillmode\":\"overlay\",\"size\":10,\"solidity\":0.2},\"type\":\"scatter\"}],\"scatterternary\":[{\"marker\":{\"colorbar\":{\"outlinewidth\":0,\"tickcolor\":\"rgb(237,237,237)\",\"ticklen\":6,\"ticks\":\"inside\"}},\"type\":\"scatterternary\"}],\"surface\":[{\"colorbar\":{\"outlinewidth\":0,\"tickcolor\":\"rgb(237,237,237)\",\"ticklen\":6,\"ticks\":\"inside\"},\"colorscale\":[[0,\"rgb(20,44,66)\"],[1,\"rgb(90,179,244)\"]],\"type\":\"surface\"}],\"table\":[{\"cells\":{\"fill\":{\"color\":\"rgb(237,237,237)\"},\"line\":{\"color\":\"white\"}},\"header\":{\"fill\":{\"color\":\"rgb(217,217,217)\"},\"line\":{\"color\":\"white\"}},\"type\":\"table\"}]},\"layout\":{\"annotationdefaults\":{\"arrowhead\":0,\"arrowwidth\":1},\"autotypenumbers\":\"strict\",\"coloraxis\":{\"colorbar\":{\"outlinewidth\":0,\"tickcolor\":\"rgb(237,237,237)\",\"ticklen\":6,\"ticks\":\"inside\"}},\"colorscale\":{\"sequential\":[[0,\"rgb(20,44,66)\"],[1,\"rgb(90,179,244)\"]],\"sequentialminus\":[[0,\"rgb(20,44,66)\"],[1,\"rgb(90,179,244)\"]]},\"colorway\":[\"#F8766D\",\"#A3A500\",\"#00BF7D\",\"#00B0F6\",\"#E76BF3\"],\"font\":{\"color\":\"rgb(51,51,51)\"},\"geo\":{\"bgcolor\":\"white\",\"lakecolor\":\"white\",\"landcolor\":\"rgb(237,237,237)\",\"showlakes\":true,\"showland\":true,\"subunitcolor\":\"white\"},\"hoverlabel\":{\"align\":\"left\"},\"hovermode\":\"closest\",\"paper_bgcolor\":\"white\",\"plot_bgcolor\":\"rgb(237,237,237)\",\"polar\":{\"angularaxis\":{\"gridcolor\":\"white\",\"linecolor\":\"white\",\"showgrid\":true,\"tickcolor\":\"rgb(51,51,51)\",\"ticks\":\"outside\"},\"bgcolor\":\"rgb(237,237,237)\",\"radialaxis\":{\"gridcolor\":\"white\",\"linecolor\":\"white\",\"showgrid\":true,\"tickcolor\":\"rgb(51,51,51)\",\"ticks\":\"outside\"}},\"scene\":{\"xaxis\":{\"backgroundcolor\":\"rgb(237,237,237)\",\"gridcolor\":\"white\",\"gridwidth\":2,\"linecolor\":\"white\",\"showbackground\":true,\"showgrid\":true,\"tickcolor\":\"rgb(51,51,51)\",\"ticks\":\"outside\",\"zerolinecolor\":\"white\"},\"yaxis\":{\"backgroundcolor\":\"rgb(237,237,237)\",\"gridcolor\":\"white\",\"gridwidth\":2,\"linecolor\":\"white\",\"showbackground\":true,\"showgrid\":true,\"tickcolor\":\"rgb(51,51,51)\",\"ticks\":\"outside\",\"zerolinecolor\":\"white\"},\"zaxis\":{\"backgroundcolor\":\"rgb(237,237,237)\",\"gridcolor\":\"white\",\"gridwidth\":2,\"linecolor\":\"white\",\"showbackground\":true,\"showgrid\":true,\"tickcolor\":\"rgb(51,51,51)\",\"ticks\":\"outside\",\"zerolinecolor\":\"white\"}},\"shapedefaults\":{\"fillcolor\":\"black\",\"line\":{\"width\":0},\"opacity\":0.3},\"ternary\":{\"aaxis\":{\"gridcolor\":\"white\",\"linecolor\":\"white\",\"showgrid\":true,\"tickcolor\":\"rgb(51,51,51)\",\"ticks\":\"outside\"},\"baxis\":{\"gridcolor\":\"white\",\"linecolor\":\"white\",\"showgrid\":true,\"tickcolor\":\"rgb(51,51,51)\",\"ticks\":\"outside\"},\"bgcolor\":\"rgb(237,237,237)\",\"caxis\":{\"gridcolor\":\"white\",\"linecolor\":\"white\",\"showgrid\":true,\"tickcolor\":\"rgb(51,51,51)\",\"ticks\":\"outside\"}},\"xaxis\":{\"automargin\":true,\"gridcolor\":\"white\",\"linecolor\":\"white\",\"showgrid\":true,\"tickcolor\":\"rgb(51,51,51)\",\"ticks\":\"outside\",\"title\":{\"standoff\":15},\"zerolinecolor\":\"white\"},\"yaxis\":{\"automargin\":true,\"gridcolor\":\"white\",\"linecolor\":\"white\",\"showgrid\":true,\"tickcolor\":\"rgb(51,51,51)\",\"ticks\":\"outside\",\"title\":{\"standoff\":15},\"zerolinecolor\":\"white\"}}}},                        {\"responsive\": true}                    ).then(function(){\n",
       "                            \n",
       "var gd = document.getElementById('27554664-1662-49f6-ba05-50fde90ef28e');\n",
       "var x = new MutationObserver(function (mutations, observer) {{\n",
       "        var display = window.getComputedStyle(gd).display;\n",
       "        if (!display || display === 'none') {{\n",
       "            console.log([gd, 'removed!']);\n",
       "            Plotly.purge(gd);\n",
       "            observer.disconnect();\n",
       "        }}\n",
       "}});\n",
       "\n",
       "// Listen for the removal of the full notebook cells\n",
       "var notebookContainer = gd.closest('#notebook-container');\n",
       "if (notebookContainer) {{\n",
       "    x.observe(notebookContainer, {childList: true});\n",
       "}}\n",
       "\n",
       "// Listen for the clearing of the current output cell\n",
       "var outputEl = gd.closest('.output');\n",
       "if (outputEl) {{\n",
       "    x.observe(outputEl, {childList: true});\n",
       "}}\n",
       "\n",
       "                        })                };            </script>        </div>"
      ]
     },
     "metadata": {},
     "output_type": "display_data"
    },
    {
     "data": {
      "application/vnd.plotly.v1+json": {
       "config": {
        "plotlyServerURL": "https://plot.ly"
       },
       "data": [
        {
         "type": "surface",
         "z": {
          "bdata": "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",
          "dtype": "f8",
          "shape": "25, 25"
         }
        }
       ],
       "layout": {
        "height": 500,
        "template": {
         "data": {
          "bar": [
           {
            "error_x": {
             "color": "rgb(36,36,36)"
            },
            "error_y": {
             "color": "rgb(36,36,36)"
            },
            "marker": {
             "line": {
              "color": "rgb(234,234,242)",
              "width": 0.5
             },
             "pattern": {
              "fillmode": "overlay",
              "size": 10,
              "solidity": 0.2
             }
            },
            "type": "bar"
           }
          ],
          "barpolar": [
           {
            "marker": {
             "line": {
              "color": "rgb(234,234,242)",
              "width": 0.5
             },
             "pattern": {
              "fillmode": "overlay",
              "size": 10,
              "solidity": 0.2
             }
            },
            "type": "barpolar"
           }
          ],
          "carpet": [
           {
            "aaxis": {
             "endlinecolor": "rgb(36,36,36)",
             "gridcolor": "white",
             "linecolor": "white",
             "minorgridcolor": "white",
             "startlinecolor": "rgb(36,36,36)"
            },
            "baxis": {
             "endlinecolor": "rgb(36,36,36)",
             "gridcolor": "white",
             "linecolor": "white",
             "minorgridcolor": "white",
             "startlinecolor": "rgb(36,36,36)"
            },
            "type": "carpet"
           }
          ],
          "choropleth": [
           {
            "colorbar": {
             "outlinewidth": 0,
             "tickcolor": "rgb(36,36,36)",
             "ticklen": 8,
             "ticks": "outside",
             "tickwidth": 2
            },
            "type": "choropleth"
           }
          ],
          "contour": [
           {
            "colorbar": {
             "outlinewidth": 0,
             "tickcolor": "rgb(36,36,36)",
             "ticklen": 8,
             "ticks": "outside",
             "tickwidth": 2
            },
            "colorscale": [
             [
              0,
              "rgb(2,4,25)"
             ],
             [
              0.06274509803921569,
              "rgb(24,15,41)"
             ],
             [
              0.12549019607843137,
              "rgb(47,23,57)"
             ],
             [
              0.18823529411764706,
              "rgb(71,28,72)"
             ],
             [
              0.25098039215686274,
              "rgb(97,30,82)"
             ],
             [
              0.3137254901960784,
              "rgb(123,30,89)"
             ],
             [
              0.3764705882352941,
              "rgb(150,27,91)"
             ],
             [
              0.4392156862745098,
              "rgb(177,22,88)"
             ],
             [
              0.5019607843137255,
              "rgb(203,26,79)"
             ],
             [
              0.5647058823529412,
              "rgb(223,47,67)"
             ],
             [
              0.6274509803921569,
              "rgb(236,76,61)"
             ],
             [
              0.6901960784313725,
              "rgb(242,107,73)"
             ],
             [
              0.7529411764705882,
              "rgb(244,135,95)"
             ],
             [
              0.8156862745098039,
              "rgb(245,162,122)"
             ],
             [
              0.8784313725490196,
              "rgb(246,188,153)"
             ],
             [
              0.9411764705882353,
              "rgb(247,212,187)"
             ],
             [
              1,
              "rgb(250,234,220)"
             ]
            ],
            "type": "contour"
           }
          ],
          "contourcarpet": [
           {
            "colorbar": {
             "outlinewidth": 0,
             "tickcolor": "rgb(36,36,36)",
             "ticklen": 8,
             "ticks": "outside",
             "tickwidth": 2
            },
            "type": "contourcarpet"
           }
          ],
          "heatmap": [
           {
            "colorbar": {
             "outlinewidth": 0,
             "tickcolor": "rgb(36,36,36)",
             "ticklen": 8,
             "ticks": "outside",
             "tickwidth": 2
            },
            "colorscale": [
             [
              0,
              "rgb(2,4,25)"
             ],
             [
              0.06274509803921569,
              "rgb(24,15,41)"
             ],
             [
              0.12549019607843137,
              "rgb(47,23,57)"
             ],
             [
              0.18823529411764706,
              "rgb(71,28,72)"
             ],
             [
              0.25098039215686274,
              "rgb(97,30,82)"
             ],
             [
              0.3137254901960784,
              "rgb(123,30,89)"
             ],
             [
              0.3764705882352941,
              "rgb(150,27,91)"
             ],
             [
              0.4392156862745098,
              "rgb(177,22,88)"
             ],
             [
              0.5019607843137255,
              "rgb(203,26,79)"
             ],
             [
              0.5647058823529412,
              "rgb(223,47,67)"
             ],
             [
              0.6274509803921569,
              "rgb(236,76,61)"
             ],
             [
              0.6901960784313725,
              "rgb(242,107,73)"
             ],
             [
              0.7529411764705882,
              "rgb(244,135,95)"
             ],
             [
              0.8156862745098039,
              "rgb(245,162,122)"
             ],
             [
              0.8784313725490196,
              "rgb(246,188,153)"
             ],
             [
              0.9411764705882353,
              "rgb(247,212,187)"
             ],
             [
              1,
              "rgb(250,234,220)"
             ]
            ],
            "type": "heatmap"
           }
          ],
          "histogram": [
           {
            "marker": {
             "pattern": {
              "fillmode": "overlay",
              "size": 10,
              "solidity": 0.2
             }
            },
            "type": "histogram"
           }
          ],
          "histogram2d": [
           {
            "colorbar": {
             "outlinewidth": 0,
             "tickcolor": "rgb(36,36,36)",
             "ticklen": 8,
             "ticks": "outside",
             "tickwidth": 2
            },
            "colorscale": [
             [
              0,
              "rgb(2,4,25)"
             ],
             [
              0.06274509803921569,
              "rgb(24,15,41)"
             ],
             [
              0.12549019607843137,
              "rgb(47,23,57)"
             ],
             [
              0.18823529411764706,
              "rgb(71,28,72)"
             ],
             [
              0.25098039215686274,
              "rgb(97,30,82)"
             ],
             [
              0.3137254901960784,
              "rgb(123,30,89)"
             ],
             [
              0.3764705882352941,
              "rgb(150,27,91)"
             ],
             [
              0.4392156862745098,
              "rgb(177,22,88)"
             ],
             [
              0.5019607843137255,
              "rgb(203,26,79)"
             ],
             [
              0.5647058823529412,
              "rgb(223,47,67)"
             ],
             [
              0.6274509803921569,
              "rgb(236,76,61)"
             ],
             [
              0.6901960784313725,
              "rgb(242,107,73)"
             ],
             [
              0.7529411764705882,
              "rgb(244,135,95)"
             ],
             [
              0.8156862745098039,
              "rgb(245,162,122)"
             ],
             [
              0.8784313725490196,
              "rgb(246,188,153)"
             ],
             [
              0.9411764705882353,
              "rgb(247,212,187)"
             ],
             [
              1,
              "rgb(250,234,220)"
             ]
            ],
            "type": "histogram2d"
           }
          ],
          "histogram2dcontour": [
           {
            "colorbar": {
             "outlinewidth": 0,
             "tickcolor": "rgb(36,36,36)",
             "ticklen": 8,
             "ticks": "outside",
             "tickwidth": 2
            },
            "colorscale": [
             [
              0,
              "rgb(2,4,25)"
             ],
             [
              0.06274509803921569,
              "rgb(24,15,41)"
             ],
             [
              0.12549019607843137,
              "rgb(47,23,57)"
             ],
             [
              0.18823529411764706,
              "rgb(71,28,72)"
             ],
             [
              0.25098039215686274,
              "rgb(97,30,82)"
             ],
             [
              0.3137254901960784,
              "rgb(123,30,89)"
             ],
             [
              0.3764705882352941,
              "rgb(150,27,91)"
             ],
             [
              0.4392156862745098,
              "rgb(177,22,88)"
             ],
             [
              0.5019607843137255,
              "rgb(203,26,79)"
             ],
             [
              0.5647058823529412,
              "rgb(223,47,67)"
             ],
             [
              0.6274509803921569,
              "rgb(236,76,61)"
             ],
             [
              0.6901960784313725,
              "rgb(242,107,73)"
             ],
             [
              0.7529411764705882,
              "rgb(244,135,95)"
             ],
             [
              0.8156862745098039,
              "rgb(245,162,122)"
             ],
             [
              0.8784313725490196,
              "rgb(246,188,153)"
             ],
             [
              0.9411764705882353,
              "rgb(247,212,187)"
             ],
             [
              1,
              "rgb(250,234,220)"
             ]
            ],
            "type": "histogram2dcontour"
           }
          ],
          "mesh3d": [
           {
            "colorbar": {
             "outlinewidth": 0,
             "tickcolor": "rgb(36,36,36)",
             "ticklen": 8,
             "ticks": "outside",
             "tickwidth": 2
            },
            "type": "mesh3d"
           }
          ],
          "parcoords": [
           {
            "line": {
             "colorbar": {
              "outlinewidth": 0,
              "tickcolor": "rgb(36,36,36)",
              "ticklen": 8,
              "ticks": "outside",
              "tickwidth": 2
             }
            },
            "type": "parcoords"
           }
          ],
          "pie": [
           {
            "automargin": true,
            "type": "pie"
           }
          ],
          "scatter": [
           {
            "fillpattern": {
             "fillmode": "overlay",
             "size": 10,
             "solidity": 0.2
            },
            "type": "scatter"
           }
          ],
          "scatter3d": [
           {
            "line": {
             "colorbar": {
              "outlinewidth": 0,
              "tickcolor": "rgb(36,36,36)",
              "ticklen": 8,
              "ticks": "outside",
              "tickwidth": 2
             }
            },
            "marker": {
             "colorbar": {
              "outlinewidth": 0,
              "tickcolor": "rgb(36,36,36)",
              "ticklen": 8,
              "ticks": "outside",
              "tickwidth": 2
             }
            },
            "type": "scatter3d"
           }
          ],
          "scattercarpet": [
           {
            "marker": {
             "colorbar": {
              "outlinewidth": 0,
              "tickcolor": "rgb(36,36,36)",
              "ticklen": 8,
              "ticks": "outside",
              "tickwidth": 2
             }
            },
            "type": "scattercarpet"
           }
          ],
          "scattergeo": [
           {
            "marker": {
             "colorbar": {
              "outlinewidth": 0,
              "tickcolor": "rgb(36,36,36)",
              "ticklen": 8,
              "ticks": "outside",
              "tickwidth": 2
             }
            },
            "type": "scattergeo"
           }
          ],
          "scattergl": [
           {
            "marker": {
             "colorbar": {
              "outlinewidth": 0,
              "tickcolor": "rgb(36,36,36)",
              "ticklen": 8,
              "ticks": "outside",
              "tickwidth": 2
             }
            },
            "type": "scattergl"
           }
          ],
          "scattermap": [
           {
            "marker": {
             "colorbar": {
              "outlinewidth": 0,
              "tickcolor": "rgb(36,36,36)",
              "ticklen": 8,
              "ticks": "outside",
              "tickwidth": 2
             }
            },
            "type": "scattermap"
           }
          ],
          "scattermapbox": [
           {
            "marker": {
             "colorbar": {
              "outlinewidth": 0,
              "tickcolor": "rgb(36,36,36)",
              "ticklen": 8,
              "ticks": "outside",
              "tickwidth": 2
             }
            },
            "type": "scattermapbox"
           }
          ],
          "scatterpolar": [
           {
            "marker": {
             "colorbar": {
              "outlinewidth": 0,
              "tickcolor": "rgb(36,36,36)",
              "ticklen": 8,
              "ticks": "outside",
              "tickwidth": 2
             }
            },
            "type": "scatterpolar"
           }
          ],
          "scatterpolargl": [
           {
            "marker": {
             "colorbar": {
              "outlinewidth": 0,
              "tickcolor": "rgb(36,36,36)",
              "ticklen": 8,
              "ticks": "outside",
              "tickwidth": 2
             }
            },
            "type": "scatterpolargl"
           }
          ],
          "scatterternary": [
           {
            "marker": {
             "colorbar": {
              "outlinewidth": 0,
              "tickcolor": "rgb(36,36,36)",
              "ticklen": 8,
              "ticks": "outside",
              "tickwidth": 2
             }
            },
            "type": "scatterternary"
           }
          ],
          "surface": [
           {
            "colorbar": {
             "outlinewidth": 0,
             "tickcolor": "rgb(36,36,36)",
             "ticklen": 8,
             "ticks": "outside",
             "tickwidth": 2
            },
            "colorscale": [
             [
              0,
              "rgb(2,4,25)"
             ],
             [
              0.06274509803921569,
              "rgb(24,15,41)"
             ],
             [
              0.12549019607843137,
              "rgb(47,23,57)"
             ],
             [
              0.18823529411764706,
              "rgb(71,28,72)"
             ],
             [
              0.25098039215686274,
              "rgb(97,30,82)"
             ],
             [
              0.3137254901960784,
              "rgb(123,30,89)"
             ],
             [
              0.3764705882352941,
              "rgb(150,27,91)"
             ],
             [
              0.4392156862745098,
              "rgb(177,22,88)"
             ],
             [
              0.5019607843137255,
              "rgb(203,26,79)"
             ],
             [
              0.5647058823529412,
              "rgb(223,47,67)"
             ],
             [
              0.6274509803921569,
              "rgb(236,76,61)"
             ],
             [
              0.6901960784313725,
              "rgb(242,107,73)"
             ],
             [
              0.7529411764705882,
              "rgb(244,135,95)"
             ],
             [
              0.8156862745098039,
              "rgb(245,162,122)"
             ],
             [
              0.8784313725490196,
              "rgb(246,188,153)"
             ],
             [
              0.9411764705882353,
              "rgb(247,212,187)"
             ],
             [
              1,
              "rgb(250,234,220)"
             ]
            ],
            "type": "surface"
           }
          ],
          "table": [
           {
            "cells": {
             "fill": {
              "color": "rgb(231,231,240)"
             },
             "line": {
              "color": "white"
             }
            },
            "header": {
             "fill": {
              "color": "rgb(183,183,191)"
             },
             "line": {
              "color": "white"
             }
            },
            "type": "table"
           }
          ]
         },
         "layout": {
          "annotationdefaults": {
           "arrowcolor": "rgb(67,103,167)"
          },
          "autotypenumbers": "strict",
          "coloraxis": {
           "colorbar": {
            "outlinewidth": 0,
            "tickcolor": "rgb(36,36,36)",
            "ticklen": 8,
            "ticks": "outside",
            "tickwidth": 2
           }
          },
          "colorscale": {
           "sequential": [
            [
             0,
             "rgb(2,4,25)"
            ],
            [
             0.06274509803921569,
             "rgb(24,15,41)"
            ],
            [
             0.12549019607843137,
             "rgb(47,23,57)"
            ],
            [
             0.18823529411764706,
             "rgb(71,28,72)"
            ],
            [
             0.25098039215686274,
             "rgb(97,30,82)"
            ],
            [
             0.3137254901960784,
             "rgb(123,30,89)"
            ],
            [
             0.3764705882352941,
             "rgb(150,27,91)"
            ],
            [
             0.4392156862745098,
             "rgb(177,22,88)"
            ],
            [
             0.5019607843137255,
             "rgb(203,26,79)"
            ],
            [
             0.5647058823529412,
             "rgb(223,47,67)"
            ],
            [
             0.6274509803921569,
             "rgb(236,76,61)"
            ],
            [
             0.6901960784313725,
             "rgb(242,107,73)"
            ],
            [
             0.7529411764705882,
             "rgb(244,135,95)"
            ],
            [
             0.8156862745098039,
             "rgb(245,162,122)"
            ],
            [
             0.8784313725490196,
             "rgb(246,188,153)"
            ],
            [
             0.9411764705882353,
             "rgb(247,212,187)"
            ],
            [
             1,
             "rgb(250,234,220)"
            ]
           ],
           "sequentialminus": [
            [
             0,
             "rgb(2,4,25)"
            ],
            [
             0.06274509803921569,
             "rgb(24,15,41)"
            ],
            [
             0.12549019607843137,
             "rgb(47,23,57)"
            ],
            [
             0.18823529411764706,
             "rgb(71,28,72)"
            ],
            [
             0.25098039215686274,
             "rgb(97,30,82)"
            ],
            [
             0.3137254901960784,
             "rgb(123,30,89)"
            ],
            [
             0.3764705882352941,
             "rgb(150,27,91)"
            ],
            [
             0.4392156862745098,
             "rgb(177,22,88)"
            ],
            [
             0.5019607843137255,
             "rgb(203,26,79)"
            ],
            [
             0.5647058823529412,
             "rgb(223,47,67)"
            ],
            [
             0.6274509803921569,
             "rgb(236,76,61)"
            ],
            [
             0.6901960784313725,
             "rgb(242,107,73)"
            ],
            [
             0.7529411764705882,
             "rgb(244,135,95)"
            ],
            [
             0.8156862745098039,
             "rgb(245,162,122)"
            ],
            [
             0.8784313725490196,
             "rgb(246,188,153)"
            ],
            [
             0.9411764705882353,
             "rgb(247,212,187)"
            ],
            [
             1,
             "rgb(250,234,220)"
            ]
           ]
          },
          "colorway": [
           "rgb(76,114,176)",
           "rgb(221,132,82)",
           "rgb(85,168,104)",
           "rgb(196,78,82)",
           "rgb(129,114,179)",
           "rgb(147,120,96)",
           "rgb(218,139,195)",
           "rgb(140,140,140)",
           "rgb(204,185,116)",
           "rgb(100,181,205)"
          ],
          "font": {
           "color": "rgb(36,36,36)"
          },
          "geo": {
           "bgcolor": "white",
           "lakecolor": "white",
           "landcolor": "rgb(234,234,242)",
           "showlakes": true,
           "showland": true,
           "subunitcolor": "white"
          },
          "hoverlabel": {
           "align": "left"
          },
          "hovermode": "closest",
          "paper_bgcolor": "white",
          "plot_bgcolor": "rgb(234,234,242)",
          "polar": {
           "angularaxis": {
            "gridcolor": "white",
            "linecolor": "white",
            "showgrid": true,
            "ticks": ""
           },
           "bgcolor": "rgb(234,234,242)",
           "radialaxis": {
            "gridcolor": "white",
            "linecolor": "white",
            "showgrid": true,
            "ticks": ""
           }
          },
          "scene": {
           "xaxis": {
            "backgroundcolor": "rgb(234,234,242)",
            "gridcolor": "white",
            "gridwidth": 2,
            "linecolor": "white",
            "showbackground": true,
            "showgrid": true,
            "ticks": "",
            "zerolinecolor": "white"
           },
           "yaxis": {
            "backgroundcolor": "rgb(234,234,242)",
            "gridcolor": "white",
            "gridwidth": 2,
            "linecolor": "white",
            "showbackground": true,
            "showgrid": true,
            "ticks": "",
            "zerolinecolor": "white"
           },
           "zaxis": {
            "backgroundcolor": "rgb(234,234,242)",
            "gridcolor": "white",
            "gridwidth": 2,
            "linecolor": "white",
            "showbackground": true,
            "showgrid": true,
            "ticks": "",
            "zerolinecolor": "white"
           }
          },
          "shapedefaults": {
           "fillcolor": "rgb(67,103,167)",
           "line": {
            "width": 0
           },
           "opacity": 0.5
          },
          "ternary": {
           "aaxis": {
            "gridcolor": "white",
            "linecolor": "white",
            "showgrid": true,
            "ticks": ""
           },
           "baxis": {
            "gridcolor": "white",
            "linecolor": "white",
            "showgrid": true,
            "ticks": ""
           },
           "bgcolor": "rgb(234,234,242)",
           "caxis": {
            "gridcolor": "white",
            "linecolor": "white",
            "showgrid": true,
            "ticks": ""
           }
          },
          "xaxis": {
           "automargin": true,
           "gridcolor": "white",
           "linecolor": "white",
           "showgrid": true,
           "ticks": "",
           "title": {
            "standoff": 15
           },
           "zerolinecolor": "white"
          },
          "yaxis": {
           "automargin": true,
           "gridcolor": "white",
           "linecolor": "white",
           "showgrid": true,
           "ticks": "",
           "title": {
            "standoff": 15
           },
           "zerolinecolor": "white"
          }
         }
        },
        "title": {
         "text": "Mt Bruno Elevation: 'seaborn' theme"
        },
        "width": 500
       }
      },
      "text/html": [
       "<div>            <script src=\"https://cdnjs.cloudflare.com/ajax/libs/mathjax/2.7.5/MathJax.js?config=TeX-AMS-MML_SVG\"></script><script type=\"text/javascript\">if (window.MathJax && window.MathJax.Hub && window.MathJax.Hub.Config) {window.MathJax.Hub.Config({SVG: {font: \"STIX-Web\"}});}</script>                <script type=\"text/javascript\">window.PlotlyConfig = {MathJaxConfig: 'local'};</script>\n",
       "        <script charset=\"utf-8\" src=\"https://cdn.plot.ly/plotly-3.0.1.min.js\"></script>                <div id=\"ddb538b6-746a-40a4-9404-e2313a1e1d05\" class=\"plotly-graph-div\" style=\"height:500px; width:500px;\"></div>            <script type=\"text/javascript\">                window.PLOTLYENV=window.PLOTLYENV || {};                                if (document.getElementById(\"ddb538b6-746a-40a4-9404-e2313a1e1d05\")) {                    Plotly.newPlot(                        \"ddb538b6-746a-40a4-9404-e2313a1e1d05\",                        [{\"z\":{\"dtype\":\"f8\",\"bdata\":\"AAAAAAAAAABlqmBUUs87QKw5QDBHz0hALPGAsinFVEBDrWnecSpdQGiR7Xw\\u002fTWBA7C+7Jw\\u002fXYkCcoiO5\\u002fIVrQE0VjErqhGNAoyO5\\u002fIeUYkDJdr6fGnlpQAU0ETY8wWlAih9j7lrKWkCLbOf7qRdRQPtcbcX+qkZAM9yAzw\\u002f7SEAjMqzijeQ1QNhkjXqIBjFAlLw6x4B8J0CMLQQ5KIEtQL1SliGOVStAIy4AjdK1FkBy3CkdrH8KQNxJRPgXgfI\\u002fcVRuopbmwr8AAAAAAADwP0c9RKM7uDtAdc3km21GSEA2donqrU1QQCEHJcy00VdAAG+BBMU\\u002fXUA+6Nms+rxgQKUsQxzrCmNA2c73U+P9YkB24JwRpQNkQInS3uALcWZAFvvL7slzYkACmggbnkxlQOqVsgxxdF5Angd3Z+1KSkABamrZWotAQDFCeLRxNENAMqzijcwfRkDMXUvIB2VRQGCUoL\\u002fQExBA7x6g+3JmCEAUPfAxWFEIQFJgAUwZ+AdAU0Kwql6+B0D4cTRHVv7\\u002fPwAAAAAAAABABTQRNjxtPkDMlxdgH71AQMGQ1a2eZ0ZAG55eKcs8T0A9D+7O2ltTQAu1pnnHDVpAs3vysFCvWUBkXdxGAyBhQCBj7lpCQmdAqmBUUidqa0DufD81XrhmQIqw4emVOl5AHVpkO9\\u002flYUBkIxCv65lUQLH5uDZUPEhAQNmUK7ytUkBrmnecogtOQOzAOSNKSxxANQ2K5gFcGEDY8PRKWSYaQFT83xEVqhpAChFwCFU6HUDfiVkvhvIWQPKxu0BJAQ1AAAAAAAAACECm0HmNXaowQHlYqDXNGz5Asmg6Oxn8Q0DP91PjpQ9GQESjO4idyU1AJvxSP29kU0CF61G4HrlaQCQofoy50WRAryXkg57nZUBeukkMAilnQHEbDeAtUGNArfpcbcXCVEBXlX1XBE9PQDyInSl0Kk9AnZ0MjpJHTkAu4jsx6\\u002fVLQJzhBnx+WC5Asp\\u002fFUiR\\u002fIEDsaYe\\u002fJldCQDMbZJKR905AlGqfjsdENEBkdavnpCVRQOS9amXCP0dAycwFLo81zj8AAAAAAAAQQI4fKo2YoSFAC0YldQJaMkB+jLlrCVEhQPW52or9lTtAh8Q9lj5QSEClg\\u002fV\\u002fDhdOQMxdS8gH1VZAP1dbsb82YkBxGw3gLQRdQH6MuWsJkVpAZoNMMnIsUUCTV+cYkI1KQKbVkLjH9kJAbZBJRs76R0DtKqT8pLZHQJCIKZFETVFAmRJJ9DJ6RkCk5NU5Biw9QF\\u002fv\\u002fniv6jFADJOpglFBMEBWKxN+qU8tQBhDOdGuQjFAxf6ye\\u002fI4P0BA9nr3x1tHQAAAAAAAABRAmE2AYfmDGkCk\\u002fKTap9MkQGCrBIvD0ThAglZgyOoWOkAMAiuHFik+QMhBCTNtJ0pAuvdwyXEtUEBZaVIKuhNTQFsIclDCKFVAlrIMcazbWEAYYB+dukJPQCMVxhaCaEdAC2MLQQ7iS0BYqDXNO5pUQApoImx4iGFAO8eA7PVQVECY+nlTkTpMQHmvWpnwaz5AfSJPkq5JMUDZl2w82JogQPM5d7te2gdAFqHYCpqWBUAZxt0gWosXQNl6hnDMEhVAAAAAAAAAGEDl0CLb+dY1QHRBfcucjhpAVFInoIn4MkCnXOFdLnJAQCXpmsk3k0VAoP1IERluT0CfPCzUmipaQHo2qz5XR2BAPE7RkVy2XEDQ1VbsL79aQC3saYe\\u002f8k5AHuG04EXHS0CrlQm\\u002f1LNVQJLoZRTLUVZAEOm3rwObXkBL6gQ0Ef5eQBKlvcEXRltAba0vEtqaWEDQDyOER2dTQG1zY3rCPkBA8KKvIM1YLUCWsgxxrHsdQMQXmqkYAKM\\u002frQoe8AqO5D8AAAAAAAAcQADGM2joq0pAajANw0fMOkB0QX3LnI4aQPQyiuWWxiVAak3zjlM0MUDzqzlAMBdMQJfFxObj7FNAw9MrZRm2VkDByqFFtpFYQCeDo+TVN1RASZ2AJsKyUkCpaoKo++JSQJyiI7n8W1JACObo8XuHUkCBBMWPMQtRQK0XQznRHkdA3IDPDyP4Q0BWmpSCbjc\\u002fQPd14JwRcUJArBxaZDsDREDWxW00gFtdQJzc71AUaClAghspWySt+z8AAAAAAAAAAAAAAAAAACBANKK0N\\u002fiqOUD6J7hYUYdPQIenV8oyJDZAbef7qfESMUAziuWWVt9EQEnXTL7ZIk5AesISDyhbVEAj2\\u002fl+apxcQLHh6ZWylFlAfPKwUGtyWUBEi2zn+8FbQF8pyxDHzl1AjLlrCfmEXECL\\u002fWX35KFbQAYSFD\\u002fGmE1AqvHSTWI8RUD20akrn0UtQP8DrFW7xhtAguLHmLvGG0A57pQO1r87QAAAAAAAAAAAAAAAAAAAAABRRuA4vjC4P3BWCqJqy7M\\u002fAAAAAAAAIkCBlUOLbKcpQEWBPpEnTVFAkpGzsKdhR0AgKSLDKu4rQMSUSKKX8UBASx+6oL7pTkAL73IR3y9VQCuHFtnOR15ArfpcbcUoYkDr4jYawCVjQP7UeOkmmWlA097gC5N9bEDLEMe6uIltQARWDi2yi2xAeekmMQjWU0DXUdUEUe85QP8DrFW7xhtA\\u002fwOsVbvGG0CC4seYu8YbQJOq7Sb4Nh5AAAAAAAAAAAAAAAAAAAAAAAAAAAAAAAAAAAAAAAAAAAAAAAAAAAAkQAAAAAAAAAAAinYVUn4qUUAhsHJokYVNQKAy\\u002fn3GrUBAxHx5Afa5R0Bt5\\u002fup8epMQOIBZVOuulNAKVyPwvX0WkBn1edqKwBlQBQ\\u002fxty1XmBA1lbsL7uRakD1udqK\\u002fblkQFmGONbFR2pAwTkjSnulZkCfq63YX7hnQNcS8kHPKmFAB84ZUdopVUCjy5vDtVohQNKNsKiI0xtAGvm84qnvIEAAAAAAAAAAAAAAAAAAAAAAAAAAAAAAAAAAAAAAAAAAAAAAAAAAACZAAAAAAAAAAAAhyEEJM8tXQB\\u002fXhopxAlRACcTr+gXzTUAmAWpq2cpDQLL0oQvqI0lATRB1H4DoT0DQ8jy4OydUQICCixU1mFBAbcX+snvYaEC+MJkqGItuQH3Qs1n1Y3JADeAtkKCFcEBFR3L5Dw1mQIDxDBr6G05ABoGVQ4taU0BSRIZVvJVKQKlqgqj7FExAzt+EQgTMG0Bh\\u002fDTuzR8eQCy7YHDNPQ5AAAAAAAAAAAAAAAAAAAAAAAAAAAAAAAAAAAAAAAAAKEAAAAAAAAAAAP32deCc32BAQBNhw9NLYEBoke18PzdYQBppqbwd7VJAZhTLLa1uTUCLcf4mFJpMQBXGFoIcmEtA1XjpJjGIU0AkKH6MuSNbQFUwKqkTTGNAseHplbLyc0Aydy0hH053QJzEILByN3FA1QloImxIYEAAOsyXF3hLQPPlBdhHfzlAIhyz7EkYIEDNBS6PNSsgQMIxy54EdhRAAJATJoy2FkAAAAAAAAAAAAAAAAAAAAAAAAAAAAAAAAAAAAAAAAAqQAAAAAAAAAAArJDyk2oLSEC94xQdydFhQGB2Tx4WjGFABTQRNjxXY0BHcvkP6ftVQHU8ZqAyDk1Aur2kMVprSkA9J71vfMlQQHSYLy\\u002fA6lRApb3BFya7XUBxGw3gLcJiQPs6cM6ID3FAI0p7gy9SdUBoke18P9VtQGZmZmZmxmdABTQRNjw5XUDJk6RrJt9WQCsYldQJCCxA\\u002fZ\\u002fDfHklRUDCMcueBHYUQAAAAAAAAAAAAAAAAAAAAAAAAAAAAAAAAAAAAAAAACxAAAAAAAAAAACpE9BE2BhLQOcdp+hITGJADVTGv8\\u002feWEDmdFlMbAxYQA3gLZCgvFlAV5V9VwQJU0C\\u002ffR04Z+RMQEymCkYlhUdAU9DtJY0XUEBhTzv8NQ9VQD7o2az6VmRAKVyPwvVUXkB+HThnRKVqQMHKoUW2h3RAyjLEsS7XcUCu2F92T71xQK5H4XoUmmpAIbByaJGRZECU3je+9hJXQAvvchHf+RxAeekmMQis8j8AAAAAAAAAAAAAAAAAAAAAAAAAAAAALkAAAAAAAAAAAGXjwRa7rRtAXdxGA3hlaEDXEvJBz5BgQMx\\u002fSL9952BAMUJ4tHF2VkDsaYe\\u002fJl1WQNHLKJZbJk5A+grSjEUrSUDt0\\u002fGYgZZDQOI7MevFiE1A7PoFu2GhUkDWc9L7xjtVQD0s1JrmY2dA7lpCPuj9XkCMuWsJ+exZQGQ730+NH2BAdQKaCBukZEAmUwWjkjZvQD1hiQeU2VdAxT2WPnQBJEDAWyBB8SMDQAAAAAAAAAAAAAAAAAAAAAAAAAAAAAAwQAAAAAAAAAAAaTo7GRy9NUDNO07RkcheQCQofoy5F2ZAvw6cM6LIY0DsUbgehSdhQABvgQTFU1pAbcX+snuoVUDCo40j1o5KQIv9ZffkCT1AHSCYo8dnPkDKbJBJRoZDQH3Qs1n1nUhAOnr83qajT0Dl0CLb+dpbQD\\u002fG3LWETFlAmrFoOjsBREBj7lpCPuxNQAIOoUrNoFJAVWr2QCsQMUCcMGE0K3sDQChjfJi9TAJAH7Xm39fVN78AAAAAAAAAAAAAAAAAADFAAAAAAAAAAAAAAAAAAAAAANkIxOv6BU9A9bnaiv0JYUDvOEVHcjlpQEp7gy9MBGVAvjCZKhjNV0DcKR2s\\u002f3NNQFw9J71veEdAH0sfuqCiSECTxmgdVY1CQMaFAyFZ+DFAR1UTRN3vPkADste7P7JAQFXZd0XwA0ZAmBdgH53SS0AOMsnIWY5TQEImGTkL2yxAZY7lXfXoI0C9cr1tphIfQAWjkjoBDSpAl8rbEU67NUC2FJD2P0ABQBNUnoplBOE\\u002fAAAAAAAAMkAAAAAAAAAAAAAAAAAAAAAAPDHrxVDoU0DDZKpgVHZhQNNNYhBYpWVA5BQdyeUbaEDaG3xhMotoQFfsL7snFWJAbVZ9rraiWkDF5uPaUJVMQPEuF\\u002fGdlERAqtTsgVYQQEDYgXNGlLYrQC7FVWXf1SVA+KqVCb8kKEBuaTUk7mE2QOPHmLuWuDhA6KBLOPQ2G0CjyFpDqc0QQADjGTT0dzBAtcNfkzVqL0As8YCyKftAQHHMsieBTR5Aj93LnoD9qL8AAAAAAAAzQAAAAAAAAAAAAAAAAAAAAADD0ytlGaJAQPFL\\u002fbypxExAE2HD0yvnZEAFxY8xd49oQMx\\u002fSL99WWhAINJvXwfGZkC4rwPnjOxdQLq9pDFaQVJA7YFWYMguSECr56T3jd9AQOm3rwPnPDpAQYLix5hbMEAZ5ZmXwz4bQHRBfcucjhpA9x+ZDp2OGkAa+bziqe8gQLX7VYDvxhhAGof6Xdi6DEBpjNZR1YQOQA7d7A+UMyFAjq89syTgFEAAAAAAAAAAAAAAAAAAADRAAAAAAAAAAAAAAAAAAAAAAMh71cqExz1AhnKiXYV8S0DdJAaBlRliQKs+V1ux72lAl\\u002f+QfvuqZEAeFmpN82xlQMx\\u002fSL993WVAzH9Iv30RWUC693DJcbtOQHgoCvSJGElAIlSp2QMVOkA7\\u002fDVZoy4xQBr5vOKp7yBAdEF9y5yOGkBsXWqEflYZQGxdaoR+VhlAZKw2\\u002f6+qFkALfhtivBYRQAAAAAAAAAAAAAAAAAAAAAAAAAAAAAAAAAAAAAAAAAAAAAAAAAAANUAAAAAAAAAAAAAAAAAAAAAAYhBYObRoP0CIhVrTvJdgQF+YTBWMMmdA07zjFB11XkCYTBWMSixnQLfRAN4CFWRAU5YhjnUJXUCQoPgx5oZdQNqs+lxtuWFAAz4\\u002fjBBkUEAWhzO\\u002fmmtIQN3qOel9IzdA\\u002freSHRshMkCLcf4mFJIkQOGaO\\u002fpfHhhAChNGs7ItGECpwMk2cMcWQJq2f2Wl6Q1AMQxYchUrD0AAAAAAAAAAAAAAAAAAAAAAAAAAAAAAAAAAAAAAAAA2QAAAAAAAAAAAAAAAAAAAAAAsms5OBpczQLRZ9bnaJkVAZTbIJCMRWEASFD\\u002fG3GNnQIxK6gQ0dWZAY3\\u002fZPXmsa0Cfq63YX0hjQOlILv8hxWFA4zYawFuSYkCM+E7MestQQNXsgVZgWERAOsyXF2DfQ0C1T8djBho6QIBlpUkp+CxAxcn9DkVRIUAxDFhyFSsPQHmRCfg1kgxAMQxYchUrD0AxDFhyFSsPQDEMWHIVKw9AnBVRE30+8T8AAAAAAAAAAAAAAAAAADdATKW7xaUlVD+46jpUUxIIQBAEyNCxoxdAuCOcFrzAQED+ZffkYRVaQLByaJHtBmNAPE7RkVzGaED0\\u002fdR46fpnQJM6AU2El2xAb\\u002fCFyVQDZUDtnjws1AhiQI9TdCSXr1tA7DTSUnnTTEBv05\\u002f9SFFFQKX3ja896ztANbVsrS\\u002fSLkD6er5muRwgQAzIXu\\u002f+OA9ABfhu88YJD0CimLwBZn4PQG1Zvi7Dvw9A4MjyZO2lvz+sjbETXuIPQNFB8ilbf8e\\u002fAAAAAAAAOEAAAAAAAAAAACu9NhsrgRZAJuXuc3y0HkB4uYjvxJRPQPLqHAOy\\u002f0ZAajANw0fkU0DLoUW282lsQHL5D+m3fWlAklz+Q\\u002fqRZUCbVZ+rrSRmQCZTBaOSjmFACKwcWmT\\u002fXkCgGi\\u002fdJJZbQG5MT1jiR1BAd9Zuu9AoQUAs1JrmHYc4QE6Zm29EHyNAe6Lrwg+uCkBbzqW4qlwWQBFuMqoM8xVAlPqytFOjF0BPrimQ2XkXQDRlpx\\u002fUVRdAE7cKYqCLDEA=\",\"shape\":\"25, 25\"},\"type\":\"surface\"}],                        {\"height\":500,\"title\":{\"text\":\"Mt Bruno Elevation: 'seaborn' theme\"},\"width\":500,\"template\":{\"data\":{\"barpolar\":[{\"marker\":{\"line\":{\"color\":\"rgb(234,234,242)\",\"width\":0.5},\"pattern\":{\"fillmode\":\"overlay\",\"size\":10,\"solidity\":0.2}},\"type\":\"barpolar\"}],\"bar\":[{\"error_x\":{\"color\":\"rgb(36,36,36)\"},\"error_y\":{\"color\":\"rgb(36,36,36)\"},\"marker\":{\"line\":{\"color\":\"rgb(234,234,242)\",\"width\":0.5},\"pattern\":{\"fillmode\":\"overlay\",\"size\":10,\"solidity\":0.2}},\"type\":\"bar\"}],\"carpet\":[{\"aaxis\":{\"endlinecolor\":\"rgb(36,36,36)\",\"gridcolor\":\"white\",\"linecolor\":\"white\",\"minorgridcolor\":\"white\",\"startlinecolor\":\"rgb(36,36,36)\"},\"baxis\":{\"endlinecolor\":\"rgb(36,36,36)\",\"gridcolor\":\"white\",\"linecolor\":\"white\",\"minorgridcolor\":\"white\",\"startlinecolor\":\"rgb(36,36,36)\"},\"type\":\"carpet\"}],\"choropleth\":[{\"colorbar\":{\"outlinewidth\":0,\"tickcolor\":\"rgb(36,36,36)\",\"ticklen\":8,\"ticks\":\"outside\",\"tickwidth\":2},\"type\":\"choropleth\"}],\"contourcarpet\":[{\"colorbar\":{\"outlinewidth\":0,\"tickcolor\":\"rgb(36,36,36)\",\"ticklen\":8,\"ticks\":\"outside\",\"tickwidth\":2},\"type\":\"contourcarpet\"}],\"contour\":[{\"colorbar\":{\"outlinewidth\":0,\"tickcolor\":\"rgb(36,36,36)\",\"ticklen\":8,\"ticks\":\"outside\",\"tickwidth\":2},\"colorscale\":[[0.0,\"rgb(2,4,25)\"],[0.06274509803921569,\"rgb(24,15,41)\"],[0.12549019607843137,\"rgb(47,23,57)\"],[0.18823529411764706,\"rgb(71,28,72)\"],[0.25098039215686274,\"rgb(97,30,82)\"],[0.3137254901960784,\"rgb(123,30,89)\"],[0.3764705882352941,\"rgb(150,27,91)\"],[0.4392156862745098,\"rgb(177,22,88)\"],[0.5019607843137255,\"rgb(203,26,79)\"],[0.5647058823529412,\"rgb(223,47,67)\"],[0.6274509803921569,\"rgb(236,76,61)\"],[0.6901960784313725,\"rgb(242,107,73)\"],[0.7529411764705882,\"rgb(244,135,95)\"],[0.8156862745098039,\"rgb(245,162,122)\"],[0.8784313725490196,\"rgb(246,188,153)\"],[0.9411764705882353,\"rgb(247,212,187)\"],[1.0,\"rgb(250,234,220)\"]],\"type\":\"contour\"}],\"heatmap\":[{\"colorbar\":{\"outlinewidth\":0,\"tickcolor\":\"rgb(36,36,36)\",\"ticklen\":8,\"ticks\":\"outside\",\"tickwidth\":2},\"colorscale\":[[0.0,\"rgb(2,4,25)\"],[0.06274509803921569,\"rgb(24,15,41)\"],[0.12549019607843137,\"rgb(47,23,57)\"],[0.18823529411764706,\"rgb(71,28,72)\"],[0.25098039215686274,\"rgb(97,30,82)\"],[0.3137254901960784,\"rgb(123,30,89)\"],[0.3764705882352941,\"rgb(150,27,91)\"],[0.4392156862745098,\"rgb(177,22,88)\"],[0.5019607843137255,\"rgb(203,26,79)\"],[0.5647058823529412,\"rgb(223,47,67)\"],[0.6274509803921569,\"rgb(236,76,61)\"],[0.6901960784313725,\"rgb(242,107,73)\"],[0.7529411764705882,\"rgb(244,135,95)\"],[0.8156862745098039,\"rgb(245,162,122)\"],[0.8784313725490196,\"rgb(246,188,153)\"],[0.9411764705882353,\"rgb(247,212,187)\"],[1.0,\"rgb(250,234,220)\"]],\"type\":\"heatmap\"}],\"histogram2dcontour\":[{\"colorbar\":{\"outlinewidth\":0,\"tickcolor\":\"rgb(36,36,36)\",\"ticklen\":8,\"ticks\":\"outside\",\"tickwidth\":2},\"colorscale\":[[0.0,\"rgb(2,4,25)\"],[0.06274509803921569,\"rgb(24,15,41)\"],[0.12549019607843137,\"rgb(47,23,57)\"],[0.18823529411764706,\"rgb(71,28,72)\"],[0.25098039215686274,\"rgb(97,30,82)\"],[0.3137254901960784,\"rgb(123,30,89)\"],[0.3764705882352941,\"rgb(150,27,91)\"],[0.4392156862745098,\"rgb(177,22,88)\"],[0.5019607843137255,\"rgb(203,26,79)\"],[0.5647058823529412,\"rgb(223,47,67)\"],[0.6274509803921569,\"rgb(236,76,61)\"],[0.6901960784313725,\"rgb(242,107,73)\"],[0.7529411764705882,\"rgb(244,135,95)\"],[0.8156862745098039,\"rgb(245,162,122)\"],[0.8784313725490196,\"rgb(246,188,153)\"],[0.9411764705882353,\"rgb(247,212,187)\"],[1.0,\"rgb(250,234,220)\"]],\"type\":\"histogram2dcontour\"}],\"histogram2d\":[{\"colorbar\":{\"outlinewidth\":0,\"tickcolor\":\"rgb(36,36,36)\",\"ticklen\":8,\"ticks\":\"outside\",\"tickwidth\":2},\"colorscale\":[[0.0,\"rgb(2,4,25)\"],[0.06274509803921569,\"rgb(24,15,41)\"],[0.12549019607843137,\"rgb(47,23,57)\"],[0.18823529411764706,\"rgb(71,28,72)\"],[0.25098039215686274,\"rgb(97,30,82)\"],[0.3137254901960784,\"rgb(123,30,89)\"],[0.3764705882352941,\"rgb(150,27,91)\"],[0.4392156862745098,\"rgb(177,22,88)\"],[0.5019607843137255,\"rgb(203,26,79)\"],[0.5647058823529412,\"rgb(223,47,67)\"],[0.6274509803921569,\"rgb(236,76,61)\"],[0.6901960784313725,\"rgb(242,107,73)\"],[0.7529411764705882,\"rgb(244,135,95)\"],[0.8156862745098039,\"rgb(245,162,122)\"],[0.8784313725490196,\"rgb(246,188,153)\"],[0.9411764705882353,\"rgb(247,212,187)\"],[1.0,\"rgb(250,234,220)\"]],\"type\":\"histogram2d\"}],\"histogram\":[{\"marker\":{\"pattern\":{\"fillmode\":\"overlay\",\"size\":10,\"solidity\":0.2}},\"type\":\"histogram\"}],\"mesh3d\":[{\"colorbar\":{\"outlinewidth\":0,\"tickcolor\":\"rgb(36,36,36)\",\"ticklen\":8,\"ticks\":\"outside\",\"tickwidth\":2},\"type\":\"mesh3d\"}],\"parcoords\":[{\"line\":{\"colorbar\":{\"outlinewidth\":0,\"tickcolor\":\"rgb(36,36,36)\",\"ticklen\":8,\"ticks\":\"outside\",\"tickwidth\":2}},\"type\":\"parcoords\"}],\"pie\":[{\"automargin\":true,\"type\":\"pie\"}],\"scatter3d\":[{\"line\":{\"colorbar\":{\"outlinewidth\":0,\"tickcolor\":\"rgb(36,36,36)\",\"ticklen\":8,\"ticks\":\"outside\",\"tickwidth\":2}},\"marker\":{\"colorbar\":{\"outlinewidth\":0,\"tickcolor\":\"rgb(36,36,36)\",\"ticklen\":8,\"ticks\":\"outside\",\"tickwidth\":2}},\"type\":\"scatter3d\"}],\"scattercarpet\":[{\"marker\":{\"colorbar\":{\"outlinewidth\":0,\"tickcolor\":\"rgb(36,36,36)\",\"ticklen\":8,\"ticks\":\"outside\",\"tickwidth\":2}},\"type\":\"scattercarpet\"}],\"scattergeo\":[{\"marker\":{\"colorbar\":{\"outlinewidth\":0,\"tickcolor\":\"rgb(36,36,36)\",\"ticklen\":8,\"ticks\":\"outside\",\"tickwidth\":2}},\"type\":\"scattergeo\"}],\"scattergl\":[{\"marker\":{\"colorbar\":{\"outlinewidth\":0,\"tickcolor\":\"rgb(36,36,36)\",\"ticklen\":8,\"ticks\":\"outside\",\"tickwidth\":2}},\"type\":\"scattergl\"}],\"scattermapbox\":[{\"marker\":{\"colorbar\":{\"outlinewidth\":0,\"tickcolor\":\"rgb(36,36,36)\",\"ticklen\":8,\"ticks\":\"outside\",\"tickwidth\":2}},\"type\":\"scattermapbox\"}],\"scattermap\":[{\"marker\":{\"colorbar\":{\"outlinewidth\":0,\"tickcolor\":\"rgb(36,36,36)\",\"ticklen\":8,\"ticks\":\"outside\",\"tickwidth\":2}},\"type\":\"scattermap\"}],\"scatterpolargl\":[{\"marker\":{\"colorbar\":{\"outlinewidth\":0,\"tickcolor\":\"rgb(36,36,36)\",\"ticklen\":8,\"ticks\":\"outside\",\"tickwidth\":2}},\"type\":\"scatterpolargl\"}],\"scatterpolar\":[{\"marker\":{\"colorbar\":{\"outlinewidth\":0,\"tickcolor\":\"rgb(36,36,36)\",\"ticklen\":8,\"ticks\":\"outside\",\"tickwidth\":2}},\"type\":\"scatterpolar\"}],\"scatter\":[{\"fillpattern\":{\"fillmode\":\"overlay\",\"size\":10,\"solidity\":0.2},\"type\":\"scatter\"}],\"scatterternary\":[{\"marker\":{\"colorbar\":{\"outlinewidth\":0,\"tickcolor\":\"rgb(36,36,36)\",\"ticklen\":8,\"ticks\":\"outside\",\"tickwidth\":2}},\"type\":\"scatterternary\"}],\"surface\":[{\"colorbar\":{\"outlinewidth\":0,\"tickcolor\":\"rgb(36,36,36)\",\"ticklen\":8,\"ticks\":\"outside\",\"tickwidth\":2},\"colorscale\":[[0.0,\"rgb(2,4,25)\"],[0.06274509803921569,\"rgb(24,15,41)\"],[0.12549019607843137,\"rgb(47,23,57)\"],[0.18823529411764706,\"rgb(71,28,72)\"],[0.25098039215686274,\"rgb(97,30,82)\"],[0.3137254901960784,\"rgb(123,30,89)\"],[0.3764705882352941,\"rgb(150,27,91)\"],[0.4392156862745098,\"rgb(177,22,88)\"],[0.5019607843137255,\"rgb(203,26,79)\"],[0.5647058823529412,\"rgb(223,47,67)\"],[0.6274509803921569,\"rgb(236,76,61)\"],[0.6901960784313725,\"rgb(242,107,73)\"],[0.7529411764705882,\"rgb(244,135,95)\"],[0.8156862745098039,\"rgb(245,162,122)\"],[0.8784313725490196,\"rgb(246,188,153)\"],[0.9411764705882353,\"rgb(247,212,187)\"],[1.0,\"rgb(250,234,220)\"]],\"type\":\"surface\"}],\"table\":[{\"cells\":{\"fill\":{\"color\":\"rgb(231,231,240)\"},\"line\":{\"color\":\"white\"}},\"header\":{\"fill\":{\"color\":\"rgb(183,183,191)\"},\"line\":{\"color\":\"white\"}},\"type\":\"table\"}]},\"layout\":{\"annotationdefaults\":{\"arrowcolor\":\"rgb(67,103,167)\"},\"autotypenumbers\":\"strict\",\"coloraxis\":{\"colorbar\":{\"outlinewidth\":0,\"tickcolor\":\"rgb(36,36,36)\",\"ticklen\":8,\"ticks\":\"outside\",\"tickwidth\":2}},\"colorscale\":{\"sequential\":[[0.0,\"rgb(2,4,25)\"],[0.06274509803921569,\"rgb(24,15,41)\"],[0.12549019607843137,\"rgb(47,23,57)\"],[0.18823529411764706,\"rgb(71,28,72)\"],[0.25098039215686274,\"rgb(97,30,82)\"],[0.3137254901960784,\"rgb(123,30,89)\"],[0.3764705882352941,\"rgb(150,27,91)\"],[0.4392156862745098,\"rgb(177,22,88)\"],[0.5019607843137255,\"rgb(203,26,79)\"],[0.5647058823529412,\"rgb(223,47,67)\"],[0.6274509803921569,\"rgb(236,76,61)\"],[0.6901960784313725,\"rgb(242,107,73)\"],[0.7529411764705882,\"rgb(244,135,95)\"],[0.8156862745098039,\"rgb(245,162,122)\"],[0.8784313725490196,\"rgb(246,188,153)\"],[0.9411764705882353,\"rgb(247,212,187)\"],[1.0,\"rgb(250,234,220)\"]],\"sequentialminus\":[[0.0,\"rgb(2,4,25)\"],[0.06274509803921569,\"rgb(24,15,41)\"],[0.12549019607843137,\"rgb(47,23,57)\"],[0.18823529411764706,\"rgb(71,28,72)\"],[0.25098039215686274,\"rgb(97,30,82)\"],[0.3137254901960784,\"rgb(123,30,89)\"],[0.3764705882352941,\"rgb(150,27,91)\"],[0.4392156862745098,\"rgb(177,22,88)\"],[0.5019607843137255,\"rgb(203,26,79)\"],[0.5647058823529412,\"rgb(223,47,67)\"],[0.6274509803921569,\"rgb(236,76,61)\"],[0.6901960784313725,\"rgb(242,107,73)\"],[0.7529411764705882,\"rgb(244,135,95)\"],[0.8156862745098039,\"rgb(245,162,122)\"],[0.8784313725490196,\"rgb(246,188,153)\"],[0.9411764705882353,\"rgb(247,212,187)\"],[1.0,\"rgb(250,234,220)\"]]},\"colorway\":[\"rgb(76,114,176)\",\"rgb(221,132,82)\",\"rgb(85,168,104)\",\"rgb(196,78,82)\",\"rgb(129,114,179)\",\"rgb(147,120,96)\",\"rgb(218,139,195)\",\"rgb(140,140,140)\",\"rgb(204,185,116)\",\"rgb(100,181,205)\"],\"font\":{\"color\":\"rgb(36,36,36)\"},\"geo\":{\"bgcolor\":\"white\",\"lakecolor\":\"white\",\"landcolor\":\"rgb(234,234,242)\",\"showlakes\":true,\"showland\":true,\"subunitcolor\":\"white\"},\"hoverlabel\":{\"align\":\"left\"},\"hovermode\":\"closest\",\"paper_bgcolor\":\"white\",\"plot_bgcolor\":\"rgb(234,234,242)\",\"polar\":{\"angularaxis\":{\"gridcolor\":\"white\",\"linecolor\":\"white\",\"showgrid\":true,\"ticks\":\"\"},\"bgcolor\":\"rgb(234,234,242)\",\"radialaxis\":{\"gridcolor\":\"white\",\"linecolor\":\"white\",\"showgrid\":true,\"ticks\":\"\"}},\"scene\":{\"xaxis\":{\"backgroundcolor\":\"rgb(234,234,242)\",\"gridcolor\":\"white\",\"gridwidth\":2,\"linecolor\":\"white\",\"showbackground\":true,\"showgrid\":true,\"ticks\":\"\",\"zerolinecolor\":\"white\"},\"yaxis\":{\"backgroundcolor\":\"rgb(234,234,242)\",\"gridcolor\":\"white\",\"gridwidth\":2,\"linecolor\":\"white\",\"showbackground\":true,\"showgrid\":true,\"ticks\":\"\",\"zerolinecolor\":\"white\"},\"zaxis\":{\"backgroundcolor\":\"rgb(234,234,242)\",\"gridcolor\":\"white\",\"gridwidth\":2,\"linecolor\":\"white\",\"showbackground\":true,\"showgrid\":true,\"ticks\":\"\",\"zerolinecolor\":\"white\"}},\"shapedefaults\":{\"fillcolor\":\"rgb(67,103,167)\",\"line\":{\"width\":0},\"opacity\":0.5},\"ternary\":{\"aaxis\":{\"gridcolor\":\"white\",\"linecolor\":\"white\",\"showgrid\":true,\"ticks\":\"\"},\"baxis\":{\"gridcolor\":\"white\",\"linecolor\":\"white\",\"showgrid\":true,\"ticks\":\"\"},\"bgcolor\":\"rgb(234,234,242)\",\"caxis\":{\"gridcolor\":\"white\",\"linecolor\":\"white\",\"showgrid\":true,\"ticks\":\"\"}},\"xaxis\":{\"automargin\":true,\"gridcolor\":\"white\",\"linecolor\":\"white\",\"showgrid\":true,\"ticks\":\"\",\"title\":{\"standoff\":15},\"zerolinecolor\":\"white\"},\"yaxis\":{\"automargin\":true,\"gridcolor\":\"white\",\"linecolor\":\"white\",\"showgrid\":true,\"ticks\":\"\",\"title\":{\"standoff\":15},\"zerolinecolor\":\"white\"}}}},                        {\"responsive\": true}                    ).then(function(){\n",
       "                            \n",
       "var gd = document.getElementById('ddb538b6-746a-40a4-9404-e2313a1e1d05');\n",
       "var x = new MutationObserver(function (mutations, observer) {{\n",
       "        var display = window.getComputedStyle(gd).display;\n",
       "        if (!display || display === 'none') {{\n",
       "            console.log([gd, 'removed!']);\n",
       "            Plotly.purge(gd);\n",
       "            observer.disconnect();\n",
       "        }}\n",
       "}});\n",
       "\n",
       "// Listen for the removal of the full notebook cells\n",
       "var notebookContainer = gd.closest('#notebook-container');\n",
       "if (notebookContainer) {{\n",
       "    x.observe(notebookContainer, {childList: true});\n",
       "}}\n",
       "\n",
       "// Listen for the clearing of the current output cell\n",
       "var outputEl = gd.closest('.output');\n",
       "if (outputEl) {{\n",
       "    x.observe(outputEl, {childList: true});\n",
       "}}\n",
       "\n",
       "                        })                };            </script>        </div>"
      ]
     },
     "metadata": {},
     "output_type": "display_data"
    },
    {
     "data": {
      "application/vnd.plotly.v1+json": {
       "config": {
        "plotlyServerURL": "https://plot.ly"
       },
       "data": [
        {
         "type": "surface",
         "z": {
          "bdata": "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",
          "dtype": "f8",
          "shape": "25, 25"
         }
        }
       ],
       "layout": {
        "height": 500,
        "template": {
         "data": {
          "bar": [
           {
            "error_x": {
             "color": "rgb(36,36,36)"
            },
            "error_y": {
             "color": "rgb(36,36,36)"
            },
            "marker": {
             "line": {
              "color": "white",
              "width": 0.5
             },
             "pattern": {
              "fillmode": "overlay",
              "size": 10,
              "solidity": 0.2
             }
            },
            "type": "bar"
           }
          ],
          "barpolar": [
           {
            "marker": {
             "line": {
              "color": "white",
              "width": 0.5
             },
             "pattern": {
              "fillmode": "overlay",
              "size": 10,
              "solidity": 0.2
             }
            },
            "type": "barpolar"
           }
          ],
          "carpet": [
           {
            "aaxis": {
             "endlinecolor": "rgb(36,36,36)",
             "gridcolor": "white",
             "linecolor": "white",
             "minorgridcolor": "white",
             "startlinecolor": "rgb(36,36,36)"
            },
            "baxis": {
             "endlinecolor": "rgb(36,36,36)",
             "gridcolor": "white",
             "linecolor": "white",
             "minorgridcolor": "white",
             "startlinecolor": "rgb(36,36,36)"
            },
            "type": "carpet"
           }
          ],
          "choropleth": [
           {
            "colorbar": {
             "outlinewidth": 1,
             "tickcolor": "rgb(36,36,36)",
             "ticks": "outside"
            },
            "type": "choropleth"
           }
          ],
          "contour": [
           {
            "colorbar": {
             "outlinewidth": 1,
             "tickcolor": "rgb(36,36,36)",
             "ticks": "outside"
            },
            "colorscale": [
             [
              0,
              "#440154"
             ],
             [
              0.1111111111111111,
              "#482878"
             ],
             [
              0.2222222222222222,
              "#3e4989"
             ],
             [
              0.3333333333333333,
              "#31688e"
             ],
             [
              0.4444444444444444,
              "#26828e"
             ],
             [
              0.5555555555555556,
              "#1f9e89"
             ],
             [
              0.6666666666666666,
              "#35b779"
             ],
             [
              0.7777777777777778,
              "#6ece58"
             ],
             [
              0.8888888888888888,
              "#b5de2b"
             ],
             [
              1,
              "#fde725"
             ]
            ],
            "type": "contour"
           }
          ],
          "contourcarpet": [
           {
            "colorbar": {
             "outlinewidth": 1,
             "tickcolor": "rgb(36,36,36)",
             "ticks": "outside"
            },
            "type": "contourcarpet"
           }
          ],
          "heatmap": [
           {
            "colorbar": {
             "outlinewidth": 1,
             "tickcolor": "rgb(36,36,36)",
             "ticks": "outside"
            },
            "colorscale": [
             [
              0,
              "#440154"
             ],
             [
              0.1111111111111111,
              "#482878"
             ],
             [
              0.2222222222222222,
              "#3e4989"
             ],
             [
              0.3333333333333333,
              "#31688e"
             ],
             [
              0.4444444444444444,
              "#26828e"
             ],
             [
              0.5555555555555556,
              "#1f9e89"
             ],
             [
              0.6666666666666666,
              "#35b779"
             ],
             [
              0.7777777777777778,
              "#6ece58"
             ],
             [
              0.8888888888888888,
              "#b5de2b"
             ],
             [
              1,
              "#fde725"
             ]
            ],
            "type": "heatmap"
           }
          ],
          "histogram": [
           {
            "marker": {
             "line": {
              "color": "white",
              "width": 0.6
             }
            },
            "type": "histogram"
           }
          ],
          "histogram2d": [
           {
            "colorbar": {
             "outlinewidth": 1,
             "tickcolor": "rgb(36,36,36)",
             "ticks": "outside"
            },
            "colorscale": [
             [
              0,
              "#440154"
             ],
             [
              0.1111111111111111,
              "#482878"
             ],
             [
              0.2222222222222222,
              "#3e4989"
             ],
             [
              0.3333333333333333,
              "#31688e"
             ],
             [
              0.4444444444444444,
              "#26828e"
             ],
             [
              0.5555555555555556,
              "#1f9e89"
             ],
             [
              0.6666666666666666,
              "#35b779"
             ],
             [
              0.7777777777777778,
              "#6ece58"
             ],
             [
              0.8888888888888888,
              "#b5de2b"
             ],
             [
              1,
              "#fde725"
             ]
            ],
            "type": "histogram2d"
           }
          ],
          "histogram2dcontour": [
           {
            "colorbar": {
             "outlinewidth": 1,
             "tickcolor": "rgb(36,36,36)",
             "ticks": "outside"
            },
            "colorscale": [
             [
              0,
              "#440154"
             ],
             [
              0.1111111111111111,
              "#482878"
             ],
             [
              0.2222222222222222,
              "#3e4989"
             ],
             [
              0.3333333333333333,
              "#31688e"
             ],
             [
              0.4444444444444444,
              "#26828e"
             ],
             [
              0.5555555555555556,
              "#1f9e89"
             ],
             [
              0.6666666666666666,
              "#35b779"
             ],
             [
              0.7777777777777778,
              "#6ece58"
             ],
             [
              0.8888888888888888,
              "#b5de2b"
             ],
             [
              1,
              "#fde725"
             ]
            ],
            "type": "histogram2dcontour"
           }
          ],
          "mesh3d": [
           {
            "colorbar": {
             "outlinewidth": 1,
             "tickcolor": "rgb(36,36,36)",
             "ticks": "outside"
            },
            "type": "mesh3d"
           }
          ],
          "parcoords": [
           {
            "line": {
             "colorbar": {
              "outlinewidth": 1,
              "tickcolor": "rgb(36,36,36)",
              "ticks": "outside"
             }
            },
            "type": "parcoords"
           }
          ],
          "pie": [
           {
            "automargin": true,
            "type": "pie"
           }
          ],
          "scatter": [
           {
            "fillpattern": {
             "fillmode": "overlay",
             "size": 10,
             "solidity": 0.2
            },
            "type": "scatter"
           }
          ],
          "scatter3d": [
           {
            "line": {
             "colorbar": {
              "outlinewidth": 1,
              "tickcolor": "rgb(36,36,36)",
              "ticks": "outside"
             }
            },
            "marker": {
             "colorbar": {
              "outlinewidth": 1,
              "tickcolor": "rgb(36,36,36)",
              "ticks": "outside"
             }
            },
            "type": "scatter3d"
           }
          ],
          "scattercarpet": [
           {
            "marker": {
             "colorbar": {
              "outlinewidth": 1,
              "tickcolor": "rgb(36,36,36)",
              "ticks": "outside"
             }
            },
            "type": "scattercarpet"
           }
          ],
          "scattergeo": [
           {
            "marker": {
             "colorbar": {
              "outlinewidth": 1,
              "tickcolor": "rgb(36,36,36)",
              "ticks": "outside"
             }
            },
            "type": "scattergeo"
           }
          ],
          "scattergl": [
           {
            "marker": {
             "colorbar": {
              "outlinewidth": 1,
              "tickcolor": "rgb(36,36,36)",
              "ticks": "outside"
             }
            },
            "type": "scattergl"
           }
          ],
          "scattermap": [
           {
            "marker": {
             "colorbar": {
              "outlinewidth": 1,
              "tickcolor": "rgb(36,36,36)",
              "ticks": "outside"
             }
            },
            "type": "scattermap"
           }
          ],
          "scattermapbox": [
           {
            "marker": {
             "colorbar": {
              "outlinewidth": 1,
              "tickcolor": "rgb(36,36,36)",
              "ticks": "outside"
             }
            },
            "type": "scattermapbox"
           }
          ],
          "scatterpolar": [
           {
            "marker": {
             "colorbar": {
              "outlinewidth": 1,
              "tickcolor": "rgb(36,36,36)",
              "ticks": "outside"
             }
            },
            "type": "scatterpolar"
           }
          ],
          "scatterpolargl": [
           {
            "marker": {
             "colorbar": {
              "outlinewidth": 1,
              "tickcolor": "rgb(36,36,36)",
              "ticks": "outside"
             }
            },
            "type": "scatterpolargl"
           }
          ],
          "scatterternary": [
           {
            "marker": {
             "colorbar": {
              "outlinewidth": 1,
              "tickcolor": "rgb(36,36,36)",
              "ticks": "outside"
             }
            },
            "type": "scatterternary"
           }
          ],
          "surface": [
           {
            "colorbar": {
             "outlinewidth": 1,
             "tickcolor": "rgb(36,36,36)",
             "ticks": "outside"
            },
            "colorscale": [
             [
              0,
              "#440154"
             ],
             [
              0.1111111111111111,
              "#482878"
             ],
             [
              0.2222222222222222,
              "#3e4989"
             ],
             [
              0.3333333333333333,
              "#31688e"
             ],
             [
              0.4444444444444444,
              "#26828e"
             ],
             [
              0.5555555555555556,
              "#1f9e89"
             ],
             [
              0.6666666666666666,
              "#35b779"
             ],
             [
              0.7777777777777778,
              "#6ece58"
             ],
             [
              0.8888888888888888,
              "#b5de2b"
             ],
             [
              1,
              "#fde725"
             ]
            ],
            "type": "surface"
           }
          ],
          "table": [
           {
            "cells": {
             "fill": {
              "color": "rgb(237,237,237)"
             },
             "line": {
              "color": "white"
             }
            },
            "header": {
             "fill": {
              "color": "rgb(217,217,217)"
             },
             "line": {
              "color": "white"
             }
            },
            "type": "table"
           }
          ]
         },
         "layout": {
          "annotationdefaults": {
           "arrowhead": 0,
           "arrowwidth": 1
          },
          "autotypenumbers": "strict",
          "coloraxis": {
           "colorbar": {
            "outlinewidth": 1,
            "tickcolor": "rgb(36,36,36)",
            "ticks": "outside"
           }
          },
          "colorscale": {
           "diverging": [
            [
             0,
             "rgb(103,0,31)"
            ],
            [
             0.1,
             "rgb(178,24,43)"
            ],
            [
             0.2,
             "rgb(214,96,77)"
            ],
            [
             0.3,
             "rgb(244,165,130)"
            ],
            [
             0.4,
             "rgb(253,219,199)"
            ],
            [
             0.5,
             "rgb(247,247,247)"
            ],
            [
             0.6,
             "rgb(209,229,240)"
            ],
            [
             0.7,
             "rgb(146,197,222)"
            ],
            [
             0.8,
             "rgb(67,147,195)"
            ],
            [
             0.9,
             "rgb(33,102,172)"
            ],
            [
             1,
             "rgb(5,48,97)"
            ]
           ],
           "sequential": [
            [
             0,
             "#440154"
            ],
            [
             0.1111111111111111,
             "#482878"
            ],
            [
             0.2222222222222222,
             "#3e4989"
            ],
            [
             0.3333333333333333,
             "#31688e"
            ],
            [
             0.4444444444444444,
             "#26828e"
            ],
            [
             0.5555555555555556,
             "#1f9e89"
            ],
            [
             0.6666666666666666,
             "#35b779"
            ],
            [
             0.7777777777777778,
             "#6ece58"
            ],
            [
             0.8888888888888888,
             "#b5de2b"
            ],
            [
             1,
             "#fde725"
            ]
           ],
           "sequentialminus": [
            [
             0,
             "#440154"
            ],
            [
             0.1111111111111111,
             "#482878"
            ],
            [
             0.2222222222222222,
             "#3e4989"
            ],
            [
             0.3333333333333333,
             "#31688e"
            ],
            [
             0.4444444444444444,
             "#26828e"
            ],
            [
             0.5555555555555556,
             "#1f9e89"
            ],
            [
             0.6666666666666666,
             "#35b779"
            ],
            [
             0.7777777777777778,
             "#6ece58"
            ],
            [
             0.8888888888888888,
             "#b5de2b"
            ],
            [
             1,
             "#fde725"
            ]
           ]
          },
          "colorway": [
           "#1F77B4",
           "#FF7F0E",
           "#2CA02C",
           "#D62728",
           "#9467BD",
           "#8C564B",
           "#E377C2",
           "#7F7F7F",
           "#BCBD22",
           "#17BECF"
          ],
          "font": {
           "color": "rgb(36,36,36)"
          },
          "geo": {
           "bgcolor": "white",
           "lakecolor": "white",
           "landcolor": "white",
           "showlakes": true,
           "showland": true,
           "subunitcolor": "white"
          },
          "hoverlabel": {
           "align": "left"
          },
          "hovermode": "closest",
          "mapbox": {
           "style": "light"
          },
          "paper_bgcolor": "white",
          "plot_bgcolor": "white",
          "polar": {
           "angularaxis": {
            "gridcolor": "rgb(232,232,232)",
            "linecolor": "rgb(36,36,36)",
            "showgrid": false,
            "showline": true,
            "ticks": "outside"
           },
           "bgcolor": "white",
           "radialaxis": {
            "gridcolor": "rgb(232,232,232)",
            "linecolor": "rgb(36,36,36)",
            "showgrid": false,
            "showline": true,
            "ticks": "outside"
           }
          },
          "scene": {
           "xaxis": {
            "backgroundcolor": "white",
            "gridcolor": "rgb(232,232,232)",
            "gridwidth": 2,
            "linecolor": "rgb(36,36,36)",
            "showbackground": true,
            "showgrid": false,
            "showline": true,
            "ticks": "outside",
            "zeroline": false,
            "zerolinecolor": "rgb(36,36,36)"
           },
           "yaxis": {
            "backgroundcolor": "white",
            "gridcolor": "rgb(232,232,232)",
            "gridwidth": 2,
            "linecolor": "rgb(36,36,36)",
            "showbackground": true,
            "showgrid": false,
            "showline": true,
            "ticks": "outside",
            "zeroline": false,
            "zerolinecolor": "rgb(36,36,36)"
           },
           "zaxis": {
            "backgroundcolor": "white",
            "gridcolor": "rgb(232,232,232)",
            "gridwidth": 2,
            "linecolor": "rgb(36,36,36)",
            "showbackground": true,
            "showgrid": false,
            "showline": true,
            "ticks": "outside",
            "zeroline": false,
            "zerolinecolor": "rgb(36,36,36)"
           }
          },
          "shapedefaults": {
           "fillcolor": "black",
           "line": {
            "width": 0
           },
           "opacity": 0.3
          },
          "ternary": {
           "aaxis": {
            "gridcolor": "rgb(232,232,232)",
            "linecolor": "rgb(36,36,36)",
            "showgrid": false,
            "showline": true,
            "ticks": "outside"
           },
           "baxis": {
            "gridcolor": "rgb(232,232,232)",
            "linecolor": "rgb(36,36,36)",
            "showgrid": false,
            "showline": true,
            "ticks": "outside"
           },
           "bgcolor": "white",
           "caxis": {
            "gridcolor": "rgb(232,232,232)",
            "linecolor": "rgb(36,36,36)",
            "showgrid": false,
            "showline": true,
            "ticks": "outside"
           }
          },
          "title": {
           "x": 0.05
          },
          "xaxis": {
           "automargin": true,
           "gridcolor": "rgb(232,232,232)",
           "linecolor": "rgb(36,36,36)",
           "showgrid": false,
           "showline": true,
           "ticks": "outside",
           "title": {
            "standoff": 15
           },
           "zeroline": false,
           "zerolinecolor": "rgb(36,36,36)"
          },
          "yaxis": {
           "automargin": true,
           "gridcolor": "rgb(232,232,232)",
           "linecolor": "rgb(36,36,36)",
           "showgrid": false,
           "showline": true,
           "ticks": "outside",
           "title": {
            "standoff": 15
           },
           "zeroline": false,
           "zerolinecolor": "rgb(36,36,36)"
          }
         }
        },
        "title": {
         "text": "Mt Bruno Elevation: 'simple_white' theme"
        },
        "width": 500
       }
      },
      "text/html": [
       "<div>            <script src=\"https://cdnjs.cloudflare.com/ajax/libs/mathjax/2.7.5/MathJax.js?config=TeX-AMS-MML_SVG\"></script><script type=\"text/javascript\">if (window.MathJax && window.MathJax.Hub && window.MathJax.Hub.Config) {window.MathJax.Hub.Config({SVG: {font: \"STIX-Web\"}});}</script>                <script type=\"text/javascript\">window.PlotlyConfig = {MathJaxConfig: 'local'};</script>\n",
       "        <script charset=\"utf-8\" src=\"https://cdn.plot.ly/plotly-3.0.1.min.js\"></script>                <div id=\"6a6f3a67-62d8-4c70-b194-654d13277069\" class=\"plotly-graph-div\" style=\"height:500px; width:500px;\"></div>            <script type=\"text/javascript\">                window.PLOTLYENV=window.PLOTLYENV || {};                                if (document.getElementById(\"6a6f3a67-62d8-4c70-b194-654d13277069\")) {                    Plotly.newPlot(                        \"6a6f3a67-62d8-4c70-b194-654d13277069\",                        [{\"z\":{\"dtype\":\"f8\",\"bdata\":\"AAAAAAAAAABlqmBUUs87QKw5QDBHz0hALPGAsinFVEBDrWnecSpdQGiR7Xw\\u002fTWBA7C+7Jw\\u002fXYkCcoiO5\\u002fIVrQE0VjErqhGNAoyO5\\u002fIeUYkDJdr6fGnlpQAU0ETY8wWlAih9j7lrKWkCLbOf7qRdRQPtcbcX+qkZAM9yAzw\\u002f7SEAjMqzijeQ1QNhkjXqIBjFAlLw6x4B8J0CMLQQ5KIEtQL1SliGOVStAIy4AjdK1FkBy3CkdrH8KQNxJRPgXgfI\\u002fcVRuopbmwr8AAAAAAADwP0c9RKM7uDtAdc3km21GSEA2donqrU1QQCEHJcy00VdAAG+BBMU\\u002fXUA+6Nms+rxgQKUsQxzrCmNA2c73U+P9YkB24JwRpQNkQInS3uALcWZAFvvL7slzYkACmggbnkxlQOqVsgxxdF5Angd3Z+1KSkABamrZWotAQDFCeLRxNENAMqzijcwfRkDMXUvIB2VRQGCUoL\\u002fQExBA7x6g+3JmCEAUPfAxWFEIQFJgAUwZ+AdAU0Kwql6+B0D4cTRHVv7\\u002fPwAAAAAAAABABTQRNjxtPkDMlxdgH71AQMGQ1a2eZ0ZAG55eKcs8T0A9D+7O2ltTQAu1pnnHDVpAs3vysFCvWUBkXdxGAyBhQCBj7lpCQmdAqmBUUidqa0DufD81XrhmQIqw4emVOl5AHVpkO9\\u002flYUBkIxCv65lUQLH5uDZUPEhAQNmUK7ytUkBrmnecogtOQOzAOSNKSxxANQ2K5gFcGEDY8PRKWSYaQFT83xEVqhpAChFwCFU6HUDfiVkvhvIWQPKxu0BJAQ1AAAAAAAAACECm0HmNXaowQHlYqDXNGz5Asmg6Oxn8Q0DP91PjpQ9GQESjO4idyU1AJvxSP29kU0CF61G4HrlaQCQofoy50WRAryXkg57nZUBeukkMAilnQHEbDeAtUGNArfpcbcXCVEBXlX1XBE9PQDyInSl0Kk9AnZ0MjpJHTkAu4jsx6\\u002fVLQJzhBnx+WC5Asp\\u002fFUiR\\u002fIEDsaYe\\u002fJldCQDMbZJKR905AlGqfjsdENEBkdavnpCVRQOS9amXCP0dAycwFLo81zj8AAAAAAAAQQI4fKo2YoSFAC0YldQJaMkB+jLlrCVEhQPW52or9lTtAh8Q9lj5QSEClg\\u002fV\\u002fDhdOQMxdS8gH1VZAP1dbsb82YkBxGw3gLQRdQH6MuWsJkVpAZoNMMnIsUUCTV+cYkI1KQKbVkLjH9kJAbZBJRs76R0DtKqT8pLZHQJCIKZFETVFAmRJJ9DJ6RkCk5NU5Biw9QF\\u002fv\\u002fniv6jFADJOpglFBMEBWKxN+qU8tQBhDOdGuQjFAxf6ye\\u002fI4P0BA9nr3x1tHQAAAAAAAABRAmE2AYfmDGkCk\\u002fKTap9MkQGCrBIvD0ThAglZgyOoWOkAMAiuHFik+QMhBCTNtJ0pAuvdwyXEtUEBZaVIKuhNTQFsIclDCKFVAlrIMcazbWEAYYB+dukJPQCMVxhaCaEdAC2MLQQ7iS0BYqDXNO5pUQApoImx4iGFAO8eA7PVQVECY+nlTkTpMQHmvWpnwaz5AfSJPkq5JMUDZl2w82JogQPM5d7te2gdAFqHYCpqWBUAZxt0gWosXQNl6hnDMEhVAAAAAAAAAGEDl0CLb+dY1QHRBfcucjhpAVFInoIn4MkCnXOFdLnJAQCXpmsk3k0VAoP1IERluT0CfPCzUmipaQHo2qz5XR2BAPE7RkVy2XEDQ1VbsL79aQC3saYe\\u002f8k5AHuG04EXHS0CrlQm\\u002f1LNVQJLoZRTLUVZAEOm3rwObXkBL6gQ0Ef5eQBKlvcEXRltAba0vEtqaWEDQDyOER2dTQG1zY3rCPkBA8KKvIM1YLUCWsgxxrHsdQMQXmqkYAKM\\u002frQoe8AqO5D8AAAAAAAAcQADGM2joq0pAajANw0fMOkB0QX3LnI4aQPQyiuWWxiVAak3zjlM0MUDzqzlAMBdMQJfFxObj7FNAw9MrZRm2VkDByqFFtpFYQCeDo+TVN1RASZ2AJsKyUkCpaoKo++JSQJyiI7n8W1JACObo8XuHUkCBBMWPMQtRQK0XQznRHkdA3IDPDyP4Q0BWmpSCbjc\\u002fQPd14JwRcUJArBxaZDsDREDWxW00gFtdQJzc71AUaClAghspWySt+z8AAAAAAAAAAAAAAAAAACBANKK0N\\u002fiqOUD6J7hYUYdPQIenV8oyJDZAbef7qfESMUAziuWWVt9EQEnXTL7ZIk5AesISDyhbVEAj2\\u002fl+apxcQLHh6ZWylFlAfPKwUGtyWUBEi2zn+8FbQF8pyxDHzl1AjLlrCfmEXECL\\u002fWX35KFbQAYSFD\\u002fGmE1AqvHSTWI8RUD20akrn0UtQP8DrFW7xhtAguLHmLvGG0A57pQO1r87QAAAAAAAAAAAAAAAAAAAAABRRuA4vjC4P3BWCqJqy7M\\u002fAAAAAAAAIkCBlUOLbKcpQEWBPpEnTVFAkpGzsKdhR0AgKSLDKu4rQMSUSKKX8UBASx+6oL7pTkAL73IR3y9VQCuHFtnOR15ArfpcbcUoYkDr4jYawCVjQP7UeOkmmWlA097gC5N9bEDLEMe6uIltQARWDi2yi2xAeekmMQjWU0DXUdUEUe85QP8DrFW7xhtA\\u002fwOsVbvGG0CC4seYu8YbQJOq7Sb4Nh5AAAAAAAAAAAAAAAAAAAAAAAAAAAAAAAAAAAAAAAAAAAAAAAAAAAAkQAAAAAAAAAAAinYVUn4qUUAhsHJokYVNQKAy\\u002fn3GrUBAxHx5Afa5R0Bt5\\u002fup8epMQOIBZVOuulNAKVyPwvX0WkBn1edqKwBlQBQ\\u002fxty1XmBA1lbsL7uRakD1udqK\\u002fblkQFmGONbFR2pAwTkjSnulZkCfq63YX7hnQNcS8kHPKmFAB84ZUdopVUCjy5vDtVohQNKNsKiI0xtAGvm84qnvIEAAAAAAAAAAAAAAAAAAAAAAAAAAAAAAAAAAAAAAAAAAAAAAAAAAACZAAAAAAAAAAAAhyEEJM8tXQB\\u002fXhopxAlRACcTr+gXzTUAmAWpq2cpDQLL0oQvqI0lATRB1H4DoT0DQ8jy4OydUQICCixU1mFBAbcX+snvYaEC+MJkqGItuQH3Qs1n1Y3JADeAtkKCFcEBFR3L5Dw1mQIDxDBr6G05ABoGVQ4taU0BSRIZVvJVKQKlqgqj7FExAzt+EQgTMG0Bh\\u002fDTuzR8eQCy7YHDNPQ5AAAAAAAAAAAAAAAAAAAAAAAAAAAAAAAAAAAAAAAAAKEAAAAAAAAAAAP32deCc32BAQBNhw9NLYEBoke18PzdYQBppqbwd7VJAZhTLLa1uTUCLcf4mFJpMQBXGFoIcmEtA1XjpJjGIU0AkKH6MuSNbQFUwKqkTTGNAseHplbLyc0Aydy0hH053QJzEILByN3FA1QloImxIYEAAOsyXF3hLQPPlBdhHfzlAIhyz7EkYIEDNBS6PNSsgQMIxy54EdhRAAJATJoy2FkAAAAAAAAAAAAAAAAAAAAAAAAAAAAAAAAAAAAAAAAAqQAAAAAAAAAAArJDyk2oLSEC94xQdydFhQGB2Tx4WjGFABTQRNjxXY0BHcvkP6ftVQHU8ZqAyDk1Aur2kMVprSkA9J71vfMlQQHSYLy\\u002fA6lRApb3BFya7XUBxGw3gLcJiQPs6cM6ID3FAI0p7gy9SdUBoke18P9VtQGZmZmZmxmdABTQRNjw5XUDJk6RrJt9WQCsYldQJCCxA\\u002fZ\\u002fDfHklRUDCMcueBHYUQAAAAAAAAAAAAAAAAAAAAAAAAAAAAAAAAAAAAAAAACxAAAAAAAAAAACpE9BE2BhLQOcdp+hITGJADVTGv8\\u002feWEDmdFlMbAxYQA3gLZCgvFlAV5V9VwQJU0C\\u002ffR04Z+RMQEymCkYlhUdAU9DtJY0XUEBhTzv8NQ9VQD7o2az6VmRAKVyPwvVUXkB+HThnRKVqQMHKoUW2h3RAyjLEsS7XcUCu2F92T71xQK5H4XoUmmpAIbByaJGRZECU3je+9hJXQAvvchHf+RxAeekmMQis8j8AAAAAAAAAAAAAAAAAAAAAAAAAAAAALkAAAAAAAAAAAGXjwRa7rRtAXdxGA3hlaEDXEvJBz5BgQMx\\u002fSL9952BAMUJ4tHF2VkDsaYe\\u002fJl1WQNHLKJZbJk5A+grSjEUrSUDt0\\u002fGYgZZDQOI7MevFiE1A7PoFu2GhUkDWc9L7xjtVQD0s1JrmY2dA7lpCPuj9XkCMuWsJ+exZQGQ730+NH2BAdQKaCBukZEAmUwWjkjZvQD1hiQeU2VdAxT2WPnQBJEDAWyBB8SMDQAAAAAAAAAAAAAAAAAAAAAAAAAAAAAAwQAAAAAAAAAAAaTo7GRy9NUDNO07RkcheQCQofoy5F2ZAvw6cM6LIY0DsUbgehSdhQABvgQTFU1pAbcX+snuoVUDCo40j1o5KQIv9ZffkCT1AHSCYo8dnPkDKbJBJRoZDQH3Qs1n1nUhAOnr83qajT0Dl0CLb+dpbQD\\u002fG3LWETFlAmrFoOjsBREBj7lpCPuxNQAIOoUrNoFJAVWr2QCsQMUCcMGE0K3sDQChjfJi9TAJAH7Xm39fVN78AAAAAAAAAAAAAAAAAADFAAAAAAAAAAAAAAAAAAAAAANkIxOv6BU9A9bnaiv0JYUDvOEVHcjlpQEp7gy9MBGVAvjCZKhjNV0DcKR2s\\u002f3NNQFw9J71veEdAH0sfuqCiSECTxmgdVY1CQMaFAyFZ+DFAR1UTRN3vPkADste7P7JAQFXZd0XwA0ZAmBdgH53SS0AOMsnIWY5TQEImGTkL2yxAZY7lXfXoI0C9cr1tphIfQAWjkjoBDSpAl8rbEU67NUC2FJD2P0ABQBNUnoplBOE\\u002fAAAAAAAAMkAAAAAAAAAAAAAAAAAAAAAAPDHrxVDoU0DDZKpgVHZhQNNNYhBYpWVA5BQdyeUbaEDaG3xhMotoQFfsL7snFWJAbVZ9rraiWkDF5uPaUJVMQPEuF\\u002fGdlERAqtTsgVYQQEDYgXNGlLYrQC7FVWXf1SVA+KqVCb8kKEBuaTUk7mE2QOPHmLuWuDhA6KBLOPQ2G0CjyFpDqc0QQADjGTT0dzBAtcNfkzVqL0As8YCyKftAQHHMsieBTR5Aj93LnoD9qL8AAAAAAAAzQAAAAAAAAAAAAAAAAAAAAADD0ytlGaJAQPFL\\u002fbypxExAE2HD0yvnZEAFxY8xd49oQMx\\u002fSL99WWhAINJvXwfGZkC4rwPnjOxdQLq9pDFaQVJA7YFWYMguSECr56T3jd9AQOm3rwPnPDpAQYLix5hbMEAZ5ZmXwz4bQHRBfcucjhpA9x+ZDp2OGkAa+bziqe8gQLX7VYDvxhhAGof6Xdi6DEBpjNZR1YQOQA7d7A+UMyFAjq89syTgFEAAAAAAAAAAAAAAAAAAADRAAAAAAAAAAAAAAAAAAAAAAMh71cqExz1AhnKiXYV8S0DdJAaBlRliQKs+V1ux72lAl\\u002f+QfvuqZEAeFmpN82xlQMx\\u002fSL993WVAzH9Iv30RWUC693DJcbtOQHgoCvSJGElAIlSp2QMVOkA7\\u002fDVZoy4xQBr5vOKp7yBAdEF9y5yOGkBsXWqEflYZQGxdaoR+VhlAZKw2\\u002f6+qFkALfhtivBYRQAAAAAAAAAAAAAAAAAAAAAAAAAAAAAAAAAAAAAAAAAAAAAAAAAAANUAAAAAAAAAAAAAAAAAAAAAAYhBYObRoP0CIhVrTvJdgQF+YTBWMMmdA07zjFB11XkCYTBWMSixnQLfRAN4CFWRAU5YhjnUJXUCQoPgx5oZdQNqs+lxtuWFAAz4\\u002fjBBkUEAWhzO\\u002fmmtIQN3qOel9IzdA\\u002freSHRshMkCLcf4mFJIkQOGaO\\u002fpfHhhAChNGs7ItGECpwMk2cMcWQJq2f2Wl6Q1AMQxYchUrD0AAAAAAAAAAAAAAAAAAAAAAAAAAAAAAAAAAAAAAAAA2QAAAAAAAAAAAAAAAAAAAAAAsms5OBpczQLRZ9bnaJkVAZTbIJCMRWEASFD\\u002fG3GNnQIxK6gQ0dWZAY3\\u002fZPXmsa0Cfq63YX0hjQOlILv8hxWFA4zYawFuSYkCM+E7MestQQNXsgVZgWERAOsyXF2DfQ0C1T8djBho6QIBlpUkp+CxAxcn9DkVRIUAxDFhyFSsPQHmRCfg1kgxAMQxYchUrD0AxDFhyFSsPQDEMWHIVKw9AnBVRE30+8T8AAAAAAAAAAAAAAAAAADdATKW7xaUlVD+46jpUUxIIQBAEyNCxoxdAuCOcFrzAQED+ZffkYRVaQLByaJHtBmNAPE7RkVzGaED0\\u002fdR46fpnQJM6AU2El2xAb\\u002fCFyVQDZUDtnjws1AhiQI9TdCSXr1tA7DTSUnnTTEBv05\\u002f9SFFFQKX3ja896ztANbVsrS\\u002fSLkD6er5muRwgQAzIXu\\u002f+OA9ABfhu88YJD0CimLwBZn4PQG1Zvi7Dvw9A4MjyZO2lvz+sjbETXuIPQNFB8ilbf8e\\u002fAAAAAAAAOEAAAAAAAAAAACu9NhsrgRZAJuXuc3y0HkB4uYjvxJRPQPLqHAOy\\u002f0ZAajANw0fkU0DLoUW282lsQHL5D+m3fWlAklz+Q\\u002fqRZUCbVZ+rrSRmQCZTBaOSjmFACKwcWmT\\u002fXkCgGi\\u002fdJJZbQG5MT1jiR1BAd9Zuu9AoQUAs1JrmHYc4QE6Zm29EHyNAe6Lrwg+uCkBbzqW4qlwWQBFuMqoM8xVAlPqytFOjF0BPrimQ2XkXQDRlpx\\u002fUVRdAE7cKYqCLDEA=\",\"shape\":\"25, 25\"},\"type\":\"surface\"}],                        {\"height\":500,\"title\":{\"text\":\"Mt Bruno Elevation: 'simple_white' theme\"},\"width\":500,\"template\":{\"data\":{\"barpolar\":[{\"marker\":{\"line\":{\"color\":\"white\",\"width\":0.5},\"pattern\":{\"fillmode\":\"overlay\",\"size\":10,\"solidity\":0.2}},\"type\":\"barpolar\"}],\"bar\":[{\"error_x\":{\"color\":\"rgb(36,36,36)\"},\"error_y\":{\"color\":\"rgb(36,36,36)\"},\"marker\":{\"line\":{\"color\":\"white\",\"width\":0.5},\"pattern\":{\"fillmode\":\"overlay\",\"size\":10,\"solidity\":0.2}},\"type\":\"bar\"}],\"carpet\":[{\"aaxis\":{\"endlinecolor\":\"rgb(36,36,36)\",\"gridcolor\":\"white\",\"linecolor\":\"white\",\"minorgridcolor\":\"white\",\"startlinecolor\":\"rgb(36,36,36)\"},\"baxis\":{\"endlinecolor\":\"rgb(36,36,36)\",\"gridcolor\":\"white\",\"linecolor\":\"white\",\"minorgridcolor\":\"white\",\"startlinecolor\":\"rgb(36,36,36)\"},\"type\":\"carpet\"}],\"choropleth\":[{\"colorbar\":{\"outlinewidth\":1,\"tickcolor\":\"rgb(36,36,36)\",\"ticks\":\"outside\"},\"type\":\"choropleth\"}],\"contourcarpet\":[{\"colorbar\":{\"outlinewidth\":1,\"tickcolor\":\"rgb(36,36,36)\",\"ticks\":\"outside\"},\"type\":\"contourcarpet\"}],\"contour\":[{\"colorbar\":{\"outlinewidth\":1,\"tickcolor\":\"rgb(36,36,36)\",\"ticks\":\"outside\"},\"colorscale\":[[0.0,\"#440154\"],[0.1111111111111111,\"#482878\"],[0.2222222222222222,\"#3e4989\"],[0.3333333333333333,\"#31688e\"],[0.4444444444444444,\"#26828e\"],[0.5555555555555556,\"#1f9e89\"],[0.6666666666666666,\"#35b779\"],[0.7777777777777778,\"#6ece58\"],[0.8888888888888888,\"#b5de2b\"],[1.0,\"#fde725\"]],\"type\":\"contour\"}],\"heatmap\":[{\"colorbar\":{\"outlinewidth\":1,\"tickcolor\":\"rgb(36,36,36)\",\"ticks\":\"outside\"},\"colorscale\":[[0.0,\"#440154\"],[0.1111111111111111,\"#482878\"],[0.2222222222222222,\"#3e4989\"],[0.3333333333333333,\"#31688e\"],[0.4444444444444444,\"#26828e\"],[0.5555555555555556,\"#1f9e89\"],[0.6666666666666666,\"#35b779\"],[0.7777777777777778,\"#6ece58\"],[0.8888888888888888,\"#b5de2b\"],[1.0,\"#fde725\"]],\"type\":\"heatmap\"}],\"histogram2dcontour\":[{\"colorbar\":{\"outlinewidth\":1,\"tickcolor\":\"rgb(36,36,36)\",\"ticks\":\"outside\"},\"colorscale\":[[0.0,\"#440154\"],[0.1111111111111111,\"#482878\"],[0.2222222222222222,\"#3e4989\"],[0.3333333333333333,\"#31688e\"],[0.4444444444444444,\"#26828e\"],[0.5555555555555556,\"#1f9e89\"],[0.6666666666666666,\"#35b779\"],[0.7777777777777778,\"#6ece58\"],[0.8888888888888888,\"#b5de2b\"],[1.0,\"#fde725\"]],\"type\":\"histogram2dcontour\"}],\"histogram2d\":[{\"colorbar\":{\"outlinewidth\":1,\"tickcolor\":\"rgb(36,36,36)\",\"ticks\":\"outside\"},\"colorscale\":[[0.0,\"#440154\"],[0.1111111111111111,\"#482878\"],[0.2222222222222222,\"#3e4989\"],[0.3333333333333333,\"#31688e\"],[0.4444444444444444,\"#26828e\"],[0.5555555555555556,\"#1f9e89\"],[0.6666666666666666,\"#35b779\"],[0.7777777777777778,\"#6ece58\"],[0.8888888888888888,\"#b5de2b\"],[1.0,\"#fde725\"]],\"type\":\"histogram2d\"}],\"histogram\":[{\"marker\":{\"line\":{\"color\":\"white\",\"width\":0.6}},\"type\":\"histogram\"}],\"mesh3d\":[{\"colorbar\":{\"outlinewidth\":1,\"tickcolor\":\"rgb(36,36,36)\",\"ticks\":\"outside\"},\"type\":\"mesh3d\"}],\"parcoords\":[{\"line\":{\"colorbar\":{\"outlinewidth\":1,\"tickcolor\":\"rgb(36,36,36)\",\"ticks\":\"outside\"}},\"type\":\"parcoords\"}],\"pie\":[{\"automargin\":true,\"type\":\"pie\"}],\"scatter3d\":[{\"line\":{\"colorbar\":{\"outlinewidth\":1,\"tickcolor\":\"rgb(36,36,36)\",\"ticks\":\"outside\"}},\"marker\":{\"colorbar\":{\"outlinewidth\":1,\"tickcolor\":\"rgb(36,36,36)\",\"ticks\":\"outside\"}},\"type\":\"scatter3d\"}],\"scattercarpet\":[{\"marker\":{\"colorbar\":{\"outlinewidth\":1,\"tickcolor\":\"rgb(36,36,36)\",\"ticks\":\"outside\"}},\"type\":\"scattercarpet\"}],\"scattergeo\":[{\"marker\":{\"colorbar\":{\"outlinewidth\":1,\"tickcolor\":\"rgb(36,36,36)\",\"ticks\":\"outside\"}},\"type\":\"scattergeo\"}],\"scattergl\":[{\"marker\":{\"colorbar\":{\"outlinewidth\":1,\"tickcolor\":\"rgb(36,36,36)\",\"ticks\":\"outside\"}},\"type\":\"scattergl\"}],\"scattermapbox\":[{\"marker\":{\"colorbar\":{\"outlinewidth\":1,\"tickcolor\":\"rgb(36,36,36)\",\"ticks\":\"outside\"}},\"type\":\"scattermapbox\"}],\"scattermap\":[{\"marker\":{\"colorbar\":{\"outlinewidth\":1,\"tickcolor\":\"rgb(36,36,36)\",\"ticks\":\"outside\"}},\"type\":\"scattermap\"}],\"scatterpolargl\":[{\"marker\":{\"colorbar\":{\"outlinewidth\":1,\"tickcolor\":\"rgb(36,36,36)\",\"ticks\":\"outside\"}},\"type\":\"scatterpolargl\"}],\"scatterpolar\":[{\"marker\":{\"colorbar\":{\"outlinewidth\":1,\"tickcolor\":\"rgb(36,36,36)\",\"ticks\":\"outside\"}},\"type\":\"scatterpolar\"}],\"scatter\":[{\"fillpattern\":{\"fillmode\":\"overlay\",\"size\":10,\"solidity\":0.2},\"type\":\"scatter\"}],\"scatterternary\":[{\"marker\":{\"colorbar\":{\"outlinewidth\":1,\"tickcolor\":\"rgb(36,36,36)\",\"ticks\":\"outside\"}},\"type\":\"scatterternary\"}],\"surface\":[{\"colorbar\":{\"outlinewidth\":1,\"tickcolor\":\"rgb(36,36,36)\",\"ticks\":\"outside\"},\"colorscale\":[[0.0,\"#440154\"],[0.1111111111111111,\"#482878\"],[0.2222222222222222,\"#3e4989\"],[0.3333333333333333,\"#31688e\"],[0.4444444444444444,\"#26828e\"],[0.5555555555555556,\"#1f9e89\"],[0.6666666666666666,\"#35b779\"],[0.7777777777777778,\"#6ece58\"],[0.8888888888888888,\"#b5de2b\"],[1.0,\"#fde725\"]],\"type\":\"surface\"}],\"table\":[{\"cells\":{\"fill\":{\"color\":\"rgb(237,237,237)\"},\"line\":{\"color\":\"white\"}},\"header\":{\"fill\":{\"color\":\"rgb(217,217,217)\"},\"line\":{\"color\":\"white\"}},\"type\":\"table\"}]},\"layout\":{\"annotationdefaults\":{\"arrowhead\":0,\"arrowwidth\":1},\"autotypenumbers\":\"strict\",\"coloraxis\":{\"colorbar\":{\"outlinewidth\":1,\"tickcolor\":\"rgb(36,36,36)\",\"ticks\":\"outside\"}},\"colorscale\":{\"diverging\":[[0.0,\"rgb(103,0,31)\"],[0.1,\"rgb(178,24,43)\"],[0.2,\"rgb(214,96,77)\"],[0.3,\"rgb(244,165,130)\"],[0.4,\"rgb(253,219,199)\"],[0.5,\"rgb(247,247,247)\"],[0.6,\"rgb(209,229,240)\"],[0.7,\"rgb(146,197,222)\"],[0.8,\"rgb(67,147,195)\"],[0.9,\"rgb(33,102,172)\"],[1.0,\"rgb(5,48,97)\"]],\"sequential\":[[0.0,\"#440154\"],[0.1111111111111111,\"#482878\"],[0.2222222222222222,\"#3e4989\"],[0.3333333333333333,\"#31688e\"],[0.4444444444444444,\"#26828e\"],[0.5555555555555556,\"#1f9e89\"],[0.6666666666666666,\"#35b779\"],[0.7777777777777778,\"#6ece58\"],[0.8888888888888888,\"#b5de2b\"],[1.0,\"#fde725\"]],\"sequentialminus\":[[0.0,\"#440154\"],[0.1111111111111111,\"#482878\"],[0.2222222222222222,\"#3e4989\"],[0.3333333333333333,\"#31688e\"],[0.4444444444444444,\"#26828e\"],[0.5555555555555556,\"#1f9e89\"],[0.6666666666666666,\"#35b779\"],[0.7777777777777778,\"#6ece58\"],[0.8888888888888888,\"#b5de2b\"],[1.0,\"#fde725\"]]},\"colorway\":[\"#1F77B4\",\"#FF7F0E\",\"#2CA02C\",\"#D62728\",\"#9467BD\",\"#8C564B\",\"#E377C2\",\"#7F7F7F\",\"#BCBD22\",\"#17BECF\"],\"font\":{\"color\":\"rgb(36,36,36)\"},\"geo\":{\"bgcolor\":\"white\",\"lakecolor\":\"white\",\"landcolor\":\"white\",\"showlakes\":true,\"showland\":true,\"subunitcolor\":\"white\"},\"hoverlabel\":{\"align\":\"left\"},\"hovermode\":\"closest\",\"mapbox\":{\"style\":\"light\"},\"paper_bgcolor\":\"white\",\"plot_bgcolor\":\"white\",\"polar\":{\"angularaxis\":{\"gridcolor\":\"rgb(232,232,232)\",\"linecolor\":\"rgb(36,36,36)\",\"showgrid\":false,\"showline\":true,\"ticks\":\"outside\"},\"bgcolor\":\"white\",\"radialaxis\":{\"gridcolor\":\"rgb(232,232,232)\",\"linecolor\":\"rgb(36,36,36)\",\"showgrid\":false,\"showline\":true,\"ticks\":\"outside\"}},\"scene\":{\"xaxis\":{\"backgroundcolor\":\"white\",\"gridcolor\":\"rgb(232,232,232)\",\"gridwidth\":2,\"linecolor\":\"rgb(36,36,36)\",\"showbackground\":true,\"showgrid\":false,\"showline\":true,\"ticks\":\"outside\",\"zeroline\":false,\"zerolinecolor\":\"rgb(36,36,36)\"},\"yaxis\":{\"backgroundcolor\":\"white\",\"gridcolor\":\"rgb(232,232,232)\",\"gridwidth\":2,\"linecolor\":\"rgb(36,36,36)\",\"showbackground\":true,\"showgrid\":false,\"showline\":true,\"ticks\":\"outside\",\"zeroline\":false,\"zerolinecolor\":\"rgb(36,36,36)\"},\"zaxis\":{\"backgroundcolor\":\"white\",\"gridcolor\":\"rgb(232,232,232)\",\"gridwidth\":2,\"linecolor\":\"rgb(36,36,36)\",\"showbackground\":true,\"showgrid\":false,\"showline\":true,\"ticks\":\"outside\",\"zeroline\":false,\"zerolinecolor\":\"rgb(36,36,36)\"}},\"shapedefaults\":{\"fillcolor\":\"black\",\"line\":{\"width\":0},\"opacity\":0.3},\"ternary\":{\"aaxis\":{\"gridcolor\":\"rgb(232,232,232)\",\"linecolor\":\"rgb(36,36,36)\",\"showgrid\":false,\"showline\":true,\"ticks\":\"outside\"},\"baxis\":{\"gridcolor\":\"rgb(232,232,232)\",\"linecolor\":\"rgb(36,36,36)\",\"showgrid\":false,\"showline\":true,\"ticks\":\"outside\"},\"bgcolor\":\"white\",\"caxis\":{\"gridcolor\":\"rgb(232,232,232)\",\"linecolor\":\"rgb(36,36,36)\",\"showgrid\":false,\"showline\":true,\"ticks\":\"outside\"}},\"title\":{\"x\":0.05},\"xaxis\":{\"automargin\":true,\"gridcolor\":\"rgb(232,232,232)\",\"linecolor\":\"rgb(36,36,36)\",\"showgrid\":false,\"showline\":true,\"ticks\":\"outside\",\"title\":{\"standoff\":15},\"zeroline\":false,\"zerolinecolor\":\"rgb(36,36,36)\"},\"yaxis\":{\"automargin\":true,\"gridcolor\":\"rgb(232,232,232)\",\"linecolor\":\"rgb(36,36,36)\",\"showgrid\":false,\"showline\":true,\"ticks\":\"outside\",\"title\":{\"standoff\":15},\"zeroline\":false,\"zerolinecolor\":\"rgb(36,36,36)\"}}}},                        {\"responsive\": true}                    ).then(function(){\n",
       "                            \n",
       "var gd = document.getElementById('6a6f3a67-62d8-4c70-b194-654d13277069');\n",
       "var x = new MutationObserver(function (mutations, observer) {{\n",
       "        var display = window.getComputedStyle(gd).display;\n",
       "        if (!display || display === 'none') {{\n",
       "            console.log([gd, 'removed!']);\n",
       "            Plotly.purge(gd);\n",
       "            observer.disconnect();\n",
       "        }}\n",
       "}});\n",
       "\n",
       "// Listen for the removal of the full notebook cells\n",
       "var notebookContainer = gd.closest('#notebook-container');\n",
       "if (notebookContainer) {{\n",
       "    x.observe(notebookContainer, {childList: true});\n",
       "}}\n",
       "\n",
       "// Listen for the clearing of the current output cell\n",
       "var outputEl = gd.closest('.output');\n",
       "if (outputEl) {{\n",
       "    x.observe(outputEl, {childList: true});\n",
       "}}\n",
       "\n",
       "                        })                };            </script>        </div>"
      ]
     },
     "metadata": {},
     "output_type": "display_data"
    },
    {
     "data": {
      "application/vnd.plotly.v1+json": {
       "config": {
        "plotlyServerURL": "https://plot.ly"
       },
       "data": [
        {
         "type": "surface",
         "z": {
          "bdata": "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",
          "dtype": "f8",
          "shape": "25, 25"
         }
        }
       ],
       "layout": {
        "height": 500,
        "template": {
         "data": {
          "scatter": [
           {
            "type": "scatter"
           }
          ]
         }
        },
        "title": {
         "text": "Mt Bruno Elevation: 'none' theme"
        },
        "width": 500
       }
      },
      "text/html": [
       "<div>            <script src=\"https://cdnjs.cloudflare.com/ajax/libs/mathjax/2.7.5/MathJax.js?config=TeX-AMS-MML_SVG\"></script><script type=\"text/javascript\">if (window.MathJax && window.MathJax.Hub && window.MathJax.Hub.Config) {window.MathJax.Hub.Config({SVG: {font: \"STIX-Web\"}});}</script>                <script type=\"text/javascript\">window.PlotlyConfig = {MathJaxConfig: 'local'};</script>\n",
       "        <script charset=\"utf-8\" src=\"https://cdn.plot.ly/plotly-3.0.1.min.js\"></script>                <div id=\"66f885ed-23ea-4845-a0ad-05e32dae3e99\" class=\"plotly-graph-div\" style=\"height:500px; width:500px;\"></div>            <script type=\"text/javascript\">                window.PLOTLYENV=window.PLOTLYENV || {};                                if (document.getElementById(\"66f885ed-23ea-4845-a0ad-05e32dae3e99\")) {                    Plotly.newPlot(                        \"66f885ed-23ea-4845-a0ad-05e32dae3e99\",                        [{\"z\":{\"dtype\":\"f8\",\"bdata\":\"AAAAAAAAAABlqmBUUs87QKw5QDBHz0hALPGAsinFVEBDrWnecSpdQGiR7Xw\\u002fTWBA7C+7Jw\\u002fXYkCcoiO5\\u002fIVrQE0VjErqhGNAoyO5\\u002fIeUYkDJdr6fGnlpQAU0ETY8wWlAih9j7lrKWkCLbOf7qRdRQPtcbcX+qkZAM9yAzw\\u002f7SEAjMqzijeQ1QNhkjXqIBjFAlLw6x4B8J0CMLQQ5KIEtQL1SliGOVStAIy4AjdK1FkBy3CkdrH8KQNxJRPgXgfI\\u002fcVRuopbmwr8AAAAAAADwP0c9RKM7uDtAdc3km21GSEA2donqrU1QQCEHJcy00VdAAG+BBMU\\u002fXUA+6Nms+rxgQKUsQxzrCmNA2c73U+P9YkB24JwRpQNkQInS3uALcWZAFvvL7slzYkACmggbnkxlQOqVsgxxdF5Angd3Z+1KSkABamrZWotAQDFCeLRxNENAMqzijcwfRkDMXUvIB2VRQGCUoL\\u002fQExBA7x6g+3JmCEAUPfAxWFEIQFJgAUwZ+AdAU0Kwql6+B0D4cTRHVv7\\u002fPwAAAAAAAABABTQRNjxtPkDMlxdgH71AQMGQ1a2eZ0ZAG55eKcs8T0A9D+7O2ltTQAu1pnnHDVpAs3vysFCvWUBkXdxGAyBhQCBj7lpCQmdAqmBUUidqa0DufD81XrhmQIqw4emVOl5AHVpkO9\\u002flYUBkIxCv65lUQLH5uDZUPEhAQNmUK7ytUkBrmnecogtOQOzAOSNKSxxANQ2K5gFcGEDY8PRKWSYaQFT83xEVqhpAChFwCFU6HUDfiVkvhvIWQPKxu0BJAQ1AAAAAAAAACECm0HmNXaowQHlYqDXNGz5Asmg6Oxn8Q0DP91PjpQ9GQESjO4idyU1AJvxSP29kU0CF61G4HrlaQCQofoy50WRAryXkg57nZUBeukkMAilnQHEbDeAtUGNArfpcbcXCVEBXlX1XBE9PQDyInSl0Kk9AnZ0MjpJHTkAu4jsx6\\u002fVLQJzhBnx+WC5Asp\\u002fFUiR\\u002fIEDsaYe\\u002fJldCQDMbZJKR905AlGqfjsdENEBkdavnpCVRQOS9amXCP0dAycwFLo81zj8AAAAAAAAQQI4fKo2YoSFAC0YldQJaMkB+jLlrCVEhQPW52or9lTtAh8Q9lj5QSEClg\\u002fV\\u002fDhdOQMxdS8gH1VZAP1dbsb82YkBxGw3gLQRdQH6MuWsJkVpAZoNMMnIsUUCTV+cYkI1KQKbVkLjH9kJAbZBJRs76R0DtKqT8pLZHQJCIKZFETVFAmRJJ9DJ6RkCk5NU5Biw9QF\\u002fv\\u002fniv6jFADJOpglFBMEBWKxN+qU8tQBhDOdGuQjFAxf6ye\\u002fI4P0BA9nr3x1tHQAAAAAAAABRAmE2AYfmDGkCk\\u002fKTap9MkQGCrBIvD0ThAglZgyOoWOkAMAiuHFik+QMhBCTNtJ0pAuvdwyXEtUEBZaVIKuhNTQFsIclDCKFVAlrIMcazbWEAYYB+dukJPQCMVxhaCaEdAC2MLQQ7iS0BYqDXNO5pUQApoImx4iGFAO8eA7PVQVECY+nlTkTpMQHmvWpnwaz5AfSJPkq5JMUDZl2w82JogQPM5d7te2gdAFqHYCpqWBUAZxt0gWosXQNl6hnDMEhVAAAAAAAAAGEDl0CLb+dY1QHRBfcucjhpAVFInoIn4MkCnXOFdLnJAQCXpmsk3k0VAoP1IERluT0CfPCzUmipaQHo2qz5XR2BAPE7RkVy2XEDQ1VbsL79aQC3saYe\\u002f8k5AHuG04EXHS0CrlQm\\u002f1LNVQJLoZRTLUVZAEOm3rwObXkBL6gQ0Ef5eQBKlvcEXRltAba0vEtqaWEDQDyOER2dTQG1zY3rCPkBA8KKvIM1YLUCWsgxxrHsdQMQXmqkYAKM\\u002frQoe8AqO5D8AAAAAAAAcQADGM2joq0pAajANw0fMOkB0QX3LnI4aQPQyiuWWxiVAak3zjlM0MUDzqzlAMBdMQJfFxObj7FNAw9MrZRm2VkDByqFFtpFYQCeDo+TVN1RASZ2AJsKyUkCpaoKo++JSQJyiI7n8W1JACObo8XuHUkCBBMWPMQtRQK0XQznRHkdA3IDPDyP4Q0BWmpSCbjc\\u002fQPd14JwRcUJArBxaZDsDREDWxW00gFtdQJzc71AUaClAghspWySt+z8AAAAAAAAAAAAAAAAAACBANKK0N\\u002fiqOUD6J7hYUYdPQIenV8oyJDZAbef7qfESMUAziuWWVt9EQEnXTL7ZIk5AesISDyhbVEAj2\\u002fl+apxcQLHh6ZWylFlAfPKwUGtyWUBEi2zn+8FbQF8pyxDHzl1AjLlrCfmEXECL\\u002fWX35KFbQAYSFD\\u002fGmE1AqvHSTWI8RUD20akrn0UtQP8DrFW7xhtAguLHmLvGG0A57pQO1r87QAAAAAAAAAAAAAAAAAAAAABRRuA4vjC4P3BWCqJqy7M\\u002fAAAAAAAAIkCBlUOLbKcpQEWBPpEnTVFAkpGzsKdhR0AgKSLDKu4rQMSUSKKX8UBASx+6oL7pTkAL73IR3y9VQCuHFtnOR15ArfpcbcUoYkDr4jYawCVjQP7UeOkmmWlA097gC5N9bEDLEMe6uIltQARWDi2yi2xAeekmMQjWU0DXUdUEUe85QP8DrFW7xhtA\\u002fwOsVbvGG0CC4seYu8YbQJOq7Sb4Nh5AAAAAAAAAAAAAAAAAAAAAAAAAAAAAAAAAAAAAAAAAAAAAAAAAAAAkQAAAAAAAAAAAinYVUn4qUUAhsHJokYVNQKAy\\u002fn3GrUBAxHx5Afa5R0Bt5\\u002fup8epMQOIBZVOuulNAKVyPwvX0WkBn1edqKwBlQBQ\\u002fxty1XmBA1lbsL7uRakD1udqK\\u002fblkQFmGONbFR2pAwTkjSnulZkCfq63YX7hnQNcS8kHPKmFAB84ZUdopVUCjy5vDtVohQNKNsKiI0xtAGvm84qnvIEAAAAAAAAAAAAAAAAAAAAAAAAAAAAAAAAAAAAAAAAAAAAAAAAAAACZAAAAAAAAAAAAhyEEJM8tXQB\\u002fXhopxAlRACcTr+gXzTUAmAWpq2cpDQLL0oQvqI0lATRB1H4DoT0DQ8jy4OydUQICCixU1mFBAbcX+snvYaEC+MJkqGItuQH3Qs1n1Y3JADeAtkKCFcEBFR3L5Dw1mQIDxDBr6G05ABoGVQ4taU0BSRIZVvJVKQKlqgqj7FExAzt+EQgTMG0Bh\\u002fDTuzR8eQCy7YHDNPQ5AAAAAAAAAAAAAAAAAAAAAAAAAAAAAAAAAAAAAAAAAKEAAAAAAAAAAAP32deCc32BAQBNhw9NLYEBoke18PzdYQBppqbwd7VJAZhTLLa1uTUCLcf4mFJpMQBXGFoIcmEtA1XjpJjGIU0AkKH6MuSNbQFUwKqkTTGNAseHplbLyc0Aydy0hH053QJzEILByN3FA1QloImxIYEAAOsyXF3hLQPPlBdhHfzlAIhyz7EkYIEDNBS6PNSsgQMIxy54EdhRAAJATJoy2FkAAAAAAAAAAAAAAAAAAAAAAAAAAAAAAAAAAAAAAAAAqQAAAAAAAAAAArJDyk2oLSEC94xQdydFhQGB2Tx4WjGFABTQRNjxXY0BHcvkP6ftVQHU8ZqAyDk1Aur2kMVprSkA9J71vfMlQQHSYLy\\u002fA6lRApb3BFya7XUBxGw3gLcJiQPs6cM6ID3FAI0p7gy9SdUBoke18P9VtQGZmZmZmxmdABTQRNjw5XUDJk6RrJt9WQCsYldQJCCxA\\u002fZ\\u002fDfHklRUDCMcueBHYUQAAAAAAAAAAAAAAAAAAAAAAAAAAAAAAAAAAAAAAAACxAAAAAAAAAAACpE9BE2BhLQOcdp+hITGJADVTGv8\\u002feWEDmdFlMbAxYQA3gLZCgvFlAV5V9VwQJU0C\\u002ffR04Z+RMQEymCkYlhUdAU9DtJY0XUEBhTzv8NQ9VQD7o2az6VmRAKVyPwvVUXkB+HThnRKVqQMHKoUW2h3RAyjLEsS7XcUCu2F92T71xQK5H4XoUmmpAIbByaJGRZECU3je+9hJXQAvvchHf+RxAeekmMQis8j8AAAAAAAAAAAAAAAAAAAAAAAAAAAAALkAAAAAAAAAAAGXjwRa7rRtAXdxGA3hlaEDXEvJBz5BgQMx\\u002fSL9952BAMUJ4tHF2VkDsaYe\\u002fJl1WQNHLKJZbJk5A+grSjEUrSUDt0\\u002fGYgZZDQOI7MevFiE1A7PoFu2GhUkDWc9L7xjtVQD0s1JrmY2dA7lpCPuj9XkCMuWsJ+exZQGQ730+NH2BAdQKaCBukZEAmUwWjkjZvQD1hiQeU2VdAxT2WPnQBJEDAWyBB8SMDQAAAAAAAAAAAAAAAAAAAAAAAAAAAAAAwQAAAAAAAAAAAaTo7GRy9NUDNO07RkcheQCQofoy5F2ZAvw6cM6LIY0DsUbgehSdhQABvgQTFU1pAbcX+snuoVUDCo40j1o5KQIv9ZffkCT1AHSCYo8dnPkDKbJBJRoZDQH3Qs1n1nUhAOnr83qajT0Dl0CLb+dpbQD\\u002fG3LWETFlAmrFoOjsBREBj7lpCPuxNQAIOoUrNoFJAVWr2QCsQMUCcMGE0K3sDQChjfJi9TAJAH7Xm39fVN78AAAAAAAAAAAAAAAAAADFAAAAAAAAAAAAAAAAAAAAAANkIxOv6BU9A9bnaiv0JYUDvOEVHcjlpQEp7gy9MBGVAvjCZKhjNV0DcKR2s\\u002f3NNQFw9J71veEdAH0sfuqCiSECTxmgdVY1CQMaFAyFZ+DFAR1UTRN3vPkADste7P7JAQFXZd0XwA0ZAmBdgH53SS0AOMsnIWY5TQEImGTkL2yxAZY7lXfXoI0C9cr1tphIfQAWjkjoBDSpAl8rbEU67NUC2FJD2P0ABQBNUnoplBOE\\u002fAAAAAAAAMkAAAAAAAAAAAAAAAAAAAAAAPDHrxVDoU0DDZKpgVHZhQNNNYhBYpWVA5BQdyeUbaEDaG3xhMotoQFfsL7snFWJAbVZ9rraiWkDF5uPaUJVMQPEuF\\u002fGdlERAqtTsgVYQQEDYgXNGlLYrQC7FVWXf1SVA+KqVCb8kKEBuaTUk7mE2QOPHmLuWuDhA6KBLOPQ2G0CjyFpDqc0QQADjGTT0dzBAtcNfkzVqL0As8YCyKftAQHHMsieBTR5Aj93LnoD9qL8AAAAAAAAzQAAAAAAAAAAAAAAAAAAAAADD0ytlGaJAQPFL\\u002fbypxExAE2HD0yvnZEAFxY8xd49oQMx\\u002fSL99WWhAINJvXwfGZkC4rwPnjOxdQLq9pDFaQVJA7YFWYMguSECr56T3jd9AQOm3rwPnPDpAQYLix5hbMEAZ5ZmXwz4bQHRBfcucjhpA9x+ZDp2OGkAa+bziqe8gQLX7VYDvxhhAGof6Xdi6DEBpjNZR1YQOQA7d7A+UMyFAjq89syTgFEAAAAAAAAAAAAAAAAAAADRAAAAAAAAAAAAAAAAAAAAAAMh71cqExz1AhnKiXYV8S0DdJAaBlRliQKs+V1ux72lAl\\u002f+QfvuqZEAeFmpN82xlQMx\\u002fSL993WVAzH9Iv30RWUC693DJcbtOQHgoCvSJGElAIlSp2QMVOkA7\\u002fDVZoy4xQBr5vOKp7yBAdEF9y5yOGkBsXWqEflYZQGxdaoR+VhlAZKw2\\u002f6+qFkALfhtivBYRQAAAAAAAAAAAAAAAAAAAAAAAAAAAAAAAAAAAAAAAAAAAAAAAAAAANUAAAAAAAAAAAAAAAAAAAAAAYhBYObRoP0CIhVrTvJdgQF+YTBWMMmdA07zjFB11XkCYTBWMSixnQLfRAN4CFWRAU5YhjnUJXUCQoPgx5oZdQNqs+lxtuWFAAz4\\u002fjBBkUEAWhzO\\u002fmmtIQN3qOel9IzdA\\u002freSHRshMkCLcf4mFJIkQOGaO\\u002fpfHhhAChNGs7ItGECpwMk2cMcWQJq2f2Wl6Q1AMQxYchUrD0AAAAAAAAAAAAAAAAAAAAAAAAAAAAAAAAAAAAAAAAA2QAAAAAAAAAAAAAAAAAAAAAAsms5OBpczQLRZ9bnaJkVAZTbIJCMRWEASFD\\u002fG3GNnQIxK6gQ0dWZAY3\\u002fZPXmsa0Cfq63YX0hjQOlILv8hxWFA4zYawFuSYkCM+E7MestQQNXsgVZgWERAOsyXF2DfQ0C1T8djBho6QIBlpUkp+CxAxcn9DkVRIUAxDFhyFSsPQHmRCfg1kgxAMQxYchUrD0AxDFhyFSsPQDEMWHIVKw9AnBVRE30+8T8AAAAAAAAAAAAAAAAAADdATKW7xaUlVD+46jpUUxIIQBAEyNCxoxdAuCOcFrzAQED+ZffkYRVaQLByaJHtBmNAPE7RkVzGaED0\\u002fdR46fpnQJM6AU2El2xAb\\u002fCFyVQDZUDtnjws1AhiQI9TdCSXr1tA7DTSUnnTTEBv05\\u002f9SFFFQKX3ja896ztANbVsrS\\u002fSLkD6er5muRwgQAzIXu\\u002f+OA9ABfhu88YJD0CimLwBZn4PQG1Zvi7Dvw9A4MjyZO2lvz+sjbETXuIPQNFB8ilbf8e\\u002fAAAAAAAAOEAAAAAAAAAAACu9NhsrgRZAJuXuc3y0HkB4uYjvxJRPQPLqHAOy\\u002f0ZAajANw0fkU0DLoUW282lsQHL5D+m3fWlAklz+Q\\u002fqRZUCbVZ+rrSRmQCZTBaOSjmFACKwcWmT\\u002fXkCgGi\\u002fdJJZbQG5MT1jiR1BAd9Zuu9AoQUAs1JrmHYc4QE6Zm29EHyNAe6Lrwg+uCkBbzqW4qlwWQBFuMqoM8xVAlPqytFOjF0BPrimQ2XkXQDRlpx\\u002fUVRdAE7cKYqCLDEA=\",\"shape\":\"25, 25\"},\"type\":\"surface\"}],                        {\"height\":500,\"title\":{\"text\":\"Mt Bruno Elevation: 'none' theme\"},\"width\":500,\"template\":{\"data\":{\"scatter\":[{\"type\":\"scatter\"}]}}},                        {\"responsive\": true}                    ).then(function(){\n",
       "                            \n",
       "var gd = document.getElementById('66f885ed-23ea-4845-a0ad-05e32dae3e99');\n",
       "var x = new MutationObserver(function (mutations, observer) {{\n",
       "        var display = window.getComputedStyle(gd).display;\n",
       "        if (!display || display === 'none') {{\n",
       "            console.log([gd, 'removed!']);\n",
       "            Plotly.purge(gd);\n",
       "            observer.disconnect();\n",
       "        }}\n",
       "}});\n",
       "\n",
       "// Listen for the removal of the full notebook cells\n",
       "var notebookContainer = gd.closest('#notebook-container');\n",
       "if (notebookContainer) {{\n",
       "    x.observe(notebookContainer, {childList: true});\n",
       "}}\n",
       "\n",
       "// Listen for the clearing of the current output cell\n",
       "var outputEl = gd.closest('.output');\n",
       "if (outputEl) {{\n",
       "    x.observe(outputEl, {childList: true});\n",
       "}}\n",
       "\n",
       "                        })                };            </script>        </div>"
      ]
     },
     "metadata": {},
     "output_type": "display_data"
    }
   ],
   "source": [
    "import plotly.graph_objects as go\n",
    "import pandas as pd\n",
    "\n",
    "z_data = pd.read_csv(\"https://raw.githubusercontent.com/plotly/datasets/master/api_docs/mt_bruno_elevation.csv\")\n",
    "\n",
    "fig = go.Figure(\n",
    "    data=go.Surface(z=z_data.values),\n",
    "    layout=go.Layout(\n",
    "        title=\"Mt Bruno Elevation\",\n",
    "        width=500,\n",
    "        height=500,\n",
    "    ))\n",
    "\n",
    "for template in [\"plotly\", \"plotly_white\", \"plotly_dark\", \"ggplot2\", \"seaborn\", \"simple_white\", \"none\"]:\n",
    "    fig.update_layout(template=template, title=\"Mt Bruno Elevation: '%s' theme\" % template)\n",
    "    fig.show()\n",
    "\n"
   ]
  },
  {
   "cell_type": "markdown",
   "id": "12860580",
   "metadata": {},
   "source": [
    "***********************************************************"
   ]
  },
  {
   "cell_type": "markdown",
   "id": "c70793b1",
   "metadata": {},
   "source": [
    "################################\n",
    "# Cell 22:\n",
    "################################\n",
    "\n",
    "<h2>  Exemplo 09 - Box Plot and Area Plot IV </h2>\n",
    "\n",
    "<h2 style=\"background-color:orange;color:white;padding-top:10px;text-align:center;font-weight:bold;font-style:italic;font-size:1cm;padding-bottom:20px;\"> Exemplo 09 - Box Plot and Area Plot IV  </h2>\n",
    "\n",
    "\n",
    " Markdown\n",
    " SHIFT + ENTER"
   ]
  },
  {
   "cell_type": "code",
   "execution_count": 17,
   "id": "5becf82c",
   "metadata": {},
   "outputs": [
    {
     "data": {
      "application/vnd.plotly.v1+json": {
       "config": {
        "plotlyServerURL": "https://plot.ly"
       },
       "data": [
        {
         "fillpattern": {
          "shape": ""
         },
         "hovertemplate": "AAPL.Open=%{x}<br>AAPL.Close=%{y}<extra></extra>",
         "legendgroup": "",
         "line": {
          "color": "#636efa"
         },
         "marker": {
          "symbol": "circle"
         },
         "mode": "lines",
         "name": "",
         "orientation": "v",
         "showlegend": false,
         "stackgroup": "1",
         "type": "scatter",
         "x": {
          "bdata": "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",
          "dtype": "f8"
         },
         "xaxis": "x",
         "y": {
          "bdata": "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",
          "dtype": "f8"
         },
         "yaxis": "y"
        }
       ],
       "layout": {
        "legend": {
         "tracegroupgap": 0
        },
        "template": {
         "data": {
          "bar": [
           {
            "error_x": {
             "color": "#f2f5fa"
            },
            "error_y": {
             "color": "#f2f5fa"
            },
            "marker": {
             "line": {
              "color": "rgb(17,17,17)",
              "width": 0.5
             },
             "pattern": {
              "fillmode": "overlay",
              "size": 10,
              "solidity": 0.2
             }
            },
            "type": "bar"
           }
          ],
          "barpolar": [
           {
            "marker": {
             "line": {
              "color": "rgb(17,17,17)",
              "width": 0.5
             },
             "pattern": {
              "fillmode": "overlay",
              "size": 10,
              "solidity": 0.2
             }
            },
            "type": "barpolar"
           }
          ],
          "carpet": [
           {
            "aaxis": {
             "endlinecolor": "#A2B1C6",
             "gridcolor": "#506784",
             "linecolor": "#506784",
             "minorgridcolor": "#506784",
             "startlinecolor": "#A2B1C6"
            },
            "baxis": {
             "endlinecolor": "#A2B1C6",
             "gridcolor": "#506784",
             "linecolor": "#506784",
             "minorgridcolor": "#506784",
             "startlinecolor": "#A2B1C6"
            },
            "type": "carpet"
           }
          ],
          "choropleth": [
           {
            "colorbar": {
             "outlinewidth": 0,
             "ticks": ""
            },
            "type": "choropleth"
           }
          ],
          "contour": [
           {
            "colorbar": {
             "outlinewidth": 0,
             "ticks": ""
            },
            "colorscale": [
             [
              0,
              "#0d0887"
             ],
             [
              0.1111111111111111,
              "#46039f"
             ],
             [
              0.2222222222222222,
              "#7201a8"
             ],
             [
              0.3333333333333333,
              "#9c179e"
             ],
             [
              0.4444444444444444,
              "#bd3786"
             ],
             [
              0.5555555555555556,
              "#d8576b"
             ],
             [
              0.6666666666666666,
              "#ed7953"
             ],
             [
              0.7777777777777778,
              "#fb9f3a"
             ],
             [
              0.8888888888888888,
              "#fdca26"
             ],
             [
              1,
              "#f0f921"
             ]
            ],
            "type": "contour"
           }
          ],
          "contourcarpet": [
           {
            "colorbar": {
             "outlinewidth": 0,
             "ticks": ""
            },
            "type": "contourcarpet"
           }
          ],
          "heatmap": [
           {
            "colorbar": {
             "outlinewidth": 0,
             "ticks": ""
            },
            "colorscale": [
             [
              0,
              "#0d0887"
             ],
             [
              0.1111111111111111,
              "#46039f"
             ],
             [
              0.2222222222222222,
              "#7201a8"
             ],
             [
              0.3333333333333333,
              "#9c179e"
             ],
             [
              0.4444444444444444,
              "#bd3786"
             ],
             [
              0.5555555555555556,
              "#d8576b"
             ],
             [
              0.6666666666666666,
              "#ed7953"
             ],
             [
              0.7777777777777778,
              "#fb9f3a"
             ],
             [
              0.8888888888888888,
              "#fdca26"
             ],
             [
              1,
              "#f0f921"
             ]
            ],
            "type": "heatmap"
           }
          ],
          "histogram": [
           {
            "marker": {
             "pattern": {
              "fillmode": "overlay",
              "size": 10,
              "solidity": 0.2
             }
            },
            "type": "histogram"
           }
          ],
          "histogram2d": [
           {
            "colorbar": {
             "outlinewidth": 0,
             "ticks": ""
            },
            "colorscale": [
             [
              0,
              "#0d0887"
             ],
             [
              0.1111111111111111,
              "#46039f"
             ],
             [
              0.2222222222222222,
              "#7201a8"
             ],
             [
              0.3333333333333333,
              "#9c179e"
             ],
             [
              0.4444444444444444,
              "#bd3786"
             ],
             [
              0.5555555555555556,
              "#d8576b"
             ],
             [
              0.6666666666666666,
              "#ed7953"
             ],
             [
              0.7777777777777778,
              "#fb9f3a"
             ],
             [
              0.8888888888888888,
              "#fdca26"
             ],
             [
              1,
              "#f0f921"
             ]
            ],
            "type": "histogram2d"
           }
          ],
          "histogram2dcontour": [
           {
            "colorbar": {
             "outlinewidth": 0,
             "ticks": ""
            },
            "colorscale": [
             [
              0,
              "#0d0887"
             ],
             [
              0.1111111111111111,
              "#46039f"
             ],
             [
              0.2222222222222222,
              "#7201a8"
             ],
             [
              0.3333333333333333,
              "#9c179e"
             ],
             [
              0.4444444444444444,
              "#bd3786"
             ],
             [
              0.5555555555555556,
              "#d8576b"
             ],
             [
              0.6666666666666666,
              "#ed7953"
             ],
             [
              0.7777777777777778,
              "#fb9f3a"
             ],
             [
              0.8888888888888888,
              "#fdca26"
             ],
             [
              1,
              "#f0f921"
             ]
            ],
            "type": "histogram2dcontour"
           }
          ],
          "mesh3d": [
           {
            "colorbar": {
             "outlinewidth": 0,
             "ticks": ""
            },
            "type": "mesh3d"
           }
          ],
          "parcoords": [
           {
            "line": {
             "colorbar": {
              "outlinewidth": 0,
              "ticks": ""
             }
            },
            "type": "parcoords"
           }
          ],
          "pie": [
           {
            "automargin": true,
            "type": "pie"
           }
          ],
          "scatter": [
           {
            "marker": {
             "line": {
              "color": "#283442"
             }
            },
            "type": "scatter"
           }
          ],
          "scatter3d": [
           {
            "line": {
             "colorbar": {
              "outlinewidth": 0,
              "ticks": ""
             }
            },
            "marker": {
             "colorbar": {
              "outlinewidth": 0,
              "ticks": ""
             }
            },
            "type": "scatter3d"
           }
          ],
          "scattercarpet": [
           {
            "marker": {
             "colorbar": {
              "outlinewidth": 0,
              "ticks": ""
             }
            },
            "type": "scattercarpet"
           }
          ],
          "scattergeo": [
           {
            "marker": {
             "colorbar": {
              "outlinewidth": 0,
              "ticks": ""
             }
            },
            "type": "scattergeo"
           }
          ],
          "scattergl": [
           {
            "marker": {
             "line": {
              "color": "#283442"
             }
            },
            "type": "scattergl"
           }
          ],
          "scattermap": [
           {
            "marker": {
             "colorbar": {
              "outlinewidth": 0,
              "ticks": ""
             }
            },
            "type": "scattermap"
           }
          ],
          "scattermapbox": [
           {
            "marker": {
             "colorbar": {
              "outlinewidth": 0,
              "ticks": ""
             }
            },
            "type": "scattermapbox"
           }
          ],
          "scatterpolar": [
           {
            "marker": {
             "colorbar": {
              "outlinewidth": 0,
              "ticks": ""
             }
            },
            "type": "scatterpolar"
           }
          ],
          "scatterpolargl": [
           {
            "marker": {
             "colorbar": {
              "outlinewidth": 0,
              "ticks": ""
             }
            },
            "type": "scatterpolargl"
           }
          ],
          "scatterternary": [
           {
            "marker": {
             "colorbar": {
              "outlinewidth": 0,
              "ticks": ""
             }
            },
            "type": "scatterternary"
           }
          ],
          "surface": [
           {
            "colorbar": {
             "outlinewidth": 0,
             "ticks": ""
            },
            "colorscale": [
             [
              0,
              "#0d0887"
             ],
             [
              0.1111111111111111,
              "#46039f"
             ],
             [
              0.2222222222222222,
              "#7201a8"
             ],
             [
              0.3333333333333333,
              "#9c179e"
             ],
             [
              0.4444444444444444,
              "#bd3786"
             ],
             [
              0.5555555555555556,
              "#d8576b"
             ],
             [
              0.6666666666666666,
              "#ed7953"
             ],
             [
              0.7777777777777778,
              "#fb9f3a"
             ],
             [
              0.8888888888888888,
              "#fdca26"
             ],
             [
              1,
              "#f0f921"
             ]
            ],
            "type": "surface"
           }
          ],
          "table": [
           {
            "cells": {
             "fill": {
              "color": "#506784"
             },
             "line": {
              "color": "rgb(17,17,17)"
             }
            },
            "header": {
             "fill": {
              "color": "#2a3f5f"
             },
             "line": {
              "color": "rgb(17,17,17)"
             }
            },
            "type": "table"
           }
          ]
         },
         "layout": {
          "annotationdefaults": {
           "arrowcolor": "#f2f5fa",
           "arrowhead": 0,
           "arrowwidth": 1
          },
          "autotypenumbers": "strict",
          "coloraxis": {
           "colorbar": {
            "outlinewidth": 0,
            "ticks": ""
           }
          },
          "colorscale": {
           "diverging": [
            [
             0,
             "#8e0152"
            ],
            [
             0.1,
             "#c51b7d"
            ],
            [
             0.2,
             "#de77ae"
            ],
            [
             0.3,
             "#f1b6da"
            ],
            [
             0.4,
             "#fde0ef"
            ],
            [
             0.5,
             "#f7f7f7"
            ],
            [
             0.6,
             "#e6f5d0"
            ],
            [
             0.7,
             "#b8e186"
            ],
            [
             0.8,
             "#7fbc41"
            ],
            [
             0.9,
             "#4d9221"
            ],
            [
             1,
             "#276419"
            ]
           ],
           "sequential": [
            [
             0,
             "#0d0887"
            ],
            [
             0.1111111111111111,
             "#46039f"
            ],
            [
             0.2222222222222222,
             "#7201a8"
            ],
            [
             0.3333333333333333,
             "#9c179e"
            ],
            [
             0.4444444444444444,
             "#bd3786"
            ],
            [
             0.5555555555555556,
             "#d8576b"
            ],
            [
             0.6666666666666666,
             "#ed7953"
            ],
            [
             0.7777777777777778,
             "#fb9f3a"
            ],
            [
             0.8888888888888888,
             "#fdca26"
            ],
            [
             1,
             "#f0f921"
            ]
           ],
           "sequentialminus": [
            [
             0,
             "#0d0887"
            ],
            [
             0.1111111111111111,
             "#46039f"
            ],
            [
             0.2222222222222222,
             "#7201a8"
            ],
            [
             0.3333333333333333,
             "#9c179e"
            ],
            [
             0.4444444444444444,
             "#bd3786"
            ],
            [
             0.5555555555555556,
             "#d8576b"
            ],
            [
             0.6666666666666666,
             "#ed7953"
            ],
            [
             0.7777777777777778,
             "#fb9f3a"
            ],
            [
             0.8888888888888888,
             "#fdca26"
            ],
            [
             1,
             "#f0f921"
            ]
           ]
          },
          "colorway": [
           "#636efa",
           "#EF553B",
           "#00cc96",
           "#ab63fa",
           "#FFA15A",
           "#19d3f3",
           "#FF6692",
           "#B6E880",
           "#FF97FF",
           "#FECB52"
          ],
          "font": {
           "color": "#f2f5fa"
          },
          "geo": {
           "bgcolor": "rgb(17,17,17)",
           "lakecolor": "rgb(17,17,17)",
           "landcolor": "rgb(17,17,17)",
           "showlakes": true,
           "showland": true,
           "subunitcolor": "#506784"
          },
          "hoverlabel": {
           "align": "left"
          },
          "hovermode": "closest",
          "mapbox": {
           "style": "dark"
          },
          "paper_bgcolor": "rgb(17,17,17)",
          "plot_bgcolor": "rgb(17,17,17)",
          "polar": {
           "angularaxis": {
            "gridcolor": "#506784",
            "linecolor": "#506784",
            "ticks": ""
           },
           "bgcolor": "rgb(17,17,17)",
           "radialaxis": {
            "gridcolor": "#506784",
            "linecolor": "#506784",
            "ticks": ""
           }
          },
          "scene": {
           "xaxis": {
            "backgroundcolor": "rgb(17,17,17)",
            "gridcolor": "#506784",
            "gridwidth": 2,
            "linecolor": "#506784",
            "showbackground": true,
            "ticks": "",
            "zerolinecolor": "#C8D4E3"
           },
           "yaxis": {
            "backgroundcolor": "rgb(17,17,17)",
            "gridcolor": "#506784",
            "gridwidth": 2,
            "linecolor": "#506784",
            "showbackground": true,
            "ticks": "",
            "zerolinecolor": "#C8D4E3"
           },
           "zaxis": {
            "backgroundcolor": "rgb(17,17,17)",
            "gridcolor": "#506784",
            "gridwidth": 2,
            "linecolor": "#506784",
            "showbackground": true,
            "ticks": "",
            "zerolinecolor": "#C8D4E3"
           }
          },
          "shapedefaults": {
           "line": {
            "color": "#f2f5fa"
           }
          },
          "sliderdefaults": {
           "bgcolor": "#C8D4E3",
           "bordercolor": "rgb(17,17,17)",
           "borderwidth": 1,
           "tickwidth": 0
          },
          "ternary": {
           "aaxis": {
            "gridcolor": "#506784",
            "linecolor": "#506784",
            "ticks": ""
           },
           "baxis": {
            "gridcolor": "#506784",
            "linecolor": "#506784",
            "ticks": ""
           },
           "bgcolor": "rgb(17,17,17)",
           "caxis": {
            "gridcolor": "#506784",
            "linecolor": "#506784",
            "ticks": ""
           }
          },
          "title": {
           "x": 0.05
          },
          "updatemenudefaults": {
           "bgcolor": "#506784",
           "borderwidth": 0
          },
          "xaxis": {
           "automargin": true,
           "gridcolor": "#283442",
           "linecolor": "#506784",
           "ticks": "",
           "title": {
            "standoff": 15
           },
           "zerolinecolor": "#283442",
           "zerolinewidth": 2
          },
          "yaxis": {
           "automargin": true,
           "gridcolor": "#283442",
           "linecolor": "#506784",
           "ticks": "",
           "title": {
            "standoff": 15
           },
           "zerolinecolor": "#283442",
           "zerolinewidth": 2
          }
         }
        },
        "title": {
         "text": "AAPL High Prices"
        },
        "xaxis": {
         "anchor": "y",
         "domain": [
          0,
          1
         ],
         "title": {
          "text": "AAPL.Open"
         }
        },
        "yaxis": {
         "anchor": "x",
         "domain": [
          0,
          1
         ],
         "title": {
          "text": "AAPL.Close"
         }
        }
       }
      }
     },
     "metadata": {},
     "output_type": "display_data"
    }
   ],
   "source": [
    "# 01. Importar:\n",
    "#     Bibliotecas: matplotlib, numpy\n",
    "#     Módulos: pyplot\n",
    "import plotly.express as px\n",
    "import pandas as pd\n",
    "import cufflinks as cf\n",
    "\n",
    "\n",
    "# Load sample data\n",
    "df = pd.read_csv('https://raw.githubusercontent.com/plotly/datasets/master/finance-charts-apple.csv')\n",
    "\n",
    "# Create line plot with Cufflinks and Plotly\n",
    "fig = px.area(df, x='AAPL.Open', y='AAPL.Close', title='AAPL High Prices', template='plotly_dark')\n",
    "fig.show()"
   ]
  }
 ],
 "metadata": {
  "kernelspec": {
   "display_name": "venv",
   "language": "python",
   "name": "python3"
  },
  "language_info": {
   "codemirror_mode": {
    "name": "ipython",
    "version": 3
   },
   "file_extension": ".py",
   "mimetype": "text/x-python",
   "name": "python",
   "nbconvert_exporter": "python",
   "pygments_lexer": "ipython3",
   "version": "3.12.9"
  }
 },
 "nbformat": 4,
 "nbformat_minor": 5
}
