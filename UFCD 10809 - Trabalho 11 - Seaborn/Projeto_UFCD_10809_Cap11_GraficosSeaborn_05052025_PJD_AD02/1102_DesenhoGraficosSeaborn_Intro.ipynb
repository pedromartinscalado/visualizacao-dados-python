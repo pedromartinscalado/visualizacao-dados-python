{
 "cells": [
  {
   "cell_type": "markdown",
   "id": "77c75285",
   "metadata": {},
   "source": [
    "################################\n",
    "# Cell 01:\n",
    "################################\n",
    "\n",
    "<h1> Introdução ao \"Seaborn\" </h1>\n",
    "\n",
    "\n",
    "<h1 style=\"background-color:orange;color:white;padding-top:10px;text-align:center;font-weight:bold;font-style:italic;font-size:1.5cm;padding-bottom:30px;\"> Introdução ao \"Seaborn\"  </h1>\n",
    "\n",
    " Markdown\n",
    " SHIFT + ENTER\n"
   ]
  },
  {
   "cell_type": "markdown",
   "id": "a628f2b7",
   "metadata": {},
   "source": [
    "################################\n",
    "# Cell 02:\n",
    "################################\n",
    "\n",
    "<div style=\"margin-left:2%;\">\n",
    "<img style=\"float:left;margin:2px;height:150px;\" src=\"https://www.analyticssteps.com/backend/media/thumbnail/6350483/7807104_1578230927_time_analysis_tittle-banner%20(1).jpg\" width=\"32%\"/>\n",
    "<img style=\"float:left;margin:2px;height:150px;\" src=\"https://www.analyticssteps.com/backend/media/thumbnail/6350483/7807104_1578230927_time_analysis_tittle-banner%20(1).jpg\" width=\"32%\"/>\n",
    "<img style=\"float:left;margin:2px;height:150px;\" src=\"https://www.analyticssteps.com/backend/media/thumbnail/6350483/7807104_1578230927_time_analysis_tittle-banner%20(1).jpg\" width=\"32%\"/>\n",
    "</div>\n"
   ]
  },
  {
   "cell_type": "markdown",
   "id": "a7384b2d",
   "metadata": {},
   "source": [
    "################################\n",
    "# Cell 03:\n",
    "################################\n",
    "\n",
    "<h2> Instalação do Módulo </h2>\n",
    "\n",
    "<h2 style=\"background-color:orange;color:white;padding-top:10px;text-align:center;font-weight:bold;font-style:italic;font-size:1cm;padding-bottom:20px;\"> Instalação do Módulo   </h2>\n",
    "\n",
    "\n",
    " Markdown\n",
    " SHIFT + ENTER"
   ]
  },
  {
   "cell_type": "markdown",
   "id": "e04ae1d5",
   "metadata": {},
   "source": [
    "################################\n",
    "# Cell 04:\n",
    "################################"
   ]
  },
  {
   "cell_type": "markdown",
   "id": "aa237538",
   "metadata": {},
   "source": [
    "# Instalação\n",
    "!pip install seaborn\n",
    "\n",
    "# Depois de qq instalação é\n",
    "# necessário reiniciar o Kernel\n",
    "\n",
    "Menu Kernel -> Restart Kernel"
   ]
  }
 ],
 "metadata": {
  "language_info": {
   "name": "python"
  }
 },
 "nbformat": 4,
 "nbformat_minor": 5
}
