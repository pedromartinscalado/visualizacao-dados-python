{
 "cells": [
  {
   "cell_type": "markdown",
   "id": "4f15b236",
   "metadata": {},
   "source": [
    "################################\n",
    "# Cell 01:\n",
    "################################\n",
    "\n",
    "<h1> Conversão de Datas </h1>\n",
    "\n",
    "<h1 style=\"background-color:orange;color:white;padding-top:10px;text-align:center;font-weight:bold;font-style:italic;font-size:2cm;padding-bottom:30px;\">Conversão de Datas </h1>\n",
    "\n",
    " Markdown\n",
    " SHIFT + ENTER\n"
   ]
  },
  {
   "cell_type": "markdown",
   "id": "78b2b3eb",
   "metadata": {},
   "source": [
    "################################\n",
    "# Cell 02:\n",
    "################################\n",
    "\n",
    "<div style=\"margin-left:0px;\">\n",
    "<img style=\"float:left;margin:0px;height:150px;\" src=\"https://www.analyticssteps.com/backend/media/thumbnail/6350483/7807104_1578230927_time_analysis_tittle-banner%20(1).jpg\" width=\"33%\"/>\n",
    "<img style=\"float:left;margin:1px;height:150px;\" src=\"https://www.analyticssteps.com/backend/media/thumbnail/6350483/7807104_1578230927_time_analysis_tittle-banner%20(1).jpg\" width=\"33%\"/>\n",
    "<img style=\"float:left;margin:1px;height:150px;\" src=\"https://www.analyticssteps.com/backend/media/thumbnail/6350483/7807104_1578230927_time_analysis_tittle-banner%20(1).jpg\" width=\"33%\"/>\n",
    "</div>"
   ]
  },
  {
   "cell_type": "markdown",
   "id": "8c16f9bd",
   "metadata": {},
   "source": [
    "################################\n",
    "# Cell 03:\n",
    "################################\n",
    "\n",
    "<h2> Exemplo 01 </h2>\n",
    "\n",
    "<h2 style=\"background-color:orange;color:white;padding-top:10px;text-align:center;font-weight:bold;font-style:italic;font-size:1cm;padding-bottom:20px;\"> Exemplo 01  </h2>\n",
    "\n",
    " Markdown\n",
    " SHIFT + ENTER\n",
    "\n"
   ]
  },
  {
   "cell_type": "markdown",
   "id": "844789db",
   "metadata": {},
   "source": [
    "################################\n",
    "# Cell 04:\n",
    "################################"
   ]
  },
  {
   "cell_type": "code",
   "execution_count": 3,
   "id": "b0eae434",
   "metadata": {},
   "outputs": [
    {
     "data": {
      "text/html": [
       "<div>\n",
       "<style scoped>\n",
       "    .dataframe tbody tr th:only-of-type {\n",
       "        vertical-align: middle;\n",
       "    }\n",
       "\n",
       "    .dataframe tbody tr th {\n",
       "        vertical-align: top;\n",
       "    }\n",
       "\n",
       "    .dataframe thead th {\n",
       "        text-align: right;\n",
       "    }\n",
       "</style>\n",
       "<table border=\"1\" class=\"dataframe\">\n",
       "  <thead>\n",
       "    <tr style=\"text-align: right;\">\n",
       "      <th></th>\n",
       "      <th>Date</th>\n",
       "    </tr>\n",
       "  </thead>\n",
       "  <tbody>\n",
       "    <tr>\n",
       "      <th>0</th>\n",
       "      <td>2022-03-26</td>\n",
       "    </tr>\n",
       "    <tr>\n",
       "      <th>1</th>\n",
       "      <td>2022-03-27</td>\n",
       "    </tr>\n",
       "    <tr>\n",
       "      <th>2</th>\n",
       "      <td>2022-03-28</td>\n",
       "    </tr>\n",
       "  </tbody>\n",
       "</table>\n",
       "</div>"
      ],
      "text/plain": [
       "        Date\n",
       "0 2022-03-26\n",
       "1 2022-03-27\n",
       "2 2022-03-28"
      ]
     },
     "execution_count": 3,
     "metadata": {},
     "output_type": "execute_result"
    }
   ],
   "source": [
    "# 01. Importar:\n",
    "#     Bibliotecas: matplotlib, numpy\n",
    "#     Módulos: pyplot\n",
    "import pandas as pd\n",
    "\n",
    "# Create a pandas DataFrame with a column of date strings\n",
    "# Criação de um \"dateframe\" - folha de cálculo do Excel\n",
    "# - Uma lista de dicionários em Python:\n",
    "#   - Conjunto de linhas\n",
    "# - Um dicionário com listas (uma lista por cada coluna).\n",
    "df = pd.DataFrame({'Date': ['2022/03-26', '2022/03-27', '2022/03-28']})\n",
    "df\n",
    "# # Convert the 'date' column to datetime objects using to_datetime()\n",
    "df['Date'] = pd.to_datetime(df['Date'])\n",
    "df\n",
    "# Print the resulting DataFrame"
   ]
  },
  {
   "cell_type": "markdown",
   "id": "6a0c66dd",
   "metadata": {},
   "source": [
    "################################\n",
    "# Cell 05:\n",
    "################################"
   ]
  },
  {
   "cell_type": "code",
   "execution_count": 4,
   "id": "3097c75e",
   "metadata": {},
   "outputs": [
    {
     "data": {
      "text/html": [
       "<div>\n",
       "<style scoped>\n",
       "    .dataframe tbody tr th:only-of-type {\n",
       "        vertical-align: middle;\n",
       "    }\n",
       "\n",
       "    .dataframe tbody tr th {\n",
       "        vertical-align: top;\n",
       "    }\n",
       "\n",
       "    .dataframe thead th {\n",
       "        text-align: right;\n",
       "    }\n",
       "</style>\n",
       "<table border=\"1\" class=\"dataframe\">\n",
       "  <thead>\n",
       "    <tr style=\"text-align: right;\">\n",
       "      <th></th>\n",
       "      <th>Date</th>\n",
       "      <th>Vendas</th>\n",
       "    </tr>\n",
       "  </thead>\n",
       "  <tbody>\n",
       "    <tr>\n",
       "      <th>0</th>\n",
       "      <td>2022-03-26</td>\n",
       "      <td>1000</td>\n",
       "    </tr>\n",
       "    <tr>\n",
       "      <th>1</th>\n",
       "      <td>2022-03-27</td>\n",
       "      <td>500</td>\n",
       "    </tr>\n",
       "    <tr>\n",
       "      <th>2</th>\n",
       "      <td>2022-03-28</td>\n",
       "      <td>750</td>\n",
       "    </tr>\n",
       "  </tbody>\n",
       "</table>\n",
       "</div>"
      ],
      "text/plain": [
       "        Date  Vendas\n",
       "0 2022-03-26    1000\n",
       "1 2022-03-27     500\n",
       "2 2022-03-28     750"
      ]
     },
     "execution_count": 4,
     "metadata": {},
     "output_type": "execute_result"
    }
   ],
   "source": [
    "# 01. Importar:\n",
    "#     Bibliotecas: matplotlib, numpy\n",
    "#     Módulos: pyplot\n",
    "import pandas as pd\n",
    "\n",
    "# Create a pandas DataFrame with a column of date strings\n",
    "# Criação de um \"dateframe\" - folha de cálculo do Excel\n",
    "# - Uma lista de dicionários em Python:\n",
    "#   - Conjunto de linhas\n",
    "# - Um dicionário com listas (uma lista por cada coluna).\n",
    "df = pd.DataFrame({'Date': ['2022/03-26', '2022/03-27', '2022/03-28'],'Vendas':[1000,500, 750]})\n",
    "df\n",
    "# # Convert the 'date' column to datetime objects using to_datetime()\n",
    "df['Date'] = pd.to_datetime(df['Date'])\n",
    "df\n",
    "# Print the resulting DataFrame\n"
   ]
  },
  {
   "cell_type": "markdown",
   "id": "61775689",
   "metadata": {},
   "source": [
    "\n",
    "################################\n",
    "# Cell 06:\n",
    "################################\n",
    "\n",
    "<h2> Exemplo 02 </h2>\n",
    "\n",
    "<h2 style=\"background-color:orange;color:white;padding-top:10px;text-align:center;font-weight:bold;font-style:italic;font-size:1cm;padding-bottom:20px;\"> Exemplo 02  </h2>\n",
    "\n",
    "\n",
    " Markdown\n",
    " SHIFT + ENTER"
   ]
  },
  {
   "cell_type": "markdown",
   "id": "9f582d5f",
   "metadata": {},
   "source": [
    "################################\n",
    "# Cell 07:\n",
    "################################"
   ]
  },
  {
   "cell_type": "code",
   "execution_count": 5,
   "id": "9a9f3c26",
   "metadata": {},
   "outputs": [
    {
     "data": {
      "text/html": [
       "<div>\n",
       "<style scoped>\n",
       "    .dataframe tbody tr th:only-of-type {\n",
       "        vertical-align: middle;\n",
       "    }\n",
       "\n",
       "    .dataframe tbody tr th {\n",
       "        vertical-align: top;\n",
       "    }\n",
       "\n",
       "    .dataframe thead th {\n",
       "        text-align: right;\n",
       "    }\n",
       "</style>\n",
       "<table border=\"1\" class=\"dataframe\">\n",
       "  <thead>\n",
       "    <tr style=\"text-align: right;\">\n",
       "      <th></th>\n",
       "      <th>Date</th>\n",
       "    </tr>\n",
       "  </thead>\n",
       "  <tbody>\n",
       "    <tr>\n",
       "      <th>0</th>\n",
       "      <td>2022-03-26</td>\n",
       "    </tr>\n",
       "    <tr>\n",
       "      <th>1</th>\n",
       "      <td>2022-03-27</td>\n",
       "    </tr>\n",
       "    <tr>\n",
       "      <th>2</th>\n",
       "      <td>2022-03-28</td>\n",
       "    </tr>\n",
       "  </tbody>\n",
       "</table>\n",
       "</div>"
      ],
      "text/plain": [
       "        Date\n",
       "0 2022-03-26\n",
       "1 2022-03-27\n",
       "2 2022-03-28"
      ]
     },
     "execution_count": 5,
     "metadata": {},
     "output_type": "execute_result"
    }
   ],
   "source": [
    "# 01. Importar:\n",
    "#     Bibliotecas: matplotlib, numpy\n",
    "#     Módulos: pyplot\n",
    "import pandas as pd\n",
    "\n",
    "# Create a pandas DataFrame with a column of date strings\n",
    "df = pd.DataFrame({'Date': ['26032022', '27032022', '28032022']})\n",
    "\n",
    "# Convert the 'date' column to datetime objects using to_datetime() with format parameter\n",
    "df['Date'] = pd.to_datetime(df['Date'], format='%d%m%Y')\n",
    "\n",
    "# Print the resulting DataFrame\n",
    "df\n"
   ]
  },
  {
   "cell_type": "markdown",
   "id": "06baac71",
   "metadata": {},
   "source": [
    "-----------------"
   ]
  },
  {
   "cell_type": "markdown",
   "id": "65735e75",
   "metadata": {},
   "source": [
    "https://pandas.pydata.org/docs/reference/api/pandas.to_datetime.html\n",
    "\n",
    "If a DataFrame is passed, then format has no effect"
   ]
  },
  {
   "cell_type": "markdown",
   "id": "1f0e445d",
   "metadata": {},
   "source": [
    "--------------------------------"
   ]
  },
  {
   "cell_type": "markdown",
   "id": "8116eefe",
   "metadata": {},
   "source": [
    "################################\n",
    "# Cell 08:\n",
    "################################\n",
    "\n",
    "<h2> Exemplo 03 </h2>\n",
    "\n",
    "<h2 style=\"background-color:orange;color:white;padding-top:10px;text-align:center;font-weight:bold;font-style:italic;font-size:1cm;padding-bottom:20px;\"> Exemplo 03  </h2>\n",
    "\n",
    " Markdown\n",
    " SHIFT + ENTER\n"
   ]
  },
  {
   "cell_type": "markdown",
   "id": "f196ba77",
   "metadata": {},
   "source": [
    "################################\n",
    "# Cell 09:\n",
    "################################"
   ]
  },
  {
   "cell_type": "code",
   "execution_count": 6,
   "id": "45cf5029",
   "metadata": {},
   "outputs": [
    {
     "data": {
      "text/html": [
       "<div>\n",
       "<style scoped>\n",
       "    .dataframe tbody tr th:only-of-type {\n",
       "        vertical-align: middle;\n",
       "    }\n",
       "\n",
       "    .dataframe tbody tr th {\n",
       "        vertical-align: top;\n",
       "    }\n",
       "\n",
       "    .dataframe thead th {\n",
       "        text-align: right;\n",
       "    }\n",
       "</style>\n",
       "<table border=\"1\" class=\"dataframe\">\n",
       "  <thead>\n",
       "    <tr style=\"text-align: right;\">\n",
       "      <th></th>\n",
       "      <th>date</th>\n",
       "    </tr>\n",
       "  </thead>\n",
       "  <tbody>\n",
       "    <tr>\n",
       "      <th>0</th>\n",
       "      <td>2022-03-26</td>\n",
       "    </tr>\n",
       "    <tr>\n",
       "      <th>1</th>\n",
       "      <td>2022-03-27</td>\n",
       "    </tr>\n",
       "    <tr>\n",
       "      <th>2</th>\n",
       "      <td>2022-01-01</td>\n",
       "    </tr>\n",
       "    <tr>\n",
       "      <th>3</th>\n",
       "      <td>2022-03-29</td>\n",
       "    </tr>\n",
       "  </tbody>\n",
       "</table>\n",
       "</div>"
      ],
      "text/plain": [
       "        date\n",
       "0 2022-03-26\n",
       "1 2022-03-27\n",
       "2 2022-01-01\n",
       "3 2022-03-29"
      ]
     },
     "execution_count": 6,
     "metadata": {},
     "output_type": "execute_result"
    }
   ],
   "source": [
    "# 01. Importar:\n",
    "#     Bibliotecas: matplotlib, numpy\n",
    "#     Módulos: pyplot\n",
    "import pandas as pd\n",
    "import numpy as np\n",
    "\n",
    "# Create a pandas DataFrame with a column of date strings, including a missing value\n",
    "df = pd.DataFrame({'date': ['2022-03-26', '2022-03-27', None, '2022-03-29']})\n",
    "\n",
    "\n",
    "# Convert the 'date' column to datetime objects using to_datetime() with errors parameter\n",
    "df['date'] = pd.to_datetime(df['date'], errors='coerce')\n",
    "#df['date'] = pd.to_datetime(df['date'])\n",
    "df\n",
    "\n",
    "\n",
    "# Fill in missing values with a default date\n",
    "df['date'] = df['date'].fillna(pd.to_datetime('2022-01-01'))\n",
    "\n",
    "# # Print the resulting DataFrame\n",
    "df"
   ]
  },
  {
   "cell_type": "markdown",
   "id": "39450845",
   "metadata": {},
   "source": [
    "--------------------------"
   ]
  },
  {
   "cell_type": "markdown",
   "id": "6bf193f2",
   "metadata": {},
   "source": [
    "-----------------"
   ]
  },
  {
   "cell_type": "markdown",
   "id": "218f6fb2",
   "metadata": {},
   "source": [
    "\n",
    "https://pandas.pydata.org/docs/reference/api/pandas.to_datetime.html\n",
    "\n",
    "errors{‘ignore’, ‘raise’, ‘coerce’}, default ‘raise’\n",
    "If 'raise', then invalid parsing will raise an exception.\n",
    "If 'coerce', then invalid parsing will be set as NaT.\n",
    "If 'ignore', then invalid parsing will return the input."
   ]
  },
  {
   "cell_type": "markdown",
   "id": "8360315f",
   "metadata": {},
   "source": [
    "***************************************************************"
   ]
  }
 ],
 "metadata": {
  "kernelspec": {
   "display_name": "venv",
   "language": "python",
   "name": "python3"
  },
  "language_info": {
   "codemirror_mode": {
    "name": "ipython",
    "version": 3
   },
   "file_extension": ".py",
   "mimetype": "text/x-python",
   "name": "python",
   "nbconvert_exporter": "python",
   "pygments_lexer": "ipython3",
   "version": "3.12.9"
  }
 },
 "nbformat": 4,
 "nbformat_minor": 5
}
