{
 "cells": [
  {
   "cell_type": "markdown",
   "id": "d50fee71",
   "metadata": {},
   "source": [
    "################################\n",
    "# Cell 01:\n",
    "################################\n"
   ]
  },
  {
   "cell_type": "markdown",
   "id": "5735e09a",
   "metadata": {},
   "source": [
    "<h1> Introdução ao Módulo \"Datetime\" </h1>\n",
    "\n",
    "\n",
    "<h1 style=\"background-color:orange;color:white;padding-top:10px;text-align:center;font-weight:bold;font-style:italic;font-size:2cm;padding-bottom:30px;\">Introdução ao Módulo \"Datetime\" </h1>\n",
    "\n",
    " Markdown\n",
    " SHIFT + ENTER\n"
   ]
  },
  {
   "cell_type": "markdown",
   "id": "0434ebf2",
   "metadata": {},
   "source": [
    "################################\n",
    "# Cell 02:\n",
    "################################\n",
    "\n",
    "<div style=\"margin-left:0px;\">\n",
    "<img style=\"float:left;margin:0px;height:150px;\" src=\"https://www.analyticssteps.com/backend/media/thumbnail/6350483/7807104_1578230927_time_analysis_tittle-banner%20(1).jpg\" width=\"33%\"/>\n",
    "<img style=\"float:left;margin:1px;height:150px;\" src=\"https://www.analyticssteps.com/backend/media/thumbnail/6350483/7807104_1578230927_time_analysis_tittle-banner%20(1).jpg\" width=\"33%\"/>\n",
    "<img style=\"float:left;margin:1px;height:150px;\" src=\"https://www.analyticssteps.com/backend/media/thumbnail/6350483/7807104_1578230927_time_analysis_tittle-banner%20(1).jpg\" width=\"33%\"/>\n",
    "</div>\n"
   ]
  },
  {
   "cell_type": "markdown",
   "id": "c2c6ff20",
   "metadata": {},
   "source": [
    "################################\n",
    "# Cell 03:\n",
    "################################"
   ]
  },
  {
   "cell_type": "markdown",
   "id": "ff40b81e",
   "metadata": {},
   "source": [
    "!pip install datetime"
   ]
  },
  {
   "cell_type": "markdown",
   "id": "d43561e0",
   "metadata": {},
   "source": [
    "--------------------------------\n",
    "Resultado do comando:\n",
    "--------------------------------"
   ]
  },
  {
   "cell_type": "markdown",
   "id": "e9e9347b",
   "metadata": {},
   "source": [
    "Collecting datetime\n",
    "  Downloading DateTime-5.5-py3-none-any.whl.metadata (33 kB)\n",
    "Requirement already satisfied: zope.interface in c:\\users\\pc\\anaconda3\\lib\\site-packages (from datetime) (5.4.0)\n",
    "Requirement already satisfied: pytz in c:\\users\\pc\\anaconda3\\lib\\site-packages (from datetime) (2023.3.post1)\n",
    "Requirement already satisfied: setuptools in c:\\users\\pc\\anaconda3\\lib\\site-packages (from zope.interface->datetime) (68.2.2)\n",
    "Downloading DateTime-5.5-py3-none-any.whl (52 kB)\n",
    "   ---------------------------------------- 0.0/52.6 kB ? eta -:--:--\n",
    "   ---------------------------------------- 52.6/52.6 kB 2.7 MB/s eta 0:00:00\n",
    "Installing collected packages: datetime\n",
    "Successfully installed datetime-5.5"
   ]
  },
  {
   "cell_type": "markdown",
   "id": "6a70b662",
   "metadata": {},
   "source": [
    "################################\n",
    "# Cell 04:\n",
    "################################\n"
   ]
  },
  {
   "cell_type": "markdown",
   "id": "14ff2c2f",
   "metadata": {},
   "source": [
    "<h2> Data Atual </h2>\n",
    "\n",
    "\n",
    "<h2 style=\"background-color:orange;color:white;padding-top:10px;text-align:center;font-weight:bold;font-style:italic;font-size:1cm;padding-bottom:20px;\"> Data Atual  </h2>\n",
    "\n",
    " Markdown\n",
    " SHIFT + ENTER\n"
   ]
  },
  {
   "cell_type": "markdown",
   "id": "1a33db72",
   "metadata": {},
   "source": [
    "################################\n",
    "# Cell 05:\n",
    "################################"
   ]
  },
  {
   "cell_type": "code",
   "execution_count": 1,
   "id": "66627944",
   "metadata": {},
   "outputs": [
    {
     "name": "stdout",
     "output_type": "stream",
     "text": [
      "Current date and time: 2025-04-29 14:27:43.315519\n"
     ]
    }
   ],
   "source": [
    "# 01. Importar:\n",
    "#     Bibliotecas: matplotlib, numpy\n",
    "#     Módulos: pyplot\n",
    "import datetime\n",
    "\n",
    "# get the current date and time\n",
    "now = datetime.datetime.now()\n",
    "\n",
    "# print the current date and time\n",
    "print(\"Current date and time:\", now)\n"
   ]
  },
  {
   "cell_type": "markdown",
   "id": "088d1a9d",
   "metadata": {},
   "source": [
    "################################\n",
    "# Cell 06:\n",
    "################################\n",
    "\n",
    "<h2> Data Atual Formatada </h2>\n",
    "\n",
    "<h2 style=\"background-color:orange;color:white;padding-top:10px;text-align:center;font-weight:bold;font-style:italic;font-size:1cm;padding-bottom:20px;\"> Data Atual Formatada  </h2>\n",
    "\n",
    " Markdown\n",
    " SHIFT + ENTER"
   ]
  },
  {
   "cell_type": "code",
   "execution_count": 2,
   "id": "b8cf61da",
   "metadata": {},
   "outputs": [
    {
     "name": "stdout",
     "output_type": "stream",
     "text": [
      "Data e Hora formatadas: 29/04/2025 14:28:07\n",
      "Data formatada: 29/04/2025\n",
      "Hora formatada: 14:28:07\n"
     ]
    }
   ],
   "source": [
    "\n",
    "################################\n",
    "# Cell 07:\n",
    "################################\n",
    "\n",
    "# 01. Importar:\n",
    "#     Bibliotecas: matplotlib, numpy\n",
    "#     Módulos: pyplot\n",
    "import datetime\n",
    "\n",
    "# get the current date and time\n",
    "now = datetime.datetime.now()\n",
    "\n",
    "# format the date and time output\n",
    "formatted_date_time = now.strftime(\"%d/%m/%Y %H:%M:%S\")\n",
    "#formatted_date_time = now.strftime(\"%d-%m-%Y %H:%M\")\n",
    "formatted_date = now.strftime(\"%d/%m/%Y\")\n",
    "formatted_time = now.strftime(\"%H:%M:%S\")\n",
    "\n",
    "# print the formatted date and time\n",
    "print(\"Data e Hora formatadas:\", formatted_date_time)\n",
    "print(\"Data formatada:\", formatted_date)\n",
    "print(\"Hora formatada:\", formatted_time)\n"
   ]
  },
  {
   "cell_type": "markdown",
   "id": "69a08a84",
   "metadata": {},
   "source": [
    "\n",
    "################################\n",
    "# Cell 08:\n",
    "################################\n",
    "\n",
    "<h2> Diferença de Datas </h2>\n",
    "\n",
    "<h2 style=\"background-color:orange;color:white;padding-top:10px;text-align:center;font-weight:bold;font-style:italic;font-size:1cm;padding-bottom:20px;\"> Diferença de Datas  </h2>\n",
    "\n",
    " Markdown\n",
    " SHIFT + ENTER"
   ]
  },
  {
   "cell_type": "code",
   "execution_count": 3,
   "id": "7fbcc640",
   "metadata": {},
   "outputs": [
    {
     "name": "stdout",
     "output_type": "stream",
     "text": [
      "Número de dias: 31 days, 0:00:00.\n",
      "Número de dias: 31.\n"
     ]
    }
   ],
   "source": [
    "################################\n",
    "# Cell 09:\n",
    "################################\n",
    "\n",
    "# 01. Importar:\n",
    "#     Bibliotecas: matplotlib, numpy\n",
    "#     Módulos: pyplot\n",
    "import datetime\n",
    "\n",
    "# create two dates\n",
    "#                     ano  mês dia\n",
    "date1 = datetime.date(2025, 4, 1)\n",
    "date2 = datetime.date(2025, 3, 1)\n",
    "\n",
    "# subtract the two dates to get the difference\n",
    "difference = date1 - date2\n",
    "\n",
    "# print the difference in days\n",
    "print(\"Número de dias: \"+str(difference)+\".\")\n",
    "print(\"Número de dias: \"+str(difference.days)+\".\")  # output: 31\n"
   ]
  },
  {
   "cell_type": "code",
   "execution_count": 4,
   "id": "4080c38b",
   "metadata": {},
   "outputs": [
    {
     "name": "stdout",
     "output_type": "stream",
     "text": [
      "Número de dias: 9131.\n",
      "Diferença em anos: 24.999315537303218.\n"
     ]
    }
   ],
   "source": [
    "#########################################\n",
    "# Cell 10: Idade em Anos\n",
    "#########################################\n",
    "\n",
    "# 01. Importar:\n",
    "#     Bibliotecas: matplotlib, numpy\n",
    "#     Módulos: pyplot\n",
    "import datetime\n",
    "\n",
    "# create two dates\n",
    "#                     ano  mês dia\n",
    "date1 = datetime.date(2025, 3, 20)\n",
    "date2 = datetime.date(2000, 3, 20)\n",
    "\n",
    "# subtract the two dates to get the difference\n",
    "difference = date1 - date2\n",
    "\n",
    "# print the difference in days\n",
    "print(\"Número de dias: \"+str(difference.days)+\".\")\n",
    "print(\"Diferença em anos: \"+str(difference.days/365.25)+\".\")\n"
   ]
  },
  {
   "cell_type": "markdown",
   "id": "def40a73",
   "metadata": {},
   "source": [
    "***************************************************************"
   ]
  }
 ],
 "metadata": {
  "kernelspec": {
   "display_name": "venv",
   "language": "python",
   "name": "python3"
  },
  "language_info": {
   "codemirror_mode": {
    "name": "ipython",
    "version": 3
   },
   "file_extension": ".py",
   "mimetype": "text/x-python",
   "name": "python",
   "nbconvert_exporter": "python",
   "pygments_lexer": "ipython3",
   "version": "3.12.9"
  }
 },
 "nbformat": 4,
 "nbformat_minor": 5
}
