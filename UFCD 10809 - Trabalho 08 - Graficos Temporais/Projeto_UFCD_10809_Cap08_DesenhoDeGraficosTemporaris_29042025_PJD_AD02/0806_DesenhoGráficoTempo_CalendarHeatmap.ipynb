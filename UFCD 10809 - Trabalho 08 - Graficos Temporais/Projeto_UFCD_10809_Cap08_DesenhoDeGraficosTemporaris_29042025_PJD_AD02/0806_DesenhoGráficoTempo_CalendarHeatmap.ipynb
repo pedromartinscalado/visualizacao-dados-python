{
 "cells": [
  {
   "cell_type": "markdown",
   "id": "dca9b696",
   "metadata": {},
   "source": [
    "################################\n",
    "# Cell 01:\n",
    "################################\n",
    "\n",
    "<h1> Calendar Heatmap </h1>\n",
    "\n",
    "<h1 style=\"background-color:orange;color:white;padding-top:10px;text-align:center;font-weight:bold;font-style:italic;font-size:2cm;padding-bottom:30px;\"> Calendar Heatmap </h1>\n",
    "\n",
    " Markdown\n",
    " SHIFT + ENTER"
   ]
  },
  {
   "cell_type": "markdown",
   "id": "3e7236b3",
   "metadata": {},
   "source": [
    "################################\n",
    "# Cell 02:\n",
    "################################\n",
    "\n",
    "<div style=\"margin-left:0px;\">\n",
    "<img style=\"float:left;margin:0px;height:150px;\" src=\"https://www.analyticssteps.com/backend/media/thumbnail/6350483/7807104_1578230927_time_analysis_tittle-banner%20(1).jpg\" width=\"33%\"/>\n",
    "<img style=\"float:left;margin:1px;height:150px;\" src=\"https://www.analyticssteps.com/backend/media/thumbnail/6350483/7807104_1578230927_time_analysis_tittle-banner%20(1).jpg\" width=\"33%\"/>\n",
    "<img style=\"float:left;margin:1px;height:150px;\" src=\"https://www.analyticssteps.com/backend/media/thumbnail/6350483/7807104_1578230927_time_analysis_tittle-banner%20(1).jpg\" width=\"33%\"/>\n",
    "</div>"
   ]
  },
  {
   "cell_type": "markdown",
   "id": "b6426e2c",
   "metadata": {},
   "source": [
    "################################\n",
    "# Cell 03:\n",
    "################################\n"
   ]
  },
  {
   "cell_type": "markdown",
   "id": "877b46d2",
   "metadata": {},
   "source": [
    "\n",
    "!pip install calmap\n",
    "\n",
    "\n",
    "# Depois de qq instalação é\n",
    "# necessário reiniciar o Kernel\n",
    "\n",
    "Menu Kernel -> Restart Kernel"
   ]
  },
  {
   "cell_type": "markdown",
   "id": "3b28b7ea",
   "metadata": {},
   "source": [
    "################################\n",
    "# Cell 04:\n",
    "################################\n",
    "\n",
    "<h2> Exemplo 01 </h2>\n",
    "\n",
    "<h2 style=\"background-color:orange;color:white;padding-top:10px;text-align:center;font-weight:bold;font-style:italic;font-size:1cm;padding-bottom:20px;\"> Exemplo 01  </h2>\n",
    "\n",
    " Markdown\n",
    " SHIFT + ENTER\n"
   ]
  },
  {
   "cell_type": "markdown",
   "id": "c7e59ada",
   "metadata": {},
   "source": [
    "################################\n",
    "# Cell 05:\n",
    "################################\n"
   ]
  },
  {
   "cell_type": "code",
   "execution_count": 2,
   "id": "88bb0b81",
   "metadata": {},
   "outputs": [],
   "source": [
    "import calmap\n",
    "import pandas as pd\n",
    "import numpy as np\n",
    "\n",
    "all_days = pd.date_range('1/01/2023', periods=731, freq='D')   \n",
    "# Range of 730 dates, starting from 1st Jan 2023\n",
    "\n",
    "# E.g. We need volume of orders on a eCommerce platform on all days of the year. \n",
    "# We would like to find any seasonal (weekly/monthly) pattern visually. \n",
    "\n",
    "events = pd.Series(np.random.rand(len(all_days))*20, index=all_days)  \n"
   ]
  },
  {
   "cell_type": "markdown",
   "id": "5d9b6b62",
   "metadata": {},
   "source": [
    "################################\n",
    "# Cell 06:\n",
    "################################"
   ]
  },
  {
   "cell_type": "code",
   "execution_count": 3,
   "id": "b5242f08",
   "metadata": {},
   "outputs": [
    {
     "name": "stdout",
     "output_type": "stream",
     "text": [
      "DatetimeIndex(['2023-01-01', '2023-01-02', '2023-01-03', '2023-01-04',\n",
      "               '2023-01-05', '2023-01-06', '2023-01-07', '2023-01-08',\n",
      "               '2023-01-09', '2023-01-10',\n",
      "               ...\n",
      "               '2024-12-22', '2024-12-23', '2024-12-24', '2024-12-25',\n",
      "               '2024-12-26', '2024-12-27', '2024-12-28', '2024-12-29',\n",
      "               '2024-12-30', '2024-12-31'],\n",
      "              dtype='datetime64[ns]', length=731, freq='D')\n"
     ]
    }
   ],
   "source": [
    "print(all_days)"
   ]
  },
  {
   "cell_type": "markdown",
   "id": "d680f7c5",
   "metadata": {},
   "source": [
    "\n",
    "################################\n",
    "# Cell 07:\n",
    "################################\n"
   ]
  },
  {
   "cell_type": "code",
   "execution_count": 4,
   "id": "cb800be9",
   "metadata": {},
   "outputs": [
    {
     "name": "stdout",
     "output_type": "stream",
     "text": [
      "2023-01-01     6.632689\n",
      "2023-01-02    12.238568\n",
      "2023-01-03     7.286093\n",
      "2023-01-04    19.964042\n",
      "2023-01-05     8.455238\n",
      "                ...    \n",
      "2024-12-27     7.410328\n",
      "2024-12-28    10.049583\n",
      "2024-12-29    10.802836\n",
      "2024-12-30     9.291581\n",
      "2024-12-31    12.208683\n",
      "Freq: D, Length: 731, dtype: float64\n"
     ]
    }
   ],
   "source": [
    "print(events)"
   ]
  },
  {
   "cell_type": "markdown",
   "id": "f0fff7bb",
   "metadata": {},
   "source": [
    "################################\n",
    "# Cell 08:\n",
    "################################"
   ]
  },
  {
   "cell_type": "code",
   "execution_count": 5,
   "id": "34062b26",
   "metadata": {},
   "outputs": [
    {
     "data": {
      "text/plain": [
       "<Axes: >"
      ]
     },
     "execution_count": 5,
     "metadata": {},
     "output_type": "execute_result"
    },
    {
     "data": {
      "image/png": "[encoded data removed]",
      "text/plain": [
       "<Figure size 640x480 with 1 Axes>"
      ]
     },
     "metadata": {},
     "output_type": "display_data"
    }
   ],
   "source": [
    "# Plot values for 2019 through a heatmap \n",
    "\n",
    "calmap.yearplot(events, year=2023)"
   ]
  },
  {
   "cell_type": "markdown",
   "id": "e747f34c",
   "metadata": {},
   "source": [
    "################################\n",
    "# Cell 09:\n",
    "################################\n",
    "\n",
    "<h2> Exemplo 02 </h2>\n",
    "\n",
    "<h2 style=\"background-color:orange;color:white;padding-top:10px;text-align:center;font-weight:bold;font-style:italic;font-size:1cm;padding-bottom:20px;\"> Exemplo 02  </h2>\n",
    "\n",
    " Markdown\n",
    " SHIFT + ENTER"
   ]
  },
  {
   "cell_type": "markdown",
   "id": "7445c472",
   "metadata": {},
   "source": [
    "################################\n",
    "# Cell 10:\n",
    "################################"
   ]
  },
  {
   "cell_type": "code",
   "execution_count": null,
   "id": "2bae83aa",
   "metadata": {},
   "outputs": [
    {
     "data": {
      "image/png": "[encoded data removed]",
      "text/plain": [
       "<Figure size 1000x600 with 2 Axes>"
      ]
     },
     "metadata": {},
     "output_type": "display_data"
    }
   ],
   "source": [
    "import numpy as np\n",
    "import pandas as pd\n",
    "import calmap\n",
    "import matplotlib.pyplot as plt         \n",
    "\n",
    "\n",
    "np.random.seed(0)\n",
    "all_days = pd.date_range('2023-01-01', periods=365 * 2, freq='D')   # two years\n",
    "days      = np.random.choice(all_days, 200)\n",
    "events    = pd.Series(np.random.randn(len(days)), index=days)       # DatetimeIndex\n",
    "\n",
    "\n",
    "cmaps = [\n",
    "    ('Perceptually Uniform Sequential', ['viridis','plasma','inferno','magma','cividis']),\n",
    "    ('Sequential', ['Greys','Purples','Blues','Greens','Oranges','Reds','YlOrBr','YlOrRd',\n",
    "                    'OrRd','PuRd','RdPu','BuPu','GnBu','PuBu','YlGnBu','PuBuGn','BuGn','YlGn']),\n",
    "    ('Sequential (2)', ['binary','gist_yarg','gist_gray','gray','bone','pink','spring','summer',\n",
    "                        'autumn','winter','cool','Wistia','hot','afmhot','gist_heat','copper']),\n",
    "    ('Diverging', ['PiYG','PRGn','BrBG','PuOr','RdGy','RdBu','RdYlBu','RdYlGn','Spectral',\n",
    "                   'coolwarm','bwr','seismic','berlin','managua','vanimo']),\n",
    "    ('Cyclic', ['twilight','twilight_shifted','hsv']),\n",
    "    ('Qualitative', ['Pastel1','Pastel2','Paired','Accent','Dark2','Set1','Set2','Set3',\n",
    "                     'tab10','tab20','tab20b','tab20c']),\n",
    "    ('Miscellaneous', ['flag','prism','ocean','gist_earth','terrain','gist_stern','gnuplot',\n",
    "                       'gnuplot2','CMRmap','cubehelix','brg','gist_rainbow','rainbow',\n",
    "                       'jet','turbo','nipy_spectral','gist_ncar'])\n",
    "]\n",
    "\n",
    "\n",
    "fig, axes = calmap.calendarplot(\n",
    "    events,\n",
    "    daylabels='MTWTFSS',\n",
    "    cmap='YlGn',                      \n",
    "    fillcolor='grey',\n",
    "    linewidth=0,\n",
    "    fig_kws=dict(figsize=(10, 6))     \n",
    ")\n",
    "\n",
    "\n",
    "plt.show()                            # without this, no window appears in scripts :contentReference[oaicite:2]{index=2}\n"
   ]
  },
  {
   "cell_type": "markdown",
   "id": "36825195",
   "metadata": {},
   "source": [
    "\n",
    "**************************************************************"
   ]
  },
  {
   "cell_type": "markdown",
   "id": "a5df61b2",
   "metadata": {},
   "source": [
    "08.07 Desenho de Gráficos Temporais (\"Time Series Visualization\"):\n",
    "      - \n",
    "--------------------------------------------------------------\n",
    "--------------------------------------------------------------\n",
    "\n",
    "\n",
    "\n",
    "\n",
    "\n",
    "**************************************************************\n",
    "\n",
    "\n",
    "\n",
    "08.08 Resumo do capítulo\n",
    "--------------------------------------------------------------\n",
    "--------------------------------------------------------------\n",
    "\n",
    "\n",
    "08.02 Introdução ao Módulo \"Datetime\" \n",
    "\n",
    "08.03 Conversão de Formatos de Datas\n",
    "\n",
    "08.04 Desenho de Gráficos Temporais (\"Time Series Visualization\"):\n",
    "      - Introdução\n",
    "\n",
    "08.05 Desenho de Gráficos Temporais (\"Time Series Visualization\"):\n",
    "      - Dados online\n",
    "\n",
    "08.05 Desenho de Gráficos Temporais (\"Time Series Visualization\"):\n",
    "      - \n",
    "\n",
    "\n",
    "********************************************************************\n",
    "\n",
    "\n",
    "\n",
    "08.09 Bibliografia/Sitografia-Webgrafia\n",
    "--------------------------------------------------------------\n",
    "--------------------------------------------------------------\n",
    "\n",
    "\n",
    "08.09.01 Bibliografia\n",
    "08.09.02 Sitografia-Webgrafia\n",
    "\n",
    "\n",
    "\n",
    "08.09.01 Bibliografia\n",
    "-----------------------------------------------------------\n",
    "\n",
    "Bibliografia:\n",
    "\n",
    "[B01]\tESTRUTURAS DE DADOS E ALGORITMOS EM C - 3ª EDIÇÃO REVISTA E AUMENTADA, \n",
    "        António Adrego da Rocha, FCA.\n",
    "\n",
    "[B02]\tANÁLISE DA COMPLEXIDADE DE ALGORITMOS, António Adrego da Rocha, FCA.\n",
    "\n",
    "[B03]\tESTRUTURAS DE DADOS E ALGORITMOS EM JAVA, António Adegro da Rocha, FCA.\n",
    "\n",
    "[B04]\tANÁLISE INTELIGENTE DE DADOS - ALGORITMOS E IMPLEMENTAÇÃO EM JAVA,\n",
    "        Miguel Rocha | Paulo Cortez | José Maia Neves, FCA.\n",
    "\n",
    "[B05]\tPROGRAMAÇÃO EM C++ - ALGORITMOS E ESTRUTURAS DE DADOS, \n",
    "        Pimenta Rodrigues | Pedro Pereira | Manuela Sousa, FCA.\n",
    "\n",
    "[B06]\tPROGRAMAÇÃO EM C++ - CONCEITOS BÁSICOS E ALGORITMOS, \n",
    "        Pimenta Rodrigues | Pedro Pereira | Manuela Sousa, FCA.\n",
    "\n",
    "[B07]\tPYTHON - ALGORITMIA E PROGRAMAÇÃO WEB, \n",
    "        José Braga de Vasconcelos, FCA.\n",
    "\n",
    "[B08]\tEXERCÍCIOS DE JAVA - ALGORITMIA E PROGRAMAÇÃO ESTRUTURADA, \n",
    "        Adelaide Carvalho, FCA.\n",
    "\n",
    "[B09]\tPRÁTICAS DE C# - ALGORITMIA E PROGRAMAÇÃO ESTRUTURADA, Adelaide Carvalho, FCA.\n",
    "\n",
    "[B10]\tINTRODUÇÃO À ALGORITMIA E PROGRAMAÇÃO COM PYTHON\n",
    "        Filipe Portela | Tiago C. Pereira, FCA.\n",
    "\n",
    "[B11]\tPRÁTICAS DE PYTHON - ALGORITMIA E PROGRAMAÇÃO\n",
    "        Adelaide Carvalho, FCA.\n",
    "\n",
    "[B12]\tCIÊNCIA DOS DADOS NAS ORGANIZAÇÕES - APLICAÇÕES EM PYTHON\n",
    "        José Braga de Vasconcelos | Alexandre Barão, FCA.\n",
    "\n",
    "[B13]\tPROGRAMAÇÃO EM PYTHON - FUNDAMENTOS E RESOLUÇÃO DE PROBLEMAS,\n",
    "        Ernesto Costa, FCA.\n",
    "\n",
    "[B14]\tPYTHON - ALGORITMIA E PROGRAMAÇÃO WEB\n",
    "        José Braga de Vasconcelos, FCA.\n",
    "\n",
    "[B15]\tPYTHON - ALGORITMIA E PROGRAMAÇÃO WEB, \n",
    "        José Braga de Vasconcelos, FCA.\n",
    "\n",
    "***********************************************************************\n",
    "\n",
    "\n",
    "08.09.02 Sitografia-Webgrafia\n",
    "-----------------------------------------------------------\n",
    "\n",
    "[W01]. https://www.python.org/\n",
    "[W02]. https://pt.wikipedia.org/wiki/Python\n",
    "[W03]. https://en.wikipedia.org/wiki/Python_(programming_language)\n",
    "[W04]. https://www.tutorialspoint.com/python/index.htm\n",
    "[W05]. https://www.w3schools.com/python/\n",
    "[W06]. https://www.codecademy.com/catalog/language/python\n",
    "[W07]. https://www.devmedia.com.br/guia/python/37024\n",
    "[W08]. https://realpython.com/\n",
    "[W09]. https://www.academiadecodigo.org\n",
    "[W10]. https://www.pluralsight.com/\n",
    "[W11]. https://www.datacamp.com/\n",
    "[W12]. https://www.learnpython.org/\n",
    "[W13]. https://pt.coursera.org/courses?query=python\n",
    "[W14]. https://www.coursera.org/courses?query=python\n",
    "[W15]. https://www.tutorialspoint.com/data_structures_algorithms/index.htm\n",
    "[W16]. https://www.khanacademy.org/computing/computer-science/algorithms\n",
    "[W17]. https://www.programiz.com/dsa\n",
    "[W18]. https://www.programming4beginners.com/tutorial-beginners-algorithms\n",
    "[W19]. https://hackr.io/tutorials/learn-data-structures-algorithms\n",
    "[W20]. https://try.codecademy.com/learn-python-3\n",
    "[W21]. https://codeforall.com/cursos-intensivos/bootcamp-programacao-full-stack\n",
    "[W22]. https://docs.python.org/3/tutorial/index.html\n",
    "\n",
    "\n",
    "***************************************************************\n",
    "\n",
    "\n",
    "\n",
    "\n",
    "08.10 Trabalho(s)/Tarefa(s)\n",
    "--------------------------------------------------------------\n",
    "--------------------------------------------------------------\n",
    "\n",
    "\n",
    "\n",
    "\n",
    "\n",
    "\n",
    "***************************************************************\n",
    "\n",
    "\n",
    "\n",
    "\n"
   ]
  }
 ],
 "metadata": {
  "kernelspec": {
   "display_name": "venv",
   "language": "python",
   "name": "python3"
  },
  "language_info": {
   "codemirror_mode": {
    "name": "ipython",
    "version": 3
   },
   "file_extension": ".py",
   "mimetype": "text/x-python",
   "name": "python",
   "nbconvert_exporter": "python",
   "pygments_lexer": "ipython3",
   "version": "3.12.9"
  }
 },
 "nbformat": 4,
 "nbformat_minor": 5
}
