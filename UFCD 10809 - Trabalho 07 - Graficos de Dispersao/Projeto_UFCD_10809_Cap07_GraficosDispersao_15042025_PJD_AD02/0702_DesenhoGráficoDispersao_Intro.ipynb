{
 "cells": [
  {
   "cell_type": "markdown",
   "id": "fcd417ba",
   "metadata": {},
   "source": [
    "################################\n",
    "# Cell 01:\n",
    "################################\n",
    "\n",
    "<h1> Gráficos de Dispersão - \"Scatter Plots\" </h1>\n",
    "\n",
    "\n",
    "<h1 style=\"background-color:black;color:white;padding-top:10px;text-align:center;font-weight:bold;font-style:italic;font-size:2cm;padding-bottom:30px;\">Gráficos de Dispersão - \"Scatter Plots\" </h1>\n",
    "\n",
    " Markdown\n",
    " SHIFT + ENTER\n"
   ]
  },
  {
   "cell_type": "markdown",
   "id": "628da58e",
   "metadata": {},
   "source": [
    "################################\n",
    "# Cell 02:\n",
    "################################\n",
    "\n",
    "<div style=\"margin-left:2%;\">\n",
    "<img style=\"float:left;margin:2px;height:150px;\" src=\"https://vivirenelpoblado.com/wp-content/uploads/2023/11/Gamers-Inder-09-scaled.jpg\" width=\"32%\"/>\n",
    "<img style=\"float:left;margin:2px;height:150px;\" src=\"https://www.laopinion.co/sites/default/files/2020/12/15/imagen/videojuegos.jpg\" width=\"32%\"/>\n",
    "<img style=\"float:left;margin:2px;height:150px;\" src=\"https://www.universitymagazine.ca/wp-content/uploads/2024/10/Countries-With-The-Most-Gamers.jpg\" width=\"32%\"/>\n",
    "\n",
    "</div>\n",
    "\n",
    "\n",
    "\n",
    " Markdown\n",
    " SHIFT + ENTER\n",
    "\n"
   ]
  },
  {
   "cell_type": "markdown",
   "id": "bf2e58d1",
   "metadata": {},
   "source": [
    "################################\n",
    "# Cell 03:\n",
    "################################\n",
    "\n",
    "<h2> Criação de \"Scatter Plot\" </h2>\n",
    "\n",
    "<h2 style=\"background-color:orange;color:white;padding-top:10px;text-align:center;font-weight:bold;font-style:italic;font-size:1cm;padding-bottom:20px;\"> Criação de \"Scatter Plot\"  </h2>\n",
    "\n",
    "\n",
    " Markdown\n",
    " SHIFT + ENTER\n"
   ]
  },
  {
   "cell_type": "markdown",
   "id": "cd6a6ef5",
   "metadata": {},
   "source": [
    "################################\n",
    "# Cell 04:\n",
    "################################\n"
   ]
  },
  {
   "cell_type": "code",
   "execution_count": 1,
   "id": "6da67479",
   "metadata": {},
   "outputs": [
    {
     "data": {
      "image/png": "[encoded data removed]",
      "text/plain": [
       "<Figure size 640x480 with 1 Axes>"
      ]
     },
     "metadata": {},
     "output_type": "display_data"
    }
   ],
   "source": [
    "# 01. Importar:\n",
    "#     Bibliotecas: matplotlib, numpy\n",
    "#     Módulos: pyplot\n",
    "import matplotlib.pyplot as plt\n",
    "\n",
    "\n",
    "# 02. Valore(s) do(s) gráfico(s)\n",
    "# Sample data\n",
    "x = [1, 2, 3, 4, 5,6,7,8,9,10]\n",
    "y = [2, 3, 2, 5, 1,4,9,2,6,3]\n",
    "\n",
    "\n",
    "# 03. Definição e configuração do gráfico\n",
    "# Create a scatter plot\n",
    "plt.scatter(x, y)\n",
    "\n",
    "# 04. Título e Rótulos dos Eixos\n",
    "plt.title('Basic Scatter Plot')\n",
    "plt.xlabel('X-axis label')\n",
    "plt.ylabel('Y-axis label')\n",
    "\n",
    "# 05. Apresentação do gráfico\n",
    "plt.show()\n"
   ]
  },
  {
   "cell_type": "markdown",
   "id": "24049bc7",
   "metadata": {},
   "source": [
    "\n",
    "********************************************************************"
   ]
  }
 ],
 "metadata": {
  "kernelspec": {
   "display_name": "venv",
   "language": "python",
   "name": "python3"
  },
  "language_info": {
   "codemirror_mode": {
    "name": "ipython",
    "version": 3
   },
   "file_extension": ".py",
   "mimetype": "text/x-python",
   "name": "python",
   "nbconvert_exporter": "python",
   "pygments_lexer": "ipython3",
   "version": "3.12.9"
  }
 },
 "nbformat": 4,
 "nbformat_minor": 5
}
