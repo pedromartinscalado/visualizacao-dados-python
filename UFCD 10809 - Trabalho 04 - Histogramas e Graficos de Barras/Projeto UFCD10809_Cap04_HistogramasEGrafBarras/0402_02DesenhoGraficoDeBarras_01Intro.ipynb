{
 "cells": [
  {
   "cell_type": "markdown",
   "id": "bce136e2",
   "metadata": {},
   "source": [
    "################################\n",
    "# Cell 01:\n",
    "################################\n",
    "\n",
    "<h1>  Gráfico de Barras </h1>\n",
    "\n",
    "\n",
    "<h1 style=\"background-color:black;color:white;padding:10px;text-align:center;font-weight:bold;font-style:italic;\"> Gráfico de Barras </h1>\n",
    "\n",
    "\n",
    "<div style=\"margin-left:2%;\">\n",
    "<img style=\"float:left;margin:2px\" src=\"https://www.simplilearn.com/ice9/free_resources_article_thumb/Best-Programming-Languages-to-Start-Learning-Today.jpg\" width=\"32%\"/>\n",
    "<img style=\"float:left;margin:2px\" src=\"https://www.simplilearn.com/ice9/free_resources_article_thumb/Best-Programming-Languages-to-Start-Learning-Today.jpg\" width=\"32%\"/>\n",
    "<img style=\"float:left;margin:2px\" src=\"https://www.simplilearn.com/ice9/free_resources_article_thumb/Best-Programming-Languages-to-Start-Learning-Today.jpg\" width=\"32%\"/>\n",
    "</div>\n",
    "\n",
    "\n",
    " Markdown\n",
    " SHIFT + ENTER\n"
   ]
  },
  {
   "cell_type": "markdown",
   "id": "29f7b8c1",
   "metadata": {},
   "source": [
    "################################\n",
    "# Cell 02:\n",
    "################################"
   ]
  },
  {
   "cell_type": "markdown",
   "id": "e7dedebc",
   "metadata": {},
   "source": [
    "<h2> \"Bar Charts\" - Introdução </h2>\n",
    "\n",
    "<h2 style=\"background-color:orange;color:white;padding:10px;text-align:center;font-weight:bold;font-style:italic;\"> \"Bar Charts\" - Introdução </h2>\n",
    "\n",
    " Markdown\n",
    " SHIFT + ENTER\n"
   ]
  },
  {
   "cell_type": "markdown",
   "id": "5be5997c",
   "metadata": {},
   "source": [
    "################################\n",
    "# Cell 03:\n",
    "################################\n"
   ]
  },
  {
   "cell_type": "code",
   "execution_count": 1,
   "id": "20323d20",
   "metadata": {},
   "outputs": [
    {
     "data": {
      "image/png": "[encoded data removed]",
      "text/plain": [
       "<Figure size 640x480 with 1 Axes>"
      ]
     },
     "metadata": {},
     "output_type": "display_data"
    }
   ],
   "source": [
    "# 01. Importar:\n",
    "#     Bibliotecas: matplotlib, numpy\n",
    "#     Módulos: pyplot\n",
    "import matplotlib.pyplot as plt\n",
    "\n",
    "# 02. Valore(s) do(s) gráfico(s)\n",
    "langs = ['C', 'C++', 'Java', 'Python', 'PHP']\n",
    "students = [23,17,35,29,12]\n",
    "\n",
    "# 03. Definição e configuração do gráfico\n",
    "plt.bar(langs,students, color='orange')\n",
    "\n",
    "plt.title(\"Competências\")\n",
    "plt.xlabel(\"Linguagens de Programação\")\n",
    "plt.ylabel(\"Número de Estudantes\")\n",
    "\n",
    "# 04. Apresentação do gráfico\n",
    "plt.show()"
   ]
  },
  {
   "cell_type": "markdown",
   "id": "9e6a28db",
   "metadata": {},
   "source": [
    "*******************************************************\n",
    "https://matplotlib.org/stable/api/_as_gen/matplotlib.pyplot.bar.html\n",
    "**************************************************************"
   ]
  }
 ],
 "metadata": {
  "kernelspec": {
   "display_name": "venv",
   "language": "python",
   "name": "python3"
  },
  "language_info": {
   "codemirror_mode": {
    "name": "ipython",
    "version": 3
   },
   "file_extension": ".py",
   "mimetype": "text/x-python",
   "name": "python",
   "nbconvert_exporter": "python",
   "pygments_lexer": "ipython3",
   "version": "3.12.9"
  }
 },
 "nbformat": 4,
 "nbformat_minor": 5
}
