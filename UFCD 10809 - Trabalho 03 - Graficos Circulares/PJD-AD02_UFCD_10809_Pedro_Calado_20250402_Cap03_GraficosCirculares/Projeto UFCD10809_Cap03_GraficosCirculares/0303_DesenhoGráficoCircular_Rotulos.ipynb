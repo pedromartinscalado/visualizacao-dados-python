{
 "cells": [
  {
   "cell_type": "markdown",
   "metadata": {},
   "source": [
    "03.03 Desenho de Gráfico Circular (\"Pie Charts\"):\n",
    "      - Rótulos e Titulos\n",
    "--------------------------------------------------------------\n",
    "--------------------------------------------------------------"
   ]
  },
  {
   "cell_type": "markdown",
   "metadata": {},
   "source": [
    "################################\n",
    "# Cell 01:\n",
    "################################\n",
    "\n",
    "<h1> Gráfico Circular - \"Pie Charts\" </h1>\n",
    "\n",
    "<h1 style=\"background-color:red;color:white;padding:10px;text-align:center;font-weight:bold;font-style:italic;\"> Gráfico Circular - \"Pie Charts\" </h1>\n",
    "\n",
    " Markdown\n",
    " SHIFT + ENTER\n"
   ]
  },
  {
   "cell_type": "markdown",
   "metadata": {},
   "source": [
    "################################\n",
    "# Cell 02:\n",
    "################################\n",
    "\n",
    "<h2> Rótulos e Títulos </h2>\n",
    "\n",
    "<h2 style=\"background-color:red;color:white;padding:10px;text-align:center;font-weight:bold;font-style:italic;\"> Rótulos e Títulos </h2>\n",
    "\n",
    " Markdown\n",
    " SHIFT + ENTER"
   ]
  },
  {
   "cell_type": "markdown",
   "metadata": {},
   "source": [
    "################################\n",
    "# Cell 03:\n",
    "################################\n",
    "\n",
    "<h2> Adição de Rótulos </h2>\n",
    "\n",
    "<h3 style=\"background-color:green;color:white;padding:10px;text-align:center;font-weight:bold;\"> Adição de Rótulos  </h3>\n",
    "\n",
    " Markdown\n",
    " SHIFT + ENTER\n"
   ]
  },
  {
   "cell_type": "code",
   "execution_count": 1,
   "metadata": {},
   "outputs": [
    {
     "data": {
      "image/png": "[encoded data removed]",
      "text/plain": [
       "<Figure size 640x480 with 1 Axes>"
      ]
     },
     "metadata": {},
     "output_type": "display_data"
    }
   ],
   "source": [
    "################################\n",
    "# Cell 04:\n",
    "################################\n",
    "\n",
    "# 01. Importar:\n",
    "#     Bibliotecas: matplotlib, numpy\n",
    "#     Módulos: pyplot\n",
    "import matplotlib.pyplot as plt\n",
    "import numpy as np\n",
    "\n",
    "\n",
    "# 02. Valore(s) do(s) gráfico(s)\n",
    "y = np.array([35, 25, 25, 15])\n",
    "\n",
    "# 03. Adição de Rótulos\n",
    "mylabels = [\"Apples\", \"Bananas\", \"Cherries\", \"Dates\"]\n",
    "\n",
    "\n",
    "# 04. Definição do tipo de gráfico\n",
    "plt.pie(y, labels = mylabels)\n",
    "\n",
    "# 05. Apresentação do gráfico\n",
    "plt.show()"
   ]
  },
  {
   "cell_type": "code",
   "execution_count": null,
   "metadata": {},
   "outputs": [],
   "source": [
    "# ********************************************************************"
   ]
  }
 ],
 "metadata": {
  "kernelspec": {
   "display_name": "venv",
   "language": "python",
   "name": "python3"
  },
  "language_info": {
   "codemirror_mode": {
    "name": "ipython",
    "version": 3
   },
   "file_extension": ".py",
   "mimetype": "text/x-python",
   "name": "python",
   "nbconvert_exporter": "python",
   "pygments_lexer": "ipython3",
   "version": "3.12.9"
  }
 },
 "nbformat": 4,
 "nbformat_minor": 2
}
